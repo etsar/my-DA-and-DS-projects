{
 "cells": [
  {
   "cell_type": "markdown",
   "id": "2b18f4a4",
   "metadata": {},
   "source": [
    "# Determination of a profitable plan for the telecom company \"Megaline\""
   ]
  },
  {
   "cell_type": "markdown",
   "id": "499d27a7",
   "metadata": {
    "toc": true
   },
   "source": [
    "<h1>Table of Contents<span class=\"tocSkip\"></span></h1>\n",
    "<div class=\"toc\"><ul class=\"toc-item\"><li><span><a href=\"#Data-exploration\" data-toc-modified-id=\"Data-exploration-1\"><span class=\"toc-item-num\">1&nbsp;&nbsp;</span>Data exploration</a></span><ul class=\"toc-item\"><li><span><a href=\"#Conclusion\" data-toc-modified-id=\"Conclusion-1.1\"><span class=\"toc-item-num\">1.1&nbsp;&nbsp;</span>Conclusion</a></span></li></ul></li><li><span><a href=\"#Data-preprocessing\" data-toc-modified-id=\"Data-preprocessing-2\"><span class=\"toc-item-num\">2&nbsp;&nbsp;</span>Data preprocessing</a></span><ul class=\"toc-item\"><li><span><a href=\"#Checking-for-duplicates\" data-toc-modified-id=\"Checking-for-duplicates-2.1\"><span class=\"toc-item-num\">2.1&nbsp;&nbsp;</span>Checking for duplicates</a></span></li><li><span><a href=\"#Analysis-of-missing-values\" data-toc-modified-id=\"Analysis-of-missing-values-2.2\"><span class=\"toc-item-num\">2.2&nbsp;&nbsp;</span>Analysis of missing values</a></span></li><li><span><a href=\"#Changing-data-types,-finding-and-correcting-data-errors\" data-toc-modified-id=\"Changing-data-types,-finding-and-correcting-data-errors-2.3\"><span class=\"toc-item-num\">2.3&nbsp;&nbsp;</span>Changing data types, finding and correcting data errors</a></span></li><li><span><a href=\"#Merging-tables\" data-toc-modified-id=\"Merging-tables-2.4\"><span class=\"toc-item-num\">2.4&nbsp;&nbsp;</span>Merging tables</a></span></li><li><span><a href=\"#Calculations\" data-toc-modified-id=\"Calculations-2.5\"><span class=\"toc-item-num\">2.5&nbsp;&nbsp;</span>Calculations</a></span></li><li><span><a href=\"#Conclusion\" data-toc-modified-id=\"Conclusion-2.6\"><span class=\"toc-item-num\">2.6&nbsp;&nbsp;</span>Conclusion</a></span></li></ul></li><li><span><a href=\"#Exploratory-data-analysis\" data-toc-modified-id=\"Exploratory-data-analysis-3\"><span class=\"toc-item-num\">3&nbsp;&nbsp;</span>Exploratory data analysis</a></span><ul class=\"toc-item\"><li><span><a href=\"#Conclusion\" data-toc-modified-id=\"Conclusion-3.1\"><span class=\"toc-item-num\">3.1&nbsp;&nbsp;</span>Conclusion</a></span></li></ul></li><li><span><a href=\"#Statistical-hypothesis-testing\" data-toc-modified-id=\"Statistical-hypothesis-testing-4\"><span class=\"toc-item-num\">4&nbsp;&nbsp;</span>Statistical hypothesis testing</a></span><ul class=\"toc-item\"><li><span><a href=\"#Comparison-of-the-two-tariffs-users'-revenue\" data-toc-modified-id=\"Comparison-of-the-two-tariffs-users'-revenue-4.1\"><span class=\"toc-item-num\">4.1&nbsp;&nbsp;</span>Comparison of the two tariffs users' revenue</a></span></li><li><span><a href=\"#Comparison-of-revenue-from-users-in-Moscow-area--and-from-other-regions-users\" data-toc-modified-id=\"Comparison-of-revenue-from-users-in-Moscow-area--and-from-other-regions-users-4.2\"><span class=\"toc-item-num\">4.2&nbsp;&nbsp;</span>Comparison of revenue from users in Moscow area  and from other regions users</a></span></li><li><span><a href=\"#Conclusion\" data-toc-modified-id=\"Conclusion-4.3\"><span class=\"toc-item-num\">4.3&nbsp;&nbsp;</span>Conclusion</a></span></li></ul></li><li><span><a href=\"#Results-and-Conclusion\" data-toc-modified-id=\"Results-and-Conclusion-5\"><span class=\"toc-item-num\">5&nbsp;&nbsp;</span>Results and Conclusion</a></span></li></ul></div>"
   ]
  },
  {
   "cell_type": "markdown",
   "id": "67556524",
   "metadata": {},
   "source": [
    "\"Megaline\" is a large telecom operator. The company offers its clients two prepaid plans, Smart and Ultra. The commercial department wants to know which of the plans brings in more revenue in order to adjust the advertising budget.\n",
    "<br>We are going to carry out a preliminary analysis of the plans based on a relatively small client selection. We'll have the data on 500 Megaline clients: who the clients are, where they're from, which plan they used, and the number of calls they made and text messages they sent in 2018. We need to analyze the clients' behavior and **determine which prepaid plan brings in more revenue**."
   ]
  },
  {
   "cell_type": "markdown",
   "id": "7eac47b2",
   "metadata": {},
   "source": [
    "**Plans description:**\n",
    "\n",
    "<mark>**«Smart»**</mark>\n",
    "1. Price: 550 rubles/month\n",
    "2. Includes 500 minutes, 50 text messages and 15 GB of internet traffic\n",
    "3. The cost of services after exceeding the package limits:\n",
    "    - additional charge per minute: 3 rubles\n",
    "    - additional charge per text message: 3 rubles\n",
    "    - additional charge per 1 GB of internet traffic: 200 rubles\n",
    "\n",
    "<mark>**«Ultra»**</mark>\n",
    "1. Price: 1950 rubles/month\n",
    "2. Includes 3000 minutes, 1000 text messages and 30 GB of internet traffic\n",
    "3. The cost of services after exceeding the package limits:\n",
    "    - additional charge per minute: 1 ruble\n",
    "    - additional charge per text message: 1 ruble\n",
    "    - additional charge per 1 GB of internet traffic: 150 rubles\n",
    "\n",
    "**Note:**\n",
    "\n",
    "Megaline rounds seconds up to minutes, and megabytes to gigabytes. For calls, each individual call is rounded up: even if the call lasted just one second, it will be counted as one minute.\n",
    "<br>For web traffic, individual web sessions are not rounded up. Instead, the total for the month is rounded up. If someone uses 1025 megabytes this month, they will be charged for 2 gigabytes."
   ]
  },
  {
   "cell_type": "markdown",
   "id": "ae680927",
   "metadata": {},
   "source": [
    "**The purpose of the study** is to test two statistical hypotheses:\n",
    "1. the average revenue from users of the Ultra and Smart calling plans differs;\n",
    "2. the average revenue from users in Moscow area is different from that of the users from other regions."
   ]
  },
  {
   "cell_type": "markdown",
   "id": "bd495a9d",
   "metadata": {},
   "source": [
    "**Research progress**\n",
    "\n",
    "The study will be carried out in four steps:\n",
    "1. Data exploration\n",
    "2. Data preprocessing, performing calculations and adding results to a table\n",
    "3. Exploratory data analysis\n",
    "4. Statistical hypothesis testing"
   ]
  },
  {
   "cell_type": "markdown",
   "id": "927ffa66",
   "metadata": {},
   "source": [
    "<hr>"
   ]
  },
  {
   "cell_type": "markdown",
   "id": "de2cde01",
   "metadata": {},
   "source": [
    "## Data exploration\n",
    "<a id='explore'></a>"
   ]
  },
  {
   "cell_type": "code",
   "execution_count": 1,
   "id": "19080b23",
   "metadata": {},
   "outputs": [],
   "source": [
    "# import of libraries\n",
    "import matplotlib.pyplot as plt\n",
    "import numpy as np\n",
    "import pandas as pd\n",
    "from scipy import stats as st"
   ]
  },
  {
   "cell_type": "code",
   "execution_count": 2,
   "id": "70a9f88f",
   "metadata": {},
   "outputs": [],
   "source": [
    "calls = pd.read_csv('/datasets/calls.csv')\n",
    "internet = pd.read_csv('/datasets/internet.csv',  index_col=0)\n",
    "messages = pd.read_csv('/datasets/messages.csv')\n",
    "tariffs = pd.read_csv('/datasets/tariffs.csv')\n",
    "users = pd.read_csv('/datasets/users.csv')\n",
    "# display all columns\n",
    "pd.set_option('display.max_columns', None)"
   ]
  },
  {
   "cell_type": "code",
   "execution_count": 3,
   "id": "b46effba",
   "metadata": {},
   "outputs": [],
   "source": [
    "# naming of dataframes\n",
    "calls.name='calls'\n",
    "internet.name='internet'\n",
    "messages.name='messages'\n",
    "tariffs.name='tariffs'\n",
    "users.name='users'"
   ]
  },
  {
   "cell_type": "markdown",
   "id": "d68a09bc",
   "metadata": {},
   "source": [
    "The data is split into multiple dataframes. Let's explore each one to get an initial understanding of the data:"
   ]
  },
  {
   "cell_type": "code",
   "execution_count": 4,
   "id": "dd68fa77",
   "metadata": {
    "scrolled": false
   },
   "outputs": [
    {
     "name": "stdout",
     "output_type": "stream",
     "text": [
      "\n",
      "Table name: calls\n"
     ]
    },
    {
     "data": {
      "text/html": [
       "<div>\n",
       "<style scoped>\n",
       "    .dataframe tbody tr th:only-of-type {\n",
       "        vertical-align: middle;\n",
       "    }\n",
       "\n",
       "    .dataframe tbody tr th {\n",
       "        vertical-align: top;\n",
       "    }\n",
       "\n",
       "    .dataframe thead th {\n",
       "        text-align: right;\n",
       "    }\n",
       "</style>\n",
       "<table border=\"1\" class=\"dataframe\">\n",
       "  <thead>\n",
       "    <tr style=\"text-align: right;\">\n",
       "      <th></th>\n",
       "      <th>id</th>\n",
       "      <th>call_date</th>\n",
       "      <th>duration</th>\n",
       "      <th>user_id</th>\n",
       "    </tr>\n",
       "  </thead>\n",
       "  <tbody>\n",
       "    <tr>\n",
       "      <th>0</th>\n",
       "      <td>1000_0</td>\n",
       "      <td>2018-07-25</td>\n",
       "      <td>0.00</td>\n",
       "      <td>1000</td>\n",
       "    </tr>\n",
       "    <tr>\n",
       "      <th>1</th>\n",
       "      <td>1000_1</td>\n",
       "      <td>2018-08-17</td>\n",
       "      <td>0.00</td>\n",
       "      <td>1000</td>\n",
       "    </tr>\n",
       "    <tr>\n",
       "      <th>2</th>\n",
       "      <td>1000_2</td>\n",
       "      <td>2018-06-11</td>\n",
       "      <td>2.85</td>\n",
       "      <td>1000</td>\n",
       "    </tr>\n",
       "    <tr>\n",
       "      <th>3</th>\n",
       "      <td>1000_3</td>\n",
       "      <td>2018-09-21</td>\n",
       "      <td>13.80</td>\n",
       "      <td>1000</td>\n",
       "    </tr>\n",
       "    <tr>\n",
       "      <th>4</th>\n",
       "      <td>1000_4</td>\n",
       "      <td>2018-12-15</td>\n",
       "      <td>5.18</td>\n",
       "      <td>1000</td>\n",
       "    </tr>\n",
       "  </tbody>\n",
       "</table>\n",
       "</div>"
      ],
      "text/plain": [
       "       id   call_date  duration  user_id\n",
       "0  1000_0  2018-07-25      0.00     1000\n",
       "1  1000_1  2018-08-17      0.00     1000\n",
       "2  1000_2  2018-06-11      2.85     1000\n",
       "3  1000_3  2018-09-21     13.80     1000\n",
       "4  1000_4  2018-12-15      5.18     1000"
      ]
     },
     "metadata": {},
     "output_type": "display_data"
    },
    {
     "name": "stdout",
     "output_type": "stream",
     "text": [
      "\n",
      "Table name: internet\n"
     ]
    },
    {
     "data": {
      "text/html": [
       "<div>\n",
       "<style scoped>\n",
       "    .dataframe tbody tr th:only-of-type {\n",
       "        vertical-align: middle;\n",
       "    }\n",
       "\n",
       "    .dataframe tbody tr th {\n",
       "        vertical-align: top;\n",
       "    }\n",
       "\n",
       "    .dataframe thead th {\n",
       "        text-align: right;\n",
       "    }\n",
       "</style>\n",
       "<table border=\"1\" class=\"dataframe\">\n",
       "  <thead>\n",
       "    <tr style=\"text-align: right;\">\n",
       "      <th></th>\n",
       "      <th>id</th>\n",
       "      <th>mb_used</th>\n",
       "      <th>session_date</th>\n",
       "      <th>user_id</th>\n",
       "    </tr>\n",
       "  </thead>\n",
       "  <tbody>\n",
       "    <tr>\n",
       "      <th>0</th>\n",
       "      <td>1000_0</td>\n",
       "      <td>112.95</td>\n",
       "      <td>2018-11-25</td>\n",
       "      <td>1000</td>\n",
       "    </tr>\n",
       "    <tr>\n",
       "      <th>1</th>\n",
       "      <td>1000_1</td>\n",
       "      <td>1052.81</td>\n",
       "      <td>2018-09-07</td>\n",
       "      <td>1000</td>\n",
       "    </tr>\n",
       "    <tr>\n",
       "      <th>2</th>\n",
       "      <td>1000_2</td>\n",
       "      <td>1197.26</td>\n",
       "      <td>2018-06-25</td>\n",
       "      <td>1000</td>\n",
       "    </tr>\n",
       "    <tr>\n",
       "      <th>3</th>\n",
       "      <td>1000_3</td>\n",
       "      <td>550.27</td>\n",
       "      <td>2018-08-22</td>\n",
       "      <td>1000</td>\n",
       "    </tr>\n",
       "    <tr>\n",
       "      <th>4</th>\n",
       "      <td>1000_4</td>\n",
       "      <td>302.56</td>\n",
       "      <td>2018-09-24</td>\n",
       "      <td>1000</td>\n",
       "    </tr>\n",
       "  </tbody>\n",
       "</table>\n",
       "</div>"
      ],
      "text/plain": [
       "       id  mb_used session_date  user_id\n",
       "0  1000_0   112.95   2018-11-25     1000\n",
       "1  1000_1  1052.81   2018-09-07     1000\n",
       "2  1000_2  1197.26   2018-06-25     1000\n",
       "3  1000_3   550.27   2018-08-22     1000\n",
       "4  1000_4   302.56   2018-09-24     1000"
      ]
     },
     "metadata": {},
     "output_type": "display_data"
    },
    {
     "name": "stdout",
     "output_type": "stream",
     "text": [
      "\n",
      "Table name: messages\n"
     ]
    },
    {
     "data": {
      "text/html": [
       "<div>\n",
       "<style scoped>\n",
       "    .dataframe tbody tr th:only-of-type {\n",
       "        vertical-align: middle;\n",
       "    }\n",
       "\n",
       "    .dataframe tbody tr th {\n",
       "        vertical-align: top;\n",
       "    }\n",
       "\n",
       "    .dataframe thead th {\n",
       "        text-align: right;\n",
       "    }\n",
       "</style>\n",
       "<table border=\"1\" class=\"dataframe\">\n",
       "  <thead>\n",
       "    <tr style=\"text-align: right;\">\n",
       "      <th></th>\n",
       "      <th>id</th>\n",
       "      <th>message_date</th>\n",
       "      <th>user_id</th>\n",
       "    </tr>\n",
       "  </thead>\n",
       "  <tbody>\n",
       "    <tr>\n",
       "      <th>0</th>\n",
       "      <td>1000_0</td>\n",
       "      <td>2018-06-27</td>\n",
       "      <td>1000</td>\n",
       "    </tr>\n",
       "    <tr>\n",
       "      <th>1</th>\n",
       "      <td>1000_1</td>\n",
       "      <td>2018-10-08</td>\n",
       "      <td>1000</td>\n",
       "    </tr>\n",
       "    <tr>\n",
       "      <th>2</th>\n",
       "      <td>1000_2</td>\n",
       "      <td>2018-08-04</td>\n",
       "      <td>1000</td>\n",
       "    </tr>\n",
       "    <tr>\n",
       "      <th>3</th>\n",
       "      <td>1000_3</td>\n",
       "      <td>2018-06-16</td>\n",
       "      <td>1000</td>\n",
       "    </tr>\n",
       "    <tr>\n",
       "      <th>4</th>\n",
       "      <td>1000_4</td>\n",
       "      <td>2018-12-05</td>\n",
       "      <td>1000</td>\n",
       "    </tr>\n",
       "  </tbody>\n",
       "</table>\n",
       "</div>"
      ],
      "text/plain": [
       "       id message_date  user_id\n",
       "0  1000_0   2018-06-27     1000\n",
       "1  1000_1   2018-10-08     1000\n",
       "2  1000_2   2018-08-04     1000\n",
       "3  1000_3   2018-06-16     1000\n",
       "4  1000_4   2018-12-05     1000"
      ]
     },
     "metadata": {},
     "output_type": "display_data"
    },
    {
     "name": "stdout",
     "output_type": "stream",
     "text": [
      "\n",
      "Table name: tariffs\n"
     ]
    },
    {
     "data": {
      "text/html": [
       "<div>\n",
       "<style scoped>\n",
       "    .dataframe tbody tr th:only-of-type {\n",
       "        vertical-align: middle;\n",
       "    }\n",
       "\n",
       "    .dataframe tbody tr th {\n",
       "        vertical-align: top;\n",
       "    }\n",
       "\n",
       "    .dataframe thead th {\n",
       "        text-align: right;\n",
       "    }\n",
       "</style>\n",
       "<table border=\"1\" class=\"dataframe\">\n",
       "  <thead>\n",
       "    <tr style=\"text-align: right;\">\n",
       "      <th></th>\n",
       "      <th>messages_included</th>\n",
       "      <th>mb_per_month_included</th>\n",
       "      <th>minutes_included</th>\n",
       "      <th>rub_monthly_fee</th>\n",
       "      <th>rub_per_gb</th>\n",
       "      <th>rub_per_message</th>\n",
       "      <th>rub_per_minute</th>\n",
       "      <th>tariff_name</th>\n",
       "    </tr>\n",
       "  </thead>\n",
       "  <tbody>\n",
       "    <tr>\n",
       "      <th>0</th>\n",
       "      <td>50</td>\n",
       "      <td>15360</td>\n",
       "      <td>500</td>\n",
       "      <td>550</td>\n",
       "      <td>200</td>\n",
       "      <td>3</td>\n",
       "      <td>3</td>\n",
       "      <td>smart</td>\n",
       "    </tr>\n",
       "    <tr>\n",
       "      <th>1</th>\n",
       "      <td>1000</td>\n",
       "      <td>30720</td>\n",
       "      <td>3000</td>\n",
       "      <td>1950</td>\n",
       "      <td>150</td>\n",
       "      <td>1</td>\n",
       "      <td>1</td>\n",
       "      <td>ultra</td>\n",
       "    </tr>\n",
       "  </tbody>\n",
       "</table>\n",
       "</div>"
      ],
      "text/plain": [
       "   messages_included  mb_per_month_included  minutes_included  \\\n",
       "0                 50                  15360               500   \n",
       "1               1000                  30720              3000   \n",
       "\n",
       "   rub_monthly_fee  rub_per_gb  rub_per_message  rub_per_minute tariff_name  \n",
       "0              550         200                3               3       smart  \n",
       "1             1950         150                1               1       ultra  "
      ]
     },
     "metadata": {},
     "output_type": "display_data"
    },
    {
     "name": "stdout",
     "output_type": "stream",
     "text": [
      "\n",
      "Table name: users\n"
     ]
    },
    {
     "data": {
      "text/html": [
       "<div>\n",
       "<style scoped>\n",
       "    .dataframe tbody tr th:only-of-type {\n",
       "        vertical-align: middle;\n",
       "    }\n",
       "\n",
       "    .dataframe tbody tr th {\n",
       "        vertical-align: top;\n",
       "    }\n",
       "\n",
       "    .dataframe thead th {\n",
       "        text-align: right;\n",
       "    }\n",
       "</style>\n",
       "<table border=\"1\" class=\"dataframe\">\n",
       "  <thead>\n",
       "    <tr style=\"text-align: right;\">\n",
       "      <th></th>\n",
       "      <th>user_id</th>\n",
       "      <th>age</th>\n",
       "      <th>churn_date</th>\n",
       "      <th>city</th>\n",
       "      <th>first_name</th>\n",
       "      <th>last_name</th>\n",
       "      <th>reg_date</th>\n",
       "      <th>tariff</th>\n",
       "    </tr>\n",
       "  </thead>\n",
       "  <tbody>\n",
       "    <tr>\n",
       "      <th>0</th>\n",
       "      <td>1000</td>\n",
       "      <td>52</td>\n",
       "      <td>NaN</td>\n",
       "      <td>Краснодар</td>\n",
       "      <td>Рафаил</td>\n",
       "      <td>Верещагин</td>\n",
       "      <td>2018-05-25</td>\n",
       "      <td>ultra</td>\n",
       "    </tr>\n",
       "    <tr>\n",
       "      <th>1</th>\n",
       "      <td>1001</td>\n",
       "      <td>41</td>\n",
       "      <td>NaN</td>\n",
       "      <td>Москва</td>\n",
       "      <td>Иван</td>\n",
       "      <td>Ежов</td>\n",
       "      <td>2018-11-01</td>\n",
       "      <td>smart</td>\n",
       "    </tr>\n",
       "    <tr>\n",
       "      <th>2</th>\n",
       "      <td>1002</td>\n",
       "      <td>59</td>\n",
       "      <td>NaN</td>\n",
       "      <td>Стерлитамак</td>\n",
       "      <td>Евгений</td>\n",
       "      <td>Абрамович</td>\n",
       "      <td>2018-06-17</td>\n",
       "      <td>smart</td>\n",
       "    </tr>\n",
       "    <tr>\n",
       "      <th>3</th>\n",
       "      <td>1003</td>\n",
       "      <td>23</td>\n",
       "      <td>NaN</td>\n",
       "      <td>Москва</td>\n",
       "      <td>Белла</td>\n",
       "      <td>Белякова</td>\n",
       "      <td>2018-08-17</td>\n",
       "      <td>ultra</td>\n",
       "    </tr>\n",
       "    <tr>\n",
       "      <th>4</th>\n",
       "      <td>1004</td>\n",
       "      <td>68</td>\n",
       "      <td>NaN</td>\n",
       "      <td>Новокузнецк</td>\n",
       "      <td>Татьяна</td>\n",
       "      <td>Авдеенко</td>\n",
       "      <td>2018-05-14</td>\n",
       "      <td>ultra</td>\n",
       "    </tr>\n",
       "  </tbody>\n",
       "</table>\n",
       "</div>"
      ],
      "text/plain": [
       "   user_id  age churn_date         city first_name  last_name    reg_date  \\\n",
       "0     1000   52        NaN    Краснодар     Рафаил  Верещагин  2018-05-25   \n",
       "1     1001   41        NaN       Москва       Иван       Ежов  2018-11-01   \n",
       "2     1002   59        NaN  Стерлитамак    Евгений  Абрамович  2018-06-17   \n",
       "3     1003   23        NaN       Москва      Белла   Белякова  2018-08-17   \n",
       "4     1004   68        NaN  Новокузнецк    Татьяна   Авдеенко  2018-05-14   \n",
       "\n",
       "  tariff  \n",
       "0  ultra  \n",
       "1  smart  \n",
       "2  smart  \n",
       "3  ultra  \n",
       "4  ultra  "
      ]
     },
     "metadata": {},
     "output_type": "display_data"
    }
   ],
   "source": [
    "# list of tables\n",
    "dfs = [calls, internet, messages, tariffs, users]\n",
    "# let's get the first 5 rows of each table using a for loop\n",
    "for df in dfs:\n",
    "    print('\\nTable name:', df.name)\n",
    "    display(df.head())"
   ]
  },
  {
   "cell_type": "code",
   "execution_count": 5,
   "id": "c2201710",
   "metadata": {
    "scrolled": false
   },
   "outputs": [
    {
     "name": "stdout",
     "output_type": "stream",
     "text": [
      "\n",
      "Table name: calls\n",
      "<class 'pandas.core.frame.DataFrame'>\n",
      "RangeIndex: 202607 entries, 0 to 202606\n",
      "Data columns (total 4 columns):\n",
      " #   Column     Non-Null Count   Dtype  \n",
      "---  ------     --------------   -----  \n",
      " 0   id         202607 non-null  object \n",
      " 1   call_date  202607 non-null  object \n",
      " 2   duration   202607 non-null  float64\n",
      " 3   user_id    202607 non-null  int64  \n",
      "dtypes: float64(1), int64(1), object(2)\n",
      "memory usage: 6.2+ MB\n",
      "\n",
      "Table name: internet\n",
      "<class 'pandas.core.frame.DataFrame'>\n",
      "Int64Index: 149396 entries, 0 to 149395\n",
      "Data columns (total 4 columns):\n",
      " #   Column        Non-Null Count   Dtype  \n",
      "---  ------        --------------   -----  \n",
      " 0   id            149396 non-null  object \n",
      " 1   mb_used       149396 non-null  float64\n",
      " 2   session_date  149396 non-null  object \n",
      " 3   user_id       149396 non-null  int64  \n",
      "dtypes: float64(1), int64(1), object(2)\n",
      "memory usage: 5.7+ MB\n",
      "\n",
      "Table name: messages\n",
      "<class 'pandas.core.frame.DataFrame'>\n",
      "RangeIndex: 123036 entries, 0 to 123035\n",
      "Data columns (total 3 columns):\n",
      " #   Column        Non-Null Count   Dtype \n",
      "---  ------        --------------   ----- \n",
      " 0   id            123036 non-null  object\n",
      " 1   message_date  123036 non-null  object\n",
      " 2   user_id       123036 non-null  int64 \n",
      "dtypes: int64(1), object(2)\n",
      "memory usage: 2.8+ MB\n",
      "\n",
      "Table name: tariffs\n",
      "<class 'pandas.core.frame.DataFrame'>\n",
      "RangeIndex: 2 entries, 0 to 1\n",
      "Data columns (total 8 columns):\n",
      " #   Column                 Non-Null Count  Dtype \n",
      "---  ------                 --------------  ----- \n",
      " 0   messages_included      2 non-null      int64 \n",
      " 1   mb_per_month_included  2 non-null      int64 \n",
      " 2   minutes_included       2 non-null      int64 \n",
      " 3   rub_monthly_fee        2 non-null      int64 \n",
      " 4   rub_per_gb             2 non-null      int64 \n",
      " 5   rub_per_message        2 non-null      int64 \n",
      " 6   rub_per_minute         2 non-null      int64 \n",
      " 7   tariff_name            2 non-null      object\n",
      "dtypes: int64(7), object(1)\n",
      "memory usage: 256.0+ bytes\n",
      "\n",
      "Table name: users\n",
      "<class 'pandas.core.frame.DataFrame'>\n",
      "RangeIndex: 500 entries, 0 to 499\n",
      "Data columns (total 8 columns):\n",
      " #   Column      Non-Null Count  Dtype \n",
      "---  ------      --------------  ----- \n",
      " 0   user_id     500 non-null    int64 \n",
      " 1   age         500 non-null    int64 \n",
      " 2   churn_date  38 non-null     object\n",
      " 3   city        500 non-null    object\n",
      " 4   first_name  500 non-null    object\n",
      " 5   last_name   500 non-null    object\n",
      " 6   reg_date    500 non-null    object\n",
      " 7   tariff      500 non-null    object\n",
      "dtypes: int64(2), object(6)\n",
      "memory usage: 31.4+ KB\n"
     ]
    }
   ],
   "source": [
    "# let's get general info about each table using a for loop\n",
    "for df in dfs:\n",
    "    print('\\nTable name:', df.name)\n",
    "    df.info()"
   ]
  },
  {
   "cell_type": "markdown",
   "id": "4911077d",
   "metadata": {},
   "source": [
    "**Let's describe the data for each of the tables:**\n",
    "\n",
    "The `calls` table contains the following information about calls:\n",
    "- `id` — unique call identifier\n",
    "- `call_date` — call date\n",
    "- `duration` — call duration (in minutes)\n",
    "- `user_id` — identifier of the user making the call\n",
    "\n",
    "<mark>There are no missing values.\n",
    "<br>It is necessary to change data type of the `call_date` column into *datetime* format. \n",
    "<br>In addition, the type of the `duration` column should be changed into *int* since the company rounds seconds up to minutes.</mark>"
   ]
  },
  {
   "cell_type": "markdown",
   "id": "df69790e",
   "metadata": {},
   "source": [
    "The `internet` table contains the following information about web sessions:\n",
    "- `id` — unique session identifier\n",
    "- `mb_used` — the amount of data spent during the session (in megabytes)\n",
    "- `session_date` — web session date\n",
    "- `user_id` — user identifier\n",
    "\n",
    "<mark>There are no missing values.\n",
    "<br>It is necessary to change data type of the `session_date` column into *datetime* format.</mark>"
   ]
  },
  {
   "cell_type": "markdown",
   "id": "da93d859",
   "metadata": {},
   "source": [
    "The `messages` table contains the following information about text messages:\n",
    "- `id` — unique text message identifier\n",
    "- `message_date` — text message date\n",
    "- `user_id` — the identifier of the user sending the text\n",
    "\n",
    "<mark>There are no missing values.\n",
    "<br>It is necessary to change data type of the `message_date` column into *datetime* format.</mark>"
   ]
  },
  {
   "cell_type": "markdown",
   "id": "5117d5cf",
   "metadata": {},
   "source": [
    "The `tariffs` table contains the following information about prepaid plans:\n",
    "- `tariff_name` — plan name\n",
    "- `rub_monthly_fee` — monthly charge in rubles\n",
    "- `minutes_included` — monthly minute allowance\n",
    "- `messages_included` — monthly text allowance\n",
    "- `mb_per_month_included` — data amount allowance (in megabytes)\n",
    "- `rub_per_minute` — price per minute after exceeding the package limits (e.g., if the package includes 100 minutes, the 101st minute will be charged)\n",
    "- `rub_per_message` — price per text after exceeding the package limits\n",
    "- `rub_per_gb` — price per extra gigabyte of data after exceeding the package limits (1 GB = 1024 megabytes)\n",
    "\n",
    "<mark>There are no missing values.\n",
    "<br>The columns have correct datatypes.</mark>"
   ]
  },
  {
   "cell_type": "markdown",
   "id": "7e39001c",
   "metadata": {},
   "source": [
    "The `users` table contains the following information about users:\n",
    "- `user_id` — unique user identifier\n",
    "- `first_name` — user's name\n",
    "- `last_name` — user's last name\n",
    "- `age` — user's age (years)\n",
    "- `reg_date` —  subscription date (dd, mm, yy)\n",
    "- `churn_date` — the date the user stopped using the service (if the value is missing, the calling plan was being used when this database was extracted)\n",
    "- `city` — user's city of residence\n",
    "- `tariff` — plan name\n",
    "\n",
    "<mark>There are a lot of missing values in the `churn_date` column. According to the description of the data, if the value is missing, the calling plan was being used when the data was extracted.\n",
    "<br>It is necessary to change data type of the `churn_date` and `reg_date` columns into *datetime* format.</mark>"
   ]
  },
  {
   "cell_type": "markdown",
   "id": "ebfee28a",
   "metadata": {},
   "source": [
    "### Conclusion"
   ]
  },
  {
   "cell_type": "markdown",
   "id": "3dc7de5f",
   "metadata": {},
   "source": [
    "Based on a preliminary analysis of the tables, it is needed to perform the following procedures:\n",
    "- to change datatype of the columns in some of the tables into *datetime*. The procedures will be performed in section [2.3](#change_type).\n",
    "- to explore missing values. The procedures will be performed in section [2.2](#missed_values).\n",
    "- to check data for duplicates. The procedures will be performed in section [2.1](#duplicates).\n",
    "- to merge tables into one dataframe. The procedures will be performed in section [2.4](#merge)\n",
    "- to perform some calculations necessary for further analysis. The procedures will be performed in section [2.5](#computations)."
   ]
  },
  {
   "cell_type": "markdown",
   "id": "b8437560",
   "metadata": {},
   "source": [
    "<hr>"
   ]
  },
  {
   "cell_type": "markdown",
   "id": "8143686e",
   "metadata": {},
   "source": [
    "## Data preprocessing"
   ]
  },
  {
   "cell_type": "markdown",
   "id": "a7fa48ad",
   "metadata": {},
   "source": [
    "### Checking for duplicates\n",
    "<a id='duplicates'></a>"
   ]
  },
  {
   "cell_type": "markdown",
   "id": "4cc30f5d",
   "metadata": {},
   "source": [
    "First, let's calculate how many explicit duplicates are in each table:"
   ]
  },
  {
   "cell_type": "code",
   "execution_count": 6,
   "id": "35c6c51a",
   "metadata": {},
   "outputs": [
    {
     "name": "stdout",
     "output_type": "stream",
     "text": [
      "Number of explicit duplicates in the \"calls\" table: 0\n",
      "Number of explicit duplicates in the \"internet\" table: 0\n",
      "Number of explicit duplicates in the \"messages\" table: 0\n",
      "Number of explicit duplicates in the \"tariffs\" table: 0\n",
      "Number of explicit duplicates in the \"users\" table: 0\n"
     ]
    }
   ],
   "source": [
    "for df in dfs:\n",
    "    print(f'Number of explicit duplicates in the \"{df.name}\" table: {df.duplicated().sum()}')"
   ]
  },
  {
   "cell_type": "markdown",
   "id": "a66fd9fd",
   "metadata": {},
   "source": [
    "<mark>No explicit duplicates were found in the tables.</mark>"
   ]
  },
  {
   "cell_type": "markdown",
   "id": "c707fb9c",
   "metadata": {},
   "source": [
    "Let's check for implicit duplicates in the `users` table in the following columns: \n",
    "- with the name of the city of residence (`city`), \n",
    "- as well as with the name of the plan (`tariff`). \n",
    "\n",
    "The presence of implicit duplicates in other columns is considered unlikely."
   ]
  },
  {
   "cell_type": "code",
   "execution_count": 7,
   "id": "8f43e7a9",
   "metadata": {},
   "outputs": [
    {
     "data": {
      "text/plain": [
       "array(['Архангельск', 'Астрахань', 'Балашиха', 'Барнаул', 'Белгород',\n",
       "       'Брянск', 'Владивосток', 'Владикавказ', 'Владимир', 'Волгоград',\n",
       "       'Волжский', 'Вологда', 'Воронеж', 'Грозный', 'Екатеринбург',\n",
       "       'Иваново', 'Ижевск', 'Иркутск', 'Казань', 'Калининград', 'Калуга',\n",
       "       'Кемерово', 'Киров', 'Кострома', 'Краснодар', 'Красноярск',\n",
       "       'Курган', 'Курск', 'Липецк', 'Магнитогорск', 'Махачкала', 'Москва',\n",
       "       'Мурманск', 'Набережные Челны', 'Нижневартовск', 'Нижний Новгород',\n",
       "       'Нижний Тагил', 'Новокузнецк', 'Новороссийск', 'Новосибирск',\n",
       "       'Омск', 'Оренбург', 'Орёл', 'Пенза', 'Пермь', 'Петрозаводск',\n",
       "       'Подольск', 'Ростов-на-Дону', 'Рязань', 'Самара',\n",
       "       'Санкт-Петербург', 'Саранск', 'Саратов', 'Севастополь', 'Смоленск',\n",
       "       'Сочи', 'Ставрополь', 'Стерлитамак', 'Сургут', 'Тамбов', 'Тверь',\n",
       "       'Тольятти', 'Томск', 'Тула', 'Тюмень', 'Улан-Удэ', 'Ульяновск',\n",
       "       'Уфа', 'Хабаровск', 'Химки', 'Чебоксары', 'Челябинск', 'Череповец',\n",
       "       'Чита', 'Якутск', 'Ярославль'], dtype=object)"
      ]
     },
     "execution_count": 7,
     "metadata": {},
     "output_type": "execute_result"
    }
   ],
   "source": [
    "users['city'].sort_values().unique()"
   ]
  },
  {
   "cell_type": "code",
   "execution_count": 8,
   "id": "e93f2145",
   "metadata": {
    "scrolled": true
   },
   "outputs": [
    {
     "data": {
      "text/plain": [
       "array(['smart', 'ultra'], dtype=object)"
      ]
     },
     "execution_count": 8,
     "metadata": {},
     "output_type": "execute_result"
    }
   ],
   "source": [
    "users['tariff'].sort_values().unique()"
   ]
  },
  {
   "cell_type": "markdown",
   "id": "84a8708d",
   "metadata": {},
   "source": [
    "<mark>No implicit duplicates were found in the tables as well.</mark>"
   ]
  },
  {
   "cell_type": "markdown",
   "id": "58597dcd",
   "metadata": {},
   "source": [
    "### Analysis of missing values \n",
    "<a id='missed_values'></a>"
   ]
  },
  {
   "cell_type": "markdown",
   "id": "3f27c0f7",
   "metadata": {},
   "source": [
    "In the [Data exploration](#explore) section we identified missing values only in the `churn_date` column of the `users` table. \n",
    "<br>First, let's calculate how many missing values are in this column."
   ]
  },
  {
   "cell_type": "code",
   "execution_count": 9,
   "id": "61b5a2e3",
   "metadata": {
    "scrolled": true
   },
   "outputs": [
    {
     "data": {
      "text/plain": [
       "sum     462.000\n",
       "mean      0.924\n",
       "Name: churn_date, dtype: float64"
      ]
     },
     "execution_count": 9,
     "metadata": {},
     "output_type": "execute_result"
    }
   ],
   "source": [
    "users['churn_date'].isna().agg(['sum', 'mean'])"
   ]
  },
  {
   "cell_type": "markdown",
   "id": "1fc96c5c",
   "metadata": {},
   "source": [
    "There are a lot of missing values - 92% of all values in this column are missing.\n",
    "<br>According to the description of the data, if the value is missing, the calling plan was being used when the data was extracted.\n",
    "<br>Thus, <mark>there is no need to replace these missing values in this case.</mark>"
   ]
  },
  {
   "cell_type": "markdown",
   "id": "f70dbb4a",
   "metadata": {},
   "source": [
    "### Changing data types, finding and correcting data errors\n",
    "<a id='change_type'></a>"
   ]
  },
  {
   "cell_type": "markdown",
   "id": "059a7007",
   "metadata": {},
   "source": [
    "Let's change the datatype from *object* to *datetime* in the following columns:\n",
    "- `call_date` (the `calls` table)\n",
    "- `session_date` (the `internet` table)\n",
    "- `message_date` (the `messages` table)\n",
    "- `churn_date` and  `reg_date` (the `users` table)"
   ]
  },
  {
   "cell_type": "code",
   "execution_count": 10,
   "id": "9ecab8dc",
   "metadata": {},
   "outputs": [],
   "source": [
    "calls['call_date'] = pd.to_datetime(calls['call_date'], format='%Y-%m-%d')\n",
    "internet['session_date'] = pd.to_datetime(internet['session_date'], format='%Y-%m-%d')\n",
    "messages['message_date'] = pd.to_datetime(messages['message_date'], format='%Y-%m-%d')\n",
    "users['churn_date'] = pd.to_datetime(users['churn_date'], format='%Y-%m-%d')\n",
    "users['reg_date'] = pd.to_datetime(users['reg_date'], format='%Y-%m-%d')"
   ]
  },
  {
   "cell_type": "markdown",
   "id": "570657b5",
   "metadata": {},
   "source": [
    "We know, that Megaline rounds seconds of each individual call up to minutes: even if the call lasted just one second, it will be counted as one minute. Therefore, in the `calls` table, the data in the `duration` column should be rounded up and converted to the *int* format:"
   ]
  },
  {
   "cell_type": "code",
   "execution_count": 11,
   "id": "12c40ede",
   "metadata": {},
   "outputs": [
    {
     "data": {
      "text/html": [
       "<div>\n",
       "<style scoped>\n",
       "    .dataframe tbody tr th:only-of-type {\n",
       "        vertical-align: middle;\n",
       "    }\n",
       "\n",
       "    .dataframe tbody tr th {\n",
       "        vertical-align: top;\n",
       "    }\n",
       "\n",
       "    .dataframe thead th {\n",
       "        text-align: right;\n",
       "    }\n",
       "</style>\n",
       "<table border=\"1\" class=\"dataframe\">\n",
       "  <thead>\n",
       "    <tr style=\"text-align: right;\">\n",
       "      <th></th>\n",
       "      <th>id</th>\n",
       "      <th>call_date</th>\n",
       "      <th>duration</th>\n",
       "      <th>user_id</th>\n",
       "    </tr>\n",
       "  </thead>\n",
       "  <tbody>\n",
       "    <tr>\n",
       "      <th>0</th>\n",
       "      <td>1000_0</td>\n",
       "      <td>2018-07-25</td>\n",
       "      <td>0</td>\n",
       "      <td>1000</td>\n",
       "    </tr>\n",
       "    <tr>\n",
       "      <th>1</th>\n",
       "      <td>1000_1</td>\n",
       "      <td>2018-08-17</td>\n",
       "      <td>0</td>\n",
       "      <td>1000</td>\n",
       "    </tr>\n",
       "    <tr>\n",
       "      <th>2</th>\n",
       "      <td>1000_2</td>\n",
       "      <td>2018-06-11</td>\n",
       "      <td>3</td>\n",
       "      <td>1000</td>\n",
       "    </tr>\n",
       "    <tr>\n",
       "      <th>3</th>\n",
       "      <td>1000_3</td>\n",
       "      <td>2018-09-21</td>\n",
       "      <td>14</td>\n",
       "      <td>1000</td>\n",
       "    </tr>\n",
       "    <tr>\n",
       "      <th>4</th>\n",
       "      <td>1000_4</td>\n",
       "      <td>2018-12-15</td>\n",
       "      <td>6</td>\n",
       "      <td>1000</td>\n",
       "    </tr>\n",
       "  </tbody>\n",
       "</table>\n",
       "</div>"
      ],
      "text/plain": [
       "       id  call_date  duration  user_id\n",
       "0  1000_0 2018-07-25         0     1000\n",
       "1  1000_1 2018-08-17         0     1000\n",
       "2  1000_2 2018-06-11         3     1000\n",
       "3  1000_3 2018-09-21        14     1000\n",
       "4  1000_4 2018-12-15         6     1000"
      ]
     },
     "execution_count": 11,
     "metadata": {},
     "output_type": "execute_result"
    }
   ],
   "source": [
    "calls['duration'] = np.ceil(calls['duration']).astype('int64')\n",
    "calls.head()"
   ]
  },
  {
   "cell_type": "code",
   "execution_count": 12,
   "id": "22cbb7ac",
   "metadata": {
    "scrolled": false
   },
   "outputs": [
    {
     "name": "stdout",
     "output_type": "stream",
     "text": [
      "\n",
      "Table name: calls\n",
      "<class 'pandas.core.frame.DataFrame'>\n",
      "RangeIndex: 202607 entries, 0 to 202606\n",
      "Data columns (total 4 columns):\n",
      " #   Column     Non-Null Count   Dtype         \n",
      "---  ------     --------------   -----         \n",
      " 0   id         202607 non-null  object        \n",
      " 1   call_date  202607 non-null  datetime64[ns]\n",
      " 2   duration   202607 non-null  int64         \n",
      " 3   user_id    202607 non-null  int64         \n",
      "dtypes: datetime64[ns](1), int64(2), object(1)\n",
      "memory usage: 6.2+ MB\n",
      "\n",
      "Table name: internet\n",
      "<class 'pandas.core.frame.DataFrame'>\n",
      "Int64Index: 149396 entries, 0 to 149395\n",
      "Data columns (total 4 columns):\n",
      " #   Column        Non-Null Count   Dtype         \n",
      "---  ------        --------------   -----         \n",
      " 0   id            149396 non-null  object        \n",
      " 1   mb_used       149396 non-null  float64       \n",
      " 2   session_date  149396 non-null  datetime64[ns]\n",
      " 3   user_id       149396 non-null  int64         \n",
      "dtypes: datetime64[ns](1), float64(1), int64(1), object(1)\n",
      "memory usage: 5.7+ MB\n",
      "\n",
      "Table name: messages\n",
      "<class 'pandas.core.frame.DataFrame'>\n",
      "RangeIndex: 123036 entries, 0 to 123035\n",
      "Data columns (total 3 columns):\n",
      " #   Column        Non-Null Count   Dtype         \n",
      "---  ------        --------------   -----         \n",
      " 0   id            123036 non-null  object        \n",
      " 1   message_date  123036 non-null  datetime64[ns]\n",
      " 2   user_id       123036 non-null  int64         \n",
      "dtypes: datetime64[ns](1), int64(1), object(1)\n",
      "memory usage: 2.8+ MB\n",
      "\n",
      "Table name: tariffs\n",
      "<class 'pandas.core.frame.DataFrame'>\n",
      "RangeIndex: 2 entries, 0 to 1\n",
      "Data columns (total 8 columns):\n",
      " #   Column                 Non-Null Count  Dtype \n",
      "---  ------                 --------------  ----- \n",
      " 0   messages_included      2 non-null      int64 \n",
      " 1   mb_per_month_included  2 non-null      int64 \n",
      " 2   minutes_included       2 non-null      int64 \n",
      " 3   rub_monthly_fee        2 non-null      int64 \n",
      " 4   rub_per_gb             2 non-null      int64 \n",
      " 5   rub_per_message        2 non-null      int64 \n",
      " 6   rub_per_minute         2 non-null      int64 \n",
      " 7   tariff_name            2 non-null      object\n",
      "dtypes: int64(7), object(1)\n",
      "memory usage: 256.0+ bytes\n",
      "\n",
      "Table name: users\n",
      "<class 'pandas.core.frame.DataFrame'>\n",
      "RangeIndex: 500 entries, 0 to 499\n",
      "Data columns (total 8 columns):\n",
      " #   Column      Non-Null Count  Dtype         \n",
      "---  ------      --------------  -----         \n",
      " 0   user_id     500 non-null    int64         \n",
      " 1   age         500 non-null    int64         \n",
      " 2   churn_date  38 non-null     datetime64[ns]\n",
      " 3   city        500 non-null    object        \n",
      " 4   first_name  500 non-null    object        \n",
      " 5   last_name   500 non-null    object        \n",
      " 6   reg_date    500 non-null    datetime64[ns]\n",
      " 7   tariff      500 non-null    object        \n",
      "dtypes: datetime64[ns](2), int64(2), object(4)\n",
      "memory usage: 31.4+ KB\n"
     ]
    }
   ],
   "source": [
    "# let's check the results of datatype change\n",
    "for df in dfs:\n",
    "    print('\\nTable name:', df.name)\n",
    "    df.info()"
   ]
  },
  {
   "cell_type": "markdown",
   "id": "8decaab7",
   "metadata": {},
   "source": [
    "<mark>The data types have been converted where necessary.</mark>"
   ]
  },
  {
   "cell_type": "markdown",
   "id": "84364448",
   "metadata": {},
   "source": [
    "Next, let's check for errors in the data:"
   ]
  },
  {
   "cell_type": "code",
   "execution_count": 13,
   "id": "4be5c683",
   "metadata": {
    "scrolled": true
   },
   "outputs": [
    {
     "data": {
      "text/plain": [
       "array([18, 19, 20, 21, 22, 23, 24, 25, 26, 27, 28, 29, 30, 31, 32, 33, 34,\n",
       "       35, 36, 37, 38, 39, 40, 41, 42, 43, 44, 45, 46, 47, 48, 49, 50, 51,\n",
       "       52, 53, 54, 55, 56, 57, 58, 59, 60, 61, 62, 63, 64, 65, 66, 67, 68,\n",
       "       69, 70, 71, 72, 73, 74, 75])"
      ]
     },
     "execution_count": 13,
     "metadata": {},
     "output_type": "execute_result"
    }
   ],
   "source": [
    "users['age'].sort_values().unique()"
   ]
  },
  {
   "cell_type": "markdown",
   "id": "5d1930f6",
   "metadata": {},
   "source": [
    "It is quite logical that the age of clients starts from 18 years. No errors were found in the `age` column."
   ]
  },
  {
   "cell_type": "code",
   "execution_count": 14,
   "id": "bdb26698",
   "metadata": {
    "scrolled": true
   },
   "outputs": [
    {
     "data": {
      "text/plain": [
       "count    202607.000000\n",
       "mean          7.158198\n",
       "std           5.959173\n",
       "min           0.000000\n",
       "25%           2.000000\n",
       "50%           6.000000\n",
       "75%          11.000000\n",
       "max          38.000000\n",
       "Name: duration, dtype: float64"
      ]
     },
     "execution_count": 14,
     "metadata": {},
     "output_type": "execute_result"
    }
   ],
   "source": [
    "calls['duration'].describe()"
   ]
  },
  {
   "cell_type": "markdown",
   "id": "68d87369",
   "metadata": {},
   "source": [
    "The minimum call duration is zero. This is not a mistake: calls with zero duration represent missed calls, so we don't need to delete them."
   ]
  },
  {
   "cell_type": "code",
   "execution_count": 15,
   "id": "6a7c027c",
   "metadata": {},
   "outputs": [
    {
     "data": {
      "text/plain": [
       "count    149396.000000\n",
       "mean        370.192426\n",
       "std         278.300951\n",
       "min           0.000000\n",
       "25%         138.187500\n",
       "50%         348.015000\n",
       "75%         559.552500\n",
       "max        1724.830000\n",
       "Name: mb_used, dtype: float64"
      ]
     },
     "execution_count": 15,
     "metadata": {},
     "output_type": "execute_result"
    }
   ],
   "source": [
    "internet['mb_used'].describe()"
   ]
  },
  {
   "cell_type": "code",
   "execution_count": 16,
   "id": "1b5ce613",
   "metadata": {},
   "outputs": [
    {
     "data": {
      "text/html": [
       "<div>\n",
       "<style scoped>\n",
       "    .dataframe tbody tr th:only-of-type {\n",
       "        vertical-align: middle;\n",
       "    }\n",
       "\n",
       "    .dataframe tbody tr th {\n",
       "        vertical-align: top;\n",
       "    }\n",
       "\n",
       "    .dataframe thead th {\n",
       "        text-align: right;\n",
       "    }\n",
       "</style>\n",
       "<table border=\"1\" class=\"dataframe\">\n",
       "  <thead>\n",
       "    <tr style=\"text-align: right;\">\n",
       "      <th></th>\n",
       "      <th>id</th>\n",
       "      <th>mb_used</th>\n",
       "      <th>session_date</th>\n",
       "      <th>user_id</th>\n",
       "    </tr>\n",
       "  </thead>\n",
       "  <tbody>\n",
       "    <tr>\n",
       "      <th>11</th>\n",
       "      <td>1000_11</td>\n",
       "      <td>0.0</td>\n",
       "      <td>2018-08-28</td>\n",
       "      <td>1000</td>\n",
       "    </tr>\n",
       "    <tr>\n",
       "      <th>38</th>\n",
       "      <td>1000_38</td>\n",
       "      <td>0.0</td>\n",
       "      <td>2018-11-27</td>\n",
       "      <td>1000</td>\n",
       "    </tr>\n",
       "    <tr>\n",
       "      <th>46</th>\n",
       "      <td>1000_46</td>\n",
       "      <td>0.0</td>\n",
       "      <td>2018-06-30</td>\n",
       "      <td>1000</td>\n",
       "    </tr>\n",
       "    <tr>\n",
       "      <th>67</th>\n",
       "      <td>1000_67</td>\n",
       "      <td>0.0</td>\n",
       "      <td>2018-06-16</td>\n",
       "      <td>1000</td>\n",
       "    </tr>\n",
       "    <tr>\n",
       "      <th>72</th>\n",
       "      <td>1000_72</td>\n",
       "      <td>0.0</td>\n",
       "      <td>2018-06-15</td>\n",
       "      <td>1000</td>\n",
       "    </tr>\n",
       "    <tr>\n",
       "      <th>...</th>\n",
       "      <td>...</td>\n",
       "      <td>...</td>\n",
       "      <td>...</td>\n",
       "      <td>...</td>\n",
       "    </tr>\n",
       "    <tr>\n",
       "      <th>149380</th>\n",
       "      <td>1499_141</td>\n",
       "      <td>0.0</td>\n",
       "      <td>2018-12-11</td>\n",
       "      <td>1499</td>\n",
       "    </tr>\n",
       "    <tr>\n",
       "      <th>149381</th>\n",
       "      <td>1499_142</td>\n",
       "      <td>0.0</td>\n",
       "      <td>2018-11-01</td>\n",
       "      <td>1499</td>\n",
       "    </tr>\n",
       "    <tr>\n",
       "      <th>149383</th>\n",
       "      <td>1499_144</td>\n",
       "      <td>0.0</td>\n",
       "      <td>2018-11-27</td>\n",
       "      <td>1499</td>\n",
       "    </tr>\n",
       "    <tr>\n",
       "      <th>149386</th>\n",
       "      <td>1499_147</td>\n",
       "      <td>0.0</td>\n",
       "      <td>2018-10-21</td>\n",
       "      <td>1499</td>\n",
       "    </tr>\n",
       "    <tr>\n",
       "      <th>149393</th>\n",
       "      <td>1499_154</td>\n",
       "      <td>0.0</td>\n",
       "      <td>2018-10-27</td>\n",
       "      <td>1499</td>\n",
       "    </tr>\n",
       "  </tbody>\n",
       "</table>\n",
       "<p>19598 rows × 4 columns</p>\n",
       "</div>"
      ],
      "text/plain": [
       "              id  mb_used session_date  user_id\n",
       "11       1000_11      0.0   2018-08-28     1000\n",
       "38       1000_38      0.0   2018-11-27     1000\n",
       "46       1000_46      0.0   2018-06-30     1000\n",
       "67       1000_67      0.0   2018-06-16     1000\n",
       "72       1000_72      0.0   2018-06-15     1000\n",
       "...          ...      ...          ...      ...\n",
       "149380  1499_141      0.0   2018-12-11     1499\n",
       "149381  1499_142      0.0   2018-11-01     1499\n",
       "149383  1499_144      0.0   2018-11-27     1499\n",
       "149386  1499_147      0.0   2018-10-21     1499\n",
       "149393  1499_154      0.0   2018-10-27     1499\n",
       "\n",
       "[19598 rows x 4 columns]"
      ]
     },
     "execution_count": 16,
     "metadata": {},
     "output_type": "execute_result"
    }
   ],
   "source": [
    "internet[internet['mb_used'] == 0]"
   ]
  },
  {
   "cell_type": "markdown",
   "id": "00e17969",
   "metadata": {},
   "source": [
    "The minimum amount of web traffic spent per session is zero. It is possible that users did not use the mobile Internet on some days, however, these lines do not carry a semantic load and can be deleted:"
   ]
  },
  {
   "cell_type": "code",
   "execution_count": 17,
   "id": "0ed5aa1e",
   "metadata": {},
   "outputs": [],
   "source": [
    "internet = internet[internet['mb_used'] != 0]"
   ]
  },
  {
   "cell_type": "markdown",
   "id": "1cca9f53",
   "metadata": {},
   "source": [
    "<mark>No significant data errors found.</mark>"
   ]
  },
  {
   "cell_type": "markdown",
   "id": "faac4822",
   "metadata": {},
   "source": [
    "### Merging tables\n",
    "<a id='merge'></a>"
   ]
  },
  {
   "cell_type": "markdown",
   "id": "70c62822",
   "metadata": {},
   "source": [
    "Let's prepare tables for merging by creating pivot tables by users by calendar months:"
   ]
  },
  {
   "cell_type": "code",
   "execution_count": 18,
   "id": "46c814f2",
   "metadata": {},
   "outputs": [
    {
     "data": {
      "text/html": [
       "<div>\n",
       "<style scoped>\n",
       "    .dataframe tbody tr th:only-of-type {\n",
       "        vertical-align: middle;\n",
       "    }\n",
       "\n",
       "    .dataframe tbody tr th {\n",
       "        vertical-align: top;\n",
       "    }\n",
       "\n",
       "    .dataframe thead th {\n",
       "        text-align: right;\n",
       "    }\n",
       "</style>\n",
       "<table border=\"1\" class=\"dataframe\">\n",
       "  <thead>\n",
       "    <tr style=\"text-align: right;\">\n",
       "      <th></th>\n",
       "      <th>user_id</th>\n",
       "      <th>month</th>\n",
       "      <th>call_duration</th>\n",
       "      <th>call_quantity</th>\n",
       "    </tr>\n",
       "  </thead>\n",
       "  <tbody>\n",
       "    <tr>\n",
       "      <th>0</th>\n",
       "      <td>1000</td>\n",
       "      <td>2018-05-01</td>\n",
       "      <td>159</td>\n",
       "      <td>22</td>\n",
       "    </tr>\n",
       "    <tr>\n",
       "      <th>1</th>\n",
       "      <td>1000</td>\n",
       "      <td>2018-06-01</td>\n",
       "      <td>172</td>\n",
       "      <td>43</td>\n",
       "    </tr>\n",
       "    <tr>\n",
       "      <th>2</th>\n",
       "      <td>1000</td>\n",
       "      <td>2018-07-01</td>\n",
       "      <td>340</td>\n",
       "      <td>47</td>\n",
       "    </tr>\n",
       "    <tr>\n",
       "      <th>3</th>\n",
       "      <td>1000</td>\n",
       "      <td>2018-08-01</td>\n",
       "      <td>408</td>\n",
       "      <td>52</td>\n",
       "    </tr>\n",
       "    <tr>\n",
       "      <th>4</th>\n",
       "      <td>1000</td>\n",
       "      <td>2018-09-01</td>\n",
       "      <td>466</td>\n",
       "      <td>58</td>\n",
       "    </tr>\n",
       "  </tbody>\n",
       "</table>\n",
       "</div>"
      ],
      "text/plain": [
       "   user_id      month  call_duration  call_quantity\n",
       "0     1000 2018-05-01            159             22\n",
       "1     1000 2018-06-01            172             43\n",
       "2     1000 2018-07-01            340             47\n",
       "3     1000 2018-08-01            408             52\n",
       "4     1000 2018-09-01            466             58"
      ]
     },
     "execution_count": 18,
     "metadata": {},
     "output_type": "execute_result"
    }
   ],
   "source": [
    "calls['month'] = calls['call_date'].astype('datetime64[M]')\n",
    "calls_grouped = calls.groupby(['user_id', 'month']).agg({'duration':['sum', 'count']})\n",
    "calls_grouped.reset_index(inplace=True)\n",
    "calls_grouped.columns=['user_id', 'month', 'call_duration', 'call_quantity']\n",
    "calls_grouped.head()"
   ]
  },
  {
   "cell_type": "code",
   "execution_count": 19,
   "id": "3ef99b94",
   "metadata": {},
   "outputs": [
    {
     "name": "stderr",
     "output_type": "stream",
     "text": [
      "/tmp/ipykernel_110/77158625.py:1: SettingWithCopyWarning: \n",
      "A value is trying to be set on a copy of a slice from a DataFrame.\n",
      "Try using .loc[row_indexer,col_indexer] = value instead\n",
      "\n",
      "See the caveats in the documentation: https://pandas.pydata.org/pandas-docs/stable/user_guide/indexing.html#returning-a-view-versus-a-copy\n",
      "  internet['month'] = internet['session_date'].astype('datetime64[M]')\n"
     ]
    },
    {
     "data": {
      "text/html": [
       "<div>\n",
       "<style scoped>\n",
       "    .dataframe tbody tr th:only-of-type {\n",
       "        vertical-align: middle;\n",
       "    }\n",
       "\n",
       "    .dataframe tbody tr th {\n",
       "        vertical-align: top;\n",
       "    }\n",
       "\n",
       "    .dataframe thead th {\n",
       "        text-align: right;\n",
       "    }\n",
       "</style>\n",
       "<table border=\"1\" class=\"dataframe\">\n",
       "  <thead>\n",
       "    <tr style=\"text-align: right;\">\n",
       "      <th></th>\n",
       "      <th>user_id</th>\n",
       "      <th>month</th>\n",
       "      <th>mb_used</th>\n",
       "    </tr>\n",
       "  </thead>\n",
       "  <tbody>\n",
       "    <tr>\n",
       "      <th>0</th>\n",
       "      <td>1000</td>\n",
       "      <td>2018-05-01</td>\n",
       "      <td>2253.49</td>\n",
       "    </tr>\n",
       "    <tr>\n",
       "      <th>1</th>\n",
       "      <td>1000</td>\n",
       "      <td>2018-06-01</td>\n",
       "      <td>23233.77</td>\n",
       "    </tr>\n",
       "    <tr>\n",
       "      <th>2</th>\n",
       "      <td>1000</td>\n",
       "      <td>2018-07-01</td>\n",
       "      <td>14003.64</td>\n",
       "    </tr>\n",
       "    <tr>\n",
       "      <th>3</th>\n",
       "      <td>1000</td>\n",
       "      <td>2018-08-01</td>\n",
       "      <td>14055.93</td>\n",
       "    </tr>\n",
       "    <tr>\n",
       "      <th>4</th>\n",
       "      <td>1000</td>\n",
       "      <td>2018-09-01</td>\n",
       "      <td>14568.91</td>\n",
       "    </tr>\n",
       "  </tbody>\n",
       "</table>\n",
       "</div>"
      ],
      "text/plain": [
       "   user_id      month   mb_used\n",
       "0     1000 2018-05-01   2253.49\n",
       "1     1000 2018-06-01  23233.77\n",
       "2     1000 2018-07-01  14003.64\n",
       "3     1000 2018-08-01  14055.93\n",
       "4     1000 2018-09-01  14568.91"
      ]
     },
     "execution_count": 19,
     "metadata": {},
     "output_type": "execute_result"
    }
   ],
   "source": [
    "internet['month'] = internet['session_date'].astype('datetime64[M]')\n",
    "internet_grouped = internet.groupby(['user_id', 'month']).agg({'mb_used':'sum'})\n",
    "internet_grouped.reset_index(inplace=True)\n",
    "internet_grouped.head()"
   ]
  },
  {
   "cell_type": "code",
   "execution_count": 20,
   "id": "ae860bb9",
   "metadata": {
    "scrolled": true
   },
   "outputs": [
    {
     "data": {
      "text/html": [
       "<div>\n",
       "<style scoped>\n",
       "    .dataframe tbody tr th:only-of-type {\n",
       "        vertical-align: middle;\n",
       "    }\n",
       "\n",
       "    .dataframe tbody tr th {\n",
       "        vertical-align: top;\n",
       "    }\n",
       "\n",
       "    .dataframe thead th {\n",
       "        text-align: right;\n",
       "    }\n",
       "</style>\n",
       "<table border=\"1\" class=\"dataframe\">\n",
       "  <thead>\n",
       "    <tr style=\"text-align: right;\">\n",
       "      <th></th>\n",
       "      <th>user_id</th>\n",
       "      <th>month</th>\n",
       "      <th>messages</th>\n",
       "    </tr>\n",
       "  </thead>\n",
       "  <tbody>\n",
       "    <tr>\n",
       "      <th>0</th>\n",
       "      <td>1000</td>\n",
       "      <td>2018-05-01</td>\n",
       "      <td>22</td>\n",
       "    </tr>\n",
       "    <tr>\n",
       "      <th>1</th>\n",
       "      <td>1000</td>\n",
       "      <td>2018-06-01</td>\n",
       "      <td>60</td>\n",
       "    </tr>\n",
       "    <tr>\n",
       "      <th>2</th>\n",
       "      <td>1000</td>\n",
       "      <td>2018-07-01</td>\n",
       "      <td>75</td>\n",
       "    </tr>\n",
       "    <tr>\n",
       "      <th>3</th>\n",
       "      <td>1000</td>\n",
       "      <td>2018-08-01</td>\n",
       "      <td>81</td>\n",
       "    </tr>\n",
       "    <tr>\n",
       "      <th>4</th>\n",
       "      <td>1000</td>\n",
       "      <td>2018-09-01</td>\n",
       "      <td>57</td>\n",
       "    </tr>\n",
       "  </tbody>\n",
       "</table>\n",
       "</div>"
      ],
      "text/plain": [
       "   user_id      month  messages\n",
       "0     1000 2018-05-01        22\n",
       "1     1000 2018-06-01        60\n",
       "2     1000 2018-07-01        75\n",
       "3     1000 2018-08-01        81\n",
       "4     1000 2018-09-01        57"
      ]
     },
     "execution_count": 20,
     "metadata": {},
     "output_type": "execute_result"
    }
   ],
   "source": [
    "messages['month'] = messages['message_date'].astype('datetime64[M]')\n",
    "messages_grouped = messages.groupby(['user_id', 'month']).agg({'id':'count'})\n",
    "messages_grouped.reset_index(inplace=True)\n",
    "messages_grouped = messages_grouped.rename(columns={'id':'messages'})\n",
    "messages_grouped.head()"
   ]
  },
  {
   "cell_type": "code",
   "execution_count": 21,
   "id": "b398090b",
   "metadata": {
    "scrolled": true
   },
   "outputs": [
    {
     "data": {
      "text/html": [
       "<div>\n",
       "<style scoped>\n",
       "    .dataframe tbody tr th:only-of-type {\n",
       "        vertical-align: middle;\n",
       "    }\n",
       "\n",
       "    .dataframe tbody tr th {\n",
       "        vertical-align: top;\n",
       "    }\n",
       "\n",
       "    .dataframe thead th {\n",
       "        text-align: right;\n",
       "    }\n",
       "</style>\n",
       "<table border=\"1\" class=\"dataframe\">\n",
       "  <thead>\n",
       "    <tr style=\"text-align: right;\">\n",
       "      <th></th>\n",
       "      <th>messages_included</th>\n",
       "      <th>mb_per_month_included</th>\n",
       "      <th>minutes_included</th>\n",
       "      <th>rub_monthly_fee</th>\n",
       "      <th>rub_per_gb</th>\n",
       "      <th>rub_per_message</th>\n",
       "      <th>rub_per_minute</th>\n",
       "      <th>tariff</th>\n",
       "    </tr>\n",
       "  </thead>\n",
       "  <tbody>\n",
       "    <tr>\n",
       "      <th>0</th>\n",
       "      <td>50</td>\n",
       "      <td>15360</td>\n",
       "      <td>500</td>\n",
       "      <td>550</td>\n",
       "      <td>200</td>\n",
       "      <td>3</td>\n",
       "      <td>3</td>\n",
       "      <td>smart</td>\n",
       "    </tr>\n",
       "    <tr>\n",
       "      <th>1</th>\n",
       "      <td>1000</td>\n",
       "      <td>30720</td>\n",
       "      <td>3000</td>\n",
       "      <td>1950</td>\n",
       "      <td>150</td>\n",
       "      <td>1</td>\n",
       "      <td>1</td>\n",
       "      <td>ultra</td>\n",
       "    </tr>\n",
       "  </tbody>\n",
       "</table>\n",
       "</div>"
      ],
      "text/plain": [
       "   messages_included  mb_per_month_included  minutes_included  \\\n",
       "0                 50                  15360               500   \n",
       "1               1000                  30720              3000   \n",
       "\n",
       "   rub_monthly_fee  rub_per_gb  rub_per_message  rub_per_minute tariff  \n",
       "0              550         200                3               3  smart  \n",
       "1             1950         150                1               1  ultra  "
      ]
     },
     "execution_count": 21,
     "metadata": {},
     "output_type": "execute_result"
    }
   ],
   "source": [
    "tariffs = tariffs.rename(columns={'tariff_name':'tariff'})\n",
    "tariffs"
   ]
  },
  {
   "cell_type": "markdown",
   "id": "141a9dd7",
   "metadata": {},
   "source": [
    "Let's merge `calls`, `internet` and `messages` grouped tables into one dataframe based on `user_id` and `month` columns, and then merge them all with the `users` table based on the `user_id` column, and with the `tariffs` table based on the `tariff` column:"
   ]
  },
  {
   "cell_type": "code",
   "execution_count": 22,
   "id": "17b84dc4",
   "metadata": {},
   "outputs": [
    {
     "data": {
      "text/html": [
       "<div>\n",
       "<style scoped>\n",
       "    .dataframe tbody tr th:only-of-type {\n",
       "        vertical-align: middle;\n",
       "    }\n",
       "\n",
       "    .dataframe tbody tr th {\n",
       "        vertical-align: top;\n",
       "    }\n",
       "\n",
       "    .dataframe thead th {\n",
       "        text-align: right;\n",
       "    }\n",
       "</style>\n",
       "<table border=\"1\" class=\"dataframe\">\n",
       "  <thead>\n",
       "    <tr style=\"text-align: right;\">\n",
       "      <th></th>\n",
       "      <th>user_id</th>\n",
       "      <th>month</th>\n",
       "      <th>call_duration</th>\n",
       "      <th>call_quantity</th>\n",
       "      <th>mb_used</th>\n",
       "      <th>messages</th>\n",
       "      <th>age</th>\n",
       "      <th>churn_date</th>\n",
       "      <th>city</th>\n",
       "      <th>first_name</th>\n",
       "      <th>last_name</th>\n",
       "      <th>reg_date</th>\n",
       "      <th>tariff</th>\n",
       "      <th>messages_included</th>\n",
       "      <th>mb_per_month_included</th>\n",
       "      <th>minutes_included</th>\n",
       "      <th>rub_monthly_fee</th>\n",
       "      <th>rub_per_gb</th>\n",
       "      <th>rub_per_message</th>\n",
       "      <th>rub_per_minute</th>\n",
       "    </tr>\n",
       "  </thead>\n",
       "  <tbody>\n",
       "    <tr>\n",
       "      <th>0</th>\n",
       "      <td>1000</td>\n",
       "      <td>2018-05-01</td>\n",
       "      <td>159.0</td>\n",
       "      <td>22.0</td>\n",
       "      <td>2253.49</td>\n",
       "      <td>22.0</td>\n",
       "      <td>52</td>\n",
       "      <td>NaT</td>\n",
       "      <td>Краснодар</td>\n",
       "      <td>Рафаил</td>\n",
       "      <td>Верещагин</td>\n",
       "      <td>2018-05-25</td>\n",
       "      <td>ultra</td>\n",
       "      <td>1000</td>\n",
       "      <td>30720</td>\n",
       "      <td>3000</td>\n",
       "      <td>1950</td>\n",
       "      <td>150</td>\n",
       "      <td>1</td>\n",
       "      <td>1</td>\n",
       "    </tr>\n",
       "    <tr>\n",
       "      <th>1</th>\n",
       "      <td>1000</td>\n",
       "      <td>2018-06-01</td>\n",
       "      <td>172.0</td>\n",
       "      <td>43.0</td>\n",
       "      <td>23233.77</td>\n",
       "      <td>60.0</td>\n",
       "      <td>52</td>\n",
       "      <td>NaT</td>\n",
       "      <td>Краснодар</td>\n",
       "      <td>Рафаил</td>\n",
       "      <td>Верещагин</td>\n",
       "      <td>2018-05-25</td>\n",
       "      <td>ultra</td>\n",
       "      <td>1000</td>\n",
       "      <td>30720</td>\n",
       "      <td>3000</td>\n",
       "      <td>1950</td>\n",
       "      <td>150</td>\n",
       "      <td>1</td>\n",
       "      <td>1</td>\n",
       "    </tr>\n",
       "    <tr>\n",
       "      <th>2</th>\n",
       "      <td>1000</td>\n",
       "      <td>2018-07-01</td>\n",
       "      <td>340.0</td>\n",
       "      <td>47.0</td>\n",
       "      <td>14003.64</td>\n",
       "      <td>75.0</td>\n",
       "      <td>52</td>\n",
       "      <td>NaT</td>\n",
       "      <td>Краснодар</td>\n",
       "      <td>Рафаил</td>\n",
       "      <td>Верещагин</td>\n",
       "      <td>2018-05-25</td>\n",
       "      <td>ultra</td>\n",
       "      <td>1000</td>\n",
       "      <td>30720</td>\n",
       "      <td>3000</td>\n",
       "      <td>1950</td>\n",
       "      <td>150</td>\n",
       "      <td>1</td>\n",
       "      <td>1</td>\n",
       "    </tr>\n",
       "    <tr>\n",
       "      <th>3</th>\n",
       "      <td>1000</td>\n",
       "      <td>2018-08-01</td>\n",
       "      <td>408.0</td>\n",
       "      <td>52.0</td>\n",
       "      <td>14055.93</td>\n",
       "      <td>81.0</td>\n",
       "      <td>52</td>\n",
       "      <td>NaT</td>\n",
       "      <td>Краснодар</td>\n",
       "      <td>Рафаил</td>\n",
       "      <td>Верещагин</td>\n",
       "      <td>2018-05-25</td>\n",
       "      <td>ultra</td>\n",
       "      <td>1000</td>\n",
       "      <td>30720</td>\n",
       "      <td>3000</td>\n",
       "      <td>1950</td>\n",
       "      <td>150</td>\n",
       "      <td>1</td>\n",
       "      <td>1</td>\n",
       "    </tr>\n",
       "    <tr>\n",
       "      <th>4</th>\n",
       "      <td>1000</td>\n",
       "      <td>2018-09-01</td>\n",
       "      <td>466.0</td>\n",
       "      <td>58.0</td>\n",
       "      <td>14568.91</td>\n",
       "      <td>57.0</td>\n",
       "      <td>52</td>\n",
       "      <td>NaT</td>\n",
       "      <td>Краснодар</td>\n",
       "      <td>Рафаил</td>\n",
       "      <td>Верещагин</td>\n",
       "      <td>2018-05-25</td>\n",
       "      <td>ultra</td>\n",
       "      <td>1000</td>\n",
       "      <td>30720</td>\n",
       "      <td>3000</td>\n",
       "      <td>1950</td>\n",
       "      <td>150</td>\n",
       "      <td>1</td>\n",
       "      <td>1</td>\n",
       "    </tr>\n",
       "  </tbody>\n",
       "</table>\n",
       "</div>"
      ],
      "text/plain": [
       "   user_id      month  call_duration  call_quantity   mb_used  messages  age  \\\n",
       "0     1000 2018-05-01          159.0           22.0   2253.49      22.0   52   \n",
       "1     1000 2018-06-01          172.0           43.0  23233.77      60.0   52   \n",
       "2     1000 2018-07-01          340.0           47.0  14003.64      75.0   52   \n",
       "3     1000 2018-08-01          408.0           52.0  14055.93      81.0   52   \n",
       "4     1000 2018-09-01          466.0           58.0  14568.91      57.0   52   \n",
       "\n",
       "  churn_date       city first_name  last_name   reg_date tariff  \\\n",
       "0        NaT  Краснодар     Рафаил  Верещагин 2018-05-25  ultra   \n",
       "1        NaT  Краснодар     Рафаил  Верещагин 2018-05-25  ultra   \n",
       "2        NaT  Краснодар     Рафаил  Верещагин 2018-05-25  ultra   \n",
       "3        NaT  Краснодар     Рафаил  Верещагин 2018-05-25  ultra   \n",
       "4        NaT  Краснодар     Рафаил  Верещагин 2018-05-25  ultra   \n",
       "\n",
       "   messages_included  mb_per_month_included  minutes_included  \\\n",
       "0               1000                  30720              3000   \n",
       "1               1000                  30720              3000   \n",
       "2               1000                  30720              3000   \n",
       "3               1000                  30720              3000   \n",
       "4               1000                  30720              3000   \n",
       "\n",
       "   rub_monthly_fee  rub_per_gb  rub_per_message  rub_per_minute  \n",
       "0             1950         150                1               1  \n",
       "1             1950         150                1               1  \n",
       "2             1950         150                1               1  \n",
       "3             1950         150                1               1  \n",
       "4             1950         150                1               1  "
      ]
     },
     "execution_count": 22,
     "metadata": {},
     "output_type": "execute_result"
    }
   ],
   "source": [
    "df = calls_grouped.merge(internet_grouped, on=['user_id', 'month'], how='outer')\n",
    "df = df.merge(messages_grouped, on=['user_id', 'month'], how='outer')\n",
    "df = df.merge(users, on='user_id', how='outer')\n",
    "df = df.merge(tariffs, on='tariff', how='outer')\n",
    "df.head()"
   ]
  },
  {
   "cell_type": "markdown",
   "id": "7d6af478",
   "metadata": {},
   "source": [
    "Let's make sure that all the data from the source tables has been added:"
   ]
  },
  {
   "cell_type": "code",
   "execution_count": 23,
   "id": "bf99bb92",
   "metadata": {
    "scrolled": true
   },
   "outputs": [
    {
     "name": "stdout",
     "output_type": "stream",
     "text": [
      "True\n",
      "True\n",
      "True\n"
     ]
    }
   ],
   "source": [
    "print(df['call_duration'].sum() == calls['duration'].sum())\n",
    "print(df['mb_used'].sum() == internet['mb_used'].sum())\n",
    "print(df['messages'].sum() == messages['id'].count())"
   ]
  },
  {
   "cell_type": "markdown",
   "id": "78793016",
   "metadata": {},
   "source": [
    "Let's check the number and share of missing values in the dataframe:"
   ]
  },
  {
   "cell_type": "code",
   "execution_count": 24,
   "id": "645778a1",
   "metadata": {},
   "outputs": [
    {
     "data": {
      "text/html": [
       "<div>\n",
       "<style scoped>\n",
       "    .dataframe tbody tr th:only-of-type {\n",
       "        vertical-align: middle;\n",
       "    }\n",
       "\n",
       "    .dataframe tbody tr th {\n",
       "        vertical-align: top;\n",
       "    }\n",
       "\n",
       "    .dataframe thead th {\n",
       "        text-align: right;\n",
       "    }\n",
       "</style>\n",
       "<table border=\"1\" class=\"dataframe\">\n",
       "  <thead>\n",
       "    <tr style=\"text-align: right;\">\n",
       "      <th></th>\n",
       "      <th>user_id</th>\n",
       "      <th>month</th>\n",
       "      <th>call_duration</th>\n",
       "      <th>call_quantity</th>\n",
       "      <th>mb_used</th>\n",
       "      <th>messages</th>\n",
       "      <th>age</th>\n",
       "      <th>churn_date</th>\n",
       "      <th>city</th>\n",
       "      <th>first_name</th>\n",
       "      <th>last_name</th>\n",
       "      <th>reg_date</th>\n",
       "      <th>tariff</th>\n",
       "      <th>messages_included</th>\n",
       "      <th>mb_per_month_included</th>\n",
       "      <th>minutes_included</th>\n",
       "      <th>rub_monthly_fee</th>\n",
       "      <th>rub_per_gb</th>\n",
       "      <th>rub_per_message</th>\n",
       "      <th>rub_per_minute</th>\n",
       "    </tr>\n",
       "  </thead>\n",
       "  <tbody>\n",
       "    <tr>\n",
       "      <th>sum</th>\n",
       "      <td>0.0</td>\n",
       "      <td>2.000000</td>\n",
       "      <td>42.00000</td>\n",
       "      <td>42.00000</td>\n",
       "      <td>15.000000</td>\n",
       "      <td>499.000000</td>\n",
       "      <td>0.0</td>\n",
       "      <td>3027.000000</td>\n",
       "      <td>0.0</td>\n",
       "      <td>0.0</td>\n",
       "      <td>0.0</td>\n",
       "      <td>0.0</td>\n",
       "      <td>0.0</td>\n",
       "      <td>0.0</td>\n",
       "      <td>0.0</td>\n",
       "      <td>0.0</td>\n",
       "      <td>0.0</td>\n",
       "      <td>0.0</td>\n",
       "      <td>0.0</td>\n",
       "      <td>0.0</td>\n",
       "    </tr>\n",
       "    <tr>\n",
       "      <th>mean</th>\n",
       "      <td>0.0</td>\n",
       "      <td>0.000622</td>\n",
       "      <td>0.01306</td>\n",
       "      <td>0.01306</td>\n",
       "      <td>0.004664</td>\n",
       "      <td>0.155162</td>\n",
       "      <td>0.0</td>\n",
       "      <td>0.941231</td>\n",
       "      <td>0.0</td>\n",
       "      <td>0.0</td>\n",
       "      <td>0.0</td>\n",
       "      <td>0.0</td>\n",
       "      <td>0.0</td>\n",
       "      <td>0.0</td>\n",
       "      <td>0.0</td>\n",
       "      <td>0.0</td>\n",
       "      <td>0.0</td>\n",
       "      <td>0.0</td>\n",
       "      <td>0.0</td>\n",
       "      <td>0.0</td>\n",
       "    </tr>\n",
       "  </tbody>\n",
       "</table>\n",
       "</div>"
      ],
      "text/plain": [
       "      user_id     month  call_duration  call_quantity    mb_used    messages  \\\n",
       "sum       0.0  2.000000       42.00000       42.00000  15.000000  499.000000   \n",
       "mean      0.0  0.000622        0.01306        0.01306   0.004664    0.155162   \n",
       "\n",
       "      age   churn_date  city  first_name  last_name  reg_date  tariff  \\\n",
       "sum   0.0  3027.000000   0.0         0.0        0.0       0.0     0.0   \n",
       "mean  0.0     0.941231   0.0         0.0        0.0       0.0     0.0   \n",
       "\n",
       "      messages_included  mb_per_month_included  minutes_included  \\\n",
       "sum                 0.0                    0.0               0.0   \n",
       "mean                0.0                    0.0               0.0   \n",
       "\n",
       "      rub_monthly_fee  rub_per_gb  rub_per_message  rub_per_minute  \n",
       "sum               0.0         0.0              0.0             0.0  \n",
       "mean              0.0         0.0              0.0             0.0  "
      ]
     },
     "execution_count": 24,
     "metadata": {},
     "output_type": "execute_result"
    }
   ],
   "source": [
    "df.isna().agg(['sum', 'mean'])"
   ]
  },
  {
   "cell_type": "code",
   "execution_count": 25,
   "id": "6ccd0d9d",
   "metadata": {},
   "outputs": [
    {
     "data": {
      "text/html": [
       "<div>\n",
       "<style scoped>\n",
       "    .dataframe tbody tr th:only-of-type {\n",
       "        vertical-align: middle;\n",
       "    }\n",
       "\n",
       "    .dataframe tbody tr th {\n",
       "        vertical-align: top;\n",
       "    }\n",
       "\n",
       "    .dataframe thead th {\n",
       "        text-align: right;\n",
       "    }\n",
       "</style>\n",
       "<table border=\"1\" class=\"dataframe\">\n",
       "  <thead>\n",
       "    <tr style=\"text-align: right;\">\n",
       "      <th></th>\n",
       "      <th>user_id</th>\n",
       "      <th>month</th>\n",
       "      <th>call_duration</th>\n",
       "      <th>call_quantity</th>\n",
       "      <th>mb_used</th>\n",
       "      <th>messages</th>\n",
       "      <th>age</th>\n",
       "      <th>churn_date</th>\n",
       "      <th>city</th>\n",
       "      <th>first_name</th>\n",
       "      <th>last_name</th>\n",
       "      <th>reg_date</th>\n",
       "      <th>tariff</th>\n",
       "      <th>messages_included</th>\n",
       "      <th>mb_per_month_included</th>\n",
       "      <th>minutes_included</th>\n",
       "      <th>rub_monthly_fee</th>\n",
       "      <th>rub_per_gb</th>\n",
       "      <th>rub_per_message</th>\n",
       "      <th>rub_per_minute</th>\n",
       "    </tr>\n",
       "  </thead>\n",
       "  <tbody>\n",
       "    <tr>\n",
       "      <th>985</th>\n",
       "      <td>1128</td>\n",
       "      <td>NaT</td>\n",
       "      <td>NaN</td>\n",
       "      <td>NaN</td>\n",
       "      <td>NaN</td>\n",
       "      <td>NaN</td>\n",
       "      <td>51</td>\n",
       "      <td>2018-12-23</td>\n",
       "      <td>Волжский</td>\n",
       "      <td>Ксения</td>\n",
       "      <td>Агаева</td>\n",
       "      <td>2018-12-15</td>\n",
       "      <td>ultra</td>\n",
       "      <td>1000</td>\n",
       "      <td>30720</td>\n",
       "      <td>3000</td>\n",
       "      <td>1950</td>\n",
       "      <td>150</td>\n",
       "      <td>1</td>\n",
       "      <td>1</td>\n",
       "    </tr>\n",
       "    <tr>\n",
       "      <th>3215</th>\n",
       "      <td>1371</td>\n",
       "      <td>NaT</td>\n",
       "      <td>NaN</td>\n",
       "      <td>NaN</td>\n",
       "      <td>NaN</td>\n",
       "      <td>NaN</td>\n",
       "      <td>50</td>\n",
       "      <td>2018-12-30</td>\n",
       "      <td>Омск</td>\n",
       "      <td>Ириней</td>\n",
       "      <td>Трофимов</td>\n",
       "      <td>2018-12-25</td>\n",
       "      <td>smart</td>\n",
       "      <td>50</td>\n",
       "      <td>15360</td>\n",
       "      <td>500</td>\n",
       "      <td>550</td>\n",
       "      <td>200</td>\n",
       "      <td>3</td>\n",
       "      <td>3</td>\n",
       "    </tr>\n",
       "  </tbody>\n",
       "</table>\n",
       "</div>"
      ],
      "text/plain": [
       "      user_id month  call_duration  call_quantity  mb_used  messages  age  \\\n",
       "985      1128   NaT            NaN            NaN      NaN       NaN   51   \n",
       "3215     1371   NaT            NaN            NaN      NaN       NaN   50   \n",
       "\n",
       "     churn_date      city first_name last_name   reg_date tariff  \\\n",
       "985  2018-12-23  Волжский     Ксения    Агаева 2018-12-15  ultra   \n",
       "3215 2018-12-30      Омск     Ириней  Трофимов 2018-12-25  smart   \n",
       "\n",
       "      messages_included  mb_per_month_included  minutes_included  \\\n",
       "985                1000                  30720              3000   \n",
       "3215                 50                  15360               500   \n",
       "\n",
       "      rub_monthly_fee  rub_per_gb  rub_per_message  rub_per_minute  \n",
       "985              1950         150                1               1  \n",
       "3215              550         200                3               3  "
      ]
     },
     "execution_count": 25,
     "metadata": {},
     "output_type": "execute_result"
    }
   ],
   "source": [
    "df[df['month'].isna()]"
   ]
  },
  {
   "cell_type": "markdown",
   "id": "f487c85e",
   "metadata": {},
   "source": [
    "Let's remove these 2 rows in the `month` column, and then replace the missing values in the `call_duration`, `call_quantity`, `mb_used`, `messages` columns with `0`, which means that on a particular month (`month`) the user did not make a call, or did not use the mobile Internet, or did not send a text message accordingly:"
   ]
  },
  {
   "cell_type": "code",
   "execution_count": 26,
   "id": "b0e9f465",
   "metadata": {},
   "outputs": [
    {
     "data": {
      "text/html": [
       "<div>\n",
       "<style scoped>\n",
       "    .dataframe tbody tr th:only-of-type {\n",
       "        vertical-align: middle;\n",
       "    }\n",
       "\n",
       "    .dataframe tbody tr th {\n",
       "        vertical-align: top;\n",
       "    }\n",
       "\n",
       "    .dataframe thead th {\n",
       "        text-align: right;\n",
       "    }\n",
       "</style>\n",
       "<table border=\"1\" class=\"dataframe\">\n",
       "  <thead>\n",
       "    <tr style=\"text-align: right;\">\n",
       "      <th></th>\n",
       "      <th>user_id</th>\n",
       "      <th>month</th>\n",
       "      <th>call_duration</th>\n",
       "      <th>call_quantity</th>\n",
       "      <th>mb_used</th>\n",
       "      <th>messages</th>\n",
       "      <th>age</th>\n",
       "      <th>churn_date</th>\n",
       "      <th>city</th>\n",
       "      <th>first_name</th>\n",
       "      <th>last_name</th>\n",
       "      <th>reg_date</th>\n",
       "      <th>tariff</th>\n",
       "      <th>messages_included</th>\n",
       "      <th>mb_per_month_included</th>\n",
       "      <th>minutes_included</th>\n",
       "      <th>rub_monthly_fee</th>\n",
       "      <th>rub_per_gb</th>\n",
       "      <th>rub_per_message</th>\n",
       "      <th>rub_per_minute</th>\n",
       "    </tr>\n",
       "  </thead>\n",
       "  <tbody>\n",
       "    <tr>\n",
       "      <th>sum</th>\n",
       "      <td>0.0</td>\n",
       "      <td>0.0</td>\n",
       "      <td>0.0</td>\n",
       "      <td>0.0</td>\n",
       "      <td>0.0</td>\n",
       "      <td>0.0</td>\n",
       "      <td>0.0</td>\n",
       "      <td>3027.000000</td>\n",
       "      <td>0.0</td>\n",
       "      <td>0.0</td>\n",
       "      <td>0.0</td>\n",
       "      <td>0.0</td>\n",
       "      <td>0.0</td>\n",
       "      <td>0.0</td>\n",
       "      <td>0.0</td>\n",
       "      <td>0.0</td>\n",
       "      <td>0.0</td>\n",
       "      <td>0.0</td>\n",
       "      <td>0.0</td>\n",
       "      <td>0.0</td>\n",
       "    </tr>\n",
       "    <tr>\n",
       "      <th>mean</th>\n",
       "      <td>0.0</td>\n",
       "      <td>0.0</td>\n",
       "      <td>0.0</td>\n",
       "      <td>0.0</td>\n",
       "      <td>0.0</td>\n",
       "      <td>0.0</td>\n",
       "      <td>0.0</td>\n",
       "      <td>0.941817</td>\n",
       "      <td>0.0</td>\n",
       "      <td>0.0</td>\n",
       "      <td>0.0</td>\n",
       "      <td>0.0</td>\n",
       "      <td>0.0</td>\n",
       "      <td>0.0</td>\n",
       "      <td>0.0</td>\n",
       "      <td>0.0</td>\n",
       "      <td>0.0</td>\n",
       "      <td>0.0</td>\n",
       "      <td>0.0</td>\n",
       "      <td>0.0</td>\n",
       "    </tr>\n",
       "  </tbody>\n",
       "</table>\n",
       "</div>"
      ],
      "text/plain": [
       "      user_id  month  call_duration  call_quantity  mb_used  messages  age  \\\n",
       "sum       0.0    0.0            0.0            0.0      0.0       0.0  0.0   \n",
       "mean      0.0    0.0            0.0            0.0      0.0       0.0  0.0   \n",
       "\n",
       "       churn_date  city  first_name  last_name  reg_date  tariff  \\\n",
       "sum   3027.000000   0.0         0.0        0.0       0.0     0.0   \n",
       "mean     0.941817   0.0         0.0        0.0       0.0     0.0   \n",
       "\n",
       "      messages_included  mb_per_month_included  minutes_included  \\\n",
       "sum                 0.0                    0.0               0.0   \n",
       "mean                0.0                    0.0               0.0   \n",
       "\n",
       "      rub_monthly_fee  rub_per_gb  rub_per_message  rub_per_minute  \n",
       "sum               0.0         0.0              0.0             0.0  \n",
       "mean              0.0         0.0              0.0             0.0  "
      ]
     },
     "execution_count": 26,
     "metadata": {},
     "output_type": "execute_result"
    }
   ],
   "source": [
    "df = df.dropna(subset=['month'])\n",
    "columns_to_replace = ['call_duration', 'call_quantity', 'mb_used', 'messages']\n",
    "for column in columns_to_replace:\n",
    "    df[column] = df[column].fillna(0)\n",
    "df.isna().agg(['sum', 'mean'])"
   ]
  },
  {
   "cell_type": "markdown",
   "id": "7ab00d2c",
   "metadata": {},
   "source": [
    "<mark>Tables are merged into a single dataframe</mark>, and it is ready for further analysis."
   ]
  },
  {
   "cell_type": "markdown",
   "id": "1080a47c",
   "metadata": {},
   "source": [
    "### Calculations\n",
    "<a id='computations'></a>"
   ]
  },
  {
   "cell_type": "markdown",
   "id": "384ff9f7",
   "metadata": {},
   "source": [
    "In order to calculate monthly revenue for each user, we need to convert the monthly volume of each user's web traffic into gigabytes, and also round it up:"
   ]
  },
  {
   "cell_type": "code",
   "execution_count": 27,
   "id": "3e230dd9",
   "metadata": {
    "scrolled": false
   },
   "outputs": [
    {
     "data": {
      "text/html": [
       "<div>\n",
       "<style scoped>\n",
       "    .dataframe tbody tr th:only-of-type {\n",
       "        vertical-align: middle;\n",
       "    }\n",
       "\n",
       "    .dataframe tbody tr th {\n",
       "        vertical-align: top;\n",
       "    }\n",
       "\n",
       "    .dataframe thead th {\n",
       "        text-align: right;\n",
       "    }\n",
       "</style>\n",
       "<table border=\"1\" class=\"dataframe\">\n",
       "  <thead>\n",
       "    <tr style=\"text-align: right;\">\n",
       "      <th></th>\n",
       "      <th>user_id</th>\n",
       "      <th>month</th>\n",
       "      <th>call_duration</th>\n",
       "      <th>call_quantity</th>\n",
       "      <th>mb_used</th>\n",
       "      <th>messages</th>\n",
       "      <th>age</th>\n",
       "      <th>churn_date</th>\n",
       "      <th>city</th>\n",
       "      <th>first_name</th>\n",
       "      <th>last_name</th>\n",
       "      <th>reg_date</th>\n",
       "      <th>tariff</th>\n",
       "      <th>messages_included</th>\n",
       "      <th>mb_per_month_included</th>\n",
       "      <th>minutes_included</th>\n",
       "      <th>rub_monthly_fee</th>\n",
       "      <th>rub_per_gb</th>\n",
       "      <th>rub_per_message</th>\n",
       "      <th>rub_per_minute</th>\n",
       "      <th>gb_used</th>\n",
       "    </tr>\n",
       "  </thead>\n",
       "  <tbody>\n",
       "    <tr>\n",
       "      <th>0</th>\n",
       "      <td>1000</td>\n",
       "      <td>2018-05-01</td>\n",
       "      <td>159.0</td>\n",
       "      <td>22.0</td>\n",
       "      <td>2253.49</td>\n",
       "      <td>22.0</td>\n",
       "      <td>52</td>\n",
       "      <td>NaT</td>\n",
       "      <td>Краснодар</td>\n",
       "      <td>Рафаил</td>\n",
       "      <td>Верещагин</td>\n",
       "      <td>2018-05-25</td>\n",
       "      <td>ultra</td>\n",
       "      <td>1000</td>\n",
       "      <td>30720</td>\n",
       "      <td>3000</td>\n",
       "      <td>1950</td>\n",
       "      <td>150</td>\n",
       "      <td>1</td>\n",
       "      <td>1</td>\n",
       "      <td>3</td>\n",
       "    </tr>\n",
       "    <tr>\n",
       "      <th>1</th>\n",
       "      <td>1000</td>\n",
       "      <td>2018-06-01</td>\n",
       "      <td>172.0</td>\n",
       "      <td>43.0</td>\n",
       "      <td>23233.77</td>\n",
       "      <td>60.0</td>\n",
       "      <td>52</td>\n",
       "      <td>NaT</td>\n",
       "      <td>Краснодар</td>\n",
       "      <td>Рафаил</td>\n",
       "      <td>Верещагин</td>\n",
       "      <td>2018-05-25</td>\n",
       "      <td>ultra</td>\n",
       "      <td>1000</td>\n",
       "      <td>30720</td>\n",
       "      <td>3000</td>\n",
       "      <td>1950</td>\n",
       "      <td>150</td>\n",
       "      <td>1</td>\n",
       "      <td>1</td>\n",
       "      <td>23</td>\n",
       "    </tr>\n",
       "    <tr>\n",
       "      <th>2</th>\n",
       "      <td>1000</td>\n",
       "      <td>2018-07-01</td>\n",
       "      <td>340.0</td>\n",
       "      <td>47.0</td>\n",
       "      <td>14003.64</td>\n",
       "      <td>75.0</td>\n",
       "      <td>52</td>\n",
       "      <td>NaT</td>\n",
       "      <td>Краснодар</td>\n",
       "      <td>Рафаил</td>\n",
       "      <td>Верещагин</td>\n",
       "      <td>2018-05-25</td>\n",
       "      <td>ultra</td>\n",
       "      <td>1000</td>\n",
       "      <td>30720</td>\n",
       "      <td>3000</td>\n",
       "      <td>1950</td>\n",
       "      <td>150</td>\n",
       "      <td>1</td>\n",
       "      <td>1</td>\n",
       "      <td>14</td>\n",
       "    </tr>\n",
       "    <tr>\n",
       "      <th>3</th>\n",
       "      <td>1000</td>\n",
       "      <td>2018-08-01</td>\n",
       "      <td>408.0</td>\n",
       "      <td>52.0</td>\n",
       "      <td>14055.93</td>\n",
       "      <td>81.0</td>\n",
       "      <td>52</td>\n",
       "      <td>NaT</td>\n",
       "      <td>Краснодар</td>\n",
       "      <td>Рафаил</td>\n",
       "      <td>Верещагин</td>\n",
       "      <td>2018-05-25</td>\n",
       "      <td>ultra</td>\n",
       "      <td>1000</td>\n",
       "      <td>30720</td>\n",
       "      <td>3000</td>\n",
       "      <td>1950</td>\n",
       "      <td>150</td>\n",
       "      <td>1</td>\n",
       "      <td>1</td>\n",
       "      <td>14</td>\n",
       "    </tr>\n",
       "    <tr>\n",
       "      <th>4</th>\n",
       "      <td>1000</td>\n",
       "      <td>2018-09-01</td>\n",
       "      <td>466.0</td>\n",
       "      <td>58.0</td>\n",
       "      <td>14568.91</td>\n",
       "      <td>57.0</td>\n",
       "      <td>52</td>\n",
       "      <td>NaT</td>\n",
       "      <td>Краснодар</td>\n",
       "      <td>Рафаил</td>\n",
       "      <td>Верещагин</td>\n",
       "      <td>2018-05-25</td>\n",
       "      <td>ultra</td>\n",
       "      <td>1000</td>\n",
       "      <td>30720</td>\n",
       "      <td>3000</td>\n",
       "      <td>1950</td>\n",
       "      <td>150</td>\n",
       "      <td>1</td>\n",
       "      <td>1</td>\n",
       "      <td>15</td>\n",
       "    </tr>\n",
       "  </tbody>\n",
       "</table>\n",
       "</div>"
      ],
      "text/plain": [
       "   user_id      month  call_duration  call_quantity   mb_used  messages  age  \\\n",
       "0     1000 2018-05-01          159.0           22.0   2253.49      22.0   52   \n",
       "1     1000 2018-06-01          172.0           43.0  23233.77      60.0   52   \n",
       "2     1000 2018-07-01          340.0           47.0  14003.64      75.0   52   \n",
       "3     1000 2018-08-01          408.0           52.0  14055.93      81.0   52   \n",
       "4     1000 2018-09-01          466.0           58.0  14568.91      57.0   52   \n",
       "\n",
       "  churn_date       city first_name  last_name   reg_date tariff  \\\n",
       "0        NaT  Краснодар     Рафаил  Верещагин 2018-05-25  ultra   \n",
       "1        NaT  Краснодар     Рафаил  Верещагин 2018-05-25  ultra   \n",
       "2        NaT  Краснодар     Рафаил  Верещагин 2018-05-25  ultra   \n",
       "3        NaT  Краснодар     Рафаил  Верещагин 2018-05-25  ultra   \n",
       "4        NaT  Краснодар     Рафаил  Верещагин 2018-05-25  ultra   \n",
       "\n",
       "   messages_included  mb_per_month_included  minutes_included  \\\n",
       "0               1000                  30720              3000   \n",
       "1               1000                  30720              3000   \n",
       "2               1000                  30720              3000   \n",
       "3               1000                  30720              3000   \n",
       "4               1000                  30720              3000   \n",
       "\n",
       "   rub_monthly_fee  rub_per_gb  rub_per_message  rub_per_minute  gb_used  \n",
       "0             1950         150                1               1        3  \n",
       "1             1950         150                1               1       23  \n",
       "2             1950         150                1               1       14  \n",
       "3             1950         150                1               1       14  \n",
       "4             1950         150                1               1       15  "
      ]
     },
     "execution_count": 27,
     "metadata": {},
     "output_type": "execute_result"
    }
   ],
   "source": [
    "df['gb_used'] = np.ceil(df['mb_used'] / 1024).astype('int64')\n",
    "df.head()"
   ]
  },
  {
   "cell_type": "markdown",
   "id": "34ec4bcb",
   "metadata": {},
   "source": [
    "Let's calculate monthly revenue for each user. To do this, we need to subtract the included package limit from the total number of calls, messages and Internet traffic, and multiply the remainder by the value from the tariff plan; then add the monthly fee corresponding to the plan:"
   ]
  },
  {
   "cell_type": "code",
   "execution_count": 28,
   "id": "d83ff5b3",
   "metadata": {
    "scrolled": true
   },
   "outputs": [
    {
     "data": {
      "text/html": [
       "<div>\n",
       "<style scoped>\n",
       "    .dataframe tbody tr th:only-of-type {\n",
       "        vertical-align: middle;\n",
       "    }\n",
       "\n",
       "    .dataframe tbody tr th {\n",
       "        vertical-align: top;\n",
       "    }\n",
       "\n",
       "    .dataframe thead th {\n",
       "        text-align: right;\n",
       "    }\n",
       "</style>\n",
       "<table border=\"1\" class=\"dataframe\">\n",
       "  <thead>\n",
       "    <tr style=\"text-align: right;\">\n",
       "      <th></th>\n",
       "      <th>user_id</th>\n",
       "      <th>month</th>\n",
       "      <th>call_duration</th>\n",
       "      <th>call_quantity</th>\n",
       "      <th>mb_used</th>\n",
       "      <th>messages</th>\n",
       "      <th>age</th>\n",
       "      <th>churn_date</th>\n",
       "      <th>city</th>\n",
       "      <th>first_name</th>\n",
       "      <th>last_name</th>\n",
       "      <th>reg_date</th>\n",
       "      <th>tariff</th>\n",
       "      <th>messages_included</th>\n",
       "      <th>mb_per_month_included</th>\n",
       "      <th>minutes_included</th>\n",
       "      <th>rub_monthly_fee</th>\n",
       "      <th>rub_per_gb</th>\n",
       "      <th>rub_per_message</th>\n",
       "      <th>rub_per_minute</th>\n",
       "      <th>gb_used</th>\n",
       "      <th>calls_income</th>\n",
       "      <th>messages_income</th>\n",
       "      <th>internet_income</th>\n",
       "      <th>income</th>\n",
       "    </tr>\n",
       "  </thead>\n",
       "  <tbody>\n",
       "    <tr>\n",
       "      <th>0</th>\n",
       "      <td>1000</td>\n",
       "      <td>2018-05-01</td>\n",
       "      <td>159.0</td>\n",
       "      <td>22.0</td>\n",
       "      <td>2253.49</td>\n",
       "      <td>22.0</td>\n",
       "      <td>52</td>\n",
       "      <td>NaT</td>\n",
       "      <td>Краснодар</td>\n",
       "      <td>Рафаил</td>\n",
       "      <td>Верещагин</td>\n",
       "      <td>2018-05-25</td>\n",
       "      <td>ultra</td>\n",
       "      <td>1000</td>\n",
       "      <td>30720</td>\n",
       "      <td>3000</td>\n",
       "      <td>1950</td>\n",
       "      <td>150</td>\n",
       "      <td>1</td>\n",
       "      <td>1</td>\n",
       "      <td>3</td>\n",
       "      <td>0.0</td>\n",
       "      <td>0.0</td>\n",
       "      <td>0.0</td>\n",
       "      <td>1950.0</td>\n",
       "    </tr>\n",
       "    <tr>\n",
       "      <th>1</th>\n",
       "      <td>1000</td>\n",
       "      <td>2018-06-01</td>\n",
       "      <td>172.0</td>\n",
       "      <td>43.0</td>\n",
       "      <td>23233.77</td>\n",
       "      <td>60.0</td>\n",
       "      <td>52</td>\n",
       "      <td>NaT</td>\n",
       "      <td>Краснодар</td>\n",
       "      <td>Рафаил</td>\n",
       "      <td>Верещагин</td>\n",
       "      <td>2018-05-25</td>\n",
       "      <td>ultra</td>\n",
       "      <td>1000</td>\n",
       "      <td>30720</td>\n",
       "      <td>3000</td>\n",
       "      <td>1950</td>\n",
       "      <td>150</td>\n",
       "      <td>1</td>\n",
       "      <td>1</td>\n",
       "      <td>23</td>\n",
       "      <td>0.0</td>\n",
       "      <td>0.0</td>\n",
       "      <td>0.0</td>\n",
       "      <td>1950.0</td>\n",
       "    </tr>\n",
       "    <tr>\n",
       "      <th>2</th>\n",
       "      <td>1000</td>\n",
       "      <td>2018-07-01</td>\n",
       "      <td>340.0</td>\n",
       "      <td>47.0</td>\n",
       "      <td>14003.64</td>\n",
       "      <td>75.0</td>\n",
       "      <td>52</td>\n",
       "      <td>NaT</td>\n",
       "      <td>Краснодар</td>\n",
       "      <td>Рафаил</td>\n",
       "      <td>Верещагин</td>\n",
       "      <td>2018-05-25</td>\n",
       "      <td>ultra</td>\n",
       "      <td>1000</td>\n",
       "      <td>30720</td>\n",
       "      <td>3000</td>\n",
       "      <td>1950</td>\n",
       "      <td>150</td>\n",
       "      <td>1</td>\n",
       "      <td>1</td>\n",
       "      <td>14</td>\n",
       "      <td>0.0</td>\n",
       "      <td>0.0</td>\n",
       "      <td>0.0</td>\n",
       "      <td>1950.0</td>\n",
       "    </tr>\n",
       "    <tr>\n",
       "      <th>3</th>\n",
       "      <td>1000</td>\n",
       "      <td>2018-08-01</td>\n",
       "      <td>408.0</td>\n",
       "      <td>52.0</td>\n",
       "      <td>14055.93</td>\n",
       "      <td>81.0</td>\n",
       "      <td>52</td>\n",
       "      <td>NaT</td>\n",
       "      <td>Краснодар</td>\n",
       "      <td>Рафаил</td>\n",
       "      <td>Верещагин</td>\n",
       "      <td>2018-05-25</td>\n",
       "      <td>ultra</td>\n",
       "      <td>1000</td>\n",
       "      <td>30720</td>\n",
       "      <td>3000</td>\n",
       "      <td>1950</td>\n",
       "      <td>150</td>\n",
       "      <td>1</td>\n",
       "      <td>1</td>\n",
       "      <td>14</td>\n",
       "      <td>0.0</td>\n",
       "      <td>0.0</td>\n",
       "      <td>0.0</td>\n",
       "      <td>1950.0</td>\n",
       "    </tr>\n",
       "    <tr>\n",
       "      <th>4</th>\n",
       "      <td>1000</td>\n",
       "      <td>2018-09-01</td>\n",
       "      <td>466.0</td>\n",
       "      <td>58.0</td>\n",
       "      <td>14568.91</td>\n",
       "      <td>57.0</td>\n",
       "      <td>52</td>\n",
       "      <td>NaT</td>\n",
       "      <td>Краснодар</td>\n",
       "      <td>Рафаил</td>\n",
       "      <td>Верещагин</td>\n",
       "      <td>2018-05-25</td>\n",
       "      <td>ultra</td>\n",
       "      <td>1000</td>\n",
       "      <td>30720</td>\n",
       "      <td>3000</td>\n",
       "      <td>1950</td>\n",
       "      <td>150</td>\n",
       "      <td>1</td>\n",
       "      <td>1</td>\n",
       "      <td>15</td>\n",
       "      <td>0.0</td>\n",
       "      <td>0.0</td>\n",
       "      <td>0.0</td>\n",
       "      <td>1950.0</td>\n",
       "    </tr>\n",
       "  </tbody>\n",
       "</table>\n",
       "</div>"
      ],
      "text/plain": [
       "   user_id      month  call_duration  call_quantity   mb_used  messages  age  \\\n",
       "0     1000 2018-05-01          159.0           22.0   2253.49      22.0   52   \n",
       "1     1000 2018-06-01          172.0           43.0  23233.77      60.0   52   \n",
       "2     1000 2018-07-01          340.0           47.0  14003.64      75.0   52   \n",
       "3     1000 2018-08-01          408.0           52.0  14055.93      81.0   52   \n",
       "4     1000 2018-09-01          466.0           58.0  14568.91      57.0   52   \n",
       "\n",
       "  churn_date       city first_name  last_name   reg_date tariff  \\\n",
       "0        NaT  Краснодар     Рафаил  Верещагин 2018-05-25  ultra   \n",
       "1        NaT  Краснодар     Рафаил  Верещагин 2018-05-25  ultra   \n",
       "2        NaT  Краснодар     Рафаил  Верещагин 2018-05-25  ultra   \n",
       "3        NaT  Краснодар     Рафаил  Верещагин 2018-05-25  ultra   \n",
       "4        NaT  Краснодар     Рафаил  Верещагин 2018-05-25  ultra   \n",
       "\n",
       "   messages_included  mb_per_month_included  minutes_included  \\\n",
       "0               1000                  30720              3000   \n",
       "1               1000                  30720              3000   \n",
       "2               1000                  30720              3000   \n",
       "3               1000                  30720              3000   \n",
       "4               1000                  30720              3000   \n",
       "\n",
       "   rub_monthly_fee  rub_per_gb  rub_per_message  rub_per_minute  gb_used  \\\n",
       "0             1950         150                1               1        3   \n",
       "1             1950         150                1               1       23   \n",
       "2             1950         150                1               1       14   \n",
       "3             1950         150                1               1       14   \n",
       "4             1950         150                1               1       15   \n",
       "\n",
       "   calls_income  messages_income  internet_income  income  \n",
       "0           0.0              0.0              0.0  1950.0  \n",
       "1           0.0              0.0              0.0  1950.0  \n",
       "2           0.0              0.0              0.0  1950.0  \n",
       "3           0.0              0.0              0.0  1950.0  \n",
       "4           0.0              0.0              0.0  1950.0  "
      ]
     },
     "execution_count": 28,
     "metadata": {},
     "output_type": "execute_result"
    }
   ],
   "source": [
    "df['calls_income'] = np.where(df['call_duration'] > df['minutes_included'], \n",
    "                              (df['call_duration'] - df['minutes_included']) * df['rub_per_minute'], 0)\n",
    "df['messages_income'] = np.where(df['messages'] > df['messages_included'], \n",
    "                                 (df['messages'] - df['messages_included']) * df['rub_per_message'], 0)\n",
    "df['internet_income'] = np.where(df['gb_used'] > df['mb_per_month_included']/1024, \n",
    "                                 (df['gb_used'] - df['mb_per_month_included']/1024) * df['rub_per_gb'], 0)\n",
    "df['income'] = df['calls_income'] + df['messages_income'] + df['internet_income'] + df['rub_monthly_fee']\n",
    "df.head()"
   ]
  },
  {
   "cell_type": "markdown",
   "id": "44c05d07",
   "metadata": {},
   "source": [
    "<mark>Necessary calculations added to the dataframe.</mark>"
   ]
  },
  {
   "cell_type": "markdown",
   "id": "fcc1f844",
   "metadata": {},
   "source": [
    "### Conclusion"
   ]
  },
  {
   "cell_type": "markdown",
   "id": "e8f5edd6",
   "metadata": {},
   "source": [
    "The procedures necessary for further analysis were performed:\n",
    "- column names and data types changed, missing values replaced;\n",
    "- data from several tables merged into a single dataframe;\n",
    "- the necessary calculations added to the dataframe.\n",
    "\n",
    "We can start exploratory data analysis."
   ]
  },
  {
   "cell_type": "markdown",
   "id": "3e376475",
   "metadata": {},
   "source": [
    "<hr>"
   ]
  },
  {
   "cell_type": "markdown",
   "id": "3fd910d1",
   "metadata": {},
   "source": [
    "## Exploratory data analysis"
   ]
  },
  {
   "cell_type": "markdown",
   "id": "da4ed4a0",
   "metadata": {},
   "source": [
    "From the entire population of users, let's make two samples based on the tariff plan:"
   ]
  },
  {
   "cell_type": "code",
   "execution_count": 29,
   "id": "6a1e8db4",
   "metadata": {},
   "outputs": [],
   "source": [
    "smart = df[df['tariff'] == 'smart']\n",
    "ultra = df[df['tariff'] == 'ultra']"
   ]
  },
  {
   "cell_type": "markdown",
   "id": "232f6403",
   "metadata": {},
   "source": [
    "Let's see descriptive statistics for users of each tariff:"
   ]
  },
  {
   "cell_type": "code",
   "execution_count": 30,
   "id": "bb57e2ec",
   "metadata": {},
   "outputs": [
    {
     "data": {
      "text/html": [
       "<div>\n",
       "<style scoped>\n",
       "    .dataframe tbody tr th:only-of-type {\n",
       "        vertical-align: middle;\n",
       "    }\n",
       "\n",
       "    .dataframe tbody tr th {\n",
       "        vertical-align: top;\n",
       "    }\n",
       "\n",
       "    .dataframe thead th {\n",
       "        text-align: right;\n",
       "    }\n",
       "</style>\n",
       "<table border=\"1\" class=\"dataframe\">\n",
       "  <thead>\n",
       "    <tr style=\"text-align: right;\">\n",
       "      <th></th>\n",
       "      <th>call_duration</th>\n",
       "      <th>call_quantity</th>\n",
       "      <th>messages</th>\n",
       "      <th>gb_used</th>\n",
       "      <th>calls_income</th>\n",
       "      <th>messages_income</th>\n",
       "      <th>internet_income</th>\n",
       "      <th>income</th>\n",
       "    </tr>\n",
       "  </thead>\n",
       "  <tbody>\n",
       "    <tr>\n",
       "      <th>count</th>\n",
       "      <td>2229.000000</td>\n",
       "      <td>2229.000000</td>\n",
       "      <td>2229.000000</td>\n",
       "      <td>2229.000000</td>\n",
       "      <td>2229.000000</td>\n",
       "      <td>2229.000000</td>\n",
       "      <td>2229.000000</td>\n",
       "      <td>2229.000000</td>\n",
       "    </tr>\n",
       "    <tr>\n",
       "      <th>mean</th>\n",
       "      <td>417.934948</td>\n",
       "      <td>58.463437</td>\n",
       "      <td>33.384029</td>\n",
       "      <td>16.328847</td>\n",
       "      <td>124.816958</td>\n",
       "      <td>17.399731</td>\n",
       "      <td>597.756842</td>\n",
       "      <td>1289.973531</td>\n",
       "    </tr>\n",
       "    <tr>\n",
       "      <th>std</th>\n",
       "      <td>190.313730</td>\n",
       "      <td>25.939858</td>\n",
       "      <td>28.227876</td>\n",
       "      <td>5.747061</td>\n",
       "      <td>254.035718</td>\n",
       "      <td>40.327368</td>\n",
       "      <td>736.563904</td>\n",
       "      <td>818.404367</td>\n",
       "    </tr>\n",
       "    <tr>\n",
       "      <th>min</th>\n",
       "      <td>0.000000</td>\n",
       "      <td>0.000000</td>\n",
       "      <td>0.000000</td>\n",
       "      <td>0.000000</td>\n",
       "      <td>0.000000</td>\n",
       "      <td>0.000000</td>\n",
       "      <td>0.000000</td>\n",
       "      <td>550.000000</td>\n",
       "    </tr>\n",
       "    <tr>\n",
       "      <th>25%</th>\n",
       "      <td>282.000000</td>\n",
       "      <td>40.000000</td>\n",
       "      <td>10.000000</td>\n",
       "      <td>13.000000</td>\n",
       "      <td>0.000000</td>\n",
       "      <td>0.000000</td>\n",
       "      <td>0.000000</td>\n",
       "      <td>550.000000</td>\n",
       "    </tr>\n",
       "    <tr>\n",
       "      <th>50%</th>\n",
       "      <td>422.000000</td>\n",
       "      <td>60.000000</td>\n",
       "      <td>28.000000</td>\n",
       "      <td>17.000000</td>\n",
       "      <td>0.000000</td>\n",
       "      <td>0.000000</td>\n",
       "      <td>400.000000</td>\n",
       "      <td>1023.000000</td>\n",
       "    </tr>\n",
       "    <tr>\n",
       "      <th>75%</th>\n",
       "      <td>545.000000</td>\n",
       "      <td>76.000000</td>\n",
       "      <td>51.000000</td>\n",
       "      <td>20.000000</td>\n",
       "      <td>135.000000</td>\n",
       "      <td>3.000000</td>\n",
       "      <td>1000.000000</td>\n",
       "      <td>1750.000000</td>\n",
       "    </tr>\n",
       "    <tr>\n",
       "      <th>max</th>\n",
       "      <td>1435.000000</td>\n",
       "      <td>198.000000</td>\n",
       "      <td>143.000000</td>\n",
       "      <td>38.000000</td>\n",
       "      <td>2805.000000</td>\n",
       "      <td>279.000000</td>\n",
       "      <td>4600.000000</td>\n",
       "      <td>6770.000000</td>\n",
       "    </tr>\n",
       "  </tbody>\n",
       "</table>\n",
       "</div>"
      ],
      "text/plain": [
       "       call_duration  call_quantity     messages      gb_used  calls_income  \\\n",
       "count    2229.000000    2229.000000  2229.000000  2229.000000   2229.000000   \n",
       "mean      417.934948      58.463437    33.384029    16.328847    124.816958   \n",
       "std       190.313730      25.939858    28.227876     5.747061    254.035718   \n",
       "min         0.000000       0.000000     0.000000     0.000000      0.000000   \n",
       "25%       282.000000      40.000000    10.000000    13.000000      0.000000   \n",
       "50%       422.000000      60.000000    28.000000    17.000000      0.000000   \n",
       "75%       545.000000      76.000000    51.000000    20.000000    135.000000   \n",
       "max      1435.000000     198.000000   143.000000    38.000000   2805.000000   \n",
       "\n",
       "       messages_income  internet_income       income  \n",
       "count      2229.000000      2229.000000  2229.000000  \n",
       "mean         17.399731       597.756842  1289.973531  \n",
       "std          40.327368       736.563904   818.404367  \n",
       "min           0.000000         0.000000   550.000000  \n",
       "25%           0.000000         0.000000   550.000000  \n",
       "50%           0.000000       400.000000  1023.000000  \n",
       "75%           3.000000      1000.000000  1750.000000  \n",
       "max         279.000000      4600.000000  6770.000000  "
      ]
     },
     "execution_count": 30,
     "metadata": {},
     "output_type": "execute_result"
    }
   ],
   "source": [
    "smart.drop(columns=['user_id', 'mb_used', 'age', 'messages_included', 'mb_per_month_included', \n",
    "                    'minutes_included', 'rub_monthly_fee', 'rub_per_gb', 'rub_per_message', 'rub_per_minute']).describe()"
   ]
  },
  {
   "cell_type": "code",
   "execution_count": 31,
   "id": "2fc1a3ba",
   "metadata": {},
   "outputs": [
    {
     "data": {
      "text/html": [
       "<div>\n",
       "<style scoped>\n",
       "    .dataframe tbody tr th:only-of-type {\n",
       "        vertical-align: middle;\n",
       "    }\n",
       "\n",
       "    .dataframe tbody tr th {\n",
       "        vertical-align: top;\n",
       "    }\n",
       "\n",
       "    .dataframe thead th {\n",
       "        text-align: right;\n",
       "    }\n",
       "</style>\n",
       "<table border=\"1\" class=\"dataframe\">\n",
       "  <thead>\n",
       "    <tr style=\"text-align: right;\">\n",
       "      <th></th>\n",
       "      <th>call_duration</th>\n",
       "      <th>call_quantity</th>\n",
       "      <th>messages</th>\n",
       "      <th>gb_used</th>\n",
       "      <th>calls_income</th>\n",
       "      <th>messages_income</th>\n",
       "      <th>internet_income</th>\n",
       "      <th>income</th>\n",
       "    </tr>\n",
       "  </thead>\n",
       "  <tbody>\n",
       "    <tr>\n",
       "      <th>count</th>\n",
       "      <td>985.000000</td>\n",
       "      <td>985.000000</td>\n",
       "      <td>985.000000</td>\n",
       "      <td>985.000000</td>\n",
       "      <td>985.0</td>\n",
       "      <td>985.0</td>\n",
       "      <td>985.000000</td>\n",
       "      <td>985.000000</td>\n",
       "    </tr>\n",
       "    <tr>\n",
       "      <th>mean</th>\n",
       "      <td>526.623350</td>\n",
       "      <td>73.392893</td>\n",
       "      <td>49.363452</td>\n",
       "      <td>19.494416</td>\n",
       "      <td>0.0</td>\n",
       "      <td>0.0</td>\n",
       "      <td>120.152284</td>\n",
       "      <td>2070.152284</td>\n",
       "    </tr>\n",
       "    <tr>\n",
       "      <th>std</th>\n",
       "      <td>317.606098</td>\n",
       "      <td>43.916853</td>\n",
       "      <td>47.804457</td>\n",
       "      <td>9.853511</td>\n",
       "      <td>0.0</td>\n",
       "      <td>0.0</td>\n",
       "      <td>376.187114</td>\n",
       "      <td>376.187114</td>\n",
       "    </tr>\n",
       "    <tr>\n",
       "      <th>min</th>\n",
       "      <td>0.000000</td>\n",
       "      <td>0.000000</td>\n",
       "      <td>0.000000</td>\n",
       "      <td>0.000000</td>\n",
       "      <td>0.0</td>\n",
       "      <td>0.0</td>\n",
       "      <td>0.000000</td>\n",
       "      <td>1950.000000</td>\n",
       "    </tr>\n",
       "    <tr>\n",
       "      <th>25%</th>\n",
       "      <td>284.000000</td>\n",
       "      <td>41.000000</td>\n",
       "      <td>6.000000</td>\n",
       "      <td>12.000000</td>\n",
       "      <td>0.0</td>\n",
       "      <td>0.0</td>\n",
       "      <td>0.000000</td>\n",
       "      <td>1950.000000</td>\n",
       "    </tr>\n",
       "    <tr>\n",
       "      <th>50%</th>\n",
       "      <td>518.000000</td>\n",
       "      <td>74.000000</td>\n",
       "      <td>38.000000</td>\n",
       "      <td>19.000000</td>\n",
       "      <td>0.0</td>\n",
       "      <td>0.0</td>\n",
       "      <td>0.000000</td>\n",
       "      <td>1950.000000</td>\n",
       "    </tr>\n",
       "    <tr>\n",
       "      <th>75%</th>\n",
       "      <td>752.000000</td>\n",
       "      <td>104.000000</td>\n",
       "      <td>79.000000</td>\n",
       "      <td>27.000000</td>\n",
       "      <td>0.0</td>\n",
       "      <td>0.0</td>\n",
       "      <td>0.000000</td>\n",
       "      <td>1950.000000</td>\n",
       "    </tr>\n",
       "    <tr>\n",
       "      <th>max</th>\n",
       "      <td>1673.000000</td>\n",
       "      <td>244.000000</td>\n",
       "      <td>224.000000</td>\n",
       "      <td>49.000000</td>\n",
       "      <td>0.0</td>\n",
       "      <td>0.0</td>\n",
       "      <td>2850.000000</td>\n",
       "      <td>4800.000000</td>\n",
       "    </tr>\n",
       "  </tbody>\n",
       "</table>\n",
       "</div>"
      ],
      "text/plain": [
       "       call_duration  call_quantity    messages     gb_used  calls_income  \\\n",
       "count     985.000000     985.000000  985.000000  985.000000         985.0   \n",
       "mean      526.623350      73.392893   49.363452   19.494416           0.0   \n",
       "std       317.606098      43.916853   47.804457    9.853511           0.0   \n",
       "min         0.000000       0.000000    0.000000    0.000000           0.0   \n",
       "25%       284.000000      41.000000    6.000000   12.000000           0.0   \n",
       "50%       518.000000      74.000000   38.000000   19.000000           0.0   \n",
       "75%       752.000000     104.000000   79.000000   27.000000           0.0   \n",
       "max      1673.000000     244.000000  224.000000   49.000000           0.0   \n",
       "\n",
       "       messages_income  internet_income       income  \n",
       "count            985.0       985.000000   985.000000  \n",
       "mean               0.0       120.152284  2070.152284  \n",
       "std                0.0       376.187114   376.187114  \n",
       "min                0.0         0.000000  1950.000000  \n",
       "25%                0.0         0.000000  1950.000000  \n",
       "50%                0.0         0.000000  1950.000000  \n",
       "75%                0.0         0.000000  1950.000000  \n",
       "max                0.0      2850.000000  4800.000000  "
      ]
     },
     "execution_count": 31,
     "metadata": {},
     "output_type": "execute_result"
    }
   ],
   "source": [
    "ultra.drop(columns=['user_id', 'mb_used', 'age', 'messages_included', 'mb_per_month_included', \n",
    "                    'minutes_included', 'rub_monthly_fee', 'rub_per_gb', 'rub_per_message', 'rub_per_minute']).describe()"
   ]
  },
  {
   "cell_type": "code",
   "execution_count": 32,
   "id": "91559041",
   "metadata": {},
   "outputs": [
    {
     "name": "stdout",
     "output_type": "stream",
     "text": [
      "three-sigma rule for call_duration for smart users: -153.006241260281 988.8761380749961\n",
      "three-sigma rule for call_duration for ultra users: -426.19494332357215 1479.4416438311864\n",
      "three-sigma rule for messages for smart users: -51.299597957857145 118.06765538271134\n",
      "three-sigma rule for messages for ultra users: -94.04992027387439 192.7768238271739\n",
      "three-sigma rule for gb_used for smart users: -0.912334688927789 33.57002872212654\n",
      "three-sigma rule for gb_used for ultra users: -10.066117858876058 49.054950346185706\n"
     ]
    }
   ],
   "source": [
    "# three-sigma rule\n",
    "cols = ['call_duration', 'messages', 'gb_used']\n",
    "for col in cols:\n",
    "    print(f'three-sigma rule for {col} for smart users:', \n",
    "          smart[col].mean()-3*np.sqrt(np.var(smart[col], ddof=1)), smart[col].mean()+3*np.sqrt(np.var(smart[col], ddof=1)))\n",
    "    print(f'three-sigma rule for {col} for ultra users:', \n",
    "          ultra[col].mean()-3*np.sqrt(np.var(ultra[col], ddof=1)), ultra[col].mean()+3*np.sqrt(np.var(ultra[col], ddof=1)))"
   ]
  },
  {
   "cell_type": "markdown",
   "id": "45627fe8",
   "metadata": {},
   "source": [
    "The average monthly number of minutes for `ultra` users is 109 minutes more than for `smart` users (527 and 418 minutes/month, respectively).\n",
    "<br>Standard deviation of minutes per month for `ultra` users is also higher than for `smart` users by 127 minutes/month (318 and 191 minutes/month respectively).\n",
    "<br><mark>According to three-sigma rule **practically all users (about 99%) of `ultra` and `smart` plans need only 1480 and 989 minutes per month respectively**, i.е. almost all users of `ultra` plan require 491 more minutes of conversation per month than users of `smart` plan.</mark>"
   ]
  },
  {
   "cell_type": "markdown",
   "id": "7f34e618",
   "metadata": {},
   "source": [
    "The average monthly number of texts for `ultra` users is 16 messages more than for `smart` users (50 and 34 texts/month, respectively).\n",
    "<br>Standard deviation of texts per month for `ultra` users is also higher than for `smart` users by 19 texts/month (48 and 29 texts/month respectively).\n",
    "<br><mark>According to three-sigma rule **practically all users (about 99%) of `ultra` and `smart` plans need only 193 and 119 text messages per month respectively**, i.е. almost all users of `ultra` plan require 74 more texts per month than users of `smart` plan.</mark>"
   ]
  },
  {
   "cell_type": "markdown",
   "id": "03ef0a86",
   "metadata": {},
   "source": [
    "The average monthly volume of web traffic for `ultra` users is 3 GB more than for `smart` users (20 and 17 GB/month, respectively).\n",
    "<br>Standard deviation of monthly web traffic for `ultra` users is also higher than for `smart` users by 4 GB/month (10 and 6 GB/month respectively).\n",
    "<br><mark>According to three-sigma rule **practically all users (about 99%) of `ultra` and `smart` plans need only 50 and 34 GB of web traffic per month respectively**, i.е. almost all users of `ultra` plan require 16 more GB of Internet traffic per month than users of `smart` plan.</mark>"
   ]
  },
  {
   "cell_type": "markdown",
   "id": "09921bed",
   "metadata": {},
   "source": [
    "The average income from `ultra` users is 780 rubles more than from `smart` users (2070 and 1290 rubles/month, respectively)."
   ]
  },
  {
   "cell_type": "markdown",
   "id": "41e9ffd0",
   "metadata": {},
   "source": [
    "Let's create histograms for calls, messages and the volume of Internet traffic, and income for each tariff:"
   ]
  },
  {
   "cell_type": "code",
   "execution_count": 33,
   "id": "34a0220c",
   "metadata": {
    "scrolled": false
   },
   "outputs": [
    {
     "data": {
      "image/png": "[encoded data removed]",
      "text/plain": [
       "<Figure size 720x360 with 1 Axes>"
      ]
     },
     "metadata": {
      "needs_background": "light"
     },
     "output_type": "display_data"
    },
    {
     "data": {
      "image/png": "[encoded data removed]",
      "text/plain": [
       "<Figure size 720x360 with 1 Axes>"
      ]
     },
     "metadata": {
      "needs_background": "light"
     },
     "output_type": "display_data"
    },
    {
     "data": {
      "image/png": "[encoded data removed]",
      "text/plain": [
       "<Figure size 720x360 with 1 Axes>"
      ]
     },
     "metadata": {
      "needs_background": "light"
     },
     "output_type": "display_data"
    },
    {
     "data": {
      "image/png": "[encoded data removed]",
      "text/plain": [
       "<Figure size 720x360 with 1 Axes>"
      ]
     },
     "metadata": {
      "needs_background": "light"
     },
     "output_type": "display_data"
    }
   ],
   "source": [
    "columns = ['call_duration', 'messages', 'gb_used', 'income']\n",
    "for column in columns:\n",
    "    ax = smart.plot(\n",
    "        kind='hist',\n",
    "        y=column,\n",
    "        bins=15,\n",
    "        alpha=0.7,\n",
    "        label='smart',\n",
    "    )\n",
    "    ultra.plot(\n",
    "        kind='hist',\n",
    "        y=column,\n",
    "        bins=15,\n",
    "        alpha=0.7,\n",
    "        label='ultra',\n",
    "        ax=ax,\n",
    "        grid=True,\n",
    "        legend=True,\n",
    "        title=column,\n",
    "        figsize=(10,5)\n",
    "    )"
   ]
  },
  {
   "cell_type": "markdown",
   "id": "c6e29bb9",
   "metadata": {},
   "source": [
    "<mark>The histograms above confirm our calculations</mark>: the peaks on the graphs of each parameter (calls, messages and Internet traffic) for `ultra` users are smoother and flatter than for `smart` users, which means that the variance of the considered parameters is greater for `ultra` users than for `smart` users.\n",
    "<br>Besides, **for all considered parameters, datasets of `ultra` users are skewed to the right** (i.e., datasets with positive skew), and **datasets of `smart` users for `call_duration` and `gb_used ` are skewed to the left** (i.e. datasets with negative skew), and the dataset **for `messages` is skewed to the right**.\n",
    "<br>It can also be seen from the graphs that <mark>the number of `smart` users is more than 2 times higher than the number of `ultra` users</mark>.\n",
    "<br>At the same time, <mark>the amount (x-axis) of each of the parameters (calls, messages and Internet traffic) for `ultra` users is greater than for `smart` users</mark>."
   ]
  },
  {
   "cell_type": "markdown",
   "id": "9abdec62",
   "metadata": {},
   "source": [
    "### Conclusion"
   ]
  },
  {
   "cell_type": "markdown",
   "id": "61837ee5",
   "metadata": {},
   "source": [
    "The number of `smart` users is more than 2 times higher than the number of `ultra` users.\n",
    "\n",
    "The average monthly amount of minutes, messages and Internet traffic for `ultra` users is higher than for `smart` users.\n",
    "\n",
    "At the same time, for almost all `ultra` users (about 99%) it is enough a month for about:\n",
    "- 1480 minutes of calls (included package limit is 3000 minutes),\n",
    "- 193 messages (included package limit is 1000 messages),\n",
    "- 50 GB of internet (included package limit is 30 GB).\n",
    "\n",
    "Thus, for almost all `ultra` users, **a monthly package for calls and texts is enough, but included Internet package is not enough**.\n",
    "\n",
    "For almost all `smart` users (about 99%) it is enough a month for about:\n",
    "- 989 minutes of calls (included package limit is 500 minutes),\n",
    "- 119 messages (included package limit is 50 messages),\n",
    "- 34 GB internet (included package limit is 15 GB).\n",
    "\n",
    "Thus, for some `smart` users **a monthly package for calls, texts and Internet is not enough**, and the volume of actually used services exceeds the included package limit by an average of about 2 times."
   ]
  },
  {
   "cell_type": "markdown",
   "id": "0e2115b6",
   "metadata": {},
   "source": [
    "<hr>"
   ]
  },
  {
   "cell_type": "markdown",
   "id": "58d754e1",
   "metadata": {},
   "source": [
    "## Statistical hypothesis testing"
   ]
  },
  {
   "cell_type": "markdown",
   "id": "a1486805",
   "metadata": {},
   "source": [
    "### Comparison of the two tariffs users' revenue"
   ]
  },
  {
   "cell_type": "markdown",
   "id": "e8a2e492",
   "metadata": {},
   "source": [
    "We need to test the hypothesis that the average monthly revenue from `ultra` and `smart` users differs.\n",
    "<br>Let's formulate **H₀**: the average revenue from `ultra` users is **equal** to the average revenue from `smart` users.\n",
    "<br>Then the **two-tailed alternative hypothesis H₁**: the average revenue from `ultra` users is **not equal** to the average revenue from `smart` users.\n",
    "<br>The null hypothesis is rejected if the probability of obtaining the mean that is available in the sample data is too small.\n",
    "<br>Let's set the critical level of statistical significance to 0.01.\n",
    "<br>Since the samples are of different sizes, we will specify the equal_var=False parameter, which means that the variances of the populations are different."
   ]
  },
  {
   "cell_type": "code",
   "execution_count": 34,
   "id": "c55affb3",
   "metadata": {},
   "outputs": [
    {
     "name": "stdout",
     "output_type": "stream",
     "text": [
      "p-value: 4.2606313931076085e-250\n",
      "reject H₀\n"
     ]
    }
   ],
   "source": [
    "# testing the hypothesis that the mean of two populations is equal\n",
    "alpha = .01\n",
    "results = st.ttest_ind(\n",
    "    smart['income'], \n",
    "    ultra['income'], \n",
    "    equal_var=False)\n",
    "print('p-value:', results.pvalue)\n",
    "if results.pvalue < alpha:\n",
    "    print(\"reject H₀\")\n",
    "else:\n",
    "    print(\"do not reject H₀\")"
   ]
  },
  {
   "cell_type": "markdown",
   "id": "4b024884",
   "metadata": {},
   "source": [
    "The resulting p-value indicates that the probability of getting this or more difference randomly is 0%.\n",
    "<br>We can conclude that <mark>the average revenue of `ultra` users is not equal to the average revenue of `smart` users</mark>. This conclusion sounds logical, because, as we found out earlier, on average, the amount of services sufficient for most `smart` users exceeds the included package limits for all services (calls, texts and Internet), which means that some users are forced to pay extra for using services in excess package limits. <br>But on the other hand, the cost of the `ultra` package is 3.5 times higher than the cost of the `smart` package, and this revenue is guaranteed. In turn, the payment in excess of the package limits is not so stable and depends on specific circumstances, and not all users use services above the package limits on a regular basis."
   ]
  },
  {
   "cell_type": "markdown",
   "id": "822e1726",
   "metadata": {},
   "source": [
    "Let's check, one-sided to the left hypothesis that the average revenue of `smart` users is less than the guaranteed amount of revenue of `ultra` users (the monthly fee for using `ultra` is 1950 rubles).\n",
    "<br>Let's formulate **H₀**: the average revenue from `smart` users is **equal** to the guaranteed revenue from `ultra` users, i.е. 1950 rubles.\n",
    "<br>Then **left-sided alternative hypothesis H₁**: the average revenue from `smart` users is **less** than 1950 rubles.\n",
    "<br>The null hypothesis is rejected if the sample mean is significantly less than the expected value.\n",
    "<br>Let's set the critical level of statistical significance to 0.05."
   ]
  },
  {
   "cell_type": "code",
   "execution_count": 35,
   "id": "dd507eb0",
   "metadata": {},
   "outputs": [
    {
     "name": "stdout",
     "output_type": "stream",
     "text": [
      "p-value: 4.426197699974328e-245\n",
      "reject H₀: average revenue from smart users is less than guaranteed revenue from ultra users\n"
     ]
    }
   ],
   "source": [
    "# left-sided hypothesis test\n",
    "alpha = .05\n",
    "interested_value = 1950\n",
    "results = st.ttest_1samp(\n",
    "    smart['income'], \n",
    "    interested_value)\n",
    "print('p-value:', results.pvalue/2)\n",
    "if (results.pvalue/2 < alpha) and (smart['income'].mean() < interested_value):\n",
    "    print(\"reject H₀: average revenue from smart users is less than guaranteed revenue from ultra users\")\n",
    "else:\n",
    "    print(\"do not reject H₀: average revenue from smart users is equal to guaranteed revenue from ultra users\") "
   ]
  },
  {
   "cell_type": "code",
   "execution_count": 36,
   "id": "7d01a16c",
   "metadata": {},
   "outputs": [
    {
     "name": "stdout",
     "output_type": "stream",
     "text": [
      "Average monthly revenue from smart users:  1289.9735307312696\n",
      "Average monthly revenue from ultra users:  2070.1522842639592\n"
     ]
    }
   ],
   "source": [
    "print('Average monthly revenue from smart users: ', smart['income'].mean())\n",
    "print('Average monthly revenue from ultra users: ', ultra['income'].mean())"
   ]
  },
  {
   "cell_type": "markdown",
   "id": "d21fb7c4",
   "metadata": {},
   "source": [
    "Therefore, we can conclude that <mark>the average revenue of `ultra` users is greater than the average revenue of `smart` users</mark>, which means that <mark>for a telecom company, `ultra` plan is more profitable</mark> - with a higher price of the package, and <mark>the commercial department of Megaline needs to attract more customers to the `ultra` plan</mark>."
   ]
  },
  {
   "cell_type": "markdown",
   "id": "caded086",
   "metadata": {},
   "source": [
    "### Comparison of revenue from users in Moscow area  and from other regions users"
   ]
  },
  {
   "cell_type": "markdown",
   "id": "d46857dd",
   "metadata": {},
   "source": [
    "We need to test the hypothesis that the average revenue from users in Moscow area is different from that of the users from other regions.\n",
    "<br>Let's formulate **H₀**: the average revenue from Moscow area users is **equal** to the average revenue from other regions users.\n",
    "<br>Then the **two-tailed alternative hypothesis H₁**: the average revenue from Moscow area users is **not equal** to the average revenue from other regions users.\n",
    "<br>The null hypothesis is rejected if the probability of obtaining the mean that is available in the sample data is too small.\n",
    "<br>Let's set the critical level of statistical significance to 0.01.\n",
    "<br>Since the samples are of different sizes, we will specify the equal_var=False parameter, which means that the variances of the populations are different."
   ]
  },
  {
   "cell_type": "code",
   "execution_count": 37,
   "id": "42d983be",
   "metadata": {},
   "outputs": [],
   "source": [
    "moscow = df[df['city'] == 'Москва']\n",
    "other_regions = df[df['city'] != 'Москва']"
   ]
  },
  {
   "cell_type": "code",
   "execution_count": 38,
   "id": "a4c51cdc",
   "metadata": {
    "scrolled": false
   },
   "outputs": [
    {
     "name": "stdout",
     "output_type": "stream",
     "text": [
      "p-value: 0.5257376663729298\n",
      "do not reject H₀\n"
     ]
    }
   ],
   "source": [
    "alpha = .01\n",
    "results = st.ttest_ind(\n",
    "    moscow['income'], \n",
    "    other_regions['income'], \n",
    "    equal_var=False)\n",
    "print('p-value:', results.pvalue)\n",
    "if results.pvalue < alpha:\n",
    "    print(\"reject H₀\")\n",
    "else:\n",
    "    print(\"do not reject H₀\") "
   ]
  },
  {
   "cell_type": "code",
   "execution_count": 39,
   "id": "2150acad",
   "metadata": {},
   "outputs": [
    {
     "name": "stdout",
     "output_type": "stream",
     "text": [
      "Average monthly revenue from Moscow area users:  1546.7135842880523\n",
      "Average monthly revenue from other regions users:  1524.9362274298885\n"
     ]
    }
   ],
   "source": [
    "print('Average monthly revenue from Moscow area users: ', moscow['income'].mean())\n",
    "print('Average monthly revenue from other regions users: ', other_regions['income'].mean())"
   ]
  },
  {
   "cell_type": "markdown",
   "id": "0980e7f2",
   "metadata": {},
   "source": [
    "The resulting p-value indicates that the probability of getting this or more difference randomly is almost 53%. This is too high probability to conclude that there is a significant difference between the average revenue by region.\n",
    "<br>We can conclude that <mark>the average revenue from Moscow area users is equal to the average revenue from other regions users</mark>. This conclusion sounds logical, since the plans are the same for all regions, therefore, the revenue by users will be approximately the same for all regions, and will change more depending on the lifestyle of users than on their place of residence."
   ]
  },
  {
   "cell_type": "markdown",
   "id": "5c3b9d3c",
   "metadata": {},
   "source": [
    "### Conclusion"
   ]
  },
  {
   "cell_type": "markdown",
   "id": "7109c02f",
   "metadata": {},
   "source": [
    "Testing the hypothesis about the equality of the average revenue from users of the two plans, we came to the conclusion that the average revenue from `ultra` users is not equal to the average revenue from `smart` users.\n",
    "\n",
    "Carried out a left-sided test, we compared the average revenue from `smart` users with the guaranteed revenue from `ultra` users in the amount of the monthly fee, i.e. 1950 rubles, and obtained that the average revenue from `smart` users is less than the average guaranteed revenue from `ultra` users.\n",
    "\n",
    "Therefore, the `ultra` tariff (with a higher cost of the package) is more profitable for the company, and, as a result, the commercial department of Megaline needs to attract more customers to the `ultra` tariff.\n",
    "\n",
    "Testing the hypothesis about the equality of the average revenue from Moscow users and that from other regions, we came to the conclusion that the average revenue from Moscow users is equal to the average revenue from other regions users."
   ]
  },
  {
   "cell_type": "markdown",
   "id": "cca92e0a",
   "metadata": {},
   "source": [
    "## Results and Conclusion"
   ]
  },
  {
   "cell_type": "markdown",
   "id": "6d88ab6d",
   "metadata": {},
   "source": [
    "In order to adjust the advertising budget the commercial department of the telecom operator \"Megaline\" wants to know which of the two plans brings in more revenue. We were provided with the data on 500 Megaline's clients: who the clients are, where they're from, which plan they used, and the number of calls they made and text messages they sent in 2018.\n",
    "\n",
    "We loaded and examined the provided data, and then performed the following transformations:\n",
    "- checked the data for duplicates - no explicit and implicit duplicates were found in the tables;\n",
    "- identified a lot of missing values only in the `churn_date` column of the `users` table. We decided, that there is no need to replace these missing values, because according to the data description, if the value is missing, the calling plan was being used when the data was extracted, or in othe words, it is an active user;\n",
    "- converted the data types into *datetime* in the following columns: `call_date` (the `calls` table), `session_date` (the `internet` table), `message_date` (the `messages` table), `churn_date` and  `reg_date` (the `users` table);\n",
    "- rounded up and converted to the *int* format the `duration` column of the `calls` table, since \"Megaline\" rounds seconds of each individual call up to minutes;\n",
    "- deleted rows of the `internet` table, where the amount of web traffic spent per session is zero, because it does not carry a semantic load;\n",
    "- created pivot tables by users by calendar months from the `calls`, `internet` and `messages` tables;\n",
    "- merged `calls`, `internet` and `messages` grouped tables into a single dataframe based on the `user_id` and `month` columns, and then merged them all with the `users` table based on the `user_id` column, and with the `tariffs` table based on the `tariff` column using outer merging;\n",
    "- replaced the missing values in the `call_duration`, `call_quantity`, `mb_used`, `messages` columns with `0`, which means that on a particular month the user did not make a call, or did not use the mobile Internet, or did not send a text accordingly;\n",
    "- converted the monthly volume of each user's web traffic into gigabytes, and also rounded it up;\n",
    "- calculated the monthly revenue for each user."
   ]
  },
  {
   "cell_type": "markdown",
   "id": "a0f26985",
   "metadata": {},
   "source": [
    "Next, we performed the following procedures:\n",
    "- analyzed the clients' behavior and noticed the following:\n",
    "    - the number of `smart` users is more than 2 times higher than the number of `ultra` users.\n",
    "    - the average monthly amount of minutes, messages and Internet traffic for `ultra` users is higher than for `smart` users.\n",
    "    - almost all `ultra` users are satisfied with a monthly package for calls and texts, but not enough for the Internet traffic included in the package. But for some `smart` users, a monthly package limits for calls, texts and Internet traffic is not enough, and the amount of actually used services may exceed the package limits by about 2 times.\n",
    "-  tested two hypotheses:\n",
    "    - about the equality of the average revenue of the two tariffs users, we came to the conclusion that the average revenue from `ultra` users is not equal to the average revenue from `smart` users, and the average revenue from `smart` users is less than the average guaranteed revenue from `ultra` users in the amount of the monthly fee, i.е. 1950 rubles.\n",
    "    - about the equality of the average revenue from Moscow users and that from other regions, we came to the conclusion that the average revenue from Moscow users is equal to the average revenue from other regions users.\n",
    "\n",
    "Thus, <mark>it is expedient for Megaline's commercial department to attract more customers to the `ultra` tariff, since it is more profitable for the company in terms of obtaining guaranteed revenue (i.e., monthly fee).\n",
    "<br>An advertising campaign to attract new `ultra` users should be carried out for all regions.</mark>"
   ]
  },
  {
   "cell_type": "markdown",
   "id": "bbf58b22",
   "metadata": {},
   "source": [
    "<hr>"
   ]
  }
 ],
 "metadata": {
  "ExecuteTimeLog": [
   {
    "duration": 1304,
    "start_time": "2022-04-06T23:38:47.983Z"
   },
   {
    "duration": 387,
    "start_time": "2022-04-06T23:45:30.586Z"
   },
   {
    "duration": 4,
    "start_time": "2022-04-06T23:45:35.016Z"
   },
   {
    "duration": 13,
    "start_time": "2022-04-06T23:46:12.221Z"
   },
   {
    "duration": 8,
    "start_time": "2022-04-06T23:46:23.143Z"
   },
   {
    "duration": 8,
    "start_time": "2022-04-06T23:46:32.691Z"
   },
   {
    "duration": 8,
    "start_time": "2022-04-06T23:46:43.714Z"
   },
   {
    "duration": 10,
    "start_time": "2022-04-06T23:46:57.917Z"
   },
   {
    "duration": 86,
    "start_time": "2022-04-06T23:47:59.912Z"
   },
   {
    "duration": 3,
    "start_time": "2022-04-06T23:48:09.314Z"
   },
   {
    "duration": 66,
    "start_time": "2022-04-06T23:48:25.324Z"
   },
   {
    "duration": 28,
    "start_time": "2022-04-06T23:50:04.903Z"
   },
   {
    "duration": 66,
    "start_time": "2022-04-06T23:50:53.647Z"
   },
   {
    "duration": 80,
    "start_time": "2022-04-06T23:53:19.734Z"
   },
   {
    "duration": 85,
    "start_time": "2022-04-06T23:53:58.774Z"
   },
   {
    "duration": 87,
    "start_time": "2022-04-06T23:55:20.405Z"
   },
   {
    "duration": 108,
    "start_time": "2022-04-06T23:58:33.539Z"
   },
   {
    "duration": 9,
    "start_time": "2022-04-06T23:58:39.015Z"
   },
   {
    "duration": 12,
    "start_time": "2022-04-07T00:00:14.505Z"
   },
   {
    "duration": 10,
    "start_time": "2022-04-07T00:03:28.891Z"
   },
   {
    "duration": 389,
    "start_time": "2022-04-07T00:04:44.580Z"
   },
   {
    "duration": 3,
    "start_time": "2022-04-07T00:05:42.958Z"
   },
   {
    "duration": 35,
    "start_time": "2022-04-07T00:06:04.854Z"
   },
   {
    "duration": 12,
    "start_time": "2022-04-07T00:06:19.159Z"
   },
   {
    "duration": 36,
    "start_time": "2022-04-07T00:06:31.157Z"
   },
   {
    "duration": 31,
    "start_time": "2022-04-07T00:07:15.054Z"
   },
   {
    "duration": 31,
    "start_time": "2022-04-07T00:07:25.176Z"
   },
   {
    "duration": 30,
    "start_time": "2022-04-07T00:07:35.941Z"
   },
   {
    "duration": 32,
    "start_time": "2022-04-07T00:07:41.430Z"
   },
   {
    "duration": 68,
    "start_time": "2022-04-07T00:09:05.733Z"
   },
   {
    "duration": 396,
    "start_time": "2022-04-07T00:32:06.087Z"
   },
   {
    "duration": 3,
    "start_time": "2022-04-07T00:32:08.453Z"
   },
   {
    "duration": 30,
    "start_time": "2022-04-07T00:32:10.298Z"
   },
   {
    "duration": 30,
    "start_time": "2022-04-07T00:32:46.815Z"
   },
   {
    "duration": 67,
    "start_time": "2022-04-07T00:32:58.112Z"
   },
   {
    "duration": 1399,
    "start_time": "2022-04-07T17:23:37.659Z"
   },
   {
    "duration": 466,
    "start_time": "2022-04-07T17:23:40.566Z"
   },
   {
    "duration": 12,
    "start_time": "2022-04-07T17:23:43.061Z"
   },
   {
    "duration": 44,
    "start_time": "2022-04-07T17:23:46.020Z"
   },
   {
    "duration": 78,
    "start_time": "2022-04-07T17:23:58.967Z"
   },
   {
    "duration": 238,
    "start_time": "2022-04-07T20:08:51.676Z"
   },
   {
    "duration": 254,
    "start_time": "2022-04-07T20:09:13.612Z"
   },
   {
    "duration": 242,
    "start_time": "2022-04-07T20:10:35.390Z"
   },
   {
    "duration": 5,
    "start_time": "2022-04-07T20:15:34.263Z"
   },
   {
    "duration": 6,
    "start_time": "2022-04-07T20:16:52.466Z"
   },
   {
    "duration": 67,
    "start_time": "2022-04-07T20:23:05.156Z"
   },
   {
    "duration": 122,
    "start_time": "2022-04-07T20:23:24.026Z"
   },
   {
    "duration": 115,
    "start_time": "2022-04-07T20:23:33.044Z"
   },
   {
    "duration": 109,
    "start_time": "2022-04-07T20:23:41.564Z"
   },
   {
    "duration": 68,
    "start_time": "2022-04-07T21:11:46.845Z"
   },
   {
    "duration": 82,
    "start_time": "2022-04-07T21:13:01.866Z"
   },
   {
    "duration": 88,
    "start_time": "2022-04-07T21:19:27.257Z"
   },
   {
    "duration": 59,
    "start_time": "2022-04-07T21:19:33.150Z"
   },
   {
    "duration": 77,
    "start_time": "2022-04-07T21:25:42.488Z"
   },
   {
    "duration": 11,
    "start_time": "2022-04-07T21:26:20.444Z"
   },
   {
    "duration": 9,
    "start_time": "2022-04-07T21:27:00.643Z"
   },
   {
    "duration": 18,
    "start_time": "2022-04-07T21:27:20.343Z"
   },
   {
    "duration": 14,
    "start_time": "2022-04-07T21:28:43.913Z"
   },
   {
    "duration": 4,
    "start_time": "2022-04-07T21:29:50.083Z"
   },
   {
    "duration": 9,
    "start_time": "2022-04-07T21:30:14.683Z"
   },
   {
    "duration": 25,
    "start_time": "2022-04-07T21:32:43.931Z"
   },
   {
    "duration": 23,
    "start_time": "2022-04-07T21:35:45.621Z"
   },
   {
    "duration": 86,
    "start_time": "2022-04-07T22:16:22.049Z"
   },
   {
    "duration": 78,
    "start_time": "2022-04-07T22:19:02.296Z"
   },
   {
    "duration": 134,
    "start_time": "2022-04-07T22:19:35.701Z"
   },
   {
    "duration": 7,
    "start_time": "2022-04-07T22:28:13.158Z"
   },
   {
    "duration": 138,
    "start_time": "2022-04-07T22:28:40.077Z"
   },
   {
    "duration": 75,
    "start_time": "2022-04-07T22:29:50.088Z"
   },
   {
    "duration": 3,
    "start_time": "2022-04-07T22:30:02.946Z"
   },
   {
    "duration": 485,
    "start_time": "2022-04-07T22:30:02.953Z"
   },
   {
    "duration": 5,
    "start_time": "2022-04-07T22:30:03.442Z"
   },
   {
    "duration": 48,
    "start_time": "2022-04-07T22:30:03.448Z"
   },
   {
    "duration": 102,
    "start_time": "2022-04-07T22:30:03.498Z"
   },
   {
    "duration": 250,
    "start_time": "2022-04-07T22:30:03.602Z"
   },
   {
    "duration": 6,
    "start_time": "2022-04-07T22:30:03.854Z"
   },
   {
    "duration": 15,
    "start_time": "2022-04-07T22:30:03.861Z"
   },
   {
    "duration": 138,
    "start_time": "2022-04-07T22:30:03.877Z"
   },
   {
    "duration": 96,
    "start_time": "2022-04-07T22:30:04.017Z"
   },
   {
    "duration": 70,
    "start_time": "2022-04-07T22:30:04.115Z"
   },
   {
    "duration": 7,
    "start_time": "2022-04-07T22:30:04.187Z"
   },
   {
    "duration": 17,
    "start_time": "2022-04-07T22:30:04.195Z"
   },
   {
    "duration": 52,
    "start_time": "2022-04-07T22:30:04.214Z"
   },
   {
    "duration": 18,
    "start_time": "2022-04-07T22:30:04.268Z"
   },
   {
    "duration": 15,
    "start_time": "2022-04-07T22:30:04.287Z"
   },
   {
    "duration": 16,
    "start_time": "2022-04-07T22:30:04.304Z"
   },
   {
    "duration": 8,
    "start_time": "2022-04-07T22:30:04.322Z"
   },
   {
    "duration": 138,
    "start_time": "2022-04-07T22:30:11.063Z"
   },
   {
    "duration": 3,
    "start_time": "2022-04-07T22:31:02.471Z"
   },
   {
    "duration": 500,
    "start_time": "2022-04-07T22:31:02.476Z"
   },
   {
    "duration": 3,
    "start_time": "2022-04-07T22:31:02.979Z"
   },
   {
    "duration": 43,
    "start_time": "2022-04-07T22:31:02.984Z"
   },
   {
    "duration": 85,
    "start_time": "2022-04-07T22:31:03.028Z"
   },
   {
    "duration": 250,
    "start_time": "2022-04-07T22:31:03.116Z"
   },
   {
    "duration": 6,
    "start_time": "2022-04-07T22:31:03.368Z"
   },
   {
    "duration": 13,
    "start_time": "2022-04-07T22:31:03.375Z"
   },
   {
    "duration": 154,
    "start_time": "2022-04-07T22:31:03.390Z"
   },
   {
    "duration": 86,
    "start_time": "2022-04-07T22:31:03.546Z"
   },
   {
    "duration": 66,
    "start_time": "2022-04-07T22:31:03.635Z"
   },
   {
    "duration": 29,
    "start_time": "2022-04-07T22:31:03.703Z"
   },
   {
    "duration": 7,
    "start_time": "2022-04-07T22:31:03.735Z"
   },
   {
    "duration": 28,
    "start_time": "2022-04-07T22:31:03.744Z"
   },
   {
    "duration": 16,
    "start_time": "2022-04-07T22:31:03.775Z"
   },
   {
    "duration": 40,
    "start_time": "2022-04-07T22:31:03.793Z"
   },
   {
    "duration": 20,
    "start_time": "2022-04-07T22:31:03.836Z"
   },
   {
    "duration": 8,
    "start_time": "2022-04-07T22:31:03.858Z"
   },
   {
    "duration": 71,
    "start_time": "2022-04-07T22:31:07.894Z"
   },
   {
    "duration": 75,
    "start_time": "2022-04-07T22:31:20.768Z"
   },
   {
    "duration": 3,
    "start_time": "2022-04-07T22:31:32.000Z"
   },
   {
    "duration": 12,
    "start_time": "2022-04-07T22:31:44.016Z"
   },
   {
    "duration": 64,
    "start_time": "2022-04-07T22:32:01.368Z"
   },
   {
    "duration": 7,
    "start_time": "2022-04-07T22:33:32.119Z"
   },
   {
    "duration": 1198,
    "start_time": "2022-04-07T22:33:38.271Z"
   },
   {
    "duration": 484,
    "start_time": "2022-04-07T22:33:39.471Z"
   },
   {
    "duration": 3,
    "start_time": "2022-04-07T22:33:39.957Z"
   },
   {
    "duration": 45,
    "start_time": "2022-04-07T22:33:39.962Z"
   },
   {
    "duration": 85,
    "start_time": "2022-04-07T22:33:40.009Z"
   },
   {
    "duration": 289,
    "start_time": "2022-04-07T22:33:40.096Z"
   },
   {
    "duration": 6,
    "start_time": "2022-04-07T22:33:40.387Z"
   },
   {
    "duration": 13,
    "start_time": "2022-04-07T22:33:40.394Z"
   },
   {
    "duration": 149,
    "start_time": "2022-04-07T22:33:40.408Z"
   },
   {
    "duration": 107,
    "start_time": "2022-04-07T22:33:40.560Z"
   },
   {
    "duration": 76,
    "start_time": "2022-04-07T22:33:40.669Z"
   },
   {
    "duration": 9,
    "start_time": "2022-04-07T22:33:40.747Z"
   },
   {
    "duration": 8,
    "start_time": "2022-04-07T22:33:40.758Z"
   },
   {
    "duration": 22,
    "start_time": "2022-04-07T22:33:40.767Z"
   },
   {
    "duration": 47,
    "start_time": "2022-04-07T22:33:40.790Z"
   },
   {
    "duration": 18,
    "start_time": "2022-04-07T22:33:40.840Z"
   },
   {
    "duration": 16,
    "start_time": "2022-04-07T22:33:40.859Z"
   },
   {
    "duration": 8,
    "start_time": "2022-04-07T22:33:40.876Z"
   },
   {
    "duration": 115,
    "start_time": "2022-04-07T22:33:49.493Z"
   },
   {
    "duration": 50,
    "start_time": "2022-04-07T22:34:39.070Z"
   },
   {
    "duration": 1222,
    "start_time": "2022-04-07T22:35:21.412Z"
   },
   {
    "duration": 560,
    "start_time": "2022-04-07T22:35:22.637Z"
   },
   {
    "duration": 3,
    "start_time": "2022-04-07T22:35:23.199Z"
   },
   {
    "duration": 49,
    "start_time": "2022-04-07T22:35:23.204Z"
   },
   {
    "duration": 100,
    "start_time": "2022-04-07T22:35:23.255Z"
   },
   {
    "duration": 279,
    "start_time": "2022-04-07T22:35:23.357Z"
   },
   {
    "duration": 8,
    "start_time": "2022-04-07T22:35:23.639Z"
   },
   {
    "duration": 8,
    "start_time": "2022-04-07T22:35:23.649Z"
   },
   {
    "duration": 139,
    "start_time": "2022-04-07T22:35:23.658Z"
   },
   {
    "duration": 108,
    "start_time": "2022-04-07T22:35:23.800Z"
   },
   {
    "duration": 75,
    "start_time": "2022-04-07T22:35:23.910Z"
   },
   {
    "duration": 8,
    "start_time": "2022-04-07T22:35:23.987Z"
   },
   {
    "duration": 8,
    "start_time": "2022-04-07T22:35:23.997Z"
   },
   {
    "duration": 44,
    "start_time": "2022-04-07T22:35:24.007Z"
   },
   {
    "duration": 20,
    "start_time": "2022-04-07T22:35:24.053Z"
   },
   {
    "duration": 16,
    "start_time": "2022-04-07T22:35:24.075Z"
   },
   {
    "duration": 57,
    "start_time": "2022-04-07T22:35:24.093Z"
   },
   {
    "duration": 8,
    "start_time": "2022-04-07T22:35:24.151Z"
   },
   {
    "duration": 124,
    "start_time": "2022-04-07T22:35:24.161Z"
   },
   {
    "duration": 58,
    "start_time": "2022-04-07T22:35:47.128Z"
   },
   {
    "duration": 1263,
    "start_time": "2022-04-07T22:36:02.350Z"
   },
   {
    "duration": 558,
    "start_time": "2022-04-07T22:36:03.616Z"
   },
   {
    "duration": 4,
    "start_time": "2022-04-07T22:36:04.175Z"
   },
   {
    "duration": 49,
    "start_time": "2022-04-07T22:36:04.180Z"
   },
   {
    "duration": 87,
    "start_time": "2022-04-07T22:36:04.231Z"
   },
   {
    "duration": 280,
    "start_time": "2022-04-07T22:36:04.333Z"
   },
   {
    "duration": 6,
    "start_time": "2022-04-07T22:36:04.614Z"
   },
   {
    "duration": 8,
    "start_time": "2022-04-07T22:36:04.631Z"
   },
   {
    "duration": 138,
    "start_time": "2022-04-07T22:36:04.643Z"
   },
   {
    "duration": 114,
    "start_time": "2022-04-07T22:36:04.785Z"
   },
   {
    "duration": 83,
    "start_time": "2022-04-07T22:36:04.901Z"
   },
   {
    "duration": 9,
    "start_time": "2022-04-07T22:36:04.985Z"
   },
   {
    "duration": 12,
    "start_time": "2022-04-07T22:36:04.996Z"
   },
   {
    "duration": 40,
    "start_time": "2022-04-07T22:36:05.009Z"
   },
   {
    "duration": 20,
    "start_time": "2022-04-07T22:36:05.050Z"
   },
   {
    "duration": 15,
    "start_time": "2022-04-07T22:36:05.071Z"
   },
   {
    "duration": 57,
    "start_time": "2022-04-07T22:36:05.088Z"
   },
   {
    "duration": 8,
    "start_time": "2022-04-07T22:36:05.147Z"
   },
   {
    "duration": 118,
    "start_time": "2022-04-07T22:36:05.157Z"
   },
   {
    "duration": 1236,
    "start_time": "2022-04-07T22:40:19.923Z"
   },
   {
    "duration": 561,
    "start_time": "2022-04-07T22:40:21.162Z"
   },
   {
    "duration": 4,
    "start_time": "2022-04-07T22:40:21.724Z"
   },
   {
    "duration": 51,
    "start_time": "2022-04-07T22:40:21.730Z"
   },
   {
    "duration": 95,
    "start_time": "2022-04-07T22:40:21.782Z"
   },
   {
    "duration": 286,
    "start_time": "2022-04-07T22:40:21.879Z"
   },
   {
    "duration": 5,
    "start_time": "2022-04-07T22:40:22.167Z"
   },
   {
    "duration": 25,
    "start_time": "2022-04-07T22:40:22.173Z"
   },
   {
    "duration": 114,
    "start_time": "2022-04-07T22:40:22.199Z"
   },
   {
    "duration": 108,
    "start_time": "2022-04-07T22:40:22.331Z"
   },
   {
    "duration": 60,
    "start_time": "2022-04-07T22:40:22.442Z"
   },
   {
    "duration": 35,
    "start_time": "2022-04-07T22:40:22.503Z"
   },
   {
    "duration": 11,
    "start_time": "2022-04-07T22:40:22.541Z"
   },
   {
    "duration": 25,
    "start_time": "2022-04-07T22:40:22.554Z"
   },
   {
    "duration": 19,
    "start_time": "2022-04-07T22:40:22.580Z"
   },
   {
    "duration": 16,
    "start_time": "2022-04-07T22:40:22.601Z"
   },
   {
    "duration": 21,
    "start_time": "2022-04-07T22:40:22.633Z"
   },
   {
    "duration": 12,
    "start_time": "2022-04-07T22:40:22.656Z"
   },
   {
    "duration": 131,
    "start_time": "2022-04-07T22:40:22.670Z"
   },
   {
    "duration": 1259,
    "start_time": "2022-04-07T22:41:46.556Z"
   },
   {
    "duration": 607,
    "start_time": "2022-04-07T22:41:47.817Z"
   },
   {
    "duration": 3,
    "start_time": "2022-04-07T22:41:48.426Z"
   },
   {
    "duration": 66,
    "start_time": "2022-04-07T22:41:48.430Z"
   },
   {
    "duration": 104,
    "start_time": "2022-04-07T22:41:48.498Z"
   },
   {
    "duration": 292,
    "start_time": "2022-04-07T22:41:48.604Z"
   },
   {
    "duration": 5,
    "start_time": "2022-04-07T22:41:48.898Z"
   },
   {
    "duration": 8,
    "start_time": "2022-04-07T22:41:48.905Z"
   },
   {
    "duration": 134,
    "start_time": "2022-04-07T22:41:48.914Z"
   },
   {
    "duration": 120,
    "start_time": "2022-04-07T22:41:49.051Z"
   },
   {
    "duration": 68,
    "start_time": "2022-04-07T22:41:49.173Z"
   },
   {
    "duration": 13,
    "start_time": "2022-04-07T22:41:49.243Z"
   },
   {
    "duration": 12,
    "start_time": "2022-04-07T22:41:49.258Z"
   },
   {
    "duration": 19,
    "start_time": "2022-04-07T22:41:49.273Z"
   },
   {
    "duration": 51,
    "start_time": "2022-04-07T22:41:49.294Z"
   },
   {
    "duration": 19,
    "start_time": "2022-04-07T22:41:49.347Z"
   },
   {
    "duration": 15,
    "start_time": "2022-04-07T22:41:49.368Z"
   },
   {
    "duration": 8,
    "start_time": "2022-04-07T22:41:49.385Z"
   },
   {
    "duration": 137,
    "start_time": "2022-04-07T22:41:49.394Z"
   },
   {
    "duration": 1352,
    "start_time": "2022-04-07T22:44:01.673Z"
   },
   {
    "duration": 643,
    "start_time": "2022-04-07T22:44:03.027Z"
   },
   {
    "duration": 5,
    "start_time": "2022-04-07T22:44:03.673Z"
   },
   {
    "duration": 42,
    "start_time": "2022-04-07T22:44:03.681Z"
   },
   {
    "duration": 94,
    "start_time": "2022-04-07T22:44:03.725Z"
   },
   {
    "duration": 319,
    "start_time": "2022-04-07T22:44:03.821Z"
   },
   {
    "duration": 13,
    "start_time": "2022-04-07T22:44:04.142Z"
   },
   {
    "duration": 7,
    "start_time": "2022-04-07T22:44:04.159Z"
   },
   {
    "duration": 139,
    "start_time": "2022-04-07T22:44:04.168Z"
   },
   {
    "duration": 119,
    "start_time": "2022-04-07T22:44:04.311Z"
   },
   {
    "duration": 71,
    "start_time": "2022-04-07T22:44:04.440Z"
   },
   {
    "duration": 29,
    "start_time": "2022-04-07T22:44:04.513Z"
   },
   {
    "duration": 8,
    "start_time": "2022-04-07T22:44:04.545Z"
   },
   {
    "duration": 31,
    "start_time": "2022-04-07T22:44:04.556Z"
   },
   {
    "duration": 19,
    "start_time": "2022-04-07T22:44:04.589Z"
   },
   {
    "duration": 39,
    "start_time": "2022-04-07T22:44:04.610Z"
   },
   {
    "duration": 20,
    "start_time": "2022-04-07T22:44:04.652Z"
   },
   {
    "duration": 8,
    "start_time": "2022-04-07T22:44:04.674Z"
   },
   {
    "duration": 145,
    "start_time": "2022-04-07T22:44:04.683Z"
   },
   {
    "duration": 61,
    "start_time": "2022-04-07T22:47:17.804Z"
   },
   {
    "duration": 1354,
    "start_time": "2022-04-07T22:47:24.548Z"
   },
   {
    "duration": 596,
    "start_time": "2022-04-07T22:47:25.904Z"
   },
   {
    "duration": 3,
    "start_time": "2022-04-07T22:47:26.502Z"
   },
   {
    "duration": 54,
    "start_time": "2022-04-07T22:47:26.507Z"
   },
   {
    "duration": 82,
    "start_time": "2022-04-07T22:47:26.563Z"
   },
   {
    "duration": 256,
    "start_time": "2022-04-07T22:47:26.647Z"
   },
   {
    "duration": 5,
    "start_time": "2022-04-07T22:47:26.905Z"
   },
   {
    "duration": 10,
    "start_time": "2022-04-07T22:47:26.912Z"
   },
   {
    "duration": 148,
    "start_time": "2022-04-07T22:47:26.924Z"
   },
   {
    "duration": 92,
    "start_time": "2022-04-07T22:47:27.074Z"
   },
   {
    "duration": 63,
    "start_time": "2022-04-07T22:47:27.168Z"
   },
   {
    "duration": 13,
    "start_time": "2022-04-07T22:47:27.237Z"
   },
   {
    "duration": 16,
    "start_time": "2022-04-07T22:47:27.254Z"
   },
   {
    "duration": 20,
    "start_time": "2022-04-07T22:47:27.271Z"
   },
   {
    "duration": 18,
    "start_time": "2022-04-07T22:47:27.292Z"
   },
   {
    "duration": 14,
    "start_time": "2022-04-07T22:47:27.312Z"
   },
   {
    "duration": 22,
    "start_time": "2022-04-07T22:47:27.328Z"
   },
   {
    "duration": 22,
    "start_time": "2022-04-07T22:47:27.355Z"
   },
   {
    "duration": 116,
    "start_time": "2022-04-07T22:47:27.378Z"
   },
   {
    "duration": 108,
    "start_time": "2022-04-07T22:47:33.872Z"
   },
   {
    "duration": 42,
    "start_time": "2022-04-07T22:48:13.768Z"
   },
   {
    "duration": 3,
    "start_time": "2022-04-08T01:12:59.236Z"
   },
   {
    "duration": 412,
    "start_time": "2022-04-08T01:12:59.243Z"
   },
   {
    "duration": 3,
    "start_time": "2022-04-08T01:12:59.657Z"
   },
   {
    "duration": 42,
    "start_time": "2022-04-08T01:12:59.661Z"
   },
   {
    "duration": 77,
    "start_time": "2022-04-08T01:12:59.705Z"
   },
   {
    "duration": 210,
    "start_time": "2022-04-08T01:12:59.783Z"
   },
   {
    "duration": 5,
    "start_time": "2022-04-08T01:12:59.994Z"
   },
   {
    "duration": 15,
    "start_time": "2022-04-08T01:13:00.001Z"
   },
   {
    "duration": 120,
    "start_time": "2022-04-08T01:13:00.031Z"
   },
   {
    "duration": 93,
    "start_time": "2022-04-08T01:13:00.153Z"
   },
   {
    "duration": 11,
    "start_time": "2022-04-08T01:14:16.926Z"
   },
   {
    "duration": 3,
    "start_time": "2022-04-08T01:17:27.898Z"
   },
   {
    "duration": 5,
    "start_time": "2022-04-08T01:18:08.825Z"
   },
   {
    "duration": 15,
    "start_time": "2022-04-08T01:19:18.212Z"
   },
   {
    "duration": 11,
    "start_time": "2022-04-08T01:20:22.411Z"
   },
   {
    "duration": 83,
    "start_time": "2022-04-08T03:36:44.179Z"
   },
   {
    "duration": 62,
    "start_time": "2022-04-08T03:37:06.139Z"
   },
   {
    "duration": 88,
    "start_time": "2022-04-08T03:37:20.537Z"
   },
   {
    "duration": 2,
    "start_time": "2022-04-08T03:37:31.587Z"
   },
   {
    "duration": 447,
    "start_time": "2022-04-08T03:37:31.595Z"
   },
   {
    "duration": 3,
    "start_time": "2022-04-08T03:37:32.044Z"
   },
   {
    "duration": 47,
    "start_time": "2022-04-08T03:37:32.049Z"
   },
   {
    "duration": 94,
    "start_time": "2022-04-08T03:37:32.097Z"
   },
   {
    "duration": 228,
    "start_time": "2022-04-08T03:37:32.194Z"
   },
   {
    "duration": 11,
    "start_time": "2022-04-08T03:37:32.424Z"
   },
   {
    "duration": 6,
    "start_time": "2022-04-08T03:37:32.437Z"
   },
   {
    "duration": 127,
    "start_time": "2022-04-08T03:37:32.445Z"
   },
   {
    "duration": 99,
    "start_time": "2022-04-08T03:37:32.573Z"
   },
   {
    "duration": 10,
    "start_time": "2022-04-08T03:37:32.674Z"
   },
   {
    "duration": 75,
    "start_time": "2022-04-08T03:37:32.686Z"
   },
   {
    "duration": 7,
    "start_time": "2022-04-08T03:37:32.763Z"
   },
   {
    "duration": 14,
    "start_time": "2022-04-08T03:37:32.772Z"
   },
   {
    "duration": 31,
    "start_time": "2022-04-08T03:37:32.789Z"
   },
   {
    "duration": 22,
    "start_time": "2022-04-08T03:37:32.822Z"
   },
   {
    "duration": 15,
    "start_time": "2022-04-08T03:37:32.846Z"
   },
   {
    "duration": 16,
    "start_time": "2022-04-08T03:37:32.863Z"
   },
   {
    "duration": 8,
    "start_time": "2022-04-08T03:37:32.881Z"
   },
   {
    "duration": 120,
    "start_time": "2022-04-08T03:37:32.891Z"
   },
   {
    "duration": 3,
    "start_time": "2022-04-08T03:38:31.341Z"
   },
   {
    "duration": 433,
    "start_time": "2022-04-08T03:38:31.356Z"
   },
   {
    "duration": 3,
    "start_time": "2022-04-08T03:38:31.791Z"
   },
   {
    "duration": 51,
    "start_time": "2022-04-08T03:38:31.796Z"
   },
   {
    "duration": 86,
    "start_time": "2022-04-08T03:38:31.849Z"
   },
   {
    "duration": 216,
    "start_time": "2022-04-08T03:38:31.936Z"
   },
   {
    "duration": 6,
    "start_time": "2022-04-08T03:38:32.154Z"
   },
   {
    "duration": 16,
    "start_time": "2022-04-08T03:38:32.162Z"
   },
   {
    "duration": 119,
    "start_time": "2022-04-08T03:38:32.179Z"
   },
   {
    "duration": 97,
    "start_time": "2022-04-08T03:38:32.300Z"
   },
   {
    "duration": 10,
    "start_time": "2022-04-08T03:38:32.400Z"
   },
   {
    "duration": 84,
    "start_time": "2022-04-08T03:38:32.413Z"
   },
   {
    "duration": 8,
    "start_time": "2022-04-08T03:38:32.498Z"
   },
   {
    "duration": 17,
    "start_time": "2022-04-08T03:38:32.508Z"
   },
   {
    "duration": 15,
    "start_time": "2022-04-08T03:38:32.532Z"
   },
   {
    "duration": 18,
    "start_time": "2022-04-08T03:38:32.549Z"
   },
   {
    "duration": 15,
    "start_time": "2022-04-08T03:38:32.569Z"
   },
   {
    "duration": 15,
    "start_time": "2022-04-08T03:38:32.585Z"
   },
   {
    "duration": 9,
    "start_time": "2022-04-08T03:38:32.631Z"
   },
   {
    "duration": 70,
    "start_time": "2022-04-08T03:38:39.995Z"
   },
   {
    "duration": 114,
    "start_time": "2022-04-08T03:39:01.112Z"
   },
   {
    "duration": 11,
    "start_time": "2022-04-08T03:40:13.080Z"
   },
   {
    "duration": 64,
    "start_time": "2022-04-08T03:40:15.880Z"
   },
   {
    "duration": 14,
    "start_time": "2022-04-08T03:40:29.908Z"
   },
   {
    "duration": 6,
    "start_time": "2022-04-08T03:41:08.485Z"
   },
   {
    "duration": 88,
    "start_time": "2022-04-08T03:41:59.754Z"
   },
   {
    "duration": 37,
    "start_time": "2022-04-08T03:42:26.098Z"
   },
   {
    "duration": 15,
    "start_time": "2022-04-08T03:51:24.682Z"
   },
   {
    "duration": 14233,
    "start_time": "2022-04-08T03:52:34.765Z"
   },
   {
    "duration": 44,
    "start_time": "2022-04-08T03:53:17.827Z"
   },
   {
    "duration": 36,
    "start_time": "2022-04-08T03:58:02.750Z"
   },
   {
    "duration": 27,
    "start_time": "2022-04-08T04:02:49.608Z"
   },
   {
    "duration": 29,
    "start_time": "2022-04-08T04:03:40.140Z"
   },
   {
    "duration": 3,
    "start_time": "2022-04-08T04:04:20.044Z"
   },
   {
    "duration": 405,
    "start_time": "2022-04-08T04:04:20.051Z"
   },
   {
    "duration": 3,
    "start_time": "2022-04-08T04:04:20.458Z"
   },
   {
    "duration": 43,
    "start_time": "2022-04-08T04:04:20.462Z"
   },
   {
    "duration": 84,
    "start_time": "2022-04-08T04:04:20.507Z"
   },
   {
    "duration": 222,
    "start_time": "2022-04-08T04:04:20.593Z"
   },
   {
    "duration": 16,
    "start_time": "2022-04-08T04:04:20.817Z"
   },
   {
    "duration": 9,
    "start_time": "2022-04-08T04:04:20.835Z"
   },
   {
    "duration": 125,
    "start_time": "2022-04-08T04:04:20.846Z"
   },
   {
    "duration": 99,
    "start_time": "2022-04-08T04:04:20.973Z"
   },
   {
    "duration": 10,
    "start_time": "2022-04-08T04:04:21.075Z"
   },
   {
    "duration": 83,
    "start_time": "2022-04-08T04:04:21.087Z"
   },
   {
    "duration": 6,
    "start_time": "2022-04-08T04:04:21.172Z"
   },
   {
    "duration": 8,
    "start_time": "2022-04-08T04:04:21.180Z"
   },
   {
    "duration": 17,
    "start_time": "2022-04-08T04:04:21.189Z"
   },
   {
    "duration": 39,
    "start_time": "2022-04-08T04:04:21.208Z"
   },
   {
    "duration": 14,
    "start_time": "2022-04-08T04:04:21.249Z"
   },
   {
    "duration": 16,
    "start_time": "2022-04-08T04:04:21.265Z"
   },
   {
    "duration": 9,
    "start_time": "2022-04-08T04:04:21.282Z"
   },
   {
    "duration": 67,
    "start_time": "2022-04-08T04:04:21.292Z"
   },
   {
    "duration": 28,
    "start_time": "2022-04-08T04:04:33.818Z"
   },
   {
    "duration": 15,
    "start_time": "2022-04-08T04:06:13.151Z"
   },
   {
    "duration": 74,
    "start_time": "2022-04-08T04:08:09.494Z"
   },
   {
    "duration": 82,
    "start_time": "2022-04-08T04:15:21.974Z"
   },
   {
    "duration": 28,
    "start_time": "2022-04-08T04:17:53.792Z"
   },
   {
    "duration": 34,
    "start_time": "2022-04-08T04:18:03.231Z"
   },
   {
    "duration": 31,
    "start_time": "2022-04-08T04:19:03.099Z"
   },
   {
    "duration": 34,
    "start_time": "2022-04-08T04:20:04.460Z"
   },
   {
    "duration": 32,
    "start_time": "2022-04-08T04:20:27.665Z"
   },
   {
    "duration": 27,
    "start_time": "2022-04-08T04:20:33.193Z"
   },
   {
    "duration": 26,
    "start_time": "2022-04-08T04:20:42.335Z"
   },
   {
    "duration": 29,
    "start_time": "2022-04-08T04:20:50.088Z"
   },
   {
    "duration": 3,
    "start_time": "2022-04-08T04:21:02.422Z"
   },
   {
    "duration": 430,
    "start_time": "2022-04-08T04:21:02.427Z"
   },
   {
    "duration": 3,
    "start_time": "2022-04-08T04:21:02.859Z"
   },
   {
    "duration": 47,
    "start_time": "2022-04-08T04:21:02.864Z"
   },
   {
    "duration": 77,
    "start_time": "2022-04-08T04:21:02.913Z"
   },
   {
    "duration": 225,
    "start_time": "2022-04-08T04:21:02.992Z"
   },
   {
    "duration": 5,
    "start_time": "2022-04-08T04:21:03.219Z"
   },
   {
    "duration": 25,
    "start_time": "2022-04-08T04:21:03.232Z"
   },
   {
    "duration": 117,
    "start_time": "2022-04-08T04:21:03.260Z"
   },
   {
    "duration": 91,
    "start_time": "2022-04-08T04:21:03.378Z"
   },
   {
    "duration": 10,
    "start_time": "2022-04-08T04:21:03.471Z"
   },
   {
    "duration": 81,
    "start_time": "2022-04-08T04:21:03.483Z"
   },
   {
    "duration": 7,
    "start_time": "2022-04-08T04:21:03.566Z"
   },
   {
    "duration": 21,
    "start_time": "2022-04-08T04:21:03.575Z"
   },
   {
    "duration": 26,
    "start_time": "2022-04-08T04:21:03.597Z"
   },
   {
    "duration": 23,
    "start_time": "2022-04-08T04:21:03.625Z"
   },
   {
    "duration": 14,
    "start_time": "2022-04-08T04:21:03.650Z"
   },
   {
    "duration": 19,
    "start_time": "2022-04-08T04:21:03.665Z"
   },
   {
    "duration": 8,
    "start_time": "2022-04-08T04:21:03.685Z"
   },
   {
    "duration": 28,
    "start_time": "2022-04-08T04:21:09.551Z"
   },
   {
    "duration": 33,
    "start_time": "2022-04-08T04:21:29.937Z"
   },
   {
    "duration": 29,
    "start_time": "2022-04-08T04:23:28.137Z"
   },
   {
    "duration": 28,
    "start_time": "2022-04-08T04:24:21.080Z"
   },
   {
    "duration": 29,
    "start_time": "2022-04-08T04:24:58.963Z"
   },
   {
    "duration": 1814,
    "start_time": "2022-04-08T04:25:19.803Z"
   },
   {
    "duration": 32,
    "start_time": "2022-04-08T04:26:33.139Z"
   },
   {
    "duration": 32,
    "start_time": "2022-04-08T04:28:14.307Z"
   },
   {
    "duration": 29,
    "start_time": "2022-04-08T04:28:28.221Z"
   },
   {
    "duration": 159,
    "start_time": "2022-04-08T04:28:40.731Z"
   },
   {
    "duration": 158,
    "start_time": "2022-04-08T04:28:46.519Z"
   },
   {
    "duration": 39,
    "start_time": "2022-04-08T04:29:10.203Z"
   },
   {
    "duration": 43,
    "start_time": "2022-04-08T04:29:32.427Z"
   },
   {
    "duration": 3,
    "start_time": "2022-04-08T04:30:42.757Z"
   },
   {
    "duration": 421,
    "start_time": "2022-04-08T04:30:42.762Z"
   },
   {
    "duration": 3,
    "start_time": "2022-04-08T04:30:43.185Z"
   },
   {
    "duration": 43,
    "start_time": "2022-04-08T04:30:43.190Z"
   },
   {
    "duration": 74,
    "start_time": "2022-04-08T04:30:43.235Z"
   },
   {
    "duration": 233,
    "start_time": "2022-04-08T04:30:43.311Z"
   },
   {
    "duration": 6,
    "start_time": "2022-04-08T04:30:43.545Z"
   },
   {
    "duration": 12,
    "start_time": "2022-04-08T04:30:43.552Z"
   },
   {
    "duration": 125,
    "start_time": "2022-04-08T04:30:43.566Z"
   },
   {
    "duration": 101,
    "start_time": "2022-04-08T04:30:43.693Z"
   },
   {
    "duration": 11,
    "start_time": "2022-04-08T04:30:43.797Z"
   },
   {
    "duration": 81,
    "start_time": "2022-04-08T04:30:43.810Z"
   },
   {
    "duration": 7,
    "start_time": "2022-04-08T04:30:43.893Z"
   },
   {
    "duration": 8,
    "start_time": "2022-04-08T04:30:43.901Z"
   },
   {
    "duration": 14,
    "start_time": "2022-04-08T04:30:43.932Z"
   },
   {
    "duration": 18,
    "start_time": "2022-04-08T04:30:43.948Z"
   },
   {
    "duration": 15,
    "start_time": "2022-04-08T04:30:43.968Z"
   },
   {
    "duration": 51,
    "start_time": "2022-04-08T04:30:43.985Z"
   },
   {
    "duration": 9,
    "start_time": "2022-04-08T04:30:44.037Z"
   },
   {
    "duration": 37,
    "start_time": "2022-04-08T04:30:44.047Z"
   },
   {
    "duration": 51,
    "start_time": "2022-04-08T04:30:44.085Z"
   },
   {
    "duration": 30,
    "start_time": "2022-04-08T04:30:44.138Z"
   },
   {
    "duration": 45,
    "start_time": "2022-04-08T04:31:19.534Z"
   },
   {
    "duration": 9,
    "start_time": "2022-04-08T04:37:07.305Z"
   },
   {
    "duration": 31,
    "start_time": "2022-04-08T04:37:32.139Z"
   },
   {
    "duration": 31,
    "start_time": "2022-04-08T04:38:04.691Z"
   },
   {
    "duration": 5,
    "start_time": "2022-04-08T04:38:31.272Z"
   },
   {
    "duration": 47,
    "start_time": "2022-04-08T04:40:18.883Z"
   },
   {
    "duration": 43,
    "start_time": "2022-04-08T04:41:17.043Z"
   },
   {
    "duration": 3,
    "start_time": "2022-04-08T04:41:21.652Z"
   },
   {
    "duration": 420,
    "start_time": "2022-04-08T04:41:21.660Z"
   },
   {
    "duration": 4,
    "start_time": "2022-04-08T04:41:22.082Z"
   },
   {
    "duration": 42,
    "start_time": "2022-04-08T04:41:22.087Z"
   },
   {
    "duration": 75,
    "start_time": "2022-04-08T04:41:22.131Z"
   },
   {
    "duration": 222,
    "start_time": "2022-04-08T04:41:22.208Z"
   },
   {
    "duration": 5,
    "start_time": "2022-04-08T04:41:22.432Z"
   },
   {
    "duration": 8,
    "start_time": "2022-04-08T04:41:22.439Z"
   },
   {
    "duration": 122,
    "start_time": "2022-04-08T04:41:22.448Z"
   },
   {
    "duration": 97,
    "start_time": "2022-04-08T04:41:22.572Z"
   },
   {
    "duration": 11,
    "start_time": "2022-04-08T04:41:22.672Z"
   },
   {
    "duration": 73,
    "start_time": "2022-04-08T04:41:22.684Z"
   },
   {
    "duration": 8,
    "start_time": "2022-04-08T04:41:22.758Z"
   },
   {
    "duration": 8,
    "start_time": "2022-04-08T04:41:22.767Z"
   },
   {
    "duration": 15,
    "start_time": "2022-04-08T04:41:22.777Z"
   },
   {
    "duration": 47,
    "start_time": "2022-04-08T04:41:22.794Z"
   },
   {
    "duration": 16,
    "start_time": "2022-04-08T04:41:22.842Z"
   },
   {
    "duration": 16,
    "start_time": "2022-04-08T04:41:22.859Z"
   },
   {
    "duration": 7,
    "start_time": "2022-04-08T04:41:22.877Z"
   },
   {
    "duration": 65,
    "start_time": "2022-04-08T04:41:22.886Z"
   },
   {
    "duration": 31,
    "start_time": "2022-04-08T04:41:22.953Z"
   },
   {
    "duration": 48,
    "start_time": "2022-04-08T04:41:22.986Z"
   },
   {
    "duration": 32,
    "start_time": "2022-04-08T04:41:23.036Z"
   },
   {
    "duration": 41,
    "start_time": "2022-04-08T04:41:23.069Z"
   },
   {
    "duration": 45,
    "start_time": "2022-04-08T04:41:32.365Z"
   },
   {
    "duration": 44,
    "start_time": "2022-04-08T04:43:19.844Z"
   },
   {
    "duration": 3,
    "start_time": "2022-04-08T04:47:04.060Z"
   },
   {
    "duration": 429,
    "start_time": "2022-04-08T04:47:04.067Z"
   },
   {
    "duration": 4,
    "start_time": "2022-04-08T04:47:04.498Z"
   },
   {
    "duration": 52,
    "start_time": "2022-04-08T04:47:04.504Z"
   },
   {
    "duration": 95,
    "start_time": "2022-04-08T04:47:04.557Z"
   },
   {
    "duration": 235,
    "start_time": "2022-04-08T04:47:04.654Z"
   },
   {
    "duration": 6,
    "start_time": "2022-04-08T04:47:04.891Z"
   },
   {
    "duration": 17,
    "start_time": "2022-04-08T04:47:04.898Z"
   },
   {
    "duration": 136,
    "start_time": "2022-04-08T04:47:04.916Z"
   },
   {
    "duration": 95,
    "start_time": "2022-04-08T04:47:05.053Z"
   },
   {
    "duration": 11,
    "start_time": "2022-04-08T04:47:05.150Z"
   },
   {
    "duration": 88,
    "start_time": "2022-04-08T04:47:05.163Z"
   },
   {
    "duration": 7,
    "start_time": "2022-04-08T04:47:05.253Z"
   },
   {
    "duration": 17,
    "start_time": "2022-04-08T04:47:05.262Z"
   },
   {
    "duration": 29,
    "start_time": "2022-04-08T04:47:05.282Z"
   },
   {
    "duration": 27,
    "start_time": "2022-04-08T04:47:05.313Z"
   },
   {
    "duration": 20,
    "start_time": "2022-04-08T04:47:05.342Z"
   },
   {
    "duration": 32,
    "start_time": "2022-04-08T04:47:05.364Z"
   },
   {
    "duration": 35,
    "start_time": "2022-04-08T04:47:05.398Z"
   },
   {
    "duration": 36,
    "start_time": "2022-04-08T04:47:05.435Z"
   },
   {
    "duration": 32,
    "start_time": "2022-04-08T04:47:05.473Z"
   },
   {
    "duration": 53,
    "start_time": "2022-04-08T04:47:05.507Z"
   },
   {
    "duration": 81,
    "start_time": "2022-04-08T04:47:14.029Z"
   },
   {
    "duration": 6,
    "start_time": "2022-04-08T04:48:31.383Z"
   },
   {
    "duration": 5,
    "start_time": "2022-04-08T04:48:59.750Z"
   },
   {
    "duration": 16,
    "start_time": "2022-04-08T04:49:27.629Z"
   },
   {
    "duration": 14,
    "start_time": "2022-04-08T18:56:35.348Z"
   },
   {
    "duration": 181,
    "start_time": "2022-04-08T18:56:53.715Z"
   },
   {
    "duration": 170,
    "start_time": "2022-04-08T18:57:00.591Z"
   },
   {
    "duration": 14,
    "start_time": "2022-04-08T18:57:07.299Z"
   },
   {
    "duration": 13,
    "start_time": "2022-04-08T18:58:24.473Z"
   },
   {
    "duration": 4,
    "start_time": "2022-04-08T19:04:58.808Z"
   },
   {
    "duration": 6,
    "start_time": "2022-04-08T19:05:04.669Z"
   },
   {
    "duration": 17,
    "start_time": "2022-04-08T19:05:31.766Z"
   },
   {
    "duration": 28,
    "start_time": "2022-04-08T19:06:23.997Z"
   },
   {
    "duration": 3,
    "start_time": "2022-04-08T19:06:34.464Z"
   },
   {
    "duration": 422,
    "start_time": "2022-04-08T19:06:34.472Z"
   },
   {
    "duration": 4,
    "start_time": "2022-04-08T19:06:34.896Z"
   },
   {
    "duration": 47,
    "start_time": "2022-04-08T19:06:34.901Z"
   },
   {
    "duration": 93,
    "start_time": "2022-04-08T19:06:34.950Z"
   },
   {
    "duration": 237,
    "start_time": "2022-04-08T19:06:35.045Z"
   },
   {
    "duration": 7,
    "start_time": "2022-04-08T19:06:35.284Z"
   },
   {
    "duration": 8,
    "start_time": "2022-04-08T19:06:35.293Z"
   },
   {
    "duration": 144,
    "start_time": "2022-04-08T19:06:35.303Z"
   },
   {
    "duration": 90,
    "start_time": "2022-04-08T19:06:35.449Z"
   },
   {
    "duration": 11,
    "start_time": "2022-04-08T19:06:35.542Z"
   },
   {
    "duration": 78,
    "start_time": "2022-04-08T19:06:35.554Z"
   },
   {
    "duration": 8,
    "start_time": "2022-04-08T19:06:35.634Z"
   },
   {
    "duration": 11,
    "start_time": "2022-04-08T19:06:35.643Z"
   },
   {
    "duration": 20,
    "start_time": "2022-04-08T19:06:35.656Z"
   },
   {
    "duration": 19,
    "start_time": "2022-04-08T19:06:35.678Z"
   },
   {
    "duration": 44,
    "start_time": "2022-04-08T19:06:35.699Z"
   },
   {
    "duration": 17,
    "start_time": "2022-04-08T19:06:35.745Z"
   },
   {
    "duration": 9,
    "start_time": "2022-04-08T19:06:35.763Z"
   },
   {
    "duration": 61,
    "start_time": "2022-04-08T19:06:35.774Z"
   },
   {
    "duration": 33,
    "start_time": "2022-04-08T19:06:35.836Z"
   },
   {
    "duration": 32,
    "start_time": "2022-04-08T19:06:35.871Z"
   },
   {
    "duration": 111,
    "start_time": "2022-04-08T19:06:35.905Z"
   },
   {
    "duration": 24,
    "start_time": "2022-04-08T19:06:36.018Z"
   },
   {
    "duration": 32,
    "start_time": "2022-04-08T19:06:51.861Z"
   },
   {
    "duration": 32,
    "start_time": "2022-04-08T19:07:03.227Z"
   },
   {
    "duration": 19,
    "start_time": "2022-04-08T19:09:19.911Z"
   },
   {
    "duration": 11,
    "start_time": "2022-04-08T19:24:26.036Z"
   },
   {
    "duration": 26,
    "start_time": "2022-04-08T19:24:52.455Z"
   },
   {
    "duration": 21,
    "start_time": "2022-04-08T19:28:41.733Z"
   },
   {
    "duration": 28,
    "start_time": "2022-04-08T19:30:35.288Z"
   },
   {
    "duration": 45,
    "start_time": "2022-04-08T19:32:09.968Z"
   },
   {
    "duration": 47,
    "start_time": "2022-04-08T19:33:17.981Z"
   },
   {
    "duration": 67,
    "start_time": "2022-04-08T19:34:10.935Z"
   },
   {
    "duration": 20,
    "start_time": "2022-04-08T19:44:02.439Z"
   },
   {
    "duration": 9,
    "start_time": "2022-04-08T20:33:28.353Z"
   },
   {
    "duration": 12,
    "start_time": "2022-04-08T20:33:38.917Z"
   },
   {
    "duration": 11,
    "start_time": "2022-04-08T20:33:58.373Z"
   },
   {
    "duration": 12,
    "start_time": "2022-04-08T20:34:19.429Z"
   },
   {
    "duration": 8,
    "start_time": "2022-04-08T21:47:59.942Z"
   },
   {
    "duration": 17,
    "start_time": "2022-04-08T21:48:06.927Z"
   },
   {
    "duration": 25,
    "start_time": "2022-04-08T21:48:18.021Z"
   },
   {
    "duration": 88,
    "start_time": "2022-04-08T21:52:12.832Z"
   },
   {
    "duration": 3,
    "start_time": "2022-04-08T21:52:46.998Z"
   },
   {
    "duration": 556,
    "start_time": "2022-04-08T21:52:47.004Z"
   },
   {
    "duration": 4,
    "start_time": "2022-04-08T21:52:47.562Z"
   },
   {
    "duration": 47,
    "start_time": "2022-04-08T21:52:47.568Z"
   },
   {
    "duration": 81,
    "start_time": "2022-04-08T21:52:47.619Z"
   },
   {
    "duration": 232,
    "start_time": "2022-04-08T21:52:47.702Z"
   },
   {
    "duration": 6,
    "start_time": "2022-04-08T21:52:47.935Z"
   },
   {
    "duration": 7,
    "start_time": "2022-04-08T21:52:47.943Z"
   },
   {
    "duration": 132,
    "start_time": "2022-04-08T21:52:47.951Z"
   },
   {
    "duration": 103,
    "start_time": "2022-04-08T21:52:48.085Z"
   },
   {
    "duration": 10,
    "start_time": "2022-04-08T21:52:48.190Z"
   },
   {
    "duration": 78,
    "start_time": "2022-04-08T21:52:48.201Z"
   },
   {
    "duration": 7,
    "start_time": "2022-04-08T21:52:48.281Z"
   },
   {
    "duration": 7,
    "start_time": "2022-04-08T21:52:48.291Z"
   },
   {
    "duration": 38,
    "start_time": "2022-04-08T21:52:48.300Z"
   },
   {
    "duration": 20,
    "start_time": "2022-04-08T21:52:48.340Z"
   },
   {
    "duration": 16,
    "start_time": "2022-04-08T21:52:48.362Z"
   },
   {
    "duration": 17,
    "start_time": "2022-04-08T21:52:48.380Z"
   },
   {
    "duration": 9,
    "start_time": "2022-04-08T21:52:48.431Z"
   },
   {
    "duration": 42,
    "start_time": "2022-04-08T21:52:48.442Z"
   },
   {
    "duration": 47,
    "start_time": "2022-04-08T21:52:48.486Z"
   },
   {
    "duration": 31,
    "start_time": "2022-04-08T21:52:48.535Z"
   },
   {
    "duration": 10,
    "start_time": "2022-04-08T21:55:01.823Z"
   },
   {
    "duration": 10,
    "start_time": "2022-04-08T21:55:11.564Z"
   },
   {
    "duration": 9,
    "start_time": "2022-04-08T21:55:24.542Z"
   },
   {
    "duration": 104,
    "start_time": "2022-04-08T21:55:40.561Z"
   },
   {
    "duration": 22,
    "start_time": "2022-04-08T21:56:48.129Z"
   },
   {
    "duration": 25,
    "start_time": "2022-04-08T21:56:58.075Z"
   },
   {
    "duration": 52,
    "start_time": "2022-04-08T21:59:33.859Z"
   },
   {
    "duration": 20,
    "start_time": "2022-04-08T22:00:18.340Z"
   },
   {
    "duration": 12,
    "start_time": "2022-04-08T22:12:32.369Z"
   },
   {
    "duration": 12,
    "start_time": "2022-04-08T22:16:25.150Z"
   },
   {
    "duration": 25,
    "start_time": "2022-04-08T22:18:14.635Z"
   },
   {
    "duration": 11,
    "start_time": "2022-04-08T22:21:23.592Z"
   },
   {
    "duration": 32,
    "start_time": "2022-04-08T22:35:14.677Z"
   },
   {
    "duration": 11,
    "start_time": "2022-04-08T22:35:28.333Z"
   },
   {
    "duration": 36,
    "start_time": "2022-04-08T22:35:31.699Z"
   },
   {
    "duration": 35,
    "start_time": "2022-04-08T22:40:52.520Z"
   },
   {
    "duration": 4,
    "start_time": "2022-04-08T22:41:07.555Z"
   },
   {
    "duration": 438,
    "start_time": "2022-04-08T22:41:07.561Z"
   },
   {
    "duration": 3,
    "start_time": "2022-04-08T22:41:08.001Z"
   },
   {
    "duration": 45,
    "start_time": "2022-04-08T22:41:08.006Z"
   },
   {
    "duration": 98,
    "start_time": "2022-04-08T22:41:08.053Z"
   },
   {
    "duration": 227,
    "start_time": "2022-04-08T22:41:08.152Z"
   },
   {
    "duration": 5,
    "start_time": "2022-04-08T22:41:08.381Z"
   },
   {
    "duration": 8,
    "start_time": "2022-04-08T22:41:08.387Z"
   },
   {
    "duration": 137,
    "start_time": "2022-04-08T22:41:08.396Z"
   },
   {
    "duration": 77,
    "start_time": "2022-04-08T22:41:08.535Z"
   },
   {
    "duration": 26,
    "start_time": "2022-04-08T22:41:08.614Z"
   },
   {
    "duration": 61,
    "start_time": "2022-04-08T22:41:08.641Z"
   },
   {
    "duration": 28,
    "start_time": "2022-04-08T22:41:08.704Z"
   },
   {
    "duration": 5,
    "start_time": "2022-04-08T22:41:08.735Z"
   },
   {
    "duration": 18,
    "start_time": "2022-04-08T22:41:08.741Z"
   },
   {
    "duration": 18,
    "start_time": "2022-04-08T22:41:08.761Z"
   },
   {
    "duration": 16,
    "start_time": "2022-04-08T22:41:08.781Z"
   },
   {
    "duration": 18,
    "start_time": "2022-04-08T22:41:08.831Z"
   },
   {
    "duration": 9,
    "start_time": "2022-04-08T22:41:08.850Z"
   },
   {
    "duration": 38,
    "start_time": "2022-04-08T22:41:08.861Z"
   },
   {
    "duration": 59,
    "start_time": "2022-04-08T22:41:08.901Z"
   },
   {
    "duration": 30,
    "start_time": "2022-04-08T22:41:08.961Z"
   },
   {
    "duration": 10,
    "start_time": "2022-04-08T22:41:08.993Z"
   },
   {
    "duration": 128,
    "start_time": "2022-04-08T22:41:09.005Z"
   },
   {
    "duration": 13,
    "start_time": "2022-04-08T22:41:09.135Z"
   },
   {
    "duration": 21,
    "start_time": "2022-04-08T22:41:09.150Z"
   },
   {
    "duration": 26,
    "start_time": "2022-04-08T22:41:09.173Z"
   },
   {
    "duration": 84,
    "start_time": "2022-04-08T22:41:09.200Z"
   },
   {
    "duration": 22,
    "start_time": "2022-04-08T22:41:09.285Z"
   },
   {
    "duration": 34,
    "start_time": "2022-04-08T22:41:20.938Z"
   },
   {
    "duration": 43,
    "start_time": "2022-04-08T22:41:29.400Z"
   },
   {
    "duration": 3,
    "start_time": "2022-04-08T22:49:52.249Z"
   },
   {
    "duration": 417,
    "start_time": "2022-04-08T22:49:52.256Z"
   },
   {
    "duration": 3,
    "start_time": "2022-04-08T22:49:52.675Z"
   },
   {
    "duration": 50,
    "start_time": "2022-04-08T22:49:52.679Z"
   },
   {
    "duration": 79,
    "start_time": "2022-04-08T22:49:52.730Z"
   },
   {
    "duration": 234,
    "start_time": "2022-04-08T22:49:52.812Z"
   },
   {
    "duration": 6,
    "start_time": "2022-04-08T22:49:53.048Z"
   },
   {
    "duration": 7,
    "start_time": "2022-04-08T22:49:53.056Z"
   },
   {
    "duration": 134,
    "start_time": "2022-04-08T22:49:53.065Z"
   },
   {
    "duration": 100,
    "start_time": "2022-04-08T22:49:53.201Z"
   },
   {
    "duration": 11,
    "start_time": "2022-04-08T22:49:53.303Z"
   },
   {
    "duration": 64,
    "start_time": "2022-04-08T22:49:53.331Z"
   },
   {
    "duration": 7,
    "start_time": "2022-04-08T22:49:53.397Z"
   },
   {
    "duration": 29,
    "start_time": "2022-04-08T22:49:53.406Z"
   },
   {
    "duration": 30,
    "start_time": "2022-04-08T22:49:53.438Z"
   },
   {
    "duration": 27,
    "start_time": "2022-04-08T22:49:53.470Z"
   },
   {
    "duration": 15,
    "start_time": "2022-04-08T22:49:53.499Z"
   },
   {
    "duration": 27,
    "start_time": "2022-04-08T22:49:53.516Z"
   },
   {
    "duration": 9,
    "start_time": "2022-04-08T22:49:53.545Z"
   },
   {
    "duration": 50,
    "start_time": "2022-04-08T22:49:53.555Z"
   },
   {
    "duration": 40,
    "start_time": "2022-04-08T22:49:53.607Z"
   },
   {
    "duration": 31,
    "start_time": "2022-04-08T22:49:53.649Z"
   },
   {
    "duration": 9,
    "start_time": "2022-04-08T22:49:53.682Z"
   },
   {
    "duration": 149,
    "start_time": "2022-04-08T22:50:01.092Z"
   },
   {
    "duration": 14,
    "start_time": "2022-04-08T22:50:05.429Z"
   },
   {
    "duration": 25,
    "start_time": "2022-04-08T22:50:09.901Z"
   },
   {
    "duration": 31,
    "start_time": "2022-04-08T22:50:18.815Z"
   },
   {
    "duration": 63,
    "start_time": "2022-04-08T22:50:21.826Z"
   },
   {
    "duration": 25,
    "start_time": "2022-04-08T22:50:24.769Z"
   },
   {
    "duration": 34,
    "start_time": "2022-04-08T22:50:27.279Z"
   },
   {
    "duration": 11,
    "start_time": "2022-04-08T23:02:37.624Z"
   },
   {
    "duration": 7,
    "start_time": "2022-04-08T23:05:44.899Z"
   },
   {
    "duration": 7,
    "start_time": "2022-04-08T23:09:52.268Z"
   },
   {
    "duration": 5,
    "start_time": "2022-04-09T03:42:11.722Z"
   },
   {
    "duration": 5,
    "start_time": "2022-04-09T03:42:42.065Z"
   },
   {
    "duration": 4,
    "start_time": "2022-04-09T03:42:55.355Z"
   },
   {
    "duration": 5,
    "start_time": "2022-04-09T03:52:51.959Z"
   },
   {
    "duration": 6,
    "start_time": "2022-04-09T03:52:54.973Z"
   },
   {
    "duration": 6,
    "start_time": "2022-04-09T03:53:19.279Z"
   },
   {
    "duration": 6,
    "start_time": "2022-04-09T03:53:39.775Z"
   },
   {
    "duration": 4,
    "start_time": "2022-04-09T03:53:59.437Z"
   },
   {
    "duration": 5,
    "start_time": "2022-04-09T03:54:10.095Z"
   },
   {
    "duration": 5,
    "start_time": "2022-04-09T03:54:19.489Z"
   },
   {
    "duration": 4,
    "start_time": "2022-04-09T03:54:39.828Z"
   },
   {
    "duration": 220,
    "start_time": "2022-04-09T04:07:32.665Z"
   },
   {
    "duration": 6,
    "start_time": "2022-04-09T04:09:23.214Z"
   },
   {
    "duration": 194,
    "start_time": "2022-04-09T04:12:17.261Z"
   },
   {
    "duration": 195,
    "start_time": "2022-04-09T04:12:42.495Z"
   },
   {
    "duration": 1644,
    "start_time": "2022-04-09T04:13:38.407Z"
   },
   {
    "duration": 1134,
    "start_time": "2022-04-09T04:14:00.335Z"
   },
   {
    "duration": 208,
    "start_time": "2022-04-09T04:14:16.609Z"
   },
   {
    "duration": 583,
    "start_time": "2022-04-09T04:16:26.194Z"
   },
   {
    "duration": 615,
    "start_time": "2022-04-09T04:17:07.295Z"
   },
   {
    "duration": 839,
    "start_time": "2022-04-09T04:20:05.984Z"
   },
   {
    "duration": 53,
    "start_time": "2022-04-12T04:30:28.928Z"
   },
   {
    "duration": 1142,
    "start_time": "2022-04-12T04:30:36.645Z"
   },
   {
    "duration": 410,
    "start_time": "2022-04-12T04:30:37.789Z"
   },
   {
    "duration": 4,
    "start_time": "2022-04-12T04:30:38.201Z"
   },
   {
    "duration": 48,
    "start_time": "2022-04-12T04:30:38.207Z"
   },
   {
    "duration": 98,
    "start_time": "2022-04-12T04:30:38.257Z"
   },
   {
    "duration": 253,
    "start_time": "2022-04-12T04:30:38.357Z"
   },
   {
    "duration": 11,
    "start_time": "2022-04-12T04:30:38.612Z"
   },
   {
    "duration": 11,
    "start_time": "2022-04-12T04:30:38.625Z"
   },
   {
    "duration": 121,
    "start_time": "2022-04-12T04:30:38.638Z"
   },
   {
    "duration": 108,
    "start_time": "2022-04-12T04:30:38.762Z"
   },
   {
    "duration": 11,
    "start_time": "2022-04-12T04:30:38.871Z"
   },
   {
    "duration": 72,
    "start_time": "2022-04-12T04:30:38.884Z"
   },
   {
    "duration": 9,
    "start_time": "2022-04-12T04:30:38.957Z"
   },
   {
    "duration": 11,
    "start_time": "2022-04-12T04:30:38.967Z"
   },
   {
    "duration": 20,
    "start_time": "2022-04-12T04:30:38.980Z"
   },
   {
    "duration": 37,
    "start_time": "2022-04-12T04:30:39.002Z"
   },
   {
    "duration": 15,
    "start_time": "2022-04-12T04:30:39.041Z"
   },
   {
    "duration": 16,
    "start_time": "2022-04-12T04:30:39.058Z"
   },
   {
    "duration": 8,
    "start_time": "2022-04-12T04:30:39.075Z"
   },
   {
    "duration": 74,
    "start_time": "2022-04-12T04:30:39.085Z"
   },
   {
    "duration": 37,
    "start_time": "2022-04-12T04:30:39.160Z"
   },
   {
    "duration": 33,
    "start_time": "2022-04-12T04:30:39.219Z"
   },
   {
    "duration": 10,
    "start_time": "2022-04-12T04:30:39.254Z"
   },
   {
    "duration": 137,
    "start_time": "2022-04-12T04:30:39.266Z"
   },
   {
    "duration": 19,
    "start_time": "2022-04-12T04:30:39.405Z"
   },
   {
    "duration": 23,
    "start_time": "2022-04-12T04:30:39.426Z"
   },
   {
    "duration": 29,
    "start_time": "2022-04-12T04:30:39.451Z"
   },
   {
    "duration": 83,
    "start_time": "2022-04-12T04:30:39.483Z"
   },
   {
    "duration": 24,
    "start_time": "2022-04-12T04:30:39.568Z"
   },
   {
    "duration": 55,
    "start_time": "2022-04-12T04:30:39.593Z"
   },
   {
    "duration": 7,
    "start_time": "2022-04-12T04:30:39.650Z"
   },
   {
    "duration": 10,
    "start_time": "2022-04-12T04:30:39.659Z"
   },
   {
    "duration": 14,
    "start_time": "2022-04-12T04:30:39.671Z"
   },
   {
    "duration": 11,
    "start_time": "2022-04-12T04:30:39.687Z"
   },
   {
    "duration": 4,
    "start_time": "2022-04-12T04:30:44.187Z"
   },
   {
    "duration": 5,
    "start_time": "2022-04-12T04:37:29.672Z"
   },
   {
    "duration": 6,
    "start_time": "2022-04-12T04:37:30.704Z"
   },
   {
    "duration": 4,
    "start_time": "2022-04-12T04:37:33.418Z"
   },
   {
    "duration": 5,
    "start_time": "2022-04-12T04:37:36.432Z"
   },
   {
    "duration": 5,
    "start_time": "2022-04-12T04:44:24.012Z"
   },
   {
    "duration": 5,
    "start_time": "2022-04-12T04:44:25.138Z"
   },
   {
    "duration": 4,
    "start_time": "2022-04-12T04:44:25.997Z"
   },
   {
    "duration": 4,
    "start_time": "2022-04-12T04:45:05.728Z"
   },
   {
    "duration": 584,
    "start_time": "2022-04-12T04:51:57.594Z"
   },
   {
    "duration": 5,
    "start_time": "2022-04-12T18:20:27.667Z"
   },
   {
    "duration": 17,
    "start_time": "2022-04-12T18:33:58.505Z"
   },
   {
    "duration": 22,
    "start_time": "2022-04-12T18:35:14.877Z"
   },
   {
    "duration": 18,
    "start_time": "2022-04-12T18:35:20.160Z"
   },
   {
    "duration": 10,
    "start_time": "2022-04-12T18:35:28.656Z"
   },
   {
    "duration": 46,
    "start_time": "2022-04-12T18:45:30.437Z"
   },
   {
    "duration": 45,
    "start_time": "2022-04-12T18:49:13.822Z"
   },
   {
    "duration": 36,
    "start_time": "2022-04-12T18:50:16.976Z"
   },
   {
    "duration": 37,
    "start_time": "2022-04-12T18:50:34.199Z"
   },
   {
    "duration": 10,
    "start_time": "2022-04-12T18:50:42.848Z"
   },
   {
    "duration": 117,
    "start_time": "2022-04-12T18:53:19.253Z"
   },
   {
    "duration": 21,
    "start_time": "2022-04-12T18:54:01.450Z"
   },
   {
    "duration": 6,
    "start_time": "2022-04-12T18:54:50.386Z"
   },
   {
    "duration": 6,
    "start_time": "2022-04-12T18:55:04.393Z"
   },
   {
    "duration": 7,
    "start_time": "2022-04-12T18:56:15.049Z"
   },
   {
    "duration": 7,
    "start_time": "2022-04-12T18:56:19.196Z"
   },
   {
    "duration": 19,
    "start_time": "2022-04-12T18:56:23.164Z"
   },
   {
    "duration": 7,
    "start_time": "2022-04-12T18:57:32.308Z"
   },
   {
    "duration": 26,
    "start_time": "2022-04-12T18:58:52.980Z"
   },
   {
    "duration": 38,
    "start_time": "2022-04-12T19:01:05.438Z"
   },
   {
    "duration": 68,
    "start_time": "2022-04-12T19:02:48.088Z"
   },
   {
    "duration": 47,
    "start_time": "2022-04-12T19:40:46.884Z"
   },
   {
    "duration": 6,
    "start_time": "2022-04-12T19:42:36.646Z"
   },
   {
    "duration": 10,
    "start_time": "2022-04-12T19:42:54.372Z"
   },
   {
    "duration": 31,
    "start_time": "2022-04-12T19:43:09.502Z"
   },
   {
    "duration": 13,
    "start_time": "2022-04-12T19:44:39.448Z"
   },
   {
    "duration": 14,
    "start_time": "2022-04-12T19:44:43.745Z"
   },
   {
    "duration": 57,
    "start_time": "2022-04-12T19:46:25.911Z"
   },
   {
    "duration": 8,
    "start_time": "2022-04-12T19:49:08.225Z"
   },
   {
    "duration": 7,
    "start_time": "2022-04-12T19:49:18.865Z"
   },
   {
    "duration": 7,
    "start_time": "2022-04-12T19:49:29.322Z"
   },
   {
    "duration": 6,
    "start_time": "2022-04-12T19:49:32.122Z"
   },
   {
    "duration": 5,
    "start_time": "2022-04-12T19:49:40.250Z"
   },
   {
    "duration": 6,
    "start_time": "2022-04-12T19:50:16.432Z"
   },
   {
    "duration": 5,
    "start_time": "2022-04-12T19:50:17.521Z"
   },
   {
    "duration": 4,
    "start_time": "2022-04-12T19:50:18.558Z"
   },
   {
    "duration": 4,
    "start_time": "2022-04-12T19:50:20.722Z"
   },
   {
    "duration": 4,
    "start_time": "2022-04-12T19:52:59.452Z"
   },
   {
    "duration": 6,
    "start_time": "2022-04-12T19:53:00.498Z"
   },
   {
    "duration": 4,
    "start_time": "2022-04-12T19:53:01.435Z"
   },
   {
    "duration": 4,
    "start_time": "2022-04-12T19:53:04.558Z"
   },
   {
    "duration": 623,
    "start_time": "2022-04-12T19:53:28.805Z"
   },
   {
    "duration": 5,
    "start_time": "2022-04-12T19:55:45.526Z"
   },
   {
    "duration": 4,
    "start_time": "2022-04-12T19:55:55.431Z"
   },
   {
    "duration": 5,
    "start_time": "2022-04-12T19:57:01.630Z"
   },
   {
    "duration": 6,
    "start_time": "2022-04-13T00:19:29.546Z"
   },
   {
    "duration": 5,
    "start_time": "2022-04-13T00:19:34.641Z"
   },
   {
    "duration": 6,
    "start_time": "2022-04-13T00:20:39.286Z"
   },
   {
    "duration": 5,
    "start_time": "2022-04-13T00:20:41.043Z"
   },
   {
    "duration": 6,
    "start_time": "2022-04-13T00:22:07.320Z"
   },
   {
    "duration": 5,
    "start_time": "2022-04-13T00:22:09.138Z"
   },
   {
    "duration": 60,
    "start_time": "2022-04-13T01:14:17.180Z"
   },
   {
    "duration": 5,
    "start_time": "2022-04-13T01:14:29.012Z"
   },
   {
    "duration": 9,
    "start_time": "2022-04-13T01:19:58.494Z"
   },
   {
    "duration": 5,
    "start_time": "2022-04-13T01:20:53.650Z"
   },
   {
    "duration": 5,
    "start_time": "2022-04-13T01:21:07.914Z"
   },
   {
    "duration": 5,
    "start_time": "2022-04-13T01:21:41.697Z"
   },
   {
    "duration": 5,
    "start_time": "2022-04-13T01:21:46.058Z"
   },
   {
    "duration": 10,
    "start_time": "2022-04-13T01:22:26.731Z"
   },
   {
    "duration": 5,
    "start_time": "2022-04-13T01:23:17.042Z"
   },
   {
    "duration": 6,
    "start_time": "2022-04-13T01:23:20.916Z"
   },
   {
    "duration": 6,
    "start_time": "2022-04-13T01:25:00.179Z"
   },
   {
    "duration": 5,
    "start_time": "2022-04-13T01:25:02.207Z"
   },
   {
    "duration": 6,
    "start_time": "2022-04-13T01:26:32.454Z"
   },
   {
    "duration": 29,
    "start_time": "2022-04-13T01:26:52.150Z"
   },
   {
    "duration": 7,
    "start_time": "2022-04-13T01:26:59.603Z"
   },
   {
    "duration": 6,
    "start_time": "2022-04-13T01:27:34.639Z"
   },
   {
    "duration": 9,
    "start_time": "2022-04-13T02:12:38.072Z"
   },
   {
    "duration": 5,
    "start_time": "2022-04-13T02:12:43.734Z"
   },
   {
    "duration": 26,
    "start_time": "2022-04-13T02:14:06.369Z"
   },
   {
    "duration": 37,
    "start_time": "2022-04-13T02:14:48.264Z"
   },
   {
    "duration": 43,
    "start_time": "2022-04-13T02:17:36.154Z"
   },
   {
    "duration": 12,
    "start_time": "2022-04-13T02:21:14.108Z"
   },
   {
    "duration": 11,
    "start_time": "2022-04-13T02:21:36.347Z"
   },
   {
    "duration": 28,
    "start_time": "2022-04-13T02:23:33.750Z"
   },
   {
    "duration": 50,
    "start_time": "2022-04-13T02:25:58.398Z"
   },
   {
    "duration": 3,
    "start_time": "2022-04-13T02:27:38.667Z"
   },
   {
    "duration": 406,
    "start_time": "2022-04-13T02:27:38.675Z"
   },
   {
    "duration": 3,
    "start_time": "2022-04-13T02:27:39.083Z"
   },
   {
    "duration": 48,
    "start_time": "2022-04-13T02:27:39.088Z"
   },
   {
    "duration": 94,
    "start_time": "2022-04-13T02:27:39.138Z"
   },
   {
    "duration": 225,
    "start_time": "2022-04-13T02:27:39.234Z"
   },
   {
    "duration": 6,
    "start_time": "2022-04-13T02:27:39.461Z"
   },
   {
    "duration": 13,
    "start_time": "2022-04-13T02:27:39.469Z"
   },
   {
    "duration": 141,
    "start_time": "2022-04-13T02:27:39.484Z"
   },
   {
    "duration": 97,
    "start_time": "2022-04-13T02:27:39.627Z"
   },
   {
    "duration": 10,
    "start_time": "2022-04-13T02:27:39.728Z"
   },
   {
    "duration": 79,
    "start_time": "2022-04-13T02:27:39.740Z"
   },
   {
    "duration": 8,
    "start_time": "2022-04-13T02:27:39.821Z"
   },
   {
    "duration": 22,
    "start_time": "2022-04-13T02:27:39.831Z"
   },
   {
    "duration": 26,
    "start_time": "2022-04-13T02:27:39.855Z"
   },
   {
    "duration": 14,
    "start_time": "2022-04-13T02:27:39.883Z"
   },
   {
    "duration": 19,
    "start_time": "2022-04-13T02:27:39.899Z"
   },
   {
    "duration": 48,
    "start_time": "2022-04-13T02:27:39.920Z"
   },
   {
    "duration": 30,
    "start_time": "2022-04-13T02:27:39.970Z"
   },
   {
    "duration": 44,
    "start_time": "2022-04-13T02:27:40.002Z"
   },
   {
    "duration": 10,
    "start_time": "2022-04-13T02:27:40.047Z"
   },
   {
    "duration": 31,
    "start_time": "2022-04-13T02:27:44.305Z"
   },
   {
    "duration": 17,
    "start_time": "2022-04-13T02:27:53.763Z"
   },
   {
    "duration": 9,
    "start_time": "2022-04-13T02:29:52.608Z"
   },
   {
    "duration": 8,
    "start_time": "2022-04-13T02:30:27.160Z"
   },
   {
    "duration": 8,
    "start_time": "2022-04-13T02:30:38.949Z"
   },
   {
    "duration": 7,
    "start_time": "2022-04-13T02:30:44.316Z"
   },
   {
    "duration": 10,
    "start_time": "2022-04-13T02:31:20.636Z"
   },
   {
    "duration": 8,
    "start_time": "2022-04-13T02:31:23.652Z"
   },
   {
    "duration": 14,
    "start_time": "2022-04-13T02:32:41.363Z"
   },
   {
    "duration": 31,
    "start_time": "2022-04-13T02:33:15.923Z"
   },
   {
    "duration": 13,
    "start_time": "2022-04-13T02:33:38.259Z"
   },
   {
    "duration": 48,
    "start_time": "2022-04-13T02:34:03.117Z"
   },
   {
    "duration": 12,
    "start_time": "2022-04-13T04:03:12.370Z"
   },
   {
    "duration": 4,
    "start_time": "2022-04-13T04:13:18.629Z"
   },
   {
    "duration": 415,
    "start_time": "2022-04-13T04:13:18.638Z"
   },
   {
    "duration": 4,
    "start_time": "2022-04-13T04:13:19.056Z"
   },
   {
    "duration": 56,
    "start_time": "2022-04-13T04:13:19.063Z"
   },
   {
    "duration": 76,
    "start_time": "2022-04-13T04:13:19.121Z"
   },
   {
    "duration": 235,
    "start_time": "2022-04-13T04:13:19.201Z"
   },
   {
    "duration": 7,
    "start_time": "2022-04-13T04:13:19.438Z"
   },
   {
    "duration": 14,
    "start_time": "2022-04-13T04:13:19.446Z"
   },
   {
    "duration": 123,
    "start_time": "2022-04-13T04:13:19.462Z"
   },
   {
    "duration": 98,
    "start_time": "2022-04-13T04:13:19.587Z"
   },
   {
    "duration": 11,
    "start_time": "2022-04-13T04:13:19.686Z"
   },
   {
    "duration": 75,
    "start_time": "2022-04-13T04:13:19.699Z"
   },
   {
    "duration": 7,
    "start_time": "2022-04-13T04:13:19.776Z"
   },
   {
    "duration": 11,
    "start_time": "2022-04-13T04:13:19.785Z"
   },
   {
    "duration": 14,
    "start_time": "2022-04-13T04:13:19.818Z"
   },
   {
    "duration": 13,
    "start_time": "2022-04-13T04:13:19.833Z"
   },
   {
    "duration": 10,
    "start_time": "2022-04-13T04:13:19.848Z"
   },
   {
    "duration": 69,
    "start_time": "2022-04-13T04:13:19.860Z"
   },
   {
    "duration": 30,
    "start_time": "2022-04-13T04:13:19.931Z"
   },
   {
    "duration": 31,
    "start_time": "2022-04-13T04:13:19.962Z"
   },
   {
    "duration": 30,
    "start_time": "2022-04-13T04:13:19.995Z"
   },
   {
    "duration": 104,
    "start_time": "2022-04-13T04:15:53.425Z"
   },
   {
    "duration": 46,
    "start_time": "2022-04-13T04:16:01.316Z"
   },
   {
    "duration": 29,
    "start_time": "2022-04-13T04:17:12.134Z"
   },
   {
    "duration": 109,
    "start_time": "2022-04-13T04:18:31.934Z"
   },
   {
    "duration": 39,
    "start_time": "2022-04-13T04:18:40.758Z"
   },
   {
    "duration": 100,
    "start_time": "2022-04-13T04:20:46.347Z"
   },
   {
    "duration": 41,
    "start_time": "2022-04-13T04:20:51.146Z"
   },
   {
    "duration": 94,
    "start_time": "2022-04-13T04:22:11.952Z"
   },
   {
    "duration": 16,
    "start_time": "2022-04-13T04:22:18.521Z"
   },
   {
    "duration": 12,
    "start_time": "2022-04-13T04:22:37.008Z"
   },
   {
    "duration": 5,
    "start_time": "2022-04-13T04:23:01.849Z"
   },
   {
    "duration": 5,
    "start_time": "2022-04-13T04:23:10.185Z"
   },
   {
    "duration": 90,
    "start_time": "2022-04-13T04:23:40.378Z"
   },
   {
    "duration": 22,
    "start_time": "2022-04-13T04:23:44.065Z"
   },
   {
    "duration": 13,
    "start_time": "2022-04-13T04:23:50.072Z"
   },
   {
    "duration": 5,
    "start_time": "2022-04-13T04:24:08.082Z"
   },
   {
    "duration": 2192,
    "start_time": "2022-04-13T04:24:11.330Z"
   },
   {
    "duration": 5,
    "start_time": "2022-04-13T04:24:23.034Z"
   },
   {
    "duration": 100,
    "start_time": "2022-04-13T04:24:55.938Z"
   },
   {
    "duration": 37,
    "start_time": "2022-04-13T04:24:58.777Z"
   },
   {
    "duration": 13,
    "start_time": "2022-04-13T04:25:23.546Z"
   },
   {
    "duration": 114,
    "start_time": "2022-04-13T04:26:07.517Z"
   },
   {
    "duration": 38,
    "start_time": "2022-04-13T04:26:10.530Z"
   },
   {
    "duration": 12,
    "start_time": "2022-04-13T04:26:18.882Z"
   },
   {
    "duration": 1265,
    "start_time": "2022-04-13T04:28:33.744Z"
   },
   {
    "duration": 440,
    "start_time": "2022-04-13T04:28:35.017Z"
   },
   {
    "duration": 4,
    "start_time": "2022-04-13T04:28:35.459Z"
   },
   {
    "duration": 48,
    "start_time": "2022-04-13T04:28:35.465Z"
   },
   {
    "duration": 78,
    "start_time": "2022-04-13T04:28:35.514Z"
   },
   {
    "duration": 288,
    "start_time": "2022-04-13T04:28:35.593Z"
   },
   {
    "duration": 6,
    "start_time": "2022-04-13T04:28:35.883Z"
   },
   {
    "duration": 11,
    "start_time": "2022-04-13T04:28:35.890Z"
   },
   {
    "duration": 131,
    "start_time": "2022-04-13T04:28:35.903Z"
   },
   {
    "duration": 104,
    "start_time": "2022-04-13T04:28:36.037Z"
   },
   {
    "duration": 11,
    "start_time": "2022-04-13T04:28:36.143Z"
   },
   {
    "duration": 80,
    "start_time": "2022-04-13T04:28:36.156Z"
   },
   {
    "duration": 9,
    "start_time": "2022-04-13T04:28:36.237Z"
   },
   {
    "duration": 18,
    "start_time": "2022-04-13T04:28:36.248Z"
   },
   {
    "duration": 22,
    "start_time": "2022-04-13T04:28:36.268Z"
   },
   {
    "duration": 31,
    "start_time": "2022-04-13T04:28:36.292Z"
   },
   {
    "duration": 16,
    "start_time": "2022-04-13T04:28:36.325Z"
   },
   {
    "duration": 47,
    "start_time": "2022-04-13T04:28:36.343Z"
   },
   {
    "duration": 51,
    "start_time": "2022-04-13T04:28:36.391Z"
   },
   {
    "duration": 32,
    "start_time": "2022-04-13T04:28:36.443Z"
   },
   {
    "duration": 10,
    "start_time": "2022-04-13T04:28:36.476Z"
   },
   {
    "duration": 107,
    "start_time": "2022-04-13T04:29:46.925Z"
   },
   {
    "duration": 15,
    "start_time": "2022-04-13T04:30:27.213Z"
   },
   {
    "duration": 16,
    "start_time": "2022-04-13T04:31:07.296Z"
   },
   {
    "duration": 102,
    "start_time": "2022-04-13T04:40:25.277Z"
   },
   {
    "duration": 26,
    "start_time": "2022-04-13T04:40:41.534Z"
   },
   {
    "duration": 12,
    "start_time": "2022-04-13T04:40:49.134Z"
   },
   {
    "duration": 14,
    "start_time": "2022-04-13T04:40:55.324Z"
   },
   {
    "duration": 23,
    "start_time": "2022-04-13T04:42:43.834Z"
   },
   {
    "duration": 30,
    "start_time": "2022-04-13T04:43:06.838Z"
   },
   {
    "duration": 57,
    "start_time": "2022-04-13T04:43:27.185Z"
   },
   {
    "duration": 27,
    "start_time": "2022-04-13T04:43:42.187Z"
   },
   {
    "duration": 31,
    "start_time": "2022-04-13T04:43:52.723Z"
   },
   {
    "duration": 27,
    "start_time": "2022-04-13T04:44:02.446Z"
   },
   {
    "duration": 41,
    "start_time": "2022-04-13T04:44:15.070Z"
   },
   {
    "duration": 6,
    "start_time": "2022-04-13T04:44:49.352Z"
   },
   {
    "duration": 5,
    "start_time": "2022-04-13T04:44:54.287Z"
   },
   {
    "duration": 5,
    "start_time": "2022-04-13T04:45:42.473Z"
   },
   {
    "duration": 5,
    "start_time": "2022-04-13T04:45:44.471Z"
   },
   {
    "duration": 4,
    "start_time": "2022-04-13T04:45:47.127Z"
   },
   {
    "duration": 5,
    "start_time": "2022-04-13T04:49:02.771Z"
   },
   {
    "duration": 6,
    "start_time": "2022-04-13T04:49:03.831Z"
   },
   {
    "duration": 4,
    "start_time": "2022-04-13T04:49:04.745Z"
   },
   {
    "duration": 6,
    "start_time": "2022-04-13T04:49:05.599Z"
   },
   {
    "duration": 4,
    "start_time": "2022-04-13T04:50:49.037Z"
   },
   {
    "duration": 5,
    "start_time": "2022-04-13T04:50:49.904Z"
   },
   {
    "duration": 4,
    "start_time": "2022-04-13T04:50:50.799Z"
   },
   {
    "duration": 4,
    "start_time": "2022-04-13T04:50:51.603Z"
   },
   {
    "duration": 596,
    "start_time": "2022-04-13T04:51:32.491Z"
   },
   {
    "duration": 165,
    "start_time": "2022-04-13T04:52:24.331Z"
   },
   {
    "duration": 139,
    "start_time": "2022-04-13T04:52:28.371Z"
   },
   {
    "duration": 6,
    "start_time": "2022-04-13T04:52:34.139Z"
   },
   {
    "duration": 5,
    "start_time": "2022-04-13T04:52:48.475Z"
   },
   {
    "duration": 4,
    "start_time": "2022-04-13T04:54:03.885Z"
   },
   {
    "duration": 4,
    "start_time": "2022-04-13T04:54:47.917Z"
   },
   {
    "duration": 4,
    "start_time": "2022-04-13T04:54:59.613Z"
   },
   {
    "duration": 4,
    "start_time": "2022-04-13T04:55:39.197Z"
   },
   {
    "duration": 5,
    "start_time": "2022-04-13T04:57:57.070Z"
   },
   {
    "duration": 5,
    "start_time": "2022-04-13T04:58:26.095Z"
   },
   {
    "duration": 6,
    "start_time": "2022-04-13T04:58:48.815Z"
   },
   {
    "duration": 5,
    "start_time": "2022-04-13T04:59:10.639Z"
   },
   {
    "duration": 5,
    "start_time": "2022-04-13T04:59:35.534Z"
   },
   {
    "duration": 4,
    "start_time": "2022-04-13T04:59:45.777Z"
   },
   {
    "duration": 6,
    "start_time": "2022-04-13T05:00:30.793Z"
   },
   {
    "duration": 6,
    "start_time": "2022-04-13T05:00:41.320Z"
   },
   {
    "duration": 5,
    "start_time": "2022-04-13T05:00:46.536Z"
   },
   {
    "duration": 5,
    "start_time": "2022-04-13T05:01:02.384Z"
   },
   {
    "duration": 5,
    "start_time": "2022-04-13T05:08:21.093Z"
   },
   {
    "duration": 5,
    "start_time": "2022-04-13T05:08:35.451Z"
   },
   {
    "duration": 6,
    "start_time": "2022-04-13T05:09:01.125Z"
   },
   {
    "duration": 13,
    "start_time": "2022-04-13T05:09:12.486Z"
   },
   {
    "duration": 6,
    "start_time": "2022-04-13T05:09:30.237Z"
   },
   {
    "duration": 5,
    "start_time": "2022-04-13T05:12:06.358Z"
   },
   {
    "duration": 5,
    "start_time": "2022-04-13T05:12:17.255Z"
   },
   {
    "duration": 145,
    "start_time": "2022-04-13T17:04:23.619Z"
   },
   {
    "duration": 1747,
    "start_time": "2022-04-13T17:04:29.853Z"
   },
   {
    "duration": 511,
    "start_time": "2022-04-13T17:04:31.603Z"
   },
   {
    "duration": 4,
    "start_time": "2022-04-13T17:04:32.117Z"
   },
   {
    "duration": 120,
    "start_time": "2022-04-13T17:04:32.124Z"
   },
   {
    "duration": 124,
    "start_time": "2022-04-13T17:04:32.247Z"
   },
   {
    "duration": 393,
    "start_time": "2022-04-13T17:04:32.373Z"
   },
   {
    "duration": 8,
    "start_time": "2022-04-13T17:04:32.768Z"
   },
   {
    "duration": 8,
    "start_time": "2022-04-13T17:04:32.778Z"
   },
   {
    "duration": 202,
    "start_time": "2022-04-13T17:04:32.788Z"
   },
   {
    "duration": 140,
    "start_time": "2022-04-13T17:04:32.994Z"
   },
   {
    "duration": 14,
    "start_time": "2022-04-13T17:04:33.137Z"
   },
   {
    "duration": 112,
    "start_time": "2022-04-13T17:04:33.153Z"
   },
   {
    "duration": 11,
    "start_time": "2022-04-13T17:04:33.267Z"
   },
   {
    "duration": 10,
    "start_time": "2022-04-13T17:04:33.280Z"
   },
   {
    "duration": 43,
    "start_time": "2022-04-13T17:04:33.293Z"
   },
   {
    "duration": 18,
    "start_time": "2022-04-13T17:04:33.339Z"
   },
   {
    "duration": 23,
    "start_time": "2022-04-13T17:04:33.361Z"
   },
   {
    "duration": 89,
    "start_time": "2022-04-13T17:04:33.387Z"
   },
   {
    "duration": 66,
    "start_time": "2022-04-13T17:04:33.479Z"
   },
   {
    "duration": 44,
    "start_time": "2022-04-13T17:04:33.547Z"
   },
   {
    "duration": 35,
    "start_time": "2022-04-13T17:04:33.593Z"
   },
   {
    "duration": 182,
    "start_time": "2022-04-13T17:04:33.631Z"
   },
   {
    "duration": 21,
    "start_time": "2022-04-13T17:04:33.816Z"
   },
   {
    "duration": 31,
    "start_time": "2022-04-13T17:04:33.839Z"
   },
   {
    "duration": 80,
    "start_time": "2022-04-13T17:04:33.872Z"
   },
   {
    "duration": 109,
    "start_time": "2022-04-13T17:04:33.954Z"
   },
   {
    "duration": 38,
    "start_time": "2022-04-13T17:04:34.066Z"
   },
   {
    "duration": 46,
    "start_time": "2022-04-13T17:04:34.128Z"
   },
   {
    "duration": 9,
    "start_time": "2022-04-13T17:04:34.176Z"
   },
   {
    "duration": 7,
    "start_time": "2022-04-13T17:04:34.187Z"
   },
   {
    "duration": 6,
    "start_time": "2022-04-13T17:04:34.225Z"
   },
   {
    "duration": 19,
    "start_time": "2022-04-13T17:04:34.233Z"
   },
   {
    "duration": 14,
    "start_time": "2022-04-13T17:04:34.255Z"
   },
   {
    "duration": 9,
    "start_time": "2022-04-13T17:04:34.271Z"
   },
   {
    "duration": 8,
    "start_time": "2022-04-13T17:04:34.283Z"
   },
   {
    "duration": 35,
    "start_time": "2022-04-13T17:04:34.294Z"
   },
   {
    "duration": 11,
    "start_time": "2022-04-13T17:04:34.332Z"
   },
   {
    "duration": 9,
    "start_time": "2022-04-13T17:04:34.345Z"
   },
   {
    "duration": 9,
    "start_time": "2022-04-13T17:04:34.357Z"
   },
   {
    "duration": 11,
    "start_time": "2022-04-13T17:04:34.368Z"
   },
   {
    "duration": 6,
    "start_time": "2022-04-13T17:04:34.425Z"
   },
   {
    "duration": 1143,
    "start_time": "2022-04-13T17:04:34.434Z"
   },
   {
    "duration": 8,
    "start_time": "2022-04-13T17:04:35.580Z"
   },
   {
    "duration": 8,
    "start_time": "2022-04-13T17:04:35.591Z"
   },
   {
    "duration": 8,
    "start_time": "2022-04-13T17:04:39.899Z"
   },
   {
    "duration": 7,
    "start_time": "2022-04-13T17:04:52.886Z"
   },
   {
    "duration": 9,
    "start_time": "2022-04-13T18:04:28.915Z"
   },
   {
    "duration": 7,
    "start_time": "2022-04-13T18:04:35.550Z"
   },
   {
    "duration": 8,
    "start_time": "2022-04-13T18:04:42.093Z"
   },
   {
    "duration": 7,
    "start_time": "2022-04-13T18:04:46.678Z"
   },
   {
    "duration": 7,
    "start_time": "2022-04-13T18:10:41.504Z"
   },
   {
    "duration": 7,
    "start_time": "2022-04-13T18:12:10.206Z"
   },
   {
    "duration": 10,
    "start_time": "2022-04-13T18:15:26.570Z"
   },
   {
    "duration": 14,
    "start_time": "2022-04-13T18:25:30.963Z"
   },
   {
    "duration": 9,
    "start_time": "2022-04-13T18:25:59.996Z"
   },
   {
    "duration": 15,
    "start_time": "2022-04-13T18:26:07.181Z"
   },
   {
    "duration": 13,
    "start_time": "2022-04-13T18:26:23.325Z"
   },
   {
    "duration": 9,
    "start_time": "2022-04-13T18:26:37.340Z"
   },
   {
    "duration": 8,
    "start_time": "2022-04-13T18:27:06.489Z"
   },
   {
    "duration": 91,
    "start_time": "2022-04-13T18:27:51.561Z"
   },
   {
    "duration": 9,
    "start_time": "2022-04-13T18:27:56.421Z"
   },
   {
    "duration": 9,
    "start_time": "2022-04-13T18:28:14.165Z"
   },
   {
    "duration": 12,
    "start_time": "2022-04-13T18:28:20.301Z"
   },
   {
    "duration": 13,
    "start_time": "2022-04-13T18:28:37.309Z"
   },
   {
    "duration": 9,
    "start_time": "2022-04-13T18:29:04.677Z"
   },
   {
    "duration": 10,
    "start_time": "2022-04-13T18:37:41.208Z"
   },
   {
    "duration": 8,
    "start_time": "2022-04-13T18:38:11.282Z"
   },
   {
    "duration": 10,
    "start_time": "2022-04-13T18:48:10.444Z"
   },
   {
    "duration": 8,
    "start_time": "2022-04-13T18:57:43.450Z"
   },
   {
    "duration": 8,
    "start_time": "2022-04-13T19:00:13.668Z"
   },
   {
    "duration": 7,
    "start_time": "2022-04-13T19:00:22.578Z"
   },
   {
    "duration": 1744,
    "start_time": "2022-04-23T09:14:08.482Z"
   },
   {
    "duration": 531,
    "start_time": "2022-04-23T09:14:10.229Z"
   },
   {
    "duration": 5,
    "start_time": "2022-04-23T09:14:10.762Z"
   },
   {
    "duration": 70,
    "start_time": "2022-04-23T09:14:10.769Z"
   },
   {
    "duration": 124,
    "start_time": "2022-04-23T09:14:10.841Z"
   },
   {
    "duration": 349,
    "start_time": "2022-04-23T09:14:10.968Z"
   },
   {
    "duration": 9,
    "start_time": "2022-04-23T09:14:11.320Z"
   },
   {
    "duration": 15,
    "start_time": "2022-04-23T09:14:11.332Z"
   },
   {
    "duration": 183,
    "start_time": "2022-04-23T09:14:11.350Z"
   },
   {
    "duration": 120,
    "start_time": "2022-04-23T09:14:11.537Z"
   },
   {
    "duration": 13,
    "start_time": "2022-04-23T09:14:11.659Z"
   },
   {
    "duration": 96,
    "start_time": "2022-04-23T09:14:11.675Z"
   },
   {
    "duration": 11,
    "start_time": "2022-04-23T09:14:11.800Z"
   },
   {
    "duration": 20,
    "start_time": "2022-04-23T09:14:11.813Z"
   },
   {
    "duration": 24,
    "start_time": "2022-04-23T09:14:11.835Z"
   },
   {
    "duration": 18,
    "start_time": "2022-04-23T09:14:11.861Z"
   },
   {
    "duration": 21,
    "start_time": "2022-04-23T09:14:11.900Z"
   },
   {
    "duration": 56,
    "start_time": "2022-04-23T09:14:11.923Z"
   },
   {
    "duration": 52,
    "start_time": "2022-04-23T09:14:11.981Z"
   },
   {
    "duration": 65,
    "start_time": "2022-04-23T09:14:12.035Z"
   },
   {
    "duration": 13,
    "start_time": "2022-04-23T09:14:12.102Z"
   },
   {
    "duration": 165,
    "start_time": "2022-04-23T09:14:12.117Z"
   },
   {
    "duration": 25,
    "start_time": "2022-04-23T09:14:12.284Z"
   },
   {
    "duration": 36,
    "start_time": "2022-04-23T09:14:12.311Z"
   },
   {
    "duration": 62,
    "start_time": "2022-04-23T09:14:12.349Z"
   },
   {
    "duration": 106,
    "start_time": "2022-04-23T09:14:12.413Z"
   },
   {
    "duration": 37,
    "start_time": "2022-04-23T09:14:12.522Z"
   },
   {
    "duration": 78,
    "start_time": "2022-04-23T09:14:12.566Z"
   },
   {
    "duration": 8,
    "start_time": "2022-04-23T09:14:12.646Z"
   },
   {
    "duration": 16,
    "start_time": "2022-04-23T09:14:12.656Z"
   },
   {
    "duration": 26,
    "start_time": "2022-04-23T09:14:12.674Z"
   },
   {
    "duration": 12,
    "start_time": "2022-04-23T09:14:12.702Z"
   },
   {
    "duration": 21,
    "start_time": "2022-04-23T09:14:12.717Z"
   },
   {
    "duration": 20,
    "start_time": "2022-04-23T09:14:12.740Z"
   },
   {
    "duration": 18,
    "start_time": "2022-04-23T09:14:12.762Z"
   },
   {
    "duration": 38,
    "start_time": "2022-04-23T09:14:12.782Z"
   },
   {
    "duration": 22,
    "start_time": "2022-04-23T09:14:12.822Z"
   },
   {
    "duration": 24,
    "start_time": "2022-04-23T09:14:12.846Z"
   },
   {
    "duration": 37,
    "start_time": "2022-04-23T09:14:12.872Z"
   },
   {
    "duration": 14,
    "start_time": "2022-04-23T09:14:12.912Z"
   },
   {
    "duration": 15,
    "start_time": "2022-04-23T09:14:12.929Z"
   },
   {
    "duration": 960,
    "start_time": "2022-04-23T09:14:12.947Z"
   },
   {
    "duration": 8,
    "start_time": "2022-04-23T09:14:13.909Z"
   },
   {
    "duration": 24,
    "start_time": "2022-04-23T09:14:13.919Z"
   },
   {
    "duration": 19,
    "start_time": "2022-04-23T09:14:13.945Z"
   },
   {
    "duration": 14,
    "start_time": "2022-04-23T09:14:13.966Z"
   },
   {
    "duration": 1400,
    "start_time": "2022-04-23T09:21:24.350Z"
   },
   {
    "duration": 531,
    "start_time": "2022-04-23T09:21:25.753Z"
   },
   {
    "duration": 4,
    "start_time": "2022-04-23T09:21:26.287Z"
   },
   {
    "duration": 62,
    "start_time": "2022-04-23T09:21:26.302Z"
   },
   {
    "duration": 142,
    "start_time": "2022-04-23T09:21:26.367Z"
   },
   {
    "duration": 352,
    "start_time": "2022-04-23T09:21:26.511Z"
   },
   {
    "duration": 7,
    "start_time": "2022-04-23T09:21:26.865Z"
   },
   {
    "duration": 25,
    "start_time": "2022-04-23T09:21:26.875Z"
   },
   {
    "duration": 163,
    "start_time": "2022-04-23T09:21:26.903Z"
   },
   {
    "duration": 151,
    "start_time": "2022-04-23T09:21:27.070Z"
   },
   {
    "duration": 15,
    "start_time": "2022-04-23T09:21:27.223Z"
   },
   {
    "duration": 111,
    "start_time": "2022-04-23T09:21:27.240Z"
   },
   {
    "duration": 11,
    "start_time": "2022-04-23T09:21:27.353Z"
   },
   {
    "duration": 10,
    "start_time": "2022-04-23T09:21:27.366Z"
   },
   {
    "duration": 35,
    "start_time": "2022-04-23T09:21:27.378Z"
   },
   {
    "duration": 16,
    "start_time": "2022-04-23T09:21:27.415Z"
   },
   {
    "duration": 19,
    "start_time": "2022-04-23T09:21:27.433Z"
   },
   {
    "duration": 88,
    "start_time": "2022-04-23T09:21:27.454Z"
   },
   {
    "duration": 58,
    "start_time": "2022-04-23T09:21:27.544Z"
   },
   {
    "duration": 39,
    "start_time": "2022-04-23T09:21:27.608Z"
   },
   {
    "duration": 12,
    "start_time": "2022-04-23T09:21:27.649Z"
   },
   {
    "duration": 179,
    "start_time": "2022-04-23T09:21:27.663Z"
   },
   {
    "duration": 14,
    "start_time": "2022-04-23T09:21:27.844Z"
   },
   {
    "duration": 54,
    "start_time": "2022-04-23T09:21:27.861Z"
   },
   {
    "duration": 43,
    "start_time": "2022-04-23T09:21:27.917Z"
   },
   {
    "duration": 110,
    "start_time": "2022-04-23T09:21:27.962Z"
   },
   {
    "duration": 52,
    "start_time": "2022-04-23T09:21:28.074Z"
   },
   {
    "duration": 65,
    "start_time": "2022-04-23T09:21:28.131Z"
   },
   {
    "duration": 11,
    "start_time": "2022-04-23T09:21:28.199Z"
   },
   {
    "duration": 8,
    "start_time": "2022-04-23T09:21:28.212Z"
   },
   {
    "duration": 7,
    "start_time": "2022-04-23T09:21:28.222Z"
   },
   {
    "duration": 6,
    "start_time": "2022-04-23T09:21:28.231Z"
   },
   {
    "duration": 58,
    "start_time": "2022-04-23T09:21:28.239Z"
   },
   {
    "duration": 14,
    "start_time": "2022-04-23T09:21:28.299Z"
   },
   {
    "duration": 7,
    "start_time": "2022-04-23T09:21:28.315Z"
   },
   {
    "duration": 6,
    "start_time": "2022-04-23T09:21:28.325Z"
   },
   {
    "duration": 7,
    "start_time": "2022-04-23T09:21:28.333Z"
   },
   {
    "duration": 8,
    "start_time": "2022-04-23T09:21:28.342Z"
   },
   {
    "duration": 44,
    "start_time": "2022-04-23T09:21:28.352Z"
   },
   {
    "duration": 10,
    "start_time": "2022-04-23T09:21:28.397Z"
   },
   {
    "duration": 10,
    "start_time": "2022-04-23T09:21:28.409Z"
   },
   {
    "duration": 1019,
    "start_time": "2022-04-23T09:21:28.421Z"
   },
   {
    "duration": 7,
    "start_time": "2022-04-23T09:21:29.442Z"
   },
   {
    "duration": 13,
    "start_time": "2022-04-23T09:21:29.452Z"
   },
   {
    "duration": 37,
    "start_time": "2022-04-23T09:21:29.467Z"
   },
   {
    "duration": 9,
    "start_time": "2022-04-23T09:21:29.508Z"
   },
   {
    "duration": 1903,
    "start_time": "2022-04-23T18:43:05.596Z"
   },
   {
    "duration": 517,
    "start_time": "2022-04-23T18:43:07.502Z"
   },
   {
    "duration": 5,
    "start_time": "2022-04-23T18:43:08.022Z"
   },
   {
    "duration": 102,
    "start_time": "2022-04-23T18:43:08.031Z"
   },
   {
    "duration": 128,
    "start_time": "2022-04-23T18:43:08.135Z"
   },
   {
    "duration": 377,
    "start_time": "2022-04-23T18:43:08.265Z"
   },
   {
    "duration": 7,
    "start_time": "2022-04-23T18:43:08.645Z"
   },
   {
    "duration": 7,
    "start_time": "2022-04-23T18:43:08.655Z"
   },
   {
    "duration": 194,
    "start_time": "2022-04-23T18:43:08.664Z"
   },
   {
    "duration": 131,
    "start_time": "2022-04-23T18:43:08.862Z"
   },
   {
    "duration": 14,
    "start_time": "2022-04-23T18:43:08.995Z"
   },
   {
    "duration": 102,
    "start_time": "2022-04-23T18:43:09.025Z"
   },
   {
    "duration": 11,
    "start_time": "2022-04-23T18:43:09.129Z"
   },
   {
    "duration": 13,
    "start_time": "2022-04-23T18:43:09.142Z"
   },
   {
    "duration": 22,
    "start_time": "2022-04-23T18:43:09.158Z"
   },
   {
    "duration": 46,
    "start_time": "2022-04-23T18:43:09.182Z"
   },
   {
    "duration": 19,
    "start_time": "2022-04-23T18:43:09.231Z"
   },
   {
    "duration": 78,
    "start_time": "2022-04-23T18:43:09.253Z"
   },
   {
    "duration": 42,
    "start_time": "2022-04-23T18:43:09.333Z"
   },
   {
    "duration": 62,
    "start_time": "2022-04-23T18:43:09.378Z"
   },
   {
    "duration": 13,
    "start_time": "2022-04-23T18:43:09.443Z"
   },
   {
    "duration": 178,
    "start_time": "2022-04-23T18:43:09.458Z"
   },
   {
    "duration": 17,
    "start_time": "2022-04-23T18:43:09.638Z"
   },
   {
    "duration": 30,
    "start_time": "2022-04-23T18:43:09.657Z"
   },
   {
    "duration": 43,
    "start_time": "2022-04-23T18:45:59.060Z"
   },
   {
    "duration": 91,
    "start_time": "2022-04-23T18:48:09.835Z"
   },
   {
    "duration": 40,
    "start_time": "2022-04-23T18:50:57.726Z"
   },
   {
    "duration": 49,
    "start_time": "2022-04-23T18:51:02.420Z"
   },
   {
    "duration": 11,
    "start_time": "2022-04-23T18:51:23.405Z"
   },
   {
    "duration": 7,
    "start_time": "2022-04-23T18:51:39.908Z"
   },
   {
    "duration": 6,
    "start_time": "2022-04-23T18:51:40.684Z"
   },
   {
    "duration": 5,
    "start_time": "2022-04-23T18:51:41.554Z"
   },
   {
    "duration": 6,
    "start_time": "2022-04-23T18:51:42.326Z"
   },
   {
    "duration": 6,
    "start_time": "2022-04-23T18:51:44.326Z"
   },
   {
    "duration": 7,
    "start_time": "2022-04-23T18:51:45.228Z"
   },
   {
    "duration": 5,
    "start_time": "2022-04-23T18:51:47.392Z"
   },
   {
    "duration": 5,
    "start_time": "2022-04-23T18:51:48.294Z"
   },
   {
    "duration": 6,
    "start_time": "2022-04-23T18:51:55.807Z"
   },
   {
    "duration": 7,
    "start_time": "2022-04-23T18:51:56.720Z"
   },
   {
    "duration": 5,
    "start_time": "2022-04-23T18:51:57.464Z"
   },
   {
    "duration": 6,
    "start_time": "2022-04-23T18:51:58.207Z"
   },
   {
    "duration": 956,
    "start_time": "2022-04-23T18:52:27.808Z"
   },
   {
    "duration": 123,
    "start_time": "2022-04-23T19:04:48.374Z"
   },
   {
    "duration": 8,
    "start_time": "2022-04-23T19:04:59.439Z"
   },
   {
    "duration": 6,
    "start_time": "2022-04-23T19:06:59.680Z"
   },
   {
    "duration": 7,
    "start_time": "2022-04-23T19:18:53.258Z"
   },
   {
    "duration": 9,
    "start_time": "2022-04-23T19:19:01.971Z"
   },
   {
    "duration": 8,
    "start_time": "2022-04-23T19:19:03.256Z"
   },
   {
    "duration": 1659,
    "start_time": "2022-04-24T07:29:48.726Z"
   },
   {
    "duration": 526,
    "start_time": "2022-04-24T07:29:50.392Z"
   },
   {
    "duration": 6,
    "start_time": "2022-04-24T07:29:50.920Z"
   },
   {
    "duration": 72,
    "start_time": "2022-04-24T07:29:50.930Z"
   },
   {
    "duration": 127,
    "start_time": "2022-04-24T07:29:51.005Z"
   },
   {
    "duration": 345,
    "start_time": "2022-04-24T07:29:51.135Z"
   },
   {
    "duration": 16,
    "start_time": "2022-04-24T07:29:51.482Z"
   },
   {
    "duration": 17,
    "start_time": "2022-04-24T07:29:51.501Z"
   },
   {
    "duration": 175,
    "start_time": "2022-04-24T07:29:51.521Z"
   },
   {
    "duration": 196,
    "start_time": "2022-04-24T07:29:51.701Z"
   },
   {
    "duration": 18,
    "start_time": "2022-04-24T07:29:51.900Z"
   },
   {
    "duration": 146,
    "start_time": "2022-04-24T07:29:51.921Z"
   },
   {
    "duration": 24,
    "start_time": "2022-04-24T07:29:52.070Z"
   },
   {
    "duration": 12,
    "start_time": "2022-04-24T07:29:52.097Z"
   },
   {
    "duration": 28,
    "start_time": "2022-04-24T07:29:52.112Z"
   },
   {
    "duration": 18,
    "start_time": "2022-04-24T07:29:52.143Z"
   },
   {
    "duration": 26,
    "start_time": "2022-04-24T07:29:52.193Z"
   },
   {
    "duration": 57,
    "start_time": "2022-04-24T07:29:52.221Z"
   },
   {
    "duration": 66,
    "start_time": "2022-04-24T07:29:52.280Z"
   },
   {
    "duration": 80,
    "start_time": "2022-04-24T07:29:52.349Z"
   },
   {
    "duration": 17,
    "start_time": "2022-04-24T07:29:52.431Z"
   },
   {
    "duration": 232,
    "start_time": "2022-04-24T07:29:52.451Z"
   },
   {
    "duration": 28,
    "start_time": "2022-04-24T07:29:52.686Z"
   },
   {
    "duration": 44,
    "start_time": "2022-04-24T07:29:52.717Z"
   },
   {
    "duration": 30,
    "start_time": "2022-04-24T07:29:52.764Z"
   },
   {
    "duration": 72,
    "start_time": "2022-04-24T07:29:52.797Z"
   },
   {
    "duration": 131,
    "start_time": "2022-04-24T07:29:52.872Z"
   },
   {
    "duration": 36,
    "start_time": "2022-04-24T07:29:53.009Z"
   },
   {
    "duration": 75,
    "start_time": "2022-04-24T07:29:53.047Z"
   },
   {
    "duration": 12,
    "start_time": "2022-04-24T07:29:53.125Z"
   },
   {
    "duration": 13,
    "start_time": "2022-04-24T07:29:53.140Z"
   },
   {
    "duration": 40,
    "start_time": "2022-04-24T07:29:53.155Z"
   },
   {
    "duration": 17,
    "start_time": "2022-04-24T07:29:53.197Z"
   },
   {
    "duration": 13,
    "start_time": "2022-04-24T07:29:53.217Z"
   },
   {
    "duration": 18,
    "start_time": "2022-04-24T07:29:53.233Z"
   },
   {
    "duration": 9,
    "start_time": "2022-04-24T07:29:53.253Z"
   },
   {
    "duration": 10,
    "start_time": "2022-04-24T07:29:53.265Z"
   },
   {
    "duration": 25,
    "start_time": "2022-04-24T07:29:53.277Z"
   },
   {
    "duration": 17,
    "start_time": "2022-04-24T07:29:53.304Z"
   },
   {
    "duration": 9,
    "start_time": "2022-04-24T07:29:53.323Z"
   },
   {
    "duration": 17,
    "start_time": "2022-04-24T07:29:53.335Z"
   },
   {
    "duration": 11,
    "start_time": "2022-04-24T07:29:53.354Z"
   },
   {
    "duration": 985,
    "start_time": "2022-04-24T07:29:53.368Z"
   },
   {
    "duration": 7,
    "start_time": "2022-04-24T07:29:54.355Z"
   },
   {
    "duration": 29,
    "start_time": "2022-04-24T07:29:54.364Z"
   },
   {
    "duration": 8,
    "start_time": "2022-04-24T07:29:54.396Z"
   },
   {
    "duration": 13,
    "start_time": "2022-04-24T07:29:54.407Z"
   },
   {
    "duration": 10,
    "start_time": "2022-04-24T07:29:54.422Z"
   },
   {
    "duration": 1277,
    "start_time": "2022-10-20T23:25:15.680Z"
   },
   {
    "duration": 793,
    "start_time": "2022-10-20T23:25:20.110Z"
   },
   {
    "duration": 2,
    "start_time": "2022-10-20T23:25:22.812Z"
   },
   {
    "duration": 36,
    "start_time": "2022-10-20T23:25:25.386Z"
   },
   {
    "duration": 60,
    "start_time": "2022-10-20T23:25:35.682Z"
   },
   {
    "duration": 171,
    "start_time": "2022-10-21T00:38:39.232Z"
   },
   {
    "duration": 170,
    "start_time": "2022-10-21T00:39:06.424Z"
   },
   {
    "duration": 3,
    "start_time": "2022-10-21T01:04:07.362Z"
   },
   {
    "duration": 5,
    "start_time": "2022-10-21T01:04:11.119Z"
   },
   {
    "duration": 5,
    "start_time": "2022-10-21T02:18:50.771Z"
   },
   {
    "duration": 4,
    "start_time": "2022-10-21T02:18:56.964Z"
   },
   {
    "duration": 5,
    "start_time": "2022-10-21T02:19:05.932Z"
   },
   {
    "duration": 60,
    "start_time": "2022-10-21T02:21:26.024Z"
   },
   {
    "duration": 4,
    "start_time": "2022-10-21T02:22:22.999Z"
   },
   {
    "duration": 3,
    "start_time": "2022-10-21T02:22:59.570Z"
   },
   {
    "duration": 9,
    "start_time": "2022-10-21T02:23:08.132Z"
   },
   {
    "duration": 20,
    "start_time": "2022-10-21T02:25:53.433Z"
   },
   {
    "duration": 60,
    "start_time": "2022-10-21T02:26:46.649Z"
   },
   {
    "duration": 22,
    "start_time": "2022-10-21T02:26:49.135Z"
   },
   {
    "duration": 31852,
    "start_time": "2022-10-21T02:30:07.865Z"
   },
   {
    "duration": 22,
    "start_time": "2022-10-21T02:30:43.727Z"
   },
   {
    "duration": 74,
    "start_time": "2022-10-21T02:37:46.210Z"
   },
   {
    "duration": 17,
    "start_time": "2022-10-21T02:37:48.951Z"
   },
   {
    "duration": 4,
    "start_time": "2022-10-21T02:37:55.340Z"
   },
   {
    "duration": 9,
    "start_time": "2022-10-21T02:44:42.036Z"
   },
   {
    "duration": 45,
    "start_time": "2022-10-21T02:46:28.189Z"
   },
   {
    "duration": 5,
    "start_time": "2022-10-21T02:48:27.275Z"
   },
   {
    "duration": 12,
    "start_time": "2022-10-21T02:48:36.402Z"
   },
   {
    "duration": 12,
    "start_time": "2022-10-21T02:48:42.814Z"
   },
   {
    "duration": 14,
    "start_time": "2022-10-21T02:52:14.672Z"
   },
   {
    "duration": 10,
    "start_time": "2022-10-21T19:56:22.465Z"
   },
   {
    "duration": 956,
    "start_time": "2022-10-21T20:05:57.389Z"
   },
   {
    "duration": 56,
    "start_time": "2022-10-21T20:06:26.552Z"
   },
   {
    "duration": 63,
    "start_time": "2022-10-21T20:09:35.894Z"
   },
   {
    "duration": 34,
    "start_time": "2022-10-21T20:16:06.307Z"
   },
   {
    "duration": 11,
    "start_time": "2022-10-21T20:16:57.125Z"
   },
   {
    "duration": 41,
    "start_time": "2022-10-21T20:22:46.060Z"
   },
   {
    "duration": 15,
    "start_time": "2022-10-21T20:24:04.473Z"
   },
   {
    "duration": 21,
    "start_time": "2022-10-21T21:33:56.680Z"
   },
   {
    "duration": 26,
    "start_time": "2022-10-21T21:34:07.613Z"
   },
   {
    "duration": 21,
    "start_time": "2022-10-21T21:35:25.686Z"
   },
   {
    "duration": 46,
    "start_time": "2022-10-21T21:37:56.444Z"
   },
   {
    "duration": 28,
    "start_time": "2022-10-21T21:38:02.068Z"
   },
   {
    "duration": 20,
    "start_time": "2022-10-21T21:42:20.759Z"
   },
   {
    "duration": 19,
    "start_time": "2022-10-21T21:57:27.883Z"
   },
   {
    "duration": 29,
    "start_time": "2022-10-21T21:57:46.995Z"
   },
   {
    "duration": 32,
    "start_time": "2022-10-21T21:58:07.385Z"
   },
   {
    "duration": 18,
    "start_time": "2022-10-21T22:17:31.669Z"
   },
   {
    "duration": 29,
    "start_time": "2022-10-21T22:25:39.723Z"
   },
   {
    "duration": 6,
    "start_time": "2022-10-21T22:50:59.607Z"
   },
   {
    "duration": 15,
    "start_time": "2022-10-21T22:54:31.818Z"
   },
   {
    "duration": 16,
    "start_time": "2022-10-21T22:56:39.695Z"
   },
   {
    "duration": 15,
    "start_time": "2022-10-21T23:04:18.640Z"
   },
   {
    "duration": 9,
    "start_time": "2022-10-21T23:04:49.952Z"
   },
   {
    "duration": 11,
    "start_time": "2022-10-21T23:05:33.451Z"
   },
   {
    "duration": 532,
    "start_time": "2022-10-21T23:27:42.815Z"
   },
   {
    "duration": 47,
    "start_time": "2022-10-22T00:15:40.924Z"
   },
   {
    "duration": 27,
    "start_time": "2022-10-22T00:20:09.564Z"
   },
   {
    "duration": 28,
    "start_time": "2022-10-22T00:20:54.647Z"
   },
   {
    "duration": 707,
    "start_time": "2022-10-22T00:24:12.645Z"
   },
   {
    "duration": 4,
    "start_time": "2022-10-22T00:29:42.531Z"
   },
   {
    "duration": 4,
    "start_time": "2022-10-22T00:29:51.151Z"
   },
   {
    "duration": 5,
    "start_time": "2022-10-22T00:44:05.185Z"
   },
   {
    "duration": 3,
    "start_time": "2022-10-22T00:50:05.984Z"
   },
   {
    "duration": 5,
    "start_time": "2022-10-22T00:57:03.012Z"
   },
   {
    "duration": 6,
    "start_time": "2022-10-22T01:13:00.927Z"
   },
   {
    "duration": 6,
    "start_time": "2022-10-22T01:13:44.629Z"
   },
   {
    "duration": 4,
    "start_time": "2022-10-22T01:18:00.198Z"
   },
   {
    "duration": 1022,
    "start_time": "2022-10-22T04:49:02.519Z"
   },
   {
    "duration": 358,
    "start_time": "2022-10-22T04:49:03.543Z"
   },
   {
    "duration": 3,
    "start_time": "2022-10-22T04:49:03.902Z"
   },
   {
    "duration": 36,
    "start_time": "2022-10-22T04:49:03.907Z"
   },
   {
    "duration": 72,
    "start_time": "2022-10-22T04:49:03.944Z"
   },
   {
    "duration": 167,
    "start_time": "2022-10-22T04:49:04.018Z"
   },
   {
    "duration": 4,
    "start_time": "2022-10-22T04:49:04.187Z"
   },
   {
    "duration": 5,
    "start_time": "2022-10-22T04:49:04.209Z"
   },
   {
    "duration": 7,
    "start_time": "2022-10-22T04:49:04.215Z"
   },
   {
    "duration": 70,
    "start_time": "2022-10-22T04:49:04.224Z"
   },
   {
    "duration": 21,
    "start_time": "2022-10-22T04:49:04.295Z"
   },
   {
    "duration": 45,
    "start_time": "2022-10-22T04:49:04.317Z"
   },
   {
    "duration": 4,
    "start_time": "2022-10-22T04:49:04.364Z"
   },
   {
    "duration": 41,
    "start_time": "2022-10-22T04:49:04.369Z"
   },
   {
    "duration": 14,
    "start_time": "2022-10-22T04:49:04.412Z"
   },
   {
    "duration": 17,
    "start_time": "2022-10-22T04:49:04.429Z"
   },
   {
    "duration": 10,
    "start_time": "2022-10-22T04:49:04.448Z"
   },
   {
    "duration": 77,
    "start_time": "2022-10-22T04:49:04.460Z"
   },
   {
    "duration": 35,
    "start_time": "2022-10-22T04:49:04.539Z"
   },
   {
    "duration": 44,
    "start_time": "2022-10-22T04:49:04.576Z"
   },
   {
    "duration": 8,
    "start_time": "2022-10-22T04:49:04.622Z"
   },
   {
    "duration": 31,
    "start_time": "2022-10-22T04:49:04.631Z"
   },
   {
    "duration": 9,
    "start_time": "2022-10-22T04:49:04.664Z"
   },
   {
    "duration": 51,
    "start_time": "2022-10-22T04:49:04.675Z"
   },
   {
    "duration": 14,
    "start_time": "2022-10-22T04:49:04.727Z"
   },
   {
    "duration": 32,
    "start_time": "2022-10-22T04:49:04.743Z"
   },
   {
    "duration": 38,
    "start_time": "2022-10-22T04:49:04.776Z"
   },
   {
    "duration": 25,
    "start_time": "2022-10-22T04:49:04.819Z"
   },
   {
    "duration": 7,
    "start_time": "2022-10-22T04:49:04.846Z"
   },
   {
    "duration": 27,
    "start_time": "2022-10-22T04:49:04.854Z"
   },
   {
    "duration": 26,
    "start_time": "2022-10-22T04:49:04.908Z"
   },
   {
    "duration": 10,
    "start_time": "2022-10-22T04:49:04.936Z"
   },
   {
    "duration": 723,
    "start_time": "2022-10-22T04:49:04.947Z"
   },
   {
    "duration": 5,
    "start_time": "2022-10-22T04:49:05.672Z"
   },
   {
    "duration": 6,
    "start_time": "2022-10-22T04:49:05.679Z"
   },
   {
    "duration": 26,
    "start_time": "2022-10-22T04:49:05.686Z"
   },
   {
    "duration": 7,
    "start_time": "2022-10-22T04:49:05.713Z"
   },
   {
    "duration": 6,
    "start_time": "2022-10-22T04:49:05.721Z"
   },
   {
    "duration": 6,
    "start_time": "2022-10-22T04:49:05.728Z"
   }
  ],
  "kernelspec": {
   "display_name": "Python 3 (ipykernel)",
   "language": "python",
   "name": "python3"
  },
  "language_info": {
   "codemirror_mode": {
    "name": "ipython",
    "version": 3
   },
   "file_extension": ".py",
   "mimetype": "text/x-python",
   "name": "python",
   "nbconvert_exporter": "python",
   "pygments_lexer": "ipython3",
   "version": "3.9.5"
  },
  "toc": {
   "base_numbering": 1,
   "nav_menu": {},
   "number_sections": true,
   "sideBar": true,
   "skip_h1_title": true,
   "title_cell": "Table of Contents",
   "title_sidebar": "Contents",
   "toc_cell": true,
   "toc_position": {
    "height": "calc(100% - 180px)",
    "left": "10px",
    "top": "150px",
    "width": "292.571px"
   },
   "toc_section_display": true,
   "toc_window_display": true
  }
 },
 "nbformat": 4,
 "nbformat_minor": 5
}
