{
 "cells": [
  {
   "cell_type": "markdown",
   "id": "488c09f0",
   "metadata": {},
   "source": [
    "# Prediction of client churn of the telecom operator \"Interconnect\""
   ]
  },
  {
   "cell_type": "markdown",
   "id": "aebee36a",
   "metadata": {
    "toc": true
   },
   "source": [
    "<h1>Table of Contents<span class=\"tocSkip\"></span></h1>\n",
    "<div class=\"toc\"><ul class=\"toc-item\"><li><span><a href=\"#Data-Preprocessing\" data-toc-modified-id=\"Data-Preprocessing-1\"><span class=\"toc-item-num\">1&nbsp;&nbsp;</span>Data Preprocessing</a></span><ul class=\"toc-item\"><li><span><a href=\"#Initial-Data-overview\" data-toc-modified-id=\"Initial-Data-overview-1.1\"><span class=\"toc-item-num\">1.1&nbsp;&nbsp;</span>Initial Data overview</a></span><ul class=\"toc-item\"><li><span><a href=\"#Table-contract\" data-toc-modified-id=\"Table-contract-1.1.1\"><span class=\"toc-item-num\">1.1.1&nbsp;&nbsp;</span>Table <code>contract</code></a></span></li><li><span><a href=\"#Table-personal\" data-toc-modified-id=\"Table-personal-1.1.2\"><span class=\"toc-item-num\">1.1.2&nbsp;&nbsp;</span>Table <code>personal</code></a></span></li><li><span><a href=\"#Table-internet\" data-toc-modified-id=\"Table-internet-1.1.3\"><span class=\"toc-item-num\">1.1.3&nbsp;&nbsp;</span>Table <code>internet</code></a></span></li><li><span><a href=\"#Table-phone\" data-toc-modified-id=\"Table-phone-1.1.4\"><span class=\"toc-item-num\">1.1.4&nbsp;&nbsp;</span>Table <code>phone</code></a></span></li></ul></li><li><span><a href=\"#Converting-the-table-headers-to-a-uniform-style\" data-toc-modified-id=\"Converting-the-table-headers-to-a-uniform-style-1.2\"><span class=\"toc-item-num\">1.2&nbsp;&nbsp;</span>Converting the table headers to a uniform style</a></span></li><li><span><a href=\"#Converting-the-data-types\" data-toc-modified-id=\"Converting-the-data-types-1.3\"><span class=\"toc-item-num\">1.3&nbsp;&nbsp;</span>Converting the data types</a></span></li><li><span><a href=\"#Merging-tables\" data-toc-modified-id=\"Merging-tables-1.4\"><span class=\"toc-item-num\">1.4&nbsp;&nbsp;</span>Merging tables</a></span></li><li><span><a href=\"#Feature-analysis\" data-toc-modified-id=\"Feature-analysis-1.5\"><span class=\"toc-item-num\">1.5&nbsp;&nbsp;</span>Feature analysis</a></span><ul class=\"toc-item\"><li><span><a href=\"#Creation-of-a-target-feature\" data-toc-modified-id=\"Creation-of-a-target-feature-1.5.1\"><span class=\"toc-item-num\">1.5.1&nbsp;&nbsp;</span>Creation of a target feature</a></span></li><li><span><a href=\"#Creation-of-additional-features\" data-toc-modified-id=\"Creation-of-additional-features-1.5.2\"><span class=\"toc-item-num\">1.5.2&nbsp;&nbsp;</span>Creation of additional features</a></span></li><li><span><a href=\"#Exploring-a-portrait-of-departed-clients\" data-toc-modified-id=\"Exploring-a-portrait-of-departed-clients-1.5.3\"><span class=\"toc-item-num\">1.5.3&nbsp;&nbsp;</span>Exploring a portrait of departed clients</a></span></li><li><span><a href=\"#Multicollinearity-check\" data-toc-modified-id=\"Multicollinearity-check-1.5.4\"><span class=\"toc-item-num\">1.5.4&nbsp;&nbsp;</span>Multicollinearity check</a></span></li></ul></li><li><span><a href=\"#Data-preparation-for-model-training\" data-toc-modified-id=\"Data-preparation-for-model-training-1.6\"><span class=\"toc-item-num\">1.6&nbsp;&nbsp;</span>Data preparation for model training</a></span></li></ul></li><li><span><a href=\"#Model-Training\" data-toc-modified-id=\"Model-Training-2\"><span class=\"toc-item-num\">2&nbsp;&nbsp;</span>Model Training</a></span><ul class=\"toc-item\"><li><span><a href=\"#CatBoost-Classifier\" data-toc-modified-id=\"CatBoost-Classifier-2.1\"><span class=\"toc-item-num\">2.1&nbsp;&nbsp;</span>CatBoost Classifier</a></span><ul class=\"toc-item\"><li><span><a href=\"#CatBoost-Classifier-based-on-the-dataset-BEFORE-deleting-the-features\" data-toc-modified-id=\"CatBoost-Classifier-based-on-the-dataset-BEFORE-deleting-the-features-2.1.1\"><span class=\"toc-item-num\">2.1.1&nbsp;&nbsp;</span>CatBoost Classifier based on the dataset BEFORE deleting the features</a></span></li><li><span><a href=\"#CatBoost-Classifier-based-on-the-dataset-AFTER-deleting-the-features\" data-toc-modified-id=\"CatBoost-Classifier-based-on-the-dataset-AFTER-deleting-the-features-2.1.2\"><span class=\"toc-item-num\">2.1.2&nbsp;&nbsp;</span>CatBoost Classifier based on the dataset AFTER deleting the features</a></span></li></ul></li><li><span><a href=\"#Random-Forest-Classifier\" data-toc-modified-id=\"Random-Forest-Classifier-2.2\"><span class=\"toc-item-num\">2.2&nbsp;&nbsp;</span>Random Forest Classifier</a></span><ul class=\"toc-item\"><li><span><a href=\"#Random-Forest-Classifier-based-on-the-dataset-BEFORE-deleting-the-features\" data-toc-modified-id=\"Random-Forest-Classifier-based-on-the-dataset-BEFORE-deleting-the-features-2.2.1\"><span class=\"toc-item-num\">2.2.1&nbsp;&nbsp;</span>Random Forest Classifier based on the dataset BEFORE deleting the features</a></span></li><li><span><a href=\"#Random-Forest-Classifier-based-on-the-dataset-AFTER-deleting-the-features\" data-toc-modified-id=\"Random-Forest-Classifier-based-on-the-dataset-AFTER-deleting-the-features-2.2.2\"><span class=\"toc-item-num\">2.2.2&nbsp;&nbsp;</span>Random Forest Classifier based on the dataset AFTER deleting the features</a></span></li></ul></li></ul></li><li><span><a href=\"#Model-Analysis\" data-toc-modified-id=\"Model-Analysis-3\"><span class=\"toc-item-num\">3&nbsp;&nbsp;</span>Model Analysis</a></span></li><li><span><a href=\"#Results-and-Conclusion\" data-toc-modified-id=\"Results-and-Conclusion-4\"><span class=\"toc-item-num\">4&nbsp;&nbsp;</span>Results and Conclusion</a></span></li></ul></div>"
   ]
  },
  {
   "cell_type": "markdown",
   "id": "ce43a5da",
   "metadata": {},
   "source": [
    "The telecom operator \"Interconnect\" wants to learn how to predict their client churn. If it turns out that the user is going to leave, they will be offered promotional codes and special conditions. <br>Interconnect's team collected some of their clients' personal data, information about their tarrifs and contracts. <br> Ensure ROC AUC is greater than 0.85."
   ]
  },
  {
   "cell_type": "markdown",
   "id": "cac8400d",
   "metadata": {},
   "source": [
    "**Description of Interconnect's services**\n",
    "\n",
    "The operator mainly provides two types of services:\n",
    "1. Landline communication. The telephone can be connected to several lines simultaneously.\n",
    "2. Internet. The connection can be of two types: via a telephone line (DSL, digital subscriber line) or through a fiber optic cable.\n",
    "\n",
    "The following services are also available:\n",
    "- Internet security: antivirus (DeviceProtection) and a malicious website blocker (OnlineSecurity);\n",
    "- A dedicated technical support line (TechSupport);\n",
    "- Cloud file storage for data backup (OnlineBackup);\n",
    "- TV streaming (StreamingTV) and a movie directory (StreamingMovies).\n",
    "\n",
    "The clients can choose either a monthly payment or sign a 1- or 2-year contract. They can use various payment methods and receive an electronic invoice after a transaction."
   ]
  },
  {
   "cell_type": "markdown",
   "id": "03fe5abf",
   "metadata": {},
   "source": [
    "**Data description**\n",
    "\n",
    "The data consists of the following files obtained from various sources:\n",
    "- `contract.csv` — contract information;\n",
    "- `personal.csv` — clients' personal data;\n",
    "- `internet.csv` — information about internet services;\n",
    "- `phone.csv` — information about telephony services.\n",
    "\n",
    "Contract information is current as of February 1, 2020."
   ]
  },
  {
   "cell_type": "code",
   "execution_count": 1,
   "id": "00adf4e5",
   "metadata": {},
   "outputs": [
    {
     "name": "stdout",
     "output_type": "stream",
     "text": [
     ]
    }
   ],
   "source": [
    "pip install phik"
   ]
  },
  {
   "cell_type": "code",
   "execution_count": 2,
   "id": "c77ccfc8",
   "metadata": {},
   "outputs": [],
   "source": [
    "# import of libraries\n",
    "\n",
    "import matplotlib.pyplot as plt\n",
    "import numpy as np\n",
    "import pandas as pd\n",
    "import re\n",
    "import seaborn as sns\n",
    "\n",
    "import phik\n",
    "from phik import resources, report\n",
    "\n",
    "from catboost import CatBoostClassifier\n",
    "from sklearn.ensemble import RandomForestClassifier\n",
    "from sklearn.experimental import enable_halving_search_cv\n",
    "from sklearn.metrics import accuracy_score, f1_score, roc_auc_score, roc_curve\n",
    "from sklearn.model_selection import HalvingGridSearchCV\n",
    "from sklearn.model_selection import train_test_split\n",
    "from sklearn.preprocessing import OrdinalEncoder\n",
    "\n",
    "import time"
   ]
  },
  {
   "cell_type": "markdown",
   "id": "3e0e5b28",
   "metadata": {},
   "source": [
    "## Data Preprocessing"
   ]
  },
  {
   "cell_type": "markdown",
   "id": "2b8a0d1f",
   "metadata": {},
   "source": [
    "### Initial Data overview"
   ]
  },
  {
   "cell_type": "code",
   "execution_count": 3,
   "id": "bbcd2d61",
   "metadata": {},
   "outputs": [],
   "source": [
    "contract = pd.read_csv('/datasets/final_provider/contract.csv')\n",
    "personal = pd.read_csv('/datasets/final_provider/personal.csv')\n",
    "internet = pd.read_csv('/datasets/final_provider/internet.csv')\n",
    "phone = pd.read_csv('/datasets/final_provider/phone.csv')\n",
    "\n",
    "# display all columns\n",
    "pd.set_option('display.max_columns', None)"
   ]
  },
  {
   "cell_type": "code",
   "execution_count": 4,
   "id": "c9ce0ebc",
   "metadata": {},
   "outputs": [],
   "source": [
    "# defining a function to print general info about a table\n",
    "def table_info(table):\n",
    "    display(table.head())\n",
    "    print(table.info())\n",
    "    print('\\nShare of duplicates in the total number of rows:', table.duplicated().mean())\n",
    "    print('\\nNumber of unique clients:', table['customerID'].nunique())"
   ]
  },
  {
   "cell_type": "code",
   "execution_count": 5,
   "id": "b0c9e47d",
   "metadata": {},
   "outputs": [],
   "source": [
    "# defining a function to print unique values in a table column (except customerID column)\n",
    "def column_values(table):\n",
    "    for col in table.columns[1:]:\n",
    "        print(table[col].value_counts().sort_values(ascending=False), '\\n')"
   ]
  },
  {
   "cell_type": "code",
   "execution_count": 6,
   "id": "8d1bc460",
   "metadata": {},
   "outputs": [],
   "source": [
    "# defining a function to create a bar chart based on unique column values\n",
    "def plot_column_values(table, start_column, end_column):\n",
    "    for col in table.columns[start_column:end_column+1]:\n",
    "        table.groupby(col)[col].agg('count').plot.bar()\n",
    "        plt.show();"
   ]
  },
  {
   "cell_type": "markdown",
   "id": "47f9f35b",
   "metadata": {},
   "source": [
    "#### Table `contract`"
   ]
  },
  {
   "cell_type": "code",
   "execution_count": 7,
   "id": "b62322bf",
   "metadata": {},
   "outputs": [
    {
     "data": {
      "text/html": [
       "<div>\n",
       "<style scoped>\n",
       "    .dataframe tbody tr th:only-of-type {\n",
       "        vertical-align: middle;\n",
       "    }\n",
       "\n",
       "    .dataframe tbody tr th {\n",
       "        vertical-align: top;\n",
       "    }\n",
       "\n",
       "    .dataframe thead th {\n",
       "        text-align: right;\n",
       "    }\n",
       "</style>\n",
       "<table border=\"1\" class=\"dataframe\">\n",
       "  <thead>\n",
       "    <tr style=\"text-align: right;\">\n",
       "      <th></th>\n",
       "      <th>customerID</th>\n",
       "      <th>BeginDate</th>\n",
       "      <th>EndDate</th>\n",
       "      <th>Type</th>\n",
       "      <th>PaperlessBilling</th>\n",
       "      <th>PaymentMethod</th>\n",
       "      <th>MonthlyCharges</th>\n",
       "      <th>TotalCharges</th>\n",
       "    </tr>\n",
       "  </thead>\n",
       "  <tbody>\n",
       "    <tr>\n",
       "      <th>0</th>\n",
       "      <td>7590-VHVEG</td>\n",
       "      <td>2020-01-01</td>\n",
       "      <td>No</td>\n",
       "      <td>Month-to-month</td>\n",
       "      <td>Yes</td>\n",
       "      <td>Electronic check</td>\n",
       "      <td>29.85</td>\n",
       "      <td>29.85</td>\n",
       "    </tr>\n",
       "    <tr>\n",
       "      <th>1</th>\n",
       "      <td>5575-GNVDE</td>\n",
       "      <td>2017-04-01</td>\n",
       "      <td>No</td>\n",
       "      <td>One year</td>\n",
       "      <td>No</td>\n",
       "      <td>Mailed check</td>\n",
       "      <td>56.95</td>\n",
       "      <td>1889.5</td>\n",
       "    </tr>\n",
       "    <tr>\n",
       "      <th>2</th>\n",
       "      <td>3668-QPYBK</td>\n",
       "      <td>2019-10-01</td>\n",
       "      <td>2019-12-01 00:00:00</td>\n",
       "      <td>Month-to-month</td>\n",
       "      <td>Yes</td>\n",
       "      <td>Mailed check</td>\n",
       "      <td>53.85</td>\n",
       "      <td>108.15</td>\n",
       "    </tr>\n",
       "    <tr>\n",
       "      <th>3</th>\n",
       "      <td>7795-CFOCW</td>\n",
       "      <td>2016-05-01</td>\n",
       "      <td>No</td>\n",
       "      <td>One year</td>\n",
       "      <td>No</td>\n",
       "      <td>Bank transfer (automatic)</td>\n",
       "      <td>42.30</td>\n",
       "      <td>1840.75</td>\n",
       "    </tr>\n",
       "    <tr>\n",
       "      <th>4</th>\n",
       "      <td>9237-HQITU</td>\n",
       "      <td>2019-09-01</td>\n",
       "      <td>2019-11-01 00:00:00</td>\n",
       "      <td>Month-to-month</td>\n",
       "      <td>Yes</td>\n",
       "      <td>Electronic check</td>\n",
       "      <td>70.70</td>\n",
       "      <td>151.65</td>\n",
       "    </tr>\n",
       "  </tbody>\n",
       "</table>\n",
       "</div>"
      ],
      "text/plain": [
       "   customerID   BeginDate              EndDate            Type  \\\n",
       "0  7590-VHVEG  2020-01-01                   No  Month-to-month   \n",
       "1  5575-GNVDE  2017-04-01                   No        One year   \n",
       "2  3668-QPYBK  2019-10-01  2019-12-01 00:00:00  Month-to-month   \n",
       "3  7795-CFOCW  2016-05-01                   No        One year   \n",
       "4  9237-HQITU  2019-09-01  2019-11-01 00:00:00  Month-to-month   \n",
       "\n",
       "  PaperlessBilling              PaymentMethod  MonthlyCharges TotalCharges  \n",
       "0              Yes           Electronic check           29.85        29.85  \n",
       "1               No               Mailed check           56.95       1889.5  \n",
       "2              Yes               Mailed check           53.85       108.15  \n",
       "3               No  Bank transfer (automatic)           42.30      1840.75  \n",
       "4              Yes           Electronic check           70.70       151.65  "
      ]
     },
     "metadata": {},
     "output_type": "display_data"
    },
    {
     "name": "stdout",
     "output_type": "stream",
     "text": [
      "<class 'pandas.core.frame.DataFrame'>\n",
      "RangeIndex: 7043 entries, 0 to 7042\n",
      "Data columns (total 8 columns):\n",
      " #   Column            Non-Null Count  Dtype  \n",
      "---  ------            --------------  -----  \n",
      " 0   customerID        7043 non-null   object \n",
      " 1   BeginDate         7043 non-null   object \n",
      " 2   EndDate           7043 non-null   object \n",
      " 3   Type              7043 non-null   object \n",
      " 4   PaperlessBilling  7043 non-null   object \n",
      " 5   PaymentMethod     7043 non-null   object \n",
      " 6   MonthlyCharges    7043 non-null   float64\n",
      " 7   TotalCharges      7043 non-null   object \n",
      "dtypes: float64(1), object(7)\n",
      "memory usage: 440.3+ KB\n",
      "None\n",
      "\n",
      "Share of duplicates in the total number of rows: 0.0\n",
      "\n",
      "Number of unique clients: 7043\n"
     ]
    }
   ],
   "source": [
    "# function call\n",
    "table_info(contract)"
   ]
  },
  {
   "cell_type": "markdown",
   "id": "092676b8",
   "metadata": {},
   "source": [
    "The `contract` table contains the following information about contracts with clients:\n",
    "- `customerID` - client's identification number,\n",
    "- `BeginDate` – service start date,\n",
    "- `EndDate` – service end date,\n",
    "- `Type` – payment type: monthly, yearly, etc.,\n",
    "- `PaperlessBilling` – electronic billing,\n",
    "- `PaymentMethod` – payment method,\n",
    "- `MonthlyCharges` – monthly charges,\n",
    "- `TotalCharges` – total amount of money spent on services for the entire time."
   ]
  },
  {
   "cell_type": "markdown",
   "id": "750d5cdd",
   "metadata": {},
   "source": [
    "**Based on a preliminary analysis of this table, we can conclude the following:**\n",
    "- the operator has 7043 unique clients (current and past), it equals to the number of rows in the table,\n",
    "- no obvious duplicates or missing values were found in the table,\n",
    "- it is necessary to convert the column headers to snake_case,\n",
    "- it is necessary to change data type of the column `TotalCharges` into *float* and `BeginDate` into *datetime*."
   ]
  },
  {
   "cell_type": "code",
   "execution_count": 8,
   "id": "23f4bc87",
   "metadata": {
    "scrolled": false
   },
   "outputs": [
    {
     "data": {
      "image/png": "[encoded data removed]",
      "text/plain": [
       "<Figure size 432x288 with 1 Axes>"
      ]
     },
     "metadata": {
      "needs_background": "light"
     },
     "output_type": "display_data"
    },
    {
     "data": {
      "image/png": "[encoded data removed]",
      "text/plain": [
       "<Figure size 432x288 with 1 Axes>"
      ]
     },
     "metadata": {
      "needs_background": "light"
     },
     "output_type": "display_data"
    },
    {
     "data": {
      "image/png": "[encoded data removed]",
      "text/plain": [
       "<Figure size 432x288 with 1 Axes>"
      ]
     },
     "metadata": {
      "needs_background": "light"
     },
     "output_type": "display_data"
    },
    {
     "data": {
      "image/png": "[encoded data removed]",
      "text/plain": [
       "<Figure size 432x288 with 1 Axes>"
      ]
     },
     "metadata": {
      "needs_background": "light"
     },
     "output_type": "display_data"
    }
   ],
   "source": [
    "# function call\n",
    "plot_column_values(contract, 2, 5)"
   ]
  },
  {
   "cell_type": "code",
   "execution_count": 9,
   "id": "dda5eb52",
   "metadata": {
    "scrolled": false
   },
   "outputs": [
    {
     "name": "stdout",
     "output_type": "stream",
     "text": [
      "2014-02-01    366\n",
      "2019-10-01    237\n",
      "2019-11-01    237\n",
      "2019-09-01    237\n",
      "2020-01-01    233\n",
      "             ... \n",
      "2020-02-01     11\n",
      "2014-01-01      7\n",
      "2013-10-01      3\n",
      "2013-12-01      3\n",
      "2013-11-01      2\n",
      "Name: BeginDate, Length: 77, dtype: int64 \n",
      "\n",
      "No                     5174\n",
      "2019-11-01 00:00:00     485\n",
      "2019-12-01 00:00:00     466\n",
      "2020-01-01 00:00:00     460\n",
      "2019-10-01 00:00:00     458\n",
      "Name: EndDate, dtype: int64 \n",
      "\n",
      "Month-to-month    3875\n",
      "Two year          1695\n",
      "One year          1473\n",
      "Name: Type, dtype: int64 \n",
      "\n",
      "Yes    4171\n",
      "No     2872\n",
      "Name: PaperlessBilling, dtype: int64 \n",
      "\n",
      "Electronic check             2365\n",
      "Mailed check                 1612\n",
      "Bank transfer (automatic)    1544\n",
      "Credit card (automatic)      1522\n",
      "Name: PaymentMethod, dtype: int64 \n",
      "\n",
      "20.05     61\n",
      "19.85     45\n",
      "19.90     44\n",
      "19.95     44\n",
      "19.65     43\n",
      "          ..\n",
      "39.60      1\n",
      "113.80     1\n",
      "48.45      1\n",
      "53.35      1\n",
      "97.25      1\n",
      "Name: MonthlyCharges, Length: 1585, dtype: int64 \n",
      "\n",
      "           11\n",
      "20.2       11\n",
      "19.75       9\n",
      "20.05       8\n",
      "19.65       8\n",
      "           ..\n",
      "1215.8      1\n",
      "2747.2      1\n",
      "6110.75     1\n",
      "179.25      1\n",
      "1081.25     1\n",
      "Name: TotalCharges, Length: 6531, dtype: int64 \n",
      "\n"
     ]
    }
   ],
   "source": [
    "# function call\n",
    "column_values(contract)"
   ]
  },
  {
   "cell_type": "markdown",
   "id": "f843212a",
   "metadata": {},
   "source": [
    "**The `TotalCharges` column contains rows with missing values (more precisely: `' '`).**"
   ]
  },
  {
   "cell_type": "code",
   "execution_count": 10,
   "id": "d8b1bb3c",
   "metadata": {},
   "outputs": [
    {
     "data": {
      "text/html": [
       "<div>\n",
       "<style scoped>\n",
       "    .dataframe tbody tr th:only-of-type {\n",
       "        vertical-align: middle;\n",
       "    }\n",
       "\n",
       "    .dataframe tbody tr th {\n",
       "        vertical-align: top;\n",
       "    }\n",
       "\n",
       "    .dataframe thead th {\n",
       "        text-align: right;\n",
       "    }\n",
       "</style>\n",
       "<table border=\"1\" class=\"dataframe\">\n",
       "  <thead>\n",
       "    <tr style=\"text-align: right;\">\n",
       "      <th></th>\n",
       "      <th>customerID</th>\n",
       "      <th>BeginDate</th>\n",
       "      <th>EndDate</th>\n",
       "      <th>Type</th>\n",
       "      <th>PaperlessBilling</th>\n",
       "      <th>PaymentMethod</th>\n",
       "      <th>MonthlyCharges</th>\n",
       "      <th>TotalCharges</th>\n",
       "    </tr>\n",
       "  </thead>\n",
       "  <tbody>\n",
       "    <tr>\n",
       "      <th>488</th>\n",
       "      <td>4472-LVYGI</td>\n",
       "      <td>2020-02-01</td>\n",
       "      <td>No</td>\n",
       "      <td>Two year</td>\n",
       "      <td>Yes</td>\n",
       "      <td>Bank transfer (automatic)</td>\n",
       "      <td>52.55</td>\n",
       "      <td></td>\n",
       "    </tr>\n",
       "    <tr>\n",
       "      <th>753</th>\n",
       "      <td>3115-CZMZD</td>\n",
       "      <td>2020-02-01</td>\n",
       "      <td>No</td>\n",
       "      <td>Two year</td>\n",
       "      <td>No</td>\n",
       "      <td>Mailed check</td>\n",
       "      <td>20.25</td>\n",
       "      <td></td>\n",
       "    </tr>\n",
       "    <tr>\n",
       "      <th>936</th>\n",
       "      <td>5709-LVOEQ</td>\n",
       "      <td>2020-02-01</td>\n",
       "      <td>No</td>\n",
       "      <td>Two year</td>\n",
       "      <td>No</td>\n",
       "      <td>Mailed check</td>\n",
       "      <td>80.85</td>\n",
       "      <td></td>\n",
       "    </tr>\n",
       "    <tr>\n",
       "      <th>1082</th>\n",
       "      <td>4367-NUYAO</td>\n",
       "      <td>2020-02-01</td>\n",
       "      <td>No</td>\n",
       "      <td>Two year</td>\n",
       "      <td>No</td>\n",
       "      <td>Mailed check</td>\n",
       "      <td>25.75</td>\n",
       "      <td></td>\n",
       "    </tr>\n",
       "    <tr>\n",
       "      <th>1340</th>\n",
       "      <td>1371-DWPAZ</td>\n",
       "      <td>2020-02-01</td>\n",
       "      <td>No</td>\n",
       "      <td>Two year</td>\n",
       "      <td>No</td>\n",
       "      <td>Credit card (automatic)</td>\n",
       "      <td>56.05</td>\n",
       "      <td></td>\n",
       "    </tr>\n",
       "    <tr>\n",
       "      <th>3331</th>\n",
       "      <td>7644-OMVMY</td>\n",
       "      <td>2020-02-01</td>\n",
       "      <td>No</td>\n",
       "      <td>Two year</td>\n",
       "      <td>No</td>\n",
       "      <td>Mailed check</td>\n",
       "      <td>19.85</td>\n",
       "      <td></td>\n",
       "    </tr>\n",
       "    <tr>\n",
       "      <th>3826</th>\n",
       "      <td>3213-VVOLG</td>\n",
       "      <td>2020-02-01</td>\n",
       "      <td>No</td>\n",
       "      <td>Two year</td>\n",
       "      <td>No</td>\n",
       "      <td>Mailed check</td>\n",
       "      <td>25.35</td>\n",
       "      <td></td>\n",
       "    </tr>\n",
       "    <tr>\n",
       "      <th>4380</th>\n",
       "      <td>2520-SGTTA</td>\n",
       "      <td>2020-02-01</td>\n",
       "      <td>No</td>\n",
       "      <td>Two year</td>\n",
       "      <td>No</td>\n",
       "      <td>Mailed check</td>\n",
       "      <td>20.00</td>\n",
       "      <td></td>\n",
       "    </tr>\n",
       "    <tr>\n",
       "      <th>5218</th>\n",
       "      <td>2923-ARZLG</td>\n",
       "      <td>2020-02-01</td>\n",
       "      <td>No</td>\n",
       "      <td>One year</td>\n",
       "      <td>Yes</td>\n",
       "      <td>Mailed check</td>\n",
       "      <td>19.70</td>\n",
       "      <td></td>\n",
       "    </tr>\n",
       "    <tr>\n",
       "      <th>6670</th>\n",
       "      <td>4075-WKNIU</td>\n",
       "      <td>2020-02-01</td>\n",
       "      <td>No</td>\n",
       "      <td>Two year</td>\n",
       "      <td>No</td>\n",
       "      <td>Mailed check</td>\n",
       "      <td>73.35</td>\n",
       "      <td></td>\n",
       "    </tr>\n",
       "    <tr>\n",
       "      <th>6754</th>\n",
       "      <td>2775-SEFEE</td>\n",
       "      <td>2020-02-01</td>\n",
       "      <td>No</td>\n",
       "      <td>Two year</td>\n",
       "      <td>Yes</td>\n",
       "      <td>Bank transfer (automatic)</td>\n",
       "      <td>61.90</td>\n",
       "      <td></td>\n",
       "    </tr>\n",
       "  </tbody>\n",
       "</table>\n",
       "</div>"
      ],
      "text/plain": [
       "      customerID   BeginDate EndDate      Type PaperlessBilling  \\\n",
       "488   4472-LVYGI  2020-02-01      No  Two year              Yes   \n",
       "753   3115-CZMZD  2020-02-01      No  Two year               No   \n",
       "936   5709-LVOEQ  2020-02-01      No  Two year               No   \n",
       "1082  4367-NUYAO  2020-02-01      No  Two year               No   \n",
       "1340  1371-DWPAZ  2020-02-01      No  Two year               No   \n",
       "3331  7644-OMVMY  2020-02-01      No  Two year               No   \n",
       "3826  3213-VVOLG  2020-02-01      No  Two year               No   \n",
       "4380  2520-SGTTA  2020-02-01      No  Two year               No   \n",
       "5218  2923-ARZLG  2020-02-01      No  One year              Yes   \n",
       "6670  4075-WKNIU  2020-02-01      No  Two year               No   \n",
       "6754  2775-SEFEE  2020-02-01      No  Two year              Yes   \n",
       "\n",
       "                  PaymentMethod  MonthlyCharges TotalCharges  \n",
       "488   Bank transfer (automatic)           52.55               \n",
       "753                Mailed check           20.25               \n",
       "936                Mailed check           80.85               \n",
       "1082               Mailed check           25.75               \n",
       "1340    Credit card (automatic)           56.05               \n",
       "3331               Mailed check           19.85               \n",
       "3826               Mailed check           25.35               \n",
       "4380               Mailed check           20.00               \n",
       "5218               Mailed check           19.70               \n",
       "6670               Mailed check           73.35               \n",
       "6754  Bank transfer (automatic)           61.90               "
      ]
     },
     "execution_count": 10,
     "metadata": {},
     "output_type": "execute_result"
    }
   ],
   "source": [
    "contract[contract['TotalCharges'] == ' ']"
   ]
  },
  {
   "cell_type": "markdown",
   "id": "b8519a1f",
   "metadata": {},
   "source": [
    "From the summary above, we can see that all clients have the same begin date - 2020-02-01, which matches to the date of data downloading. So all these clients are new ones. <br>Let's check if there is no information on the total amount of payments for all new clients:"
   ]
  },
  {
   "cell_type": "code",
   "execution_count": 11,
   "id": "da8e655b",
   "metadata": {},
   "outputs": [
    {
     "data": {
      "text/plain": [
       "True"
      ]
     },
     "execution_count": 11,
     "metadata": {},
     "output_type": "execute_result"
    }
   ],
   "source": [
    "len(contract[contract['BeginDate'] == '2020-02-01']) == len(contract[contract['TotalCharges'] == ' '])"
   ]
  },
  {
   "cell_type": "markdown",
   "id": "fb6c1dee",
   "metadata": {},
   "source": [
    "It follows that the total amount spent by new clients on services is not reflected. This may be due to the fact that either the services have not yet been provided, or new clients are using a free trial period. <br>**Let's replace these missing values with 0:**"
   ]
  },
  {
   "cell_type": "code",
   "execution_count": 12,
   "id": "678a7461",
   "metadata": {},
   "outputs": [],
   "source": [
    "contract['TotalCharges'] = contract['TotalCharges'].replace(' ', 0)"
   ]
  },
  {
   "cell_type": "markdown",
   "id": "3aa33d06",
   "metadata": {},
   "source": [
    "#### Table `personal`"
   ]
  },
  {
   "cell_type": "code",
   "execution_count": 13,
   "id": "5a9106db",
   "metadata": {},
   "outputs": [
    {
     "data": {
      "text/html": [
       "<div>\n",
       "<style scoped>\n",
       "    .dataframe tbody tr th:only-of-type {\n",
       "        vertical-align: middle;\n",
       "    }\n",
       "\n",
       "    .dataframe tbody tr th {\n",
       "        vertical-align: top;\n",
       "    }\n",
       "\n",
       "    .dataframe thead th {\n",
       "        text-align: right;\n",
       "    }\n",
       "</style>\n",
       "<table border=\"1\" class=\"dataframe\">\n",
       "  <thead>\n",
       "    <tr style=\"text-align: right;\">\n",
       "      <th></th>\n",
       "      <th>customerID</th>\n",
       "      <th>gender</th>\n",
       "      <th>SeniorCitizen</th>\n",
       "      <th>Partner</th>\n",
       "      <th>Dependents</th>\n",
       "    </tr>\n",
       "  </thead>\n",
       "  <tbody>\n",
       "    <tr>\n",
       "      <th>0</th>\n",
       "      <td>7590-VHVEG</td>\n",
       "      <td>Female</td>\n",
       "      <td>0</td>\n",
       "      <td>Yes</td>\n",
       "      <td>No</td>\n",
       "    </tr>\n",
       "    <tr>\n",
       "      <th>1</th>\n",
       "      <td>5575-GNVDE</td>\n",
       "      <td>Male</td>\n",
       "      <td>0</td>\n",
       "      <td>No</td>\n",
       "      <td>No</td>\n",
       "    </tr>\n",
       "    <tr>\n",
       "      <th>2</th>\n",
       "      <td>3668-QPYBK</td>\n",
       "      <td>Male</td>\n",
       "      <td>0</td>\n",
       "      <td>No</td>\n",
       "      <td>No</td>\n",
       "    </tr>\n",
       "    <tr>\n",
       "      <th>3</th>\n",
       "      <td>7795-CFOCW</td>\n",
       "      <td>Male</td>\n",
       "      <td>0</td>\n",
       "      <td>No</td>\n",
       "      <td>No</td>\n",
       "    </tr>\n",
       "    <tr>\n",
       "      <th>4</th>\n",
       "      <td>9237-HQITU</td>\n",
       "      <td>Female</td>\n",
       "      <td>0</td>\n",
       "      <td>No</td>\n",
       "      <td>No</td>\n",
       "    </tr>\n",
       "  </tbody>\n",
       "</table>\n",
       "</div>"
      ],
      "text/plain": [
       "   customerID  gender  SeniorCitizen Partner Dependents\n",
       "0  7590-VHVEG  Female              0     Yes         No\n",
       "1  5575-GNVDE    Male              0      No         No\n",
       "2  3668-QPYBK    Male              0      No         No\n",
       "3  7795-CFOCW    Male              0      No         No\n",
       "4  9237-HQITU  Female              0      No         No"
      ]
     },
     "metadata": {},
     "output_type": "display_data"
    },
    {
     "name": "stdout",
     "output_type": "stream",
     "text": [
      "<class 'pandas.core.frame.DataFrame'>\n",
      "RangeIndex: 7043 entries, 0 to 7042\n",
      "Data columns (total 5 columns):\n",
      " #   Column         Non-Null Count  Dtype \n",
      "---  ------         --------------  ----- \n",
      " 0   customerID     7043 non-null   object\n",
      " 1   gender         7043 non-null   object\n",
      " 2   SeniorCitizen  7043 non-null   int64 \n",
      " 3   Partner        7043 non-null   object\n",
      " 4   Dependents     7043 non-null   object\n",
      "dtypes: int64(1), object(4)\n",
      "memory usage: 275.2+ KB\n",
      "None\n",
      "\n",
      "Share of duplicates in the total number of rows: 0.0\n",
      "\n",
      "Number of unique clients: 7043\n"
     ]
    }
   ],
   "source": [
    "# function call\n",
    "table_info(personal)"
   ]
  },
  {
   "cell_type": "markdown",
   "id": "17bf9a3e",
   "metadata": {},
   "source": [
    "The `personal` table contains the following personal information about the clients:\n",
    "- `customerID` - client's identification number,\n",
    "- `gender` – client's gender,\n",
    "- `SeniorCitizen` – retirement status,\n",
    "- `Partner` – having a spouse,\n",
    "- `Dependents` – having dependents."
   ]
  },
  {
   "cell_type": "markdown",
   "id": "2bd520a3",
   "metadata": {},
   "source": [
    "**Based on a preliminary analysis of this table, we can conclude the following:**\n",
    "- the number of unique clients equals to the number of rows in the table, as well as the number of clients in the `contract` table,\n",
    "- no obvious duplicates or missing values were found in the table,\n",
    "- it is necessary to convert the column headers to snake_case,\n",
    "- it is necessary to change data type of the column `SeniorCitizen` into *object*. Since the values in this column only take two values: 1 - retired, 0 - not retired, it is inherently a *boolean* data type. For the convenience of further work, we will convert it to an object, and not to a boolean."
   ]
  },
  {
   "cell_type": "code",
   "execution_count": 14,
   "id": "6eef28a8",
   "metadata": {},
   "outputs": [
    {
     "data": {
      "image/png": "[encoded data removed]",
      "text/plain": [
       "<Figure size 432x288 with 1 Axes>"
      ]
     },
     "metadata": {
      "needs_background": "light"
     },
     "output_type": "display_data"
    },
    {
     "data": {
      "image/png": "[encoded data removed]",
      "text/plain": [
       "<Figure size 432x288 with 1 Axes>"
      ]
     },
     "metadata": {
      "needs_background": "light"
     },
     "output_type": "display_data"
    },
    {
     "data": {
      "image/png": "[encoded data removed]",
      "text/plain": [
       "<Figure size 432x288 with 1 Axes>"
      ]
     },
     "metadata": {
      "needs_background": "light"
     },
     "output_type": "display_data"
    },
    {
     "data": {
      "image/png": "[encoded data removed]",
      "text/plain": [
       "<Figure size 432x288 with 1 Axes>"
      ]
     },
     "metadata": {
      "needs_background": "light"
     },
     "output_type": "display_data"
    }
   ],
   "source": [
    "# function call\n",
    "plot_column_values(personal, 1, 4)"
   ]
  },
  {
   "cell_type": "code",
   "execution_count": 15,
   "id": "e4dcad0c",
   "metadata": {},
   "outputs": [
    {
     "name": "stdout",
     "output_type": "stream",
     "text": [
      "Male      3555\n",
      "Female    3488\n",
      "Name: gender, dtype: int64 \n",
      "\n",
      "0    5901\n",
      "1    1142\n",
      "Name: SeniorCitizen, dtype: int64 \n",
      "\n",
      "No     3641\n",
      "Yes    3402\n",
      "Name: Partner, dtype: int64 \n",
      "\n",
      "No     4933\n",
      "Yes    2110\n",
      "Name: Dependents, dtype: int64 \n",
      "\n"
     ]
    }
   ],
   "source": [
    "# function call\n",
    "column_values(personal)"
   ]
  },
  {
   "cell_type": "markdown",
   "id": "cc05bdd0",
   "metadata": {},
   "source": [
    "**No unusual values were found in the columns.**"
   ]
  },
  {
   "cell_type": "markdown",
   "id": "7f70ed43",
   "metadata": {},
   "source": [
    "#### Table `internet`"
   ]
  },
  {
   "cell_type": "code",
   "execution_count": 16,
   "id": "11575907",
   "metadata": {},
   "outputs": [
    {
     "data": {
      "text/html": [
       "<div>\n",
       "<style scoped>\n",
       "    .dataframe tbody tr th:only-of-type {\n",
       "        vertical-align: middle;\n",
       "    }\n",
       "\n",
       "    .dataframe tbody tr th {\n",
       "        vertical-align: top;\n",
       "    }\n",
       "\n",
       "    .dataframe thead th {\n",
       "        text-align: right;\n",
       "    }\n",
       "</style>\n",
       "<table border=\"1\" class=\"dataframe\">\n",
       "  <thead>\n",
       "    <tr style=\"text-align: right;\">\n",
       "      <th></th>\n",
       "      <th>customerID</th>\n",
       "      <th>InternetService</th>\n",
       "      <th>OnlineSecurity</th>\n",
       "      <th>OnlineBackup</th>\n",
       "      <th>DeviceProtection</th>\n",
       "      <th>TechSupport</th>\n",
       "      <th>StreamingTV</th>\n",
       "      <th>StreamingMovies</th>\n",
       "    </tr>\n",
       "  </thead>\n",
       "  <tbody>\n",
       "    <tr>\n",
       "      <th>0</th>\n",
       "      <td>7590-VHVEG</td>\n",
       "      <td>DSL</td>\n",
       "      <td>No</td>\n",
       "      <td>Yes</td>\n",
       "      <td>No</td>\n",
       "      <td>No</td>\n",
       "      <td>No</td>\n",
       "      <td>No</td>\n",
       "    </tr>\n",
       "    <tr>\n",
       "      <th>1</th>\n",
       "      <td>5575-GNVDE</td>\n",
       "      <td>DSL</td>\n",
       "      <td>Yes</td>\n",
       "      <td>No</td>\n",
       "      <td>Yes</td>\n",
       "      <td>No</td>\n",
       "      <td>No</td>\n",
       "      <td>No</td>\n",
       "    </tr>\n",
       "    <tr>\n",
       "      <th>2</th>\n",
       "      <td>3668-QPYBK</td>\n",
       "      <td>DSL</td>\n",
       "      <td>Yes</td>\n",
       "      <td>Yes</td>\n",
       "      <td>No</td>\n",
       "      <td>No</td>\n",
       "      <td>No</td>\n",
       "      <td>No</td>\n",
       "    </tr>\n",
       "    <tr>\n",
       "      <th>3</th>\n",
       "      <td>7795-CFOCW</td>\n",
       "      <td>DSL</td>\n",
       "      <td>Yes</td>\n",
       "      <td>No</td>\n",
       "      <td>Yes</td>\n",
       "      <td>Yes</td>\n",
       "      <td>No</td>\n",
       "      <td>No</td>\n",
       "    </tr>\n",
       "    <tr>\n",
       "      <th>4</th>\n",
       "      <td>9237-HQITU</td>\n",
       "      <td>Fiber optic</td>\n",
       "      <td>No</td>\n",
       "      <td>No</td>\n",
       "      <td>No</td>\n",
       "      <td>No</td>\n",
       "      <td>No</td>\n",
       "      <td>No</td>\n",
       "    </tr>\n",
       "  </tbody>\n",
       "</table>\n",
       "</div>"
      ],
      "text/plain": [
       "   customerID InternetService OnlineSecurity OnlineBackup DeviceProtection  \\\n",
       "0  7590-VHVEG             DSL             No          Yes               No   \n",
       "1  5575-GNVDE             DSL            Yes           No              Yes   \n",
       "2  3668-QPYBK             DSL            Yes          Yes               No   \n",
       "3  7795-CFOCW             DSL            Yes           No              Yes   \n",
       "4  9237-HQITU     Fiber optic             No           No               No   \n",
       "\n",
       "  TechSupport StreamingTV StreamingMovies  \n",
       "0          No          No              No  \n",
       "1          No          No              No  \n",
       "2          No          No              No  \n",
       "3         Yes          No              No  \n",
       "4          No          No              No  "
      ]
     },
     "metadata": {},
     "output_type": "display_data"
    },
    {
     "name": "stdout",
     "output_type": "stream",
     "text": [
      "<class 'pandas.core.frame.DataFrame'>\n",
      "RangeIndex: 5517 entries, 0 to 5516\n",
      "Data columns (total 8 columns):\n",
      " #   Column            Non-Null Count  Dtype \n",
      "---  ------            --------------  ----- \n",
      " 0   customerID        5517 non-null   object\n",
      " 1   InternetService   5517 non-null   object\n",
      " 2   OnlineSecurity    5517 non-null   object\n",
      " 3   OnlineBackup      5517 non-null   object\n",
      " 4   DeviceProtection  5517 non-null   object\n",
      " 5   TechSupport       5517 non-null   object\n",
      " 6   StreamingTV       5517 non-null   object\n",
      " 7   StreamingMovies   5517 non-null   object\n",
      "dtypes: object(8)\n",
      "memory usage: 344.9+ KB\n",
      "None\n",
      "\n",
      "Share of duplicates in the total number of rows: 0.0\n",
      "\n",
      "Number of unique clients: 5517\n"
     ]
    }
   ],
   "source": [
    "# function call\n",
    "table_info(internet)"
   ]
  },
  {
   "cell_type": "markdown",
   "id": "be04cfd1",
   "metadata": {},
   "source": [
    "The `internet` table contains the following information about internet services:\n",
    "- `customerID` - client's identification number,\n",
    "- `InternetService` – Internet. The connection can be of two types: via a telephone line (DSL, digital subscriber line) or through a fiber optic cable,\n",
    "- `OnlineSecurity` – a malicious website blocker,\n",
    "- `OnlineBackup` – a cloud file storage for data backup,\n",
    "- `DeviceProtection` – an antivirus software,\n",
    "- `TechSupport` – a dedicated technical support line,\n",
    "- `StreamingTV` – TV streaming services,\n",
    "- `StreamingMovies` – a movie directory."
   ]
  },
  {
   "cell_type": "markdown",
   "id": "99b956d4",
   "metadata": {},
   "source": [
    "**Based on a preliminary analysis of this table, we can conclude the following:**\n",
    "- the number of unique clients equals to the number of rows in the table, but is less than the number of clients in the `contract` table,\n",
    "- no obvious duplicates or missing values were found in the table,\n",
    "- it is necessary to convert the column headers to snake_case."
   ]
  },
  {
   "cell_type": "code",
   "execution_count": 17,
   "id": "f9576014",
   "metadata": {
    "scrolled": false
   },
   "outputs": [
    {
     "data": {
      "image/png": "[encoded data removed]",
      "text/plain": [
       "<Figure size 432x288 with 1 Axes>"
      ]
     },
     "metadata": {
      "needs_background": "light"
     },
     "output_type": "display_data"
    },
    {
     "data": {
      "image/png": "[encoded data removed]",
      "text/plain": [
       "<Figure size 432x288 with 1 Axes>"
      ]
     },
     "metadata": {
      "needs_background": "light"
     },
     "output_type": "display_data"
    },
    {
     "data": {
      "image/png": "[encoded data removed]",
      "text/plain": [
       "<Figure size 432x288 with 1 Axes>"
      ]
     },
     "metadata": {
      "needs_background": "light"
     },
     "output_type": "display_data"
    },
    {
     "data": {
      "image/png": "[encoded data removed]",
      "text/plain": [
       "<Figure size 432x288 with 1 Axes>"
      ]
     },
     "metadata": {
      "needs_background": "light"
     },
     "output_type": "display_data"
    },
    {
     "data": {
      "image/png": "[encoded data removed]",
      "text/plain": [
       "<Figure size 432x288 with 1 Axes>"
      ]
     },
     "metadata": {
      "needs_background": "light"
     },
     "output_type": "display_data"
    },
    {
     "data": {
      "image/png": "[encoded data removed]",
      "text/plain": [
       "<Figure size 432x288 with 1 Axes>"
      ]
     },
     "metadata": {
      "needs_background": "light"
     },
     "output_type": "display_data"
    },
    {
     "data": {
      "image/png": "[encoded data removed]",
      "text/plain": [
       "<Figure size 432x288 with 1 Axes>"
      ]
     },
     "metadata": {
      "needs_background": "light"
     },
     "output_type": "display_data"
    }
   ],
   "source": [
    "# function call\n",
    "plot_column_values(internet, 1, 7)"
   ]
  },
  {
   "cell_type": "code",
   "execution_count": 18,
   "id": "8b74b48c",
   "metadata": {},
   "outputs": [
    {
     "name": "stdout",
     "output_type": "stream",
     "text": [
      "Fiber optic    3096\n",
      "DSL            2421\n",
      "Name: InternetService, dtype: int64 \n",
      "\n",
      "No     3498\n",
      "Yes    2019\n",
      "Name: OnlineSecurity, dtype: int64 \n",
      "\n",
      "No     3088\n",
      "Yes    2429\n",
      "Name: OnlineBackup, dtype: int64 \n",
      "\n",
      "No     3095\n",
      "Yes    2422\n",
      "Name: DeviceProtection, dtype: int64 \n",
      "\n",
      "No     3473\n",
      "Yes    2044\n",
      "Name: TechSupport, dtype: int64 \n",
      "\n",
      "No     2810\n",
      "Yes    2707\n",
      "Name: StreamingTV, dtype: int64 \n",
      "\n",
      "No     2785\n",
      "Yes    2732\n",
      "Name: StreamingMovies, dtype: int64 \n",
      "\n"
     ]
    }
   ],
   "source": [
    "# function call\n",
    "column_values(internet)"
   ]
  },
  {
   "cell_type": "markdown",
   "id": "b3dd6abe",
   "metadata": {},
   "source": [
    "**No unusual values were found in the columns.**"
   ]
  },
  {
   "cell_type": "markdown",
   "id": "508b2617",
   "metadata": {},
   "source": [
    "#### Table `phone`"
   ]
  },
  {
   "cell_type": "code",
   "execution_count": 19,
   "id": "ca63b061",
   "metadata": {},
   "outputs": [
    {
     "data": {
      "text/html": [
       "<div>\n",
       "<style scoped>\n",
       "    .dataframe tbody tr th:only-of-type {\n",
       "        vertical-align: middle;\n",
       "    }\n",
       "\n",
       "    .dataframe tbody tr th {\n",
       "        vertical-align: top;\n",
       "    }\n",
       "\n",
       "    .dataframe thead th {\n",
       "        text-align: right;\n",
       "    }\n",
       "</style>\n",
       "<table border=\"1\" class=\"dataframe\">\n",
       "  <thead>\n",
       "    <tr style=\"text-align: right;\">\n",
       "      <th></th>\n",
       "      <th>customerID</th>\n",
       "      <th>MultipleLines</th>\n",
       "    </tr>\n",
       "  </thead>\n",
       "  <tbody>\n",
       "    <tr>\n",
       "      <th>0</th>\n",
       "      <td>5575-GNVDE</td>\n",
       "      <td>No</td>\n",
       "    </tr>\n",
       "    <tr>\n",
       "      <th>1</th>\n",
       "      <td>3668-QPYBK</td>\n",
       "      <td>No</td>\n",
       "    </tr>\n",
       "    <tr>\n",
       "      <th>2</th>\n",
       "      <td>9237-HQITU</td>\n",
       "      <td>No</td>\n",
       "    </tr>\n",
       "    <tr>\n",
       "      <th>3</th>\n",
       "      <td>9305-CDSKC</td>\n",
       "      <td>Yes</td>\n",
       "    </tr>\n",
       "    <tr>\n",
       "      <th>4</th>\n",
       "      <td>1452-KIOVK</td>\n",
       "      <td>Yes</td>\n",
       "    </tr>\n",
       "  </tbody>\n",
       "</table>\n",
       "</div>"
      ],
      "text/plain": [
       "   customerID MultipleLines\n",
       "0  5575-GNVDE            No\n",
       "1  3668-QPYBK            No\n",
       "2  9237-HQITU            No\n",
       "3  9305-CDSKC           Yes\n",
       "4  1452-KIOVK           Yes"
      ]
     },
     "metadata": {},
     "output_type": "display_data"
    },
    {
     "name": "stdout",
     "output_type": "stream",
     "text": [
      "<class 'pandas.core.frame.DataFrame'>\n",
      "RangeIndex: 6361 entries, 0 to 6360\n",
      "Data columns (total 2 columns):\n",
      " #   Column         Non-Null Count  Dtype \n",
      "---  ------         --------------  ----- \n",
      " 0   customerID     6361 non-null   object\n",
      " 1   MultipleLines  6361 non-null   object\n",
      "dtypes: object(2)\n",
      "memory usage: 99.5+ KB\n",
      "None\n",
      "\n",
      "Share of duplicates in the total number of rows: 0.0\n",
      "\n",
      "Number of unique clients: 6361\n"
     ]
    }
   ],
   "source": [
    "# function call\n",
    "table_info(phone)"
   ]
  },
  {
   "cell_type": "markdown",
   "id": "0f2696a9",
   "metadata": {},
   "source": [
    "The `phone` table contains the following information about landline communication services:\n",
    "- `customerID` - client's identification number,\n",
    "- `MultipleLines` – the possibility to connect to several lines simultaneously during a call."
   ]
  },
  {
   "cell_type": "markdown",
   "id": "43694d0a",
   "metadata": {},
   "source": [
    "**Based on a preliminary analysis of this table, we can conclude the following:**\n",
    "- the number of unique clients equals to the number of rows in the table, but is less than the number of clients in the `contract` table,\n",
    "- no obvious duplicates or missing values were found in the table,\n",
    "- it is necessary to convert the column headers to snake_case,\n",
    "- it is necessary to add a new column to indicate the users of landline communication services."
   ]
  },
  {
   "cell_type": "code",
   "execution_count": 20,
   "id": "346b218e",
   "metadata": {},
   "outputs": [
    {
     "data": {
      "image/png": "[encoded data removed]",
      "text/plain": [
       "<Figure size 432x288 with 1 Axes>"
      ]
     },
     "metadata": {
      "needs_background": "light"
     },
     "output_type": "display_data"
    }
   ],
   "source": [
    "# function call\n",
    "plot_column_values(phone, 1, 1)"
   ]
  },
  {
   "cell_type": "code",
   "execution_count": 21,
   "id": "a6861e9a",
   "metadata": {},
   "outputs": [
    {
     "name": "stdout",
     "output_type": "stream",
     "text": [
      "No     3390\n",
      "Yes    2971\n",
      "Name: MultipleLines, dtype: int64 \n",
      "\n"
     ]
    }
   ],
   "source": [
    "# function call\n",
    "column_values(phone)"
   ]
  },
  {
   "cell_type": "markdown",
   "id": "3af8e682",
   "metadata": {},
   "source": [
    "**No unusual values were found in the columns.**"
   ]
  },
  {
   "cell_type": "markdown",
   "id": "2a079d9b",
   "metadata": {},
   "source": [
    "Let's add a column to the `phone` table to indicate the fact, that the client is a user of telephony (landline communication) services:"
   ]
  },
  {
   "cell_type": "code",
   "execution_count": 22,
   "id": "1b66230a",
   "metadata": {
    "scrolled": true
   },
   "outputs": [
    {
     "data": {
      "text/html": [
       "<div>\n",
       "<style scoped>\n",
       "    .dataframe tbody tr th:only-of-type {\n",
       "        vertical-align: middle;\n",
       "    }\n",
       "\n",
       "    .dataframe tbody tr th {\n",
       "        vertical-align: top;\n",
       "    }\n",
       "\n",
       "    .dataframe thead th {\n",
       "        text-align: right;\n",
       "    }\n",
       "</style>\n",
       "<table border=\"1\" class=\"dataframe\">\n",
       "  <thead>\n",
       "    <tr style=\"text-align: right;\">\n",
       "      <th></th>\n",
       "      <th>customerID</th>\n",
       "      <th>MultipleLines</th>\n",
       "      <th>phone_service</th>\n",
       "    </tr>\n",
       "  </thead>\n",
       "  <tbody>\n",
       "    <tr>\n",
       "      <th>0</th>\n",
       "      <td>5575-GNVDE</td>\n",
       "      <td>No</td>\n",
       "      <td>Yes</td>\n",
       "    </tr>\n",
       "    <tr>\n",
       "      <th>1</th>\n",
       "      <td>3668-QPYBK</td>\n",
       "      <td>No</td>\n",
       "      <td>Yes</td>\n",
       "    </tr>\n",
       "    <tr>\n",
       "      <th>2</th>\n",
       "      <td>9237-HQITU</td>\n",
       "      <td>No</td>\n",
       "      <td>Yes</td>\n",
       "    </tr>\n",
       "    <tr>\n",
       "      <th>3</th>\n",
       "      <td>9305-CDSKC</td>\n",
       "      <td>Yes</td>\n",
       "      <td>Yes</td>\n",
       "    </tr>\n",
       "    <tr>\n",
       "      <th>4</th>\n",
       "      <td>1452-KIOVK</td>\n",
       "      <td>Yes</td>\n",
       "      <td>Yes</td>\n",
       "    </tr>\n",
       "  </tbody>\n",
       "</table>\n",
       "</div>"
      ],
      "text/plain": [
       "   customerID MultipleLines phone_service\n",
       "0  5575-GNVDE            No           Yes\n",
       "1  3668-QPYBK            No           Yes\n",
       "2  9237-HQITU            No           Yes\n",
       "3  9305-CDSKC           Yes           Yes\n",
       "4  1452-KIOVK           Yes           Yes"
      ]
     },
     "execution_count": 22,
     "metadata": {},
     "output_type": "execute_result"
    }
   ],
   "source": [
    "phone['phone_service'] = 'Yes'\n",
    "phone.head()"
   ]
  },
  {
   "cell_type": "markdown",
   "id": "afdff1bc",
   "metadata": {},
   "source": [
    "### Converting the table headers to a uniform style"
   ]
  },
  {
   "cell_type": "code",
   "execution_count": 23,
   "id": "0243fde1",
   "metadata": {},
   "outputs": [],
   "source": [
    "# defining a function to convert the table headers to snake_case\n",
    "def snake_case(table):\n",
    "    table.columns = [re.sub(r'(?<!^)(?=[A-Z])', '_', column).lower() for column in table.columns]\n",
    "    table.rename(columns={'customer_i_d':'customer_id', 'streaming_t_v':'streaming_tv'}, inplace=True)\n",
    "    print(table.columns, '\\n')"
   ]
  },
  {
   "cell_type": "code",
   "execution_count": 24,
   "id": "ff186e71",
   "metadata": {},
   "outputs": [
    {
     "name": "stdout",
     "output_type": "stream",
     "text": [
      "Index(['customer_id', 'begin_date', 'end_date', 'type', 'paperless_billing',\n",
      "       'payment_method', 'monthly_charges', 'total_charges'],\n",
      "      dtype='object') \n",
      "\n",
      "Index(['customer_id', 'gender', 'senior_citizen', 'partner', 'dependents'], dtype='object') \n",
      "\n",
      "Index(['customer_id', 'internet_service', 'online_security', 'online_backup',\n",
      "       'device_protection', 'tech_support', 'streaming_tv',\n",
      "       'streaming_movies'],\n",
      "      dtype='object') \n",
      "\n",
      "Index(['customer_id', 'multiple_lines', 'phone_service'], dtype='object') \n",
      "\n"
     ]
    }
   ],
   "source": [
    "# list of tables to convert the headers\n",
    "tables = [contract, personal, internet, phone]\n",
    "\n",
    "# function call in a for loop\n",
    "for table in tables:\n",
    "    snake_case(table)"
   ]
  },
  {
   "cell_type": "markdown",
   "id": "7cb0e3cb",
   "metadata": {},
   "source": [
    "**The headers of all tables are converted to snake_case.**"
   ]
  },
  {
   "cell_type": "markdown",
   "id": "0841fb5e",
   "metadata": {},
   "source": [
    "###  Converting the data types"
   ]
  },
  {
   "cell_type": "markdown",
   "id": "f44cb937",
   "metadata": {},
   "source": [
    "In the `contract` table it is necessary to convert data types of the `total_charges` column from `object` to `float`, as well as the `begin_date` column from `object` to `datetime`:"
   ]
  },
  {
   "cell_type": "code",
   "execution_count": 25,
   "id": "235f10a4",
   "metadata": {},
   "outputs": [
    {
     "name": "stdout",
     "output_type": "stream",
     "text": [
      "<class 'pandas.core.frame.DataFrame'>\n",
      "RangeIndex: 7043 entries, 0 to 7042\n",
      "Data columns (total 8 columns):\n",
      " #   Column             Non-Null Count  Dtype         \n",
      "---  ------             --------------  -----         \n",
      " 0   customer_id        7043 non-null   object        \n",
      " 1   begin_date         7043 non-null   datetime64[ns]\n",
      " 2   end_date           7043 non-null   object        \n",
      " 3   type               7043 non-null   object        \n",
      " 4   paperless_billing  7043 non-null   object        \n",
      " 5   payment_method     7043 non-null   object        \n",
      " 6   monthly_charges    7043 non-null   float64       \n",
      " 7   total_charges      7043 non-null   float64       \n",
      "dtypes: datetime64[ns](1), float64(2), object(5)\n",
      "memory usage: 440.3+ KB\n"
     ]
    }
   ],
   "source": [
    "contract['total_charges'] = contract['total_charges'].astype('float64')\n",
    "contract['begin_date'] = pd.to_datetime(contract['begin_date'], format='%Y-%m-%d')\n",
    "contract.info()"
   ]
  },
  {
   "cell_type": "markdown",
   "id": "0c463386",
   "metadata": {},
   "source": [
    "In the `personal` table it is necessary to convert data type of the `senior_citizen` column from `int` to `object`:"
   ]
  },
  {
   "cell_type": "code",
   "execution_count": 26,
   "id": "bd7ce5f3",
   "metadata": {},
   "outputs": [
    {
     "name": "stdout",
     "output_type": "stream",
     "text": [
      "<class 'pandas.core.frame.DataFrame'>\n",
      "RangeIndex: 7043 entries, 0 to 7042\n",
      "Data columns (total 5 columns):\n",
      " #   Column          Non-Null Count  Dtype \n",
      "---  ------          --------------  ----- \n",
      " 0   customer_id     7043 non-null   object\n",
      " 1   gender          7043 non-null   object\n",
      " 2   senior_citizen  7043 non-null   object\n",
      " 3   partner         7043 non-null   object\n",
      " 4   dependents      7043 non-null   object\n",
      "dtypes: object(5)\n",
      "memory usage: 275.2+ KB\n"
     ]
    }
   ],
   "source": [
    "personal['senior_citizen'] = personal['senior_citizen'].astype('object')\n",
    "personal.info()"
   ]
  },
  {
   "cell_type": "markdown",
   "id": "41366683",
   "metadata": {},
   "source": [
    "**The data types have been converted where necessary.**"
   ]
  },
  {
   "cell_type": "markdown",
   "id": "00d9675e",
   "metadata": {},
   "source": [
    "### Merging tables"
   ]
  },
  {
   "cell_type": "markdown",
   "id": "8b1fea3f",
   "metadata": {},
   "source": [
    "Let's merge all tables into a single dataframe based on the `customer_id` column:"
   ]
  },
  {
   "cell_type": "code",
   "execution_count": 27,
   "id": "144690e2",
   "metadata": {
    "scrolled": true
   },
   "outputs": [
    {
     "data": {
      "text/html": [
       "<div>\n",
       "<style scoped>\n",
       "    .dataframe tbody tr th:only-of-type {\n",
       "        vertical-align: middle;\n",
       "    }\n",
       "\n",
       "    .dataframe tbody tr th {\n",
       "        vertical-align: top;\n",
       "    }\n",
       "\n",
       "    .dataframe thead th {\n",
       "        text-align: right;\n",
       "    }\n",
       "</style>\n",
       "<table border=\"1\" class=\"dataframe\">\n",
       "  <thead>\n",
       "    <tr style=\"text-align: right;\">\n",
       "      <th></th>\n",
       "      <th>customer_id</th>\n",
       "      <th>begin_date</th>\n",
       "      <th>end_date</th>\n",
       "      <th>type</th>\n",
       "      <th>paperless_billing</th>\n",
       "      <th>payment_method</th>\n",
       "      <th>monthly_charges</th>\n",
       "      <th>total_charges</th>\n",
       "      <th>gender</th>\n",
       "      <th>senior_citizen</th>\n",
       "      <th>partner</th>\n",
       "      <th>dependents</th>\n",
       "      <th>internet_service</th>\n",
       "      <th>online_security</th>\n",
       "      <th>online_backup</th>\n",
       "      <th>device_protection</th>\n",
       "      <th>tech_support</th>\n",
       "      <th>streaming_tv</th>\n",
       "      <th>streaming_movies</th>\n",
       "      <th>multiple_lines</th>\n",
       "      <th>phone_service</th>\n",
       "    </tr>\n",
       "  </thead>\n",
       "  <tbody>\n",
       "    <tr>\n",
       "      <th>0</th>\n",
       "      <td>7590-VHVEG</td>\n",
       "      <td>2020-01-01</td>\n",
       "      <td>No</td>\n",
       "      <td>Month-to-month</td>\n",
       "      <td>Yes</td>\n",
       "      <td>Electronic check</td>\n",
       "      <td>29.85</td>\n",
       "      <td>29.85</td>\n",
       "      <td>Female</td>\n",
       "      <td>0</td>\n",
       "      <td>Yes</td>\n",
       "      <td>No</td>\n",
       "      <td>DSL</td>\n",
       "      <td>No</td>\n",
       "      <td>Yes</td>\n",
       "      <td>No</td>\n",
       "      <td>No</td>\n",
       "      <td>No</td>\n",
       "      <td>No</td>\n",
       "      <td>NaN</td>\n",
       "      <td>NaN</td>\n",
       "    </tr>\n",
       "    <tr>\n",
       "      <th>1</th>\n",
       "      <td>5575-GNVDE</td>\n",
       "      <td>2017-04-01</td>\n",
       "      <td>No</td>\n",
       "      <td>One year</td>\n",
       "      <td>No</td>\n",
       "      <td>Mailed check</td>\n",
       "      <td>56.95</td>\n",
       "      <td>1889.50</td>\n",
       "      <td>Male</td>\n",
       "      <td>0</td>\n",
       "      <td>No</td>\n",
       "      <td>No</td>\n",
       "      <td>DSL</td>\n",
       "      <td>Yes</td>\n",
       "      <td>No</td>\n",
       "      <td>Yes</td>\n",
       "      <td>No</td>\n",
       "      <td>No</td>\n",
       "      <td>No</td>\n",
       "      <td>No</td>\n",
       "      <td>Yes</td>\n",
       "    </tr>\n",
       "    <tr>\n",
       "      <th>2</th>\n",
       "      <td>3668-QPYBK</td>\n",
       "      <td>2019-10-01</td>\n",
       "      <td>2019-12-01 00:00:00</td>\n",
       "      <td>Month-to-month</td>\n",
       "      <td>Yes</td>\n",
       "      <td>Mailed check</td>\n",
       "      <td>53.85</td>\n",
       "      <td>108.15</td>\n",
       "      <td>Male</td>\n",
       "      <td>0</td>\n",
       "      <td>No</td>\n",
       "      <td>No</td>\n",
       "      <td>DSL</td>\n",
       "      <td>Yes</td>\n",
       "      <td>Yes</td>\n",
       "      <td>No</td>\n",
       "      <td>No</td>\n",
       "      <td>No</td>\n",
       "      <td>No</td>\n",
       "      <td>No</td>\n",
       "      <td>Yes</td>\n",
       "    </tr>\n",
       "    <tr>\n",
       "      <th>3</th>\n",
       "      <td>7795-CFOCW</td>\n",
       "      <td>2016-05-01</td>\n",
       "      <td>No</td>\n",
       "      <td>One year</td>\n",
       "      <td>No</td>\n",
       "      <td>Bank transfer (automatic)</td>\n",
       "      <td>42.30</td>\n",
       "      <td>1840.75</td>\n",
       "      <td>Male</td>\n",
       "      <td>0</td>\n",
       "      <td>No</td>\n",
       "      <td>No</td>\n",
       "      <td>DSL</td>\n",
       "      <td>Yes</td>\n",
       "      <td>No</td>\n",
       "      <td>Yes</td>\n",
       "      <td>Yes</td>\n",
       "      <td>No</td>\n",
       "      <td>No</td>\n",
       "      <td>NaN</td>\n",
       "      <td>NaN</td>\n",
       "    </tr>\n",
       "    <tr>\n",
       "      <th>4</th>\n",
       "      <td>9237-HQITU</td>\n",
       "      <td>2019-09-01</td>\n",
       "      <td>2019-11-01 00:00:00</td>\n",
       "      <td>Month-to-month</td>\n",
       "      <td>Yes</td>\n",
       "      <td>Electronic check</td>\n",
       "      <td>70.70</td>\n",
       "      <td>151.65</td>\n",
       "      <td>Female</td>\n",
       "      <td>0</td>\n",
       "      <td>No</td>\n",
       "      <td>No</td>\n",
       "      <td>Fiber optic</td>\n",
       "      <td>No</td>\n",
       "      <td>No</td>\n",
       "      <td>No</td>\n",
       "      <td>No</td>\n",
       "      <td>No</td>\n",
       "      <td>No</td>\n",
       "      <td>No</td>\n",
       "      <td>Yes</td>\n",
       "    </tr>\n",
       "  </tbody>\n",
       "</table>\n",
       "</div>"
      ],
      "text/plain": [
       "  customer_id begin_date             end_date            type  \\\n",
       "0  7590-VHVEG 2020-01-01                   No  Month-to-month   \n",
       "1  5575-GNVDE 2017-04-01                   No        One year   \n",
       "2  3668-QPYBK 2019-10-01  2019-12-01 00:00:00  Month-to-month   \n",
       "3  7795-CFOCW 2016-05-01                   No        One year   \n",
       "4  9237-HQITU 2019-09-01  2019-11-01 00:00:00  Month-to-month   \n",
       "\n",
       "  paperless_billing             payment_method  monthly_charges  \\\n",
       "0               Yes           Electronic check            29.85   \n",
       "1                No               Mailed check            56.95   \n",
       "2               Yes               Mailed check            53.85   \n",
       "3                No  Bank transfer (automatic)            42.30   \n",
       "4               Yes           Electronic check            70.70   \n",
       "\n",
       "   total_charges  gender senior_citizen partner dependents internet_service  \\\n",
       "0          29.85  Female              0     Yes         No              DSL   \n",
       "1        1889.50    Male              0      No         No              DSL   \n",
       "2         108.15    Male              0      No         No              DSL   \n",
       "3        1840.75    Male              0      No         No              DSL   \n",
       "4         151.65  Female              0      No         No      Fiber optic   \n",
       "\n",
       "  online_security online_backup device_protection tech_support streaming_tv  \\\n",
       "0              No           Yes                No           No           No   \n",
       "1             Yes            No               Yes           No           No   \n",
       "2             Yes           Yes                No           No           No   \n",
       "3             Yes            No               Yes          Yes           No   \n",
       "4              No            No                No           No           No   \n",
       "\n",
       "  streaming_movies multiple_lines phone_service  \n",
       "0               No            NaN           NaN  \n",
       "1               No             No           Yes  \n",
       "2               No             No           Yes  \n",
       "3               No            NaN           NaN  \n",
       "4               No             No           Yes  "
      ]
     },
     "execution_count": 27,
     "metadata": {},
     "output_type": "execute_result"
    }
   ],
   "source": [
    "df = contract.merge(personal, on='customer_id', how='outer')\n",
    "df = df.merge(internet, on='customer_id', how='outer')\n",
    "df = df.merge(phone, on='customer_id', how='outer')\n",
    "df.head()"
   ]
  },
  {
   "cell_type": "code",
   "execution_count": 28,
   "id": "fc7f37d8",
   "metadata": {},
   "outputs": [
    {
     "name": "stdout",
     "output_type": "stream",
     "text": [
      "<class 'pandas.core.frame.DataFrame'>\n",
      "Int64Index: 7043 entries, 0 to 7042\n",
      "Data columns (total 21 columns):\n",
      " #   Column             Non-Null Count  Dtype         \n",
      "---  ------             --------------  -----         \n",
      " 0   customer_id        7043 non-null   object        \n",
      " 1   begin_date         7043 non-null   datetime64[ns]\n",
      " 2   end_date           7043 non-null   object        \n",
      " 3   type               7043 non-null   object        \n",
      " 4   paperless_billing  7043 non-null   object        \n",
      " 5   payment_method     7043 non-null   object        \n",
      " 6   monthly_charges    7043 non-null   float64       \n",
      " 7   total_charges      7043 non-null   float64       \n",
      " 8   gender             7043 non-null   object        \n",
      " 9   senior_citizen     7043 non-null   object        \n",
      " 10  partner            7043 non-null   object        \n",
      " 11  dependents         7043 non-null   object        \n",
      " 12  internet_service   5517 non-null   object        \n",
      " 13  online_security    5517 non-null   object        \n",
      " 14  online_backup      5517 non-null   object        \n",
      " 15  device_protection  5517 non-null   object        \n",
      " 16  tech_support       5517 non-null   object        \n",
      " 17  streaming_tv       5517 non-null   object        \n",
      " 18  streaming_movies   5517 non-null   object        \n",
      " 19  multiple_lines     6361 non-null   object        \n",
      " 20  phone_service      6361 non-null   object        \n",
      "dtypes: datetime64[ns](1), float64(2), object(18)\n",
      "memory usage: 1.2+ MB\n"
     ]
    }
   ],
   "source": [
    "df.info()"
   ]
  },
  {
   "cell_type": "markdown",
   "id": "a070bd97",
   "metadata": {},
   "source": [
    "We can see some missing values (NaN) in the merged table. This is due to the fact that the `internet` and `phone` tables had less rows (and clients), since not all clients use these services. Therefore, **let's replace these missing values with 'No', which would mean that the client is not using this service:**"
   ]
  },
  {
   "cell_type": "code",
   "execution_count": 29,
   "id": "3d102669",
   "metadata": {},
   "outputs": [
    {
     "name": "stdout",
     "output_type": "stream",
     "text": [
      "<class 'pandas.core.frame.DataFrame'>\n",
      "Int64Index: 7043 entries, 0 to 7042\n",
      "Data columns (total 21 columns):\n",
      " #   Column             Non-Null Count  Dtype         \n",
      "---  ------             --------------  -----         \n",
      " 0   customer_id        7043 non-null   object        \n",
      " 1   begin_date         7043 non-null   datetime64[ns]\n",
      " 2   end_date           7043 non-null   object        \n",
      " 3   type               7043 non-null   object        \n",
      " 4   paperless_billing  7043 non-null   object        \n",
      " 5   payment_method     7043 non-null   object        \n",
      " 6   monthly_charges    7043 non-null   float64       \n",
      " 7   total_charges      7043 non-null   float64       \n",
      " 8   gender             7043 non-null   object        \n",
      " 9   senior_citizen     7043 non-null   int64         \n",
      " 10  partner            7043 non-null   object        \n",
      " 11  dependents         7043 non-null   object        \n",
      " 12  internet_service   7043 non-null   object        \n",
      " 13  online_security    7043 non-null   object        \n",
      " 14  online_backup      7043 non-null   object        \n",
      " 15  device_protection  7043 non-null   object        \n",
      " 16  tech_support       7043 non-null   object        \n",
      " 17  streaming_tv       7043 non-null   object        \n",
      " 18  streaming_movies   7043 non-null   object        \n",
      " 19  multiple_lines     7043 non-null   object        \n",
      " 20  phone_service      7043 non-null   object        \n",
      "dtypes: datetime64[ns](1), float64(2), int64(1), object(17)\n",
      "memory usage: 1.2+ MB\n"
     ]
    }
   ],
   "source": [
    "df = df.fillna(value='No')\n",
    "df.info()"
   ]
  },
  {
   "cell_type": "markdown",
   "id": "244dc663",
   "metadata": {},
   "source": [
    "**Thus, the all tables data has been merged and the missing values have been replaced.**"
   ]
  },
  {
   "cell_type": "markdown",
   "id": "65787412",
   "metadata": {},
   "source": [
    "The data type of the `senior_citizen` column has changed to integer. Let's convert the data type of this column to `object` again:"
   ]
  },
  {
   "cell_type": "code",
   "execution_count": 30,
   "id": "9f647f29",
   "metadata": {},
   "outputs": [
    {
     "name": "stdout",
     "output_type": "stream",
     "text": [
      "<class 'pandas.core.frame.DataFrame'>\n",
      "Int64Index: 7043 entries, 0 to 7042\n",
      "Data columns (total 21 columns):\n",
      " #   Column             Non-Null Count  Dtype         \n",
      "---  ------             --------------  -----         \n",
      " 0   customer_id        7043 non-null   object        \n",
      " 1   begin_date         7043 non-null   datetime64[ns]\n",
      " 2   end_date           7043 non-null   object        \n",
      " 3   type               7043 non-null   object        \n",
      " 4   paperless_billing  7043 non-null   object        \n",
      " 5   payment_method     7043 non-null   object        \n",
      " 6   monthly_charges    7043 non-null   float64       \n",
      " 7   total_charges      7043 non-null   float64       \n",
      " 8   gender             7043 non-null   object        \n",
      " 9   senior_citizen     7043 non-null   object        \n",
      " 10  partner            7043 non-null   object        \n",
      " 11  dependents         7043 non-null   object        \n",
      " 12  internet_service   7043 non-null   object        \n",
      " 13  online_security    7043 non-null   object        \n",
      " 14  online_backup      7043 non-null   object        \n",
      " 15  device_protection  7043 non-null   object        \n",
      " 16  tech_support       7043 non-null   object        \n",
      " 17  streaming_tv       7043 non-null   object        \n",
      " 18  streaming_movies   7043 non-null   object        \n",
      " 19  multiple_lines     7043 non-null   object        \n",
      " 20  phone_service      7043 non-null   object        \n",
      "dtypes: datetime64[ns](1), float64(2), object(18)\n",
      "memory usage: 1.2+ MB\n"
     ]
    }
   ],
   "source": [
    "df['senior_citizen'] = df['senior_citizen'].astype('object')\n",
    "df.info()"
   ]
  },
  {
   "cell_type": "markdown",
   "id": "a644b547",
   "metadata": {},
   "source": [
    "### Feature analysis"
   ]
  },
  {
   "cell_type": "markdown",
   "id": "22d7b67a",
   "metadata": {},
   "source": [
    "#### Creation of a target feature"
   ]
  },
  {
   "cell_type": "code",
   "execution_count": 31,
   "id": "dd5ddc49",
   "metadata": {},
   "outputs": [
    {
     "data": {
      "text/plain": [
       "No                     0.734630\n",
       "2019-11-01 00:00:00    0.068863\n",
       "2019-12-01 00:00:00    0.066165\n",
       "2020-01-01 00:00:00    0.065313\n",
       "2019-10-01 00:00:00    0.065029\n",
       "Name: end_date, dtype: float64"
      ]
     },
     "execution_count": 31,
     "metadata": {},
     "output_type": "execute_result"
    }
   ],
   "source": [
    "# share of current and departed on different dates clients\n",
    "df['end_date'].value_counts(normalize=True)"
   ]
  },
  {
   "cell_type": "markdown",
   "id": "6aae4506",
   "metadata": {},
   "source": [
    "The `end_date` column contains information about the last date when a particular client used a particular service. If there is no date (the value is 'No'), then at the time of data downloading it is an active (current) client, and if there is a date, then the client stopped using the services of this company.\n",
    "<br>We can see, that **approximately 73% of the total number of clients are active**, the remaining **27% no longer use the services of the operator.**\n",
    "\n",
    "**Since our goal is to predict client churn, we can use the values in this column to create a target feature:**"
   ]
  },
  {
   "cell_type": "code",
   "execution_count": 32,
   "id": "d15f4e6f",
   "metadata": {},
   "outputs": [
    {
     "data": {
      "text/html": [
       "<div>\n",
       "<style scoped>\n",
       "    .dataframe tbody tr th:only-of-type {\n",
       "        vertical-align: middle;\n",
       "    }\n",
       "\n",
       "    .dataframe tbody tr th {\n",
       "        vertical-align: top;\n",
       "    }\n",
       "\n",
       "    .dataframe thead th {\n",
       "        text-align: right;\n",
       "    }\n",
       "</style>\n",
       "<table border=\"1\" class=\"dataframe\">\n",
       "  <thead>\n",
       "    <tr style=\"text-align: right;\">\n",
       "      <th></th>\n",
       "      <th>customer_id</th>\n",
       "      <th>begin_date</th>\n",
       "      <th>end_date</th>\n",
       "      <th>type</th>\n",
       "      <th>paperless_billing</th>\n",
       "      <th>payment_method</th>\n",
       "      <th>monthly_charges</th>\n",
       "      <th>total_charges</th>\n",
       "      <th>gender</th>\n",
       "      <th>senior_citizen</th>\n",
       "      <th>partner</th>\n",
       "      <th>dependents</th>\n",
       "      <th>internet_service</th>\n",
       "      <th>online_security</th>\n",
       "      <th>online_backup</th>\n",
       "      <th>device_protection</th>\n",
       "      <th>tech_support</th>\n",
       "      <th>streaming_tv</th>\n",
       "      <th>streaming_movies</th>\n",
       "      <th>multiple_lines</th>\n",
       "      <th>phone_service</th>\n",
       "      <th>client_churn</th>\n",
       "    </tr>\n",
       "  </thead>\n",
       "  <tbody>\n",
       "    <tr>\n",
       "      <th>0</th>\n",
       "      <td>7590-VHVEG</td>\n",
       "      <td>2020-01-01</td>\n",
       "      <td>No</td>\n",
       "      <td>Month-to-month</td>\n",
       "      <td>Yes</td>\n",
       "      <td>Electronic check</td>\n",
       "      <td>29.85</td>\n",
       "      <td>29.85</td>\n",
       "      <td>Female</td>\n",
       "      <td>0</td>\n",
       "      <td>Yes</td>\n",
       "      <td>No</td>\n",
       "      <td>DSL</td>\n",
       "      <td>No</td>\n",
       "      <td>Yes</td>\n",
       "      <td>No</td>\n",
       "      <td>No</td>\n",
       "      <td>No</td>\n",
       "      <td>No</td>\n",
       "      <td>No</td>\n",
       "      <td>No</td>\n",
       "      <td>0</td>\n",
       "    </tr>\n",
       "    <tr>\n",
       "      <th>1</th>\n",
       "      <td>5575-GNVDE</td>\n",
       "      <td>2017-04-01</td>\n",
       "      <td>No</td>\n",
       "      <td>One year</td>\n",
       "      <td>No</td>\n",
       "      <td>Mailed check</td>\n",
       "      <td>56.95</td>\n",
       "      <td>1889.50</td>\n",
       "      <td>Male</td>\n",
       "      <td>0</td>\n",
       "      <td>No</td>\n",
       "      <td>No</td>\n",
       "      <td>DSL</td>\n",
       "      <td>Yes</td>\n",
       "      <td>No</td>\n",
       "      <td>Yes</td>\n",
       "      <td>No</td>\n",
       "      <td>No</td>\n",
       "      <td>No</td>\n",
       "      <td>No</td>\n",
       "      <td>Yes</td>\n",
       "      <td>0</td>\n",
       "    </tr>\n",
       "    <tr>\n",
       "      <th>2</th>\n",
       "      <td>3668-QPYBK</td>\n",
       "      <td>2019-10-01</td>\n",
       "      <td>2019-12-01 00:00:00</td>\n",
       "      <td>Month-to-month</td>\n",
       "      <td>Yes</td>\n",
       "      <td>Mailed check</td>\n",
       "      <td>53.85</td>\n",
       "      <td>108.15</td>\n",
       "      <td>Male</td>\n",
       "      <td>0</td>\n",
       "      <td>No</td>\n",
       "      <td>No</td>\n",
       "      <td>DSL</td>\n",
       "      <td>Yes</td>\n",
       "      <td>Yes</td>\n",
       "      <td>No</td>\n",
       "      <td>No</td>\n",
       "      <td>No</td>\n",
       "      <td>No</td>\n",
       "      <td>No</td>\n",
       "      <td>Yes</td>\n",
       "      <td>1</td>\n",
       "    </tr>\n",
       "    <tr>\n",
       "      <th>3</th>\n",
       "      <td>7795-CFOCW</td>\n",
       "      <td>2016-05-01</td>\n",
       "      <td>No</td>\n",
       "      <td>One year</td>\n",
       "      <td>No</td>\n",
       "      <td>Bank transfer (automatic)</td>\n",
       "      <td>42.30</td>\n",
       "      <td>1840.75</td>\n",
       "      <td>Male</td>\n",
       "      <td>0</td>\n",
       "      <td>No</td>\n",
       "      <td>No</td>\n",
       "      <td>DSL</td>\n",
       "      <td>Yes</td>\n",
       "      <td>No</td>\n",
       "      <td>Yes</td>\n",
       "      <td>Yes</td>\n",
       "      <td>No</td>\n",
       "      <td>No</td>\n",
       "      <td>No</td>\n",
       "      <td>No</td>\n",
       "      <td>0</td>\n",
       "    </tr>\n",
       "    <tr>\n",
       "      <th>4</th>\n",
       "      <td>9237-HQITU</td>\n",
       "      <td>2019-09-01</td>\n",
       "      <td>2019-11-01 00:00:00</td>\n",
       "      <td>Month-to-month</td>\n",
       "      <td>Yes</td>\n",
       "      <td>Electronic check</td>\n",
       "      <td>70.70</td>\n",
       "      <td>151.65</td>\n",
       "      <td>Female</td>\n",
       "      <td>0</td>\n",
       "      <td>No</td>\n",
       "      <td>No</td>\n",
       "      <td>Fiber optic</td>\n",
       "      <td>No</td>\n",
       "      <td>No</td>\n",
       "      <td>No</td>\n",
       "      <td>No</td>\n",
       "      <td>No</td>\n",
       "      <td>No</td>\n",
       "      <td>No</td>\n",
       "      <td>Yes</td>\n",
       "      <td>1</td>\n",
       "    </tr>\n",
       "  </tbody>\n",
       "</table>\n",
       "</div>"
      ],
      "text/plain": [
       "  customer_id begin_date             end_date            type  \\\n",
       "0  7590-VHVEG 2020-01-01                   No  Month-to-month   \n",
       "1  5575-GNVDE 2017-04-01                   No        One year   \n",
       "2  3668-QPYBK 2019-10-01  2019-12-01 00:00:00  Month-to-month   \n",
       "3  7795-CFOCW 2016-05-01                   No        One year   \n",
       "4  9237-HQITU 2019-09-01  2019-11-01 00:00:00  Month-to-month   \n",
       "\n",
       "  paperless_billing             payment_method  monthly_charges  \\\n",
       "0               Yes           Electronic check            29.85   \n",
       "1                No               Mailed check            56.95   \n",
       "2               Yes               Mailed check            53.85   \n",
       "3                No  Bank transfer (automatic)            42.30   \n",
       "4               Yes           Electronic check            70.70   \n",
       "\n",
       "   total_charges  gender senior_citizen partner dependents internet_service  \\\n",
       "0          29.85  Female              0     Yes         No              DSL   \n",
       "1        1889.50    Male              0      No         No              DSL   \n",
       "2         108.15    Male              0      No         No              DSL   \n",
       "3        1840.75    Male              0      No         No              DSL   \n",
       "4         151.65  Female              0      No         No      Fiber optic   \n",
       "\n",
       "  online_security online_backup device_protection tech_support streaming_tv  \\\n",
       "0              No           Yes                No           No           No   \n",
       "1             Yes            No               Yes           No           No   \n",
       "2             Yes           Yes                No           No           No   \n",
       "3             Yes            No               Yes          Yes           No   \n",
       "4              No            No                No           No           No   \n",
       "\n",
       "  streaming_movies multiple_lines phone_service  client_churn  \n",
       "0               No             No            No             0  \n",
       "1               No             No           Yes             0  \n",
       "2               No             No           Yes             1  \n",
       "3               No             No            No             0  \n",
       "4               No             No           Yes             1  "
      ]
     },
     "execution_count": 32,
     "metadata": {},
     "output_type": "execute_result"
    }
   ],
   "source": [
    "# creation of a target feature (current client - 0, past client - 1)\n",
    "df['client_churn'] = np.where(df['end_date'] != 'No', 1, 0)\n",
    "df.head()"
   ]
  },
  {
   "cell_type": "markdown",
   "id": "d8c6dc7e",
   "metadata": {},
   "source": [
    "**The target feature has been added.**"
   ]
  },
  {
   "cell_type": "markdown",
   "id": "7304bbdc",
   "metadata": {},
   "source": [
    "Let's check if the target feature is balanced:"
   ]
  },
  {
   "cell_type": "code",
   "execution_count": 33,
   "id": "08989b4e",
   "metadata": {},
   "outputs": [
    {
     "data": {
      "text/plain": [
       "0    0.73463\n",
       "1    0.26537\n",
       "Name: client_churn, dtype: float64"
      ]
     },
     "execution_count": 33,
     "metadata": {},
     "output_type": "execute_result"
    }
   ],
   "source": [
    "df['client_churn'].value_counts(normalize=True)"
   ]
  },
  {
   "cell_type": "markdown",
   "id": "a6590119",
   "metadata": {},
   "source": [
    "We can see that the **target feature is unbalanced**. Therefore, when building models, **we will weigh the objects.**"
   ]
  },
  {
   "cell_type": "markdown",
   "id": "081b8373",
   "metadata": {},
   "source": [
    "#### Creation of additional features"
   ]
  },
  {
   "cell_type": "markdown",
   "id": "09186f9b",
   "metadata": {},
   "source": [
    "Let's create a column with the number of days during which a person was a client of the company before leaving it (the \"lifetime\" of the client):"
   ]
  },
  {
   "cell_type": "code",
   "execution_count": 34,
   "id": "cb481c43",
   "metadata": {},
   "outputs": [],
   "source": [
    "# for departed clients - the date of leaving the company, for active - the date of downloading the report (2020-02-01)\n",
    "df['final_date'] = pd.to_datetime(np.where(df['client_churn'] == 1, df['end_date'], '2020-02-01'), format='%Y-%m-%d')\n",
    "\n",
    "# calculation of days of client's activity (till the leaving date or till the report downloading date)\n",
    "df['client_days'] = ((df['final_date'] - df['begin_date']) / np.timedelta64(1,'D')).astype('int')"
   ]
  },
  {
   "cell_type": "markdown",
   "id": "4c2e7613",
   "metadata": {},
   "source": [
    "**An additional feature for the number of days of client's activity was created.**"
   ]
  },
  {
   "cell_type": "markdown",
   "id": "76e50ceb",
   "metadata": {},
   "source": [
    "#### Exploring a portrait of departed clients"
   ]
  },
  {
   "cell_type": "markdown",
   "id": "257b3f76",
   "metadata": {},
   "source": [
    "First, let's look at the average monthly and total payments of departed and active clients, as well as the length of time during which a person was / is a client of the company:"
   ]
  },
  {
   "cell_type": "code",
   "execution_count": 35,
   "id": "82dfdbf1",
   "metadata": {},
   "outputs": [
    {
     "data": {
      "text/html": [
       "<div>\n",
       "<style scoped>\n",
       "    .dataframe tbody tr th:only-of-type {\n",
       "        vertical-align: middle;\n",
       "    }\n",
       "\n",
       "    .dataframe tbody tr th {\n",
       "        vertical-align: top;\n",
       "    }\n",
       "\n",
       "    .dataframe thead th {\n",
       "        text-align: right;\n",
       "    }\n",
       "</style>\n",
       "<table border=\"1\" class=\"dataframe\">\n",
       "  <thead>\n",
       "    <tr style=\"text-align: right;\">\n",
       "      <th></th>\n",
       "      <th>monthly_charges</th>\n",
       "      <th>total_charges</th>\n",
       "      <th>client_days</th>\n",
       "    </tr>\n",
       "    <tr>\n",
       "      <th>client_churn</th>\n",
       "      <th></th>\n",
       "      <th></th>\n",
       "      <th></th>\n",
       "    </tr>\n",
       "  </thead>\n",
       "  <tbody>\n",
       "    <tr>\n",
       "      <th>0</th>\n",
       "      <td>61.265124</td>\n",
       "      <td>2549.911442</td>\n",
       "      <td>1144.447236</td>\n",
       "    </tr>\n",
       "    <tr>\n",
       "      <th>1</th>\n",
       "      <td>74.441332</td>\n",
       "      <td>1531.796094</td>\n",
       "      <td>547.352060</td>\n",
       "    </tr>\n",
       "  </tbody>\n",
       "</table>\n",
       "</div>"
      ],
      "text/plain": [
       "              monthly_charges  total_charges  client_days\n",
       "client_churn                                             \n",
       "0                   61.265124    2549.911442  1144.447236\n",
       "1                   74.441332    1531.796094   547.352060"
      ]
     },
     "execution_count": 35,
     "metadata": {},
     "output_type": "execute_result"
    }
   ],
   "source": [
    "df.groupby('client_churn')[['monthly_charges', 'total_charges', 'client_days']].agg('mean')"
   ]
  },
  {
   "cell_type": "markdown",
   "id": "924b9f6a",
   "metadata": {},
   "source": [
    "We can see that the average monthly payments of the departed clients were higher that those of the active ones.\n",
    "<br>Also, the average \"life\" of departed clients is half that of active ones."
   ]
  },
  {
   "cell_type": "code",
   "execution_count": 36,
   "id": "1bbac19b",
   "metadata": {},
   "outputs": [],
   "source": [
    "# departed clients sclice\n",
    "churn_client = df[df['client_churn'] == 1]"
   ]
  },
  {
   "cell_type": "code",
   "execution_count": 37,
   "id": "fd9b367a",
   "metadata": {},
   "outputs": [],
   "source": [
    "# defining a function to create histogram of features distribution\n",
    "def plot_hist(col):\n",
    "    ax = df[col].hist()\n",
    "    churn_client[col].hist()\n",
    "    ax.set_title(f'Feature {col}')\n",
    "    ax.set_ylabel('Number of clients')\n",
    "    ax.legend(['All clients', 'Departed clients'])\n",
    "    plt.tight_layout()    \n",
    "    plt.show();"
   ]
  },
  {
   "cell_type": "code",
   "execution_count": 38,
   "id": "9b22e3f1",
   "metadata": {},
   "outputs": [
    {
     "data": {
      "image/png": "[encoded data removed]",
      "text/plain": [
       "<Figure size 432x288 with 1 Axes>"
      ]
     },
     "metadata": {
      "needs_background": "light"
     },
     "output_type": "display_data"
    },
    {
     "data": {
      "image/png": "[encoded data removed]",
      "text/plain": [
       "<Figure size 432x288 with 1 Axes>"
      ]
     },
     "metadata": {
      "needs_background": "light"
     },
     "output_type": "display_data"
    },
    {
     "data": {
      "image/png": "[encoded data removed]",
      "text/plain": [
       "<Figure size 432x288 with 1 Axes>"
      ]
     },
     "metadata": {
      "needs_background": "light"
     },
     "output_type": "display_data"
    }
   ],
   "source": [
    "# list of relevant columns\n",
    "cols = ['monthly_charges', 'total_charges', 'client_days']\n",
    "\n",
    "# function call\n",
    "for col in cols:\n",
    "    plot_hist(col)"
   ]
  },
  {
   "cell_type": "markdown",
   "id": "a8218994",
   "metadata": {},
   "source": [
    "**Distributions are far from normal**. Let's look at other features."
   ]
  },
  {
   "cell_type": "code",
   "execution_count": 39,
   "id": "3ccfc15a",
   "metadata": {},
   "outputs": [],
   "source": [
    "# relevant columns\n",
    "columns_to_analyze = df.columns.drop(['customer_id', 'begin_date', 'end_date', 'monthly_charges', \n",
    "                                      'total_charges', 'client_churn', 'final_date', 'client_days'])\n",
    "# for convenience, we divided all columns into several groups\n",
    "cols1 = columns_to_analyze[:4]\n",
    "cols2 = columns_to_analyze[4:8]\n",
    "cols3 = columns_to_analyze[8:12]\n",
    "cols4 = columns_to_analyze[12:]"
   ]
  },
  {
   "cell_type": "code",
   "execution_count": 40,
   "id": "626e5a24",
   "metadata": {},
   "outputs": [],
   "source": [
    "# defining a function to create a plot\n",
    "def plot_hist(cols):\n",
    "    fig, ax = plt.subplots(nrows=1,ncols=len(cols),figsize=(15,5))\n",
    "    for i,cols in enumerate(cols):\n",
    "        ax[i].hist(df[cols])\n",
    "        ax[i].hist(churn_client[cols])\n",
    "        ax[i].set_title(f'Feature {cols}')\n",
    "        ax[i].set_ylabel('Number of clients')\n",
    "        ax[i].legend(['All clients', 'Departed clients'])\n",
    "    fig.autofmt_xdate()\n",
    "    plt.tight_layout()    \n",
    "    plt.show()    "
   ]
  },
  {
   "cell_type": "code",
   "execution_count": 41,
   "id": "47ee49b6",
   "metadata": {},
   "outputs": [],
   "source": [
    "# defining a function to create pivot table for features\n",
    "def pivot_tables(cols):\n",
    "    display(df.groupby(cols)['client_churn'].agg(['count', 'sum', 'mean']))"
   ]
  },
  {
   "cell_type": "code",
   "execution_count": 42,
   "id": "508153d6",
   "metadata": {
    "scrolled": false
   },
   "outputs": [
    {
     "data": {
      "image/png": "[encoded data removed]",
      "text/plain": [
       "<Figure size 1080x360 with 4 Axes>"
      ]
     },
     "metadata": {
      "needs_background": "light"
     },
     "output_type": "display_data"
    },
    {
     "data": {
      "text/html": [
       "<div>\n",
       "<style scoped>\n",
       "    .dataframe tbody tr th:only-of-type {\n",
       "        vertical-align: middle;\n",
       "    }\n",
       "\n",
       "    .dataframe tbody tr th {\n",
       "        vertical-align: top;\n",
       "    }\n",
       "\n",
       "    .dataframe thead th {\n",
       "        text-align: right;\n",
       "    }\n",
       "</style>\n",
       "<table border=\"1\" class=\"dataframe\">\n",
       "  <thead>\n",
       "    <tr style=\"text-align: right;\">\n",
       "      <th></th>\n",
       "      <th>count</th>\n",
       "      <th>sum</th>\n",
       "      <th>mean</th>\n",
       "    </tr>\n",
       "    <tr>\n",
       "      <th>type</th>\n",
       "      <th></th>\n",
       "      <th></th>\n",
       "      <th></th>\n",
       "    </tr>\n",
       "  </thead>\n",
       "  <tbody>\n",
       "    <tr>\n",
       "      <th>Month-to-month</th>\n",
       "      <td>3875</td>\n",
       "      <td>1655</td>\n",
       "      <td>0.427097</td>\n",
       "    </tr>\n",
       "    <tr>\n",
       "      <th>One year</th>\n",
       "      <td>1473</td>\n",
       "      <td>166</td>\n",
       "      <td>0.112695</td>\n",
       "    </tr>\n",
       "    <tr>\n",
       "      <th>Two year</th>\n",
       "      <td>1695</td>\n",
       "      <td>48</td>\n",
       "      <td>0.028319</td>\n",
       "    </tr>\n",
       "  </tbody>\n",
       "</table>\n",
       "</div>"
      ],
      "text/plain": [
       "                count   sum      mean\n",
       "type                                 \n",
       "Month-to-month   3875  1655  0.427097\n",
       "One year         1473   166  0.112695\n",
       "Two year         1695    48  0.028319"
      ]
     },
     "metadata": {},
     "output_type": "display_data"
    },
    {
     "data": {
      "text/html": [
       "<div>\n",
       "<style scoped>\n",
       "    .dataframe tbody tr th:only-of-type {\n",
       "        vertical-align: middle;\n",
       "    }\n",
       "\n",
       "    .dataframe tbody tr th {\n",
       "        vertical-align: top;\n",
       "    }\n",
       "\n",
       "    .dataframe thead th {\n",
       "        text-align: right;\n",
       "    }\n",
       "</style>\n",
       "<table border=\"1\" class=\"dataframe\">\n",
       "  <thead>\n",
       "    <tr style=\"text-align: right;\">\n",
       "      <th></th>\n",
       "      <th>count</th>\n",
       "      <th>sum</th>\n",
       "      <th>mean</th>\n",
       "    </tr>\n",
       "    <tr>\n",
       "      <th>paperless_billing</th>\n",
       "      <th></th>\n",
       "      <th></th>\n",
       "      <th></th>\n",
       "    </tr>\n",
       "  </thead>\n",
       "  <tbody>\n",
       "    <tr>\n",
       "      <th>No</th>\n",
       "      <td>2872</td>\n",
       "      <td>469</td>\n",
       "      <td>0.163301</td>\n",
       "    </tr>\n",
       "    <tr>\n",
       "      <th>Yes</th>\n",
       "      <td>4171</td>\n",
       "      <td>1400</td>\n",
       "      <td>0.335651</td>\n",
       "    </tr>\n",
       "  </tbody>\n",
       "</table>\n",
       "</div>"
      ],
      "text/plain": [
       "                   count   sum      mean\n",
       "paperless_billing                       \n",
       "No                  2872   469  0.163301\n",
       "Yes                 4171  1400  0.335651"
      ]
     },
     "metadata": {},
     "output_type": "display_data"
    },
    {
     "data": {
      "text/html": [
       "<div>\n",
       "<style scoped>\n",
       "    .dataframe tbody tr th:only-of-type {\n",
       "        vertical-align: middle;\n",
       "    }\n",
       "\n",
       "    .dataframe tbody tr th {\n",
       "        vertical-align: top;\n",
       "    }\n",
       "\n",
       "    .dataframe thead th {\n",
       "        text-align: right;\n",
       "    }\n",
       "</style>\n",
       "<table border=\"1\" class=\"dataframe\">\n",
       "  <thead>\n",
       "    <tr style=\"text-align: right;\">\n",
       "      <th></th>\n",
       "      <th>count</th>\n",
       "      <th>sum</th>\n",
       "      <th>mean</th>\n",
       "    </tr>\n",
       "    <tr>\n",
       "      <th>payment_method</th>\n",
       "      <th></th>\n",
       "      <th></th>\n",
       "      <th></th>\n",
       "    </tr>\n",
       "  </thead>\n",
       "  <tbody>\n",
       "    <tr>\n",
       "      <th>Bank transfer (automatic)</th>\n",
       "      <td>1544</td>\n",
       "      <td>258</td>\n",
       "      <td>0.167098</td>\n",
       "    </tr>\n",
       "    <tr>\n",
       "      <th>Credit card (automatic)</th>\n",
       "      <td>1522</td>\n",
       "      <td>232</td>\n",
       "      <td>0.152431</td>\n",
       "    </tr>\n",
       "    <tr>\n",
       "      <th>Electronic check</th>\n",
       "      <td>2365</td>\n",
       "      <td>1071</td>\n",
       "      <td>0.452854</td>\n",
       "    </tr>\n",
       "    <tr>\n",
       "      <th>Mailed check</th>\n",
       "      <td>1612</td>\n",
       "      <td>308</td>\n",
       "      <td>0.191067</td>\n",
       "    </tr>\n",
       "  </tbody>\n",
       "</table>\n",
       "</div>"
      ],
      "text/plain": [
       "                           count   sum      mean\n",
       "payment_method                                  \n",
       "Bank transfer (automatic)   1544   258  0.167098\n",
       "Credit card (automatic)     1522   232  0.152431\n",
       "Electronic check            2365  1071  0.452854\n",
       "Mailed check                1612   308  0.191067"
      ]
     },
     "metadata": {},
     "output_type": "display_data"
    },
    {
     "data": {
      "text/html": [
       "<div>\n",
       "<style scoped>\n",
       "    .dataframe tbody tr th:only-of-type {\n",
       "        vertical-align: middle;\n",
       "    }\n",
       "\n",
       "    .dataframe tbody tr th {\n",
       "        vertical-align: top;\n",
       "    }\n",
       "\n",
       "    .dataframe thead th {\n",
       "        text-align: right;\n",
       "    }\n",
       "</style>\n",
       "<table border=\"1\" class=\"dataframe\">\n",
       "  <thead>\n",
       "    <tr style=\"text-align: right;\">\n",
       "      <th></th>\n",
       "      <th>count</th>\n",
       "      <th>sum</th>\n",
       "      <th>mean</th>\n",
       "    </tr>\n",
       "    <tr>\n",
       "      <th>gender</th>\n",
       "      <th></th>\n",
       "      <th></th>\n",
       "      <th></th>\n",
       "    </tr>\n",
       "  </thead>\n",
       "  <tbody>\n",
       "    <tr>\n",
       "      <th>Female</th>\n",
       "      <td>3488</td>\n",
       "      <td>939</td>\n",
       "      <td>0.269209</td>\n",
       "    </tr>\n",
       "    <tr>\n",
       "      <th>Male</th>\n",
       "      <td>3555</td>\n",
       "      <td>930</td>\n",
       "      <td>0.261603</td>\n",
       "    </tr>\n",
       "  </tbody>\n",
       "</table>\n",
       "</div>"
      ],
      "text/plain": [
       "        count  sum      mean\n",
       "gender                      \n",
       "Female   3488  939  0.269209\n",
       "Male     3555  930  0.261603"
      ]
     },
     "metadata": {},
     "output_type": "display_data"
    }
   ],
   "source": [
    "# functions call for the first part of features\n",
    "plot_hist(cols1)\n",
    "for col in cols1:\n",
    "    pivot_tables(col)"
   ]
  },
  {
   "cell_type": "markdown",
   "id": "58c75e10",
   "metadata": {},
   "source": [
    "**Based on the plots and pivot tables, we can conclude the following for these features:**\n",
    "- `type`: the share of departed clients with short-term contracts is close to 50%, which may mean that short-term contracts have a negative impact on client retention. In addition, the longer the term of the contract, the lower the client churn.\n",
    "- `paperless_billing`: among clients who received payment documents electronically, the share of departed clients was twice as high as among those who received them in paper.\n",
    "- `payment_method`: the share of departed clients who paid for the services with an electronic check is close to 50%, the share of departed clients who used other payment methods does not exceed 20% for each of them.\n",
    "- `gender`: there is approximately the same proportion of men and women among the departed clients."
   ]
  },
  {
   "cell_type": "code",
   "execution_count": 43,
   "id": "4b5b8d2d",
   "metadata": {
    "scrolled": false
   },
   "outputs": [
    {
     "data": {
      "image/png": "[encoded data removed]",
      "text/plain": [
       "<Figure size 1080x360 with 4 Axes>"
      ]
     },
     "metadata": {
      "needs_background": "light"
     },
     "output_type": "display_data"
    },
    {
     "data": {
      "text/html": [
       "<div>\n",
       "<style scoped>\n",
       "    .dataframe tbody tr th:only-of-type {\n",
       "        vertical-align: middle;\n",
       "    }\n",
       "\n",
       "    .dataframe tbody tr th {\n",
       "        vertical-align: top;\n",
       "    }\n",
       "\n",
       "    .dataframe thead th {\n",
       "        text-align: right;\n",
       "    }\n",
       "</style>\n",
       "<table border=\"1\" class=\"dataframe\">\n",
       "  <thead>\n",
       "    <tr style=\"text-align: right;\">\n",
       "      <th></th>\n",
       "      <th>count</th>\n",
       "      <th>sum</th>\n",
       "      <th>mean</th>\n",
       "    </tr>\n",
       "    <tr>\n",
       "      <th>senior_citizen</th>\n",
       "      <th></th>\n",
       "      <th></th>\n",
       "      <th></th>\n",
       "    </tr>\n",
       "  </thead>\n",
       "  <tbody>\n",
       "    <tr>\n",
       "      <th>0</th>\n",
       "      <td>5901</td>\n",
       "      <td>1393</td>\n",
       "      <td>0.236062</td>\n",
       "    </tr>\n",
       "    <tr>\n",
       "      <th>1</th>\n",
       "      <td>1142</td>\n",
       "      <td>476</td>\n",
       "      <td>0.416813</td>\n",
       "    </tr>\n",
       "  </tbody>\n",
       "</table>\n",
       "</div>"
      ],
      "text/plain": [
       "                count   sum      mean\n",
       "senior_citizen                       \n",
       "0                5901  1393  0.236062\n",
       "1                1142   476  0.416813"
      ]
     },
     "metadata": {},
     "output_type": "display_data"
    },
    {
     "data": {
      "text/html": [
       "<div>\n",
       "<style scoped>\n",
       "    .dataframe tbody tr th:only-of-type {\n",
       "        vertical-align: middle;\n",
       "    }\n",
       "\n",
       "    .dataframe tbody tr th {\n",
       "        vertical-align: top;\n",
       "    }\n",
       "\n",
       "    .dataframe thead th {\n",
       "        text-align: right;\n",
       "    }\n",
       "</style>\n",
       "<table border=\"1\" class=\"dataframe\">\n",
       "  <thead>\n",
       "    <tr style=\"text-align: right;\">\n",
       "      <th></th>\n",
       "      <th>count</th>\n",
       "      <th>sum</th>\n",
       "      <th>mean</th>\n",
       "    </tr>\n",
       "    <tr>\n",
       "      <th>partner</th>\n",
       "      <th></th>\n",
       "      <th></th>\n",
       "      <th></th>\n",
       "    </tr>\n",
       "  </thead>\n",
       "  <tbody>\n",
       "    <tr>\n",
       "      <th>No</th>\n",
       "      <td>3641</td>\n",
       "      <td>1200</td>\n",
       "      <td>0.329580</td>\n",
       "    </tr>\n",
       "    <tr>\n",
       "      <th>Yes</th>\n",
       "      <td>3402</td>\n",
       "      <td>669</td>\n",
       "      <td>0.196649</td>\n",
       "    </tr>\n",
       "  </tbody>\n",
       "</table>\n",
       "</div>"
      ],
      "text/plain": [
       "         count   sum      mean\n",
       "partner                       \n",
       "No        3641  1200  0.329580\n",
       "Yes       3402   669  0.196649"
      ]
     },
     "metadata": {},
     "output_type": "display_data"
    },
    {
     "data": {
      "text/html": [
       "<div>\n",
       "<style scoped>\n",
       "    .dataframe tbody tr th:only-of-type {\n",
       "        vertical-align: middle;\n",
       "    }\n",
       "\n",
       "    .dataframe tbody tr th {\n",
       "        vertical-align: top;\n",
       "    }\n",
       "\n",
       "    .dataframe thead th {\n",
       "        text-align: right;\n",
       "    }\n",
       "</style>\n",
       "<table border=\"1\" class=\"dataframe\">\n",
       "  <thead>\n",
       "    <tr style=\"text-align: right;\">\n",
       "      <th></th>\n",
       "      <th>count</th>\n",
       "      <th>sum</th>\n",
       "      <th>mean</th>\n",
       "    </tr>\n",
       "    <tr>\n",
       "      <th>dependents</th>\n",
       "      <th></th>\n",
       "      <th></th>\n",
       "      <th></th>\n",
       "    </tr>\n",
       "  </thead>\n",
       "  <tbody>\n",
       "    <tr>\n",
       "      <th>No</th>\n",
       "      <td>4933</td>\n",
       "      <td>1543</td>\n",
       "      <td>0.312791</td>\n",
       "    </tr>\n",
       "    <tr>\n",
       "      <th>Yes</th>\n",
       "      <td>2110</td>\n",
       "      <td>326</td>\n",
       "      <td>0.154502</td>\n",
       "    </tr>\n",
       "  </tbody>\n",
       "</table>\n",
       "</div>"
      ],
      "text/plain": [
       "            count   sum      mean\n",
       "dependents                       \n",
       "No           4933  1543  0.312791\n",
       "Yes          2110   326  0.154502"
      ]
     },
     "metadata": {},
     "output_type": "display_data"
    },
    {
     "data": {
      "text/html": [
       "<div>\n",
       "<style scoped>\n",
       "    .dataframe tbody tr th:only-of-type {\n",
       "        vertical-align: middle;\n",
       "    }\n",
       "\n",
       "    .dataframe tbody tr th {\n",
       "        vertical-align: top;\n",
       "    }\n",
       "\n",
       "    .dataframe thead th {\n",
       "        text-align: right;\n",
       "    }\n",
       "</style>\n",
       "<table border=\"1\" class=\"dataframe\">\n",
       "  <thead>\n",
       "    <tr style=\"text-align: right;\">\n",
       "      <th></th>\n",
       "      <th>count</th>\n",
       "      <th>sum</th>\n",
       "      <th>mean</th>\n",
       "    </tr>\n",
       "    <tr>\n",
       "      <th>internet_service</th>\n",
       "      <th></th>\n",
       "      <th></th>\n",
       "      <th></th>\n",
       "    </tr>\n",
       "  </thead>\n",
       "  <tbody>\n",
       "    <tr>\n",
       "      <th>DSL</th>\n",
       "      <td>2421</td>\n",
       "      <td>459</td>\n",
       "      <td>0.189591</td>\n",
       "    </tr>\n",
       "    <tr>\n",
       "      <th>Fiber optic</th>\n",
       "      <td>3096</td>\n",
       "      <td>1297</td>\n",
       "      <td>0.418928</td>\n",
       "    </tr>\n",
       "    <tr>\n",
       "      <th>No</th>\n",
       "      <td>1526</td>\n",
       "      <td>113</td>\n",
       "      <td>0.074050</td>\n",
       "    </tr>\n",
       "  </tbody>\n",
       "</table>\n",
       "</div>"
      ],
      "text/plain": [
       "                  count   sum      mean\n",
       "internet_service                       \n",
       "DSL                2421   459  0.189591\n",
       "Fiber optic        3096  1297  0.418928\n",
       "No                 1526   113  0.074050"
      ]
     },
     "metadata": {},
     "output_type": "display_data"
    }
   ],
   "source": [
    "# functions call for the second part of features\n",
    "plot_hist(cols2)\n",
    "for col in cols2:\n",
    "    pivot_tables(col)"
   ]
  },
  {
   "cell_type": "markdown",
   "id": "9c7cde00",
   "metadata": {},
   "source": [
    "**Based on the plots and pivot tables, we can conclude the following for these features:**\n",
    "- `senior_citizen`: the share of retired departed clients is close to 50%, which may be due to natural causes. At the same time, the number of clients of retirement age is approximately 5 times less.\n",
    "- `partner`: among clients with a spouse, the share of departed clients is lower than among the single ones (20% compared to 33%).\n",
    "- `dependents`: the share of departed clients with dependents is twice as high as without ones.\n",
    "- `internet_service`: among clients who used an Internet connection via fiber optic cable, the share of departed clients is close to 50%. Among those who connected to the Internet via a telephone line, the churn rate is about 20%, and among those who did not use Internet services at all - less than 10%."
   ]
  },
  {
   "cell_type": "code",
   "execution_count": 44,
   "id": "0ff45fc3",
   "metadata": {
    "scrolled": false
   },
   "outputs": [
    {
     "data": {
      "image/png": "[encoded data removed]",
      "text/plain": [
       "<Figure size 1080x360 with 4 Axes>"
      ]
     },
     "metadata": {
      "needs_background": "light"
     },
     "output_type": "display_data"
    },
    {
     "data": {
      "text/html": [
       "<div>\n",
       "<style scoped>\n",
       "    .dataframe tbody tr th:only-of-type {\n",
       "        vertical-align: middle;\n",
       "    }\n",
       "\n",
       "    .dataframe tbody tr th {\n",
       "        vertical-align: top;\n",
       "    }\n",
       "\n",
       "    .dataframe thead th {\n",
       "        text-align: right;\n",
       "    }\n",
       "</style>\n",
       "<table border=\"1\" class=\"dataframe\">\n",
       "  <thead>\n",
       "    <tr style=\"text-align: right;\">\n",
       "      <th></th>\n",
       "      <th>count</th>\n",
       "      <th>sum</th>\n",
       "      <th>mean</th>\n",
       "    </tr>\n",
       "    <tr>\n",
       "      <th>online_security</th>\n",
       "      <th></th>\n",
       "      <th></th>\n",
       "      <th></th>\n",
       "    </tr>\n",
       "  </thead>\n",
       "  <tbody>\n",
       "    <tr>\n",
       "      <th>No</th>\n",
       "      <td>5024</td>\n",
       "      <td>1574</td>\n",
       "      <td>0.313296</td>\n",
       "    </tr>\n",
       "    <tr>\n",
       "      <th>Yes</th>\n",
       "      <td>2019</td>\n",
       "      <td>295</td>\n",
       "      <td>0.146112</td>\n",
       "    </tr>\n",
       "  </tbody>\n",
       "</table>\n",
       "</div>"
      ],
      "text/plain": [
       "                 count   sum      mean\n",
       "online_security                       \n",
       "No                5024  1574  0.313296\n",
       "Yes               2019   295  0.146112"
      ]
     },
     "metadata": {},
     "output_type": "display_data"
    },
    {
     "data": {
      "text/html": [
       "<div>\n",
       "<style scoped>\n",
       "    .dataframe tbody tr th:only-of-type {\n",
       "        vertical-align: middle;\n",
       "    }\n",
       "\n",
       "    .dataframe tbody tr th {\n",
       "        vertical-align: top;\n",
       "    }\n",
       "\n",
       "    .dataframe thead th {\n",
       "        text-align: right;\n",
       "    }\n",
       "</style>\n",
       "<table border=\"1\" class=\"dataframe\">\n",
       "  <thead>\n",
       "    <tr style=\"text-align: right;\">\n",
       "      <th></th>\n",
       "      <th>count</th>\n",
       "      <th>sum</th>\n",
       "      <th>mean</th>\n",
       "    </tr>\n",
       "    <tr>\n",
       "      <th>online_backup</th>\n",
       "      <th></th>\n",
       "      <th></th>\n",
       "      <th></th>\n",
       "    </tr>\n",
       "  </thead>\n",
       "  <tbody>\n",
       "    <tr>\n",
       "      <th>No</th>\n",
       "      <td>4614</td>\n",
       "      <td>1346</td>\n",
       "      <td>0.291721</td>\n",
       "    </tr>\n",
       "    <tr>\n",
       "      <th>Yes</th>\n",
       "      <td>2429</td>\n",
       "      <td>523</td>\n",
       "      <td>0.215315</td>\n",
       "    </tr>\n",
       "  </tbody>\n",
       "</table>\n",
       "</div>"
      ],
      "text/plain": [
       "               count   sum      mean\n",
       "online_backup                       \n",
       "No              4614  1346  0.291721\n",
       "Yes             2429   523  0.215315"
      ]
     },
     "metadata": {},
     "output_type": "display_data"
    },
    {
     "data": {
      "text/html": [
       "<div>\n",
       "<style scoped>\n",
       "    .dataframe tbody tr th:only-of-type {\n",
       "        vertical-align: middle;\n",
       "    }\n",
       "\n",
       "    .dataframe tbody tr th {\n",
       "        vertical-align: top;\n",
       "    }\n",
       "\n",
       "    .dataframe thead th {\n",
       "        text-align: right;\n",
       "    }\n",
       "</style>\n",
       "<table border=\"1\" class=\"dataframe\">\n",
       "  <thead>\n",
       "    <tr style=\"text-align: right;\">\n",
       "      <th></th>\n",
       "      <th>count</th>\n",
       "      <th>sum</th>\n",
       "      <th>mean</th>\n",
       "    </tr>\n",
       "    <tr>\n",
       "      <th>device_protection</th>\n",
       "      <th></th>\n",
       "      <th></th>\n",
       "      <th></th>\n",
       "    </tr>\n",
       "  </thead>\n",
       "  <tbody>\n",
       "    <tr>\n",
       "      <th>No</th>\n",
       "      <td>4621</td>\n",
       "      <td>1324</td>\n",
       "      <td>0.286518</td>\n",
       "    </tr>\n",
       "    <tr>\n",
       "      <th>Yes</th>\n",
       "      <td>2422</td>\n",
       "      <td>545</td>\n",
       "      <td>0.225021</td>\n",
       "    </tr>\n",
       "  </tbody>\n",
       "</table>\n",
       "</div>"
      ],
      "text/plain": [
       "                   count   sum      mean\n",
       "device_protection                       \n",
       "No                  4621  1324  0.286518\n",
       "Yes                 2422   545  0.225021"
      ]
     },
     "metadata": {},
     "output_type": "display_data"
    },
    {
     "data": {
      "text/html": [
       "<div>\n",
       "<style scoped>\n",
       "    .dataframe tbody tr th:only-of-type {\n",
       "        vertical-align: middle;\n",
       "    }\n",
       "\n",
       "    .dataframe tbody tr th {\n",
       "        vertical-align: top;\n",
       "    }\n",
       "\n",
       "    .dataframe thead th {\n",
       "        text-align: right;\n",
       "    }\n",
       "</style>\n",
       "<table border=\"1\" class=\"dataframe\">\n",
       "  <thead>\n",
       "    <tr style=\"text-align: right;\">\n",
       "      <th></th>\n",
       "      <th>count</th>\n",
       "      <th>sum</th>\n",
       "      <th>mean</th>\n",
       "    </tr>\n",
       "    <tr>\n",
       "      <th>tech_support</th>\n",
       "      <th></th>\n",
       "      <th></th>\n",
       "      <th></th>\n",
       "    </tr>\n",
       "  </thead>\n",
       "  <tbody>\n",
       "    <tr>\n",
       "      <th>No</th>\n",
       "      <td>4999</td>\n",
       "      <td>1559</td>\n",
       "      <td>0.311862</td>\n",
       "    </tr>\n",
       "    <tr>\n",
       "      <th>Yes</th>\n",
       "      <td>2044</td>\n",
       "      <td>310</td>\n",
       "      <td>0.151663</td>\n",
       "    </tr>\n",
       "  </tbody>\n",
       "</table>\n",
       "</div>"
      ],
      "text/plain": [
       "              count   sum      mean\n",
       "tech_support                       \n",
       "No             4999  1559  0.311862\n",
       "Yes            2044   310  0.151663"
      ]
     },
     "metadata": {},
     "output_type": "display_data"
    }
   ],
   "source": [
    "# functions call for the third part of features\n",
    "plot_hist(cols3)\n",
    "for col in cols3:\n",
    "    pivot_tables(col)"
   ]
  },
  {
   "cell_type": "markdown",
   "id": "acf98b53",
   "metadata": {},
   "source": [
    "**Based on the plots and pivot tables, we can conclude the following for these features:**\n",
    "- `online_security`: the share of departed clients who used the service for blocking malicious websites is two times lower than among those who did not use this service. At the same time, the total number of this service users is approximately 2.5 times less than those who did not use such a service.\n",
    "- `online_backup`: among clients who have a cloud file storage for data backup, the share of departed clients is slightly less than those who did not use this service (22% compared to 29%). At the same time, the total number of this service users is approximately 2 times less than those who did not use such a service.\n",
    "- `device_protection`: the behavior of antivirus users is similar to `online_backup`.\n",
    "- `tech_support`: among clients who have a dedicated technical support line, the share of departed clients is 2 times lower than among those who did not use this service. At the same time, the total number of this service users is approximately 2.4 times less than those who did not use such a service."
   ]
  },
  {
   "cell_type": "code",
   "execution_count": 45,
   "id": "93f90183",
   "metadata": {
    "scrolled": false
   },
   "outputs": [
    {
     "data": {
      "image/png": "[encoded data removed]",
      "text/plain": [
       "<Figure size 1080x360 with 4 Axes>"
      ]
     },
     "metadata": {
      "needs_background": "light"
     },
     "output_type": "display_data"
    },
    {
     "data": {
      "text/html": [
       "<div>\n",
       "<style scoped>\n",
       "    .dataframe tbody tr th:only-of-type {\n",
       "        vertical-align: middle;\n",
       "    }\n",
       "\n",
       "    .dataframe tbody tr th {\n",
       "        vertical-align: top;\n",
       "    }\n",
       "\n",
       "    .dataframe thead th {\n",
       "        text-align: right;\n",
       "    }\n",
       "</style>\n",
       "<table border=\"1\" class=\"dataframe\">\n",
       "  <thead>\n",
       "    <tr style=\"text-align: right;\">\n",
       "      <th></th>\n",
       "      <th>count</th>\n",
       "      <th>sum</th>\n",
       "      <th>mean</th>\n",
       "    </tr>\n",
       "    <tr>\n",
       "      <th>streaming_tv</th>\n",
       "      <th></th>\n",
       "      <th></th>\n",
       "      <th></th>\n",
       "    </tr>\n",
       "  </thead>\n",
       "  <tbody>\n",
       "    <tr>\n",
       "      <th>No</th>\n",
       "      <td>4336</td>\n",
       "      <td>1055</td>\n",
       "      <td>0.243312</td>\n",
       "    </tr>\n",
       "    <tr>\n",
       "      <th>Yes</th>\n",
       "      <td>2707</td>\n",
       "      <td>814</td>\n",
       "      <td>0.300702</td>\n",
       "    </tr>\n",
       "  </tbody>\n",
       "</table>\n",
       "</div>"
      ],
      "text/plain": [
       "              count   sum      mean\n",
       "streaming_tv                       \n",
       "No             4336  1055  0.243312\n",
       "Yes            2707   814  0.300702"
      ]
     },
     "metadata": {},
     "output_type": "display_data"
    },
    {
     "data": {
      "text/html": [
       "<div>\n",
       "<style scoped>\n",
       "    .dataframe tbody tr th:only-of-type {\n",
       "        vertical-align: middle;\n",
       "    }\n",
       "\n",
       "    .dataframe tbody tr th {\n",
       "        vertical-align: top;\n",
       "    }\n",
       "\n",
       "    .dataframe thead th {\n",
       "        text-align: right;\n",
       "    }\n",
       "</style>\n",
       "<table border=\"1\" class=\"dataframe\">\n",
       "  <thead>\n",
       "    <tr style=\"text-align: right;\">\n",
       "      <th></th>\n",
       "      <th>count</th>\n",
       "      <th>sum</th>\n",
       "      <th>mean</th>\n",
       "    </tr>\n",
       "    <tr>\n",
       "      <th>streaming_movies</th>\n",
       "      <th></th>\n",
       "      <th></th>\n",
       "      <th></th>\n",
       "    </tr>\n",
       "  </thead>\n",
       "  <tbody>\n",
       "    <tr>\n",
       "      <th>No</th>\n",
       "      <td>4311</td>\n",
       "      <td>1051</td>\n",
       "      <td>0.243795</td>\n",
       "    </tr>\n",
       "    <tr>\n",
       "      <th>Yes</th>\n",
       "      <td>2732</td>\n",
       "      <td>818</td>\n",
       "      <td>0.299414</td>\n",
       "    </tr>\n",
       "  </tbody>\n",
       "</table>\n",
       "</div>"
      ],
      "text/plain": [
       "                  count   sum      mean\n",
       "streaming_movies                       \n",
       "No                 4311  1051  0.243795\n",
       "Yes                2732   818  0.299414"
      ]
     },
     "metadata": {},
     "output_type": "display_data"
    },
    {
     "data": {
      "text/html": [
       "<div>\n",
       "<style scoped>\n",
       "    .dataframe tbody tr th:only-of-type {\n",
       "        vertical-align: middle;\n",
       "    }\n",
       "\n",
       "    .dataframe tbody tr th {\n",
       "        vertical-align: top;\n",
       "    }\n",
       "\n",
       "    .dataframe thead th {\n",
       "        text-align: right;\n",
       "    }\n",
       "</style>\n",
       "<table border=\"1\" class=\"dataframe\">\n",
       "  <thead>\n",
       "    <tr style=\"text-align: right;\">\n",
       "      <th></th>\n",
       "      <th>count</th>\n",
       "      <th>sum</th>\n",
       "      <th>mean</th>\n",
       "    </tr>\n",
       "    <tr>\n",
       "      <th>multiple_lines</th>\n",
       "      <th></th>\n",
       "      <th></th>\n",
       "      <th></th>\n",
       "    </tr>\n",
       "  </thead>\n",
       "  <tbody>\n",
       "    <tr>\n",
       "      <th>No</th>\n",
       "      <td>4072</td>\n",
       "      <td>1019</td>\n",
       "      <td>0.250246</td>\n",
       "    </tr>\n",
       "    <tr>\n",
       "      <th>Yes</th>\n",
       "      <td>2971</td>\n",
       "      <td>850</td>\n",
       "      <td>0.286099</td>\n",
       "    </tr>\n",
       "  </tbody>\n",
       "</table>\n",
       "</div>"
      ],
      "text/plain": [
       "                count   sum      mean\n",
       "multiple_lines                       \n",
       "No               4072  1019  0.250246\n",
       "Yes              2971   850  0.286099"
      ]
     },
     "metadata": {},
     "output_type": "display_data"
    },
    {
     "data": {
      "text/html": [
       "<div>\n",
       "<style scoped>\n",
       "    .dataframe tbody tr th:only-of-type {\n",
       "        vertical-align: middle;\n",
       "    }\n",
       "\n",
       "    .dataframe tbody tr th {\n",
       "        vertical-align: top;\n",
       "    }\n",
       "\n",
       "    .dataframe thead th {\n",
       "        text-align: right;\n",
       "    }\n",
       "</style>\n",
       "<table border=\"1\" class=\"dataframe\">\n",
       "  <thead>\n",
       "    <tr style=\"text-align: right;\">\n",
       "      <th></th>\n",
       "      <th>count</th>\n",
       "      <th>sum</th>\n",
       "      <th>mean</th>\n",
       "    </tr>\n",
       "    <tr>\n",
       "      <th>phone_service</th>\n",
       "      <th></th>\n",
       "      <th></th>\n",
       "      <th></th>\n",
       "    </tr>\n",
       "  </thead>\n",
       "  <tbody>\n",
       "    <tr>\n",
       "      <th>No</th>\n",
       "      <td>682</td>\n",
       "      <td>170</td>\n",
       "      <td>0.249267</td>\n",
       "    </tr>\n",
       "    <tr>\n",
       "      <th>Yes</th>\n",
       "      <td>6361</td>\n",
       "      <td>1699</td>\n",
       "      <td>0.267096</td>\n",
       "    </tr>\n",
       "  </tbody>\n",
       "</table>\n",
       "</div>"
      ],
      "text/plain": [
       "               count   sum      mean\n",
       "phone_service                       \n",
       "No               682   170  0.249267\n",
       "Yes             6361  1699  0.267096"
      ]
     },
     "metadata": {},
     "output_type": "display_data"
    }
   ],
   "source": [
    "# functions call for the fourth part of features\n",
    "plot_hist(cols4)\n",
    "for col in cols4:\n",
    "    pivot_tables(col)"
   ]
  },
  {
   "cell_type": "markdown",
   "id": "058fc99d",
   "metadata": {},
   "source": [
    "**Based on the plots and pivot tables, we can conclude the following for these features:**\n",
    "- `streaming_tv`: the share of departed clients who used TV streaming services is slightly higher than among those who did not use the service (30% compared to 24%). At the same time, the total number of this survice users is approximately 1.6 times less than those who did not use such a service.\n",
    "- `streaming_movies`: the behavior of clients who had a movie directory is similar to `streaming_tv`.\n",
    "- `multiple_lines`: the share of departed clients who had the ability to connect to several lines simultaneously during a call is slightly higher than those who did not (29% compared to 25%). At the same time, the total number of this service users is approximately 1.4 times less than those who did not use such a service.\n",
    "- `phone_service`: among clients who used telephony services, the share of departed clients was slightly higher than among those who did not use this service (27% compared to 25%). At the same time, the total number of this service users is approximately 9.3 times higher than those who did not use such a service."
   ]
  },
  {
   "cell_type": "markdown",
   "id": "c5f2db5f",
   "metadata": {},
   "source": [
    "**Thus, most often the following clients leave the company:**\n",
    "- with high monthly fees and short-term contracts,\n",
    "- receiving payment documents electronically,\n",
    "- paying for the services using an electronic check,\n",
    "- retired (may be due to natural causes),\n",
    "- not having a spouse,\n",
    "- having dependents,\n",
    "- using an Internet connection via fiber optic cable,\n",
    "- not using the service of blocking malicious websites,\n",
    "- not having a cloud file storage for data backup,\n",
    "- not using the antivirus software,\n",
    "- not using the service of a dedicated technical support line,\n",
    "- having TV streaming services and a movie directory."
   ]
  },
  {
   "cell_type": "markdown",
   "id": "36f75f1b",
   "metadata": {},
   "source": [
    "#### Multicollinearity check"
   ]
  },
  {
   "cell_type": "markdown",
   "id": "fd7b15cf",
   "metadata": {},
   "source": [
    "First, let's delete the following columns:\n",
    "- `customer_id` - carries no meaning,\n",
    "- `begin_date`, `end_date` and `final_date` - were used for `client_churn` and `client_date` columns."
   ]
  },
  {
   "cell_type": "code",
   "execution_count": 46,
   "id": "a2c14205",
   "metadata": {},
   "outputs": [],
   "source": [
    "df = df.drop(['customer_id', 'begin_date', 'end_date', 'final_date'], axis=1)"
   ]
  },
  {
   "cell_type": "markdown",
   "id": "87546eb2",
   "metadata": {},
   "source": [
    "Next, let's look at the **Spearman correlation** for numerical features using a heat map:"
   ]
  },
  {
   "cell_type": "code",
   "execution_count": 47,
   "id": "63520bcf",
   "metadata": {},
   "outputs": [
    {
     "data": {
      "image/png": "[encoded data removed]",
      "text/plain": [
       "<Figure size 432x288 with 2 Axes>"
      ]
     },
     "metadata": {
      "needs_background": "light"
     },
     "output_type": "display_data"
    }
   ],
   "source": [
    "df_num = df[['monthly_charges', 'total_charges', 'client_days']]\n",
    "\n",
    "sns.heatmap(df_num.corr(method='spearman'), annot=True);"
   ]
  },
  {
   "cell_type": "markdown",
   "id": "d00f85ad",
   "metadata": {},
   "source": [
    "We can see that there is **a strong linear relationship between `total_charges` and `client_days`**. Therefore, it will be better to remove one of these features."
   ]
  },
  {
   "cell_type": "markdown",
   "id": "3b0ec3ef",
   "metadata": {},
   "source": [
    "Let's explore the feature correlation by creating a heat map of the **phi-k correlation matrix for all features** (numerical and categorical):"
   ]
  },
  {
   "cell_type": "code",
   "execution_count": 48,
   "id": "11ac9a7b",
   "metadata": {},
   "outputs": [
    {
     "data": {
      "image/png": "[encoded data removed]",
      "text/plain": [
       "<Figure size 1080x720 with 2 Axes>"
      ]
     },
     "metadata": {
      "needs_background": "light"
     },
     "output_type": "display_data"
    }
   ],
   "source": [
    "interval_cols = ['monthly_charges', 'total_charges', 'client_days']\n",
    "\n",
    "phik_corr = df.phik_matrix(interval_cols=interval_cols).round(2)\n",
    "plt.figure(figsize=(15, 10))\n",
    "sns.heatmap(phik_corr, linewidths=.5, annot=True);"
   ]
  },
  {
   "cell_type": "markdown",
   "id": "d11104d6",
   "metadata": {},
   "source": [
    "We can see that the features **`gender` and `phone_service` are not correlated to the target** in any way, which means that **we can try to exclude them**.\n",
    "<br>Besides, among the multicollinear features `total_charges` and `client_days` identified using the Spearman correlation analysis, **`client_days` is better associated with the target, so it is more expedient to exclude the `total_charges` feature**."
   ]
  },
  {
   "cell_type": "markdown",
   "id": "0342609b",
   "metadata": {},
   "source": [
    "Since we are not going to build linear models, for which this is critical, **we will try to build models both based on a dataset with all columns**, including those listed above, **and based on a dataset in which we delete these columns**."
   ]
  },
  {
   "cell_type": "markdown",
   "id": "b51c4f32",
   "metadata": {},
   "source": [
    "Then let's create a second dataset, where we delete the following columns: `total_charges`, `gender`, `phone_service`:"
   ]
  },
  {
   "cell_type": "code",
   "execution_count": 49,
   "id": "0165476a",
   "metadata": {},
   "outputs": [],
   "source": [
    "df_upd = df.drop(['total_charges', 'gender', 'phone_service'], axis=1)"
   ]
  },
  {
   "cell_type": "markdown",
   "id": "70a94ff8",
   "metadata": {},
   "source": [
    "So now we have two datasets to analyze."
   ]
  },
  {
   "cell_type": "markdown",
   "id": "b1b135da",
   "metadata": {},
   "source": [
    "### Data preparation for model training"
   ]
  },
  {
   "cell_type": "markdown",
   "id": "1a9a6825",
   "metadata": {},
   "source": [
    "Let's create features and target, and divide both datasets into train and test samples in the ratio of 75:25 accordingly:"
   ]
  },
  {
   "cell_type": "code",
   "execution_count": 50,
   "id": "3f01f0b2",
   "metadata": {},
   "outputs": [],
   "source": [
    "# defining a function to create features and target\n",
    "def split_data(data, target):\n",
    "    return data.drop([target], axis=1), data[target]"
   ]
  },
  {
   "cell_type": "markdown",
   "id": "07209946",
   "metadata": {},
   "source": [
    "- for the dataset BEFORE removing the columns:"
   ]
  },
  {
   "cell_type": "code",
   "execution_count": 51,
   "id": "3afc4e4c",
   "metadata": {},
   "outputs": [
    {
     "name": "stdout",
     "output_type": "stream",
     "text": [
      "Number of objects, features in the dataset BEFORE deleting the columns: (7043, 19)\n",
      "Number of objects in the target column in the dataset BEFORE deleting the columns: (7043,)\n"
     ]
    }
   ],
   "source": [
    "# function call\n",
    "features, target = split_data(df, 'client_churn')\n",
    "# view of the features shape\n",
    "print('Number of objects, features in the dataset BEFORE deleting the columns:', features.shape)\n",
    "print('Number of objects in the target column in the dataset BEFORE deleting the columns:', target.shape)"
   ]
  },
  {
   "cell_type": "code",
   "execution_count": 52,
   "id": "04dbc5dd",
   "metadata": {
    "scrolled": true
   },
   "outputs": [
    {
     "name": "stdout",
     "output_type": "stream",
     "text": [
      "Number of objects, features in the train sample based on the dataset BEFORE deleting the columns: (5282, 19)\n",
      "Number of objects, features in the test sample based on the dataset BEFORE deleting the columns: (1761, 19)\n",
      "Number of objects in the target column in the train sample based on the dataset BEFORE deleting the columns: (5282,)\n",
      "Number of objects in the target column in the test sample based on the dataset BEFORE deleting the columns: (1761,)\n"
     ]
    }
   ],
   "source": [
    "# spliting into training and test samples\n",
    "features_train, features_test, target_train, target_test = train_test_split(\n",
    "    features, target, test_size=0.25, random_state=31022)\n",
    "\n",
    "# view of the samples shape\n",
    "print('Number of objects, features in the train sample based on the dataset BEFORE deleting the columns:', \n",
    "      features_train.shape)\n",
    "print('Number of objects, features in the test sample based on the dataset BEFORE deleting the columns:', \n",
    "      features_test.shape)\n",
    "print('Number of objects in the target column in the train sample based on the dataset BEFORE deleting the columns:', \n",
    "      target_train.shape)\n",
    "print('Number of objects in the target column in the test sample based on the dataset BEFORE deleting the columns:', \n",
    "      target_test.shape)"
   ]
  },
  {
   "cell_type": "markdown",
   "id": "1029f4dc",
   "metadata": {},
   "source": [
    "- for the dataset AFTER deleting the columns:"
   ]
  },
  {
   "cell_type": "code",
   "execution_count": 53,
   "id": "071b2b16",
   "metadata": {},
   "outputs": [
    {
     "name": "stdout",
     "output_type": "stream",
     "text": [
      "Number of objects, features in the dataset AFTER deleting the columns: (7043, 16)\n",
      "Number of objects in the target column in the dataset AFTER deleting the columns: (7043,)\n"
     ]
    }
   ],
   "source": [
    "# function call\n",
    "features_upd, target_upd = split_data(df_upd, 'client_churn')\n",
    "\n",
    "# view of the features shape\n",
    "print('Number of objects, features in the dataset AFTER deleting the columns:', features_upd.shape)\n",
    "print('Number of objects in the target column in the dataset AFTER deleting the columns:', target_upd.shape)"
   ]
  },
  {
   "cell_type": "code",
   "execution_count": 54,
   "id": "986dea6a",
   "metadata": {},
   "outputs": [
    {
     "name": "stdout",
     "output_type": "stream",
     "text": [
      "Number of objects, features in the train sample based on the dataset AFTER deleting the columns: (5282, 16)\n",
      "Number of objects, features in the test sample based on the dataset AFTER deleting the columns: (1761, 16)\n",
      "Number of objects in the target column in the train sample based on the dataset AFTER deleting the columns: (5282,)\n",
      "Number of objects in the target column in the test sample based on the dataset AFTER deleting the columns: (1761,)\n"
     ]
    }
   ],
   "source": [
    "# spliting into training and test samples\n",
    "features_train_upd, features_test_upd, target_train_upd, target_test_upd = train_test_split(\n",
    "    features_upd, target_upd, test_size=0.25, random_state=31022)\n",
    "\n",
    "# view of the samples shape\n",
    "print('Number of objects, features in the train sample based on the dataset AFTER deleting the columns:', \n",
    "      features_train_upd.shape)\n",
    "print('Number of objects, features in the test sample based on the dataset AFTER deleting the columns:', \n",
    "      features_test_upd.shape)\n",
    "print('Number of objects in the target column in the train sample based on the dataset AFTER deleting the columns:', \n",
    "      target_train_upd.shape)\n",
    "print('Number of objects in the target column in the test sample based on the dataset AFTER deleting the columns:', \n",
    "      target_test_upd.shape)"
   ]
  },
  {
   "cell_type": "markdown",
   "id": "5692856b",
   "metadata": {},
   "source": [
    "So **both datasets prepared for model creation and training**."
   ]
  },
  {
   "cell_type": "markdown",
   "id": "34365e34",
   "metadata": {},
   "source": [
    "## Model Training"
   ]
  },
  {
   "cell_type": "markdown",
   "id": "65a05b2c",
   "metadata": {},
   "source": [
    "### CatBoost Classifier"
   ]
  },
  {
   "cell_type": "markdown",
   "id": "5242799e",
   "metadata": {},
   "source": [
    "To work with a CatBoost model, we need to identify categorical features:"
   ]
  },
  {
   "cell_type": "code",
   "execution_count": 55,
   "id": "4b861a0d",
   "metadata": {},
   "outputs": [],
   "source": [
    "# defining a function to create a list of categorical features\n",
    "def create_cat_features(features):\n",
    "    return list(features.select_dtypes(include=['object', 'category']).columns)"
   ]
  },
  {
   "cell_type": "markdown",
   "id": "633dc3c5",
   "metadata": {},
   "source": [
    "#### CatBoost Classifier based on the dataset BEFORE deleting the features"
   ]
  },
  {
   "cell_type": "code",
   "execution_count": 56,
   "id": "e2c5bedb",
   "metadata": {},
   "outputs": [],
   "source": [
    "# function call\n",
    "cat_features = create_cat_features(features_train)"
   ]
  },
  {
   "cell_type": "markdown",
   "id": "b7d1ce4c",
   "metadata": {},
   "source": [
    "Let's search the hyperparameters for the CatBoost model using HalvingGridSearchCV with cross-validation based on the dataset BEFORE deleting the features:"
   ]
  },
  {
   "cell_type": "code",
   "execution_count": 57,
   "id": "d98dcb4a",
   "metadata": {
    "scrolled": true
   },
   "outputs": [
    {
     "name": "stdout",
     "output_type": "stream",
     "text": [
      "Time of hyperparameters search for CatBoost BEFORE deleting the features: 1219.320415121\n",
      "Best hyperparameters for CatBoost BEFORE deleting the features: {'depth': 4, 'iterations': 1000, 'learning_rate': 0.01}\n",
      "Best ROC AUC for CatBoost BEFORE deleting the features: 0.8748338597622329\n",
      "CPU times: user 19min 11s, sys: 1min 8s, total: 20min 19s\n",
      "Wall time: 25min 11s\n"
     ]
    }
   ],
   "source": [
    "%%time\n",
    "start_catboost = time.process_time()\n",
    "\n",
    "model_catboost = CatBoostClassifier(loss_function='Logloss', auto_class_weights='Balanced', random_seed=31022)\n",
    "\n",
    "param_grid = {'iterations':range(500, 2001, 500), \n",
    "              'learning_rate':np.arange(0.01, 0.05, 0.01), \n",
    "              'depth':range(4, 9, 2)}\n",
    "\n",
    "grid_model_catboost = HalvingGridSearchCV(model_catboost, param_grid=param_grid, cv=5, scoring='roc_auc')\n",
    "grid_model_catboost.fit(features_train, target_train, cat_features=cat_features, verbose=30)\n",
    "\n",
    "time_catboost = time.process_time() - start_catboost\n",
    "\n",
    "print('\\nTime of hyperparameters search for CatBoost BEFORE deleting the features:', time_catboost)\n",
    "print('Best hyperparameters for CatBoost BEFORE deleting the features:', grid_model_catboost.best_params_)\n",
    "print('Best ROC AUC for CatBoost BEFORE deleting the features:', grid_model_catboost.best_score_)\n",
    "\n",
    "# model estimation for the full sample (not cross-validation)\n",
    "estimator_catboost = grid_model_catboost.best_estimator_"
   ]
  },
  {
   "cell_type": "markdown",
   "id": "7fba536e",
   "metadata": {},
   "source": [
    "Thus, we got a good result - ROC AUC for CatBoost model based on cross-validation BEFORE deleting the features is higher than needed (0.85)."
   ]
  },
  {
   "cell_type": "markdown",
   "id": "4e723e3a",
   "metadata": {},
   "source": [
    "#### CatBoost Classifier based on the dataset AFTER deleting the features"
   ]
  },
  {
   "cell_type": "code",
   "execution_count": 58,
   "id": "c6879d51",
   "metadata": {},
   "outputs": [],
   "source": [
    "# function call\n",
    "cat_features_upd = create_cat_features(features_train_upd)"
   ]
  },
  {
   "cell_type": "markdown",
   "id": "eaf49fd0",
   "metadata": {},
   "source": [
    "Let's search the hyperparameters for the CatBoost model using HalvingGridSearchCV with cross-validation based on the dataset AFTER deleting the features:"
   ]
  },
  {
   "cell_type": "code",
   "execution_count": 59,
   "id": "b32cb460",
   "metadata": {
    "scrolled": true
   },
   "outputs": [
    {
     "name": "stdout",
     "output_type": "stream",
     "text": [
      "Time of hyperparameters search for CatBoost AFTER deleting the features: 1185.9145902630003\n",
      "Best hyperparameters for CatBoost AFTER deleting the features: {'depth': 6, 'iterations': 500, 'learning_rate': 0.04}\n",
      "Best ROC AUC for CatBoost AFTER deleting the features: 0.8942287159114004\n",
      "CPU times: user 18min 45s, sys: 1min, total: 19min 45s\n",
      "Wall time: 25min 17s\n"
     ]
    }
   ],
   "source": [
    "%%time\n",
    "start_catboost = time.process_time()\n",
    "\n",
    "model_catboost_upd = CatBoostClassifier(loss_function='Logloss', auto_class_weights='Balanced', random_seed=31022)\n",
    "\n",
    "param_grid = {'iterations':range(500, 2001, 500), \n",
    "              'learning_rate':np.arange(0.01, 0.05, 0.01), \n",
    "              'depth':range(4, 9, 2)}\n",
    "\n",
    "grid_model_catboost_upd = HalvingGridSearchCV(model_catboost_upd, param_grid=param_grid, cv=5, scoring='roc_auc')\n",
    "grid_model_catboost_upd.fit(features_train_upd, target_train_upd, cat_features=cat_features_upd, verbose=30)\n",
    "\n",
    "time_catboost_upd = time.process_time() - start_catboost\n",
    "\n",
    "print('\\nTime of hyperparameters search for CatBoost AFTER deleting the features:', time_catboost_upd)\n",
    "print('Best hyperparameters for CatBoost AFTER deleting the features:', grid_model_catboost_upd.best_params_)\n",
    "print('Best ROC AUC for CatBoost AFTER deleting the features:', grid_model_catboost_upd.best_score_)\n",
    "\n",
    "# model estimation for the full sample (not cross-validation)\n",
    "estimator_catboost_upd = grid_model_catboost_upd.best_estimator_"
   ]
  },
  {
   "cell_type": "markdown",
   "id": "6594ccbd",
   "metadata": {},
   "source": [
    "Thus, we got another good result - ROC AUC for CatBoost model based on cross-validation AFTER deleting the features is higher than needed (0.85)."
   ]
  },
  {
   "cell_type": "markdown",
   "id": "02c2ecd4",
   "metadata": {},
   "source": [
    "### Random Forest Classifier"
   ]
  },
  {
   "cell_type": "markdown",
   "id": "d1d0b5a7",
   "metadata": {},
   "source": [
    "First, let's define a function to make ordinal encoding of categorical features:"
   ]
  },
  {
   "cell_type": "code",
   "execution_count": 60,
   "id": "0f313917",
   "metadata": {},
   "outputs": [],
   "source": [
    "def ordinal_encoder(features):\n",
    "    encoder = OrdinalEncoder()\n",
    "    return encoder.fit_transform(features)"
   ]
  },
  {
   "cell_type": "markdown",
   "id": "fba984db",
   "metadata": {},
   "source": [
    "#### Random Forest Classifier based on the dataset BEFORE deleting the features"
   ]
  },
  {
   "cell_type": "markdown",
   "id": "148bd7fd",
   "metadata": {},
   "source": [
    "Let's call a function to make ordinal encoding of categorical features:"
   ]
  },
  {
   "cell_type": "code",
   "execution_count": 61,
   "id": "8ba556f6",
   "metadata": {},
   "outputs": [],
   "source": [
    "features_train_rf = ordinal_encoder(features_train)"
   ]
  },
  {
   "cell_type": "markdown",
   "id": "f2abe558",
   "metadata": {},
   "source": [
    "Let's search the hyperparameters for the RandomForest model using HalvingGridSearchCV with cross-validation based on the dataset BEFORE deleting the features:"
   ]
  },
  {
   "cell_type": "code",
   "execution_count": 62,
   "id": "1537dc0a",
   "metadata": {},
   "outputs": [
    {
     "name": "stdout",
     "output_type": "stream",
     "text": [
      "Time of hyperparameters search for Random Forest BEFORE deleting the features: 58.17427698900019\n",
      "Best hyperparameters for Random Forest BEFORE deleting the features: {'max_depth': 6, 'n_estimators': 200}\n",
      "Best ROC AUC for Random Forest BEFORE deleting the features: 0.8625418355138617\n",
      "CPU times: user 54.5 s, sys: 3.63 s, total: 58.2 s\n",
      "Wall time: 59 s\n"
     ]
    }
   ],
   "source": [
    "%%time\n",
    "start_rf = time.process_time()\n",
    "\n",
    "model_rf = RandomForestClassifier(class_weight='balanced', n_jobs=-1, verbose=30, random_state=31022)\n",
    "\n",
    "param_grid = {'n_estimators':range(50, 251, 50), \n",
    "              'max_depth':range(4, 11, 2)}\n",
    "\n",
    "grid_model_rf = HalvingGridSearchCV(model_rf, param_grid=param_grid, cv=5, scoring='roc_auc')\n",
    "grid_model_rf.fit(features_train_rf, target_train)\n",
    "\n",
    "time_rf = time.process_time() - start_rf\n",
    "\n",
    "print('\\nTime of hyperparameters search for Random Forest BEFORE deleting the features:', time_rf)\n",
    "print('Best hyperparameters for Random Forest BEFORE deleting the features:', grid_model_rf.best_params_)\n",
    "print('Best ROC AUC for Random Forest BEFORE deleting the features:', grid_model_rf.best_score_)\n",
    "\n",
    "estimator_rf = grid_model_rf.best_estimator_"
   ]
  },
  {
   "cell_type": "markdown",
   "id": "283a4609",
   "metadata": {},
   "source": [
    "Thus, we got a good result - ROC AUC for RansomForest model based on cross-validation BEFORE deleting the features is higher than needed (0.85)."
   ]
  },
  {
   "cell_type": "markdown",
   "id": "be512a47",
   "metadata": {},
   "source": [
    "#### Random Forest Classifier based on the dataset AFTER deleting the features"
   ]
  },
  {
   "cell_type": "markdown",
   "id": "1f27100e",
   "metadata": {},
   "source": [
    "Let's call a function to make ordinal encoding of categorical features:"
   ]
  },
  {
   "cell_type": "code",
   "execution_count": 63,
   "id": "ffdc3445",
   "metadata": {},
   "outputs": [],
   "source": [
    "features_train_rf_upd = ordinal_encoder(features_train_upd)"
   ]
  },
  {
   "cell_type": "markdown",
   "id": "e1acf19b",
   "metadata": {},
   "source": [
    "Let's search the hyperparameters for the RandomForest model using HalvingGridSearchCV with cross-validation based on the dataset AFTER deleting the features:"
   ]
  },
  {
   "cell_type": "code",
   "execution_count": 64,
   "id": "b2f938b1",
   "metadata": {},
   "outputs": [
    {
     "name": "stdout",
     "output_type": "stream",
     "text": [
      "Time of hyperparameters search for Random Forest AFTER deleting the features: 55.57672669399972\n",
      "Best hyperparameters for Random Forest AFTER deleting the features: {'max_depth': 6, 'n_estimators': 250}\n",
      "Best ROC AUC for Random Forest AFTER deleting the features: 0.8621613982715639\n",
      "CPU times: user 52.2 s, sys: 3.35 s, total: 55.6 s\n",
      "Wall time: 56.4 s\n"
     ]
    }
   ],
   "source": [
    "%%time\n",
    "start_rf = time.process_time()\n",
    "\n",
    "model_rf_upd = RandomForestClassifier(class_weight='balanced', n_jobs=-1, verbose=30, random_state=31022)\n",
    "\n",
    "param_grid = {'n_estimators':range(50, 251, 50), \n",
    "              'max_depth':range(4, 11, 2)}\n",
    "\n",
    "grid_model_rf_upd = HalvingGridSearchCV(model_rf_upd, param_grid=param_grid, cv=5, scoring='roc_auc')\n",
    "grid_model_rf_upd.fit(features_train_rf_upd, target_train_upd)\n",
    "\n",
    "time_rf_upd = time.process_time() - start_rf\n",
    "\n",
    "print('\\nTime of hyperparameters search for Random Forest AFTER deleting the features:', time_rf_upd)\n",
    "print('Best hyperparameters for Random Forest AFTER deleting the features:', grid_model_rf_upd.best_params_)\n",
    "print('Best ROC AUC for Random Forest AFTER deleting the features:', grid_model_rf_upd.best_score_)\n",
    "\n",
    "estimator_rf_upd = grid_model_rf_upd.best_estimator_"
   ]
  },
  {
   "cell_type": "markdown",
   "id": "423e5792",
   "metadata": {},
   "source": [
    "Thus, we got another good result - ROC AUC for RandomForest model based on cross-validation AFTER deleting the features is higher than needed (0.85)."
   ]
  },
  {
   "cell_type": "markdown",
   "id": "d90e8e42",
   "metadata": {},
   "source": [
    "## Model Analysis"
   ]
  },
  {
   "cell_type": "markdown",
   "id": "92c2c4b7",
   "metadata": {},
   "source": [
    "Let's create the resulting dataframe with the main characteristics of the trained models:"
   ]
  },
  {
   "cell_type": "code",
   "execution_count": 65,
   "id": "34cb8d04",
   "metadata": {},
   "outputs": [
    {
     "data": {
      "text/html": [
       "<style  type=\"text/css\" >\n",
       "#T_750c9_row0_col2{\n",
       "            background-color:  green;\n",
       "        }</style><table id=\"T_750c9_\" ><thead>    <tr>        <th class=\"blank level0\" ></th>        <th class=\"col_heading level0 col0\" >models</th>        <th class=\"col_heading level0 col1\" >best_params</th>        <th class=\"col_heading level0 col2\" >roc_auc</th>        <th class=\"col_heading level0 col3\" >time_grid</th>        <th class=\"col_heading level0 col4\" >quality</th>    </tr></thead><tbody>\n",
       "                <tr>\n",
       "                        <th id=\"T_750c9_level0_row0\" class=\"row_heading level0 row0\" >1</th>\n",
       "                        <td id=\"T_750c9_row0_col0\" class=\"data row0 col0\" >CatBoost AFTER deleting the features</td>\n",
       "                        <td id=\"T_750c9_row0_col1\" class=\"data row0 col1\" >{'depth': 6, 'iterations': 500, 'learning_rate': 0.04}</td>\n",
       "                        <td id=\"T_750c9_row0_col2\" class=\"data row0 col2\" >0.894229</td>\n",
       "                        <td id=\"T_750c9_row0_col3\" class=\"data row0 col3\" >1185.914590</td>\n",
       "                        <td id=\"T_750c9_row0_col4\" class=\"data row0 col4\" >acceptable</td>\n",
       "            </tr>\n",
       "            <tr>\n",
       "                        <th id=\"T_750c9_level0_row1\" class=\"row_heading level0 row1\" >0</th>\n",
       "                        <td id=\"T_750c9_row1_col0\" class=\"data row1 col0\" >CatBoost BEFORE deleting the features</td>\n",
       "                        <td id=\"T_750c9_row1_col1\" class=\"data row1 col1\" >{'depth': 4, 'iterations': 1000, 'learning_rate': 0.01}</td>\n",
       "                        <td id=\"T_750c9_row1_col2\" class=\"data row1 col2\" >0.874834</td>\n",
       "                        <td id=\"T_750c9_row1_col3\" class=\"data row1 col3\" >1219.320415</td>\n",
       "                        <td id=\"T_750c9_row1_col4\" class=\"data row1 col4\" >acceptable</td>\n",
       "            </tr>\n",
       "            <tr>\n",
       "                        <th id=\"T_750c9_level0_row2\" class=\"row_heading level0 row2\" >2</th>\n",
       "                        <td id=\"T_750c9_row2_col0\" class=\"data row2 col0\" >Random Forest BEFORE deleting the features</td>\n",
       "                        <td id=\"T_750c9_row2_col1\" class=\"data row2 col1\" >{'max_depth': 6, 'n_estimators': 200}</td>\n",
       "                        <td id=\"T_750c9_row2_col2\" class=\"data row2 col2\" >0.862542</td>\n",
       "                        <td id=\"T_750c9_row2_col3\" class=\"data row2 col3\" >58.174277</td>\n",
       "                        <td id=\"T_750c9_row2_col4\" class=\"data row2 col4\" >acceptable</td>\n",
       "            </tr>\n",
       "            <tr>\n",
       "                        <th id=\"T_750c9_level0_row3\" class=\"row_heading level0 row3\" >3</th>\n",
       "                        <td id=\"T_750c9_row3_col0\" class=\"data row3 col0\" >Random Forest AFTER deleting the features</td>\n",
       "                        <td id=\"T_750c9_row3_col1\" class=\"data row3 col1\" >{'max_depth': 6, 'n_estimators': 250}</td>\n",
       "                        <td id=\"T_750c9_row3_col2\" class=\"data row3 col2\" >0.862161</td>\n",
       "                        <td id=\"T_750c9_row3_col3\" class=\"data row3 col3\" >55.576727</td>\n",
       "                        <td id=\"T_750c9_row3_col4\" class=\"data row3 col4\" >acceptable</td>\n",
       "            </tr>\n",
       "    </tbody></table>"
      ],
      "text/plain": [
       "<pandas.io.formats.style.Styler at 0x7f89abd8f0a0>"
      ]
     },
     "execution_count": 65,
     "metadata": {},
     "output_type": "execute_result"
    }
   ],
   "source": [
    "results = pd.DataFrame({\n",
    "    'models':['CatBoost BEFORE deleting the features', 'CatBoost AFTER deleting the features', \n",
    "              'Random Forest BEFORE deleting the features', 'Random Forest AFTER deleting the features'],\n",
    "    'best_params':[grid_model_catboost.best_params_, grid_model_catboost_upd.best_params_, \n",
    "                   grid_model_rf.best_params_, grid_model_rf_upd.best_params_],\n",
    "    'roc_auc':[grid_model_catboost.best_score_, grid_model_catboost_upd.best_score_, \n",
    "               grid_model_rf.best_score_, grid_model_rf_upd.best_score_],\n",
    "    'time_grid':[time_catboost, time_catboost_upd, time_rf, time_rf_upd],\n",
    "}).sort_values(by='roc_auc', ascending=False)\n",
    "\n",
    "results['quality'] = np.where(results['roc_auc'] > 0.85, 'acceptable', 'unacceptable')\n",
    "results.style.highlight_max('roc_auc', color = 'green', axis = 0)"
   ]
  },
  {
   "cell_type": "markdown",
   "id": "76824689",
   "metadata": {},
   "source": [
    "Thus, **all models in cross-validation showed good quality, exceeding the threshold value (0.85)**. <br>The best quality in cross-validation was shown by the CatBoost model trained on the dataset AFTER deleting the features - ROC AUC of this model was 0.894.\n",
    "<br>It is also worth noting that time for hyperparameters search decreased when we decreased the number of features."
   ]
  },
  {
   "cell_type": "markdown",
   "id": "c404f6dc",
   "metadata": {},
   "source": [
    "Let's check the quality of the best model on our test sample:"
   ]
  },
  {
   "cell_type": "code",
   "execution_count": 66,
   "id": "d73f8ba4",
   "metadata": {},
   "outputs": [
    {
     "name": "stdout",
     "output_type": "stream",
     "text": [
      "Time of making a prediction for CatBoost: 0.016289426000184903\n",
      "ROC AUC on the test sample for CatBoost: 0.8789637390521404\n",
      "Accuracy on the test sample for CatBoost: 0.7938671209540034\n",
      "F1 on the test sample for CatBoost: 0.6678865507776761\n",
      "CPU times: user 16.4 ms, sys: 4.29 ms, total: 20.7 ms\n",
      "Wall time: 18.3 ms\n"
     ]
    }
   ],
   "source": [
    "%%time\n",
    "start_catboost = time.process_time()\n",
    "\n",
    "predicted_proba_catboost_test_upd = estimator_catboost_upd.predict_proba(features_test_upd)[:, 1]\n",
    "predicted_catboost_test_upd = estimator_catboost_upd.predict(features_test_upd)\n",
    "\n",
    "time_catboost_pred_test_upd = time.process_time() - start_catboost\n",
    "\n",
    "print('Time of making a prediction for CatBoost:', time_catboost_pred_test_upd)\n",
    "\n",
    "result_catboost_test_upd = roc_auc_score(target_test_upd, predicted_proba_catboost_test_upd)\n",
    "accuracy_catboost_test_upd = accuracy_score(target_test_upd, predicted_catboost_test_upd)\n",
    "f1_catboost_test_upd = f1_score(target_test_upd, predicted_catboost_test_upd)\n",
    "\n",
    "print('ROC AUC on the test sample for CatBoost:', result_catboost_test_upd)\n",
    "print('Accuracy on the test sample for CatBoost:', accuracy_catboost_test_upd)\n",
    "print('F1 on the test sample for CatBoost:', f1_catboost_test_upd)"
   ]
  },
  {
   "cell_type": "markdown",
   "id": "6f90bafc",
   "metadata": {},
   "source": [
    "Let's create ROC curve for the analyzed model and for a random model:"
   ]
  },
  {
   "cell_type": "code",
   "execution_count": 67,
   "id": "66369138",
   "metadata": {
    "scrolled": true
   },
   "outputs": [
    {
     "data": {
      "image/png": "[encoded data removed]",
      "text/plain": [
       "<Figure size 432x288 with 1 Axes>"
      ]
     },
     "metadata": {
      "needs_background": "light"
     },
     "output_type": "display_data"
    }
   ],
   "source": [
    "fpr, tpr, thresholds = roc_curve(target_test_upd, predicted_proba_catboost_test_upd)\n",
    "plt.figure()\n",
    "plt.plot(fpr, tpr)\n",
    "plt.plot([0, 1], [0, 1], linestyle='--')\n",
    "plt.xlim([0.0, 1.0])\n",
    "plt.ylim([0.0, 1.0])\n",
    "plt.xlabel('False Positive Rate')\n",
    "plt.ylabel('True Positive Rate')\n",
    "plt.title('ROC-curve')\n",
    "plt.show()"
   ]
  },
  {
   "cell_type": "markdown",
   "id": "7e692c4a",
   "metadata": {},
   "source": [
    "Thus, the **quality of the best model on the test sample is acceptable** (more than 0.85), which means that the model is reliable."
   ]
  },
  {
   "cell_type": "markdown",
   "id": "a2677112",
   "metadata": {},
   "source": [
    "## Results and Conclusion"
   ]
  },
  {
   "cell_type": "markdown",
   "id": "a38e33f8",
   "metadata": {},
   "source": [
    "For the purpose of predicting the client churn of the telecom operator \"Interconnect\", we were provided with clients' personal data, historical information about their tariffs and contracts.\n",
    "\n",
    "We loaded and examined the provided data, and then performed the following transformations:\n",
    "- converted the headers of all tables to a uniform style (snake_case) using regular expressions;\n",
    "- replaced missing values (`' '`) in the `total_charges` column with 0, because the total amount spent by new clients was not reflected;\n",
    "- converted the data types in the following columns:`total_charges` -> `float64`, `begin_date` -> `datetime`, `senior_citizen` -> `object`;\n",
    "- merged all tables into a single dataframe based on the `customer_id` column using outer merging;\n",
    "- due to the fact that the `internet` and `phone` tables had less rows (and clients), since not all clients use these services, in the merged table some values were missing (NaN). We replaced these missing values with 'No', which means that the client is not using this service;\n",
    "- added the following columns:\n",
    "    - the `phone_service` column to indicate the fact, that the client is a user of telephony (landline communication) services, since the `phone` table doesn't have this feature;\n",
    "    - the target feature `client_churn` based on the last date when a particular client used a particular service, reflected in the `end_date` column. If there is no date (the value is 'No'), then at the time of data downloading it is an active (current) client, and if there is a date, then the client stopped using the services of this company. Since our goal is to predict client churn, we used this column values to create a target feature;\n",
    "    - the  `client_date` column with the number of days of client's activity - during which a person was a client of the company before leaving it (the \"lifetime\" of the client).\n",
    "- deleted the following columns:\n",
    "    - `customer_id`, since it carries no meaning for machine learning models;\n",
    "    - the columns with start and end dates of the contracts (`begin_date`, `end_date` and `final_date`), since they were used for `client_churn` and `client_date` columns."
   ]
  },
  {
   "cell_type": "markdown",
   "id": "6d27f688",
   "metadata": {},
   "source": [
    "Next, we performed the following procedures:\n",
    "- compared all the features for the departed and all clients using bar charts and pivot tables (with the number of all clients, the number of departed clients and the share of departed clients) and noticed the following: most often the following clients leave the company:\n",
    "    - with high monthly fees and short-term contracts,\n",
    "    - receiving payment documents electronically,\n",
    "    - paying for the services using an electronic check,\n",
    "    - retired (may be due to natural causes),\n",
    "    - not having a spouse,\n",
    "    - having dependents,\n",
    "    - using an Internet connection via fiber optic cable,\n",
    "    - not using the service of blocking malicious websites, not having a cloud file storage for data backup, the antivirus software, the service of a dedicated technical support line,\n",
    "    - having TV streaming services and a movie directory.\n",
    "- looked at the Spearman correlation for numerical features using a heat map and saw that there is a strong linear relationship between `total_charges` and `client_days`. We also explored the feature correlation by creating a heat map of the phi-k correlation matrix for all features and found that the `gender` and `phone_service` features are not correlated to the target in any way. We decided to build models both based on a dataset with all columns, including those with a strong correlation, and based on a dataset in which we deleted one of the multicollinear features (since the `client_days` feature is better associated with the target, so it is more expedient to exclude the `total_charges` feature), as well as the features that are not correlated to the target (`gender` and `phone_service`). \n",
    "- created features and target, splitted both datasets into train and test samples in the ratio of 75:25 accordingly.\n",
    "- built, searched hyperparameters using HalvingGridSearchCV with cross-validation and trained 2 models - CatBoost and Random Forest classifiers, each - based on two datasets."
   ]
  },
  {
   "attachments": {
    "image-3.png": {
     "image/png": "[encoded data removed]"
    }
   },
   "cell_type": "markdown",
   "id": "1c63fb22",
   "metadata": {},
   "source": [
    "As a result, we got that all models showed good quality in cross-validation (threshold: ROC AUC is greater than 0.85).\n",
    "![image-3.png](attachment:image-3.png)\n",
    "<br>The best quality in cross-validation was shown by the CatBoost model trained on the dataset AFTER deleting the features with the following hyperparameters {'depth': 6, 'iterations': 500, 'learning_rate': 0.04}, - ROC AUC of this model was 0.894. \n",
    "<br>We checked the quality of the best model on our test sample, - the model proved to be reliable - ROC AUC was 0.879.\n",
    "\n",
    "Thus, the chosen model predicts the client churn quite well. Therefore, the telecom operator \"Interconnect\" can use this model on current data - if it turns out that the user plans to leave, they need to offer promotional codes or some special offers, which can help retain clients."
   ]
  }
 ],
 "metadata": {
  "ExecuteTimeLog": [
   {
    "duration": 397,
    "start_time": "2022-10-03T22:42:19.488Z"
   },
   {
    "duration": 127,
    "start_time": "2022-10-03T22:42:24.092Z"
   },
   {
    "duration": 254,
    "start_time": "2022-10-03T22:43:17.270Z"
   },
   {
    "duration": 46,
    "start_time": "2022-10-03T22:44:18.940Z"
   },
   {
    "duration": 112,
    "start_time": "2022-10-03T22:50:47.468Z"
   },
   {
    "duration": 4,
    "start_time": "2022-10-03T22:50:49.695Z"
   },
   {
    "duration": 34,
    "start_time": "2022-10-03T22:52:31.026Z"
   },
   {
    "duration": 36,
    "start_time": "2022-10-03T22:54:09.091Z"
   },
   {
    "duration": 3,
    "start_time": "2022-10-03T23:02:02.342Z"
   },
   {
    "duration": 4,
    "start_time": "2022-10-03T23:03:10.532Z"
   },
   {
    "duration": 70,
    "start_time": "2022-10-03T23:04:00.390Z"
   },
   {
    "duration": 5,
    "start_time": "2022-10-03T23:07:25.514Z"
   },
   {
    "duration": 36,
    "start_time": "2022-10-03T23:07:41.696Z"
   },
   {
    "duration": 7,
    "start_time": "2022-10-03T23:32:44.292Z"
   },
   {
    "duration": 7,
    "start_time": "2022-10-03T23:32:55.421Z"
   },
   {
    "duration": 13,
    "start_time": "2022-10-03T23:34:00.619Z"
   },
   {
    "duration": 9,
    "start_time": "2022-10-03T23:34:09.277Z"
   },
   {
    "duration": 7,
    "start_time": "2022-10-03T23:38:59.419Z"
   },
   {
    "duration": 35,
    "start_time": "2022-10-04T02:36:56.850Z"
   },
   {
    "duration": 19,
    "start_time": "2022-10-04T02:55:57.992Z"
   },
   {
    "duration": 243,
    "start_time": "2022-10-04T03:11:48.918Z"
   },
   {
    "duration": 13,
    "start_time": "2022-10-04T03:12:34.096Z"
   },
   {
    "duration": 10,
    "start_time": "2022-10-04T03:18:15.738Z"
   },
   {
    "duration": 21,
    "start_time": "2022-10-04T03:19:08.461Z"
   },
   {
    "duration": 6,
    "start_time": "2022-10-04T03:22:23.535Z"
   },
   {
    "duration": 6,
    "start_time": "2022-10-04T03:22:49.485Z"
   },
   {
    "duration": 7,
    "start_time": "2022-10-04T03:23:31.184Z"
   },
   {
    "duration": 7,
    "start_time": "2022-10-04T03:23:39.822Z"
   },
   {
    "duration": 10,
    "start_time": "2022-10-04T03:23:54.158Z"
   },
   {
    "duration": 19,
    "start_time": "2022-10-04T03:36:11.540Z"
   },
   {
    "duration": 14,
    "start_time": "2022-10-04T03:36:18.596Z"
   },
   {
    "duration": 13,
    "start_time": "2022-10-04T03:36:25.950Z"
   },
   {
    "duration": 11,
    "start_time": "2022-10-04T03:36:58.229Z"
   },
   {
    "duration": 14,
    "start_time": "2022-10-04T03:37:19.688Z"
   },
   {
    "duration": 14,
    "start_time": "2022-10-04T03:41:34.802Z"
   },
   {
    "duration": 6,
    "start_time": "2022-10-04T03:58:54.203Z"
   },
   {
    "duration": 4,
    "start_time": "2022-10-04T04:02:55.539Z"
   },
   {
    "duration": 17,
    "start_time": "2022-10-04T04:02:59.940Z"
   },
   {
    "duration": 22,
    "start_time": "2022-10-04T04:06:28.819Z"
   },
   {
    "duration": 7,
    "start_time": "2022-10-04T04:07:38.132Z"
   },
   {
    "duration": 5,
    "start_time": "2022-10-04T04:07:49.825Z"
   },
   {
    "duration": 7,
    "start_time": "2022-10-04T04:12:10.720Z"
   },
   {
    "duration": 7,
    "start_time": "2022-10-04T04:12:11.963Z"
   },
   {
    "duration": 6,
    "start_time": "2022-10-04T04:12:13.356Z"
   },
   {
    "duration": 6,
    "start_time": "2022-10-04T04:12:16.515Z"
   },
   {
    "duration": 7,
    "start_time": "2022-10-04T04:14:00.427Z"
   },
   {
    "duration": 6,
    "start_time": "2022-10-04T04:14:00.995Z"
   },
   {
    "duration": 6,
    "start_time": "2022-10-04T04:14:03.419Z"
   },
   {
    "duration": 7,
    "start_time": "2022-10-04T04:14:05.620Z"
   },
   {
    "duration": 6,
    "start_time": "2022-10-04T04:14:50.611Z"
   },
   {
    "duration": 8,
    "start_time": "2022-10-04T04:15:57.171Z"
   },
   {
    "duration": 7,
    "start_time": "2022-10-04T04:16:13.170Z"
   },
   {
    "duration": 8,
    "start_time": "2022-10-04T04:16:18.674Z"
   },
   {
    "duration": 7,
    "start_time": "2022-10-04T04:16:22.330Z"
   },
   {
    "duration": 112,
    "start_time": "2022-10-04T04:41:30.465Z"
   },
   {
    "duration": 3,
    "start_time": "2022-10-04T04:41:33.029Z"
   },
   {
    "duration": 115,
    "start_time": "2022-10-04T04:41:44.645Z"
   },
   {
    "duration": 23,
    "start_time": "2022-10-04T04:41:56.947Z"
   },
   {
    "duration": 3,
    "start_time": "2022-10-04T04:42:59.428Z"
   },
   {
    "duration": 26,
    "start_time": "2022-10-04T04:43:00.131Z"
   },
   {
    "duration": 3,
    "start_time": "2022-10-04T04:43:42.996Z"
   },
   {
    "duration": 25,
    "start_time": "2022-10-04T04:43:44.114Z"
   },
   {
    "duration": 21,
    "start_time": "2022-10-04T19:24:09.389Z"
   },
   {
    "duration": 32,
    "start_time": "2022-10-04T19:24:13.607Z"
   },
   {
    "duration": 20,
    "start_time": "2022-10-04T19:24:17.663Z"
   },
   {
    "duration": 4,
    "start_time": "2022-10-04T19:35:17.556Z"
   },
   {
    "duration": 27,
    "start_time": "2022-10-04T19:35:22.819Z"
   },
   {
    "duration": 25,
    "start_time": "2022-10-04T19:45:44.260Z"
   },
   {
    "duration": 30,
    "start_time": "2022-10-04T19:53:27.011Z"
   },
   {
    "duration": 18,
    "start_time": "2022-10-04T21:09:53.182Z"
   },
   {
    "duration": 18,
    "start_time": "2022-10-04T21:32:49.335Z"
   },
   {
    "duration": 11,
    "start_time": "2022-10-04T21:34:00.751Z"
   },
   {
    "duration": 10,
    "start_time": "2022-10-04T21:34:27.272Z"
   },
   {
    "duration": 10,
    "start_time": "2022-10-04T21:36:08.551Z"
   },
   {
    "duration": 17,
    "start_time": "2022-10-04T21:36:24.783Z"
   },
   {
    "duration": 18,
    "start_time": "2022-10-04T21:37:07.647Z"
   },
   {
    "duration": 3,
    "start_time": "2022-10-04T21:39:21.650Z"
   },
   {
    "duration": 18,
    "start_time": "2022-10-04T21:40:02.544Z"
   },
   {
    "duration": 9,
    "start_time": "2022-10-04T21:41:26.257Z"
   },
   {
    "duration": 3,
    "start_time": "2022-10-04T21:41:46.588Z"
   },
   {
    "duration": 24,
    "start_time": "2022-10-04T21:41:51.412Z"
   },
   {
    "duration": 10,
    "start_time": "2022-10-04T21:48:15.951Z"
   },
   {
    "duration": 14,
    "start_time": "2022-10-04T21:49:50.911Z"
   },
   {
    "duration": 6,
    "start_time": "2022-10-04T21:50:18.097Z"
   },
   {
    "duration": 16,
    "start_time": "2022-10-04T22:05:34.815Z"
   },
   {
    "duration": 7,
    "start_time": "2022-10-04T22:07:09.373Z"
   },
   {
    "duration": 4,
    "start_time": "2022-10-04T22:07:30.320Z"
   },
   {
    "duration": 10,
    "start_time": "2022-10-04T22:15:58.327Z"
   },
   {
    "duration": 4,
    "start_time": "2022-10-04T22:16:03.633Z"
   },
   {
    "duration": 6,
    "start_time": "2022-10-04T22:16:04.847Z"
   },
   {
    "duration": 4,
    "start_time": "2022-10-04T22:16:35.209Z"
   },
   {
    "duration": 7,
    "start_time": "2022-10-04T22:16:35.994Z"
   },
   {
    "duration": 4,
    "start_time": "2022-10-04T22:16:43.905Z"
   },
   {
    "duration": 7,
    "start_time": "2022-10-04T22:16:45.692Z"
   },
   {
    "duration": 20,
    "start_time": "2022-10-04T22:23:24.742Z"
   },
   {
    "duration": 14,
    "start_time": "2022-10-04T22:26:06.544Z"
   },
   {
    "duration": 44,
    "start_time": "2022-10-04T22:52:16.562Z"
   },
   {
    "duration": 4,
    "start_time": "2022-10-04T22:54:18.100Z"
   },
   {
    "duration": 18,
    "start_time": "2022-10-04T23:07:41.155Z"
   },
   {
    "duration": 20,
    "start_time": "2022-10-04T23:09:59.580Z"
   },
   {
    "duration": 15,
    "start_time": "2022-10-04T23:11:05.307Z"
   },
   {
    "duration": 5,
    "start_time": "2022-10-04T23:12:28.703Z"
   },
   {
    "duration": 10,
    "start_time": "2022-10-04T23:13:22.451Z"
   },
   {
    "duration": 17,
    "start_time": "2022-10-04T23:13:32.261Z"
   },
   {
    "duration": 10,
    "start_time": "2022-10-04T23:32:44.905Z"
   },
   {
    "duration": 3,
    "start_time": "2022-10-04T23:54:30.238Z"
   },
   {
    "duration": 20,
    "start_time": "2022-10-04T23:59:18.045Z"
   },
   {
    "duration": 28,
    "start_time": "2022-10-05T00:00:02.171Z"
   },
   {
    "duration": 16,
    "start_time": "2022-10-05T00:00:20.315Z"
   },
   {
    "duration": 10,
    "start_time": "2022-10-05T00:00:42.943Z"
   },
   {
    "duration": 8,
    "start_time": "2022-10-05T00:00:57.285Z"
   },
   {
    "duration": 9,
    "start_time": "2022-10-05T00:01:24.678Z"
   },
   {
    "duration": 27,
    "start_time": "2022-10-05T00:01:30.381Z"
   },
   {
    "duration": 372,
    "start_time": "2022-10-06T20:30:58.367Z"
   },
   {
    "duration": 547,
    "start_time": "2022-10-06T20:30:58.741Z"
   },
   {
    "duration": 4,
    "start_time": "2022-10-06T20:30:59.289Z"
   },
   {
    "duration": 13,
    "start_time": "2022-10-06T20:30:59.294Z"
   },
   {
    "duration": 36,
    "start_time": "2022-10-06T20:30:59.309Z"
   },
   {
    "duration": 20,
    "start_time": "2022-10-06T20:30:59.348Z"
   },
   {
    "duration": 18,
    "start_time": "2022-10-06T20:30:59.370Z"
   },
   {
    "duration": 10,
    "start_time": "2022-10-06T20:30:59.390Z"
   },
   {
    "duration": 22,
    "start_time": "2022-10-06T20:30:59.402Z"
   },
   {
    "duration": 26,
    "start_time": "2022-10-06T20:30:59.426Z"
   },
   {
    "duration": 11,
    "start_time": "2022-10-06T20:30:59.453Z"
   },
   {
    "duration": 56,
    "start_time": "2022-10-06T20:30:59.466Z"
   },
   {
    "duration": 13,
    "start_time": "2022-10-06T20:30:59.524Z"
   },
   {
    "duration": 24,
    "start_time": "2022-10-06T20:30:59.539Z"
   },
   {
    "duration": 5,
    "start_time": "2022-10-06T20:30:59.565Z"
   },
   {
    "duration": 6,
    "start_time": "2022-10-06T20:30:59.571Z"
   },
   {
    "duration": 10,
    "start_time": "2022-10-06T20:30:59.579Z"
   },
   {
    "duration": 42,
    "start_time": "2022-10-06T20:30:59.591Z"
   },
   {
    "duration": 11,
    "start_time": "2022-10-06T20:30:59.635Z"
   },
   {
    "duration": 43,
    "start_time": "2022-10-06T20:30:59.648Z"
   },
   {
    "duration": 37,
    "start_time": "2022-10-06T20:30:59.692Z"
   },
   {
    "duration": 8,
    "start_time": "2022-10-06T20:30:59.731Z"
   },
   {
    "duration": 19,
    "start_time": "2022-10-06T20:30:59.740Z"
   },
   {
    "duration": 7,
    "start_time": "2022-10-06T20:30:59.760Z"
   },
   {
    "duration": 22,
    "start_time": "2022-10-06T20:30:59.768Z"
   },
   {
    "duration": 424,
    "start_time": "2022-10-06T20:58:07.119Z"
   },
   {
    "duration": 113,
    "start_time": "2022-10-06T20:58:12.080Z"
   },
   {
    "duration": 3,
    "start_time": "2022-10-06T20:58:13.203Z"
   },
   {
    "duration": 3,
    "start_time": "2022-10-06T20:58:17.143Z"
   },
   {
    "duration": 40,
    "start_time": "2022-10-06T20:59:11.192Z"
   },
   {
    "duration": 22,
    "start_time": "2022-10-06T20:59:44.633Z"
   },
   {
    "duration": 3,
    "start_time": "2022-10-06T21:06:00.296Z"
   },
   {
    "duration": 15,
    "start_time": "2022-10-06T21:06:09.659Z"
   },
   {
    "duration": 7,
    "start_time": "2022-10-06T21:06:12.846Z"
   },
   {
    "duration": 5,
    "start_time": "2022-10-06T21:06:15.948Z"
   },
   {
    "duration": 24,
    "start_time": "2022-10-06T21:07:17.824Z"
   },
   {
    "duration": 13,
    "start_time": "2022-10-06T21:13:32.446Z"
   },
   {
    "duration": 26,
    "start_time": "2022-10-06T21:13:35.892Z"
   },
   {
    "duration": 23,
    "start_time": "2022-10-06T21:13:49.278Z"
   },
   {
    "duration": 21,
    "start_time": "2022-10-06T21:13:55.955Z"
   },
   {
    "duration": 5,
    "start_time": "2022-10-06T21:14:00.285Z"
   },
   {
    "duration": 4,
    "start_time": "2022-10-06T21:24:37.177Z"
   },
   {
    "duration": 6,
    "start_time": "2022-10-06T21:25:06.367Z"
   },
   {
    "duration": 110,
    "start_time": "2022-10-06T21:26:24.747Z"
   },
   {
    "duration": 5,
    "start_time": "2022-10-06T21:26:43.682Z"
   },
   {
    "duration": 3,
    "start_time": "2022-10-06T21:27:05.970Z"
   },
   {
    "duration": 7,
    "start_time": "2022-10-06T21:27:08.877Z"
   },
   {
    "duration": 4,
    "start_time": "2022-10-06T21:28:28.944Z"
   },
   {
    "duration": 7,
    "start_time": "2022-10-06T21:28:32.569Z"
   },
   {
    "duration": 4,
    "start_time": "2022-10-06T21:28:58.175Z"
   },
   {
    "duration": 132,
    "start_time": "2022-10-06T21:28:58.181Z"
   },
   {
    "duration": 4,
    "start_time": "2022-10-06T21:28:58.316Z"
   },
   {
    "duration": 11,
    "start_time": "2022-10-06T21:28:58.322Z"
   },
   {
    "duration": 35,
    "start_time": "2022-10-06T21:28:58.336Z"
   },
   {
    "duration": 20,
    "start_time": "2022-10-06T21:28:58.373Z"
   },
   {
    "duration": 14,
    "start_time": "2022-10-06T21:28:58.395Z"
   },
   {
    "duration": 9,
    "start_time": "2022-10-06T21:28:58.410Z"
   },
   {
    "duration": 34,
    "start_time": "2022-10-06T21:28:58.421Z"
   },
   {
    "duration": 25,
    "start_time": "2022-10-06T21:28:58.457Z"
   },
   {
    "duration": 10,
    "start_time": "2022-10-06T21:28:58.484Z"
   },
   {
    "duration": 29,
    "start_time": "2022-10-06T21:28:58.495Z"
   },
   {
    "duration": 15,
    "start_time": "2022-10-06T21:28:58.553Z"
   },
   {
    "duration": 32,
    "start_time": "2022-10-06T21:28:58.570Z"
   },
   {
    "duration": 5,
    "start_time": "2022-10-06T21:28:58.604Z"
   },
   {
    "duration": 9,
    "start_time": "2022-10-06T21:28:58.610Z"
   },
   {
    "duration": 17,
    "start_time": "2022-10-06T21:28:58.620Z"
   },
   {
    "duration": 18,
    "start_time": "2022-10-06T21:32:38.904Z"
   },
   {
    "duration": 16,
    "start_time": "2022-10-06T21:32:53.496Z"
   },
   {
    "duration": 54,
    "start_time": "2022-10-06T21:33:11.539Z"
   },
   {
    "duration": 18,
    "start_time": "2022-10-06T21:33:23.927Z"
   },
   {
    "duration": 64,
    "start_time": "2022-10-06T21:45:17.680Z"
   },
   {
    "duration": 13,
    "start_time": "2022-10-06T21:45:46.042Z"
   },
   {
    "duration": 4,
    "start_time": "2022-10-06T21:49:05.285Z"
   },
   {
    "duration": 9,
    "start_time": "2022-10-06T21:49:47.994Z"
   },
   {
    "duration": 43,
    "start_time": "2022-10-06T21:50:50.679Z"
   },
   {
    "duration": 17,
    "start_time": "2022-10-06T21:51:24.109Z"
   },
   {
    "duration": 10,
    "start_time": "2022-10-06T21:51:59.542Z"
   },
   {
    "duration": 2,
    "start_time": "2022-10-06T21:52:19.719Z"
   },
   {
    "duration": 111,
    "start_time": "2022-10-06T21:52:19.726Z"
   },
   {
    "duration": 4,
    "start_time": "2022-10-06T21:52:19.840Z"
   },
   {
    "duration": 6,
    "start_time": "2022-10-06T21:52:19.846Z"
   },
   {
    "duration": 33,
    "start_time": "2022-10-06T21:52:19.854Z"
   },
   {
    "duration": 18,
    "start_time": "2022-10-06T21:52:19.889Z"
   },
   {
    "duration": 13,
    "start_time": "2022-10-06T21:52:19.909Z"
   },
   {
    "duration": 34,
    "start_time": "2022-10-06T21:52:19.923Z"
   },
   {
    "duration": 7,
    "start_time": "2022-10-06T21:52:19.959Z"
   },
   {
    "duration": 27,
    "start_time": "2022-10-06T21:52:19.967Z"
   },
   {
    "duration": 9,
    "start_time": "2022-10-06T21:52:19.996Z"
   },
   {
    "duration": 50,
    "start_time": "2022-10-06T21:52:20.007Z"
   },
   {
    "duration": 14,
    "start_time": "2022-10-06T21:52:20.059Z"
   },
   {
    "duration": 24,
    "start_time": "2022-10-06T21:52:20.074Z"
   },
   {
    "duration": 5,
    "start_time": "2022-10-06T21:52:20.100Z"
   },
   {
    "duration": 13,
    "start_time": "2022-10-06T21:52:20.106Z"
   },
   {
    "duration": 5,
    "start_time": "2022-10-06T21:52:20.120Z"
   },
   {
    "duration": 7,
    "start_time": "2022-10-06T21:52:20.155Z"
   },
   {
    "duration": 19,
    "start_time": "2022-10-06T21:52:20.164Z"
   },
   {
    "duration": 11,
    "start_time": "2022-10-06T21:52:20.185Z"
   },
   {
    "duration": 69,
    "start_time": "2022-10-06T21:52:20.198Z"
   },
   {
    "duration": 17,
    "start_time": "2022-10-06T21:52:20.268Z"
   },
   {
    "duration": 47,
    "start_time": "2022-10-06T21:54:32.921Z"
   },
   {
    "duration": 17,
    "start_time": "2022-10-06T21:55:26.842Z"
   },
   {
    "duration": 13,
    "start_time": "2022-10-06T21:55:51.110Z"
   },
   {
    "duration": 19,
    "start_time": "2022-10-06T21:55:54.598Z"
   },
   {
    "duration": 9,
    "start_time": "2022-10-06T21:56:38.698Z"
   },
   {
    "duration": 24,
    "start_time": "2022-10-06T21:56:42.321Z"
   },
   {
    "duration": 15,
    "start_time": "2022-10-06T22:05:30.928Z"
   },
   {
    "duration": 16,
    "start_time": "2022-10-06T22:05:51.060Z"
   },
   {
    "duration": 1017,
    "start_time": "2022-10-06T22:06:44.880Z"
   },
   {
    "duration": 7,
    "start_time": "2022-10-06T22:22:22.804Z"
   },
   {
    "duration": 34,
    "start_time": "2022-10-06T22:22:33.143Z"
   },
   {
    "duration": 6,
    "start_time": "2022-10-06T22:24:01.446Z"
   },
   {
    "duration": 37,
    "start_time": "2022-10-06T22:24:08.799Z"
   },
   {
    "duration": 14,
    "start_time": "2022-10-06T22:28:06.931Z"
   },
   {
    "duration": 19,
    "start_time": "2022-10-06T22:28:34.965Z"
   },
   {
    "duration": 12,
    "start_time": "2022-10-06T22:28:51.529Z"
   },
   {
    "duration": 19,
    "start_time": "2022-10-06T22:28:54.101Z"
   },
   {
    "duration": 40,
    "start_time": "2022-10-06T22:35:24.027Z"
   },
   {
    "duration": 24,
    "start_time": "2022-10-06T22:37:34.486Z"
   },
   {
    "duration": 5,
    "start_time": "2022-10-06T22:52:29.008Z"
   },
   {
    "duration": 33,
    "start_time": "2022-10-06T22:52:31.478Z"
   },
   {
    "duration": 29,
    "start_time": "2022-10-06T22:52:49.088Z"
   },
   {
    "duration": 5,
    "start_time": "2022-10-06T22:54:15.143Z"
   },
   {
    "duration": 27,
    "start_time": "2022-10-06T22:58:01.019Z"
   },
   {
    "duration": 10,
    "start_time": "2022-10-06T22:59:58.310Z"
   },
   {
    "duration": 10,
    "start_time": "2022-10-06T23:01:36.015Z"
   },
   {
    "duration": 8,
    "start_time": "2022-10-06T23:01:48.331Z"
   },
   {
    "duration": 10,
    "start_time": "2022-10-06T23:02:04.760Z"
   },
   {
    "duration": 8,
    "start_time": "2022-10-06T23:02:38.864Z"
   },
   {
    "duration": 11,
    "start_time": "2022-10-06T23:03:18.818Z"
   },
   {
    "duration": 5,
    "start_time": "2022-10-06T23:04:29.128Z"
   },
   {
    "duration": 12,
    "start_time": "2022-10-06T23:04:35.002Z"
   },
   {
    "duration": 240,
    "start_time": "2022-10-06T23:24:03.344Z"
   },
   {
    "duration": 4,
    "start_time": "2022-10-06T23:32:59.537Z"
   },
   {
    "duration": 4,
    "start_time": "2022-10-06T23:33:20.112Z"
   },
   {
    "duration": 64570,
    "start_time": "2022-10-06T23:34:05.327Z"
   },
   {
    "duration": 0,
    "start_time": "2022-10-06T23:35:09.899Z"
   },
   {
    "duration": 4,
    "start_time": "2022-10-06T23:35:22.155Z"
   },
   {
    "duration": 112881,
    "start_time": "2022-10-06T23:35:24.069Z"
   },
   {
    "duration": 4,
    "start_time": "2022-10-06T23:38:12.674Z"
   },
   {
    "duration": 258,
    "start_time": "2022-10-06T23:38:20.987Z"
   },
   {
    "duration": 251,
    "start_time": "2022-10-06T23:40:05.546Z"
   },
   {
    "duration": 5,
    "start_time": "2022-10-06T23:41:58.375Z"
   },
   {
    "duration": 22,
    "start_time": "2022-10-06T23:42:01.101Z"
   },
   {
    "duration": 6,
    "start_time": "2022-10-06T23:43:26.717Z"
   },
   {
    "duration": 21,
    "start_time": "2022-10-06T23:43:27.434Z"
   },
   {
    "duration": 4,
    "start_time": "2022-10-06T23:45:47.436Z"
   },
   {
    "duration": 25626,
    "start_time": "2022-10-06T23:45:51.173Z"
   },
   {
    "duration": 10,
    "start_time": "2022-10-06T23:46:23.382Z"
   },
   {
    "duration": 22404,
    "start_time": "2022-10-06T23:46:36.820Z"
   },
   {
    "duration": 55262,
    "start_time": "2022-10-06T23:53:01.314Z"
   },
   {
    "duration": 0,
    "start_time": "2022-10-06T23:53:56.580Z"
   },
   {
    "duration": 10,
    "start_time": "2022-10-07T00:18:25.093Z"
   },
   {
    "duration": 12,
    "start_time": "2022-10-07T00:18:52.682Z"
   },
   {
    "duration": 1614,
    "start_time": "2022-10-07T00:19:14.370Z"
   },
   {
    "duration": 9,
    "start_time": "2022-10-07T00:21:51.748Z"
   },
   {
    "duration": 69,
    "start_time": "2022-10-07T00:22:04.598Z"
   },
   {
    "duration": 20,
    "start_time": "2022-10-07T00:22:29.204Z"
   },
   {
    "duration": 12,
    "start_time": "2022-10-07T00:22:54.187Z"
   },
   {
    "duration": 134,
    "start_time": "2022-10-07T00:23:12.702Z"
   },
   {
    "duration": 8,
    "start_time": "2022-10-07T03:27:10.086Z"
   },
   {
    "duration": 114,
    "start_time": "2022-10-07T03:33:33.572Z"
   },
   {
    "duration": 173,
    "start_time": "2022-10-07T03:36:26.972Z"
   },
   {
    "duration": 2502,
    "start_time": "2022-10-07T03:36:44.600Z"
   },
   {
    "duration": 11585,
    "start_time": "2022-10-07T03:37:24.356Z"
   },
   {
    "duration": 6,
    "start_time": "2022-10-07T03:41:15.311Z"
   },
   {
    "duration": 9,
    "start_time": "2022-10-07T03:41:33.441Z"
   },
   {
    "duration": 2991,
    "start_time": "2022-10-07T03:44:47.733Z"
   },
   {
    "duration": 99,
    "start_time": "2022-10-07T03:45:53.882Z"
   },
   {
    "duration": 110,
    "start_time": "2022-10-07T03:46:35.778Z"
   },
   {
    "duration": 141,
    "start_time": "2022-10-07T03:47:15.565Z"
   },
   {
    "duration": 143,
    "start_time": "2022-10-07T03:55:50.900Z"
   },
   {
    "duration": 13,
    "start_time": "2022-10-07T03:57:49.629Z"
   },
   {
    "duration": 144,
    "start_time": "2022-10-07T03:58:44.983Z"
   },
   {
    "duration": 272,
    "start_time": "2022-10-07T03:59:24.534Z"
   },
   {
    "duration": 274,
    "start_time": "2022-10-07T04:00:43.060Z"
   },
   {
    "duration": 242,
    "start_time": "2022-10-07T04:01:46.307Z"
   },
   {
    "duration": 274,
    "start_time": "2022-10-07T04:02:24.831Z"
   },
   {
    "duration": 275,
    "start_time": "2022-10-07T04:03:09.049Z"
   },
   {
    "duration": 13,
    "start_time": "2022-10-07T04:06:14.311Z"
   },
   {
    "duration": 269,
    "start_time": "2022-10-07T04:06:24.137Z"
   },
   {
    "duration": 272,
    "start_time": "2022-10-07T04:06:49.407Z"
   },
   {
    "duration": 278,
    "start_time": "2022-10-07T04:07:01.921Z"
   },
   {
    "duration": 220,
    "start_time": "2022-10-07T04:15:30.364Z"
   },
   {
    "duration": 5,
    "start_time": "2022-10-07T04:17:06.256Z"
   },
   {
    "duration": 4,
    "start_time": "2022-10-07T04:21:25.519Z"
   },
   {
    "duration": 9,
    "start_time": "2022-10-07T04:21:50.567Z"
   },
   {
    "duration": 3,
    "start_time": "2022-10-07T04:21:54.315Z"
   },
   {
    "duration": 2653,
    "start_time": "2022-10-07T04:21:56.283Z"
   },
   {
    "duration": 5,
    "start_time": "2022-10-07T04:22:58.846Z"
   },
   {
    "duration": 3842,
    "start_time": "2022-10-07T04:23:00.463Z"
   },
   {
    "duration": 5,
    "start_time": "2022-10-07T04:23:08.467Z"
   },
   {
    "duration": 2851,
    "start_time": "2022-10-07T04:23:10.323Z"
   },
   {
    "duration": 6,
    "start_time": "2022-10-07T04:28:45.724Z"
   },
   {
    "duration": 1353,
    "start_time": "2022-10-07T04:28:47.613Z"
   },
   {
    "duration": 59,
    "start_time": "2022-10-07T04:46:41.003Z"
   },
   {
    "duration": 5,
    "start_time": "2022-10-07T04:46:57.773Z"
   },
   {
    "duration": 1182,
    "start_time": "2022-10-07T04:47:33.486Z"
   },
   {
    "duration": 6,
    "start_time": "2022-10-07T04:50:51.069Z"
   },
   {
    "duration": 1291,
    "start_time": "2022-10-07T04:50:54.239Z"
   },
   {
    "duration": 5,
    "start_time": "2022-10-07T04:51:50.070Z"
   },
   {
    "duration": 1174,
    "start_time": "2022-10-07T04:51:52.864Z"
   },
   {
    "duration": 5,
    "start_time": "2022-10-07T04:58:04.620Z"
   },
   {
    "duration": 5,
    "start_time": "2022-10-07T04:58:15.680Z"
   },
   {
    "duration": 1393,
    "start_time": "2022-10-07T04:58:22.871Z"
   },
   {
    "duration": 4,
    "start_time": "2022-10-07T04:59:39.078Z"
   },
   {
    "duration": 659,
    "start_time": "2022-10-07T04:59:39.838Z"
   },
   {
    "duration": 5,
    "start_time": "2022-10-07T05:08:27.444Z"
   },
   {
    "duration": 1519,
    "start_time": "2022-10-07T05:08:31.435Z"
   },
   {
    "duration": 7,
    "start_time": "2022-10-07T05:09:01.766Z"
   },
   {
    "duration": 1308,
    "start_time": "2022-10-07T05:09:07.700Z"
   },
   {
    "duration": 9,
    "start_time": "2022-10-07T05:11:40.154Z"
   },
   {
    "duration": 1608,
    "start_time": "2022-10-07T05:11:40.683Z"
   },
   {
    "duration": 5,
    "start_time": "2022-10-07T05:12:58.411Z"
   },
   {
    "duration": 14275,
    "start_time": "2022-10-07T05:12:59.067Z"
   },
   {
    "duration": 6,
    "start_time": "2022-10-07T05:15:12.474Z"
   },
   {
    "duration": 41143,
    "start_time": "2022-10-07T05:15:26.331Z"
   },
   {
    "duration": 3,
    "start_time": "2022-10-07T05:21:27.124Z"
   },
   {
    "duration": 5,
    "start_time": "2022-10-07T05:21:57.314Z"
   },
   {
    "duration": 329,
    "start_time": "2022-10-07T05:21:59.418Z"
   },
   {
    "duration": 5,
    "start_time": "2022-10-07T05:22:24.740Z"
   },
   {
    "duration": 701,
    "start_time": "2022-10-07T05:22:25.465Z"
   },
   {
    "duration": 4,
    "start_time": "2022-10-07T05:23:44.991Z"
   },
   {
    "duration": 5,
    "start_time": "2022-10-07T05:24:23.665Z"
   },
   {
    "duration": 3432,
    "start_time": "2022-10-07T05:24:40.712Z"
   },
   {
    "duration": 3,
    "start_time": "2022-10-07T17:47:55.218Z"
   },
   {
    "duration": 120,
    "start_time": "2022-10-07T17:47:55.225Z"
   },
   {
    "duration": 4,
    "start_time": "2022-10-07T17:47:55.347Z"
   },
   {
    "duration": 26,
    "start_time": "2022-10-07T17:47:55.353Z"
   },
   {
    "duration": 32,
    "start_time": "2022-10-07T17:47:55.381Z"
   },
   {
    "duration": 20,
    "start_time": "2022-10-07T17:47:55.415Z"
   },
   {
    "duration": 31,
    "start_time": "2022-10-07T17:47:55.437Z"
   },
   {
    "duration": 8,
    "start_time": "2022-10-07T17:47:55.471Z"
   },
   {
    "duration": 6,
    "start_time": "2022-10-07T17:47:55.481Z"
   },
   {
    "duration": 32,
    "start_time": "2022-10-07T17:47:55.489Z"
   },
   {
    "duration": 41,
    "start_time": "2022-10-07T17:47:55.523Z"
   },
   {
    "duration": 31,
    "start_time": "2022-10-07T17:47:55.565Z"
   },
   {
    "duration": 16,
    "start_time": "2022-10-07T17:47:55.598Z"
   },
   {
    "duration": 51,
    "start_time": "2022-10-07T17:47:55.616Z"
   },
   {
    "duration": 6,
    "start_time": "2022-10-07T17:47:55.671Z"
   },
   {
    "duration": 18,
    "start_time": "2022-10-07T17:47:55.678Z"
   },
   {
    "duration": 7,
    "start_time": "2022-10-07T17:47:55.698Z"
   },
   {
    "duration": 30,
    "start_time": "2022-10-07T17:47:55.707Z"
   },
   {
    "duration": 26,
    "start_time": "2022-10-07T17:47:55.739Z"
   },
   {
    "duration": 13,
    "start_time": "2022-10-07T17:47:55.766Z"
   },
   {
    "duration": 46,
    "start_time": "2022-10-07T17:47:55.781Z"
   },
   {
    "duration": 46,
    "start_time": "2022-10-07T17:47:55.829Z"
   },
   {
    "duration": 13,
    "start_time": "2022-10-07T17:47:55.878Z"
   },
   {
    "duration": 19,
    "start_time": "2022-10-07T17:47:55.893Z"
   },
   {
    "duration": 6,
    "start_time": "2022-10-07T17:47:55.915Z"
   },
   {
    "duration": 55,
    "start_time": "2022-10-07T17:47:55.923Z"
   },
   {
    "duration": 24,
    "start_time": "2022-10-07T17:47:55.980Z"
   },
   {
    "duration": 5,
    "start_time": "2022-10-07T17:47:56.006Z"
   },
   {
    "duration": 16,
    "start_time": "2022-10-07T17:47:56.013Z"
   },
   {
    "duration": 9,
    "start_time": "2022-10-07T17:47:56.030Z"
   },
   {
    "duration": 4,
    "start_time": "2022-10-07T17:47:56.041Z"
   },
   {
    "duration": 9,
    "start_time": "2022-10-07T17:47:56.047Z"
   },
   {
    "duration": 3193,
    "start_time": "2022-10-07T17:47:56.059Z"
   },
   {
    "duration": 13,
    "start_time": "2022-10-07T17:50:46.668Z"
   },
   {
    "duration": 5,
    "start_time": "2022-10-07T17:53:13.666Z"
   },
   {
    "duration": 3387,
    "start_time": "2022-10-07T17:53:16.642Z"
   },
   {
    "duration": 4,
    "start_time": "2022-10-07T17:54:41.986Z"
   },
   {
    "duration": 3264,
    "start_time": "2022-10-07T17:54:46.096Z"
   },
   {
    "duration": 5,
    "start_time": "2022-10-07T17:55:06.510Z"
   },
   {
    "duration": 3268,
    "start_time": "2022-10-07T17:55:10.177Z"
   },
   {
    "duration": 7,
    "start_time": "2022-10-07T17:55:34.457Z"
   },
   {
    "duration": 3152,
    "start_time": "2022-10-07T17:55:37.297Z"
   },
   {
    "duration": 3,
    "start_time": "2022-10-07T17:56:48.170Z"
   },
   {
    "duration": 3267,
    "start_time": "2022-10-07T17:56:57.655Z"
   },
   {
    "duration": 3096,
    "start_time": "2022-10-07T17:58:17.073Z"
   },
   {
    "duration": 49,
    "start_time": "2022-10-07T17:58:43.165Z"
   },
   {
    "duration": 1100,
    "start_time": "2022-10-07T18:11:29.439Z"
   },
   {
    "duration": 3116,
    "start_time": "2022-10-07T18:12:04.342Z"
   },
   {
    "duration": 885,
    "start_time": "2022-10-07T18:12:25.964Z"
   },
   {
    "duration": 799,
    "start_time": "2022-10-07T18:12:49.534Z"
   },
   {
    "duration": 4,
    "start_time": "2022-10-07T18:15:15.320Z"
   },
   {
    "duration": 28,
    "start_time": "2022-10-07T18:15:40.873Z"
   },
   {
    "duration": 29,
    "start_time": "2022-10-07T18:19:42.884Z"
   },
   {
    "duration": 786,
    "start_time": "2022-10-07T18:19:55.597Z"
   },
   {
    "duration": 32,
    "start_time": "2022-10-07T18:20:07.815Z"
   },
   {
    "duration": 35,
    "start_time": "2022-10-07T18:20:14.792Z"
   },
   {
    "duration": 836,
    "start_time": "2022-10-07T18:23:15.629Z"
   },
   {
    "duration": 1025,
    "start_time": "2022-10-07T18:24:01.593Z"
   },
   {
    "duration": 916,
    "start_time": "2022-10-07T18:24:27.423Z"
   },
   {
    "duration": 938,
    "start_time": "2022-10-07T18:25:33.144Z"
   },
   {
    "duration": 831,
    "start_time": "2022-10-07T18:26:35.938Z"
   },
   {
    "duration": 966,
    "start_time": "2022-10-07T18:29:13.798Z"
   },
   {
    "duration": 808,
    "start_time": "2022-10-07T18:40:54.809Z"
   },
   {
    "duration": 779,
    "start_time": "2022-10-07T18:41:43.495Z"
   },
   {
    "duration": 868,
    "start_time": "2022-10-07T18:42:22.091Z"
   },
   {
    "duration": 723,
    "start_time": "2022-10-07T18:43:42.162Z"
   },
   {
    "duration": 4,
    "start_time": "2022-10-07T18:46:59.095Z"
   },
   {
    "duration": 4,
    "start_time": "2022-10-07T18:47:03.828Z"
   },
   {
    "duration": 58,
    "start_time": "2022-10-07T18:47:55.055Z"
   },
   {
    "duration": 6,
    "start_time": "2022-10-07T18:47:58.151Z"
   },
   {
    "duration": 8,
    "start_time": "2022-10-07T18:48:37.890Z"
   },
   {
    "duration": 5,
    "start_time": "2022-10-07T18:48:49.285Z"
   },
   {
    "duration": 6,
    "start_time": "2022-10-07T18:49:36.525Z"
   },
   {
    "duration": 7,
    "start_time": "2022-10-07T18:49:41.877Z"
   },
   {
    "duration": 5,
    "start_time": "2022-10-07T18:50:20.381Z"
   },
   {
    "duration": 5,
    "start_time": "2022-10-07T18:50:24.498Z"
   },
   {
    "duration": 6,
    "start_time": "2022-10-07T18:51:00.442Z"
   },
   {
    "duration": 7,
    "start_time": "2022-10-07T18:51:22.581Z"
   },
   {
    "duration": 8,
    "start_time": "2022-10-07T18:51:46.071Z"
   },
   {
    "duration": 8,
    "start_time": "2022-10-07T18:52:46.104Z"
   },
   {
    "duration": 5,
    "start_time": "2022-10-07T18:53:43.190Z"
   },
   {
    "duration": 5,
    "start_time": "2022-10-07T18:54:15.511Z"
   },
   {
    "duration": 4,
    "start_time": "2022-10-07T18:54:17.737Z"
   },
   {
    "duration": 800,
    "start_time": "2022-10-07T18:54:19.489Z"
   },
   {
    "duration": 6,
    "start_time": "2022-10-07T18:54:30.914Z"
   },
   {
    "duration": 4,
    "start_time": "2022-10-07T18:54:32.896Z"
   },
   {
    "duration": 763,
    "start_time": "2022-10-07T18:54:33.746Z"
   },
   {
    "duration": 5,
    "start_time": "2022-10-07T19:13:43.780Z"
   },
   {
    "duration": 5,
    "start_time": "2022-10-07T19:13:54.711Z"
   },
   {
    "duration": 4,
    "start_time": "2022-10-07T19:14:17.341Z"
   },
   {
    "duration": 5,
    "start_time": "2022-10-07T19:14:36.526Z"
   },
   {
    "duration": 952,
    "start_time": "2022-10-07T19:14:54.403Z"
   },
   {
    "duration": 705,
    "start_time": "2022-10-07T19:15:02.368Z"
   },
   {
    "duration": 762,
    "start_time": "2022-10-07T19:15:07.908Z"
   },
   {
    "duration": 817,
    "start_time": "2022-10-07T21:34:01.173Z"
   },
   {
    "duration": 53,
    "start_time": "2022-10-07T21:39:31.194Z"
   },
   {
    "duration": 1415,
    "start_time": "2022-10-07T21:40:19.140Z"
   },
   {
    "duration": 310,
    "start_time": "2022-10-07T21:40:20.557Z"
   },
   {
    "duration": 4,
    "start_time": "2022-10-07T21:40:20.869Z"
   },
   {
    "duration": 6,
    "start_time": "2022-10-07T21:40:20.875Z"
   },
   {
    "duration": 43,
    "start_time": "2022-10-07T21:40:20.883Z"
   },
   {
    "duration": 21,
    "start_time": "2022-10-07T21:40:20.927Z"
   },
   {
    "duration": 14,
    "start_time": "2022-10-07T21:40:20.954Z"
   },
   {
    "duration": 30,
    "start_time": "2022-10-07T21:40:20.970Z"
   },
   {
    "duration": 8,
    "start_time": "2022-10-07T21:40:21.002Z"
   },
   {
    "duration": 29,
    "start_time": "2022-10-07T21:40:21.013Z"
   },
   {
    "duration": 15,
    "start_time": "2022-10-07T21:40:21.044Z"
   },
   {
    "duration": 33,
    "start_time": "2022-10-07T21:40:21.061Z"
   },
   {
    "duration": 13,
    "start_time": "2022-10-07T21:40:21.096Z"
   },
   {
    "duration": 47,
    "start_time": "2022-10-07T21:40:21.112Z"
   },
   {
    "duration": 5,
    "start_time": "2022-10-07T21:40:21.161Z"
   },
   {
    "duration": 15,
    "start_time": "2022-10-07T21:40:21.168Z"
   },
   {
    "duration": 14,
    "start_time": "2022-10-07T21:40:21.185Z"
   },
   {
    "duration": 14,
    "start_time": "2022-10-07T21:40:21.201Z"
   },
   {
    "duration": 26,
    "start_time": "2022-10-07T21:40:21.217Z"
   },
   {
    "duration": 15,
    "start_time": "2022-10-07T21:40:21.255Z"
   },
   {
    "duration": 49,
    "start_time": "2022-10-07T21:40:21.272Z"
   },
   {
    "duration": 47,
    "start_time": "2022-10-07T21:40:21.323Z"
   },
   {
    "duration": 16,
    "start_time": "2022-10-07T21:40:21.371Z"
   },
   {
    "duration": 19,
    "start_time": "2022-10-07T21:40:21.389Z"
   },
   {
    "duration": 8,
    "start_time": "2022-10-07T21:40:21.410Z"
   },
   {
    "duration": 62,
    "start_time": "2022-10-07T21:40:21.421Z"
   },
   {
    "duration": 11,
    "start_time": "2022-10-07T21:40:21.487Z"
   },
   {
    "duration": 8,
    "start_time": "2022-10-07T21:40:21.503Z"
   },
   {
    "duration": 21,
    "start_time": "2022-10-07T21:40:21.513Z"
   },
   {
    "duration": 10,
    "start_time": "2022-10-07T21:40:21.555Z"
   },
   {
    "duration": 6,
    "start_time": "2022-10-07T21:40:21.567Z"
   },
   {
    "duration": 12,
    "start_time": "2022-10-07T21:40:21.575Z"
   },
   {
    "duration": 12,
    "start_time": "2022-10-07T21:40:21.589Z"
   },
   {
    "duration": 854,
    "start_time": "2022-10-07T21:40:21.604Z"
   },
   {
    "duration": 801,
    "start_time": "2022-10-07T21:40:22.460Z"
   },
   {
    "duration": 814,
    "start_time": "2022-10-07T21:40:23.263Z"
   },
   {
    "duration": 750,
    "start_time": "2022-10-07T21:40:24.079Z"
   },
   {
    "duration": 74,
    "start_time": "2022-10-07T21:40:40.203Z"
   },
   {
    "duration": 11,
    "start_time": "2022-10-07T21:40:55.068Z"
   },
   {
    "duration": 25,
    "start_time": "2022-10-07T21:41:05.705Z"
   },
   {
    "duration": 25675,
    "start_time": "2022-10-07T21:41:45.706Z"
   },
   {
    "duration": 1563,
    "start_time": "2022-10-07T21:44:34.734Z"
   },
   {
    "duration": 113,
    "start_time": "2022-10-07T21:45:40.985Z"
   },
   {
    "duration": 4,
    "start_time": "2022-10-07T21:45:59.811Z"
   },
   {
    "duration": 115,
    "start_time": "2022-10-07T21:45:59.819Z"
   },
   {
    "duration": 4,
    "start_time": "2022-10-07T21:45:59.936Z"
   },
   {
    "duration": 9,
    "start_time": "2022-10-07T21:45:59.941Z"
   },
   {
    "duration": 40,
    "start_time": "2022-10-07T21:45:59.952Z"
   },
   {
    "duration": 21,
    "start_time": "2022-10-07T21:45:59.994Z"
   },
   {
    "duration": 15,
    "start_time": "2022-10-07T21:46:00.017Z"
   },
   {
    "duration": 26,
    "start_time": "2022-10-07T21:46:00.034Z"
   },
   {
    "duration": 12,
    "start_time": "2022-10-07T21:46:00.062Z"
   },
   {
    "duration": 47,
    "start_time": "2022-10-07T21:46:00.076Z"
   },
   {
    "duration": 11,
    "start_time": "2022-10-07T21:46:00.125Z"
   },
   {
    "duration": 37,
    "start_time": "2022-10-07T21:46:00.139Z"
   },
   {
    "duration": 17,
    "start_time": "2022-10-07T21:46:00.178Z"
   },
   {
    "duration": 25,
    "start_time": "2022-10-07T21:46:00.196Z"
   },
   {
    "duration": 12,
    "start_time": "2022-10-07T21:46:00.253Z"
   },
   {
    "duration": 27,
    "start_time": "2022-10-07T21:46:00.267Z"
   },
   {
    "duration": 29,
    "start_time": "2022-10-07T21:46:00.295Z"
   },
   {
    "duration": 36,
    "start_time": "2022-10-07T21:46:00.326Z"
   },
   {
    "duration": 32,
    "start_time": "2022-10-07T21:46:00.364Z"
   },
   {
    "duration": 38,
    "start_time": "2022-10-07T21:46:00.398Z"
   },
   {
    "duration": 66,
    "start_time": "2022-10-07T21:46:00.438Z"
   },
   {
    "duration": 18,
    "start_time": "2022-10-07T21:46:00.506Z"
   },
   {
    "duration": 46,
    "start_time": "2022-10-07T21:46:00.526Z"
   },
   {
    "duration": 55,
    "start_time": "2022-10-07T21:46:00.574Z"
   },
   {
    "duration": 34,
    "start_time": "2022-10-07T21:46:00.631Z"
   },
   {
    "duration": 65,
    "start_time": "2022-10-07T21:46:00.668Z"
   },
   {
    "duration": 23,
    "start_time": "2022-10-07T21:46:00.735Z"
   },
   {
    "duration": 20,
    "start_time": "2022-10-07T21:46:00.760Z"
   },
   {
    "duration": 25,
    "start_time": "2022-10-07T21:46:00.782Z"
   },
   {
    "duration": 64,
    "start_time": "2022-10-07T21:46:00.809Z"
   },
   {
    "duration": 25,
    "start_time": "2022-10-07T21:46:00.875Z"
   },
   {
    "duration": 27,
    "start_time": "2022-10-07T21:46:00.902Z"
   },
   {
    "duration": 25,
    "start_time": "2022-10-07T21:46:00.931Z"
   },
   {
    "duration": 874,
    "start_time": "2022-10-07T21:46:00.957Z"
   },
   {
    "duration": 785,
    "start_time": "2022-10-07T21:46:01.832Z"
   },
   {
    "duration": 736,
    "start_time": "2022-10-07T21:46:02.619Z"
   },
   {
    "duration": 827,
    "start_time": "2022-10-07T21:46:03.357Z"
   },
   {
    "duration": 5,
    "start_time": "2022-10-07T21:46:04.185Z"
   },
   {
    "duration": 1374,
    "start_time": "2022-10-07T21:46:11.506Z"
   },
   {
    "duration": 31,
    "start_time": "2022-10-07T22:09:55.268Z"
   },
   {
    "duration": 4,
    "start_time": "2022-10-07T22:10:21.837Z"
   },
   {
    "duration": 14,
    "start_time": "2022-10-07T22:10:32.534Z"
   },
   {
    "duration": 23,
    "start_time": "2022-10-07T22:11:39.088Z"
   },
   {
    "duration": 13,
    "start_time": "2022-10-07T22:12:50.551Z"
   },
   {
    "duration": 1315,
    "start_time": "2022-10-07T22:35:08.723Z"
   },
   {
    "duration": 19,
    "start_time": "2022-10-07T22:42:09.481Z"
   },
   {
    "duration": 14,
    "start_time": "2022-10-07T22:44:52.477Z"
   },
   {
    "duration": 7,
    "start_time": "2022-10-07T22:45:09.394Z"
   },
   {
    "duration": 6,
    "start_time": "2022-10-07T22:46:37.075Z"
   },
   {
    "duration": 7,
    "start_time": "2022-10-07T22:48:18.128Z"
   },
   {
    "duration": 3,
    "start_time": "2022-10-08T00:11:54.907Z"
   },
   {
    "duration": 6,
    "start_time": "2022-10-08T00:13:37.843Z"
   },
   {
    "duration": 41,
    "start_time": "2022-10-08T00:16:33.242Z"
   },
   {
    "duration": 19,
    "start_time": "2022-10-08T00:17:54.774Z"
   },
   {
    "duration": 11,
    "start_time": "2022-10-08T00:18:28.473Z"
   },
   {
    "duration": 58,
    "start_time": "2022-10-08T02:22:34.285Z"
   },
   {
    "duration": 6,
    "start_time": "2022-10-08T05:36:08.909Z"
   },
   {
    "duration": 4,
    "start_time": "2022-10-08T05:36:15.418Z"
   },
   {
    "duration": 5,
    "start_time": "2022-10-08T05:36:30.670Z"
   },
   {
    "duration": 16,
    "start_time": "2022-10-08T05:37:49.553Z"
   },
   {
    "duration": 4,
    "start_time": "2022-10-08T05:39:55.837Z"
   },
   {
    "duration": 118,
    "start_time": "2022-10-08T05:39:55.843Z"
   },
   {
    "duration": 4,
    "start_time": "2022-10-08T05:39:55.963Z"
   },
   {
    "duration": 8,
    "start_time": "2022-10-08T05:39:55.969Z"
   },
   {
    "duration": 50,
    "start_time": "2022-10-08T05:39:55.978Z"
   },
   {
    "duration": 20,
    "start_time": "2022-10-08T05:39:56.029Z"
   },
   {
    "duration": 14,
    "start_time": "2022-10-08T05:39:56.053Z"
   },
   {
    "duration": 16,
    "start_time": "2022-10-08T05:39:56.069Z"
   },
   {
    "duration": 7,
    "start_time": "2022-10-08T05:39:56.087Z"
   },
   {
    "duration": 27,
    "start_time": "2022-10-08T05:39:56.096Z"
   },
   {
    "duration": 29,
    "start_time": "2022-10-08T05:39:56.125Z"
   },
   {
    "duration": 25,
    "start_time": "2022-10-08T05:39:56.155Z"
   },
   {
    "duration": 14,
    "start_time": "2022-10-08T05:39:56.182Z"
   },
   {
    "duration": 27,
    "start_time": "2022-10-08T05:39:56.198Z"
   },
   {
    "duration": 33,
    "start_time": "2022-10-08T05:39:56.227Z"
   },
   {
    "duration": 21,
    "start_time": "2022-10-08T05:39:56.267Z"
   },
   {
    "duration": 7,
    "start_time": "2022-10-08T05:39:56.290Z"
   },
   {
    "duration": 12,
    "start_time": "2022-10-08T05:39:56.299Z"
   },
   {
    "duration": 19,
    "start_time": "2022-10-08T05:39:56.312Z"
   },
   {
    "duration": 27,
    "start_time": "2022-10-08T05:39:56.333Z"
   },
   {
    "duration": 44,
    "start_time": "2022-10-08T05:39:56.361Z"
   },
   {
    "duration": 17,
    "start_time": "2022-10-08T05:39:56.407Z"
   },
   {
    "duration": 33,
    "start_time": "2022-10-08T05:39:56.425Z"
   },
   {
    "duration": 27,
    "start_time": "2022-10-08T05:40:11.564Z"
   },
   {
    "duration": 4,
    "start_time": "2022-10-08T05:41:20.514Z"
   },
   {
    "duration": 10,
    "start_time": "2022-10-08T05:41:38.796Z"
   },
   {
    "duration": 22,
    "start_time": "2022-10-08T05:41:40.511Z"
   },
   {
    "duration": 6,
    "start_time": "2022-10-08T05:41:43.336Z"
   },
   {
    "duration": 11,
    "start_time": "2022-10-08T05:41:45.653Z"
   },
   {
    "duration": 5,
    "start_time": "2022-10-08T05:41:47.076Z"
   },
   {
    "duration": 12,
    "start_time": "2022-10-08T05:41:49.368Z"
   },
   {
    "duration": 7,
    "start_time": "2022-10-08T05:41:53.782Z"
   },
   {
    "duration": 4,
    "start_time": "2022-10-08T05:41:54.601Z"
   },
   {
    "duration": 4,
    "start_time": "2022-10-08T05:41:57.060Z"
   },
   {
    "duration": 3,
    "start_time": "2022-10-08T05:41:59.039Z"
   },
   {
    "duration": 792,
    "start_time": "2022-10-08T05:42:00.083Z"
   },
   {
    "duration": 895,
    "start_time": "2022-10-08T05:42:04.997Z"
   },
   {
    "duration": 812,
    "start_time": "2022-10-08T05:42:09.306Z"
   },
   {
    "duration": 729,
    "start_time": "2022-10-08T05:42:13.943Z"
   },
   {
    "duration": 6,
    "start_time": "2022-10-08T05:42:21.272Z"
   },
   {
    "duration": 12,
    "start_time": "2022-10-08T05:42:23.879Z"
   },
   {
    "duration": 1438,
    "start_time": "2022-10-08T05:42:30.464Z"
   },
   {
    "duration": 5,
    "start_time": "2022-10-08T05:42:47.789Z"
   },
   {
    "duration": 3,
    "start_time": "2022-10-08T05:42:52.824Z"
   },
   {
    "duration": 7,
    "start_time": "2022-10-08T05:42:54.006Z"
   },
   {
    "duration": 9,
    "start_time": "2022-10-08T05:42:55.459Z"
   },
   {
    "duration": 6,
    "start_time": "2022-10-08T05:43:02.350Z"
   },
   {
    "duration": 4,
    "start_time": "2022-10-08T05:43:04.987Z"
   },
   {
    "duration": 78,
    "start_time": "2022-10-08T05:43:46.195Z"
   },
   {
    "duration": 4,
    "start_time": "2022-10-08T05:44:15.188Z"
   },
   {
    "duration": 17882,
    "start_time": "2022-10-08T05:44:22.851Z"
   },
   {
    "duration": 17972,
    "start_time": "2022-10-08T05:45:14.590Z"
   },
   {
    "duration": 18609,
    "start_time": "2022-10-08T05:45:50.023Z"
   },
   {
    "duration": 1459079,
    "start_time": "2022-10-08T05:46:22.434Z"
   },
   {
    "duration": 12,
    "start_time": "2022-10-08T22:09:44.734Z"
   },
   {
    "duration": 5,
    "start_time": "2022-10-08T22:09:57.289Z"
   },
   {
    "duration": 4,
    "start_time": "2022-10-08T22:11:53.377Z"
   },
   {
    "duration": 1756725,
    "start_time": "2022-10-08T22:12:13.796Z"
   },
   {
    "duration": 4,
    "start_time": "2022-10-08T23:04:13.337Z"
   },
   {
    "duration": 5,
    "start_time": "2022-10-08T23:05:55.075Z"
   },
   {
    "duration": 119,
    "start_time": "2022-10-08T23:05:55.083Z"
   },
   {
    "duration": 4,
    "start_time": "2022-10-08T23:05:55.204Z"
   },
   {
    "duration": 11,
    "start_time": "2022-10-08T23:05:55.210Z"
   },
   {
    "duration": 37,
    "start_time": "2022-10-08T23:05:55.223Z"
   },
   {
    "duration": 22,
    "start_time": "2022-10-08T23:05:55.262Z"
   },
   {
    "duration": 13,
    "start_time": "2022-10-08T23:05:55.286Z"
   },
   {
    "duration": 10,
    "start_time": "2022-10-08T23:05:55.301Z"
   },
   {
    "duration": 8,
    "start_time": "2022-10-08T23:05:55.313Z"
   },
   {
    "duration": 50,
    "start_time": "2022-10-08T23:05:55.322Z"
   },
   {
    "duration": 9,
    "start_time": "2022-10-08T23:05:55.374Z"
   },
   {
    "duration": 30,
    "start_time": "2022-10-08T23:05:55.384Z"
   },
   {
    "duration": 42,
    "start_time": "2022-10-08T23:05:55.416Z"
   },
   {
    "duration": 19,
    "start_time": "2022-10-08T23:05:55.462Z"
   },
   {
    "duration": 5,
    "start_time": "2022-10-08T23:05:55.482Z"
   },
   {
    "duration": 17,
    "start_time": "2022-10-08T23:05:55.489Z"
   },
   {
    "duration": 5,
    "start_time": "2022-10-08T23:05:55.507Z"
   },
   {
    "duration": 40,
    "start_time": "2022-10-08T23:05:55.514Z"
   },
   {
    "duration": 20,
    "start_time": "2022-10-08T23:05:55.556Z"
   },
   {
    "duration": 14,
    "start_time": "2022-10-08T23:05:55.578Z"
   },
   {
    "duration": 67,
    "start_time": "2022-10-08T23:05:55.594Z"
   },
   {
    "duration": 16,
    "start_time": "2022-10-08T23:05:55.663Z"
   },
   {
    "duration": 13,
    "start_time": "2022-10-08T23:05:55.681Z"
   },
   {
    "duration": 18,
    "start_time": "2022-10-08T23:05:55.696Z"
   },
   {
    "duration": 4,
    "start_time": "2022-10-08T23:05:55.716Z"
   },
   {
    "duration": 35,
    "start_time": "2022-10-08T23:05:55.721Z"
   },
   {
    "duration": 26,
    "start_time": "2022-10-08T23:05:55.757Z"
   },
   {
    "duration": 7,
    "start_time": "2022-10-08T23:05:55.785Z"
   },
   {
    "duration": 9,
    "start_time": "2022-10-08T23:05:55.794Z"
   },
   {
    "duration": 5,
    "start_time": "2022-10-08T23:05:55.805Z"
   },
   {
    "duration": 43,
    "start_time": "2022-10-08T23:05:55.812Z"
   },
   {
    "duration": 6,
    "start_time": "2022-10-08T23:05:55.857Z"
   },
   {
    "duration": 9,
    "start_time": "2022-10-08T23:05:55.865Z"
   },
   {
    "duration": 9,
    "start_time": "2022-10-08T23:05:55.875Z"
   },
   {
    "duration": 5,
    "start_time": "2022-10-08T23:05:55.886Z"
   },
   {
    "duration": 796,
    "start_time": "2022-10-08T23:05:55.893Z"
   },
   {
    "duration": 917,
    "start_time": "2022-10-08T23:05:56.691Z"
   },
   {
    "duration": 720,
    "start_time": "2022-10-08T23:05:57.609Z"
   },
   {
    "duration": 747,
    "start_time": "2022-10-08T23:05:58.330Z"
   },
   {
    "duration": 4,
    "start_time": "2022-10-08T23:05:59.079Z"
   },
   {
    "duration": 14,
    "start_time": "2022-10-08T23:05:59.087Z"
   },
   {
    "duration": 1282,
    "start_time": "2022-10-08T23:05:59.102Z"
   },
   {
    "duration": 5,
    "start_time": "2022-10-08T23:06:00.386Z"
   },
   {
    "duration": 33,
    "start_time": "2022-10-08T23:06:00.393Z"
   },
   {
    "duration": 39,
    "start_time": "2022-10-08T23:06:00.428Z"
   },
   {
    "duration": 36,
    "start_time": "2022-10-08T23:06:00.469Z"
   },
   {
    "duration": 6,
    "start_time": "2022-10-08T23:06:17.156Z"
   },
   {
    "duration": 1823,
    "start_time": "2022-10-08T23:11:10.938Z"
   },
   {
    "duration": 5184,
    "start_time": "2022-10-08T23:17:40.992Z"
   },
   {
    "duration": 58,
    "start_time": "2022-10-08T23:18:39.142Z"
   },
   {
    "duration": 27,
    "start_time": "2022-10-08T23:21:18.859Z"
   },
   {
    "duration": 5,
    "start_time": "2022-10-08T23:27:36.991Z"
   },
   {
    "duration": 16,
    "start_time": "2022-10-08T23:27:54.365Z"
   },
   {
    "duration": 56,
    "start_time": "2022-10-08T23:29:05.938Z"
   },
   {
    "duration": 58,
    "start_time": "2022-10-08T23:29:15.701Z"
   },
   {
    "duration": 126,
    "start_time": "2022-10-08T23:29:20.857Z"
   },
   {
    "duration": 29,
    "start_time": "2022-10-08T23:30:27.176Z"
   },
   {
    "duration": 15,
    "start_time": "2022-10-08T23:30:34.384Z"
   },
   {
    "duration": 116,
    "start_time": "2022-10-08T23:30:44.714Z"
   },
   {
    "duration": 45,
    "start_time": "2022-10-08T23:56:12.410Z"
   },
   {
    "duration": 350,
    "start_time": "2022-10-09T00:09:28.562Z"
   },
   {
    "duration": 604,
    "start_time": "2022-10-09T00:09:55.595Z"
   },
   {
    "duration": 4,
    "start_time": "2022-10-09T00:31:04.080Z"
   },
   {
    "duration": 37,
    "start_time": "2022-10-09T00:41:20.463Z"
   },
   {
    "duration": 5,
    "start_time": "2022-10-09T00:41:30.526Z"
   },
   {
    "duration": 15761,
    "start_time": "2022-10-09T00:42:04.698Z"
   },
   {
    "duration": 7396,
    "start_time": "2022-10-09T00:44:02.117Z"
   },
   {
    "duration": 58039,
    "start_time": "2022-10-09T00:45:22.863Z"
   },
   {
    "duration": 2601578,
    "start_time": "2022-10-09T00:53:42.724Z"
   },
   {
    "duration": 598,
    "start_time": "2022-10-09T18:38:29.877Z"
   },
   {
    "duration": 212,
    "start_time": "2022-10-09T18:41:16.002Z"
   },
   {
    "duration": 127,
    "start_time": "2022-10-09T18:41:47.968Z"
   },
   {
    "duration": 20,
    "start_time": "2022-10-09T18:45:44.328Z"
   },
   {
    "duration": 187,
    "start_time": "2022-10-09T18:45:45.273Z"
   },
   {
    "duration": 107,
    "start_time": "2022-10-09T18:46:05.869Z"
   },
   {
    "duration": 5551,
    "start_time": "2022-10-09T18:48:39.031Z"
   },
   {
    "duration": 85,
    "start_time": "2022-10-09T18:48:56.786Z"
   },
   {
    "duration": 37,
    "start_time": "2022-10-09T18:49:51.410Z"
   },
   {
    "duration": 1691,
    "start_time": "2022-10-09T18:53:32.460Z"
   },
   {
    "duration": 109,
    "start_time": "2022-10-09T18:53:34.153Z"
   },
   {
    "duration": 4,
    "start_time": "2022-10-09T18:53:34.264Z"
   },
   {
    "duration": 9,
    "start_time": "2022-10-09T18:53:34.270Z"
   },
   {
    "duration": 55,
    "start_time": "2022-10-09T18:53:34.281Z"
   },
   {
    "duration": 32,
    "start_time": "2022-10-09T18:53:34.338Z"
   },
   {
    "duration": 14,
    "start_time": "2022-10-09T18:53:34.372Z"
   },
   {
    "duration": 9,
    "start_time": "2022-10-09T18:53:34.387Z"
   },
   {
    "duration": 10,
    "start_time": "2022-10-09T18:53:34.398Z"
   },
   {
    "duration": 63,
    "start_time": "2022-10-09T18:53:34.412Z"
   },
   {
    "duration": 13,
    "start_time": "2022-10-09T18:53:34.477Z"
   },
   {
    "duration": 63,
    "start_time": "2022-10-09T18:53:34.492Z"
   },
   {
    "duration": 17,
    "start_time": "2022-10-09T18:53:34.557Z"
   },
   {
    "duration": 23,
    "start_time": "2022-10-09T18:53:34.575Z"
   },
   {
    "duration": 4,
    "start_time": "2022-10-09T18:53:34.600Z"
   },
   {
    "duration": 52,
    "start_time": "2022-10-09T18:53:34.606Z"
   },
   {
    "duration": 9,
    "start_time": "2022-10-09T18:53:34.661Z"
   },
   {
    "duration": 16,
    "start_time": "2022-10-09T18:53:34.672Z"
   },
   {
    "duration": 23,
    "start_time": "2022-10-09T18:53:34.690Z"
   },
   {
    "duration": 16,
    "start_time": "2022-10-09T18:53:34.715Z"
   },
   {
    "duration": 67,
    "start_time": "2022-10-09T18:53:34.754Z"
   },
   {
    "duration": 41,
    "start_time": "2022-10-09T18:53:34.824Z"
   },
   {
    "duration": 20,
    "start_time": "2022-10-09T18:53:34.867Z"
   },
   {
    "duration": 24,
    "start_time": "2022-10-09T18:53:34.889Z"
   },
   {
    "duration": 4,
    "start_time": "2022-10-09T18:53:34.915Z"
   },
   {
    "duration": 38,
    "start_time": "2022-10-09T18:53:34.921Z"
   },
   {
    "duration": 24,
    "start_time": "2022-10-09T18:53:34.961Z"
   },
   {
    "duration": 17,
    "start_time": "2022-10-09T18:53:34.990Z"
   },
   {
    "duration": 12,
    "start_time": "2022-10-09T18:53:35.009Z"
   },
   {
    "duration": 33,
    "start_time": "2022-10-09T18:53:35.024Z"
   },
   {
    "duration": 19,
    "start_time": "2022-10-09T18:53:35.059Z"
   },
   {
    "duration": 11,
    "start_time": "2022-10-09T18:53:35.080Z"
   },
   {
    "duration": 5,
    "start_time": "2022-10-09T18:53:35.093Z"
   },
   {
    "duration": 17,
    "start_time": "2022-10-09T18:53:35.099Z"
   },
   {
    "duration": 13,
    "start_time": "2022-10-09T18:53:35.118Z"
   },
   {
    "duration": 933,
    "start_time": "2022-10-09T18:53:35.133Z"
   },
   {
    "duration": 1027,
    "start_time": "2022-10-09T18:53:36.068Z"
   },
   {
    "duration": 815,
    "start_time": "2022-10-09T18:53:37.097Z"
   },
   {
    "duration": 873,
    "start_time": "2022-10-09T18:53:37.914Z"
   },
   {
    "duration": 6,
    "start_time": "2022-10-09T18:53:38.789Z"
   },
   {
    "duration": 34,
    "start_time": "2022-10-09T18:53:38.797Z"
   },
   {
    "duration": 1471,
    "start_time": "2022-10-09T18:53:38.833Z"
   },
   {
    "duration": 5,
    "start_time": "2022-10-09T20:02:10.757Z"
   },
   {
    "duration": 4,
    "start_time": "2022-10-09T20:03:04.726Z"
   },
   {
    "duration": 8,
    "start_time": "2022-10-09T20:04:26.142Z"
   },
   {
    "duration": 9,
    "start_time": "2022-10-09T20:04:28.972Z"
   },
   {
    "duration": 12,
    "start_time": "2022-10-09T20:06:46.779Z"
   },
   {
    "duration": 9,
    "start_time": "2022-10-09T20:07:57.706Z"
   },
   {
    "duration": 10,
    "start_time": "2022-10-09T20:07:59.633Z"
   },
   {
    "duration": 16,
    "start_time": "2022-10-09T20:09:12.544Z"
   },
   {
    "duration": 6,
    "start_time": "2022-10-09T20:10:03.541Z"
   },
   {
    "duration": 3,
    "start_time": "2022-10-09T20:16:28.819Z"
   },
   {
    "duration": 5,
    "start_time": "2022-10-09T20:19:21.407Z"
   },
   {
    "duration": 1714349,
    "start_time": "2022-10-09T20:19:44.938Z"
   },
   {
    "duration": 3264,
    "start_time": "2022-10-09T21:22:43.148Z"
   },
   {
    "duration": 51,
    "start_time": "2022-10-09T21:23:06.945Z"
   },
   {
    "duration": 131,
    "start_time": "2022-10-09T21:23:23.800Z"
   },
   {
    "duration": 27,
    "start_time": "2022-10-09T21:23:44.692Z"
   },
   {
    "duration": 6,
    "start_time": "2022-10-09T21:24:06.448Z"
   },
   {
    "duration": 1248746,
    "start_time": "2022-10-09T21:24:18.909Z"
   },
   {
    "duration": 2871,
    "start_time": "2022-10-09T22:09:37.151Z"
   },
   {
    "duration": 51,
    "start_time": "2022-10-09T22:10:30.370Z"
   },
   {
    "duration": 138,
    "start_time": "2022-10-09T22:11:05.450Z"
   },
   {
    "duration": 32,
    "start_time": "2022-10-09T22:17:09.382Z"
   },
   {
    "duration": 4,
    "start_time": "2022-10-09T22:24:17.010Z"
   },
   {
    "duration": 37,
    "start_time": "2022-10-09T22:25:15.657Z"
   },
   {
    "duration": 61244,
    "start_time": "2022-10-09T22:26:19.830Z"
   },
   {
    "duration": 913,
    "start_time": "2022-10-09T22:29:50.274Z"
   },
   {
    "duration": 329,
    "start_time": "2022-10-09T22:30:46.703Z"
   },
   {
    "duration": 134,
    "start_time": "2022-10-09T22:31:00.652Z"
   },
   {
    "duration": 35,
    "start_time": "2022-10-09T22:31:11.727Z"
   },
   {
    "duration": 60212,
    "start_time": "2022-10-09T22:31:38.877Z"
   },
   {
    "duration": 817,
    "start_time": "2022-10-09T22:33:12.441Z"
   },
   {
    "duration": 321,
    "start_time": "2022-10-09T22:35:08.213Z"
   },
   {
    "duration": 120,
    "start_time": "2022-10-09T22:35:50.128Z"
   },
   {
    "duration": 17,
    "start_time": "2022-10-09T22:37:30.097Z"
   },
   {
    "duration": 15,
    "start_time": "2022-10-09T22:37:42.289Z"
   },
   {
    "duration": 272,
    "start_time": "2022-10-09T22:39:31.683Z"
   },
   {
    "duration": 159,
    "start_time": "2022-10-09T22:41:07.257Z"
   },
   {
    "duration": 5,
    "start_time": "2022-10-09T23:16:33.291Z"
   },
   {
    "duration": 14,
    "start_time": "2022-10-09T23:17:15.893Z"
   },
   {
    "duration": 27,
    "start_time": "2022-10-09T23:26:02.640Z"
   },
   {
    "duration": 116,
    "start_time": "2022-10-09T23:26:26.062Z"
   },
   {
    "duration": 54,
    "start_time": "2022-10-09T23:59:12.674Z"
   },
   {
    "duration": 1532,
    "start_time": "2022-10-10T01:01:29.653Z"
   },
   {
    "duration": 112,
    "start_time": "2022-10-10T01:01:31.187Z"
   },
   {
    "duration": 5,
    "start_time": "2022-10-10T01:01:31.301Z"
   },
   {
    "duration": 9,
    "start_time": "2022-10-10T01:01:31.308Z"
   },
   {
    "duration": 71,
    "start_time": "2022-10-10T01:01:31.319Z"
   },
   {
    "duration": 29,
    "start_time": "2022-10-10T01:01:31.392Z"
   },
   {
    "duration": 42,
    "start_time": "2022-10-10T01:01:31.424Z"
   },
   {
    "duration": 18,
    "start_time": "2022-10-10T01:01:31.468Z"
   },
   {
    "duration": 25,
    "start_time": "2022-10-10T01:01:31.488Z"
   },
   {
    "duration": 45,
    "start_time": "2022-10-10T01:01:31.521Z"
   },
   {
    "duration": 12,
    "start_time": "2022-10-10T01:01:31.568Z"
   },
   {
    "duration": 33,
    "start_time": "2022-10-10T01:01:31.582Z"
   },
   {
    "duration": 45,
    "start_time": "2022-10-10T01:01:31.617Z"
   },
   {
    "duration": 22,
    "start_time": "2022-10-10T01:01:31.665Z"
   },
   {
    "duration": 6,
    "start_time": "2022-10-10T01:01:31.689Z"
   },
   {
    "duration": 18,
    "start_time": "2022-10-10T01:01:31.697Z"
   },
   {
    "duration": 9,
    "start_time": "2022-10-10T01:01:31.717Z"
   },
   {
    "duration": 10,
    "start_time": "2022-10-10T01:01:31.755Z"
   },
   {
    "duration": 33,
    "start_time": "2022-10-10T01:01:31.767Z"
   },
   {
    "duration": 14,
    "start_time": "2022-10-10T01:01:31.802Z"
   },
   {
    "duration": 66,
    "start_time": "2022-10-10T01:01:31.818Z"
   },
   {
    "duration": 19,
    "start_time": "2022-10-10T01:01:31.886Z"
   },
   {
    "duration": 16,
    "start_time": "2022-10-10T01:01:31.907Z"
   },
   {
    "duration": 45,
    "start_time": "2022-10-10T01:01:31.925Z"
   },
   {
    "duration": 3,
    "start_time": "2022-10-10T01:01:31.972Z"
   },
   {
    "duration": 21,
    "start_time": "2022-10-10T01:01:31.977Z"
   },
   {
    "duration": 26,
    "start_time": "2022-10-10T01:01:32.000Z"
   },
   {
    "duration": 29,
    "start_time": "2022-10-10T01:01:32.029Z"
   },
   {
    "duration": 22,
    "start_time": "2022-10-10T01:01:32.060Z"
   },
   {
    "duration": 11,
    "start_time": "2022-10-10T01:01:32.084Z"
   },
   {
    "duration": 29,
    "start_time": "2022-10-10T01:01:32.097Z"
   },
   {
    "duration": 8,
    "start_time": "2022-10-10T01:01:32.128Z"
   },
   {
    "duration": 18,
    "start_time": "2022-10-10T01:01:32.138Z"
   },
   {
    "duration": 26,
    "start_time": "2022-10-10T01:01:32.158Z"
   },
   {
    "duration": 13,
    "start_time": "2022-10-10T01:01:32.186Z"
   },
   {
    "duration": 809,
    "start_time": "2022-10-10T01:01:32.200Z"
   },
   {
    "duration": 919,
    "start_time": "2022-10-10T01:01:33.011Z"
   },
   {
    "duration": 744,
    "start_time": "2022-10-10T01:01:33.932Z"
   },
   {
    "duration": 756,
    "start_time": "2022-10-10T01:01:34.678Z"
   },
   {
    "duration": 19,
    "start_time": "2022-10-10T01:01:35.436Z"
   },
   {
    "duration": 18,
    "start_time": "2022-10-10T01:01:35.458Z"
   },
   {
    "duration": 1367,
    "start_time": "2022-10-10T01:01:35.478Z"
   },
   {
    "duration": 10,
    "start_time": "2022-10-10T01:01:36.847Z"
   },
   {
    "duration": 9,
    "start_time": "2022-10-10T01:01:36.858Z"
   },
   {
    "duration": 10,
    "start_time": "2022-10-10T01:01:36.869Z"
   },
   {
    "duration": 11,
    "start_time": "2022-10-10T01:01:36.881Z"
   },
   {
    "duration": 9,
    "start_time": "2022-10-10T01:01:36.894Z"
   },
   {
    "duration": 12,
    "start_time": "2022-10-10T01:01:36.905Z"
   },
   {
    "duration": 3,
    "start_time": "2022-10-10T01:01:36.919Z"
   },
   {
    "duration": 35,
    "start_time": "2022-10-10T01:01:36.924Z"
   },
   {
    "duration": 1879308,
    "start_time": "2022-10-10T01:01:36.961Z"
   },
   {
    "duration": 3287,
    "start_time": "2022-10-10T01:35:15.971Z"
   },
   {
    "duration": 52,
    "start_time": "2022-10-10T01:35:26.360Z"
   },
   {
    "duration": 131,
    "start_time": "2022-10-10T01:35:41.725Z"
   },
   {
    "duration": 5,
    "start_time": "2022-10-10T01:35:49.421Z"
   },
   {
    "duration": 1277236,
    "start_time": "2022-10-10T01:35:57.283Z"
   },
   {
    "duration": 5663,
    "start_time": "2022-10-10T02:08:05.875Z"
   },
   {
    "duration": 59,
    "start_time": "2022-10-10T02:08:21.002Z"
   },
   {
    "duration": 120,
    "start_time": "2022-10-10T02:08:34.910Z"
   },
   {
    "duration": 3,
    "start_time": "2022-10-10T02:08:38.338Z"
   },
   {
    "duration": 34,
    "start_time": "2022-10-10T02:08:41.002Z"
   },
   {
    "duration": 58376,
    "start_time": "2022-10-10T02:08:52.054Z"
   },
   {
    "duration": 936,
    "start_time": "2022-10-10T02:10:19.293Z"
   },
   {
    "duration": 311,
    "start_time": "2022-10-10T02:10:26.875Z"
   },
   {
    "duration": 121,
    "start_time": "2022-10-10T02:10:32.164Z"
   },
   {
    "duration": 42,
    "start_time": "2022-10-10T02:10:36.067Z"
   },
   {
    "duration": 56217,
    "start_time": "2022-10-10T02:10:39.592Z"
   },
   {
    "duration": 830,
    "start_time": "2022-10-10T02:11:58.045Z"
   },
   {
    "duration": 328,
    "start_time": "2022-10-10T02:12:03.343Z"
   },
   {
    "duration": 130,
    "start_time": "2022-10-10T02:12:28.462Z"
   },
   {
    "duration": 52,
    "start_time": "2022-10-10T02:12:33.185Z"
   },
   {
    "duration": 28,
    "start_time": "2022-10-10T02:13:42.550Z"
   },
   {
    "duration": 138,
    "start_time": "2022-10-10T02:14:00.555Z"
   },
   {
    "duration": 657,
    "start_time": "2022-10-10T23:03:34.652Z"
   },
   {
    "duration": 2827,
    "start_time": "2022-10-10T23:03:49.015Z"
   },
   {
    "duration": 737,
    "start_time": "2022-10-10T23:03:57.432Z"
   },
   {
    "duration": 104,
    "start_time": "2022-10-10T23:04:10.971Z"
   },
   {
    "duration": 3,
    "start_time": "2022-10-10T23:04:12.174Z"
   },
   {
    "duration": 4,
    "start_time": "2022-10-10T23:04:39.515Z"
   },
   {
    "duration": 37,
    "start_time": "2022-10-10T23:05:34.841Z"
   },
   {
    "duration": 21,
    "start_time": "2022-10-10T23:05:55.471Z"
   },
   {
    "duration": 13,
    "start_time": "2022-10-10T23:06:11.411Z"
   },
   {
    "duration": 6,
    "start_time": "2022-10-10T23:06:14.941Z"
   },
   {
    "duration": 5,
    "start_time": "2022-10-10T23:06:17.634Z"
   },
   {
    "duration": 60,
    "start_time": "2022-10-10T23:08:31.456Z"
   },
   {
    "duration": 10,
    "start_time": "2022-10-10T23:09:08.159Z"
   },
   {
    "duration": 9,
    "start_time": "2022-10-10T23:09:39.736Z"
   },
   {
    "duration": 8,
    "start_time": "2022-10-10T23:09:47.290Z"
   },
   {
    "duration": 9,
    "start_time": "2022-10-10T23:10:35.930Z"
   },
   {
    "duration": 9,
    "start_time": "2022-10-10T23:10:42.237Z"
   },
   {
    "duration": 4,
    "start_time": "2022-10-10T23:10:49.291Z"
   },
   {
    "duration": 9,
    "start_time": "2022-10-10T23:11:35.832Z"
   },
   {
    "duration": 6,
    "start_time": "2022-10-10T23:11:56.290Z"
   },
   {
    "duration": 14,
    "start_time": "2022-10-10T23:12:03.778Z"
   },
   {
    "duration": 125,
    "start_time": "2022-10-10T23:14:14.962Z"
   },
   {
    "duration": 3,
    "start_time": "2022-10-10T23:15:16.836Z"
   },
   {
    "duration": 86286,
    "start_time": "2022-10-10T23:15:35.398Z"
   },
   {
    "duration": 11,
    "start_time": "2022-10-10T23:23:45.452Z"
   },
   {
    "duration": 3,
    "start_time": "2022-10-10T23:23:51.150Z"
   },
   {
    "duration": 88766,
    "start_time": "2022-10-10T23:23:51.821Z"
   },
   {
    "duration": 4,
    "start_time": "2022-10-10T23:25:46.944Z"
   },
   {
    "duration": 104735,
    "start_time": "2022-10-10T23:25:47.542Z"
   },
   {
    "duration": 3,
    "start_time": "2022-10-10T23:28:49.457Z"
   },
   {
    "duration": 330,
    "start_time": "2022-10-10T23:29:15.801Z"
   },
   {
    "duration": 3,
    "start_time": "2022-10-10T23:29:27.645Z"
   },
   {
    "duration": 457,
    "start_time": "2022-10-10T23:29:28.630Z"
   },
   {
    "duration": 23,
    "start_time": "2022-10-10T23:34:41.566Z"
   },
   {
    "duration": 391,
    "start_time": "2022-10-10T23:35:29.943Z"
   },
   {
    "duration": 10,
    "start_time": "2022-10-10T23:36:24.348Z"
   },
   {
    "duration": 24,
    "start_time": "2022-10-10T23:36:28.111Z"
   },
   {
    "duration": 665,
    "start_time": "2022-10-10T23:37:11.324Z"
   },
   {
    "duration": 15,
    "start_time": "2022-10-10T23:37:55.009Z"
   },
   {
    "duration": 18,
    "start_time": "2022-10-10T23:37:59.416Z"
   },
   {
    "duration": 106,
    "start_time": "2022-10-10T23:38:54.989Z"
   },
   {
    "duration": 5,
    "start_time": "2022-10-10T23:39:14.343Z"
   },
   {
    "duration": 8,
    "start_time": "2022-10-10T23:39:39.979Z"
   },
   {
    "duration": 4,
    "start_time": "2022-10-10T23:39:56.391Z"
   },
   {
    "duration": 7,
    "start_time": "2022-10-10T23:40:32.963Z"
   },
   {
    "duration": 17,
    "start_time": "2022-10-10T23:40:45.077Z"
   },
   {
    "duration": 13,
    "start_time": "2022-10-10T23:40:48.214Z"
   },
   {
    "duration": 41,
    "start_time": "2022-10-10T23:40:53.214Z"
   },
   {
    "duration": 17,
    "start_time": "2022-10-10T23:40:57.172Z"
   },
   {
    "duration": 12,
    "start_time": "2022-10-10T23:41:43.682Z"
   },
   {
    "duration": 17,
    "start_time": "2022-10-10T23:42:01.176Z"
   },
   {
    "duration": 4,
    "start_time": "2022-10-10T23:42:08.196Z"
   },
   {
    "duration": 21,
    "start_time": "2022-10-10T23:54:05.703Z"
   },
   {
    "duration": 21,
    "start_time": "2022-10-10T23:54:08.126Z"
   },
   {
    "duration": 6,
    "start_time": "2022-10-11T00:00:18.510Z"
   },
   {
    "duration": 9,
    "start_time": "2022-10-11T00:00:26.030Z"
   },
   {
    "duration": 4,
    "start_time": "2022-10-11T00:01:25.950Z"
   },
   {
    "duration": 12,
    "start_time": "2022-10-11T01:39:38.672Z"
   },
   {
    "duration": 33,
    "start_time": "2022-10-11T01:39:43.887Z"
   },
   {
    "duration": 21,
    "start_time": "2022-10-11T01:39:49.165Z"
   },
   {
    "duration": 210,
    "start_time": "2022-10-11T01:41:45.983Z"
   },
   {
    "duration": 144,
    "start_time": "2022-10-11T01:42:55.742Z"
   },
   {
    "duration": 155,
    "start_time": "2022-10-11T01:45:34.323Z"
   },
   {
    "duration": 8,
    "start_time": "2022-10-11T01:45:46.338Z"
   },
   {
    "duration": 138,
    "start_time": "2022-10-11T01:45:52.883Z"
   },
   {
    "duration": 148,
    "start_time": "2022-10-11T01:46:47.267Z"
   },
   {
    "duration": 4,
    "start_time": "2022-10-11T01:49:27.660Z"
   },
   {
    "duration": 4,
    "start_time": "2022-10-11T01:50:04.466Z"
   },
   {
    "duration": 206,
    "start_time": "2022-10-11T01:50:06.627Z"
   },
   {
    "duration": 3,
    "start_time": "2022-10-11T01:50:16.389Z"
   },
   {
    "duration": 326,
    "start_time": "2022-10-11T01:50:20.862Z"
   },
   {
    "duration": 593,
    "start_time": "2022-10-11T01:51:17.393Z"
   },
   {
    "duration": 23,
    "start_time": "2022-10-11T01:55:01.414Z"
   },
   {
    "duration": 2,
    "start_time": "2022-10-11T01:56:14.276Z"
   },
   {
    "duration": 11,
    "start_time": "2022-10-11T01:58:03.795Z"
   },
   {
    "duration": 884,
    "start_time": "2022-10-11T02:01:37.407Z"
   },
   {
    "duration": 5,
    "start_time": "2022-10-11T02:04:04.885Z"
   },
   {
    "duration": 4,
    "start_time": "2022-10-11T02:04:12.133Z"
   },
   {
    "duration": 3,
    "start_time": "2022-10-11T02:04:23.716Z"
   },
   {
    "duration": 777,
    "start_time": "2022-10-11T02:04:50.585Z"
   },
   {
    "duration": 772,
    "start_time": "2022-10-11T02:05:08.950Z"
   },
   {
    "duration": 711,
    "start_time": "2022-10-11T02:05:15.119Z"
   },
   {
    "duration": 890,
    "start_time": "2022-10-11T02:05:21.561Z"
   },
   {
    "duration": 4,
    "start_time": "2022-10-11T02:06:15.227Z"
   },
   {
    "duration": 4,
    "start_time": "2022-10-11T02:06:43.813Z"
   },
   {
    "duration": 3,
    "start_time": "2022-10-11T02:07:45.808Z"
   },
   {
    "duration": 9,
    "start_time": "2022-10-11T02:07:45.816Z"
   },
   {
    "duration": 107,
    "start_time": "2022-10-11T02:07:45.826Z"
   },
   {
    "duration": 3,
    "start_time": "2022-10-11T02:07:45.935Z"
   },
   {
    "duration": 14,
    "start_time": "2022-10-11T02:07:45.941Z"
   },
   {
    "duration": 11,
    "start_time": "2022-10-11T02:07:45.957Z"
   },
   {
    "duration": 35,
    "start_time": "2022-10-11T02:07:45.969Z"
   },
   {
    "duration": 478,
    "start_time": "2022-10-11T02:07:46.007Z"
   },
   {
    "duration": 19,
    "start_time": "2022-10-11T02:07:46.486Z"
   },
   {
    "duration": 14,
    "start_time": "2022-10-11T02:07:46.520Z"
   },
   {
    "duration": 10,
    "start_time": "2022-10-11T02:07:46.536Z"
   },
   {
    "duration": 6,
    "start_time": "2022-10-11T02:07:46.547Z"
   },
   {
    "duration": 26,
    "start_time": "2022-10-11T02:07:46.555Z"
   },
   {
    "duration": 438,
    "start_time": "2022-10-11T02:07:46.582Z"
   },
   {
    "duration": 11,
    "start_time": "2022-10-11T02:07:47.022Z"
   },
   {
    "duration": 26,
    "start_time": "2022-10-11T02:07:47.035Z"
   },
   {
    "duration": 726,
    "start_time": "2022-10-11T02:07:47.062Z"
   },
   {
    "duration": 15,
    "start_time": "2022-10-11T02:07:47.790Z"
   },
   {
    "duration": 20,
    "start_time": "2022-10-11T02:07:47.821Z"
   },
   {
    "duration": 122,
    "start_time": "2022-10-11T02:07:47.843Z"
   },
   {
    "duration": 5,
    "start_time": "2022-10-11T02:07:47.967Z"
   },
   {
    "duration": 20,
    "start_time": "2022-10-11T02:07:47.974Z"
   },
   {
    "duration": 12,
    "start_time": "2022-10-11T02:07:47.996Z"
   },
   {
    "duration": 16,
    "start_time": "2022-10-11T02:07:48.010Z"
   },
   {
    "duration": 17,
    "start_time": "2022-10-11T02:07:48.029Z"
   },
   {
    "duration": 12,
    "start_time": "2022-10-11T02:07:48.047Z"
   },
   {
    "duration": 59,
    "start_time": "2022-10-11T02:07:48.061Z"
   },
   {
    "duration": 16,
    "start_time": "2022-10-11T02:07:48.123Z"
   },
   {
    "duration": 37,
    "start_time": "2022-10-11T02:07:48.140Z"
   },
   {
    "duration": 26,
    "start_time": "2022-10-11T02:07:48.178Z"
   },
   {
    "duration": 13,
    "start_time": "2022-10-11T02:07:48.206Z"
   },
   {
    "duration": 22,
    "start_time": "2022-10-11T02:07:48.221Z"
   },
   {
    "duration": 35,
    "start_time": "2022-10-11T02:07:48.245Z"
   },
   {
    "duration": 6,
    "start_time": "2022-10-11T02:07:48.282Z"
   },
   {
    "duration": 37,
    "start_time": "2022-10-11T02:07:48.290Z"
   },
   {
    "duration": 9,
    "start_time": "2022-10-11T02:07:48.329Z"
   },
   {
    "duration": 36,
    "start_time": "2022-10-11T02:07:48.340Z"
   },
   {
    "duration": 7,
    "start_time": "2022-10-11T02:07:48.378Z"
   },
   {
    "duration": 10,
    "start_time": "2022-10-11T02:07:48.387Z"
   },
   {
    "duration": 984,
    "start_time": "2022-10-11T02:07:48.399Z"
   },
   {
    "duration": 4,
    "start_time": "2022-10-11T02:07:49.385Z"
   },
   {
    "duration": 19,
    "start_time": "2022-10-11T02:07:49.391Z"
   },
   {
    "duration": 6,
    "start_time": "2022-10-11T02:07:49.412Z"
   },
   {
    "duration": 2453,
    "start_time": "2022-10-11T02:07:49.419Z"
   },
   {
    "duration": 798,
    "start_time": "2022-10-11T02:07:51.874Z"
   },
   {
    "duration": 716,
    "start_time": "2022-10-11T02:07:52.673Z"
   },
   {
    "duration": 744,
    "start_time": "2022-10-11T02:07:53.391Z"
   },
   {
    "duration": 5,
    "start_time": "2022-10-11T02:08:00.593Z"
   },
   {
    "duration": 32,
    "start_time": "2022-10-11T02:10:51.793Z"
   },
   {
    "duration": 464,
    "start_time": "2022-10-11T02:25:49.756Z"
   },
   {
    "duration": 274,
    "start_time": "2022-10-11T02:25:53.534Z"
   },
   {
    "duration": 3400,
    "start_time": "2022-10-11T02:42:43.367Z"
   },
   {
    "duration": 33514,
    "start_time": "2022-10-11T02:44:39.867Z"
   },
   {
    "duration": 3497,
    "start_time": "2022-10-11T02:54:43.836Z"
   },
   {
    "duration": 3400,
    "start_time": "2022-10-11T02:55:27.977Z"
   },
   {
    "duration": 3527,
    "start_time": "2022-10-11T02:57:25.481Z"
   },
   {
    "duration": 3327,
    "start_time": "2022-10-11T02:57:48.462Z"
   },
   {
    "duration": 13,
    "start_time": "2022-10-11T03:00:12.570Z"
   },
   {
    "duration": 2553,
    "start_time": "2022-10-11T03:01:25.183Z"
   },
   {
    "duration": 2634,
    "start_time": "2022-10-11T03:02:43.929Z"
   },
   {
    "duration": 3408,
    "start_time": "2022-10-11T03:02:53.922Z"
   },
   {
    "duration": 3512,
    "start_time": "2022-10-11T03:03:47.436Z"
   },
   {
    "duration": 5,
    "start_time": "2022-10-11T03:20:28.259Z"
   },
   {
    "duration": 3,
    "start_time": "2022-10-11T03:24:33.926Z"
   },
   {
    "duration": 6,
    "start_time": "2022-10-11T03:24:38.181Z"
   },
   {
    "duration": 6,
    "start_time": "2022-10-11T03:31:29.714Z"
   },
   {
    "duration": 6,
    "start_time": "2022-10-11T03:31:42.813Z"
   },
   {
    "duration": 9,
    "start_time": "2022-10-11T03:34:24.648Z"
   },
   {
    "duration": 6,
    "start_time": "2022-10-11T03:35:09.799Z"
   },
   {
    "duration": 9,
    "start_time": "2022-10-11T03:35:46.047Z"
   },
   {
    "duration": 3,
    "start_time": "2022-10-11T03:36:36.129Z"
   },
   {
    "duration": 5,
    "start_time": "2022-10-11T03:36:43.910Z"
   },
   {
    "duration": 820150,
    "start_time": "2022-10-11T04:52:03.367Z"
   },
   {
    "duration": 35,
    "start_time": "2022-10-11T17:39:59.492Z"
   },
   {
    "duration": 5,
    "start_time": "2022-10-11T17:56:42.198Z"
   },
   {
    "duration": 5,
    "start_time": "2022-10-11T17:59:36.416Z"
   },
   {
    "duration": 3,
    "start_time": "2022-10-11T18:31:02.522Z"
   },
   {
    "duration": 3,
    "start_time": "2022-10-11T18:31:44.197Z"
   },
   {
    "duration": 3,
    "start_time": "2022-10-11T18:32:19.344Z"
   },
   {
    "duration": 3,
    "start_time": "2022-10-11T18:32:37.781Z"
   },
   {
    "duration": 8,
    "start_time": "2022-10-11T18:33:38.829Z"
   },
   {
    "duration": 859633,
    "start_time": "2022-10-11T18:34:56.239Z"
   },
   {
    "duration": 3,
    "start_time": "2022-10-11T18:50:58.692Z"
   },
   {
    "duration": 3,
    "start_time": "2022-10-11T18:50:59.793Z"
   },
   {
    "duration": 3,
    "start_time": "2022-10-11T18:51:01.206Z"
   },
   {
    "duration": 4,
    "start_time": "2022-10-11T18:51:04.187Z"
   },
   {
    "duration": 33,
    "start_time": "2022-10-11T18:51:07.968Z"
   },
   {
    "duration": 70923,
    "start_time": "2022-10-11T18:51:28.699Z"
   },
   {
    "duration": 3,
    "start_time": "2022-10-11T18:53:20.808Z"
   },
   {
    "duration": 3,
    "start_time": "2022-10-11T18:53:21.868Z"
   },
   {
    "duration": 3,
    "start_time": "2022-10-11T18:53:22.700Z"
   },
   {
    "duration": 33,
    "start_time": "2022-10-11T18:53:25.938Z"
   },
   {
    "duration": 62768,
    "start_time": "2022-10-11T18:53:29.546Z"
   },
   {
    "duration": 3,
    "start_time": "2022-10-11T18:55:13.979Z"
   },
   {
    "duration": 3,
    "start_time": "2022-10-11T18:55:15.570Z"
   },
   {
    "duration": 3,
    "start_time": "2022-10-11T18:55:17.681Z"
   },
   {
    "duration": 46,
    "start_time": "2022-10-11T18:55:21.131Z"
   },
   {
    "duration": 60,
    "start_time": "2022-10-11T18:56:17.393Z"
   },
   {
    "duration": 169,
    "start_time": "2022-10-11T19:03:34.470Z"
   },
   {
    "duration": 23,
    "start_time": "2022-10-11T19:07:03.296Z"
   },
   {
    "duration": 136,
    "start_time": "2022-10-11T19:07:28.221Z"
   },
   {
    "duration": 1557337,
    "start_time": "2022-10-11T19:09:27.407Z"
   },
   {
    "duration": 15,
    "start_time": "2022-10-11T19:41:30.722Z"
   },
   {
    "duration": 31,
    "start_time": "2022-10-11T19:41:39.622Z"
   },
   {
    "duration": 117,
    "start_time": "2022-10-11T19:41:56.299Z"
   },
   {
    "duration": 4,
    "start_time": "2022-10-11T19:44:26.820Z"
   },
   {
    "duration": 1552,
    "start_time": "2022-10-11T19:44:26.826Z"
   },
   {
    "duration": 105,
    "start_time": "2022-10-11T19:44:28.380Z"
   },
   {
    "duration": 4,
    "start_time": "2022-10-11T19:44:28.486Z"
   },
   {
    "duration": 8,
    "start_time": "2022-10-11T19:44:28.492Z"
   },
   {
    "duration": 19,
    "start_time": "2022-10-11T19:44:28.501Z"
   },
   {
    "duration": 39,
    "start_time": "2022-10-11T19:44:28.522Z"
   },
   {
    "duration": 636,
    "start_time": "2022-10-11T19:44:28.563Z"
   },
   {
    "duration": 22,
    "start_time": "2022-10-11T19:44:29.201Z"
   },
   {
    "duration": 17,
    "start_time": "2022-10-11T19:44:29.225Z"
   },
   {
    "duration": 8,
    "start_time": "2022-10-11T19:44:29.245Z"
   },
   {
    "duration": 6,
    "start_time": "2022-10-11T19:44:29.254Z"
   },
   {
    "duration": 32,
    "start_time": "2022-10-11T19:44:29.261Z"
   },
   {
    "duration": 432,
    "start_time": "2022-10-11T19:44:29.295Z"
   },
   {
    "duration": 10,
    "start_time": "2022-10-11T19:44:29.729Z"
   },
   {
    "duration": 29,
    "start_time": "2022-10-11T19:44:29.740Z"
   },
   {
    "duration": 800,
    "start_time": "2022-10-11T19:44:29.771Z"
   },
   {
    "duration": 15,
    "start_time": "2022-10-11T19:44:30.573Z"
   },
   {
    "duration": 38,
    "start_time": "2022-10-11T19:44:30.590Z"
   },
   {
    "duration": 126,
    "start_time": "2022-10-11T19:44:30.630Z"
   },
   {
    "duration": 5,
    "start_time": "2022-10-11T19:44:30.758Z"
   },
   {
    "duration": 41,
    "start_time": "2022-10-11T19:44:30.765Z"
   },
   {
    "duration": 39,
    "start_time": "2022-10-11T19:44:30.808Z"
   },
   {
    "duration": 31,
    "start_time": "2022-10-11T19:44:30.849Z"
   },
   {
    "duration": 39,
    "start_time": "2022-10-11T19:44:30.882Z"
   },
   {
    "duration": 17,
    "start_time": "2022-10-11T19:44:30.922Z"
   },
   {
    "duration": 60,
    "start_time": "2022-10-11T19:44:30.940Z"
   },
   {
    "duration": 18,
    "start_time": "2022-10-11T19:44:31.001Z"
   },
   {
    "duration": 55,
    "start_time": "2022-10-11T19:44:31.023Z"
   },
   {
    "duration": 28,
    "start_time": "2022-10-11T19:44:31.079Z"
   },
   {
    "duration": 14,
    "start_time": "2022-10-11T19:44:31.109Z"
   },
   {
    "duration": 31,
    "start_time": "2022-10-11T19:44:31.124Z"
   },
   {
    "duration": 67,
    "start_time": "2022-10-11T19:44:31.156Z"
   },
   {
    "duration": 30,
    "start_time": "2022-10-11T19:44:31.225Z"
   },
   {
    "duration": 26,
    "start_time": "2022-10-11T19:44:31.257Z"
   },
   {
    "duration": 26,
    "start_time": "2022-10-11T19:44:31.284Z"
   },
   {
    "duration": 40,
    "start_time": "2022-10-11T19:44:31.311Z"
   },
   {
    "duration": 14,
    "start_time": "2022-10-11T19:44:31.353Z"
   },
   {
    "duration": 23,
    "start_time": "2022-10-11T19:44:31.368Z"
   },
   {
    "duration": 1015,
    "start_time": "2022-10-11T19:44:31.393Z"
   },
   {
    "duration": 3,
    "start_time": "2022-10-11T19:44:32.410Z"
   },
   {
    "duration": 10,
    "start_time": "2022-10-11T19:44:32.421Z"
   },
   {
    "duration": 5,
    "start_time": "2022-10-11T19:44:32.432Z"
   },
   {
    "duration": 813,
    "start_time": "2022-10-11T19:44:32.439Z"
   },
   {
    "duration": 851,
    "start_time": "2022-10-11T19:44:33.254Z"
   },
   {
    "duration": 688,
    "start_time": "2022-10-11T19:44:34.122Z"
   },
   {
    "duration": 831,
    "start_time": "2022-10-11T19:44:34.820Z"
   },
   {
    "duration": 5,
    "start_time": "2022-10-11T19:44:35.653Z"
   },
   {
    "duration": 319,
    "start_time": "2022-10-11T19:44:35.660Z"
   },
   {
    "duration": 3671,
    "start_time": "2022-10-11T19:44:35.980Z"
   },
   {
    "duration": 5,
    "start_time": "2022-10-11T19:44:39.653Z"
   },
   {
    "duration": 12,
    "start_time": "2022-10-11T19:44:39.660Z"
   },
   {
    "duration": 12,
    "start_time": "2022-10-11T19:44:39.673Z"
   },
   {
    "duration": 11,
    "start_time": "2022-10-11T19:44:39.687Z"
   },
   {
    "duration": 6,
    "start_time": "2022-10-11T19:44:39.700Z"
   },
   {
    "duration": 13,
    "start_time": "2022-10-11T19:44:39.707Z"
   },
   {
    "duration": 7,
    "start_time": "2022-10-11T19:44:39.722Z"
   },
   {
    "duration": 11,
    "start_time": "2022-10-11T19:44:39.730Z"
   },
   {
    "duration": 1557560,
    "start_time": "2022-10-11T19:44:39.742Z"
   },
   {
    "duration": 3,
    "start_time": "2022-10-11T20:10:37.304Z"
   },
   {
    "duration": 10,
    "start_time": "2022-10-11T20:10:37.308Z"
   },
   {
    "duration": 14,
    "start_time": "2022-10-11T20:10:37.319Z"
   },
   {
    "duration": 11,
    "start_time": "2022-10-11T20:10:37.336Z"
   },
   {
    "duration": 1380558,
    "start_time": "2022-10-11T20:10:37.349Z"
   },
   {
    "duration": 3,
    "start_time": "2022-10-11T20:33:37.908Z"
   },
   {
    "duration": 6,
    "start_time": "2022-10-11T20:33:37.913Z"
   },
   {
    "duration": 8,
    "start_time": "2022-10-11T20:33:37.921Z"
   },
   {
    "duration": 4,
    "start_time": "2022-10-11T20:33:37.931Z"
   },
   {
    "duration": 38,
    "start_time": "2022-10-11T20:33:37.937Z"
   },
   {
    "duration": 63991,
    "start_time": "2022-10-11T20:33:37.976Z"
   },
   {
    "duration": 53,
    "start_time": "2022-10-11T20:34:41.969Z"
   },
   {
    "duration": 10,
    "start_time": "2022-10-11T20:34:42.024Z"
   },
   {
    "duration": 14,
    "start_time": "2022-10-11T20:34:42.035Z"
   },
   {
    "duration": 30,
    "start_time": "2022-10-11T20:34:42.050Z"
   },
   {
    "duration": 61231,
    "start_time": "2022-10-11T20:34:42.081Z"
   },
   {
    "duration": 7,
    "start_time": "2022-10-11T20:35:43.314Z"
   },
   {
    "duration": 31,
    "start_time": "2022-10-11T20:35:43.323Z"
   },
   {
    "duration": 19,
    "start_time": "2022-10-11T20:35:43.356Z"
   },
   {
    "duration": 64,
    "start_time": "2022-10-11T20:35:43.377Z"
   },
   {
    "duration": 27,
    "start_time": "2022-10-11T20:35:43.443Z"
   },
   {
    "duration": 167,
    "start_time": "2022-10-11T20:35:43.472Z"
   },
   {
    "duration": 4,
    "start_time": "2022-10-12T21:45:28.678Z"
   },
   {
    "duration": 1296,
    "start_time": "2022-10-12T21:45:28.683Z"
   },
   {
    "duration": 0,
    "start_time": "2022-10-12T21:45:29.982Z"
   },
   {
    "duration": 0,
    "start_time": "2022-10-12T21:45:29.983Z"
   },
   {
    "duration": 0,
    "start_time": "2022-10-12T21:45:29.984Z"
   },
   {
    "duration": 0,
    "start_time": "2022-10-12T21:45:29.985Z"
   },
   {
    "duration": 0,
    "start_time": "2022-10-12T21:45:29.986Z"
   },
   {
    "duration": 0,
    "start_time": "2022-10-12T21:45:29.987Z"
   },
   {
    "duration": 0,
    "start_time": "2022-10-12T21:45:29.988Z"
   },
   {
    "duration": 0,
    "start_time": "2022-10-12T21:45:29.988Z"
   },
   {
    "duration": 0,
    "start_time": "2022-10-12T21:45:29.989Z"
   },
   {
    "duration": 0,
    "start_time": "2022-10-12T21:45:29.990Z"
   },
   {
    "duration": 0,
    "start_time": "2022-10-12T21:45:30.005Z"
   },
   {
    "duration": 0,
    "start_time": "2022-10-12T21:45:30.006Z"
   },
   {
    "duration": 0,
    "start_time": "2022-10-12T21:45:30.007Z"
   },
   {
    "duration": 0,
    "start_time": "2022-10-12T21:45:30.008Z"
   },
   {
    "duration": 0,
    "start_time": "2022-10-12T21:45:30.009Z"
   },
   {
    "duration": 0,
    "start_time": "2022-10-12T21:45:30.010Z"
   },
   {
    "duration": 0,
    "start_time": "2022-10-12T21:45:30.011Z"
   },
   {
    "duration": 0,
    "start_time": "2022-10-12T21:45:30.012Z"
   },
   {
    "duration": 0,
    "start_time": "2022-10-12T21:45:30.013Z"
   },
   {
    "duration": 0,
    "start_time": "2022-10-12T21:45:30.014Z"
   },
   {
    "duration": 0,
    "start_time": "2022-10-12T21:45:30.015Z"
   },
   {
    "duration": 0,
    "start_time": "2022-10-12T21:45:30.016Z"
   },
   {
    "duration": 0,
    "start_time": "2022-10-12T21:45:30.017Z"
   },
   {
    "duration": 0,
    "start_time": "2022-10-12T21:45:30.018Z"
   },
   {
    "duration": 0,
    "start_time": "2022-10-12T21:45:30.019Z"
   },
   {
    "duration": 0,
    "start_time": "2022-10-12T21:45:30.020Z"
   },
   {
    "duration": 0,
    "start_time": "2022-10-12T21:45:30.021Z"
   },
   {
    "duration": 0,
    "start_time": "2022-10-12T21:45:30.022Z"
   },
   {
    "duration": 0,
    "start_time": "2022-10-12T21:45:30.023Z"
   },
   {
    "duration": 0,
    "start_time": "2022-10-12T21:45:30.024Z"
   },
   {
    "duration": 0,
    "start_time": "2022-10-12T21:45:30.025Z"
   },
   {
    "duration": 0,
    "start_time": "2022-10-12T21:45:30.026Z"
   },
   {
    "duration": 0,
    "start_time": "2022-10-12T21:45:30.027Z"
   },
   {
    "duration": 0,
    "start_time": "2022-10-12T21:45:30.028Z"
   },
   {
    "duration": 0,
    "start_time": "2022-10-12T21:45:30.029Z"
   },
   {
    "duration": 0,
    "start_time": "2022-10-12T21:45:30.030Z"
   },
   {
    "duration": 0,
    "start_time": "2022-10-12T21:45:30.031Z"
   },
   {
    "duration": 0,
    "start_time": "2022-10-12T21:45:30.032Z"
   },
   {
    "duration": 0,
    "start_time": "2022-10-12T21:45:30.033Z"
   },
   {
    "duration": 0,
    "start_time": "2022-10-12T21:45:30.034Z"
   },
   {
    "duration": 0,
    "start_time": "2022-10-12T21:45:30.035Z"
   },
   {
    "duration": 0,
    "start_time": "2022-10-12T21:45:30.036Z"
   },
   {
    "duration": 0,
    "start_time": "2022-10-12T21:45:30.039Z"
   },
   {
    "duration": 0,
    "start_time": "2022-10-12T21:45:30.040Z"
   },
   {
    "duration": 0,
    "start_time": "2022-10-12T21:45:30.041Z"
   },
   {
    "duration": 0,
    "start_time": "2022-10-12T21:45:30.042Z"
   },
   {
    "duration": 0,
    "start_time": "2022-10-12T21:45:30.105Z"
   },
   {
    "duration": 0,
    "start_time": "2022-10-12T21:45:30.106Z"
   },
   {
    "duration": 0,
    "start_time": "2022-10-12T21:45:30.107Z"
   },
   {
    "duration": 0,
    "start_time": "2022-10-12T21:45:30.108Z"
   },
   {
    "duration": 0,
    "start_time": "2022-10-12T21:45:30.109Z"
   },
   {
    "duration": 0,
    "start_time": "2022-10-12T21:45:30.110Z"
   },
   {
    "duration": 0,
    "start_time": "2022-10-12T21:45:30.111Z"
   },
   {
    "duration": 0,
    "start_time": "2022-10-12T21:45:30.112Z"
   },
   {
    "duration": 0,
    "start_time": "2022-10-12T21:45:30.113Z"
   },
   {
    "duration": 0,
    "start_time": "2022-10-12T21:45:30.114Z"
   },
   {
    "duration": 0,
    "start_time": "2022-10-12T21:45:30.115Z"
   },
   {
    "duration": 0,
    "start_time": "2022-10-12T21:45:30.116Z"
   },
   {
    "duration": 0,
    "start_time": "2022-10-12T21:45:30.117Z"
   },
   {
    "duration": 0,
    "start_time": "2022-10-12T21:45:30.118Z"
   },
   {
    "duration": 0,
    "start_time": "2022-10-12T21:45:30.119Z"
   },
   {
    "duration": 0,
    "start_time": "2022-10-12T21:45:30.120Z"
   },
   {
    "duration": 0,
    "start_time": "2022-10-12T21:45:30.121Z"
   },
   {
    "duration": 0,
    "start_time": "2022-10-12T21:45:30.122Z"
   },
   {
    "duration": 0,
    "start_time": "2022-10-12T21:45:30.123Z"
   },
   {
    "duration": 0,
    "start_time": "2022-10-12T21:45:30.123Z"
   },
   {
    "duration": 0,
    "start_time": "2022-10-12T21:45:30.124Z"
   },
   {
    "duration": 0,
    "start_time": "2022-10-12T21:45:30.125Z"
   },
   {
    "duration": 0,
    "start_time": "2022-10-12T21:45:30.126Z"
   },
   {
    "duration": 0,
    "start_time": "2022-10-12T21:45:30.127Z"
   },
   {
    "duration": 0,
    "start_time": "2022-10-12T21:45:30.128Z"
   },
   {
    "duration": 0,
    "start_time": "2022-10-12T21:45:30.129Z"
   },
   {
    "duration": 0,
    "start_time": "2022-10-12T21:45:30.130Z"
   },
   {
    "duration": 0,
    "start_time": "2022-10-12T21:45:30.131Z"
   },
   {
    "duration": 0,
    "start_time": "2022-10-12T21:45:30.132Z"
   },
   {
    "duration": 0,
    "start_time": "2022-10-12T21:45:30.133Z"
   },
   {
    "duration": 0,
    "start_time": "2022-10-12T21:45:30.133Z"
   },
   {
    "duration": 0,
    "start_time": "2022-10-12T21:45:30.134Z"
   },
   {
    "duration": 0,
    "start_time": "2022-10-12T21:45:30.135Z"
   },
   {
    "duration": 2893,
    "start_time": "2022-10-12T21:47:37.425Z"
   },
   {
    "duration": 1320,
    "start_time": "2022-10-12T21:47:40.321Z"
   },
   {
    "duration": 405,
    "start_time": "2022-10-12T21:47:41.643Z"
   },
   {
    "duration": 3,
    "start_time": "2022-10-12T21:47:42.050Z"
   },
   {
    "duration": 7,
    "start_time": "2022-10-12T21:47:42.054Z"
   },
   {
    "duration": 5,
    "start_time": "2022-10-12T21:47:42.062Z"
   },
   {
    "duration": 32,
    "start_time": "2022-10-12T21:47:42.068Z"
   },
   {
    "duration": 471,
    "start_time": "2022-10-12T21:47:42.102Z"
   },
   {
    "duration": 17,
    "start_time": "2022-10-12T21:47:42.574Z"
   },
   {
    "duration": 11,
    "start_time": "2022-10-12T21:47:42.604Z"
   },
   {
    "duration": 10,
    "start_time": "2022-10-12T21:47:42.617Z"
   },
   {
    "duration": 4,
    "start_time": "2022-10-12T21:47:42.628Z"
   },
   {
    "duration": 19,
    "start_time": "2022-10-12T21:47:42.634Z"
   },
   {
    "duration": 376,
    "start_time": "2022-10-12T21:47:42.654Z"
   },
   {
    "duration": 8,
    "start_time": "2022-10-12T21:47:43.032Z"
   },
   {
    "duration": 22,
    "start_time": "2022-10-12T21:47:43.041Z"
   },
   {
    "duration": 630,
    "start_time": "2022-10-12T21:47:43.064Z"
   },
   {
    "duration": 18,
    "start_time": "2022-10-12T21:47:43.696Z"
   },
   {
    "duration": 18,
    "start_time": "2022-10-12T21:47:43.716Z"
   },
   {
    "duration": 121,
    "start_time": "2022-10-12T21:47:43.735Z"
   },
   {
    "duration": 4,
    "start_time": "2022-10-12T21:47:43.858Z"
   },
   {
    "duration": 22,
    "start_time": "2022-10-12T21:47:43.863Z"
   },
   {
    "duration": 5,
    "start_time": "2022-10-12T21:47:43.886Z"
   },
   {
    "duration": 15,
    "start_time": "2022-10-12T21:47:43.892Z"
   },
   {
    "duration": 18,
    "start_time": "2022-10-12T21:47:43.909Z"
   },
   {
    "duration": 11,
    "start_time": "2022-10-12T21:47:43.929Z"
   },
   {
    "duration": 36,
    "start_time": "2022-10-12T21:47:43.942Z"
   },
   {
    "duration": 34,
    "start_time": "2022-10-12T21:47:43.983Z"
   },
   {
    "duration": 13,
    "start_time": "2022-10-12T21:47:44.019Z"
   },
   {
    "duration": 15,
    "start_time": "2022-10-12T21:47:44.034Z"
   },
   {
    "duration": 3,
    "start_time": "2022-10-12T21:47:44.051Z"
   },
   {
    "duration": 8,
    "start_time": "2022-10-12T21:47:44.056Z"
   },
   {
    "duration": 44,
    "start_time": "2022-10-12T21:47:44.066Z"
   },
   {
    "duration": 6,
    "start_time": "2022-10-12T21:47:44.111Z"
   },
   {
    "duration": 9,
    "start_time": "2022-10-12T21:47:44.118Z"
   },
   {
    "duration": 2,
    "start_time": "2022-10-12T21:47:44.128Z"
   },
   {
    "duration": 17,
    "start_time": "2022-10-12T21:47:44.132Z"
   },
   {
    "duration": 4,
    "start_time": "2022-10-12T21:47:44.151Z"
   },
   {
    "duration": 3,
    "start_time": "2022-10-12T21:47:44.157Z"
   },
   {
    "duration": 987,
    "start_time": "2022-10-12T21:47:44.162Z"
   },
   {
    "duration": 4,
    "start_time": "2022-10-12T21:47:45.151Z"
   },
   {
    "duration": 8,
    "start_time": "2022-10-12T21:47:45.156Z"
   },
   {
    "duration": 7,
    "start_time": "2022-10-12T21:47:45.166Z"
   },
   {
    "duration": 682,
    "start_time": "2022-10-12T21:47:45.175Z"
   },
   {
    "duration": 692,
    "start_time": "2022-10-12T21:47:45.859Z"
   },
   {
    "duration": 601,
    "start_time": "2022-10-12T21:47:46.552Z"
   },
   {
    "duration": 800,
    "start_time": "2022-10-12T21:47:47.154Z"
   },
   {
    "duration": 5,
    "start_time": "2022-10-12T21:47:47.955Z"
   },
   {
    "duration": 327,
    "start_time": "2022-10-12T21:47:47.961Z"
   },
   {
    "duration": 3066,
    "start_time": "2022-10-12T21:47:48.289Z"
   },
   {
    "duration": 4,
    "start_time": "2022-10-12T21:47:51.356Z"
   },
   {
    "duration": 7,
    "start_time": "2022-10-12T21:47:51.361Z"
   },
   {
    "duration": 9,
    "start_time": "2022-10-12T21:47:51.369Z"
   },
   {
    "duration": 8,
    "start_time": "2022-10-12T21:47:51.379Z"
   },
   {
    "duration": 5,
    "start_time": "2022-10-12T21:47:51.406Z"
   },
   {
    "duration": 11,
    "start_time": "2022-10-12T21:47:51.412Z"
   },
   {
    "duration": 6,
    "start_time": "2022-10-12T21:47:51.425Z"
   },
   {
    "duration": 7,
    "start_time": "2022-10-12T21:47:51.432Z"
   },
   {
    "duration": 1351668,
    "start_time": "2022-10-12T21:47:51.441Z"
   },
   {
    "duration": 3,
    "start_time": "2022-10-12T22:10:23.110Z"
   },
   {
    "duration": 7,
    "start_time": "2022-10-12T22:10:23.114Z"
   },
   {
    "duration": 6,
    "start_time": "2022-10-12T22:10:23.122Z"
   },
   {
    "duration": 7,
    "start_time": "2022-10-12T22:10:23.129Z"
   },
   {
    "duration": 1369554,
    "start_time": "2022-10-12T22:10:23.137Z"
   },
   {
    "duration": 3,
    "start_time": "2022-10-12T22:33:12.693Z"
   },
   {
    "duration": 7,
    "start_time": "2022-10-12T22:33:12.697Z"
   },
   {
    "duration": 7,
    "start_time": "2022-10-12T22:33:12.705Z"
   },
   {
    "duration": 5,
    "start_time": "2022-10-12T22:33:12.713Z"
   },
   {
    "duration": 35,
    "start_time": "2022-10-12T22:33:12.719Z"
   },
   {
    "duration": 47944,
    "start_time": "2022-10-12T22:33:12.755Z"
   },
   {
    "duration": 3,
    "start_time": "2022-10-12T22:34:00.705Z"
   },
   {
    "duration": 21,
    "start_time": "2022-10-12T22:34:00.709Z"
   },
   {
    "duration": 17,
    "start_time": "2022-10-12T22:34:00.732Z"
   },
   {
    "duration": 43,
    "start_time": "2022-10-12T22:34:00.751Z"
   },
   {
    "duration": 48817,
    "start_time": "2022-10-12T22:34:00.796Z"
   },
   {
    "duration": 3,
    "start_time": "2022-10-12T22:34:49.615Z"
   },
   {
    "duration": 9,
    "start_time": "2022-10-12T22:34:49.620Z"
   },
   {
    "duration": 6,
    "start_time": "2022-10-12T22:34:49.631Z"
   },
   {
    "duration": 43,
    "start_time": "2022-10-12T22:34:49.639Z"
   },
   {
    "duration": 42,
    "start_time": "2022-10-12T22:34:49.684Z"
   },
   {
    "duration": 122,
    "start_time": "2022-10-12T22:34:49.728Z"
   },
   {
    "duration": 1875,
    "start_time": "2022-10-13T01:12:33.591Z"
   },
   {
    "duration": 5,
    "start_time": "2022-10-13T01:12:35.469Z"
   },
   {
    "duration": 116,
    "start_time": "2022-10-13T01:12:35.475Z"
   },
   {
    "duration": 4,
    "start_time": "2022-10-13T01:12:35.593Z"
   },
   {
    "duration": 5,
    "start_time": "2022-10-13T01:12:35.599Z"
   },
   {
    "duration": 9,
    "start_time": "2022-10-13T01:12:35.606Z"
   },
   {
    "duration": 37,
    "start_time": "2022-10-13T01:12:35.617Z"
   },
   {
    "duration": 537,
    "start_time": "2022-10-13T01:12:35.656Z"
   },
   {
    "duration": 26,
    "start_time": "2022-10-13T01:12:36.195Z"
   },
   {
    "duration": 13,
    "start_time": "2022-10-13T01:12:36.223Z"
   },
   {
    "duration": 6,
    "start_time": "2022-10-13T01:12:36.237Z"
   },
   {
    "duration": 7,
    "start_time": "2022-10-13T01:12:36.245Z"
   },
   {
    "duration": 52,
    "start_time": "2022-10-13T01:12:36.253Z"
   },
   {
    "duration": 382,
    "start_time": "2022-10-13T01:12:36.307Z"
   },
   {
    "duration": 21,
    "start_time": "2022-10-13T01:12:36.691Z"
   },
   {
    "duration": 24,
    "start_time": "2022-10-13T01:12:36.714Z"
   },
   {
    "duration": 685,
    "start_time": "2022-10-13T01:12:36.740Z"
   },
   {
    "duration": 14,
    "start_time": "2022-10-13T01:12:37.427Z"
   },
   {
    "duration": 21,
    "start_time": "2022-10-13T01:12:37.443Z"
   },
   {
    "duration": 110,
    "start_time": "2022-10-13T01:12:37.466Z"
   },
   {
    "duration": 5,
    "start_time": "2022-10-13T01:12:37.578Z"
   },
   {
    "duration": 21,
    "start_time": "2022-10-13T01:12:37.585Z"
   },
   {
    "duration": 8,
    "start_time": "2022-10-13T01:12:37.608Z"
   },
   {
    "duration": 17,
    "start_time": "2022-10-13T01:12:37.617Z"
   },
   {
    "duration": 16,
    "start_time": "2022-10-13T01:12:37.636Z"
   },
   {
    "duration": 10,
    "start_time": "2022-10-13T01:12:37.653Z"
   },
   {
    "duration": 46,
    "start_time": "2022-10-13T01:12:37.665Z"
   },
   {
    "duration": 14,
    "start_time": "2022-10-13T01:12:37.714Z"
   },
   {
    "duration": 12,
    "start_time": "2022-10-13T01:12:37.729Z"
   },
   {
    "duration": 17,
    "start_time": "2022-10-13T01:12:37.743Z"
   },
   {
    "duration": 2,
    "start_time": "2022-10-13T01:12:37.761Z"
   },
   {
    "duration": 20,
    "start_time": "2022-10-13T01:12:37.765Z"
   },
   {
    "duration": 29,
    "start_time": "2022-10-13T01:12:37.786Z"
   },
   {
    "duration": 6,
    "start_time": "2022-10-13T01:12:37.816Z"
   },
   {
    "duration": 16,
    "start_time": "2022-10-13T01:12:37.823Z"
   },
   {
    "duration": 4,
    "start_time": "2022-10-13T01:12:37.841Z"
   },
   {
    "duration": 16,
    "start_time": "2022-10-13T01:12:37.846Z"
   },
   {
    "duration": 4,
    "start_time": "2022-10-13T01:12:37.863Z"
   },
   {
    "duration": 4,
    "start_time": "2022-10-13T01:12:37.868Z"
   },
   {
    "duration": 982,
    "start_time": "2022-10-13T01:12:37.873Z"
   },
   {
    "duration": 3,
    "start_time": "2022-10-13T01:12:38.857Z"
   },
   {
    "duration": 5,
    "start_time": "2022-10-13T01:12:38.862Z"
   },
   {
    "duration": 7,
    "start_time": "2022-10-13T01:12:38.869Z"
   },
   {
    "duration": 766,
    "start_time": "2022-10-13T01:12:38.877Z"
   },
   {
    "duration": 669,
    "start_time": "2022-10-13T01:12:39.645Z"
   },
   {
    "duration": 895,
    "start_time": "2022-10-13T01:12:40.316Z"
   },
   {
    "duration": 871,
    "start_time": "2022-10-13T01:12:41.212Z"
   },
   {
    "duration": 4,
    "start_time": "2022-10-13T01:12:42.085Z"
   },
   {
    "duration": 281,
    "start_time": "2022-10-13T01:12:42.090Z"
   },
   {
    "duration": 2963,
    "start_time": "2022-10-13T01:12:42.373Z"
   },
   {
    "duration": 4,
    "start_time": "2022-10-13T01:12:45.337Z"
   },
   {
    "duration": 7,
    "start_time": "2022-10-13T01:12:45.343Z"
   },
   {
    "duration": 11,
    "start_time": "2022-10-13T01:12:45.351Z"
   },
   {
    "duration": 10,
    "start_time": "2022-10-13T01:12:45.363Z"
   },
   {
    "duration": 5,
    "start_time": "2022-10-13T01:12:45.374Z"
   },
   {
    "duration": 26,
    "start_time": "2022-10-13T01:12:45.380Z"
   },
   {
    "duration": 2,
    "start_time": "2022-10-13T01:12:45.408Z"
   },
   {
    "duration": 8,
    "start_time": "2022-10-13T01:12:45.412Z"
   },
   {
    "duration": 1567346,
    "start_time": "2022-10-13T01:12:45.421Z"
   },
   {
    "duration": 3,
    "start_time": "2022-10-13T01:38:52.768Z"
   },
   {
    "duration": 16,
    "start_time": "2022-10-13T01:38:52.773Z"
   },
   {
    "duration": 13,
    "start_time": "2022-10-13T01:38:52.791Z"
   },
   {
    "duration": 19,
    "start_time": "2022-10-13T01:38:52.806Z"
   },
   {
    "duration": 1166014,
    "start_time": "2022-10-13T01:38:52.826Z"
   },
   {
    "duration": 2,
    "start_time": "2022-10-13T01:58:18.842Z"
   },
   {
    "duration": 15,
    "start_time": "2022-10-13T01:58:18.846Z"
   },
   {
    "duration": 9,
    "start_time": "2022-10-13T01:58:18.862Z"
   },
   {
    "duration": 7,
    "start_time": "2022-10-13T01:58:18.872Z"
   },
   {
    "duration": 31,
    "start_time": "2022-10-13T01:58:18.880Z"
   },
   {
    "duration": 49535,
    "start_time": "2022-10-13T01:58:18.913Z"
   },
   {
    "duration": 3,
    "start_time": "2022-10-13T01:59:08.450Z"
   },
   {
    "duration": 7,
    "start_time": "2022-10-13T01:59:08.454Z"
   },
   {
    "duration": 7,
    "start_time": "2022-10-13T01:59:08.462Z"
   },
   {
    "duration": 36,
    "start_time": "2022-10-13T01:59:08.471Z"
   },
   {
    "duration": 42620,
    "start_time": "2022-10-13T01:59:08.509Z"
   },
   {
    "duration": 3,
    "start_time": "2022-10-13T01:59:51.130Z"
   },
   {
    "duration": 14,
    "start_time": "2022-10-13T01:59:51.134Z"
   },
   {
    "duration": 8,
    "start_time": "2022-10-13T01:59:51.149Z"
   },
   {
    "duration": 13,
    "start_time": "2022-10-13T01:59:51.159Z"
   },
   {
    "duration": 41,
    "start_time": "2022-10-13T01:59:51.173Z"
   },
   {
    "duration": 109,
    "start_time": "2022-10-13T01:59:51.216Z"
   },
   {
    "duration": 104,
    "start_time": "2022-10-13T20:02:56.187Z"
   },
   {
    "duration": 3000,
    "start_time": "2022-10-15T03:09:01.045Z"
   },
   {
    "duration": 2735,
    "start_time": "2022-10-15T03:09:04.048Z"
   },
   {
    "duration": 169,
    "start_time": "2022-10-15T03:09:06.785Z"
   },
   {
    "duration": 3,
    "start_time": "2022-10-15T03:09:06.956Z"
   },
   {
    "duration": 8,
    "start_time": "2022-10-15T03:09:06.960Z"
   },
   {
    "duration": 10,
    "start_time": "2022-10-15T03:09:06.969Z"
   },
   {
    "duration": 32,
    "start_time": "2022-10-15T03:09:06.980Z"
   },
   {
    "duration": 542,
    "start_time": "2022-10-15T03:09:07.014Z"
   },
   {
    "duration": 18,
    "start_time": "2022-10-15T03:09:07.560Z"
   },
   {
    "duration": 12,
    "start_time": "2022-10-15T03:09:07.580Z"
   },
   {
    "duration": 7,
    "start_time": "2022-10-15T03:09:07.593Z"
   },
   {
    "duration": 21,
    "start_time": "2022-10-15T03:09:07.602Z"
   },
   {
    "duration": 27,
    "start_time": "2022-10-15T03:09:07.625Z"
   },
   {
    "duration": 414,
    "start_time": "2022-10-15T03:09:07.654Z"
   },
   {
    "duration": 12,
    "start_time": "2022-10-15T03:09:08.070Z"
   },
   {
    "duration": 41,
    "start_time": "2022-10-15T03:09:08.084Z"
   },
   {
    "duration": 685,
    "start_time": "2022-10-15T03:09:08.127Z"
   },
   {
    "duration": 25,
    "start_time": "2022-10-15T03:09:08.813Z"
   },
   {
    "duration": 36,
    "start_time": "2022-10-15T03:09:08.840Z"
   },
   {
    "duration": 133,
    "start_time": "2022-10-15T03:09:08.878Z"
   },
   {
    "duration": 17,
    "start_time": "2022-10-15T03:09:09.013Z"
   },
   {
    "duration": 22,
    "start_time": "2022-10-15T03:09:09.032Z"
   },
   {
    "duration": 7,
    "start_time": "2022-10-15T03:09:09.056Z"
   },
   {
    "duration": 14,
    "start_time": "2022-10-15T03:09:09.065Z"
   },
   {
    "duration": 22,
    "start_time": "2022-10-15T03:09:09.081Z"
   },
   {
    "duration": 19,
    "start_time": "2022-10-15T03:09:09.105Z"
   },
   {
    "duration": 40,
    "start_time": "2022-10-15T03:09:09.125Z"
   },
   {
    "duration": 15,
    "start_time": "2022-10-15T03:09:09.170Z"
   },
   {
    "duration": 36,
    "start_time": "2022-10-15T03:09:09.187Z"
   },
   {
    "duration": 24,
    "start_time": "2022-10-15T03:09:09.225Z"
   },
   {
    "duration": 3,
    "start_time": "2022-10-15T03:09:09.251Z"
   },
   {
    "duration": 11,
    "start_time": "2022-10-15T03:09:09.256Z"
   },
   {
    "duration": 18,
    "start_time": "2022-10-15T03:09:09.268Z"
   },
   {
    "duration": 6,
    "start_time": "2022-10-15T03:09:09.288Z"
   },
   {
    "duration": 33,
    "start_time": "2022-10-15T03:09:09.296Z"
   },
   {
    "duration": 7,
    "start_time": "2022-10-15T03:09:09.331Z"
   },
   {
    "duration": 20,
    "start_time": "2022-10-15T03:09:09.340Z"
   },
   {
    "duration": 4,
    "start_time": "2022-10-15T03:09:09.361Z"
   },
   {
    "duration": 4,
    "start_time": "2022-10-15T03:09:09.366Z"
   },
   {
    "duration": 1028,
    "start_time": "2022-10-15T03:09:09.372Z"
   },
   {
    "duration": 3,
    "start_time": "2022-10-15T03:09:10.402Z"
   },
   {
    "duration": 7,
    "start_time": "2022-10-15T03:09:10.406Z"
   },
   {
    "duration": 5,
    "start_time": "2022-10-15T03:09:10.423Z"
   },
   {
    "duration": 744,
    "start_time": "2022-10-15T03:09:10.429Z"
   },
   {
    "duration": 801,
    "start_time": "2022-10-15T03:09:11.175Z"
   },
   {
    "duration": 673,
    "start_time": "2022-10-15T03:09:11.978Z"
   },
   {
    "duration": 770,
    "start_time": "2022-10-15T03:09:12.652Z"
   },
   {
    "duration": 4,
    "start_time": "2022-10-15T03:09:13.424Z"
   },
   {
    "duration": 294,
    "start_time": "2022-10-15T03:09:13.430Z"
   },
   {
    "duration": 3266,
    "start_time": "2022-10-15T03:09:13.726Z"
   },
   {
    "duration": 4,
    "start_time": "2022-10-15T03:09:16.994Z"
   },
   {
    "duration": 5,
    "start_time": "2022-10-15T03:09:17.000Z"
   },
   {
    "duration": 10,
    "start_time": "2022-10-15T03:09:17.007Z"
   },
   {
    "duration": 8,
    "start_time": "2022-10-15T03:09:17.019Z"
   },
   {
    "duration": 7,
    "start_time": "2022-10-15T03:09:17.029Z"
   },
   {
    "duration": 21,
    "start_time": "2022-10-15T03:09:17.038Z"
   },
   {
    "duration": 4,
    "start_time": "2022-10-15T03:09:17.060Z"
   },
   {
    "duration": 12,
    "start_time": "2022-10-15T03:09:17.065Z"
   },
   {
    "duration": 1339871,
    "start_time": "2022-10-15T03:09:17.078Z"
   },
   {
    "duration": 3,
    "start_time": "2022-10-15T03:31:36.950Z"
   },
   {
    "duration": 16,
    "start_time": "2022-10-15T03:31:36.954Z"
   },
   {
    "duration": 15,
    "start_time": "2022-10-15T03:31:36.971Z"
   },
   {
    "duration": 10,
    "start_time": "2022-10-15T03:31:36.988Z"
   },
   {
    "duration": 1220117,
    "start_time": "2022-10-15T03:31:37.000Z"
   },
   {
    "duration": 3,
    "start_time": "2022-10-15T03:51:57.118Z"
   },
   {
    "duration": 12,
    "start_time": "2022-10-15T03:51:57.122Z"
   },
   {
    "duration": 21,
    "start_time": "2022-10-15T03:51:57.135Z"
   },
   {
    "duration": 8,
    "start_time": "2022-10-15T03:51:57.158Z"
   },
   {
    "duration": 40,
    "start_time": "2022-10-15T03:51:57.167Z"
   },
   {
    "duration": 54961,
    "start_time": "2022-10-15T03:51:57.209Z"
   },
   {
    "duration": 3,
    "start_time": "2022-10-15T03:52:52.171Z"
   },
   {
    "duration": 43,
    "start_time": "2022-10-15T03:52:52.175Z"
   },
   {
    "duration": 30,
    "start_time": "2022-10-15T03:52:52.219Z"
   },
   {
    "duration": 46,
    "start_time": "2022-10-15T03:52:52.250Z"
   },
   {
    "duration": 54092,
    "start_time": "2022-10-15T03:52:52.298Z"
   },
   {
    "duration": 3,
    "start_time": "2022-10-15T03:53:46.391Z"
   },
   {
    "duration": 38,
    "start_time": "2022-10-15T03:53:46.395Z"
   },
   {
    "duration": 19,
    "start_time": "2022-10-15T03:53:46.434Z"
   },
   {
    "duration": 51,
    "start_time": "2022-10-15T03:53:46.455Z"
   },
   {
    "duration": 26,
    "start_time": "2022-10-15T03:53:46.508Z"
   },
   {
    "duration": 118,
    "start_time": "2022-10-15T03:53:46.535Z"
   },
   {
    "duration": 3,
    "start_time": "2022-10-15T04:31:42.769Z"
   },
   {
    "duration": 239,
    "start_time": "2022-10-15T04:31:48.940Z"
   },
   {
    "duration": 3,
    "start_time": "2022-10-15T04:32:14.483Z"
   },
   {
    "duration": 14,
    "start_time": "2022-10-15T04:32:19.139Z"
   },
   {
    "duration": 3,
    "start_time": "2022-10-15T04:33:17.995Z"
   },
   {
    "duration": 123,
    "start_time": "2022-10-15T04:33:22.525Z"
   },
   {
    "duration": 3,
    "start_time": "2022-10-15T04:35:28.288Z"
   },
   {
    "duration": 479,
    "start_time": "2022-10-15T04:35:31.989Z"
   },
   {
    "duration": 4,
    "start_time": "2022-10-15T04:42:38.063Z"
   },
   {
    "duration": 136,
    "start_time": "2022-10-15T04:42:43.061Z"
   },
   {
    "duration": 4,
    "start_time": "2022-10-15T04:45:17.215Z"
   },
   {
    "duration": 121,
    "start_time": "2022-10-15T04:45:21.689Z"
   },
   {
    "duration": 4,
    "start_time": "2022-10-15T04:46:58.309Z"
   },
   {
    "duration": 787,
    "start_time": "2022-10-15T04:47:03.564Z"
   },
   {
    "duration": 4,
    "start_time": "2022-10-15T04:48:41.045Z"
   },
   {
    "duration": 558,
    "start_time": "2022-10-15T04:48:45.791Z"
   },
   {
    "duration": 4,
    "start_time": "2022-10-15T04:49:18.557Z"
   },
   {
    "duration": 487,
    "start_time": "2022-10-15T04:49:22.115Z"
   },
   {
    "duration": 3,
    "start_time": "2022-10-15T04:49:41.907Z"
   },
   {
    "duration": 528,
    "start_time": "2022-10-15T04:49:45.991Z"
   },
   {
    "duration": 4,
    "start_time": "2022-10-15T05:03:46.479Z"
   },
   {
    "duration": 118,
    "start_time": "2022-10-15T05:03:51.213Z"
   },
   {
    "duration": 3,
    "start_time": "2022-10-15T05:05:34.869Z"
   },
   {
    "duration": 136,
    "start_time": "2022-10-15T05:05:38.986Z"
   },
   {
    "duration": 5,
    "start_time": "2022-10-15T05:05:53.893Z"
   },
   {
    "duration": 136,
    "start_time": "2022-10-15T05:05:58.855Z"
   },
   {
    "duration": 4,
    "start_time": "2022-10-15T05:06:15.269Z"
   },
   {
    "duration": 490,
    "start_time": "2022-10-15T05:06:19.508Z"
   },
   {
    "duration": 5,
    "start_time": "2022-10-15T05:07:20.298Z"
   },
   {
    "duration": 465,
    "start_time": "2022-10-15T05:07:24.047Z"
   },
   {
    "duration": 5,
    "start_time": "2022-10-15T05:11:03.736Z"
   },
   {
    "duration": 479,
    "start_time": "2022-10-15T05:11:07.988Z"
   },
   {
    "duration": 8,
    "start_time": "2022-10-15T05:19:59.614Z"
   },
   {
    "duration": 6,
    "start_time": "2022-10-15T05:20:41.373Z"
   },
   {
    "duration": 4,
    "start_time": "2022-10-15T05:20:48.733Z"
   },
   {
    "duration": 9,
    "start_time": "2022-10-15T05:20:56.158Z"
   },
   {
    "duration": 5,
    "start_time": "2022-10-15T05:21:02.928Z"
   },
   {
    "duration": 4,
    "start_time": "2022-10-15T05:21:47.319Z"
   },
   {
    "duration": 599,
    "start_time": "2022-10-15T05:21:51.701Z"
   },
   {
    "duration": 5,
    "start_time": "2022-10-15T05:22:30.642Z"
   },
   {
    "duration": 499,
    "start_time": "2022-10-15T05:22:34.463Z"
   },
   {
    "duration": 505,
    "start_time": "2022-10-15T05:23:17.227Z"
   },
   {
    "duration": 347,
    "start_time": "2022-10-15T05:23:49.870Z"
   },
   {
    "duration": 1983,
    "start_time": "2022-10-16T22:19:32.857Z"
   },
   {
    "duration": 1356,
    "start_time": "2022-10-16T22:19:34.842Z"
   },
   {
    "duration": 64,
    "start_time": "2022-10-16T22:19:36.199Z"
   },
   {
    "duration": 3,
    "start_time": "2022-10-16T22:19:36.265Z"
   },
   {
    "duration": 20,
    "start_time": "2022-10-16T22:19:36.270Z"
   },
   {
    "duration": 808,
    "start_time": "2022-10-16T22:19:36.291Z"
   },
   {
    "duration": 0,
    "start_time": "2022-10-16T22:19:37.101Z"
   },
   {
    "duration": 0,
    "start_time": "2022-10-16T22:19:37.102Z"
   },
   {
    "duration": 1,
    "start_time": "2022-10-16T22:19:37.103Z"
   },
   {
    "duration": 0,
    "start_time": "2022-10-16T22:19:37.104Z"
   },
   {
    "duration": 0,
    "start_time": "2022-10-16T22:19:37.106Z"
   },
   {
    "duration": 0,
    "start_time": "2022-10-16T22:19:37.107Z"
   },
   {
    "duration": 0,
    "start_time": "2022-10-16T22:19:37.107Z"
   },
   {
    "duration": 0,
    "start_time": "2022-10-16T22:19:37.108Z"
   },
   {
    "duration": 0,
    "start_time": "2022-10-16T22:19:37.109Z"
   },
   {
    "duration": 0,
    "start_time": "2022-10-16T22:19:37.110Z"
   },
   {
    "duration": 0,
    "start_time": "2022-10-16T22:19:37.111Z"
   },
   {
    "duration": 0,
    "start_time": "2022-10-16T22:19:37.112Z"
   },
   {
    "duration": 0,
    "start_time": "2022-10-16T22:19:37.113Z"
   },
   {
    "duration": 0,
    "start_time": "2022-10-16T22:19:37.114Z"
   },
   {
    "duration": 0,
    "start_time": "2022-10-16T22:19:37.115Z"
   },
   {
    "duration": 0,
    "start_time": "2022-10-16T22:19:37.116Z"
   },
   {
    "duration": 0,
    "start_time": "2022-10-16T22:19:37.117Z"
   },
   {
    "duration": 0,
    "start_time": "2022-10-16T22:19:37.118Z"
   },
   {
    "duration": 0,
    "start_time": "2022-10-16T22:19:37.119Z"
   },
   {
    "duration": 0,
    "start_time": "2022-10-16T22:19:37.120Z"
   },
   {
    "duration": 0,
    "start_time": "2022-10-16T22:19:37.121Z"
   },
   {
    "duration": 0,
    "start_time": "2022-10-16T22:19:37.121Z"
   },
   {
    "duration": 0,
    "start_time": "2022-10-16T22:19:37.122Z"
   },
   {
    "duration": 1,
    "start_time": "2022-10-16T22:19:37.123Z"
   },
   {
    "duration": 0,
    "start_time": "2022-10-16T22:19:37.124Z"
   },
   {
    "duration": 2001,
    "start_time": "2022-10-16T22:23:15.281Z"
   },
   {
    "duration": 1286,
    "start_time": "2022-10-16T22:23:17.284Z"
   },
   {
    "duration": 63,
    "start_time": "2022-10-16T22:23:18.572Z"
   },
   {
    "duration": 3,
    "start_time": "2022-10-16T22:23:18.637Z"
   },
   {
    "duration": 6,
    "start_time": "2022-10-16T22:23:18.642Z"
   },
   {
    "duration": 5,
    "start_time": "2022-10-16T22:23:18.649Z"
   },
   {
    "duration": 5,
    "start_time": "2022-10-16T22:23:18.655Z"
   },
   {
    "duration": 32,
    "start_time": "2022-10-16T22:23:18.661Z"
   },
   {
    "duration": 552,
    "start_time": "2022-10-16T22:23:18.694Z"
   },
   {
    "duration": 18,
    "start_time": "2022-10-16T22:23:19.249Z"
   },
   {
    "duration": 12,
    "start_time": "2022-10-16T22:23:19.269Z"
   },
   {
    "duration": 8,
    "start_time": "2022-10-16T22:23:19.283Z"
   },
   {
    "duration": 30,
    "start_time": "2022-10-16T22:23:19.292Z"
   },
   {
    "duration": 20,
    "start_time": "2022-10-16T22:23:19.324Z"
   },
   {
    "duration": 381,
    "start_time": "2022-10-16T22:23:19.345Z"
   },
   {
    "duration": 9,
    "start_time": "2022-10-16T22:23:19.728Z"
   },
   {
    "duration": 24,
    "start_time": "2022-10-16T22:23:19.738Z"
   },
   {
    "duration": 646,
    "start_time": "2022-10-16T22:23:19.764Z"
   },
   {
    "duration": 22,
    "start_time": "2022-10-16T22:23:20.412Z"
   },
   {
    "duration": 18,
    "start_time": "2022-10-16T22:23:20.435Z"
   },
   {
    "duration": 119,
    "start_time": "2022-10-16T22:23:20.454Z"
   },
   {
    "duration": 5,
    "start_time": "2022-10-16T22:23:20.575Z"
   },
   {
    "duration": 9,
    "start_time": "2022-10-16T22:23:20.582Z"
   },
   {
    "duration": 5,
    "start_time": "2022-10-16T22:23:20.592Z"
   },
   {
    "duration": 25,
    "start_time": "2022-10-16T22:23:20.599Z"
   },
   {
    "duration": 18,
    "start_time": "2022-10-16T22:23:20.625Z"
   },
   {
    "duration": 11,
    "start_time": "2022-10-16T22:23:20.645Z"
   },
   {
    "duration": 37,
    "start_time": "2022-10-16T22:23:20.658Z"
   },
   {
    "duration": 36,
    "start_time": "2022-10-16T22:23:20.697Z"
   },
   {
    "duration": 25,
    "start_time": "2022-10-16T22:23:20.734Z"
   },
   {
    "duration": 19,
    "start_time": "2022-10-16T22:25:36.691Z"
   },
   {
    "duration": 19,
    "start_time": "2022-10-16T22:42:55.379Z"
   },
   {
    "duration": 9,
    "start_time": "2022-10-16T22:43:03.251Z"
   },
   {
    "duration": 21,
    "start_time": "2022-10-16T22:43:07.879Z"
   },
   {
    "duration": 6,
    "start_time": "2022-10-16T22:44:45.511Z"
   },
   {
    "duration": 104,
    "start_time": "2022-10-18T00:26:48.616Z"
   },
   {
    "duration": 2085,
    "start_time": "2022-10-18T00:42:30.766Z"
   },
   {
    "duration": 4,
    "start_time": "2022-10-18T00:42:32.853Z"
   },
   {
    "duration": 73,
    "start_time": "2022-10-18T00:42:32.859Z"
   },
   {
    "duration": 3,
    "start_time": "2022-10-18T00:42:32.934Z"
   },
   {
    "duration": 7,
    "start_time": "2022-10-18T00:42:32.939Z"
   },
   {
    "duration": 6,
    "start_time": "2022-10-18T00:42:32.947Z"
   },
   {
    "duration": 5,
    "start_time": "2022-10-18T00:42:32.954Z"
   },
   {
    "duration": 37,
    "start_time": "2022-10-18T00:42:32.960Z"
   },
   {
    "duration": 561,
    "start_time": "2022-10-18T00:42:32.999Z"
   },
   {
    "duration": 19,
    "start_time": "2022-10-18T00:42:33.564Z"
   },
   {
    "duration": 13,
    "start_time": "2022-10-18T00:42:33.585Z"
   },
   {
    "duration": 27,
    "start_time": "2022-10-18T00:42:33.600Z"
   },
   {
    "duration": 5,
    "start_time": "2022-10-18T00:42:33.629Z"
   },
   {
    "duration": 25,
    "start_time": "2022-10-18T00:42:33.636Z"
   },
   {
    "duration": 421,
    "start_time": "2022-10-18T00:42:33.663Z"
   },
   {
    "duration": 10,
    "start_time": "2022-10-18T00:42:34.086Z"
   },
   {
    "duration": 42,
    "start_time": "2022-10-18T00:42:34.098Z"
   },
   {
    "duration": 669,
    "start_time": "2022-10-18T00:42:34.142Z"
   },
   {
    "duration": 14,
    "start_time": "2022-10-18T00:42:34.822Z"
   },
   {
    "duration": 18,
    "start_time": "2022-10-18T00:42:34.838Z"
   },
   {
    "duration": 219,
    "start_time": "2022-10-18T00:42:34.858Z"
   },
   {
    "duration": 6,
    "start_time": "2022-10-18T00:42:35.079Z"
   },
   {
    "duration": 16,
    "start_time": "2022-10-18T00:42:35.086Z"
   },
   {
    "duration": 5,
    "start_time": "2022-10-18T00:42:35.104Z"
   },
   {
    "duration": 17,
    "start_time": "2022-10-18T00:42:35.110Z"
   },
   {
    "duration": 15,
    "start_time": "2022-10-18T00:42:35.129Z"
   },
   {
    "duration": 10,
    "start_time": "2022-10-18T00:42:35.146Z"
   },
   {
    "duration": 35,
    "start_time": "2022-10-18T00:42:35.159Z"
   },
   {
    "duration": 40,
    "start_time": "2022-10-18T00:42:35.196Z"
   },
   {
    "duration": 24,
    "start_time": "2022-10-18T00:42:35.238Z"
   },
   {
    "duration": 19,
    "start_time": "2022-10-18T00:42:35.263Z"
   },
   {
    "duration": 6,
    "start_time": "2022-10-18T00:42:35.283Z"
   },
   {
    "duration": 47,
    "start_time": "2022-10-18T00:42:35.291Z"
   },
   {
    "duration": 5,
    "start_time": "2022-10-18T00:42:35.340Z"
   },
   {
    "duration": 9,
    "start_time": "2022-10-18T00:42:35.347Z"
   },
   {
    "duration": 14,
    "start_time": "2022-10-18T00:42:35.358Z"
   },
   {
    "duration": 5,
    "start_time": "2022-10-18T00:42:35.373Z"
   },
   {
    "duration": 17,
    "start_time": "2022-10-18T00:42:35.380Z"
   },
   {
    "duration": 881,
    "start_time": "2022-10-18T00:42:35.398Z"
   },
   {
    "duration": 4,
    "start_time": "2022-10-18T00:42:36.281Z"
   },
   {
    "duration": 12,
    "start_time": "2022-10-18T00:42:36.287Z"
   },
   {
    "duration": 16,
    "start_time": "2022-10-18T00:42:36.300Z"
   },
   {
    "duration": 779,
    "start_time": "2022-10-18T00:42:36.318Z"
   },
   {
    "duration": 800,
    "start_time": "2022-10-18T00:42:37.099Z"
   },
   {
    "duration": 763,
    "start_time": "2022-10-18T00:42:37.901Z"
   },
   {
    "duration": 691,
    "start_time": "2022-10-18T00:42:38.666Z"
   },
   {
    "duration": 4,
    "start_time": "2022-10-18T00:42:39.359Z"
   },
   {
    "duration": 379,
    "start_time": "2022-10-18T00:42:39.365Z"
   },
   {
    "duration": 3496,
    "start_time": "2022-10-18T00:42:39.746Z"
   },
   {
    "duration": 3,
    "start_time": "2022-10-18T00:42:43.244Z"
   },
   {
    "duration": 5,
    "start_time": "2022-10-18T00:42:43.249Z"
   },
   {
    "duration": 6,
    "start_time": "2022-10-18T00:42:43.255Z"
   },
   {
    "duration": 8,
    "start_time": "2022-10-18T00:42:43.262Z"
   },
   {
    "duration": 8,
    "start_time": "2022-10-18T00:42:43.271Z"
   },
   {
    "duration": 8,
    "start_time": "2022-10-18T00:42:43.281Z"
   },
   {
    "duration": 4,
    "start_time": "2022-10-18T00:42:43.290Z"
   },
   {
    "duration": 7,
    "start_time": "2022-10-18T00:42:43.295Z"
   },
   {
    "duration": 1471481,
    "start_time": "2022-10-18T00:42:43.304Z"
   },
   {
    "duration": 5,
    "start_time": "2022-10-18T01:07:14.787Z"
   },
   {
    "duration": 1193253,
    "start_time": "2022-10-18T01:07:14.794Z"
   },
   {
    "duration": 3,
    "start_time": "2022-10-18T01:27:08.048Z"
   },
   {
    "duration": 33,
    "start_time": "2022-10-18T01:27:08.053Z"
   },
   {
    "duration": 52651,
    "start_time": "2022-10-18T01:27:08.087Z"
   },
   {
    "duration": 25,
    "start_time": "2022-10-18T01:28:00.740Z"
   },
   {
    "duration": 48672,
    "start_time": "2022-10-18T01:28:00.767Z"
   },
   {
    "duration": 58,
    "start_time": "2022-10-18T02:21:12.441Z"
   },
   {
    "duration": 13,
    "start_time": "2022-10-18T02:28:24.005Z"
   },
   {
    "duration": 25,
    "start_time": "2022-10-18T02:34:44.779Z"
   },
   {
    "duration": 125,
    "start_time": "2022-10-18T02:36:43.021Z"
   },
   {
    "duration": 23,
    "start_time": "2022-10-18T02:37:01.522Z"
   },
   {
    "duration": 2009,
    "start_time": "2022-10-18T02:38:54.551Z"
   },
   {
    "duration": 1310,
    "start_time": "2022-10-18T02:38:56.562Z"
   },
   {
    "duration": 69,
    "start_time": "2022-10-18T02:38:57.874Z"
   },
   {
    "duration": 3,
    "start_time": "2022-10-18T02:38:57.944Z"
   },
   {
    "duration": 9,
    "start_time": "2022-10-18T02:38:57.948Z"
   },
   {
    "duration": 6,
    "start_time": "2022-10-18T02:38:57.958Z"
   },
   {
    "duration": 8,
    "start_time": "2022-10-18T02:38:57.965Z"
   },
   {
    "duration": 42,
    "start_time": "2022-10-18T02:38:57.975Z"
   },
   {
    "duration": 513,
    "start_time": "2022-10-18T02:38:58.018Z"
   },
   {
    "duration": 20,
    "start_time": "2022-10-18T02:38:58.533Z"
   },
   {
    "duration": 12,
    "start_time": "2022-10-18T02:38:58.554Z"
   },
   {
    "duration": 15,
    "start_time": "2022-10-18T02:38:58.568Z"
   },
   {
    "duration": 7,
    "start_time": "2022-10-18T02:38:58.585Z"
   },
   {
    "duration": 38,
    "start_time": "2022-10-18T02:38:58.594Z"
   },
   {
    "duration": 436,
    "start_time": "2022-10-18T02:38:58.633Z"
   },
   {
    "duration": 12,
    "start_time": "2022-10-18T02:38:59.071Z"
   },
   {
    "duration": 49,
    "start_time": "2022-10-18T02:38:59.085Z"
   },
   {
    "duration": 649,
    "start_time": "2022-10-18T02:38:59.136Z"
   },
   {
    "duration": 14,
    "start_time": "2022-10-18T02:38:59.787Z"
   },
   {
    "duration": 32,
    "start_time": "2022-10-18T02:38:59.803Z"
   },
   {
    "duration": 102,
    "start_time": "2022-10-18T02:38:59.837Z"
   },
   {
    "duration": 5,
    "start_time": "2022-10-18T02:38:59.941Z"
   },
   {
    "duration": 9,
    "start_time": "2022-10-18T02:38:59.948Z"
   },
   {
    "duration": 9,
    "start_time": "2022-10-18T02:38:59.959Z"
   },
   {
    "duration": 10,
    "start_time": "2022-10-18T02:38:59.969Z"
   },
   {
    "duration": 16,
    "start_time": "2022-10-18T02:38:59.980Z"
   },
   {
    "duration": 35,
    "start_time": "2022-10-18T02:38:59.998Z"
   },
   {
    "duration": 41,
    "start_time": "2022-10-18T02:39:00.037Z"
   },
   {
    "duration": 16,
    "start_time": "2022-10-18T02:39:00.079Z"
   },
   {
    "duration": 48,
    "start_time": "2022-10-18T02:39:00.097Z"
   },
   {
    "duration": 25,
    "start_time": "2022-10-18T02:39:00.147Z"
   },
   {
    "duration": 10,
    "start_time": "2022-10-18T02:39:00.174Z"
   },
   {
    "duration": 53,
    "start_time": "2022-10-18T02:39:00.186Z"
   },
   {
    "duration": 24,
    "start_time": "2022-10-18T02:39:00.241Z"
   },
   {
    "duration": 15,
    "start_time": "2022-10-18T02:39:00.266Z"
   },
   {
    "duration": 28,
    "start_time": "2022-10-18T02:39:00.283Z"
   },
   {
    "duration": 5,
    "start_time": "2022-10-18T02:39:00.313Z"
   },
   {
    "duration": 25,
    "start_time": "2022-10-18T02:39:00.320Z"
   },
   {
    "duration": 1058,
    "start_time": "2022-10-18T02:39:00.348Z"
   },
   {
    "duration": 3,
    "start_time": "2022-10-18T02:39:01.408Z"
   },
   {
    "duration": 14,
    "start_time": "2022-10-18T02:39:01.413Z"
   },
   {
    "duration": 9,
    "start_time": "2022-10-18T02:39:01.429Z"
   },
   {
    "duration": 709,
    "start_time": "2022-10-18T02:39:01.440Z"
   },
   {
    "duration": 711,
    "start_time": "2022-10-18T02:39:02.150Z"
   },
   {
    "duration": 670,
    "start_time": "2022-10-18T02:39:02.863Z"
   },
   {
    "duration": 787,
    "start_time": "2022-10-18T02:39:03.535Z"
   },
   {
    "duration": 5,
    "start_time": "2022-10-18T02:39:04.324Z"
   },
   {
    "duration": 278,
    "start_time": "2022-10-18T02:39:04.330Z"
   },
   {
    "duration": 3296,
    "start_time": "2022-10-18T02:39:04.610Z"
   },
   {
    "duration": 5,
    "start_time": "2022-10-18T02:39:07.908Z"
   },
   {
    "duration": 11,
    "start_time": "2022-10-18T02:39:07.914Z"
   },
   {
    "duration": 8,
    "start_time": "2022-10-18T02:39:07.927Z"
   },
   {
    "duration": 10,
    "start_time": "2022-10-18T02:39:07.936Z"
   },
   {
    "duration": 5,
    "start_time": "2022-10-18T02:39:07.947Z"
   },
   {
    "duration": 7,
    "start_time": "2022-10-18T02:39:07.954Z"
   },
   {
    "duration": 3,
    "start_time": "2022-10-18T02:39:07.962Z"
   },
   {
    "duration": 10,
    "start_time": "2022-10-18T02:39:07.966Z"
   },
   {
    "duration": 2004,
    "start_time": "2022-10-18T02:47:49.335Z"
   },
   {
    "duration": 1333,
    "start_time": "2022-10-18T02:47:51.341Z"
   },
   {
    "duration": 65,
    "start_time": "2022-10-18T02:47:52.676Z"
   },
   {
    "duration": 3,
    "start_time": "2022-10-18T02:47:52.743Z"
   },
   {
    "duration": 6,
    "start_time": "2022-10-18T02:47:52.748Z"
   },
   {
    "duration": 9,
    "start_time": "2022-10-18T02:47:52.756Z"
   },
   {
    "duration": 5,
    "start_time": "2022-10-18T02:47:52.767Z"
   },
   {
    "duration": 38,
    "start_time": "2022-10-18T02:47:52.773Z"
   },
   {
    "duration": 510,
    "start_time": "2022-10-18T02:47:52.813Z"
   },
   {
    "duration": 18,
    "start_time": "2022-10-18T02:47:53.327Z"
   },
   {
    "duration": 11,
    "start_time": "2022-10-18T02:47:53.346Z"
   },
   {
    "duration": 8,
    "start_time": "2022-10-18T02:47:53.359Z"
   },
   {
    "duration": 6,
    "start_time": "2022-10-18T02:47:53.368Z"
   },
   {
    "duration": 47,
    "start_time": "2022-10-18T02:47:53.375Z"
   },
   {
    "duration": 370,
    "start_time": "2022-10-18T02:47:53.423Z"
   },
   {
    "duration": 10,
    "start_time": "2022-10-18T02:47:53.794Z"
   },
   {
    "duration": 35,
    "start_time": "2022-10-18T02:47:53.805Z"
   },
   {
    "duration": 659,
    "start_time": "2022-10-18T02:47:53.842Z"
   },
   {
    "duration": 21,
    "start_time": "2022-10-18T02:47:54.503Z"
   },
   {
    "duration": 18,
    "start_time": "2022-10-18T02:47:54.526Z"
   },
   {
    "duration": 111,
    "start_time": "2022-10-18T02:47:54.545Z"
   },
   {
    "duration": 4,
    "start_time": "2022-10-18T02:47:54.658Z"
   },
   {
    "duration": 9,
    "start_time": "2022-10-18T02:47:54.664Z"
   },
   {
    "duration": 4,
    "start_time": "2022-10-18T02:47:54.674Z"
   },
   {
    "duration": 9,
    "start_time": "2022-10-18T02:47:54.679Z"
   },
   {
    "duration": 39,
    "start_time": "2022-10-18T02:47:54.690Z"
   },
   {
    "duration": 10,
    "start_time": "2022-10-18T02:47:54.730Z"
   },
   {
    "duration": 36,
    "start_time": "2022-10-18T02:47:54.744Z"
   },
   {
    "duration": 15,
    "start_time": "2022-10-18T02:47:54.782Z"
   },
   {
    "duration": 48,
    "start_time": "2022-10-18T02:47:54.798Z"
   },
   {
    "duration": 18,
    "start_time": "2022-10-18T02:47:54.848Z"
   },
   {
    "duration": 8,
    "start_time": "2022-10-18T02:47:54.867Z"
   },
   {
    "duration": 47,
    "start_time": "2022-10-18T02:47:54.876Z"
   },
   {
    "duration": 8,
    "start_time": "2022-10-18T02:47:54.924Z"
   },
   {
    "duration": 13,
    "start_time": "2022-10-18T02:47:54.934Z"
   },
   {
    "duration": 18,
    "start_time": "2022-10-18T02:47:54.948Z"
   },
   {
    "duration": 7,
    "start_time": "2022-10-18T02:47:54.968Z"
   },
   {
    "duration": 19,
    "start_time": "2022-10-18T02:47:54.977Z"
   },
   {
    "duration": 986,
    "start_time": "2022-10-18T02:47:54.997Z"
   },
   {
    "duration": 5,
    "start_time": "2022-10-18T02:47:55.985Z"
   },
   {
    "duration": 14,
    "start_time": "2022-10-18T02:47:55.991Z"
   },
   {
    "duration": 16,
    "start_time": "2022-10-18T02:47:56.007Z"
   },
   {
    "duration": 698,
    "start_time": "2022-10-18T02:47:56.025Z"
   },
   {
    "duration": 716,
    "start_time": "2022-10-18T02:47:56.724Z"
   },
   {
    "duration": 654,
    "start_time": "2022-10-18T02:47:57.441Z"
   },
   {
    "duration": 777,
    "start_time": "2022-10-18T02:47:58.097Z"
   },
   {
    "duration": 5,
    "start_time": "2022-10-18T02:47:58.876Z"
   },
   {
    "duration": 348,
    "start_time": "2022-10-18T02:47:58.883Z"
   },
   {
    "duration": 3271,
    "start_time": "2022-10-18T02:47:59.232Z"
   },
   {
    "duration": 5,
    "start_time": "2022-10-18T02:48:02.505Z"
   },
   {
    "duration": 3,
    "start_time": "2022-10-18T02:48:02.522Z"
   },
   {
    "duration": 13,
    "start_time": "2022-10-18T02:48:02.527Z"
   },
   {
    "duration": 10,
    "start_time": "2022-10-18T02:48:02.541Z"
   },
   {
    "duration": 8,
    "start_time": "2022-10-18T02:48:02.553Z"
   },
   {
    "duration": 9,
    "start_time": "2022-10-18T02:48:02.564Z"
   },
   {
    "duration": 3,
    "start_time": "2022-10-18T02:48:02.574Z"
   },
   {
    "duration": 9,
    "start_time": "2022-10-18T02:48:02.579Z"
   },
   {
    "duration": 1474216,
    "start_time": "2022-10-18T02:48:02.590Z"
   },
   {
    "duration": 4,
    "start_time": "2022-10-18T03:12:36.808Z"
   },
   {
    "duration": 1195274,
    "start_time": "2022-10-18T03:12:36.814Z"
   },
   {
    "duration": 4,
    "start_time": "2022-10-18T03:32:32.090Z"
   },
   {
    "duration": 41,
    "start_time": "2022-10-18T03:32:32.095Z"
   },
   {
    "duration": 58709,
    "start_time": "2022-10-18T03:32:32.138Z"
   },
   {
    "duration": 27,
    "start_time": "2022-10-18T03:33:30.849Z"
   },
   {
    "duration": 54972,
    "start_time": "2022-10-18T03:33:30.878Z"
   },
   {
    "duration": 49,
    "start_time": "2022-10-18T03:34:25.852Z"
   },
   {
    "duration": 36,
    "start_time": "2022-10-18T03:34:25.902Z"
   },
   {
    "duration": 120,
    "start_time": "2022-10-18T03:34:25.939Z"
   },
   {
    "duration": 2025,
    "start_time": "2022-10-18T03:42:52.393Z"
   },
   {
    "duration": 1539,
    "start_time": "2022-10-18T03:42:54.420Z"
   },
   {
    "duration": 66,
    "start_time": "2022-10-18T03:42:55.960Z"
   },
   {
    "duration": 3,
    "start_time": "2022-10-18T03:42:56.027Z"
   },
   {
    "duration": 8,
    "start_time": "2022-10-18T03:42:56.032Z"
   },
   {
    "duration": 10,
    "start_time": "2022-10-18T03:42:56.041Z"
   },
   {
    "duration": 40,
    "start_time": "2022-10-18T03:42:56.053Z"
   },
   {
    "duration": 818,
    "start_time": "2022-10-18T03:42:56.094Z"
   },
   {
    "duration": 22,
    "start_time": "2022-10-18T03:42:56.914Z"
   },
   {
    "duration": 12,
    "start_time": "2022-10-18T03:42:56.938Z"
   },
   {
    "duration": 8,
    "start_time": "2022-10-18T03:42:56.951Z"
   },
   {
    "duration": 5,
    "start_time": "2022-10-18T03:42:56.960Z"
   },
   {
    "duration": 65,
    "start_time": "2022-10-18T03:42:56.967Z"
   },
   {
    "duration": 575,
    "start_time": "2022-10-18T03:42:57.034Z"
   },
   {
    "duration": 16,
    "start_time": "2022-10-18T03:42:57.611Z"
   },
   {
    "duration": 23,
    "start_time": "2022-10-18T03:42:57.628Z"
   },
   {
    "duration": 699,
    "start_time": "2022-10-18T03:42:57.653Z"
   },
   {
    "duration": 14,
    "start_time": "2022-10-18T03:42:58.354Z"
   },
   {
    "duration": 24,
    "start_time": "2022-10-18T03:42:58.370Z"
   },
   {
    "duration": 114,
    "start_time": "2022-10-18T03:42:58.395Z"
   },
   {
    "duration": 12,
    "start_time": "2022-10-18T03:42:58.510Z"
   },
   {
    "duration": 10,
    "start_time": "2022-10-18T03:42:58.524Z"
   },
   {
    "duration": 6,
    "start_time": "2022-10-18T03:42:58.535Z"
   },
   {
    "duration": 10,
    "start_time": "2022-10-18T03:42:58.542Z"
   },
   {
    "duration": 15,
    "start_time": "2022-10-18T03:42:58.554Z"
   },
   {
    "duration": 11,
    "start_time": "2022-10-18T03:42:58.570Z"
   },
   {
    "duration": 69,
    "start_time": "2022-10-18T03:42:58.582Z"
   },
   {
    "duration": 15,
    "start_time": "2022-10-18T03:42:58.653Z"
   },
   {
    "duration": 25,
    "start_time": "2022-10-18T03:42:58.670Z"
   },
   {
    "duration": 35,
    "start_time": "2022-10-18T03:42:58.697Z"
   },
   {
    "duration": 6,
    "start_time": "2022-10-18T03:42:58.734Z"
   },
   {
    "duration": 21,
    "start_time": "2022-10-18T03:42:58.742Z"
   },
   {
    "duration": 10,
    "start_time": "2022-10-18T03:42:58.765Z"
   },
   {
    "duration": 13,
    "start_time": "2022-10-18T03:42:58.777Z"
   },
   {
    "duration": 32,
    "start_time": "2022-10-18T03:42:58.791Z"
   },
   {
    "duration": 4,
    "start_time": "2022-10-18T03:42:58.824Z"
   },
   {
    "duration": 11,
    "start_time": "2022-10-18T03:42:58.830Z"
   },
   {
    "duration": 1051,
    "start_time": "2022-10-18T03:42:58.843Z"
   },
   {
    "duration": 4,
    "start_time": "2022-10-18T03:42:59.896Z"
   },
   {
    "duration": 17,
    "start_time": "2022-10-18T03:42:59.902Z"
   },
   {
    "duration": 3,
    "start_time": "2022-10-18T03:42:59.926Z"
   },
   {
    "duration": 772,
    "start_time": "2022-10-18T03:42:59.931Z"
   },
   {
    "duration": 726,
    "start_time": "2022-10-18T03:43:00.705Z"
   },
   {
    "duration": 662,
    "start_time": "2022-10-18T03:43:01.432Z"
   },
   {
    "duration": 780,
    "start_time": "2022-10-18T03:43:02.095Z"
   },
   {
    "duration": 4,
    "start_time": "2022-10-18T03:43:02.877Z"
   },
   {
    "duration": 321,
    "start_time": "2022-10-18T03:43:02.882Z"
   },
   {
    "duration": 3282,
    "start_time": "2022-10-18T03:43:03.205Z"
   },
   {
    "duration": 5,
    "start_time": "2022-10-18T03:43:06.489Z"
   },
   {
    "duration": 6,
    "start_time": "2022-10-18T03:43:06.496Z"
   },
   {
    "duration": 20,
    "start_time": "2022-10-18T03:43:06.503Z"
   },
   {
    "duration": 10,
    "start_time": "2022-10-18T03:43:06.524Z"
   },
   {
    "duration": 6,
    "start_time": "2022-10-18T03:43:06.535Z"
   },
   {
    "duration": 10,
    "start_time": "2022-10-18T03:43:06.543Z"
   },
   {
    "duration": 2,
    "start_time": "2022-10-18T03:43:06.555Z"
   },
   {
    "duration": 6,
    "start_time": "2022-10-18T03:43:06.559Z"
   },
   {
    "duration": 1531192,
    "start_time": "2022-10-18T03:43:06.566Z"
   },
   {
    "duration": 5,
    "start_time": "2022-10-18T04:08:37.760Z"
   },
   {
    "duration": 1400332,
    "start_time": "2022-10-18T04:08:37.767Z"
   },
   {
    "duration": 3,
    "start_time": "2022-10-18T04:31:58.101Z"
   },
   {
    "duration": 33,
    "start_time": "2022-10-18T04:31:58.105Z"
   },
   {
    "duration": 58857,
    "start_time": "2022-10-18T04:31:58.140Z"
   },
   {
    "duration": 37,
    "start_time": "2022-10-18T04:32:56.999Z"
   },
   {
    "duration": 55303,
    "start_time": "2022-10-18T04:32:57.037Z"
   },
   {
    "duration": 45,
    "start_time": "2022-10-18T04:33:52.341Z"
   },
   {
    "duration": 35,
    "start_time": "2022-10-18T04:33:52.388Z"
   },
   {
    "duration": 111,
    "start_time": "2022-10-18T04:33:52.424Z"
   },
   {
    "duration": 3,
    "start_time": "2022-10-18T04:33:52.536Z"
   },
   {
    "duration": 2061,
    "start_time": "2022-10-18T04:34:46.897Z"
   },
   {
    "duration": 1383,
    "start_time": "2022-10-18T04:34:48.961Z"
   },
   {
    "duration": 67,
    "start_time": "2022-10-18T04:34:50.346Z"
   },
   {
    "duration": 3,
    "start_time": "2022-10-18T04:34:50.415Z"
   },
   {
    "duration": 12,
    "start_time": "2022-10-18T04:34:50.420Z"
   },
   {
    "duration": 7,
    "start_time": "2022-10-18T04:34:50.434Z"
   },
   {
    "duration": 39,
    "start_time": "2022-10-18T04:34:50.443Z"
   },
   {
    "duration": 485,
    "start_time": "2022-10-18T04:34:50.484Z"
   },
   {
    "duration": 21,
    "start_time": "2022-10-18T04:34:50.971Z"
   },
   {
    "duration": 28,
    "start_time": "2022-10-18T04:34:50.995Z"
   },
   {
    "duration": 9,
    "start_time": "2022-10-18T04:34:51.025Z"
   },
   {
    "duration": 5,
    "start_time": "2022-10-18T04:34:51.036Z"
   },
   {
    "duration": 71,
    "start_time": "2022-10-18T04:34:51.043Z"
   },
   {
    "duration": 363,
    "start_time": "2022-10-18T04:34:51.116Z"
   },
   {
    "duration": 10,
    "start_time": "2022-10-18T04:34:51.480Z"
   },
   {
    "duration": 37,
    "start_time": "2022-10-18T04:34:51.491Z"
   },
   {
    "duration": 648,
    "start_time": "2022-10-18T04:34:51.530Z"
   },
   {
    "duration": 17,
    "start_time": "2022-10-18T04:34:52.180Z"
   },
   {
    "duration": 35,
    "start_time": "2022-10-18T04:34:52.199Z"
   },
   {
    "duration": 114,
    "start_time": "2022-10-18T04:34:52.236Z"
   },
   {
    "duration": 5,
    "start_time": "2022-10-18T04:34:52.351Z"
   },
   {
    "duration": 13,
    "start_time": "2022-10-18T04:34:52.358Z"
   },
   {
    "duration": 7,
    "start_time": "2022-10-18T04:34:52.373Z"
   },
   {
    "duration": 8,
    "start_time": "2022-10-18T04:34:52.382Z"
   },
   {
    "duration": 34,
    "start_time": "2022-10-18T04:34:52.392Z"
   },
   {
    "duration": 12,
    "start_time": "2022-10-18T04:34:52.427Z"
   },
   {
    "duration": 39,
    "start_time": "2022-10-18T04:34:52.441Z"
   },
   {
    "duration": 16,
    "start_time": "2022-10-18T04:34:52.484Z"
   },
   {
    "duration": 28,
    "start_time": "2022-10-18T04:34:52.522Z"
   },
   {
    "duration": 17,
    "start_time": "2022-10-18T04:34:52.551Z"
   },
   {
    "duration": 7,
    "start_time": "2022-10-18T04:34:52.569Z"
   },
   {
    "duration": 51,
    "start_time": "2022-10-18T04:34:52.577Z"
   },
   {
    "duration": 5,
    "start_time": "2022-10-18T04:34:52.630Z"
   },
   {
    "duration": 9,
    "start_time": "2022-10-18T04:34:52.636Z"
   },
   {
    "duration": 13,
    "start_time": "2022-10-18T04:34:52.646Z"
   },
   {
    "duration": 4,
    "start_time": "2022-10-18T04:34:52.660Z"
   },
   {
    "duration": 6,
    "start_time": "2022-10-18T04:34:52.665Z"
   },
   {
    "duration": 1013,
    "start_time": "2022-10-18T04:34:52.673Z"
   },
   {
    "duration": 4,
    "start_time": "2022-10-18T04:34:53.689Z"
   },
   {
    "duration": 12,
    "start_time": "2022-10-18T04:34:53.694Z"
   },
   {
    "duration": 6,
    "start_time": "2022-10-18T04:34:53.708Z"
   },
   {
    "duration": 725,
    "start_time": "2022-10-18T04:34:53.722Z"
   },
   {
    "duration": 722,
    "start_time": "2022-10-18T04:34:54.448Z"
   },
   {
    "duration": 679,
    "start_time": "2022-10-18T04:34:55.172Z"
   },
   {
    "duration": 750,
    "start_time": "2022-10-18T04:34:55.852Z"
   },
   {
    "duration": 5,
    "start_time": "2022-10-18T04:34:56.603Z"
   },
   {
    "duration": 289,
    "start_time": "2022-10-18T04:34:56.621Z"
   },
   {
    "duration": 3317,
    "start_time": "2022-10-18T04:34:56.921Z"
   },
   {
    "duration": 5,
    "start_time": "2022-10-18T04:35:00.241Z"
   },
   {
    "duration": 29,
    "start_time": "2022-10-18T04:35:00.248Z"
   },
   {
    "duration": 13,
    "start_time": "2022-10-18T04:35:00.279Z"
   },
   {
    "duration": 31,
    "start_time": "2022-10-18T04:35:00.295Z"
   },
   {
    "duration": 21,
    "start_time": "2022-10-18T04:35:00.328Z"
   },
   {
    "duration": 19,
    "start_time": "2022-10-18T04:35:00.351Z"
   },
   {
    "duration": 41,
    "start_time": "2022-10-18T04:35:00.372Z"
   },
   {
    "duration": 31,
    "start_time": "2022-10-18T04:35:00.415Z"
   },
   {
    "duration": 1531108,
    "start_time": "2022-10-18T04:35:00.448Z"
   },
   {
    "duration": 4,
    "start_time": "2022-10-18T05:00:31.558Z"
   },
   {
    "duration": 1528714,
    "start_time": "2022-10-18T05:00:31.564Z"
   },
   {
    "duration": 2,
    "start_time": "2022-10-18T05:26:00.280Z"
   },
   {
    "duration": 76,
    "start_time": "2022-10-18T05:26:00.284Z"
   },
   {
    "duration": 55275,
    "start_time": "2022-10-18T05:26:00.362Z"
   },
   {
    "duration": 27,
    "start_time": "2022-10-18T05:26:55.638Z"
   },
   {
    "duration": 58594,
    "start_time": "2022-10-18T05:26:55.667Z"
   },
   {
    "duration": 43,
    "start_time": "2022-10-18T05:27:54.262Z"
   },
   {
    "duration": 47,
    "start_time": "2022-10-18T05:27:54.306Z"
   },
   {
    "duration": 109,
    "start_time": "2022-10-18T05:27:54.355Z"
   },
   {
    "duration": 3,
    "start_time": "2022-10-18T05:27:54.465Z"
   },
   {
    "duration": 2131,
    "start_time": "2022-10-18T17:25:33.174Z"
   },
   {
    "duration": 1373,
    "start_time": "2022-10-18T17:25:35.307Z"
   },
   {
    "duration": 68,
    "start_time": "2022-10-18T17:25:36.681Z"
   },
   {
    "duration": 4,
    "start_time": "2022-10-18T17:25:36.750Z"
   },
   {
    "duration": 8,
    "start_time": "2022-10-18T17:25:36.755Z"
   },
   {
    "duration": 9,
    "start_time": "2022-10-18T17:25:36.765Z"
   },
   {
    "duration": 34,
    "start_time": "2022-10-18T17:25:36.776Z"
   },
   {
    "duration": 543,
    "start_time": "2022-10-18T17:25:36.812Z"
   },
   {
    "duration": 18,
    "start_time": "2022-10-18T17:25:37.357Z"
   },
   {
    "duration": 13,
    "start_time": "2022-10-18T17:25:37.378Z"
   },
   {
    "duration": 7,
    "start_time": "2022-10-18T17:25:37.392Z"
   },
   {
    "duration": 24,
    "start_time": "2022-10-18T17:25:37.401Z"
   },
   {
    "duration": 29,
    "start_time": "2022-10-18T17:25:37.427Z"
   },
   {
    "duration": 408,
    "start_time": "2022-10-18T17:25:37.458Z"
   },
   {
    "duration": 12,
    "start_time": "2022-10-18T17:25:37.867Z"
   },
   {
    "duration": 46,
    "start_time": "2022-10-18T17:25:37.881Z"
   },
   {
    "duration": 666,
    "start_time": "2022-10-18T17:25:37.929Z"
   },
   {
    "duration": 13,
    "start_time": "2022-10-18T17:25:38.596Z"
   },
   {
    "duration": 19,
    "start_time": "2022-10-18T17:25:38.623Z"
   },
   {
    "duration": 110,
    "start_time": "2022-10-18T17:25:38.643Z"
   },
   {
    "duration": 5,
    "start_time": "2022-10-18T17:25:38.755Z"
   },
   {
    "duration": 9,
    "start_time": "2022-10-18T17:25:38.762Z"
   },
   {
    "duration": 6,
    "start_time": "2022-10-18T17:25:38.773Z"
   },
   {
    "duration": 14,
    "start_time": "2022-10-18T17:25:38.781Z"
   },
   {
    "duration": 37,
    "start_time": "2022-10-18T17:25:38.797Z"
   },
   {
    "duration": 12,
    "start_time": "2022-10-18T17:25:38.836Z"
   },
   {
    "duration": 59,
    "start_time": "2022-10-18T17:25:38.850Z"
   },
   {
    "duration": 22,
    "start_time": "2022-10-18T17:25:38.925Z"
   },
   {
    "duration": 41,
    "start_time": "2022-10-18T17:25:38.949Z"
   },
   {
    "duration": 47,
    "start_time": "2022-10-18T17:25:38.992Z"
   },
   {
    "duration": 21,
    "start_time": "2022-10-18T17:25:39.041Z"
   },
   {
    "duration": 24,
    "start_time": "2022-10-18T17:25:39.064Z"
   },
   {
    "duration": 5,
    "start_time": "2022-10-18T17:25:39.090Z"
   },
   {
    "duration": 26,
    "start_time": "2022-10-18T17:25:39.097Z"
   },
   {
    "duration": 13,
    "start_time": "2022-10-18T17:25:39.125Z"
   },
   {
    "duration": 4,
    "start_time": "2022-10-18T17:25:39.140Z"
   },
   {
    "duration": 11,
    "start_time": "2022-10-18T17:25:39.146Z"
   },
   {
    "duration": 1049,
    "start_time": "2022-10-18T17:25:39.158Z"
   },
   {
    "duration": 13,
    "start_time": "2022-10-18T17:25:40.209Z"
   },
   {
    "duration": 8,
    "start_time": "2022-10-18T17:25:40.224Z"
   },
   {
    "duration": 7,
    "start_time": "2022-10-18T17:25:40.234Z"
   },
   {
    "duration": 714,
    "start_time": "2022-10-18T17:25:40.243Z"
   },
   {
    "duration": 817,
    "start_time": "2022-10-18T17:25:40.959Z"
   },
   {
    "duration": 767,
    "start_time": "2022-10-18T17:25:41.778Z"
   },
   {
    "duration": 743,
    "start_time": "2022-10-18T17:25:42.546Z"
   },
   {
    "duration": 4,
    "start_time": "2022-10-18T17:25:43.291Z"
   },
   {
    "duration": 305,
    "start_time": "2022-10-18T17:25:43.297Z"
   },
   {
    "duration": 3267,
    "start_time": "2022-10-18T17:25:43.604Z"
   },
   {
    "duration": 5,
    "start_time": "2022-10-18T17:25:46.873Z"
   },
   {
    "duration": 31,
    "start_time": "2022-10-18T17:25:46.880Z"
   },
   {
    "duration": 21,
    "start_time": "2022-10-18T17:25:46.912Z"
   },
   {
    "duration": 20,
    "start_time": "2022-10-18T17:25:46.934Z"
   },
   {
    "duration": 17,
    "start_time": "2022-10-18T17:25:46.956Z"
   },
   {
    "duration": 39,
    "start_time": "2022-10-18T17:25:46.975Z"
   },
   {
    "duration": 20,
    "start_time": "2022-10-18T17:25:47.015Z"
   },
   {
    "duration": 23,
    "start_time": "2022-10-18T17:25:47.036Z"
   },
   {
    "duration": 1511339,
    "start_time": "2022-10-18T17:25:47.061Z"
   },
   {
    "duration": 4,
    "start_time": "2022-10-18T17:50:58.402Z"
   },
   {
    "duration": 1517105,
    "start_time": "2022-10-18T17:50:58.408Z"
   },
   {
    "duration": 3,
    "start_time": "2022-10-18T18:16:15.515Z"
   },
   {
    "duration": 60,
    "start_time": "2022-10-18T18:16:15.520Z"
   },
   {
    "duration": 59045,
    "start_time": "2022-10-18T18:16:15.583Z"
   },
   {
    "duration": 27,
    "start_time": "2022-10-18T18:17:14.630Z"
   },
   {
    "duration": 56441,
    "start_time": "2022-10-18T18:17:14.658Z"
   },
   {
    "duration": 60,
    "start_time": "2022-10-18T18:18:11.101Z"
   },
   {
    "duration": 23,
    "start_time": "2022-10-18T18:18:11.162Z"
   },
   {
    "duration": 126,
    "start_time": "2022-10-18T18:18:11.187Z"
   },
   {
    "duration": 8,
    "start_time": "2022-10-18T18:18:11.314Z"
   }
  ],
  "kernelspec": {
   "display_name": "Python 3 (ipykernel)",
   "language": "python",
   "name": "python3"
  },
  "language_info": {
   "codemirror_mode": {
    "name": "ipython",
    "version": 3
   },
   "file_extension": ".py",
   "mimetype": "text/x-python",
   "name": "python",
   "nbconvert_exporter": "python",
   "pygments_lexer": "ipython3",
   "version": "3.9.5"
  },
  "toc": {
   "base_numbering": 1,
   "nav_menu": {},
   "number_sections": true,
   "sideBar": true,
   "skip_h1_title": true,
   "title_cell": "Table of Contents",
   "title_sidebar": "Contents",
   "toc_cell": true,
   "toc_position": {
    "height": "calc(100% - 180px)",
    "left": "10px",
    "top": "150px",
    "width": "232px"
   },
   "toc_section_display": true,
   "toc_window_display": true
  }
 },
 "nbformat": 4,
 "nbformat_minor": 5
}
