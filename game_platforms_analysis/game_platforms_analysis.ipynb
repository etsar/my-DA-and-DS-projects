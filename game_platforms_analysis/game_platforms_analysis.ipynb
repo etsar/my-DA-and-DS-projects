{
 "cells": [
  {
   "cell_type": "markdown",
   "id": "5b1e0fff",
   "metadata": {},
   "source": [
    "# Determination of patterns that form the success of the game"
   ]
  },
  {
   "cell_type": "markdown",
   "id": "98c59ac2",
   "metadata": {
    "toc": true
   },
   "source": [
    "<h1>Table of Contents<span class=\"tocSkip\"></span></h1>\n",
    "<div class=\"toc\"><ul class=\"toc-item\"><li><span><a href=\"#Data-exploration\" data-toc-modified-id=\"Data-exploration-1\"><span class=\"toc-item-num\">1&nbsp;&nbsp;</span>Data exploration</a></span><ul class=\"toc-item\"><li><span><a href=\"#Conclusion\" data-toc-modified-id=\"Conclusion-1.1\"><span class=\"toc-item-num\">1.1&nbsp;&nbsp;</span>Conclusion</a></span></li></ul></li><li><span><a href=\"#Data-preprocessing\" data-toc-modified-id=\"Data-preprocessing-2\"><span class=\"toc-item-num\">2&nbsp;&nbsp;</span>Data preprocessing</a></span><ul class=\"toc-item\"><li><span><a href=\"#Converting-the-table-headers-to-a-uniform-style\" data-toc-modified-id=\"Converting-the-table-headers-to-a-uniform-style-2.1\"><span class=\"toc-item-num\">2.1&nbsp;&nbsp;</span>Converting the table headers to a uniform style</a></span></li><li><span><a href=\"#Checking-for-duplicates\" data-toc-modified-id=\"Checking-for-duplicates-2.2\"><span class=\"toc-item-num\">2.2&nbsp;&nbsp;</span>Checking for duplicates</a></span></li><li><span><a href=\"#Analysis-of-missing-values\" data-toc-modified-id=\"Analysis-of-missing-values-2.3\"><span class=\"toc-item-num\">2.3&nbsp;&nbsp;</span>Analysis of missing values</a></span></li><li><span><a href=\"#Changing-data-types\" data-toc-modified-id=\"Changing-data-types-2.4\"><span class=\"toc-item-num\">2.4&nbsp;&nbsp;</span>Changing data types</a></span></li><li><span><a href=\"#Calculations\" data-toc-modified-id=\"Calculations-2.5\"><span class=\"toc-item-num\">2.5&nbsp;&nbsp;</span>Calculations</a></span></li><li><span><a href=\"#Conclusion\" data-toc-modified-id=\"Conclusion-2.6\"><span class=\"toc-item-num\">2.6&nbsp;&nbsp;</span>Conclusion</a></span></li></ul></li><li><span><a href=\"#Exploratory-data-analysis\" data-toc-modified-id=\"Exploratory-data-analysis-3\"><span class=\"toc-item-num\">3&nbsp;&nbsp;</span>Exploratory data analysis</a></span><ul class=\"toc-item\"><li><span><a href=\"#Conclusion\" data-toc-modified-id=\"Conclusion-3.1\"><span class=\"toc-item-num\">3.1&nbsp;&nbsp;</span>Conclusion</a></span></li></ul></li><li><span><a href=\"#Creating-a-user-profile-for-each-region\" data-toc-modified-id=\"Creating-a-user-profile-for-each-region-4\"><span class=\"toc-item-num\">4&nbsp;&nbsp;</span>Creating a user profile for each region</a></span><ul class=\"toc-item\"><li><span><a href=\"#Conclusion\" data-toc-modified-id=\"Conclusion-4.1\"><span class=\"toc-item-num\">4.1&nbsp;&nbsp;</span>Conclusion</a></span></li></ul></li><li><span><a href=\"#Statistical-hypothesis-testing\" data-toc-modified-id=\"Statistical-hypothesis-testing-5\"><span class=\"toc-item-num\">5&nbsp;&nbsp;</span>Statistical hypothesis testing</a></span><ul class=\"toc-item\"><li><span><a href=\"#Comparison-of-the-two-platforms-user-scores\" data-toc-modified-id=\"Comparison-of-the-two-platforms-user-scores-5.1\"><span class=\"toc-item-num\">5.1&nbsp;&nbsp;</span>Comparison of the two platforms user scores</a></span></li><li><span><a href=\"#Comparison-of-the-two-genres-user-scores\" data-toc-modified-id=\"Comparison-of-the-two-genres-user-scores-5.2\"><span class=\"toc-item-num\">5.2&nbsp;&nbsp;</span>Comparison of the two genres user scores</a></span></li><li><span><a href=\"#Conclusion\" data-toc-modified-id=\"Conclusion-5.3\"><span class=\"toc-item-num\">5.3&nbsp;&nbsp;</span>Conclusion</a></span></li></ul></li><li><span><a href=\"#Results-and-Conclusion\" data-toc-modified-id=\"Results-and-Conclusion-6\"><span class=\"toc-item-num\">6&nbsp;&nbsp;</span>Results and Conclusion</a></span></li></ul></div>"
   ]
  },
  {
   "cell_type": "markdown",
   "id": "e030851b",
   "metadata": {},
   "source": [
    "\"Ice\" - is the online store, which sells video games all over the world.\n",
    "<br>Historical data on game sales (*until 2016*), user's and expert's reviews, genres and platforms are available from open sources. We need **to identify patterns that determine whether a game succeeds or not**. This will **allow us to spot potential big winners and plan advertising campaigns**.\n",
    "<br>Let’s imagine that it’s December 2016 and *we are planning a campaign for 2017*.\n",
    "\n",
    "**The dataset contains the abbreviation ESRB.\n",
    "<br>The Entertainment Software Rating Board evaluates a game's content and assigns an age rating such as Teen or Mature.*"
   ]
  },
  {
   "cell_type": "markdown",
   "id": "31957531",
   "metadata": {},
   "source": [
    "**The purpose of the study** is to create a user profile for each region and test two statistical hypotheses:\n",
    "1. Average user ratings of the Xbox One and PC platforms are the same;\n",
    "2. Average user ratings for the Action and Sports genres are different."
   ]
  },
  {
   "cell_type": "markdown",
   "id": "c0f23daf",
   "metadata": {},
   "source": [
    "**Research progress plan**\n",
    "\n",
    "The study will be carried out in five steps:\n",
    "1. Data exploration\n",
    "2. Data preprocessing, performing calculations and adding results to a table\n",
    "3. Exploratory data analysis\n",
    "4. Creating a user profile for each region\n",
    "5. Statistical hypothesis testing"
   ]
  },
  {
   "cell_type": "markdown",
   "id": "23e5b3e3",
   "metadata": {},
   "source": [
    "## Data exploration\n",
    "<a id='explore'></a>"
   ]
  },
  {
   "cell_type": "code",
   "execution_count": 1,
   "id": "6e09963b",
   "metadata": {},
   "outputs": [],
   "source": [
    "# import of libraries\n",
    "import matplotlib.pyplot as plt\n",
    "import numpy as np\n",
    "import pandas as pd\n",
    "import seaborn as sns\n",
    "from scipy import stats as st"
   ]
  },
  {
   "cell_type": "code",
   "execution_count": 2,
   "id": "121fac06",
   "metadata": {},
   "outputs": [],
   "source": [
    "df = pd.read_csv('/datasets/games.csv')\n",
    "# display all columns\n",
    "pd.set_option('display.max_columns', None)"
   ]
  },
  {
   "cell_type": "code",
   "execution_count": 3,
   "id": "70c324aa",
   "metadata": {},
   "outputs": [
    {
     "data": {
      "text/html": [
       "<div>\n",
       "<style scoped>\n",
       "    .dataframe tbody tr th:only-of-type {\n",
       "        vertical-align: middle;\n",
       "    }\n",
       "\n",
       "    .dataframe tbody tr th {\n",
       "        vertical-align: top;\n",
       "    }\n",
       "\n",
       "    .dataframe thead th {\n",
       "        text-align: right;\n",
       "    }\n",
       "</style>\n",
       "<table border=\"1\" class=\"dataframe\">\n",
       "  <thead>\n",
       "    <tr style=\"text-align: right;\">\n",
       "      <th></th>\n",
       "      <th>Name</th>\n",
       "      <th>Platform</th>\n",
       "      <th>Year_of_Release</th>\n",
       "      <th>Genre</th>\n",
       "      <th>NA_sales</th>\n",
       "      <th>EU_sales</th>\n",
       "      <th>JP_sales</th>\n",
       "      <th>Other_sales</th>\n",
       "      <th>Critic_Score</th>\n",
       "      <th>User_Score</th>\n",
       "      <th>Rating</th>\n",
       "    </tr>\n",
       "  </thead>\n",
       "  <tbody>\n",
       "    <tr>\n",
       "      <th>0</th>\n",
       "      <td>Wii Sports</td>\n",
       "      <td>Wii</td>\n",
       "      <td>2006.0</td>\n",
       "      <td>Sports</td>\n",
       "      <td>41.36</td>\n",
       "      <td>28.96</td>\n",
       "      <td>3.77</td>\n",
       "      <td>8.45</td>\n",
       "      <td>76.0</td>\n",
       "      <td>8</td>\n",
       "      <td>E</td>\n",
       "    </tr>\n",
       "    <tr>\n",
       "      <th>1</th>\n",
       "      <td>Super Mario Bros.</td>\n",
       "      <td>NES</td>\n",
       "      <td>1985.0</td>\n",
       "      <td>Platform</td>\n",
       "      <td>29.08</td>\n",
       "      <td>3.58</td>\n",
       "      <td>6.81</td>\n",
       "      <td>0.77</td>\n",
       "      <td>NaN</td>\n",
       "      <td>NaN</td>\n",
       "      <td>NaN</td>\n",
       "    </tr>\n",
       "    <tr>\n",
       "      <th>2</th>\n",
       "      <td>Mario Kart Wii</td>\n",
       "      <td>Wii</td>\n",
       "      <td>2008.0</td>\n",
       "      <td>Racing</td>\n",
       "      <td>15.68</td>\n",
       "      <td>12.76</td>\n",
       "      <td>3.79</td>\n",
       "      <td>3.29</td>\n",
       "      <td>82.0</td>\n",
       "      <td>8.3</td>\n",
       "      <td>E</td>\n",
       "    </tr>\n",
       "    <tr>\n",
       "      <th>3</th>\n",
       "      <td>Wii Sports Resort</td>\n",
       "      <td>Wii</td>\n",
       "      <td>2009.0</td>\n",
       "      <td>Sports</td>\n",
       "      <td>15.61</td>\n",
       "      <td>10.93</td>\n",
       "      <td>3.28</td>\n",
       "      <td>2.95</td>\n",
       "      <td>80.0</td>\n",
       "      <td>8</td>\n",
       "      <td>E</td>\n",
       "    </tr>\n",
       "    <tr>\n",
       "      <th>4</th>\n",
       "      <td>Pokemon Red/Pokemon Blue</td>\n",
       "      <td>GB</td>\n",
       "      <td>1996.0</td>\n",
       "      <td>Role-Playing</td>\n",
       "      <td>11.27</td>\n",
       "      <td>8.89</td>\n",
       "      <td>10.22</td>\n",
       "      <td>1.00</td>\n",
       "      <td>NaN</td>\n",
       "      <td>NaN</td>\n",
       "      <td>NaN</td>\n",
       "    </tr>\n",
       "  </tbody>\n",
       "</table>\n",
       "</div>"
      ],
      "text/plain": [
       "                       Name Platform  Year_of_Release         Genre  NA_sales  \\\n",
       "0                Wii Sports      Wii           2006.0        Sports     41.36   \n",
       "1         Super Mario Bros.      NES           1985.0      Platform     29.08   \n",
       "2            Mario Kart Wii      Wii           2008.0        Racing     15.68   \n",
       "3         Wii Sports Resort      Wii           2009.0        Sports     15.61   \n",
       "4  Pokemon Red/Pokemon Blue       GB           1996.0  Role-Playing     11.27   \n",
       "\n",
       "   EU_sales  JP_sales  Other_sales  Critic_Score User_Score Rating  \n",
       "0     28.96      3.77         8.45          76.0          8      E  \n",
       "1      3.58      6.81         0.77           NaN        NaN    NaN  \n",
       "2     12.76      3.79         3.29          82.0        8.3      E  \n",
       "3     10.93      3.28         2.95          80.0          8      E  \n",
       "4      8.89     10.22         1.00           NaN        NaN    NaN  "
      ]
     },
     "execution_count": 3,
     "metadata": {},
     "output_type": "execute_result"
    }
   ],
   "source": [
    "df.head()"
   ]
  },
  {
   "cell_type": "code",
   "execution_count": 4,
   "id": "4619af31",
   "metadata": {},
   "outputs": [
    {
     "name": "stdout",
     "output_type": "stream",
     "text": [
      "<class 'pandas.core.frame.DataFrame'>\n",
      "RangeIndex: 16715 entries, 0 to 16714\n",
      "Data columns (total 11 columns):\n",
      " #   Column           Non-Null Count  Dtype  \n",
      "---  ------           --------------  -----  \n",
      " 0   Name             16713 non-null  object \n",
      " 1   Platform         16715 non-null  object \n",
      " 2   Year_of_Release  16446 non-null  float64\n",
      " 3   Genre            16713 non-null  object \n",
      " 4   NA_sales         16715 non-null  float64\n",
      " 5   EU_sales         16715 non-null  float64\n",
      " 6   JP_sales         16715 non-null  float64\n",
      " 7   Other_sales      16715 non-null  float64\n",
      " 8   Critic_Score     8137 non-null   float64\n",
      " 9   User_Score       10014 non-null  object \n",
      " 10  Rating           9949 non-null   object \n",
      "dtypes: float64(6), object(5)\n",
      "memory usage: 1.4+ MB\n"
     ]
    }
   ],
   "source": [
    "df.info()"
   ]
  },
  {
   "cell_type": "markdown",
   "id": "7683ccc2",
   "metadata": {},
   "source": [
    "**Let's describe the data for the table:**\n",
    "\n",
    "The table contains the following information:\n",
    "- `Name` — game name\n",
    "- `Platform` — game platform name\n",
    "- `Year_of_Release` — game year of release\n",
    "- `Genre` — game genre\n",
    "- `NA_sales` — North American sales (millions of copies sold)\n",
    "- `EU_sales` — sales in Europe (millions of copies sold)\n",
    "- `JP_sales` — sales in Japan (millions of copies sold)\n",
    "- `Other_sales` — sales in other countries (millions of copies sold)\n",
    "- `Critic_Score` — critics' score (maximum of 100)\n",
    "- `User_Score` — users' score (maximum of 10)\n",
    "- `Rating` — ESRB rating"
   ]
  },
  {
   "cell_type": "markdown",
   "id": "61c1e423",
   "metadata": {},
   "source": [
    "There are missing values in the following columns: `Name`, `Year_of_Release`, `Genre`, `Critic_Score`, `User_Score` and `Rating`. They need to be examined and replaced if necessary.\n",
    "<br>It is necessary to change data type of the `Year_of_Release` column into *int* format, and the `User_Score`column into *float* format. \n",
    "<br>In addition, it is better to convert the table headers to a uniform style (lowercase)."
   ]
  },
  {
   "cell_type": "markdown",
   "id": "6240a150",
   "metadata": {},
   "source": [
    "### Conclusion"
   ]
  },
  {
   "cell_type": "markdown",
   "id": "a5e3e6ba",
   "metadata": {},
   "source": [
    "Based on a preliminary analysis of the table, it is needed to perform the following procedures:\n",
    "- to convert the table headers to a uniform lowercase style. The procedures will be performed in section [2.1](#column_names).\n",
    "- to check data for duplicates. The procedures will be performed in section [2.2](#duplicates).\n",
    "- to explore missing values. The procedures will be performed in section [2.3](#missed_values).\n",
    "- to change datatype of some columns. The procedures will be performed in section [2.4](#change_type).\n",
    "- to perform some calculations necessary for further analysis. The procedures will be performed in section [2.5](#computations)."
   ]
  },
  {
   "cell_type": "markdown",
   "id": "c8f008ca",
   "metadata": {},
   "source": [
    "## Data preprocessing"
   ]
  },
  {
   "cell_type": "markdown",
   "id": "331ad507",
   "metadata": {},
   "source": [
    "### Converting the table headers to a uniform style\n",
    "<a id='column_names'></a>"
   ]
  },
  {
   "cell_type": "markdown",
   "id": "5c2d457b",
   "metadata": {},
   "source": [
    "Let's display the column headings:"
   ]
  },
  {
   "cell_type": "code",
   "execution_count": 5,
   "id": "2ce8dd7b",
   "metadata": {
    "scrolled": true
   },
   "outputs": [
    {
     "data": {
      "text/plain": [
       "Index(['Name', 'Platform', 'Year_of_Release', 'Genre', 'NA_sales', 'EU_sales',\n",
       "       'JP_sales', 'Other_sales', 'Critic_Score', 'User_Score', 'Rating'],\n",
       "      dtype='object')"
      ]
     },
     "execution_count": 5,
     "metadata": {},
     "output_type": "execute_result"
    }
   ],
   "source": [
    "df.columns"
   ]
  },
  {
   "cell_type": "markdown",
   "id": "9fbda8a8",
   "metadata": {},
   "source": [
    "Let's convert the table headers to a uniform lowercase style: "
   ]
  },
  {
   "cell_type": "code",
   "execution_count": 6,
   "id": "7e848259",
   "metadata": {},
   "outputs": [
    {
     "data": {
      "text/plain": [
       "Index(['name', 'platform', 'year_of_release', 'genre', 'na_sales', 'eu_sales',\n",
       "       'jp_sales', 'other_sales', 'critic_score', 'user_score', 'rating'],\n",
       "      dtype='object')"
      ]
     },
     "execution_count": 6,
     "metadata": {},
     "output_type": "execute_result"
    }
   ],
   "source": [
    "df.columns = df.columns.str.lower()\n",
    "df.columns"
   ]
  },
  {
   "cell_type": "markdown",
   "id": "f6b52856",
   "metadata": {},
   "source": [
    "The table headers are converted to snake_case."
   ]
  },
  {
   "cell_type": "markdown",
   "id": "8ad22136",
   "metadata": {},
   "source": [
    "### Checking for duplicates\n",
    "<a id='duplicates'></a>"
   ]
  },
  {
   "cell_type": "markdown",
   "id": "347fcb78",
   "metadata": {},
   "source": [
    "First, let's calculate how many explicit duplicates are in the table:"
   ]
  },
  {
   "cell_type": "code",
   "execution_count": 7,
   "id": "0a032eb2",
   "metadata": {},
   "outputs": [
    {
     "data": {
      "text/plain": [
       "0"
      ]
     },
     "execution_count": 7,
     "metadata": {},
     "output_type": "execute_result"
    }
   ],
   "source": [
    "df.duplicated().sum()"
   ]
  },
  {
   "cell_type": "markdown",
   "id": "dd1da79c",
   "metadata": {},
   "source": [
    "No explicit duplicates were found in the table."
   ]
  },
  {
   "cell_type": "markdown",
   "id": "921632e5",
   "metadata": {},
   "source": [
    "Let's check for implicit duplicates in the following columns: `name`, `platform`, `genre`. <br>The presence of implicit duplicates in other columns is considered unlikely."
   ]
  },
  {
   "cell_type": "code",
   "execution_count": 8,
   "id": "0ff9f23d",
   "metadata": {},
   "outputs": [
    {
     "name": "stdout",
     "output_type": "stream",
     "text": [
      "Number of unique values in the 'name' column: 11560\n"
     ]
    },
    {
     "data": {
      "text/plain": [
       "array([' Beyblade Burst', ' Fire Emblem Fates', \" Frozen: Olaf's Quest\",\n",
       "       ..., 'wwe Smackdown vs. Raw 2006', '¡Shin Chan Flipa en colores!',\n",
       "       nan], dtype=object)"
      ]
     },
     "execution_count": 8,
     "metadata": {},
     "output_type": "execute_result"
    }
   ],
   "source": [
    "# number of unique column values and unique column values itself\n",
    "print(f\"Number of unique values in the 'name' column:\", len(df['name'].unique()))\n",
    "df['name'].sort_values().unique()"
   ]
  },
  {
   "cell_type": "markdown",
   "id": "cb36df40",
   "metadata": {},
   "source": [
    "The `name` column contains a lot of unique values - 11560 - which are difficult to analyze for implicit duplicates. However, we can see some whitespaces at the beginning of some game names.\n",
    "<br>Let's get rid of extra spaces and convert all names to lower case:"
   ]
  },
  {
   "cell_type": "code",
   "execution_count": 9,
   "id": "652d1c67",
   "metadata": {},
   "outputs": [
    {
     "name": "stdout",
     "output_type": "stream",
     "text": [
      "Number of unique values in the 'name' column: 11560\n"
     ]
    }
   ],
   "source": [
    "df['name'] = df['name'].str.lower().str.strip()\n",
    "print(f\"Number of unique values in the 'name' column:\", len(df['name'].unique()))"
   ]
  },
  {
   "cell_type": "markdown",
   "id": "567f0136",
   "metadata": {},
   "source": [
    "The number of unique values in the `name` column remains the same. <br>Implicit duplicates are not found this way."
   ]
  },
  {
   "cell_type": "markdown",
   "id": "86e5f101",
   "metadata": {},
   "source": [
    "Let's check for unique values of the `platform` and `genre` columns:"
   ]
  },
  {
   "cell_type": "code",
   "execution_count": 10,
   "id": "4ce9c875",
   "metadata": {},
   "outputs": [
    {
     "data": {
      "text/plain": [
       "array(['2600', '3DO', '3DS', 'DC', 'DS', 'GB', 'GBA', 'GC', 'GEN', 'GG',\n",
       "       'N64', 'NES', 'NG', 'PC', 'PCFX', 'PS', 'PS2', 'PS3', 'PS4', 'PSP',\n",
       "       'PSV', 'SAT', 'SCD', 'SNES', 'TG16', 'WS', 'Wii', 'WiiU', 'X360',\n",
       "       'XB', 'XOne'], dtype=object)"
      ]
     },
     "execution_count": 10,
     "metadata": {},
     "output_type": "execute_result"
    }
   ],
   "source": [
    "df['platform'].sort_values().unique()"
   ]
  },
  {
   "cell_type": "code",
   "execution_count": 11,
   "id": "fb9d1ec9",
   "metadata": {
    "scrolled": true
   },
   "outputs": [
    {
     "data": {
      "text/plain": [
       "array(['Action', 'Adventure', 'Fighting', 'Misc', 'Platform', 'Puzzle',\n",
       "       'Racing', 'Role-Playing', 'Shooter', 'Simulation', 'Sports',\n",
       "       'Strategy', nan], dtype=object)"
      ]
     },
     "execution_count": 11,
     "metadata": {},
     "output_type": "execute_result"
    }
   ],
   "source": [
    "df['genre'].sort_values().unique()"
   ]
  },
  {
   "cell_type": "markdown",
   "id": "25d7f1c6",
   "metadata": {},
   "source": [
    "No implicit duplicates were found in the table as well."
   ]
  },
  {
   "cell_type": "markdown",
   "id": "226b6320",
   "metadata": {},
   "source": [
    "### Analysis of missing values\n",
    "<a id='missed_values'></a>"
   ]
  },
  {
   "cell_type": "markdown",
   "id": "5f9b79e3",
   "metadata": {},
   "source": [
    "In the [Data exploration](#explore) section we identified missing values in the following columns: `name`, `year_of_release`, `genre`, `critic_score`, `user_score` and `rating`.\n",
    "<br>First, let's calculate how many missing values are in the table:"
   ]
  },
  {
   "cell_type": "code",
   "execution_count": 12,
   "id": "1ebea647",
   "metadata": {},
   "outputs": [
    {
     "data": {
      "text/html": [
       "<div>\n",
       "<style scoped>\n",
       "    .dataframe tbody tr th:only-of-type {\n",
       "        vertical-align: middle;\n",
       "    }\n",
       "\n",
       "    .dataframe tbody tr th {\n",
       "        vertical-align: top;\n",
       "    }\n",
       "\n",
       "    .dataframe thead th {\n",
       "        text-align: right;\n",
       "    }\n",
       "</style>\n",
       "<table border=\"1\" class=\"dataframe\">\n",
       "  <thead>\n",
       "    <tr style=\"text-align: right;\">\n",
       "      <th></th>\n",
       "      <th>name</th>\n",
       "      <th>platform</th>\n",
       "      <th>year_of_release</th>\n",
       "      <th>genre</th>\n",
       "      <th>na_sales</th>\n",
       "      <th>eu_sales</th>\n",
       "      <th>jp_sales</th>\n",
       "      <th>other_sales</th>\n",
       "      <th>critic_score</th>\n",
       "      <th>user_score</th>\n",
       "      <th>rating</th>\n",
       "    </tr>\n",
       "  </thead>\n",
       "  <tbody>\n",
       "    <tr>\n",
       "      <th>sum</th>\n",
       "      <td>2.00000</td>\n",
       "      <td>0.0</td>\n",
       "      <td>269.000000</td>\n",
       "      <td>2.00000</td>\n",
       "      <td>0.0</td>\n",
       "      <td>0.0</td>\n",
       "      <td>0.0</td>\n",
       "      <td>0.0</td>\n",
       "      <td>8578.000000</td>\n",
       "      <td>6701.000000</td>\n",
       "      <td>6766.000000</td>\n",
       "    </tr>\n",
       "    <tr>\n",
       "      <th>mean</th>\n",
       "      <td>0.00012</td>\n",
       "      <td>0.0</td>\n",
       "      <td>0.016093</td>\n",
       "      <td>0.00012</td>\n",
       "      <td>0.0</td>\n",
       "      <td>0.0</td>\n",
       "      <td>0.0</td>\n",
       "      <td>0.0</td>\n",
       "      <td>0.513192</td>\n",
       "      <td>0.400897</td>\n",
       "      <td>0.404786</td>\n",
       "    </tr>\n",
       "  </tbody>\n",
       "</table>\n",
       "</div>"
      ],
      "text/plain": [
       "         name  platform  year_of_release    genre  na_sales  eu_sales  \\\n",
       "sum   2.00000       0.0       269.000000  2.00000       0.0       0.0   \n",
       "mean  0.00012       0.0         0.016093  0.00012       0.0       0.0   \n",
       "\n",
       "      jp_sales  other_sales  critic_score   user_score       rating  \n",
       "sum        0.0          0.0   8578.000000  6701.000000  6766.000000  \n",
       "mean       0.0          0.0      0.513192     0.400897     0.404786  "
      ]
     },
     "execution_count": 12,
     "metadata": {},
     "output_type": "execute_result"
    }
   ],
   "source": [
    "df.isna().agg(['sum', 'mean'])"
   ]
  },
  {
   "cell_type": "markdown",
   "id": "cc337b46",
   "metadata": {},
   "source": [
    "Few missing values found in `name`, `year_of_release` and `genre` columns.\n",
    "<br>Because the missing values in these columns make up less than 5% of the total data, we can delete the rows with missing data.\n",
    "<br>It is also worth noting that missing values in the `year_of_release` column could be replaced with the year of release of the same game on another platform, but in our opinion, this is not entirely correct, since the difference in the release date of the same game on different platforms can be as long as 15 years, and this can significantly distort the results of our study."
   ]
  },
  {
   "cell_type": "code",
   "execution_count": 13,
   "id": "6fe10641",
   "metadata": {
    "scrolled": true
   },
   "outputs": [
    {
     "data": {
      "text/html": [
       "<div>\n",
       "<style scoped>\n",
       "    .dataframe tbody tr th:only-of-type {\n",
       "        vertical-align: middle;\n",
       "    }\n",
       "\n",
       "    .dataframe tbody tr th {\n",
       "        vertical-align: top;\n",
       "    }\n",
       "\n",
       "    .dataframe thead th {\n",
       "        text-align: right;\n",
       "    }\n",
       "</style>\n",
       "<table border=\"1\" class=\"dataframe\">\n",
       "  <thead>\n",
       "    <tr style=\"text-align: right;\">\n",
       "      <th></th>\n",
       "      <th>name</th>\n",
       "      <th>platform</th>\n",
       "      <th>year_of_release</th>\n",
       "      <th>genre</th>\n",
       "      <th>na_sales</th>\n",
       "      <th>eu_sales</th>\n",
       "      <th>jp_sales</th>\n",
       "      <th>other_sales</th>\n",
       "      <th>critic_score</th>\n",
       "      <th>user_score</th>\n",
       "      <th>rating</th>\n",
       "    </tr>\n",
       "  </thead>\n",
       "  <tbody>\n",
       "    <tr>\n",
       "      <th>sum</th>\n",
       "      <td>0.0</td>\n",
       "      <td>0.0</td>\n",
       "      <td>0.0</td>\n",
       "      <td>0.0</td>\n",
       "      <td>0.0</td>\n",
       "      <td>0.0</td>\n",
       "      <td>0.0</td>\n",
       "      <td>0.0</td>\n",
       "      <td>8461.000000</td>\n",
       "      <td>6605.000000</td>\n",
       "      <td>6676.000000</td>\n",
       "    </tr>\n",
       "    <tr>\n",
       "      <th>mean</th>\n",
       "      <td>0.0</td>\n",
       "      <td>0.0</td>\n",
       "      <td>0.0</td>\n",
       "      <td>0.0</td>\n",
       "      <td>0.0</td>\n",
       "      <td>0.0</td>\n",
       "      <td>0.0</td>\n",
       "      <td>0.0</td>\n",
       "      <td>0.514534</td>\n",
       "      <td>0.401666</td>\n",
       "      <td>0.405984</td>\n",
       "    </tr>\n",
       "  </tbody>\n",
       "</table>\n",
       "</div>"
      ],
      "text/plain": [
       "      name  platform  year_of_release  genre  na_sales  eu_sales  jp_sales  \\\n",
       "sum    0.0       0.0              0.0    0.0       0.0       0.0       0.0   \n",
       "mean   0.0       0.0              0.0    0.0       0.0       0.0       0.0   \n",
       "\n",
       "      other_sales  critic_score   user_score       rating  \n",
       "sum           0.0   8461.000000  6605.000000  6676.000000  \n",
       "mean          0.0      0.514534     0.401666     0.405984  "
      ]
     },
     "execution_count": 13,
     "metadata": {},
     "output_type": "execute_result"
    }
   ],
   "source": [
    "df = df.dropna(subset = ['name', 'year_of_release'])\n",
    "df.isna().agg(['sum', 'mean'])"
   ]
  },
  {
   "cell_type": "code",
   "execution_count": 14,
   "id": "340a881a",
   "metadata": {},
   "outputs": [
    {
     "name": "stdout",
     "output_type": "stream",
     "text": [
      "Number of 'tbd' values in the 'user_score' column: 2376\n",
      "Share of 'tbd' values: 0.14449039163220628\n"
     ]
    }
   ],
   "source": [
    "print(f\"Number of 'tbd' values in the 'user_score' column:\", len(df[df['user_score'] == 'tbd']))\n",
    "print(f\"Share of 'tbd' values:\", len(df[df['user_score'] == 'tbd'])/len(df))"
   ]
  },
  {
   "cell_type": "markdown",
   "id": "073fc356",
   "metadata": {},
   "source": [
    "We also found 'tbd' values in the `user_score` column - about 14% of all data. Most likely, this value may mean 'to be determined' and that there are no user ratings for this game yet, or there are not enough ratings (for example, less than 3 ratings received).\n",
    "<br>Therefore, to begin with, we can replace these values with NaN:"
   ]
  },
  {
   "cell_type": "code",
   "execution_count": 15,
   "id": "43a0dd43",
   "metadata": {
    "scrolled": true
   },
   "outputs": [
    {
     "data": {
      "text/plain": [
       "True"
      ]
     },
     "execution_count": 15,
     "metadata": {},
     "output_type": "execute_result"
    }
   ],
   "source": [
    "df['user_score'] = df['user_score'].replace('tbd', np.nan).astype('float64')\n",
    "len(df[df['user_score'].isna()]['user_score']) == 6605 + 2376"
   ]
  },
  {
   "cell_type": "markdown",
   "id": "7e5a0c8d",
   "metadata": {},
   "source": [
    "We found a significant number of missing values in the columns with the scores of critics and users, as well as the ESRB rating.\n",
    "<br>These missing values may have occurred during data transfer/download, or indeed there were no critic and/or user scores and/or ratings from the ESRB organization for these games.\n",
    "\n",
    "The `critic_score` and `user_score` columns have 51% and 54% missing values respectively, which means that about half of the values in these columns are missing. Therefore, replacing these missing values with the mean or median can significantly distort the results of further analysis. In this regard, **let's leave these missing values in the `critic_score` and `user_score` columns unchanged**.\n",
    "\n",
    "There are also about 41% missing values in the ESRB `rating` column. Since the values in this column are categorical, replacing such missing values with, for example, the most frequently occurring rating value for a particular genre can significantly distort the results of further analysis. So **let's replace these missing values in the `rating` column with the value `unknown`**:"
   ]
  },
  {
   "cell_type": "code",
   "execution_count": 16,
   "id": "a399eb01",
   "metadata": {},
   "outputs": [
    {
     "data": {
      "text/html": [
       "<div>\n",
       "<style scoped>\n",
       "    .dataframe tbody tr th:only-of-type {\n",
       "        vertical-align: middle;\n",
       "    }\n",
       "\n",
       "    .dataframe tbody tr th {\n",
       "        vertical-align: top;\n",
       "    }\n",
       "\n",
       "    .dataframe thead th {\n",
       "        text-align: right;\n",
       "    }\n",
       "</style>\n",
       "<table border=\"1\" class=\"dataframe\">\n",
       "  <thead>\n",
       "    <tr style=\"text-align: right;\">\n",
       "      <th></th>\n",
       "      <th>name</th>\n",
       "      <th>platform</th>\n",
       "      <th>year_of_release</th>\n",
       "      <th>genre</th>\n",
       "      <th>na_sales</th>\n",
       "      <th>eu_sales</th>\n",
       "      <th>jp_sales</th>\n",
       "      <th>other_sales</th>\n",
       "      <th>critic_score</th>\n",
       "      <th>user_score</th>\n",
       "      <th>rating</th>\n",
       "    </tr>\n",
       "  </thead>\n",
       "  <tbody>\n",
       "    <tr>\n",
       "      <th>0</th>\n",
       "      <td>wii sports</td>\n",
       "      <td>Wii</td>\n",
       "      <td>2006.0</td>\n",
       "      <td>Sports</td>\n",
       "      <td>41.36</td>\n",
       "      <td>28.96</td>\n",
       "      <td>3.77</td>\n",
       "      <td>8.45</td>\n",
       "      <td>76.0</td>\n",
       "      <td>8.0</td>\n",
       "      <td>E</td>\n",
       "    </tr>\n",
       "    <tr>\n",
       "      <th>1</th>\n",
       "      <td>super mario bros.</td>\n",
       "      <td>NES</td>\n",
       "      <td>1985.0</td>\n",
       "      <td>Platform</td>\n",
       "      <td>29.08</td>\n",
       "      <td>3.58</td>\n",
       "      <td>6.81</td>\n",
       "      <td>0.77</td>\n",
       "      <td>NaN</td>\n",
       "      <td>NaN</td>\n",
       "      <td>unknown</td>\n",
       "    </tr>\n",
       "    <tr>\n",
       "      <th>2</th>\n",
       "      <td>mario kart wii</td>\n",
       "      <td>Wii</td>\n",
       "      <td>2008.0</td>\n",
       "      <td>Racing</td>\n",
       "      <td>15.68</td>\n",
       "      <td>12.76</td>\n",
       "      <td>3.79</td>\n",
       "      <td>3.29</td>\n",
       "      <td>82.0</td>\n",
       "      <td>8.3</td>\n",
       "      <td>E</td>\n",
       "    </tr>\n",
       "    <tr>\n",
       "      <th>3</th>\n",
       "      <td>wii sports resort</td>\n",
       "      <td>Wii</td>\n",
       "      <td>2009.0</td>\n",
       "      <td>Sports</td>\n",
       "      <td>15.61</td>\n",
       "      <td>10.93</td>\n",
       "      <td>3.28</td>\n",
       "      <td>2.95</td>\n",
       "      <td>80.0</td>\n",
       "      <td>8.0</td>\n",
       "      <td>E</td>\n",
       "    </tr>\n",
       "    <tr>\n",
       "      <th>4</th>\n",
       "      <td>pokemon red/pokemon blue</td>\n",
       "      <td>GB</td>\n",
       "      <td>1996.0</td>\n",
       "      <td>Role-Playing</td>\n",
       "      <td>11.27</td>\n",
       "      <td>8.89</td>\n",
       "      <td>10.22</td>\n",
       "      <td>1.00</td>\n",
       "      <td>NaN</td>\n",
       "      <td>NaN</td>\n",
       "      <td>unknown</td>\n",
       "    </tr>\n",
       "  </tbody>\n",
       "</table>\n",
       "</div>"
      ],
      "text/plain": [
       "                       name platform  year_of_release         genre  na_sales  \\\n",
       "0                wii sports      Wii           2006.0        Sports     41.36   \n",
       "1         super mario bros.      NES           1985.0      Platform     29.08   \n",
       "2            mario kart wii      Wii           2008.0        Racing     15.68   \n",
       "3         wii sports resort      Wii           2009.0        Sports     15.61   \n",
       "4  pokemon red/pokemon blue       GB           1996.0  Role-Playing     11.27   \n",
       "\n",
       "   eu_sales  jp_sales  other_sales  critic_score  user_score   rating  \n",
       "0     28.96      3.77         8.45          76.0         8.0        E  \n",
       "1      3.58      6.81         0.77           NaN         NaN  unknown  \n",
       "2     12.76      3.79         3.29          82.0         8.3        E  \n",
       "3     10.93      3.28         2.95          80.0         8.0        E  \n",
       "4      8.89     10.22         1.00           NaN         NaN  unknown  "
      ]
     },
     "execution_count": 16,
     "metadata": {},
     "output_type": "execute_result"
    }
   ],
   "source": [
    "df['rating'] = df['rating'].fillna(value='unknown')\n",
    "df.head()"
   ]
  },
  {
   "cell_type": "code",
   "execution_count": 17,
   "id": "2c6b2518",
   "metadata": {
    "scrolled": true
   },
   "outputs": [
    {
     "data": {
      "text/html": [
       "<div>\n",
       "<style scoped>\n",
       "    .dataframe tbody tr th:only-of-type {\n",
       "        vertical-align: middle;\n",
       "    }\n",
       "\n",
       "    .dataframe tbody tr th {\n",
       "        vertical-align: top;\n",
       "    }\n",
       "\n",
       "    .dataframe thead th {\n",
       "        text-align: right;\n",
       "    }\n",
       "</style>\n",
       "<table border=\"1\" class=\"dataframe\">\n",
       "  <thead>\n",
       "    <tr style=\"text-align: right;\">\n",
       "      <th></th>\n",
       "      <th>name</th>\n",
       "      <th>platform</th>\n",
       "      <th>year_of_release</th>\n",
       "      <th>genre</th>\n",
       "      <th>na_sales</th>\n",
       "      <th>eu_sales</th>\n",
       "      <th>jp_sales</th>\n",
       "      <th>other_sales</th>\n",
       "      <th>critic_score</th>\n",
       "      <th>user_score</th>\n",
       "      <th>rating</th>\n",
       "    </tr>\n",
       "  </thead>\n",
       "  <tbody>\n",
       "    <tr>\n",
       "      <th>sum</th>\n",
       "      <td>0.0</td>\n",
       "      <td>0.0</td>\n",
       "      <td>0.0</td>\n",
       "      <td>0.0</td>\n",
       "      <td>0.0</td>\n",
       "      <td>0.0</td>\n",
       "      <td>0.0</td>\n",
       "      <td>0.0</td>\n",
       "      <td>8461.000000</td>\n",
       "      <td>8981.000000</td>\n",
       "      <td>0.0</td>\n",
       "    </tr>\n",
       "    <tr>\n",
       "      <th>mean</th>\n",
       "      <td>0.0</td>\n",
       "      <td>0.0</td>\n",
       "      <td>0.0</td>\n",
       "      <td>0.0</td>\n",
       "      <td>0.0</td>\n",
       "      <td>0.0</td>\n",
       "      <td>0.0</td>\n",
       "      <td>0.0</td>\n",
       "      <td>0.514534</td>\n",
       "      <td>0.546157</td>\n",
       "      <td>0.0</td>\n",
       "    </tr>\n",
       "  </tbody>\n",
       "</table>\n",
       "</div>"
      ],
      "text/plain": [
       "      name  platform  year_of_release  genre  na_sales  eu_sales  jp_sales  \\\n",
       "sum    0.0       0.0              0.0    0.0       0.0       0.0       0.0   \n",
       "mean   0.0       0.0              0.0    0.0       0.0       0.0       0.0   \n",
       "\n",
       "      other_sales  critic_score   user_score  rating  \n",
       "sum           0.0   8461.000000  8981.000000     0.0  \n",
       "mean          0.0      0.514534     0.546157     0.0  "
      ]
     },
     "execution_count": 17,
     "metadata": {},
     "output_type": "execute_result"
    }
   ],
   "source": [
    "df.isna().agg(['sum', 'mean'])"
   ]
  },
  {
   "cell_type": "markdown",
   "id": "f7001427",
   "metadata": {},
   "source": [
    "The missing values have been replaced where necessary."
   ]
  },
  {
   "cell_type": "markdown",
   "id": "4781eae6",
   "metadata": {},
   "source": [
    "### Changing data types\n",
    "<a id='change_type'></a>"
   ]
  },
  {
   "cell_type": "markdown",
   "id": "fd7dbe7e",
   "metadata": {},
   "source": [
    "It is necessary to convert data types of the `year_of_release` column from `float64` into `int64`, as well as the `user_score` column from `object` into `float64`."
   ]
  },
  {
   "cell_type": "code",
   "execution_count": 18,
   "id": "2a639020",
   "metadata": {},
   "outputs": [
    {
     "name": "stdout",
     "output_type": "stream",
     "text": [
      "<class 'pandas.core.frame.DataFrame'>\n",
      "Int64Index: 16444 entries, 0 to 16714\n",
      "Data columns (total 11 columns):\n",
      " #   Column           Non-Null Count  Dtype  \n",
      "---  ------           --------------  -----  \n",
      " 0   name             16444 non-null  object \n",
      " 1   platform         16444 non-null  object \n",
      " 2   year_of_release  16444 non-null  int64  \n",
      " 3   genre            16444 non-null  object \n",
      " 4   na_sales         16444 non-null  float64\n",
      " 5   eu_sales         16444 non-null  float64\n",
      " 6   jp_sales         16444 non-null  float64\n",
      " 7   other_sales      16444 non-null  float64\n",
      " 8   critic_score     7983 non-null   float64\n",
      " 9   user_score       7463 non-null   float64\n",
      " 10  rating           16444 non-null  object \n",
      "dtypes: float64(6), int64(1), object(4)\n",
      "memory usage: 1.5+ MB\n"
     ]
    }
   ],
   "source": [
    "df['year_of_release'] = df['year_of_release'].astype('int64')\n",
    "df['user_score'] = df['user_score'].astype('float64')\n",
    "df.info()"
   ]
  },
  {
   "cell_type": "markdown",
   "id": "c136ae1e",
   "metadata": {},
   "source": [
    "The data types have been converted where necessary."
   ]
  },
  {
   "cell_type": "markdown",
   "id": "265f219c",
   "metadata": {},
   "source": [
    "### Calculations\n",
    "<a id='computations'></a>"
   ]
  },
  {
   "cell_type": "markdown",
   "id": "f2dcf58f",
   "metadata": {},
   "source": [
    "Let's calculate the total sales in all regions and write them in a separate column:"
   ]
  },
  {
   "cell_type": "code",
   "execution_count": 19,
   "id": "3e5e9256",
   "metadata": {},
   "outputs": [
    {
     "data": {
      "text/html": [
       "<div>\n",
       "<style scoped>\n",
       "    .dataframe tbody tr th:only-of-type {\n",
       "        vertical-align: middle;\n",
       "    }\n",
       "\n",
       "    .dataframe tbody tr th {\n",
       "        vertical-align: top;\n",
       "    }\n",
       "\n",
       "    .dataframe thead th {\n",
       "        text-align: right;\n",
       "    }\n",
       "</style>\n",
       "<table border=\"1\" class=\"dataframe\">\n",
       "  <thead>\n",
       "    <tr style=\"text-align: right;\">\n",
       "      <th></th>\n",
       "      <th>name</th>\n",
       "      <th>platform</th>\n",
       "      <th>year_of_release</th>\n",
       "      <th>genre</th>\n",
       "      <th>na_sales</th>\n",
       "      <th>eu_sales</th>\n",
       "      <th>jp_sales</th>\n",
       "      <th>other_sales</th>\n",
       "      <th>critic_score</th>\n",
       "      <th>user_score</th>\n",
       "      <th>rating</th>\n",
       "      <th>total_sales</th>\n",
       "    </tr>\n",
       "  </thead>\n",
       "  <tbody>\n",
       "    <tr>\n",
       "      <th>0</th>\n",
       "      <td>wii sports</td>\n",
       "      <td>Wii</td>\n",
       "      <td>2006</td>\n",
       "      <td>Sports</td>\n",
       "      <td>41.36</td>\n",
       "      <td>28.96</td>\n",
       "      <td>3.77</td>\n",
       "      <td>8.45</td>\n",
       "      <td>76.0</td>\n",
       "      <td>8.0</td>\n",
       "      <td>E</td>\n",
       "      <td>82.54</td>\n",
       "    </tr>\n",
       "    <tr>\n",
       "      <th>1</th>\n",
       "      <td>super mario bros.</td>\n",
       "      <td>NES</td>\n",
       "      <td>1985</td>\n",
       "      <td>Platform</td>\n",
       "      <td>29.08</td>\n",
       "      <td>3.58</td>\n",
       "      <td>6.81</td>\n",
       "      <td>0.77</td>\n",
       "      <td>NaN</td>\n",
       "      <td>NaN</td>\n",
       "      <td>unknown</td>\n",
       "      <td>40.24</td>\n",
       "    </tr>\n",
       "    <tr>\n",
       "      <th>2</th>\n",
       "      <td>mario kart wii</td>\n",
       "      <td>Wii</td>\n",
       "      <td>2008</td>\n",
       "      <td>Racing</td>\n",
       "      <td>15.68</td>\n",
       "      <td>12.76</td>\n",
       "      <td>3.79</td>\n",
       "      <td>3.29</td>\n",
       "      <td>82.0</td>\n",
       "      <td>8.3</td>\n",
       "      <td>E</td>\n",
       "      <td>35.52</td>\n",
       "    </tr>\n",
       "    <tr>\n",
       "      <th>3</th>\n",
       "      <td>wii sports resort</td>\n",
       "      <td>Wii</td>\n",
       "      <td>2009</td>\n",
       "      <td>Sports</td>\n",
       "      <td>15.61</td>\n",
       "      <td>10.93</td>\n",
       "      <td>3.28</td>\n",
       "      <td>2.95</td>\n",
       "      <td>80.0</td>\n",
       "      <td>8.0</td>\n",
       "      <td>E</td>\n",
       "      <td>32.77</td>\n",
       "    </tr>\n",
       "    <tr>\n",
       "      <th>4</th>\n",
       "      <td>pokemon red/pokemon blue</td>\n",
       "      <td>GB</td>\n",
       "      <td>1996</td>\n",
       "      <td>Role-Playing</td>\n",
       "      <td>11.27</td>\n",
       "      <td>8.89</td>\n",
       "      <td>10.22</td>\n",
       "      <td>1.00</td>\n",
       "      <td>NaN</td>\n",
       "      <td>NaN</td>\n",
       "      <td>unknown</td>\n",
       "      <td>31.38</td>\n",
       "    </tr>\n",
       "  </tbody>\n",
       "</table>\n",
       "</div>"
      ],
      "text/plain": [
       "                       name platform  year_of_release         genre  na_sales  \\\n",
       "0                wii sports      Wii             2006        Sports     41.36   \n",
       "1         super mario bros.      NES             1985      Platform     29.08   \n",
       "2            mario kart wii      Wii             2008        Racing     15.68   \n",
       "3         wii sports resort      Wii             2009        Sports     15.61   \n",
       "4  pokemon red/pokemon blue       GB             1996  Role-Playing     11.27   \n",
       "\n",
       "   eu_sales  jp_sales  other_sales  critic_score  user_score   rating  \\\n",
       "0     28.96      3.77         8.45          76.0         8.0        E   \n",
       "1      3.58      6.81         0.77           NaN         NaN  unknown   \n",
       "2     12.76      3.79         3.29          82.0         8.3        E   \n",
       "3     10.93      3.28         2.95          80.0         8.0        E   \n",
       "4      8.89     10.22         1.00           NaN         NaN  unknown   \n",
       "\n",
       "   total_sales  \n",
       "0        82.54  \n",
       "1        40.24  \n",
       "2        35.52  \n",
       "3        32.77  \n",
       "4        31.38  "
      ]
     },
     "execution_count": 19,
     "metadata": {},
     "output_type": "execute_result"
    }
   ],
   "source": [
    "df['total_sales'] = df[['na_sales','eu_sales','jp_sales', 'other_sales']].sum(axis = 1)\n",
    "df.head()"
   ]
  },
  {
   "cell_type": "markdown",
   "id": "cc4534b4",
   "metadata": {},
   "source": [
    "Necessary calculations added to the dataframe."
   ]
  },
  {
   "cell_type": "markdown",
   "id": "34d18756",
   "metadata": {},
   "source": [
    "### Conclusion"
   ]
  },
  {
   "cell_type": "markdown",
   "id": "a164dd53",
   "metadata": {},
   "source": [
    "The procedures necessary for further analysis were performed:\n",
    "- column headers and data types changed, missing values replaced where necessary;\n",
    "- checked for duplicates;\n",
    "- the necessary calculations added to the dataframe.\n",
    "\n",
    "We can start exploratory data analysis."
   ]
  },
  {
   "cell_type": "markdown",
   "id": "3001f187",
   "metadata": {},
   "source": [
    "## Exploratory data analysis"
   ]
  },
  {
   "cell_type": "markdown",
   "id": "1c9b06bc",
   "metadata": {},
   "source": [
    "Let's see how many games were released in different years:"
   ]
  },
  {
   "cell_type": "code",
   "execution_count": 20,
   "id": "00da151b",
   "metadata": {
    "scrolled": false
   },
   "outputs": [
    {
     "data": {
      "text/plain": [
       "2008    1427\n",
       "2009    1426\n",
       "2010    1255\n",
       "2007    1197\n",
       "2011    1136\n",
       "2006    1006\n",
       "2005     939\n",
       "2002     829\n",
       "2003     775\n",
       "2004     762\n",
       "2012     653\n",
       "2015     606\n",
       "2014     581\n",
       "2013     544\n",
       "2016     502\n",
       "2001     482\n",
       "1998     379\n",
       "2000     350\n",
       "1999     338\n",
       "1997     289\n",
       "1996     263\n",
       "1995     219\n",
       "1994     121\n",
       "1993      60\n",
       "1981      46\n",
       "1992      43\n",
       "1991      41\n",
       "1982      36\n",
       "1986      21\n",
       "1983      17\n",
       "1989      17\n",
       "1990      16\n",
       "1987      16\n",
       "1988      15\n",
       "1985      14\n",
       "1984      14\n",
       "1980       9\n",
       "Name: year_of_release, dtype: int64"
      ]
     },
     "execution_count": 20,
     "metadata": {},
     "output_type": "execute_result"
    }
   ],
   "source": [
    "df['year_of_release'].value_counts()"
   ]
  },
  {
   "cell_type": "code",
   "execution_count": 21,
   "id": "b327fc8d",
   "metadata": {
    "scrolled": false
   },
   "outputs": [
    {
     "data": {
      "image/png": "[encoded data removed]",
      "text/plain": [
       "<Figure size 864x504 with 1 Axes>"
      ]
     },
     "metadata": {
      "needs_background": "light"
     },
     "output_type": "display_data"
    }
   ],
   "source": [
    "df.groupby('year_of_release')['year_of_release'].count().plot.bar(\n",
    "    figsize=(12, 7), \n",
    "    grid=True,\n",
    "    zorder=3,\n",
    "    legend=False,\n",
    "    ylabel='Frequency',\n",
    "    title='Number of games released by year');"
   ]
  },
  {
   "cell_type": "markdown",
   "id": "4a1293f5",
   "metadata": {},
   "source": [
    "From the table and graph above we can see that approximately **up to and including the year 2000, the number of released games was significantly less than in subsequent years** (the period from 1980 to 1993 stands out especially, when the number of releases was less than 100 games per year).\n",
    "<br>**The largest number of releases** in the period occurred **in 2008-2009**.\n",
    "<br>Most likely, the increase in the number of games was mostly due to the emergence of new platforms, as well as the development of technology and the gaming industry as a whole."
   ]
  },
  {
   "cell_type": "markdown",
   "id": "1154f92f",
   "metadata": {},
   "source": [
    "Thus, **data for all periods are not so important for the purposes of further analysis**, in particular, there is no need to include data up to and including 2000 in the analysis, since the number of games released in these years was significantly less than in subsequent years."
   ]
  },
  {
   "cell_type": "markdown",
   "id": "3724f4e1",
   "metadata": {},
   "source": [
    "Also, using a bar chart, let's see the total number of releases for each console for all time:"
   ]
  },
  {
   "cell_type": "code",
   "execution_count": 22,
   "id": "027f276e",
   "metadata": {
    "scrolled": false
   },
   "outputs": [
    {
     "data": {
      "image/png": "[encoded data removed]",
      "text/plain": [
       "<Figure size 864x504 with 1 Axes>"
      ]
     },
     "metadata": {
      "needs_background": "light"
     },
     "output_type": "display_data"
    }
   ],
   "source": [
    "df.groupby('platform')['platform'].count().sort_values(ascending=False).plot.bar(\n",
    "    figsize=(12, 7), \n",
    "    grid=True,\n",
    "    zorder=3,\n",
    "    legend=False,\n",
    "    ylabel='Frequency',\n",
    "    title='Number of games released by platform');"
   ]
  },
  {
   "cell_type": "markdown",
   "id": "b2255687",
   "metadata": {},
   "source": [
    "This chart shows that `PS2` and `DS` platforms released the largest number of games, and `GG`, `PCFX`, `TG16` and `3DO` platforms released the least number of games."
   ]
  },
  {
   "cell_type": "markdown",
   "id": "6d2abeee",
   "metadata": {},
   "source": [
    "Let's see how sales changed by platform throughout the time period:"
   ]
  },
  {
   "cell_type": "code",
   "execution_count": 23,
   "id": "d263f1e5",
   "metadata": {
    "scrolled": false
   },
   "outputs": [
    {
     "data": {
      "text/html": [
       "<div>\n",
       "<style scoped>\n",
       "    .dataframe tbody tr th:only-of-type {\n",
       "        vertical-align: middle;\n",
       "    }\n",
       "\n",
       "    .dataframe tbody tr th {\n",
       "        vertical-align: top;\n",
       "    }\n",
       "\n",
       "    .dataframe thead th {\n",
       "        text-align: right;\n",
       "    }\n",
       "</style>\n",
       "<table border=\"1\" class=\"dataframe\">\n",
       "  <thead>\n",
       "    <tr style=\"text-align: right;\">\n",
       "      <th>year_of_release</th>\n",
       "      <th>1980</th>\n",
       "      <th>1981</th>\n",
       "      <th>1982</th>\n",
       "      <th>1983</th>\n",
       "      <th>1984</th>\n",
       "      <th>1985</th>\n",
       "      <th>1986</th>\n",
       "      <th>1987</th>\n",
       "      <th>1988</th>\n",
       "      <th>1989</th>\n",
       "      <th>1990</th>\n",
       "      <th>1991</th>\n",
       "      <th>1992</th>\n",
       "      <th>1993</th>\n",
       "      <th>1994</th>\n",
       "      <th>1995</th>\n",
       "      <th>1996</th>\n",
       "      <th>1997</th>\n",
       "      <th>1998</th>\n",
       "      <th>1999</th>\n",
       "      <th>2000</th>\n",
       "      <th>2001</th>\n",
       "      <th>2002</th>\n",
       "      <th>2003</th>\n",
       "      <th>2004</th>\n",
       "      <th>2005</th>\n",
       "      <th>2006</th>\n",
       "      <th>2007</th>\n",
       "      <th>2008</th>\n",
       "      <th>2009</th>\n",
       "      <th>2010</th>\n",
       "      <th>2011</th>\n",
       "      <th>2012</th>\n",
       "      <th>2013</th>\n",
       "      <th>2014</th>\n",
       "      <th>2015</th>\n",
       "      <th>2016</th>\n",
       "      <th>All</th>\n",
       "      <th>operating_years</th>\n",
       "    </tr>\n",
       "    <tr>\n",
       "      <th>platform</th>\n",
       "      <th></th>\n",
       "      <th></th>\n",
       "      <th></th>\n",
       "      <th></th>\n",
       "      <th></th>\n",
       "      <th></th>\n",
       "      <th></th>\n",
       "      <th></th>\n",
       "      <th></th>\n",
       "      <th></th>\n",
       "      <th></th>\n",
       "      <th></th>\n",
       "      <th></th>\n",
       "      <th></th>\n",
       "      <th></th>\n",
       "      <th></th>\n",
       "      <th></th>\n",
       "      <th></th>\n",
       "      <th></th>\n",
       "      <th></th>\n",
       "      <th></th>\n",
       "      <th></th>\n",
       "      <th></th>\n",
       "      <th></th>\n",
       "      <th></th>\n",
       "      <th></th>\n",
       "      <th></th>\n",
       "      <th></th>\n",
       "      <th></th>\n",
       "      <th></th>\n",
       "      <th></th>\n",
       "      <th></th>\n",
       "      <th></th>\n",
       "      <th></th>\n",
       "      <th></th>\n",
       "      <th></th>\n",
       "      <th></th>\n",
       "      <th></th>\n",
       "      <th></th>\n",
       "    </tr>\n",
       "  </thead>\n",
       "  <tbody>\n",
       "    <tr>\n",
       "      <th>All</th>\n",
       "      <td>11.38</td>\n",
       "      <td>35.68</td>\n",
       "      <td>28.88</td>\n",
       "      <td>16.80</td>\n",
       "      <td>50.35</td>\n",
       "      <td>53.95</td>\n",
       "      <td>37.08</td>\n",
       "      <td>21.70</td>\n",
       "      <td>47.21</td>\n",
       "      <td>73.45</td>\n",
       "      <td>49.37</td>\n",
       "      <td>32.23</td>\n",
       "      <td>76.16</td>\n",
       "      <td>45.99</td>\n",
       "      <td>79.23</td>\n",
       "      <td>88.12</td>\n",
       "      <td>199.15</td>\n",
       "      <td>201.07</td>\n",
       "      <td>256.31</td>\n",
       "      <td>251.11</td>\n",
       "      <td>201.66</td>\n",
       "      <td>331.46</td>\n",
       "      <td>394.97</td>\n",
       "      <td>357.54</td>\n",
       "      <td>418.68</td>\n",
       "      <td>457.82</td>\n",
       "      <td>517.71</td>\n",
       "      <td>604.75</td>\n",
       "      <td>671.50</td>\n",
       "      <td>658.82</td>\n",
       "      <td>590.13</td>\n",
       "      <td>507.58</td>\n",
       "      <td>355.84</td>\n",
       "      <td>361.24</td>\n",
       "      <td>331.53</td>\n",
       "      <td>267.98</td>\n",
       "      <td>129.94</td>\n",
       "      <td>8814.37</td>\n",
       "      <td>37</td>\n",
       "    </tr>\n",
       "    <tr>\n",
       "      <th>PS2</th>\n",
       "      <td>0.00</td>\n",
       "      <td>0.00</td>\n",
       "      <td>0.00</td>\n",
       "      <td>0.00</td>\n",
       "      <td>0.00</td>\n",
       "      <td>0.00</td>\n",
       "      <td>0.00</td>\n",
       "      <td>0.00</td>\n",
       "      <td>0.00</td>\n",
       "      <td>0.00</td>\n",
       "      <td>0.00</td>\n",
       "      <td>0.00</td>\n",
       "      <td>0.00</td>\n",
       "      <td>0.00</td>\n",
       "      <td>0.00</td>\n",
       "      <td>0.00</td>\n",
       "      <td>0.00</td>\n",
       "      <td>0.00</td>\n",
       "      <td>0.00</td>\n",
       "      <td>0.00</td>\n",
       "      <td>39.17</td>\n",
       "      <td>166.43</td>\n",
       "      <td>205.38</td>\n",
       "      <td>184.31</td>\n",
       "      <td>211.81</td>\n",
       "      <td>160.66</td>\n",
       "      <td>103.42</td>\n",
       "      <td>75.99</td>\n",
       "      <td>53.90</td>\n",
       "      <td>26.40</td>\n",
       "      <td>5.64</td>\n",
       "      <td>0.45</td>\n",
       "      <td>0.00</td>\n",
       "      <td>0.00</td>\n",
       "      <td>0.00</td>\n",
       "      <td>0.00</td>\n",
       "      <td>0.00</td>\n",
       "      <td>1233.56</td>\n",
       "      <td>12</td>\n",
       "    </tr>\n",
       "    <tr>\n",
       "      <th>X360</th>\n",
       "      <td>0.00</td>\n",
       "      <td>0.00</td>\n",
       "      <td>0.00</td>\n",
       "      <td>0.00</td>\n",
       "      <td>0.00</td>\n",
       "      <td>0.00</td>\n",
       "      <td>0.00</td>\n",
       "      <td>0.00</td>\n",
       "      <td>0.00</td>\n",
       "      <td>0.00</td>\n",
       "      <td>0.00</td>\n",
       "      <td>0.00</td>\n",
       "      <td>0.00</td>\n",
       "      <td>0.00</td>\n",
       "      <td>0.00</td>\n",
       "      <td>0.00</td>\n",
       "      <td>0.00</td>\n",
       "      <td>0.00</td>\n",
       "      <td>0.00</td>\n",
       "      <td>0.00</td>\n",
       "      <td>0.00</td>\n",
       "      <td>0.00</td>\n",
       "      <td>0.00</td>\n",
       "      <td>0.00</td>\n",
       "      <td>0.00</td>\n",
       "      <td>8.25</td>\n",
       "      <td>51.62</td>\n",
       "      <td>95.41</td>\n",
       "      <td>135.26</td>\n",
       "      <td>120.29</td>\n",
       "      <td>170.03</td>\n",
       "      <td>143.84</td>\n",
       "      <td>99.74</td>\n",
       "      <td>88.58</td>\n",
       "      <td>34.74</td>\n",
       "      <td>11.96</td>\n",
       "      <td>1.52</td>\n",
       "      <td>961.24</td>\n",
       "      <td>12</td>\n",
       "    </tr>\n",
       "    <tr>\n",
       "      <th>PS3</th>\n",
       "      <td>0.00</td>\n",
       "      <td>0.00</td>\n",
       "      <td>0.00</td>\n",
       "      <td>0.00</td>\n",
       "      <td>0.00</td>\n",
       "      <td>0.00</td>\n",
       "      <td>0.00</td>\n",
       "      <td>0.00</td>\n",
       "      <td>0.00</td>\n",
       "      <td>0.00</td>\n",
       "      <td>0.00</td>\n",
       "      <td>0.00</td>\n",
       "      <td>0.00</td>\n",
       "      <td>0.00</td>\n",
       "      <td>0.00</td>\n",
       "      <td>0.00</td>\n",
       "      <td>0.00</td>\n",
       "      <td>0.00</td>\n",
       "      <td>0.00</td>\n",
       "      <td>0.00</td>\n",
       "      <td>0.00</td>\n",
       "      <td>0.00</td>\n",
       "      <td>0.00</td>\n",
       "      <td>0.00</td>\n",
       "      <td>0.00</td>\n",
       "      <td>0.00</td>\n",
       "      <td>20.96</td>\n",
       "      <td>73.19</td>\n",
       "      <td>118.52</td>\n",
       "      <td>130.93</td>\n",
       "      <td>142.17</td>\n",
       "      <td>156.78</td>\n",
       "      <td>107.36</td>\n",
       "      <td>113.25</td>\n",
       "      <td>47.76</td>\n",
       "      <td>16.82</td>\n",
       "      <td>3.60</td>\n",
       "      <td>931.34</td>\n",
       "      <td>11</td>\n",
       "    </tr>\n",
       "    <tr>\n",
       "      <th>Wii</th>\n",
       "      <td>0.00</td>\n",
       "      <td>0.00</td>\n",
       "      <td>0.00</td>\n",
       "      <td>0.00</td>\n",
       "      <td>0.00</td>\n",
       "      <td>0.00</td>\n",
       "      <td>0.00</td>\n",
       "      <td>0.00</td>\n",
       "      <td>0.00</td>\n",
       "      <td>0.00</td>\n",
       "      <td>0.00</td>\n",
       "      <td>0.00</td>\n",
       "      <td>0.00</td>\n",
       "      <td>0.00</td>\n",
       "      <td>0.00</td>\n",
       "      <td>0.00</td>\n",
       "      <td>0.00</td>\n",
       "      <td>0.00</td>\n",
       "      <td>0.00</td>\n",
       "      <td>0.00</td>\n",
       "      <td>0.00</td>\n",
       "      <td>0.00</td>\n",
       "      <td>0.00</td>\n",
       "      <td>0.00</td>\n",
       "      <td>0.00</td>\n",
       "      <td>0.00</td>\n",
       "      <td>137.15</td>\n",
       "      <td>152.77</td>\n",
       "      <td>171.32</td>\n",
       "      <td>206.97</td>\n",
       "      <td>127.95</td>\n",
       "      <td>59.65</td>\n",
       "      <td>21.71</td>\n",
       "      <td>8.59</td>\n",
       "      <td>3.75</td>\n",
       "      <td>1.14</td>\n",
       "      <td>0.18</td>\n",
       "      <td>891.18</td>\n",
       "      <td>11</td>\n",
       "    </tr>\n",
       "    <tr>\n",
       "      <th>DS</th>\n",
       "      <td>0.00</td>\n",
       "      <td>0.00</td>\n",
       "      <td>0.00</td>\n",
       "      <td>0.00</td>\n",
       "      <td>0.00</td>\n",
       "      <td>0.02</td>\n",
       "      <td>0.00</td>\n",
       "      <td>0.00</td>\n",
       "      <td>0.00</td>\n",
       "      <td>0.00</td>\n",
       "      <td>0.00</td>\n",
       "      <td>0.00</td>\n",
       "      <td>0.00</td>\n",
       "      <td>0.00</td>\n",
       "      <td>0.00</td>\n",
       "      <td>0.00</td>\n",
       "      <td>0.00</td>\n",
       "      <td>0.00</td>\n",
       "      <td>0.00</td>\n",
       "      <td>0.00</td>\n",
       "      <td>0.00</td>\n",
       "      <td>0.00</td>\n",
       "      <td>0.00</td>\n",
       "      <td>0.00</td>\n",
       "      <td>17.27</td>\n",
       "      <td>130.14</td>\n",
       "      <td>119.81</td>\n",
       "      <td>146.94</td>\n",
       "      <td>145.31</td>\n",
       "      <td>119.54</td>\n",
       "      <td>85.02</td>\n",
       "      <td>26.18</td>\n",
       "      <td>11.01</td>\n",
       "      <td>1.54</td>\n",
       "      <td>0.00</td>\n",
       "      <td>0.00</td>\n",
       "      <td>0.00</td>\n",
       "      <td>802.78</td>\n",
       "      <td>11</td>\n",
       "    </tr>\n",
       "    <tr>\n",
       "      <th>PS</th>\n",
       "      <td>0.00</td>\n",
       "      <td>0.00</td>\n",
       "      <td>0.00</td>\n",
       "      <td>0.00</td>\n",
       "      <td>0.00</td>\n",
       "      <td>0.00</td>\n",
       "      <td>0.00</td>\n",
       "      <td>0.00</td>\n",
       "      <td>0.00</td>\n",
       "      <td>0.00</td>\n",
       "      <td>0.00</td>\n",
       "      <td>0.00</td>\n",
       "      <td>0.00</td>\n",
       "      <td>0.00</td>\n",
       "      <td>6.03</td>\n",
       "      <td>35.96</td>\n",
       "      <td>94.70</td>\n",
       "      <td>136.17</td>\n",
       "      <td>169.49</td>\n",
       "      <td>144.53</td>\n",
       "      <td>96.37</td>\n",
       "      <td>35.59</td>\n",
       "      <td>6.67</td>\n",
       "      <td>2.07</td>\n",
       "      <td>0.00</td>\n",
       "      <td>0.00</td>\n",
       "      <td>0.00</td>\n",
       "      <td>0.00</td>\n",
       "      <td>0.00</td>\n",
       "      <td>0.00</td>\n",
       "      <td>0.00</td>\n",
       "      <td>0.00</td>\n",
       "      <td>0.00</td>\n",
       "      <td>0.00</td>\n",
       "      <td>0.00</td>\n",
       "      <td>0.00</td>\n",
       "      <td>0.00</td>\n",
       "      <td>727.58</td>\n",
       "      <td>10</td>\n",
       "    </tr>\n",
       "    <tr>\n",
       "      <th>PS4</th>\n",
       "      <td>0.00</td>\n",
       "      <td>0.00</td>\n",
       "      <td>0.00</td>\n",
       "      <td>0.00</td>\n",
       "      <td>0.00</td>\n",
       "      <td>0.00</td>\n",
       "      <td>0.00</td>\n",
       "      <td>0.00</td>\n",
       "      <td>0.00</td>\n",
       "      <td>0.00</td>\n",
       "      <td>0.00</td>\n",
       "      <td>0.00</td>\n",
       "      <td>0.00</td>\n",
       "      <td>0.00</td>\n",
       "      <td>0.00</td>\n",
       "      <td>0.00</td>\n",
       "      <td>0.00</td>\n",
       "      <td>0.00</td>\n",
       "      <td>0.00</td>\n",
       "      <td>0.00</td>\n",
       "      <td>0.00</td>\n",
       "      <td>0.00</td>\n",
       "      <td>0.00</td>\n",
       "      <td>0.00</td>\n",
       "      <td>0.00</td>\n",
       "      <td>0.00</td>\n",
       "      <td>0.00</td>\n",
       "      <td>0.00</td>\n",
       "      <td>0.00</td>\n",
       "      <td>0.00</td>\n",
       "      <td>0.00</td>\n",
       "      <td>0.00</td>\n",
       "      <td>0.00</td>\n",
       "      <td>25.99</td>\n",
       "      <td>100.00</td>\n",
       "      <td>118.90</td>\n",
       "      <td>69.25</td>\n",
       "      <td>314.14</td>\n",
       "      <td>4</td>\n",
       "    </tr>\n",
       "    <tr>\n",
       "      <th>GBA</th>\n",
       "      <td>0.00</td>\n",
       "      <td>0.00</td>\n",
       "      <td>0.00</td>\n",
       "      <td>0.00</td>\n",
       "      <td>0.00</td>\n",
       "      <td>0.00</td>\n",
       "      <td>0.00</td>\n",
       "      <td>0.00</td>\n",
       "      <td>0.00</td>\n",
       "      <td>0.00</td>\n",
       "      <td>0.00</td>\n",
       "      <td>0.00</td>\n",
       "      <td>0.00</td>\n",
       "      <td>0.00</td>\n",
       "      <td>0.00</td>\n",
       "      <td>0.00</td>\n",
       "      <td>0.00</td>\n",
       "      <td>0.00</td>\n",
       "      <td>0.00</td>\n",
       "      <td>0.00</td>\n",
       "      <td>0.07</td>\n",
       "      <td>61.53</td>\n",
       "      <td>74.16</td>\n",
       "      <td>56.67</td>\n",
       "      <td>77.91</td>\n",
       "      <td>33.86</td>\n",
       "      <td>5.28</td>\n",
       "      <td>3.40</td>\n",
       "      <td>0.00</td>\n",
       "      <td>0.00</td>\n",
       "      <td>0.00</td>\n",
       "      <td>0.00</td>\n",
       "      <td>0.00</td>\n",
       "      <td>0.00</td>\n",
       "      <td>0.00</td>\n",
       "      <td>0.00</td>\n",
       "      <td>0.00</td>\n",
       "      <td>312.88</td>\n",
       "      <td>8</td>\n",
       "    </tr>\n",
       "    <tr>\n",
       "      <th>PSP</th>\n",
       "      <td>0.00</td>\n",
       "      <td>0.00</td>\n",
       "      <td>0.00</td>\n",
       "      <td>0.00</td>\n",
       "      <td>0.00</td>\n",
       "      <td>0.00</td>\n",
       "      <td>0.00</td>\n",
       "      <td>0.00</td>\n",
       "      <td>0.00</td>\n",
       "      <td>0.00</td>\n",
       "      <td>0.00</td>\n",
       "      <td>0.00</td>\n",
       "      <td>0.00</td>\n",
       "      <td>0.00</td>\n",
       "      <td>0.00</td>\n",
       "      <td>0.00</td>\n",
       "      <td>0.00</td>\n",
       "      <td>0.00</td>\n",
       "      <td>0.00</td>\n",
       "      <td>0.00</td>\n",
       "      <td>0.00</td>\n",
       "      <td>0.00</td>\n",
       "      <td>0.00</td>\n",
       "      <td>0.00</td>\n",
       "      <td>7.06</td>\n",
       "      <td>43.84</td>\n",
       "      <td>55.32</td>\n",
       "      <td>46.93</td>\n",
       "      <td>34.55</td>\n",
       "      <td>37.78</td>\n",
       "      <td>35.04</td>\n",
       "      <td>17.82</td>\n",
       "      <td>7.69</td>\n",
       "      <td>3.14</td>\n",
       "      <td>0.24</td>\n",
       "      <td>0.12</td>\n",
       "      <td>0.00</td>\n",
       "      <td>289.53</td>\n",
       "      <td>12</td>\n",
       "    </tr>\n",
       "    <tr>\n",
       "      <th>3DS</th>\n",
       "      <td>0.00</td>\n",
       "      <td>0.00</td>\n",
       "      <td>0.00</td>\n",
       "      <td>0.00</td>\n",
       "      <td>0.00</td>\n",
       "      <td>0.00</td>\n",
       "      <td>0.00</td>\n",
       "      <td>0.00</td>\n",
       "      <td>0.00</td>\n",
       "      <td>0.00</td>\n",
       "      <td>0.00</td>\n",
       "      <td>0.00</td>\n",
       "      <td>0.00</td>\n",
       "      <td>0.00</td>\n",
       "      <td>0.00</td>\n",
       "      <td>0.00</td>\n",
       "      <td>0.00</td>\n",
       "      <td>0.00</td>\n",
       "      <td>0.00</td>\n",
       "      <td>0.00</td>\n",
       "      <td>0.00</td>\n",
       "      <td>0.00</td>\n",
       "      <td>0.00</td>\n",
       "      <td>0.00</td>\n",
       "      <td>0.00</td>\n",
       "      <td>0.00</td>\n",
       "      <td>0.00</td>\n",
       "      <td>0.00</td>\n",
       "      <td>0.00</td>\n",
       "      <td>0.00</td>\n",
       "      <td>0.00</td>\n",
       "      <td>63.20</td>\n",
       "      <td>51.36</td>\n",
       "      <td>56.57</td>\n",
       "      <td>43.76</td>\n",
       "      <td>27.78</td>\n",
       "      <td>15.14</td>\n",
       "      <td>257.81</td>\n",
       "      <td>6</td>\n",
       "    </tr>\n",
       "    <tr>\n",
       "      <th>PC</th>\n",
       "      <td>0.00</td>\n",
       "      <td>0.00</td>\n",
       "      <td>0.00</td>\n",
       "      <td>0.00</td>\n",
       "      <td>0.00</td>\n",
       "      <td>0.04</td>\n",
       "      <td>0.00</td>\n",
       "      <td>0.00</td>\n",
       "      <td>0.03</td>\n",
       "      <td>0.00</td>\n",
       "      <td>0.00</td>\n",
       "      <td>0.00</td>\n",
       "      <td>3.03</td>\n",
       "      <td>0.00</td>\n",
       "      <td>12.87</td>\n",
       "      <td>4.22</td>\n",
       "      <td>10.58</td>\n",
       "      <td>11.27</td>\n",
       "      <td>3.26</td>\n",
       "      <td>4.74</td>\n",
       "      <td>4.66</td>\n",
       "      <td>5.47</td>\n",
       "      <td>8.57</td>\n",
       "      <td>8.84</td>\n",
       "      <td>10.39</td>\n",
       "      <td>4.37</td>\n",
       "      <td>2.85</td>\n",
       "      <td>9.28</td>\n",
       "      <td>12.42</td>\n",
       "      <td>16.91</td>\n",
       "      <td>24.28</td>\n",
       "      <td>35.03</td>\n",
       "      <td>23.22</td>\n",
       "      <td>12.38</td>\n",
       "      <td>13.28</td>\n",
       "      <td>8.52</td>\n",
       "      <td>5.25</td>\n",
       "      <td>255.76</td>\n",
       "      <td>26</td>\n",
       "    </tr>\n",
       "    <tr>\n",
       "      <th>GB</th>\n",
       "      <td>0.00</td>\n",
       "      <td>0.00</td>\n",
       "      <td>0.00</td>\n",
       "      <td>0.00</td>\n",
       "      <td>0.00</td>\n",
       "      <td>0.00</td>\n",
       "      <td>0.00</td>\n",
       "      <td>0.00</td>\n",
       "      <td>1.43</td>\n",
       "      <td>64.97</td>\n",
       "      <td>4.89</td>\n",
       "      <td>5.57</td>\n",
       "      <td>25.49</td>\n",
       "      <td>0.00</td>\n",
       "      <td>12.18</td>\n",
       "      <td>3.60</td>\n",
       "      <td>36.03</td>\n",
       "      <td>6.37</td>\n",
       "      <td>26.90</td>\n",
       "      <td>38.00</td>\n",
       "      <td>19.76</td>\n",
       "      <td>9.24</td>\n",
       "      <td>0.00</td>\n",
       "      <td>0.00</td>\n",
       "      <td>0.00</td>\n",
       "      <td>0.00</td>\n",
       "      <td>0.00</td>\n",
       "      <td>0.00</td>\n",
       "      <td>0.00</td>\n",
       "      <td>0.00</td>\n",
       "      <td>0.00</td>\n",
       "      <td>0.00</td>\n",
       "      <td>0.00</td>\n",
       "      <td>0.00</td>\n",
       "      <td>0.00</td>\n",
       "      <td>0.00</td>\n",
       "      <td>0.00</td>\n",
       "      <td>254.43</td>\n",
       "      <td>13</td>\n",
       "    </tr>\n",
       "    <tr>\n",
       "      <th>XB</th>\n",
       "      <td>0.00</td>\n",
       "      <td>0.00</td>\n",
       "      <td>0.00</td>\n",
       "      <td>0.00</td>\n",
       "      <td>0.00</td>\n",
       "      <td>0.00</td>\n",
       "      <td>0.00</td>\n",
       "      <td>0.00</td>\n",
       "      <td>0.00</td>\n",
       "      <td>0.00</td>\n",
       "      <td>0.00</td>\n",
       "      <td>0.00</td>\n",
       "      <td>0.00</td>\n",
       "      <td>0.00</td>\n",
       "      <td>0.00</td>\n",
       "      <td>0.00</td>\n",
       "      <td>0.00</td>\n",
       "      <td>0.00</td>\n",
       "      <td>0.00</td>\n",
       "      <td>0.00</td>\n",
       "      <td>0.99</td>\n",
       "      <td>22.26</td>\n",
       "      <td>48.01</td>\n",
       "      <td>55.04</td>\n",
       "      <td>65.42</td>\n",
       "      <td>49.08</td>\n",
       "      <td>10.04</td>\n",
       "      <td>0.55</td>\n",
       "      <td>0.18</td>\n",
       "      <td>0.00</td>\n",
       "      <td>0.00</td>\n",
       "      <td>0.00</td>\n",
       "      <td>0.00</td>\n",
       "      <td>0.00</td>\n",
       "      <td>0.00</td>\n",
       "      <td>0.00</td>\n",
       "      <td>0.00</td>\n",
       "      <td>251.57</td>\n",
       "      <td>9</td>\n",
       "    </tr>\n",
       "    <tr>\n",
       "      <th>NES</th>\n",
       "      <td>0.00</td>\n",
       "      <td>0.00</td>\n",
       "      <td>0.00</td>\n",
       "      <td>10.96</td>\n",
       "      <td>50.08</td>\n",
       "      <td>53.44</td>\n",
       "      <td>36.41</td>\n",
       "      <td>19.76</td>\n",
       "      <td>45.01</td>\n",
       "      <td>7.85</td>\n",
       "      <td>15.73</td>\n",
       "      <td>6.11</td>\n",
       "      <td>1.98</td>\n",
       "      <td>3.61</td>\n",
       "      <td>0.11</td>\n",
       "      <td>0.00</td>\n",
       "      <td>0.00</td>\n",
       "      <td>0.00</td>\n",
       "      <td>0.00</td>\n",
       "      <td>0.00</td>\n",
       "      <td>0.00</td>\n",
       "      <td>0.00</td>\n",
       "      <td>0.00</td>\n",
       "      <td>0.00</td>\n",
       "      <td>0.00</td>\n",
       "      <td>0.00</td>\n",
       "      <td>0.00</td>\n",
       "      <td>0.00</td>\n",
       "      <td>0.00</td>\n",
       "      <td>0.00</td>\n",
       "      <td>0.00</td>\n",
       "      <td>0.00</td>\n",
       "      <td>0.00</td>\n",
       "      <td>0.00</td>\n",
       "      <td>0.00</td>\n",
       "      <td>0.00</td>\n",
       "      <td>0.00</td>\n",
       "      <td>251.05</td>\n",
       "      <td>12</td>\n",
       "    </tr>\n",
       "    <tr>\n",
       "      <th>N64</th>\n",
       "      <td>0.00</td>\n",
       "      <td>0.00</td>\n",
       "      <td>0.00</td>\n",
       "      <td>0.00</td>\n",
       "      <td>0.00</td>\n",
       "      <td>0.00</td>\n",
       "      <td>0.00</td>\n",
       "      <td>0.00</td>\n",
       "      <td>0.00</td>\n",
       "      <td>0.00</td>\n",
       "      <td>0.00</td>\n",
       "      <td>0.00</td>\n",
       "      <td>0.00</td>\n",
       "      <td>0.00</td>\n",
       "      <td>0.00</td>\n",
       "      <td>0.00</td>\n",
       "      <td>34.10</td>\n",
       "      <td>39.50</td>\n",
       "      <td>49.24</td>\n",
       "      <td>57.87</td>\n",
       "      <td>33.97</td>\n",
       "      <td>3.25</td>\n",
       "      <td>0.08</td>\n",
       "      <td>0.00</td>\n",
       "      <td>0.00</td>\n",
       "      <td>0.00</td>\n",
       "      <td>0.00</td>\n",
       "      <td>0.00</td>\n",
       "      <td>0.00</td>\n",
       "      <td>0.00</td>\n",
       "      <td>0.00</td>\n",
       "      <td>0.00</td>\n",
       "      <td>0.00</td>\n",
       "      <td>0.00</td>\n",
       "      <td>0.00</td>\n",
       "      <td>0.00</td>\n",
       "      <td>0.00</td>\n",
       "      <td>218.01</td>\n",
       "      <td>7</td>\n",
       "    </tr>\n",
       "    <tr>\n",
       "      <th>SNES</th>\n",
       "      <td>0.00</td>\n",
       "      <td>0.00</td>\n",
       "      <td>0.00</td>\n",
       "      <td>0.00</td>\n",
       "      <td>0.00</td>\n",
       "      <td>0.00</td>\n",
       "      <td>0.00</td>\n",
       "      <td>0.00</td>\n",
       "      <td>0.00</td>\n",
       "      <td>0.00</td>\n",
       "      <td>26.15</td>\n",
       "      <td>16.22</td>\n",
       "      <td>32.98</td>\n",
       "      <td>40.02</td>\n",
       "      <td>35.08</td>\n",
       "      <td>32.20</td>\n",
       "      <td>15.92</td>\n",
       "      <td>0.99</td>\n",
       "      <td>0.22</td>\n",
       "      <td>0.26</td>\n",
       "      <td>0.00</td>\n",
       "      <td>0.00</td>\n",
       "      <td>0.00</td>\n",
       "      <td>0.00</td>\n",
       "      <td>0.00</td>\n",
       "      <td>0.00</td>\n",
       "      <td>0.00</td>\n",
       "      <td>0.00</td>\n",
       "      <td>0.00</td>\n",
       "      <td>0.00</td>\n",
       "      <td>0.00</td>\n",
       "      <td>0.00</td>\n",
       "      <td>0.00</td>\n",
       "      <td>0.00</td>\n",
       "      <td>0.00</td>\n",
       "      <td>0.00</td>\n",
       "      <td>0.00</td>\n",
       "      <td>200.04</td>\n",
       "      <td>10</td>\n",
       "    </tr>\n",
       "    <tr>\n",
       "      <th>GC</th>\n",
       "      <td>0.00</td>\n",
       "      <td>0.00</td>\n",
       "      <td>0.00</td>\n",
       "      <td>0.00</td>\n",
       "      <td>0.00</td>\n",
       "      <td>0.00</td>\n",
       "      <td>0.00</td>\n",
       "      <td>0.00</td>\n",
       "      <td>0.00</td>\n",
       "      <td>0.00</td>\n",
       "      <td>0.00</td>\n",
       "      <td>0.00</td>\n",
       "      <td>0.00</td>\n",
       "      <td>0.00</td>\n",
       "      <td>0.00</td>\n",
       "      <td>0.00</td>\n",
       "      <td>0.00</td>\n",
       "      <td>0.00</td>\n",
       "      <td>0.00</td>\n",
       "      <td>0.00</td>\n",
       "      <td>0.00</td>\n",
       "      <td>26.34</td>\n",
       "      <td>51.81</td>\n",
       "      <td>50.61</td>\n",
       "      <td>28.82</td>\n",
       "      <td>27.62</td>\n",
       "      <td>11.26</td>\n",
       "      <td>0.27</td>\n",
       "      <td>0.00</td>\n",
       "      <td>0.00</td>\n",
       "      <td>0.00</td>\n",
       "      <td>0.00</td>\n",
       "      <td>0.00</td>\n",
       "      <td>0.00</td>\n",
       "      <td>0.00</td>\n",
       "      <td>0.00</td>\n",
       "      <td>0.00</td>\n",
       "      <td>196.73</td>\n",
       "      <td>7</td>\n",
       "    </tr>\n",
       "    <tr>\n",
       "      <th>XOne</th>\n",
       "      <td>0.00</td>\n",
       "      <td>0.00</td>\n",
       "      <td>0.00</td>\n",
       "      <td>0.00</td>\n",
       "      <td>0.00</td>\n",
       "      <td>0.00</td>\n",
       "      <td>0.00</td>\n",
       "      <td>0.00</td>\n",
       "      <td>0.00</td>\n",
       "      <td>0.00</td>\n",
       "      <td>0.00</td>\n",
       "      <td>0.00</td>\n",
       "      <td>0.00</td>\n",
       "      <td>0.00</td>\n",
       "      <td>0.00</td>\n",
       "      <td>0.00</td>\n",
       "      <td>0.00</td>\n",
       "      <td>0.00</td>\n",
       "      <td>0.00</td>\n",
       "      <td>0.00</td>\n",
       "      <td>0.00</td>\n",
       "      <td>0.00</td>\n",
       "      <td>0.00</td>\n",
       "      <td>0.00</td>\n",
       "      <td>0.00</td>\n",
       "      <td>0.00</td>\n",
       "      <td>0.00</td>\n",
       "      <td>0.00</td>\n",
       "      <td>0.00</td>\n",
       "      <td>0.00</td>\n",
       "      <td>0.00</td>\n",
       "      <td>0.00</td>\n",
       "      <td>0.00</td>\n",
       "      <td>18.96</td>\n",
       "      <td>54.07</td>\n",
       "      <td>60.14</td>\n",
       "      <td>26.15</td>\n",
       "      <td>159.32</td>\n",
       "      <td>4</td>\n",
       "    </tr>\n",
       "    <tr>\n",
       "      <th>2600</th>\n",
       "      <td>11.38</td>\n",
       "      <td>35.68</td>\n",
       "      <td>28.88</td>\n",
       "      <td>5.84</td>\n",
       "      <td>0.27</td>\n",
       "      <td>0.45</td>\n",
       "      <td>0.67</td>\n",
       "      <td>1.94</td>\n",
       "      <td>0.74</td>\n",
       "      <td>0.63</td>\n",
       "      <td>0.00</td>\n",
       "      <td>0.00</td>\n",
       "      <td>0.00</td>\n",
       "      <td>0.00</td>\n",
       "      <td>0.00</td>\n",
       "      <td>0.00</td>\n",
       "      <td>0.00</td>\n",
       "      <td>0.00</td>\n",
       "      <td>0.00</td>\n",
       "      <td>0.00</td>\n",
       "      <td>0.00</td>\n",
       "      <td>0.00</td>\n",
       "      <td>0.00</td>\n",
       "      <td>0.00</td>\n",
       "      <td>0.00</td>\n",
       "      <td>0.00</td>\n",
       "      <td>0.00</td>\n",
       "      <td>0.00</td>\n",
       "      <td>0.00</td>\n",
       "      <td>0.00</td>\n",
       "      <td>0.00</td>\n",
       "      <td>0.00</td>\n",
       "      <td>0.00</td>\n",
       "      <td>0.00</td>\n",
       "      <td>0.00</td>\n",
       "      <td>0.00</td>\n",
       "      <td>0.00</td>\n",
       "      <td>86.48</td>\n",
       "      <td>10</td>\n",
       "    </tr>\n",
       "    <tr>\n",
       "      <th>WiiU</th>\n",
       "      <td>0.00</td>\n",
       "      <td>0.00</td>\n",
       "      <td>0.00</td>\n",
       "      <td>0.00</td>\n",
       "      <td>0.00</td>\n",
       "      <td>0.00</td>\n",
       "      <td>0.00</td>\n",
       "      <td>0.00</td>\n",
       "      <td>0.00</td>\n",
       "      <td>0.00</td>\n",
       "      <td>0.00</td>\n",
       "      <td>0.00</td>\n",
       "      <td>0.00</td>\n",
       "      <td>0.00</td>\n",
       "      <td>0.00</td>\n",
       "      <td>0.00</td>\n",
       "      <td>0.00</td>\n",
       "      <td>0.00</td>\n",
       "      <td>0.00</td>\n",
       "      <td>0.00</td>\n",
       "      <td>0.00</td>\n",
       "      <td>0.00</td>\n",
       "      <td>0.00</td>\n",
       "      <td>0.00</td>\n",
       "      <td>0.00</td>\n",
       "      <td>0.00</td>\n",
       "      <td>0.00</td>\n",
       "      <td>0.00</td>\n",
       "      <td>0.00</td>\n",
       "      <td>0.00</td>\n",
       "      <td>0.00</td>\n",
       "      <td>0.00</td>\n",
       "      <td>17.56</td>\n",
       "      <td>21.65</td>\n",
       "      <td>22.03</td>\n",
       "      <td>16.35</td>\n",
       "      <td>4.60</td>\n",
       "      <td>82.19</td>\n",
       "      <td>5</td>\n",
       "    </tr>\n",
       "    <tr>\n",
       "      <th>PSV</th>\n",
       "      <td>0.00</td>\n",
       "      <td>0.00</td>\n",
       "      <td>0.00</td>\n",
       "      <td>0.00</td>\n",
       "      <td>0.00</td>\n",
       "      <td>0.00</td>\n",
       "      <td>0.00</td>\n",
       "      <td>0.00</td>\n",
       "      <td>0.00</td>\n",
       "      <td>0.00</td>\n",
       "      <td>0.00</td>\n",
       "      <td>0.00</td>\n",
       "      <td>0.00</td>\n",
       "      <td>0.00</td>\n",
       "      <td>0.00</td>\n",
       "      <td>0.00</td>\n",
       "      <td>0.00</td>\n",
       "      <td>0.00</td>\n",
       "      <td>0.00</td>\n",
       "      <td>0.00</td>\n",
       "      <td>0.00</td>\n",
       "      <td>0.00</td>\n",
       "      <td>0.00</td>\n",
       "      <td>0.00</td>\n",
       "      <td>0.00</td>\n",
       "      <td>0.00</td>\n",
       "      <td>0.00</td>\n",
       "      <td>0.00</td>\n",
       "      <td>0.00</td>\n",
       "      <td>0.00</td>\n",
       "      <td>0.00</td>\n",
       "      <td>4.63</td>\n",
       "      <td>16.19</td>\n",
       "      <td>10.59</td>\n",
       "      <td>11.90</td>\n",
       "      <td>6.25</td>\n",
       "      <td>4.25</td>\n",
       "      <td>53.81</td>\n",
       "      <td>6</td>\n",
       "    </tr>\n",
       "    <tr>\n",
       "      <th>SAT</th>\n",
       "      <td>0.00</td>\n",
       "      <td>0.00</td>\n",
       "      <td>0.00</td>\n",
       "      <td>0.00</td>\n",
       "      <td>0.00</td>\n",
       "      <td>0.00</td>\n",
       "      <td>0.00</td>\n",
       "      <td>0.00</td>\n",
       "      <td>0.00</td>\n",
       "      <td>0.00</td>\n",
       "      <td>0.00</td>\n",
       "      <td>0.00</td>\n",
       "      <td>0.00</td>\n",
       "      <td>0.00</td>\n",
       "      <td>3.65</td>\n",
       "      <td>11.57</td>\n",
       "      <td>7.69</td>\n",
       "      <td>6.77</td>\n",
       "      <td>3.82</td>\n",
       "      <td>0.09</td>\n",
       "      <td>0.00</td>\n",
       "      <td>0.00</td>\n",
       "      <td>0.00</td>\n",
       "      <td>0.00</td>\n",
       "      <td>0.00</td>\n",
       "      <td>0.00</td>\n",
       "      <td>0.00</td>\n",
       "      <td>0.00</td>\n",
       "      <td>0.00</td>\n",
       "      <td>0.00</td>\n",
       "      <td>0.00</td>\n",
       "      <td>0.00</td>\n",
       "      <td>0.00</td>\n",
       "      <td>0.00</td>\n",
       "      <td>0.00</td>\n",
       "      <td>0.00</td>\n",
       "      <td>0.00</td>\n",
       "      <td>33.59</td>\n",
       "      <td>6</td>\n",
       "    </tr>\n",
       "    <tr>\n",
       "      <th>GEN</th>\n",
       "      <td>0.00</td>\n",
       "      <td>0.00</td>\n",
       "      <td>0.00</td>\n",
       "      <td>0.00</td>\n",
       "      <td>0.00</td>\n",
       "      <td>0.00</td>\n",
       "      <td>0.00</td>\n",
       "      <td>0.00</td>\n",
       "      <td>0.00</td>\n",
       "      <td>0.00</td>\n",
       "      <td>2.60</td>\n",
       "      <td>4.33</td>\n",
       "      <td>12.64</td>\n",
       "      <td>0.65</td>\n",
       "      <td>8.13</td>\n",
       "      <td>0.00</td>\n",
       "      <td>0.00</td>\n",
       "      <td>0.00</td>\n",
       "      <td>0.00</td>\n",
       "      <td>0.00</td>\n",
       "      <td>0.00</td>\n",
       "      <td>0.00</td>\n",
       "      <td>0.00</td>\n",
       "      <td>0.00</td>\n",
       "      <td>0.00</td>\n",
       "      <td>0.00</td>\n",
       "      <td>0.00</td>\n",
       "      <td>0.00</td>\n",
       "      <td>0.00</td>\n",
       "      <td>0.00</td>\n",
       "      <td>0.00</td>\n",
       "      <td>0.00</td>\n",
       "      <td>0.00</td>\n",
       "      <td>0.00</td>\n",
       "      <td>0.00</td>\n",
       "      <td>0.00</td>\n",
       "      <td>0.00</td>\n",
       "      <td>28.35</td>\n",
       "      <td>5</td>\n",
       "    </tr>\n",
       "    <tr>\n",
       "      <th>DC</th>\n",
       "      <td>0.00</td>\n",
       "      <td>0.00</td>\n",
       "      <td>0.00</td>\n",
       "      <td>0.00</td>\n",
       "      <td>0.00</td>\n",
       "      <td>0.00</td>\n",
       "      <td>0.00</td>\n",
       "      <td>0.00</td>\n",
       "      <td>0.00</td>\n",
       "      <td>0.00</td>\n",
       "      <td>0.00</td>\n",
       "      <td>0.00</td>\n",
       "      <td>0.00</td>\n",
       "      <td>0.00</td>\n",
       "      <td>0.00</td>\n",
       "      <td>0.00</td>\n",
       "      <td>0.00</td>\n",
       "      <td>0.00</td>\n",
       "      <td>3.38</td>\n",
       "      <td>5.16</td>\n",
       "      <td>5.99</td>\n",
       "      <td>1.07</td>\n",
       "      <td>0.29</td>\n",
       "      <td>0.00</td>\n",
       "      <td>0.00</td>\n",
       "      <td>0.00</td>\n",
       "      <td>0.00</td>\n",
       "      <td>0.02</td>\n",
       "      <td>0.04</td>\n",
       "      <td>0.00</td>\n",
       "      <td>0.00</td>\n",
       "      <td>0.00</td>\n",
       "      <td>0.00</td>\n",
       "      <td>0.00</td>\n",
       "      <td>0.00</td>\n",
       "      <td>0.00</td>\n",
       "      <td>0.00</td>\n",
       "      <td>15.95</td>\n",
       "      <td>7</td>\n",
       "    </tr>\n",
       "    <tr>\n",
       "      <th>SCD</th>\n",
       "      <td>0.00</td>\n",
       "      <td>0.00</td>\n",
       "      <td>0.00</td>\n",
       "      <td>0.00</td>\n",
       "      <td>0.00</td>\n",
       "      <td>0.00</td>\n",
       "      <td>0.00</td>\n",
       "      <td>0.00</td>\n",
       "      <td>0.00</td>\n",
       "      <td>0.00</td>\n",
       "      <td>0.00</td>\n",
       "      <td>0.00</td>\n",
       "      <td>0.00</td>\n",
       "      <td>1.50</td>\n",
       "      <td>0.36</td>\n",
       "      <td>0.00</td>\n",
       "      <td>0.00</td>\n",
       "      <td>0.00</td>\n",
       "      <td>0.00</td>\n",
       "      <td>0.00</td>\n",
       "      <td>0.00</td>\n",
       "      <td>0.00</td>\n",
       "      <td>0.00</td>\n",
       "      <td>0.00</td>\n",
       "      <td>0.00</td>\n",
       "      <td>0.00</td>\n",
       "      <td>0.00</td>\n",
       "      <td>0.00</td>\n",
       "      <td>0.00</td>\n",
       "      <td>0.00</td>\n",
       "      <td>0.00</td>\n",
       "      <td>0.00</td>\n",
       "      <td>0.00</td>\n",
       "      <td>0.00</td>\n",
       "      <td>0.00</td>\n",
       "      <td>0.00</td>\n",
       "      <td>0.00</td>\n",
       "      <td>1.86</td>\n",
       "      <td>2</td>\n",
       "    </tr>\n",
       "    <tr>\n",
       "      <th>NG</th>\n",
       "      <td>0.00</td>\n",
       "      <td>0.00</td>\n",
       "      <td>0.00</td>\n",
       "      <td>0.00</td>\n",
       "      <td>0.00</td>\n",
       "      <td>0.00</td>\n",
       "      <td>0.00</td>\n",
       "      <td>0.00</td>\n",
       "      <td>0.00</td>\n",
       "      <td>0.00</td>\n",
       "      <td>0.00</td>\n",
       "      <td>0.00</td>\n",
       "      <td>0.00</td>\n",
       "      <td>0.21</td>\n",
       "      <td>0.80</td>\n",
       "      <td>0.33</td>\n",
       "      <td>0.10</td>\n",
       "      <td>0.00</td>\n",
       "      <td>0.00</td>\n",
       "      <td>0.00</td>\n",
       "      <td>0.00</td>\n",
       "      <td>0.00</td>\n",
       "      <td>0.00</td>\n",
       "      <td>0.00</td>\n",
       "      <td>0.00</td>\n",
       "      <td>0.00</td>\n",
       "      <td>0.00</td>\n",
       "      <td>0.00</td>\n",
       "      <td>0.00</td>\n",
       "      <td>0.00</td>\n",
       "      <td>0.00</td>\n",
       "      <td>0.00</td>\n",
       "      <td>0.00</td>\n",
       "      <td>0.00</td>\n",
       "      <td>0.00</td>\n",
       "      <td>0.00</td>\n",
       "      <td>0.00</td>\n",
       "      <td>1.44</td>\n",
       "      <td>4</td>\n",
       "    </tr>\n",
       "    <tr>\n",
       "      <th>WS</th>\n",
       "      <td>0.00</td>\n",
       "      <td>0.00</td>\n",
       "      <td>0.00</td>\n",
       "      <td>0.00</td>\n",
       "      <td>0.00</td>\n",
       "      <td>0.00</td>\n",
       "      <td>0.00</td>\n",
       "      <td>0.00</td>\n",
       "      <td>0.00</td>\n",
       "      <td>0.00</td>\n",
       "      <td>0.00</td>\n",
       "      <td>0.00</td>\n",
       "      <td>0.00</td>\n",
       "      <td>0.00</td>\n",
       "      <td>0.00</td>\n",
       "      <td>0.00</td>\n",
       "      <td>0.00</td>\n",
       "      <td>0.00</td>\n",
       "      <td>0.00</td>\n",
       "      <td>0.46</td>\n",
       "      <td>0.68</td>\n",
       "      <td>0.28</td>\n",
       "      <td>0.00</td>\n",
       "      <td>0.00</td>\n",
       "      <td>0.00</td>\n",
       "      <td>0.00</td>\n",
       "      <td>0.00</td>\n",
       "      <td>0.00</td>\n",
       "      <td>0.00</td>\n",
       "      <td>0.00</td>\n",
       "      <td>0.00</td>\n",
       "      <td>0.00</td>\n",
       "      <td>0.00</td>\n",
       "      <td>0.00</td>\n",
       "      <td>0.00</td>\n",
       "      <td>0.00</td>\n",
       "      <td>0.00</td>\n",
       "      <td>1.42</td>\n",
       "      <td>3</td>\n",
       "    </tr>\n",
       "    <tr>\n",
       "      <th>TG16</th>\n",
       "      <td>0.00</td>\n",
       "      <td>0.00</td>\n",
       "      <td>0.00</td>\n",
       "      <td>0.00</td>\n",
       "      <td>0.00</td>\n",
       "      <td>0.00</td>\n",
       "      <td>0.00</td>\n",
       "      <td>0.00</td>\n",
       "      <td>0.00</td>\n",
       "      <td>0.00</td>\n",
       "      <td>0.00</td>\n",
       "      <td>0.00</td>\n",
       "      <td>0.00</td>\n",
       "      <td>0.00</td>\n",
       "      <td>0.00</td>\n",
       "      <td>0.16</td>\n",
       "      <td>0.00</td>\n",
       "      <td>0.00</td>\n",
       "      <td>0.00</td>\n",
       "      <td>0.00</td>\n",
       "      <td>0.00</td>\n",
       "      <td>0.00</td>\n",
       "      <td>0.00</td>\n",
       "      <td>0.00</td>\n",
       "      <td>0.00</td>\n",
       "      <td>0.00</td>\n",
       "      <td>0.00</td>\n",
       "      <td>0.00</td>\n",
       "      <td>0.00</td>\n",
       "      <td>0.00</td>\n",
       "      <td>0.00</td>\n",
       "      <td>0.00</td>\n",
       "      <td>0.00</td>\n",
       "      <td>0.00</td>\n",
       "      <td>0.00</td>\n",
       "      <td>0.00</td>\n",
       "      <td>0.00</td>\n",
       "      <td>0.16</td>\n",
       "      <td>1</td>\n",
       "    </tr>\n",
       "    <tr>\n",
       "      <th>3DO</th>\n",
       "      <td>0.00</td>\n",
       "      <td>0.00</td>\n",
       "      <td>0.00</td>\n",
       "      <td>0.00</td>\n",
       "      <td>0.00</td>\n",
       "      <td>0.00</td>\n",
       "      <td>0.00</td>\n",
       "      <td>0.00</td>\n",
       "      <td>0.00</td>\n",
       "      <td>0.00</td>\n",
       "      <td>0.00</td>\n",
       "      <td>0.00</td>\n",
       "      <td>0.00</td>\n",
       "      <td>0.00</td>\n",
       "      <td>0.02</td>\n",
       "      <td>0.08</td>\n",
       "      <td>0.00</td>\n",
       "      <td>0.00</td>\n",
       "      <td>0.00</td>\n",
       "      <td>0.00</td>\n",
       "      <td>0.00</td>\n",
       "      <td>0.00</td>\n",
       "      <td>0.00</td>\n",
       "      <td>0.00</td>\n",
       "      <td>0.00</td>\n",
       "      <td>0.00</td>\n",
       "      <td>0.00</td>\n",
       "      <td>0.00</td>\n",
       "      <td>0.00</td>\n",
       "      <td>0.00</td>\n",
       "      <td>0.00</td>\n",
       "      <td>0.00</td>\n",
       "      <td>0.00</td>\n",
       "      <td>0.00</td>\n",
       "      <td>0.00</td>\n",
       "      <td>0.00</td>\n",
       "      <td>0.00</td>\n",
       "      <td>0.10</td>\n",
       "      <td>2</td>\n",
       "    </tr>\n",
       "    <tr>\n",
       "      <th>GG</th>\n",
       "      <td>0.00</td>\n",
       "      <td>0.00</td>\n",
       "      <td>0.00</td>\n",
       "      <td>0.00</td>\n",
       "      <td>0.00</td>\n",
       "      <td>0.00</td>\n",
       "      <td>0.00</td>\n",
       "      <td>0.00</td>\n",
       "      <td>0.00</td>\n",
       "      <td>0.00</td>\n",
       "      <td>0.00</td>\n",
       "      <td>0.00</td>\n",
       "      <td>0.04</td>\n",
       "      <td>0.00</td>\n",
       "      <td>0.00</td>\n",
       "      <td>0.00</td>\n",
       "      <td>0.00</td>\n",
       "      <td>0.00</td>\n",
       "      <td>0.00</td>\n",
       "      <td>0.00</td>\n",
       "      <td>0.00</td>\n",
       "      <td>0.00</td>\n",
       "      <td>0.00</td>\n",
       "      <td>0.00</td>\n",
       "      <td>0.00</td>\n",
       "      <td>0.00</td>\n",
       "      <td>0.00</td>\n",
       "      <td>0.00</td>\n",
       "      <td>0.00</td>\n",
       "      <td>0.00</td>\n",
       "      <td>0.00</td>\n",
       "      <td>0.00</td>\n",
       "      <td>0.00</td>\n",
       "      <td>0.00</td>\n",
       "      <td>0.00</td>\n",
       "      <td>0.00</td>\n",
       "      <td>0.00</td>\n",
       "      <td>0.04</td>\n",
       "      <td>1</td>\n",
       "    </tr>\n",
       "    <tr>\n",
       "      <th>PCFX</th>\n",
       "      <td>0.00</td>\n",
       "      <td>0.00</td>\n",
       "      <td>0.00</td>\n",
       "      <td>0.00</td>\n",
       "      <td>0.00</td>\n",
       "      <td>0.00</td>\n",
       "      <td>0.00</td>\n",
       "      <td>0.00</td>\n",
       "      <td>0.00</td>\n",
       "      <td>0.00</td>\n",
       "      <td>0.00</td>\n",
       "      <td>0.00</td>\n",
       "      <td>0.00</td>\n",
       "      <td>0.00</td>\n",
       "      <td>0.00</td>\n",
       "      <td>0.00</td>\n",
       "      <td>0.03</td>\n",
       "      <td>0.00</td>\n",
       "      <td>0.00</td>\n",
       "      <td>0.00</td>\n",
       "      <td>0.00</td>\n",
       "      <td>0.00</td>\n",
       "      <td>0.00</td>\n",
       "      <td>0.00</td>\n",
       "      <td>0.00</td>\n",
       "      <td>0.00</td>\n",
       "      <td>0.00</td>\n",
       "      <td>0.00</td>\n",
       "      <td>0.00</td>\n",
       "      <td>0.00</td>\n",
       "      <td>0.00</td>\n",
       "      <td>0.00</td>\n",
       "      <td>0.00</td>\n",
       "      <td>0.00</td>\n",
       "      <td>0.00</td>\n",
       "      <td>0.00</td>\n",
       "      <td>0.00</td>\n",
       "      <td>0.03</td>\n",
       "      <td>1</td>\n",
       "    </tr>\n",
       "  </tbody>\n",
       "</table>\n",
       "</div>"
      ],
      "text/plain": [
       "year_of_release   1980   1981   1982   1983   1984   1985   1986   1987  \\\n",
       "platform                                                                  \n",
       "All              11.38  35.68  28.88  16.80  50.35  53.95  37.08  21.70   \n",
       "PS2               0.00   0.00   0.00   0.00   0.00   0.00   0.00   0.00   \n",
       "X360              0.00   0.00   0.00   0.00   0.00   0.00   0.00   0.00   \n",
       "PS3               0.00   0.00   0.00   0.00   0.00   0.00   0.00   0.00   \n",
       "Wii               0.00   0.00   0.00   0.00   0.00   0.00   0.00   0.00   \n",
       "DS                0.00   0.00   0.00   0.00   0.00   0.02   0.00   0.00   \n",
       "PS                0.00   0.00   0.00   0.00   0.00   0.00   0.00   0.00   \n",
       "PS4               0.00   0.00   0.00   0.00   0.00   0.00   0.00   0.00   \n",
       "GBA               0.00   0.00   0.00   0.00   0.00   0.00   0.00   0.00   \n",
       "PSP               0.00   0.00   0.00   0.00   0.00   0.00   0.00   0.00   \n",
       "3DS               0.00   0.00   0.00   0.00   0.00   0.00   0.00   0.00   \n",
       "PC                0.00   0.00   0.00   0.00   0.00   0.04   0.00   0.00   \n",
       "GB                0.00   0.00   0.00   0.00   0.00   0.00   0.00   0.00   \n",
       "XB                0.00   0.00   0.00   0.00   0.00   0.00   0.00   0.00   \n",
       "NES               0.00   0.00   0.00  10.96  50.08  53.44  36.41  19.76   \n",
       "N64               0.00   0.00   0.00   0.00   0.00   0.00   0.00   0.00   \n",
       "SNES              0.00   0.00   0.00   0.00   0.00   0.00   0.00   0.00   \n",
       "GC                0.00   0.00   0.00   0.00   0.00   0.00   0.00   0.00   \n",
       "XOne              0.00   0.00   0.00   0.00   0.00   0.00   0.00   0.00   \n",
       "2600             11.38  35.68  28.88   5.84   0.27   0.45   0.67   1.94   \n",
       "WiiU              0.00   0.00   0.00   0.00   0.00   0.00   0.00   0.00   \n",
       "PSV               0.00   0.00   0.00   0.00   0.00   0.00   0.00   0.00   \n",
       "SAT               0.00   0.00   0.00   0.00   0.00   0.00   0.00   0.00   \n",
       "GEN               0.00   0.00   0.00   0.00   0.00   0.00   0.00   0.00   \n",
       "DC                0.00   0.00   0.00   0.00   0.00   0.00   0.00   0.00   \n",
       "SCD               0.00   0.00   0.00   0.00   0.00   0.00   0.00   0.00   \n",
       "NG                0.00   0.00   0.00   0.00   0.00   0.00   0.00   0.00   \n",
       "WS                0.00   0.00   0.00   0.00   0.00   0.00   0.00   0.00   \n",
       "TG16              0.00   0.00   0.00   0.00   0.00   0.00   0.00   0.00   \n",
       "3DO               0.00   0.00   0.00   0.00   0.00   0.00   0.00   0.00   \n",
       "GG                0.00   0.00   0.00   0.00   0.00   0.00   0.00   0.00   \n",
       "PCFX              0.00   0.00   0.00   0.00   0.00   0.00   0.00   0.00   \n",
       "\n",
       "year_of_release   1988   1989   1990   1991   1992   1993   1994   1995  \\\n",
       "platform                                                                  \n",
       "All              47.21  73.45  49.37  32.23  76.16  45.99  79.23  88.12   \n",
       "PS2               0.00   0.00   0.00   0.00   0.00   0.00   0.00   0.00   \n",
       "X360              0.00   0.00   0.00   0.00   0.00   0.00   0.00   0.00   \n",
       "PS3               0.00   0.00   0.00   0.00   0.00   0.00   0.00   0.00   \n",
       "Wii               0.00   0.00   0.00   0.00   0.00   0.00   0.00   0.00   \n",
       "DS                0.00   0.00   0.00   0.00   0.00   0.00   0.00   0.00   \n",
       "PS                0.00   0.00   0.00   0.00   0.00   0.00   6.03  35.96   \n",
       "PS4               0.00   0.00   0.00   0.00   0.00   0.00   0.00   0.00   \n",
       "GBA               0.00   0.00   0.00   0.00   0.00   0.00   0.00   0.00   \n",
       "PSP               0.00   0.00   0.00   0.00   0.00   0.00   0.00   0.00   \n",
       "3DS               0.00   0.00   0.00   0.00   0.00   0.00   0.00   0.00   \n",
       "PC                0.03   0.00   0.00   0.00   3.03   0.00  12.87   4.22   \n",
       "GB                1.43  64.97   4.89   5.57  25.49   0.00  12.18   3.60   \n",
       "XB                0.00   0.00   0.00   0.00   0.00   0.00   0.00   0.00   \n",
       "NES              45.01   7.85  15.73   6.11   1.98   3.61   0.11   0.00   \n",
       "N64               0.00   0.00   0.00   0.00   0.00   0.00   0.00   0.00   \n",
       "SNES              0.00   0.00  26.15  16.22  32.98  40.02  35.08  32.20   \n",
       "GC                0.00   0.00   0.00   0.00   0.00   0.00   0.00   0.00   \n",
       "XOne              0.00   0.00   0.00   0.00   0.00   0.00   0.00   0.00   \n",
       "2600              0.74   0.63   0.00   0.00   0.00   0.00   0.00   0.00   \n",
       "WiiU              0.00   0.00   0.00   0.00   0.00   0.00   0.00   0.00   \n",
       "PSV               0.00   0.00   0.00   0.00   0.00   0.00   0.00   0.00   \n",
       "SAT               0.00   0.00   0.00   0.00   0.00   0.00   3.65  11.57   \n",
       "GEN               0.00   0.00   2.60   4.33  12.64   0.65   8.13   0.00   \n",
       "DC                0.00   0.00   0.00   0.00   0.00   0.00   0.00   0.00   \n",
       "SCD               0.00   0.00   0.00   0.00   0.00   1.50   0.36   0.00   \n",
       "NG                0.00   0.00   0.00   0.00   0.00   0.21   0.80   0.33   \n",
       "WS                0.00   0.00   0.00   0.00   0.00   0.00   0.00   0.00   \n",
       "TG16              0.00   0.00   0.00   0.00   0.00   0.00   0.00   0.16   \n",
       "3DO               0.00   0.00   0.00   0.00   0.00   0.00   0.02   0.08   \n",
       "GG                0.00   0.00   0.00   0.00   0.04   0.00   0.00   0.00   \n",
       "PCFX              0.00   0.00   0.00   0.00   0.00   0.00   0.00   0.00   \n",
       "\n",
       "year_of_release    1996    1997    1998    1999    2000    2001    2002  \\\n",
       "platform                                                                  \n",
       "All              199.15  201.07  256.31  251.11  201.66  331.46  394.97   \n",
       "PS2                0.00    0.00    0.00    0.00   39.17  166.43  205.38   \n",
       "X360               0.00    0.00    0.00    0.00    0.00    0.00    0.00   \n",
       "PS3                0.00    0.00    0.00    0.00    0.00    0.00    0.00   \n",
       "Wii                0.00    0.00    0.00    0.00    0.00    0.00    0.00   \n",
       "DS                 0.00    0.00    0.00    0.00    0.00    0.00    0.00   \n",
       "PS                94.70  136.17  169.49  144.53   96.37   35.59    6.67   \n",
       "PS4                0.00    0.00    0.00    0.00    0.00    0.00    0.00   \n",
       "GBA                0.00    0.00    0.00    0.00    0.07   61.53   74.16   \n",
       "PSP                0.00    0.00    0.00    0.00    0.00    0.00    0.00   \n",
       "3DS                0.00    0.00    0.00    0.00    0.00    0.00    0.00   \n",
       "PC                10.58   11.27    3.26    4.74    4.66    5.47    8.57   \n",
       "GB                36.03    6.37   26.90   38.00   19.76    9.24    0.00   \n",
       "XB                 0.00    0.00    0.00    0.00    0.99   22.26   48.01   \n",
       "NES                0.00    0.00    0.00    0.00    0.00    0.00    0.00   \n",
       "N64               34.10   39.50   49.24   57.87   33.97    3.25    0.08   \n",
       "SNES              15.92    0.99    0.22    0.26    0.00    0.00    0.00   \n",
       "GC                 0.00    0.00    0.00    0.00    0.00   26.34   51.81   \n",
       "XOne               0.00    0.00    0.00    0.00    0.00    0.00    0.00   \n",
       "2600               0.00    0.00    0.00    0.00    0.00    0.00    0.00   \n",
       "WiiU               0.00    0.00    0.00    0.00    0.00    0.00    0.00   \n",
       "PSV                0.00    0.00    0.00    0.00    0.00    0.00    0.00   \n",
       "SAT                7.69    6.77    3.82    0.09    0.00    0.00    0.00   \n",
       "GEN                0.00    0.00    0.00    0.00    0.00    0.00    0.00   \n",
       "DC                 0.00    0.00    3.38    5.16    5.99    1.07    0.29   \n",
       "SCD                0.00    0.00    0.00    0.00    0.00    0.00    0.00   \n",
       "NG                 0.10    0.00    0.00    0.00    0.00    0.00    0.00   \n",
       "WS                 0.00    0.00    0.00    0.46    0.68    0.28    0.00   \n",
       "TG16               0.00    0.00    0.00    0.00    0.00    0.00    0.00   \n",
       "3DO                0.00    0.00    0.00    0.00    0.00    0.00    0.00   \n",
       "GG                 0.00    0.00    0.00    0.00    0.00    0.00    0.00   \n",
       "PCFX               0.03    0.00    0.00    0.00    0.00    0.00    0.00   \n",
       "\n",
       "year_of_release    2003    2004    2005    2006    2007    2008    2009  \\\n",
       "platform                                                                  \n",
       "All              357.54  418.68  457.82  517.71  604.75  671.50  658.82   \n",
       "PS2              184.31  211.81  160.66  103.42   75.99   53.90   26.40   \n",
       "X360               0.00    0.00    8.25   51.62   95.41  135.26  120.29   \n",
       "PS3                0.00    0.00    0.00   20.96   73.19  118.52  130.93   \n",
       "Wii                0.00    0.00    0.00  137.15  152.77  171.32  206.97   \n",
       "DS                 0.00   17.27  130.14  119.81  146.94  145.31  119.54   \n",
       "PS                 2.07    0.00    0.00    0.00    0.00    0.00    0.00   \n",
       "PS4                0.00    0.00    0.00    0.00    0.00    0.00    0.00   \n",
       "GBA               56.67   77.91   33.86    5.28    3.40    0.00    0.00   \n",
       "PSP                0.00    7.06   43.84   55.32   46.93   34.55   37.78   \n",
       "3DS                0.00    0.00    0.00    0.00    0.00    0.00    0.00   \n",
       "PC                 8.84   10.39    4.37    2.85    9.28   12.42   16.91   \n",
       "GB                 0.00    0.00    0.00    0.00    0.00    0.00    0.00   \n",
       "XB                55.04   65.42   49.08   10.04    0.55    0.18    0.00   \n",
       "NES                0.00    0.00    0.00    0.00    0.00    0.00    0.00   \n",
       "N64                0.00    0.00    0.00    0.00    0.00    0.00    0.00   \n",
       "SNES               0.00    0.00    0.00    0.00    0.00    0.00    0.00   \n",
       "GC                50.61   28.82   27.62   11.26    0.27    0.00    0.00   \n",
       "XOne               0.00    0.00    0.00    0.00    0.00    0.00    0.00   \n",
       "2600               0.00    0.00    0.00    0.00    0.00    0.00    0.00   \n",
       "WiiU               0.00    0.00    0.00    0.00    0.00    0.00    0.00   \n",
       "PSV                0.00    0.00    0.00    0.00    0.00    0.00    0.00   \n",
       "SAT                0.00    0.00    0.00    0.00    0.00    0.00    0.00   \n",
       "GEN                0.00    0.00    0.00    0.00    0.00    0.00    0.00   \n",
       "DC                 0.00    0.00    0.00    0.00    0.02    0.04    0.00   \n",
       "SCD                0.00    0.00    0.00    0.00    0.00    0.00    0.00   \n",
       "NG                 0.00    0.00    0.00    0.00    0.00    0.00    0.00   \n",
       "WS                 0.00    0.00    0.00    0.00    0.00    0.00    0.00   \n",
       "TG16               0.00    0.00    0.00    0.00    0.00    0.00    0.00   \n",
       "3DO                0.00    0.00    0.00    0.00    0.00    0.00    0.00   \n",
       "GG                 0.00    0.00    0.00    0.00    0.00    0.00    0.00   \n",
       "PCFX               0.00    0.00    0.00    0.00    0.00    0.00    0.00   \n",
       "\n",
       "year_of_release    2010    2011    2012    2013    2014    2015    2016  \\\n",
       "platform                                                                  \n",
       "All              590.13  507.58  355.84  361.24  331.53  267.98  129.94   \n",
       "PS2                5.64    0.45    0.00    0.00    0.00    0.00    0.00   \n",
       "X360             170.03  143.84   99.74   88.58   34.74   11.96    1.52   \n",
       "PS3              142.17  156.78  107.36  113.25   47.76   16.82    3.60   \n",
       "Wii              127.95   59.65   21.71    8.59    3.75    1.14    0.18   \n",
       "DS                85.02   26.18   11.01    1.54    0.00    0.00    0.00   \n",
       "PS                 0.00    0.00    0.00    0.00    0.00    0.00    0.00   \n",
       "PS4                0.00    0.00    0.00   25.99  100.00  118.90   69.25   \n",
       "GBA                0.00    0.00    0.00    0.00    0.00    0.00    0.00   \n",
       "PSP               35.04   17.82    7.69    3.14    0.24    0.12    0.00   \n",
       "3DS                0.00   63.20   51.36   56.57   43.76   27.78   15.14   \n",
       "PC                24.28   35.03   23.22   12.38   13.28    8.52    5.25   \n",
       "GB                 0.00    0.00    0.00    0.00    0.00    0.00    0.00   \n",
       "XB                 0.00    0.00    0.00    0.00    0.00    0.00    0.00   \n",
       "NES                0.00    0.00    0.00    0.00    0.00    0.00    0.00   \n",
       "N64                0.00    0.00    0.00    0.00    0.00    0.00    0.00   \n",
       "SNES               0.00    0.00    0.00    0.00    0.00    0.00    0.00   \n",
       "GC                 0.00    0.00    0.00    0.00    0.00    0.00    0.00   \n",
       "XOne               0.00    0.00    0.00   18.96   54.07   60.14   26.15   \n",
       "2600               0.00    0.00    0.00    0.00    0.00    0.00    0.00   \n",
       "WiiU               0.00    0.00   17.56   21.65   22.03   16.35    4.60   \n",
       "PSV                0.00    4.63   16.19   10.59   11.90    6.25    4.25   \n",
       "SAT                0.00    0.00    0.00    0.00    0.00    0.00    0.00   \n",
       "GEN                0.00    0.00    0.00    0.00    0.00    0.00    0.00   \n",
       "DC                 0.00    0.00    0.00    0.00    0.00    0.00    0.00   \n",
       "SCD                0.00    0.00    0.00    0.00    0.00    0.00    0.00   \n",
       "NG                 0.00    0.00    0.00    0.00    0.00    0.00    0.00   \n",
       "WS                 0.00    0.00    0.00    0.00    0.00    0.00    0.00   \n",
       "TG16               0.00    0.00    0.00    0.00    0.00    0.00    0.00   \n",
       "3DO                0.00    0.00    0.00    0.00    0.00    0.00    0.00   \n",
       "GG                 0.00    0.00    0.00    0.00    0.00    0.00    0.00   \n",
       "PCFX               0.00    0.00    0.00    0.00    0.00    0.00    0.00   \n",
       "\n",
       "year_of_release      All  operating_years  \n",
       "platform                                   \n",
       "All              8814.37               37  \n",
       "PS2              1233.56               12  \n",
       "X360              961.24               12  \n",
       "PS3               931.34               11  \n",
       "Wii               891.18               11  \n",
       "DS                802.78               11  \n",
       "PS                727.58               10  \n",
       "PS4               314.14                4  \n",
       "GBA               312.88                8  \n",
       "PSP               289.53               12  \n",
       "3DS               257.81                6  \n",
       "PC                255.76               26  \n",
       "GB                254.43               13  \n",
       "XB                251.57                9  \n",
       "NES               251.05               12  \n",
       "N64               218.01                7  \n",
       "SNES              200.04               10  \n",
       "GC                196.73                7  \n",
       "XOne              159.32                4  \n",
       "2600               86.48               10  \n",
       "WiiU               82.19                5  \n",
       "PSV                53.81                6  \n",
       "SAT                33.59                6  \n",
       "GEN                28.35                5  \n",
       "DC                 15.95                7  \n",
       "SCD                 1.86                2  \n",
       "NG                  1.44                4  \n",
       "WS                  1.42                3  \n",
       "TG16                0.16                1  \n",
       "3DO                 0.10                2  \n",
       "GG                  0.04                1  \n",
       "PCFX                0.03                1  "
      ]
     },
     "execution_count": 23,
     "metadata": {},
     "output_type": "execute_result"
    }
   ],
   "source": [
    "total_sales_pivot = df.pivot_table(\n",
    "        index='platform', \n",
    "        columns='year_of_release', \n",
    "        values='total_sales', \n",
    "        aggfunc='sum',\n",
    "        margins=True,\n",
    "        fill_value=0).sort_values(by='All', ascending=False)\n",
    "total_sales_pivot['operating_years'] = total_sales_pivot.astype(bool).sum(axis=1) - 1\n",
    "total_sales_pivot"
   ]
  },
  {
   "cell_type": "markdown",
   "id": "58e1aabb",
   "metadata": {},
   "source": [
    "This table shows that the dynamics of sales for all platforms corresponds to the dynamics of the number of releases by year:\n",
    "- small sales up to 2000 inclusive;\n",
    "- in this case, the period from 1980 to 1995 is especially distinguished, when the number of copies sold was less than 100 million pieces per year;\n",
    "- the largest number of sales in the period occurred in 2008-2009.\n",
    "\n",
    "At various time intervals, the most popular platforms were:\n",
    "* in the 80s: `NES`, `2600`;\n",
    "* in the 90s: `GB`, `SNES`;\n",
    "* in 00s: `PS2`, `Wii`, `DS`, `GBA`, `PSP`, `XB`, `GC`;\n",
    "* in 10s: `X360`, `PS3`, `PS4`, `3DS`, `PC`."
   ]
  },
  {
   "cell_type": "code",
   "execution_count": 24,
   "id": "16f42374",
   "metadata": {},
   "outputs": [
    {
     "data": {
      "text/plain": [
       "count    31.000000\n",
       "mean      7.677419\n",
       "std       5.081910\n",
       "min       1.000000\n",
       "25%       4.000000\n",
       "50%       7.000000\n",
       "75%      11.000000\n",
       "max      26.000000\n",
       "Name: operating_years, dtype: float64"
      ]
     },
     "execution_count": 24,
     "metadata": {},
     "output_type": "execute_result"
    }
   ],
   "source": [
    "total_sales_pivot = total_sales_pivot.drop(index='All')\n",
    "total_sales_pivot['operating_years'].describe()"
   ]
  },
  {
   "cell_type": "markdown",
   "id": "9d9cb3ed",
   "metadata": {},
   "source": [
    "It can also be noted that the typical period during which new platforms appear and old platforms disappear, on average **is 7 - 8 years**."
   ]
  },
  {
   "cell_type": "markdown",
   "id": "c128c910",
   "metadata": {},
   "source": [
    "Let's choose the platforms with the highest total sales and plot the distribution by years:"
   ]
  },
  {
   "cell_type": "code",
   "execution_count": 25,
   "id": "239ef085",
   "metadata": {
    "scrolled": true
   },
   "outputs": [
    {
     "data": {
      "text/html": [
       "<div>\n",
       "<style scoped>\n",
       "    .dataframe tbody tr th:only-of-type {\n",
       "        vertical-align: middle;\n",
       "    }\n",
       "\n",
       "    .dataframe tbody tr th {\n",
       "        vertical-align: top;\n",
       "    }\n",
       "\n",
       "    .dataframe thead th {\n",
       "        text-align: right;\n",
       "    }\n",
       "</style>\n",
       "<table border=\"1\" class=\"dataframe\">\n",
       "  <thead>\n",
       "    <tr style=\"text-align: right;\">\n",
       "      <th>year_of_release</th>\n",
       "      <th>1980</th>\n",
       "      <th>1981</th>\n",
       "      <th>1982</th>\n",
       "      <th>1983</th>\n",
       "      <th>1984</th>\n",
       "      <th>1985</th>\n",
       "      <th>1986</th>\n",
       "      <th>1987</th>\n",
       "      <th>1988</th>\n",
       "      <th>1989</th>\n",
       "      <th>1990</th>\n",
       "      <th>1991</th>\n",
       "      <th>1992</th>\n",
       "      <th>1993</th>\n",
       "      <th>1994</th>\n",
       "      <th>1995</th>\n",
       "      <th>1996</th>\n",
       "      <th>1997</th>\n",
       "      <th>1998</th>\n",
       "      <th>1999</th>\n",
       "      <th>2000</th>\n",
       "      <th>2001</th>\n",
       "      <th>2002</th>\n",
       "      <th>2003</th>\n",
       "      <th>2004</th>\n",
       "      <th>2005</th>\n",
       "      <th>2006</th>\n",
       "      <th>2007</th>\n",
       "      <th>2008</th>\n",
       "      <th>2009</th>\n",
       "      <th>2010</th>\n",
       "      <th>2011</th>\n",
       "      <th>2012</th>\n",
       "      <th>2013</th>\n",
       "      <th>2014</th>\n",
       "      <th>2015</th>\n",
       "      <th>2016</th>\n",
       "    </tr>\n",
       "    <tr>\n",
       "      <th>platform</th>\n",
       "      <th></th>\n",
       "      <th></th>\n",
       "      <th></th>\n",
       "      <th></th>\n",
       "      <th></th>\n",
       "      <th></th>\n",
       "      <th></th>\n",
       "      <th></th>\n",
       "      <th></th>\n",
       "      <th></th>\n",
       "      <th></th>\n",
       "      <th></th>\n",
       "      <th></th>\n",
       "      <th></th>\n",
       "      <th></th>\n",
       "      <th></th>\n",
       "      <th></th>\n",
       "      <th></th>\n",
       "      <th></th>\n",
       "      <th></th>\n",
       "      <th></th>\n",
       "      <th></th>\n",
       "      <th></th>\n",
       "      <th></th>\n",
       "      <th></th>\n",
       "      <th></th>\n",
       "      <th></th>\n",
       "      <th></th>\n",
       "      <th></th>\n",
       "      <th></th>\n",
       "      <th></th>\n",
       "      <th></th>\n",
       "      <th></th>\n",
       "      <th></th>\n",
       "      <th></th>\n",
       "      <th></th>\n",
       "      <th></th>\n",
       "    </tr>\n",
       "  </thead>\n",
       "  <tbody>\n",
       "    <tr>\n",
       "      <th>PS2</th>\n",
       "      <td>0.0</td>\n",
       "      <td>0.0</td>\n",
       "      <td>0.0</td>\n",
       "      <td>0.0</td>\n",
       "      <td>0.0</td>\n",
       "      <td>0.00</td>\n",
       "      <td>0.0</td>\n",
       "      <td>0.0</td>\n",
       "      <td>0.0</td>\n",
       "      <td>0.0</td>\n",
       "      <td>0.0</td>\n",
       "      <td>0.0</td>\n",
       "      <td>0.0</td>\n",
       "      <td>0.0</td>\n",
       "      <td>0.00</td>\n",
       "      <td>0.00</td>\n",
       "      <td>0.0</td>\n",
       "      <td>0.00</td>\n",
       "      <td>0.00</td>\n",
       "      <td>0.00</td>\n",
       "      <td>39.17</td>\n",
       "      <td>166.43</td>\n",
       "      <td>205.38</td>\n",
       "      <td>184.31</td>\n",
       "      <td>211.81</td>\n",
       "      <td>160.66</td>\n",
       "      <td>103.42</td>\n",
       "      <td>75.99</td>\n",
       "      <td>53.90</td>\n",
       "      <td>26.40</td>\n",
       "      <td>5.64</td>\n",
       "      <td>0.45</td>\n",
       "      <td>0.00</td>\n",
       "      <td>0.00</td>\n",
       "      <td>0.00</td>\n",
       "      <td>0.00</td>\n",
       "      <td>0.00</td>\n",
       "    </tr>\n",
       "    <tr>\n",
       "      <th>X360</th>\n",
       "      <td>0.0</td>\n",
       "      <td>0.0</td>\n",
       "      <td>0.0</td>\n",
       "      <td>0.0</td>\n",
       "      <td>0.0</td>\n",
       "      <td>0.00</td>\n",
       "      <td>0.0</td>\n",
       "      <td>0.0</td>\n",
       "      <td>0.0</td>\n",
       "      <td>0.0</td>\n",
       "      <td>0.0</td>\n",
       "      <td>0.0</td>\n",
       "      <td>0.0</td>\n",
       "      <td>0.0</td>\n",
       "      <td>0.00</td>\n",
       "      <td>0.00</td>\n",
       "      <td>0.0</td>\n",
       "      <td>0.00</td>\n",
       "      <td>0.00</td>\n",
       "      <td>0.00</td>\n",
       "      <td>0.00</td>\n",
       "      <td>0.00</td>\n",
       "      <td>0.00</td>\n",
       "      <td>0.00</td>\n",
       "      <td>0.00</td>\n",
       "      <td>8.25</td>\n",
       "      <td>51.62</td>\n",
       "      <td>95.41</td>\n",
       "      <td>135.26</td>\n",
       "      <td>120.29</td>\n",
       "      <td>170.03</td>\n",
       "      <td>143.84</td>\n",
       "      <td>99.74</td>\n",
       "      <td>88.58</td>\n",
       "      <td>34.74</td>\n",
       "      <td>11.96</td>\n",
       "      <td>1.52</td>\n",
       "    </tr>\n",
       "    <tr>\n",
       "      <th>PS3</th>\n",
       "      <td>0.0</td>\n",
       "      <td>0.0</td>\n",
       "      <td>0.0</td>\n",
       "      <td>0.0</td>\n",
       "      <td>0.0</td>\n",
       "      <td>0.00</td>\n",
       "      <td>0.0</td>\n",
       "      <td>0.0</td>\n",
       "      <td>0.0</td>\n",
       "      <td>0.0</td>\n",
       "      <td>0.0</td>\n",
       "      <td>0.0</td>\n",
       "      <td>0.0</td>\n",
       "      <td>0.0</td>\n",
       "      <td>0.00</td>\n",
       "      <td>0.00</td>\n",
       "      <td>0.0</td>\n",
       "      <td>0.00</td>\n",
       "      <td>0.00</td>\n",
       "      <td>0.00</td>\n",
       "      <td>0.00</td>\n",
       "      <td>0.00</td>\n",
       "      <td>0.00</td>\n",
       "      <td>0.00</td>\n",
       "      <td>0.00</td>\n",
       "      <td>0.00</td>\n",
       "      <td>20.96</td>\n",
       "      <td>73.19</td>\n",
       "      <td>118.52</td>\n",
       "      <td>130.93</td>\n",
       "      <td>142.17</td>\n",
       "      <td>156.78</td>\n",
       "      <td>107.36</td>\n",
       "      <td>113.25</td>\n",
       "      <td>47.76</td>\n",
       "      <td>16.82</td>\n",
       "      <td>3.60</td>\n",
       "    </tr>\n",
       "    <tr>\n",
       "      <th>Wii</th>\n",
       "      <td>0.0</td>\n",
       "      <td>0.0</td>\n",
       "      <td>0.0</td>\n",
       "      <td>0.0</td>\n",
       "      <td>0.0</td>\n",
       "      <td>0.00</td>\n",
       "      <td>0.0</td>\n",
       "      <td>0.0</td>\n",
       "      <td>0.0</td>\n",
       "      <td>0.0</td>\n",
       "      <td>0.0</td>\n",
       "      <td>0.0</td>\n",
       "      <td>0.0</td>\n",
       "      <td>0.0</td>\n",
       "      <td>0.00</td>\n",
       "      <td>0.00</td>\n",
       "      <td>0.0</td>\n",
       "      <td>0.00</td>\n",
       "      <td>0.00</td>\n",
       "      <td>0.00</td>\n",
       "      <td>0.00</td>\n",
       "      <td>0.00</td>\n",
       "      <td>0.00</td>\n",
       "      <td>0.00</td>\n",
       "      <td>0.00</td>\n",
       "      <td>0.00</td>\n",
       "      <td>137.15</td>\n",
       "      <td>152.77</td>\n",
       "      <td>171.32</td>\n",
       "      <td>206.97</td>\n",
       "      <td>127.95</td>\n",
       "      <td>59.65</td>\n",
       "      <td>21.71</td>\n",
       "      <td>8.59</td>\n",
       "      <td>3.75</td>\n",
       "      <td>1.14</td>\n",
       "      <td>0.18</td>\n",
       "    </tr>\n",
       "    <tr>\n",
       "      <th>DS</th>\n",
       "      <td>0.0</td>\n",
       "      <td>0.0</td>\n",
       "      <td>0.0</td>\n",
       "      <td>0.0</td>\n",
       "      <td>0.0</td>\n",
       "      <td>0.02</td>\n",
       "      <td>0.0</td>\n",
       "      <td>0.0</td>\n",
       "      <td>0.0</td>\n",
       "      <td>0.0</td>\n",
       "      <td>0.0</td>\n",
       "      <td>0.0</td>\n",
       "      <td>0.0</td>\n",
       "      <td>0.0</td>\n",
       "      <td>0.00</td>\n",
       "      <td>0.00</td>\n",
       "      <td>0.0</td>\n",
       "      <td>0.00</td>\n",
       "      <td>0.00</td>\n",
       "      <td>0.00</td>\n",
       "      <td>0.00</td>\n",
       "      <td>0.00</td>\n",
       "      <td>0.00</td>\n",
       "      <td>0.00</td>\n",
       "      <td>17.27</td>\n",
       "      <td>130.14</td>\n",
       "      <td>119.81</td>\n",
       "      <td>146.94</td>\n",
       "      <td>145.31</td>\n",
       "      <td>119.54</td>\n",
       "      <td>85.02</td>\n",
       "      <td>26.18</td>\n",
       "      <td>11.01</td>\n",
       "      <td>1.54</td>\n",
       "      <td>0.00</td>\n",
       "      <td>0.00</td>\n",
       "      <td>0.00</td>\n",
       "    </tr>\n",
       "    <tr>\n",
       "      <th>PS</th>\n",
       "      <td>0.0</td>\n",
       "      <td>0.0</td>\n",
       "      <td>0.0</td>\n",
       "      <td>0.0</td>\n",
       "      <td>0.0</td>\n",
       "      <td>0.00</td>\n",
       "      <td>0.0</td>\n",
       "      <td>0.0</td>\n",
       "      <td>0.0</td>\n",
       "      <td>0.0</td>\n",
       "      <td>0.0</td>\n",
       "      <td>0.0</td>\n",
       "      <td>0.0</td>\n",
       "      <td>0.0</td>\n",
       "      <td>6.03</td>\n",
       "      <td>35.96</td>\n",
       "      <td>94.7</td>\n",
       "      <td>136.17</td>\n",
       "      <td>169.49</td>\n",
       "      <td>144.53</td>\n",
       "      <td>96.37</td>\n",
       "      <td>35.59</td>\n",
       "      <td>6.67</td>\n",
       "      <td>2.07</td>\n",
       "      <td>0.00</td>\n",
       "      <td>0.00</td>\n",
       "      <td>0.00</td>\n",
       "      <td>0.00</td>\n",
       "      <td>0.00</td>\n",
       "      <td>0.00</td>\n",
       "      <td>0.00</td>\n",
       "      <td>0.00</td>\n",
       "      <td>0.00</td>\n",
       "      <td>0.00</td>\n",
       "      <td>0.00</td>\n",
       "      <td>0.00</td>\n",
       "      <td>0.00</td>\n",
       "    </tr>\n",
       "    <tr>\n",
       "      <th>PS4</th>\n",
       "      <td>0.0</td>\n",
       "      <td>0.0</td>\n",
       "      <td>0.0</td>\n",
       "      <td>0.0</td>\n",
       "      <td>0.0</td>\n",
       "      <td>0.00</td>\n",
       "      <td>0.0</td>\n",
       "      <td>0.0</td>\n",
       "      <td>0.0</td>\n",
       "      <td>0.0</td>\n",
       "      <td>0.0</td>\n",
       "      <td>0.0</td>\n",
       "      <td>0.0</td>\n",
       "      <td>0.0</td>\n",
       "      <td>0.00</td>\n",
       "      <td>0.00</td>\n",
       "      <td>0.0</td>\n",
       "      <td>0.00</td>\n",
       "      <td>0.00</td>\n",
       "      <td>0.00</td>\n",
       "      <td>0.00</td>\n",
       "      <td>0.00</td>\n",
       "      <td>0.00</td>\n",
       "      <td>0.00</td>\n",
       "      <td>0.00</td>\n",
       "      <td>0.00</td>\n",
       "      <td>0.00</td>\n",
       "      <td>0.00</td>\n",
       "      <td>0.00</td>\n",
       "      <td>0.00</td>\n",
       "      <td>0.00</td>\n",
       "      <td>0.00</td>\n",
       "      <td>0.00</td>\n",
       "      <td>25.99</td>\n",
       "      <td>100.00</td>\n",
       "      <td>118.90</td>\n",
       "      <td>69.25</td>\n",
       "    </tr>\n",
       "    <tr>\n",
       "      <th>GBA</th>\n",
       "      <td>0.0</td>\n",
       "      <td>0.0</td>\n",
       "      <td>0.0</td>\n",
       "      <td>0.0</td>\n",
       "      <td>0.0</td>\n",
       "      <td>0.00</td>\n",
       "      <td>0.0</td>\n",
       "      <td>0.0</td>\n",
       "      <td>0.0</td>\n",
       "      <td>0.0</td>\n",
       "      <td>0.0</td>\n",
       "      <td>0.0</td>\n",
       "      <td>0.0</td>\n",
       "      <td>0.0</td>\n",
       "      <td>0.00</td>\n",
       "      <td>0.00</td>\n",
       "      <td>0.0</td>\n",
       "      <td>0.00</td>\n",
       "      <td>0.00</td>\n",
       "      <td>0.00</td>\n",
       "      <td>0.07</td>\n",
       "      <td>61.53</td>\n",
       "      <td>74.16</td>\n",
       "      <td>56.67</td>\n",
       "      <td>77.91</td>\n",
       "      <td>33.86</td>\n",
       "      <td>5.28</td>\n",
       "      <td>3.40</td>\n",
       "      <td>0.00</td>\n",
       "      <td>0.00</td>\n",
       "      <td>0.00</td>\n",
       "      <td>0.00</td>\n",
       "      <td>0.00</td>\n",
       "      <td>0.00</td>\n",
       "      <td>0.00</td>\n",
       "      <td>0.00</td>\n",
       "      <td>0.00</td>\n",
       "    </tr>\n",
       "    <tr>\n",
       "      <th>PSP</th>\n",
       "      <td>0.0</td>\n",
       "      <td>0.0</td>\n",
       "      <td>0.0</td>\n",
       "      <td>0.0</td>\n",
       "      <td>0.0</td>\n",
       "      <td>0.00</td>\n",
       "      <td>0.0</td>\n",
       "      <td>0.0</td>\n",
       "      <td>0.0</td>\n",
       "      <td>0.0</td>\n",
       "      <td>0.0</td>\n",
       "      <td>0.0</td>\n",
       "      <td>0.0</td>\n",
       "      <td>0.0</td>\n",
       "      <td>0.00</td>\n",
       "      <td>0.00</td>\n",
       "      <td>0.0</td>\n",
       "      <td>0.00</td>\n",
       "      <td>0.00</td>\n",
       "      <td>0.00</td>\n",
       "      <td>0.00</td>\n",
       "      <td>0.00</td>\n",
       "      <td>0.00</td>\n",
       "      <td>0.00</td>\n",
       "      <td>7.06</td>\n",
       "      <td>43.84</td>\n",
       "      <td>55.32</td>\n",
       "      <td>46.93</td>\n",
       "      <td>34.55</td>\n",
       "      <td>37.78</td>\n",
       "      <td>35.04</td>\n",
       "      <td>17.82</td>\n",
       "      <td>7.69</td>\n",
       "      <td>3.14</td>\n",
       "      <td>0.24</td>\n",
       "      <td>0.12</td>\n",
       "      <td>0.00</td>\n",
       "    </tr>\n",
       "    <tr>\n",
       "      <th>3DS</th>\n",
       "      <td>0.0</td>\n",
       "      <td>0.0</td>\n",
       "      <td>0.0</td>\n",
       "      <td>0.0</td>\n",
       "      <td>0.0</td>\n",
       "      <td>0.00</td>\n",
       "      <td>0.0</td>\n",
       "      <td>0.0</td>\n",
       "      <td>0.0</td>\n",
       "      <td>0.0</td>\n",
       "      <td>0.0</td>\n",
       "      <td>0.0</td>\n",
       "      <td>0.0</td>\n",
       "      <td>0.0</td>\n",
       "      <td>0.00</td>\n",
       "      <td>0.00</td>\n",
       "      <td>0.0</td>\n",
       "      <td>0.00</td>\n",
       "      <td>0.00</td>\n",
       "      <td>0.00</td>\n",
       "      <td>0.00</td>\n",
       "      <td>0.00</td>\n",
       "      <td>0.00</td>\n",
       "      <td>0.00</td>\n",
       "      <td>0.00</td>\n",
       "      <td>0.00</td>\n",
       "      <td>0.00</td>\n",
       "      <td>0.00</td>\n",
       "      <td>0.00</td>\n",
       "      <td>0.00</td>\n",
       "      <td>0.00</td>\n",
       "      <td>63.20</td>\n",
       "      <td>51.36</td>\n",
       "      <td>56.57</td>\n",
       "      <td>43.76</td>\n",
       "      <td>27.78</td>\n",
       "      <td>15.14</td>\n",
       "    </tr>\n",
       "  </tbody>\n",
       "</table>\n",
       "</div>"
      ],
      "text/plain": [
       "year_of_release  1980  1981  1982  1983  1984  1985  1986  1987  1988  1989  \\\n",
       "platform                                                                      \n",
       "PS2               0.0   0.0   0.0   0.0   0.0  0.00   0.0   0.0   0.0   0.0   \n",
       "X360              0.0   0.0   0.0   0.0   0.0  0.00   0.0   0.0   0.0   0.0   \n",
       "PS3               0.0   0.0   0.0   0.0   0.0  0.00   0.0   0.0   0.0   0.0   \n",
       "Wii               0.0   0.0   0.0   0.0   0.0  0.00   0.0   0.0   0.0   0.0   \n",
       "DS                0.0   0.0   0.0   0.0   0.0  0.02   0.0   0.0   0.0   0.0   \n",
       "PS                0.0   0.0   0.0   0.0   0.0  0.00   0.0   0.0   0.0   0.0   \n",
       "PS4               0.0   0.0   0.0   0.0   0.0  0.00   0.0   0.0   0.0   0.0   \n",
       "GBA               0.0   0.0   0.0   0.0   0.0  0.00   0.0   0.0   0.0   0.0   \n",
       "PSP               0.0   0.0   0.0   0.0   0.0  0.00   0.0   0.0   0.0   0.0   \n",
       "3DS               0.0   0.0   0.0   0.0   0.0  0.00   0.0   0.0   0.0   0.0   \n",
       "\n",
       "year_of_release  1990  1991  1992  1993  1994   1995  1996    1997    1998  \\\n",
       "platform                                                                     \n",
       "PS2               0.0   0.0   0.0   0.0  0.00   0.00   0.0    0.00    0.00   \n",
       "X360              0.0   0.0   0.0   0.0  0.00   0.00   0.0    0.00    0.00   \n",
       "PS3               0.0   0.0   0.0   0.0  0.00   0.00   0.0    0.00    0.00   \n",
       "Wii               0.0   0.0   0.0   0.0  0.00   0.00   0.0    0.00    0.00   \n",
       "DS                0.0   0.0   0.0   0.0  0.00   0.00   0.0    0.00    0.00   \n",
       "PS                0.0   0.0   0.0   0.0  6.03  35.96  94.7  136.17  169.49   \n",
       "PS4               0.0   0.0   0.0   0.0  0.00   0.00   0.0    0.00    0.00   \n",
       "GBA               0.0   0.0   0.0   0.0  0.00   0.00   0.0    0.00    0.00   \n",
       "PSP               0.0   0.0   0.0   0.0  0.00   0.00   0.0    0.00    0.00   \n",
       "3DS               0.0   0.0   0.0   0.0  0.00   0.00   0.0    0.00    0.00   \n",
       "\n",
       "year_of_release    1999   2000    2001    2002    2003    2004    2005  \\\n",
       "platform                                                                 \n",
       "PS2                0.00  39.17  166.43  205.38  184.31  211.81  160.66   \n",
       "X360               0.00   0.00    0.00    0.00    0.00    0.00    8.25   \n",
       "PS3                0.00   0.00    0.00    0.00    0.00    0.00    0.00   \n",
       "Wii                0.00   0.00    0.00    0.00    0.00    0.00    0.00   \n",
       "DS                 0.00   0.00    0.00    0.00    0.00   17.27  130.14   \n",
       "PS               144.53  96.37   35.59    6.67    2.07    0.00    0.00   \n",
       "PS4                0.00   0.00    0.00    0.00    0.00    0.00    0.00   \n",
       "GBA                0.00   0.07   61.53   74.16   56.67   77.91   33.86   \n",
       "PSP                0.00   0.00    0.00    0.00    0.00    7.06   43.84   \n",
       "3DS                0.00   0.00    0.00    0.00    0.00    0.00    0.00   \n",
       "\n",
       "year_of_release    2006    2007    2008    2009    2010    2011    2012  \\\n",
       "platform                                                                  \n",
       "PS2              103.42   75.99   53.90   26.40    5.64    0.45    0.00   \n",
       "X360              51.62   95.41  135.26  120.29  170.03  143.84   99.74   \n",
       "PS3               20.96   73.19  118.52  130.93  142.17  156.78  107.36   \n",
       "Wii              137.15  152.77  171.32  206.97  127.95   59.65   21.71   \n",
       "DS               119.81  146.94  145.31  119.54   85.02   26.18   11.01   \n",
       "PS                 0.00    0.00    0.00    0.00    0.00    0.00    0.00   \n",
       "PS4                0.00    0.00    0.00    0.00    0.00    0.00    0.00   \n",
       "GBA                5.28    3.40    0.00    0.00    0.00    0.00    0.00   \n",
       "PSP               55.32   46.93   34.55   37.78   35.04   17.82    7.69   \n",
       "3DS                0.00    0.00    0.00    0.00    0.00   63.20   51.36   \n",
       "\n",
       "year_of_release    2013    2014    2015   2016  \n",
       "platform                                        \n",
       "PS2                0.00    0.00    0.00   0.00  \n",
       "X360              88.58   34.74   11.96   1.52  \n",
       "PS3              113.25   47.76   16.82   3.60  \n",
       "Wii                8.59    3.75    1.14   0.18  \n",
       "DS                 1.54    0.00    0.00   0.00  \n",
       "PS                 0.00    0.00    0.00   0.00  \n",
       "PS4               25.99  100.00  118.90  69.25  \n",
       "GBA                0.00    0.00    0.00   0.00  \n",
       "PSP                3.14    0.24    0.12   0.00  \n",
       "3DS               56.57   43.76   27.78  15.14  "
      ]
     },
     "execution_count": 25,
     "metadata": {},
     "output_type": "execute_result"
    }
   ],
   "source": [
    "total_sales_top10 = total_sales_pivot.head(10).sort_values(by='All', ascending=False)\n",
    "total_sales_top10 = total_sales_top10.drop(['All', 'operating_years'], axis=1)\n",
    "total_sales_top10"
   ]
  },
  {
   "cell_type": "code",
   "execution_count": 26,
   "id": "cadfa032",
   "metadata": {
    "scrolled": false
   },
   "outputs": [
    {
     "data": {
      "image/png": "[encoded data removed]",
      "text/plain": [
       "<Figure size 864x504 with 1 Axes>"
      ]
     },
     "metadata": {
      "needs_background": "light"
     },
     "output_type": "display_data"
    }
   ],
   "source": [
    "ax = total_sales_top10.T.plot(grid=True, \n",
    "                              figsize=(12,7),\n",
    "                              ylabel='Number of sales, millions of copies sold',\n",
    "                              title='Top 10 game platforms by total sales')"
   ]
  },
  {
   "cell_type": "markdown",
   "id": "9e2cf492",
   "metadata": {},
   "source": [
    "This graph shows that for the top 10 platforms with the largest total sales, the typical period during which new platforms appear and old platforms disappear is **on average 10 years**.\n",
    "<br>The maximum lifetime of the platform (sales) among the top 10 sales platforms was 12 years - platforms `PS2`, `X360`, `PSP`.\n",
    "<br>The shortest period among the top 10 platforms by sales was 4 years - the `PS4` platform (the start of sales in 2013, probably still valid on the date of data extraction)."
   ]
  },
  {
   "cell_type": "markdown",
   "id": "d89186d1",
   "metadata": {},
   "source": [
    "For further data analysis and forecasting for 2017, it is necessary to determine the actual period and use the data for the corresponding actual period in the future.\n",
    "<br>Analyzing the last 10 years period, we can see that after 2011 the number of releases began to decline sharply, therefore, the period before 2012 is not good for making a forecast for 2017.\n",
    "<br>Therefore, we will use the **3-year period from 2014 to 2016 inclusive as the actual period for further analysis**:"
   ]
  },
  {
   "cell_type": "code",
   "execution_count": 27,
   "id": "a32991eb",
   "metadata": {
    "scrolled": false
   },
   "outputs": [
    {
     "name": "stderr",
     "output_type": "stream",
     "text": [
      "/tmp/ipykernel_97/2413919699.py:2: SettingWithCopyWarning: \n",
      "A value is trying to be set on a copy of a slice from a DataFrame.\n",
      "Try using .loc[row_indexer,col_indexer] = value instead\n",
      "\n",
      "See the caveats in the documentation: https://pandas.pydata.org/pandas-docs/stable/user_guide/indexing.html#returning-a-view-versus-a-copy\n",
      "  total_sales_3years['Total'] = total_sales_3years.sum(axis=1)\n"
     ]
    },
    {
     "data": {
      "text/html": [
       "<div>\n",
       "<style scoped>\n",
       "    .dataframe tbody tr th:only-of-type {\n",
       "        vertical-align: middle;\n",
       "    }\n",
       "\n",
       "    .dataframe tbody tr th {\n",
       "        vertical-align: top;\n",
       "    }\n",
       "\n",
       "    .dataframe thead th {\n",
       "        text-align: right;\n",
       "    }\n",
       "</style>\n",
       "<table border=\"1\" class=\"dataframe\">\n",
       "  <thead>\n",
       "    <tr style=\"text-align: right;\">\n",
       "      <th>year_of_release</th>\n",
       "      <th>2014</th>\n",
       "      <th>2015</th>\n",
       "      <th>2016</th>\n",
       "      <th>Total</th>\n",
       "    </tr>\n",
       "    <tr>\n",
       "      <th>platform</th>\n",
       "      <th></th>\n",
       "      <th></th>\n",
       "      <th></th>\n",
       "      <th></th>\n",
       "    </tr>\n",
       "  </thead>\n",
       "  <tbody>\n",
       "    <tr>\n",
       "      <th>PS4</th>\n",
       "      <td>100.00</td>\n",
       "      <td>118.90</td>\n",
       "      <td>69.25</td>\n",
       "      <td>288.15</td>\n",
       "    </tr>\n",
       "    <tr>\n",
       "      <th>XOne</th>\n",
       "      <td>54.07</td>\n",
       "      <td>60.14</td>\n",
       "      <td>26.15</td>\n",
       "      <td>140.36</td>\n",
       "    </tr>\n",
       "    <tr>\n",
       "      <th>3DS</th>\n",
       "      <td>43.76</td>\n",
       "      <td>27.78</td>\n",
       "      <td>15.14</td>\n",
       "      <td>86.68</td>\n",
       "    </tr>\n",
       "    <tr>\n",
       "      <th>PS3</th>\n",
       "      <td>47.76</td>\n",
       "      <td>16.82</td>\n",
       "      <td>3.60</td>\n",
       "      <td>68.18</td>\n",
       "    </tr>\n",
       "    <tr>\n",
       "      <th>X360</th>\n",
       "      <td>34.74</td>\n",
       "      <td>11.96</td>\n",
       "      <td>1.52</td>\n",
       "      <td>48.22</td>\n",
       "    </tr>\n",
       "    <tr>\n",
       "      <th>WiiU</th>\n",
       "      <td>22.03</td>\n",
       "      <td>16.35</td>\n",
       "      <td>4.60</td>\n",
       "      <td>42.98</td>\n",
       "    </tr>\n",
       "    <tr>\n",
       "      <th>PC</th>\n",
       "      <td>13.28</td>\n",
       "      <td>8.52</td>\n",
       "      <td>5.25</td>\n",
       "      <td>27.05</td>\n",
       "    </tr>\n",
       "    <tr>\n",
       "      <th>PSV</th>\n",
       "      <td>11.90</td>\n",
       "      <td>6.25</td>\n",
       "      <td>4.25</td>\n",
       "      <td>22.40</td>\n",
       "    </tr>\n",
       "    <tr>\n",
       "      <th>Wii</th>\n",
       "      <td>3.75</td>\n",
       "      <td>1.14</td>\n",
       "      <td>0.18</td>\n",
       "      <td>5.07</td>\n",
       "    </tr>\n",
       "    <tr>\n",
       "      <th>PSP</th>\n",
       "      <td>0.24</td>\n",
       "      <td>0.12</td>\n",
       "      <td>0.00</td>\n",
       "      <td>0.36</td>\n",
       "    </tr>\n",
       "    <tr>\n",
       "      <th>TG16</th>\n",
       "      <td>0.00</td>\n",
       "      <td>0.00</td>\n",
       "      <td>0.00</td>\n",
       "      <td>0.00</td>\n",
       "    </tr>\n",
       "    <tr>\n",
       "      <th>3DO</th>\n",
       "      <td>0.00</td>\n",
       "      <td>0.00</td>\n",
       "      <td>0.00</td>\n",
       "      <td>0.00</td>\n",
       "    </tr>\n",
       "    <tr>\n",
       "      <th>WS</th>\n",
       "      <td>0.00</td>\n",
       "      <td>0.00</td>\n",
       "      <td>0.00</td>\n",
       "      <td>0.00</td>\n",
       "    </tr>\n",
       "    <tr>\n",
       "      <th>NG</th>\n",
       "      <td>0.00</td>\n",
       "      <td>0.00</td>\n",
       "      <td>0.00</td>\n",
       "      <td>0.00</td>\n",
       "    </tr>\n",
       "    <tr>\n",
       "      <th>SCD</th>\n",
       "      <td>0.00</td>\n",
       "      <td>0.00</td>\n",
       "      <td>0.00</td>\n",
       "      <td>0.00</td>\n",
       "    </tr>\n",
       "    <tr>\n",
       "      <th>DC</th>\n",
       "      <td>0.00</td>\n",
       "      <td>0.00</td>\n",
       "      <td>0.00</td>\n",
       "      <td>0.00</td>\n",
       "    </tr>\n",
       "    <tr>\n",
       "      <th>GG</th>\n",
       "      <td>0.00</td>\n",
       "      <td>0.00</td>\n",
       "      <td>0.00</td>\n",
       "      <td>0.00</td>\n",
       "    </tr>\n",
       "    <tr>\n",
       "      <th>GEN</th>\n",
       "      <td>0.00</td>\n",
       "      <td>0.00</td>\n",
       "      <td>0.00</td>\n",
       "      <td>0.00</td>\n",
       "    </tr>\n",
       "    <tr>\n",
       "      <th>SAT</th>\n",
       "      <td>0.00</td>\n",
       "      <td>0.00</td>\n",
       "      <td>0.00</td>\n",
       "      <td>0.00</td>\n",
       "    </tr>\n",
       "    <tr>\n",
       "      <th>PS2</th>\n",
       "      <td>0.00</td>\n",
       "      <td>0.00</td>\n",
       "      <td>0.00</td>\n",
       "      <td>0.00</td>\n",
       "    </tr>\n",
       "    <tr>\n",
       "      <th>SNES</th>\n",
       "      <td>0.00</td>\n",
       "      <td>0.00</td>\n",
       "      <td>0.00</td>\n",
       "      <td>0.00</td>\n",
       "    </tr>\n",
       "    <tr>\n",
       "      <th>2600</th>\n",
       "      <td>0.00</td>\n",
       "      <td>0.00</td>\n",
       "      <td>0.00</td>\n",
       "      <td>0.00</td>\n",
       "    </tr>\n",
       "    <tr>\n",
       "      <th>GC</th>\n",
       "      <td>0.00</td>\n",
       "      <td>0.00</td>\n",
       "      <td>0.00</td>\n",
       "      <td>0.00</td>\n",
       "    </tr>\n",
       "    <tr>\n",
       "      <th>N64</th>\n",
       "      <td>0.00</td>\n",
       "      <td>0.00</td>\n",
       "      <td>0.00</td>\n",
       "      <td>0.00</td>\n",
       "    </tr>\n",
       "    <tr>\n",
       "      <th>NES</th>\n",
       "      <td>0.00</td>\n",
       "      <td>0.00</td>\n",
       "      <td>0.00</td>\n",
       "      <td>0.00</td>\n",
       "    </tr>\n",
       "    <tr>\n",
       "      <th>XB</th>\n",
       "      <td>0.00</td>\n",
       "      <td>0.00</td>\n",
       "      <td>0.00</td>\n",
       "      <td>0.00</td>\n",
       "    </tr>\n",
       "    <tr>\n",
       "      <th>GB</th>\n",
       "      <td>0.00</td>\n",
       "      <td>0.00</td>\n",
       "      <td>0.00</td>\n",
       "      <td>0.00</td>\n",
       "    </tr>\n",
       "    <tr>\n",
       "      <th>GBA</th>\n",
       "      <td>0.00</td>\n",
       "      <td>0.00</td>\n",
       "      <td>0.00</td>\n",
       "      <td>0.00</td>\n",
       "    </tr>\n",
       "    <tr>\n",
       "      <th>PS</th>\n",
       "      <td>0.00</td>\n",
       "      <td>0.00</td>\n",
       "      <td>0.00</td>\n",
       "      <td>0.00</td>\n",
       "    </tr>\n",
       "    <tr>\n",
       "      <th>DS</th>\n",
       "      <td>0.00</td>\n",
       "      <td>0.00</td>\n",
       "      <td>0.00</td>\n",
       "      <td>0.00</td>\n",
       "    </tr>\n",
       "    <tr>\n",
       "      <th>PCFX</th>\n",
       "      <td>0.00</td>\n",
       "      <td>0.00</td>\n",
       "      <td>0.00</td>\n",
       "      <td>0.00</td>\n",
       "    </tr>\n",
       "  </tbody>\n",
       "</table>\n",
       "</div>"
      ],
      "text/plain": [
       "year_of_release    2014    2015   2016   Total\n",
       "platform                                      \n",
       "PS4              100.00  118.90  69.25  288.15\n",
       "XOne              54.07   60.14  26.15  140.36\n",
       "3DS               43.76   27.78  15.14   86.68\n",
       "PS3               47.76   16.82   3.60   68.18\n",
       "X360              34.74   11.96   1.52   48.22\n",
       "WiiU              22.03   16.35   4.60   42.98\n",
       "PC                13.28    8.52   5.25   27.05\n",
       "PSV               11.90    6.25   4.25   22.40\n",
       "Wii                3.75    1.14   0.18    5.07\n",
       "PSP                0.24    0.12   0.00    0.36\n",
       "TG16               0.00    0.00   0.00    0.00\n",
       "3DO                0.00    0.00   0.00    0.00\n",
       "WS                 0.00    0.00   0.00    0.00\n",
       "NG                 0.00    0.00   0.00    0.00\n",
       "SCD                0.00    0.00   0.00    0.00\n",
       "DC                 0.00    0.00   0.00    0.00\n",
       "GG                 0.00    0.00   0.00    0.00\n",
       "GEN                0.00    0.00   0.00    0.00\n",
       "SAT                0.00    0.00   0.00    0.00\n",
       "PS2                0.00    0.00   0.00    0.00\n",
       "SNES               0.00    0.00   0.00    0.00\n",
       "2600               0.00    0.00   0.00    0.00\n",
       "GC                 0.00    0.00   0.00    0.00\n",
       "N64                0.00    0.00   0.00    0.00\n",
       "NES                0.00    0.00   0.00    0.00\n",
       "XB                 0.00    0.00   0.00    0.00\n",
       "GB                 0.00    0.00   0.00    0.00\n",
       "GBA                0.00    0.00   0.00    0.00\n",
       "PS                 0.00    0.00   0.00    0.00\n",
       "DS                 0.00    0.00   0.00    0.00\n",
       "PCFX               0.00    0.00   0.00    0.00"
      ]
     },
     "execution_count": 27,
     "metadata": {},
     "output_type": "execute_result"
    }
   ],
   "source": [
    "total_sales_3years = total_sales_pivot[[2014, 2015, 2016]]\n",
    "total_sales_3years['Total'] = total_sales_3years.sum(axis=1)\n",
    "total_sales_3years = total_sales_3years.sort_values(by='Total', ascending=False)\n",
    "total_sales_3years"
   ]
  },
  {
   "cell_type": "markdown",
   "id": "8f927449",
   "metadata": {},
   "source": [
    "Based on the resulting table, we can conclude the following:\n",
    "- in terms of sales for the actual period, the `PS4` platform is in the lead, followed by `XOne` and `3DS`.\n",
    "- the two growing platforms are `PS4` and `XOne`, sales of which grew in 2015, and data for 2016 is less, but it may not be complete.\n",
    "- among the platforms whose sales are falling in the actual period, the following can be listed: `3DS`, `PS3`, `X360`, `WiiU`, `PC`, `PSV`, `Wii`, `PSP`.\n",
    "- other platforms did not sell in the actual period.\n",
    "\n",
    "In our opinion, `PS4` and `XOne` can be considered potentially profitable platforms."
   ]
  },
  {
   "cell_type": "code",
   "execution_count": 28,
   "id": "97100d56",
   "metadata": {
    "scrolled": false
   },
   "outputs": [
    {
     "data": {
      "image/png": "[encoded data removed]",
      "text/plain": [
       "<Figure size 864x504 with 1 Axes>"
      ]
     },
     "metadata": {
      "needs_background": "light"
     },
     "output_type": "display_data"
    }
   ],
   "source": [
    "total_sales_3years.head(10).groupby('platform')['Total'].sum().sort_values(ascending=False).plot.bar(\n",
    "    figsize=(12, 7), \n",
    "    grid=True,\n",
    "    zorder=3,\n",
    "    legend=False,\n",
    "    ylabel='Total sales for the actual period, millions of copies sold',\n",
    "    title='Top-10 game platforms by total sales for the actual period');"
   ]
  },
  {
   "cell_type": "markdown",
   "id": "ebcab613",
   "metadata": {},
   "source": [
    "Let's create a boxplot of global game sales by potentially profitable platform:"
   ]
  },
  {
   "cell_type": "code",
   "execution_count": 29,
   "id": "84af1b9b",
   "metadata": {},
   "outputs": [
    {
     "data": {
      "image/png": "[encoded data removed]",
      "text/plain": [
       "<Figure size 864x504 with 1 Axes>"
      ]
     },
     "metadata": {
      "needs_background": "light"
     },
     "output_type": "display_data"
    }
   ],
   "source": [
    "df_actual = df[df.year_of_release > 2013]\n",
    "platforms = ['PS4', 'XOne', '3DS', 'PS3', 'X360']\n",
    "df_actual_platforms = df_actual[df_actual['platform'].isin(platforms)]\n",
    "plt.figure(figsize=(12,7))\n",
    "ax = sns.boxplot(x='platform', y='total_sales', data=df_actual_platforms)\n",
    "ax.set(ylim=(0, 1.6));"
   ]
  },
  {
   "cell_type": "markdown",
   "id": "77c37356",
   "metadata": {},
   "source": [
    "Let's see how sales within one popular platform (`PS4`) are influenced by user and critic scores.\n",
    "<br>At first, let's create a table with data on the `PS4` platform for the actual period (2014-2016):"
   ]
  },
  {
   "cell_type": "code",
   "execution_count": 30,
   "id": "595919ad",
   "metadata": {
    "scrolled": false
   },
   "outputs": [
    {
     "data": {
      "text/html": [
       "<div>\n",
       "<style scoped>\n",
       "    .dataframe tbody tr th:only-of-type {\n",
       "        vertical-align: middle;\n",
       "    }\n",
       "\n",
       "    .dataframe tbody tr th {\n",
       "        vertical-align: top;\n",
       "    }\n",
       "\n",
       "    .dataframe thead th {\n",
       "        text-align: right;\n",
       "    }\n",
       "</style>\n",
       "<table border=\"1\" class=\"dataframe\">\n",
       "  <thead>\n",
       "    <tr style=\"text-align: right;\">\n",
       "      <th></th>\n",
       "      <th>name</th>\n",
       "      <th>platform</th>\n",
       "      <th>year_of_release</th>\n",
       "      <th>genre</th>\n",
       "      <th>na_sales</th>\n",
       "      <th>eu_sales</th>\n",
       "      <th>jp_sales</th>\n",
       "      <th>other_sales</th>\n",
       "      <th>critic_score</th>\n",
       "      <th>user_score</th>\n",
       "      <th>rating</th>\n",
       "      <th>total_sales</th>\n",
       "    </tr>\n",
       "  </thead>\n",
       "  <tbody>\n",
       "    <tr>\n",
       "      <th>31</th>\n",
       "      <td>call of duty: black ops 3</td>\n",
       "      <td>PS4</td>\n",
       "      <td>2015</td>\n",
       "      <td>Shooter</td>\n",
       "      <td>6.03</td>\n",
       "      <td>5.86</td>\n",
       "      <td>0.36</td>\n",
       "      <td>2.38</td>\n",
       "      <td>NaN</td>\n",
       "      <td>NaN</td>\n",
       "      <td>unknown</td>\n",
       "      <td>14.63</td>\n",
       "    </tr>\n",
       "    <tr>\n",
       "      <th>42</th>\n",
       "      <td>grand theft auto v</td>\n",
       "      <td>PS4</td>\n",
       "      <td>2014</td>\n",
       "      <td>Action</td>\n",
       "      <td>3.96</td>\n",
       "      <td>6.31</td>\n",
       "      <td>0.38</td>\n",
       "      <td>1.97</td>\n",
       "      <td>97.0</td>\n",
       "      <td>8.3</td>\n",
       "      <td>M</td>\n",
       "      <td>12.62</td>\n",
       "    </tr>\n",
       "    <tr>\n",
       "      <th>77</th>\n",
       "      <td>fifa 16</td>\n",
       "      <td>PS4</td>\n",
       "      <td>2015</td>\n",
       "      <td>Sports</td>\n",
       "      <td>1.12</td>\n",
       "      <td>6.12</td>\n",
       "      <td>0.06</td>\n",
       "      <td>1.28</td>\n",
       "      <td>82.0</td>\n",
       "      <td>4.3</td>\n",
       "      <td>E</td>\n",
       "      <td>8.58</td>\n",
       "    </tr>\n",
       "    <tr>\n",
       "      <th>87</th>\n",
       "      <td>star wars battlefront (2015)</td>\n",
       "      <td>PS4</td>\n",
       "      <td>2015</td>\n",
       "      <td>Shooter</td>\n",
       "      <td>2.99</td>\n",
       "      <td>3.49</td>\n",
       "      <td>0.22</td>\n",
       "      <td>1.28</td>\n",
       "      <td>NaN</td>\n",
       "      <td>NaN</td>\n",
       "      <td>unknown</td>\n",
       "      <td>7.98</td>\n",
       "    </tr>\n",
       "    <tr>\n",
       "      <th>92</th>\n",
       "      <td>call of duty: advanced warfare</td>\n",
       "      <td>PS4</td>\n",
       "      <td>2014</td>\n",
       "      <td>Shooter</td>\n",
       "      <td>2.81</td>\n",
       "      <td>3.48</td>\n",
       "      <td>0.14</td>\n",
       "      <td>1.23</td>\n",
       "      <td>83.0</td>\n",
       "      <td>5.7</td>\n",
       "      <td>M</td>\n",
       "      <td>7.66</td>\n",
       "    </tr>\n",
       "  </tbody>\n",
       "</table>\n",
       "</div>"
      ],
      "text/plain": [
       "                              name platform  year_of_release    genre  \\\n",
       "31       call of duty: black ops 3      PS4             2015  Shooter   \n",
       "42              grand theft auto v      PS4             2014   Action   \n",
       "77                         fifa 16      PS4             2015   Sports   \n",
       "87    star wars battlefront (2015)      PS4             2015  Shooter   \n",
       "92  call of duty: advanced warfare      PS4             2014  Shooter   \n",
       "\n",
       "    na_sales  eu_sales  jp_sales  other_sales  critic_score  user_score  \\\n",
       "31      6.03      5.86      0.36         2.38           NaN         NaN   \n",
       "42      3.96      6.31      0.38         1.97          97.0         8.3   \n",
       "77      1.12      6.12      0.06         1.28          82.0         4.3   \n",
       "87      2.99      3.49      0.22         1.28           NaN         NaN   \n",
       "92      2.81      3.48      0.14         1.23          83.0         5.7   \n",
       "\n",
       "     rating  total_sales  \n",
       "31  unknown        14.63  \n",
       "42        M        12.62  \n",
       "77        E         8.58  \n",
       "87  unknown         7.98  \n",
       "92        M         7.66  "
      ]
     },
     "execution_count": 30,
     "metadata": {},
     "output_type": "execute_result"
    }
   ],
   "source": [
    "ps4_period = df_actual[(df_actual.platform == 'PS4')]\n",
    "ps4_period.head()"
   ]
  },
  {
   "cell_type": "markdown",
   "id": "77e47593",
   "metadata": {},
   "source": [
    "Next, we will build a scatterplot and calculate the correlation between scores and sales:"
   ]
  },
  {
   "cell_type": "code",
   "execution_count": 31,
   "id": "73fc30ce",
   "metadata": {
    "scrolled": false
   },
   "outputs": [
    {
     "data": {
      "image/png": "[encoded data removed]",
      "text/plain": [
       "<Figure size 1152x720 with 9 Axes>"
      ]
     },
     "metadata": {
      "needs_background": "light"
     },
     "output_type": "display_data"
    }
   ],
   "source": [
    "ps4_period_matrix = ps4_period[['total_sales', 'critic_score', 'user_score']]\n",
    "pd.plotting.scatter_matrix(ps4_period_matrix,figsize=(16,10));"
   ]
  },
  {
   "cell_type": "code",
   "execution_count": 32,
   "id": "ed057288",
   "metadata": {},
   "outputs": [
    {
     "name": "stdout",
     "output_type": "stream",
     "text": [
      "Pearson's coefficient - the correlation of sales from the parameter critic_score is equal to: 0.40266141068104083\n",
      "Pearson's coefficient - the correlation of sales from the parameter user_score is equal to: -0.040131589472697356\n",
      "Pearson's coefficient - the correlation of user_score from the parameter critic_score is equal to: 0.546434245119031\n"
     ]
    }
   ],
   "source": [
    "parameters = ['critic_score', 'user_score']\n",
    "for parameter in parameters:\n",
    "    print(f\"Pearson's coefficient - the correlation of sales from the parameter {parameter} is equal to:\", \n",
    "          ps4_period['total_sales'].corr(ps4_period[parameter]))\n",
    "print(\"Pearson's coefficient - the correlation of user_score from the parameter critic_score is equal to:\", \n",
    "      ps4_period['user_score'].corr(ps4_period['critic_score']))"
   ]
  },
  {
   "cell_type": "markdown",
   "id": "67445f9e",
   "metadata": {},
   "source": [
    "From the scatterplot and calculations we can see that there is a **direct moderate relationship between critic scores and game sales** for the `PS4` platform over the actual period. Indeed, many people study reviews of critics before buying a particular game.\n",
    "<br>There is no impact of user scores for the `PS4` platform games on sales.\n",
    "<br>At the same time, for the `PS4` platform, there is a **direct noticeable strength of relationship between user scores and critic scores**. In other words, if the critics like the game, then the user is likely to like it too."
   ]
  },
  {
   "cell_type": "markdown",
   "id": "0b151441",
   "metadata": {},
   "source": [
    "Let's see if these findings correlate with game sales on other platforms.\n",
    "<br>At first, let's create a table with data on all other platforms, except for `PS4`, for the actual period:"
   ]
  },
  {
   "cell_type": "code",
   "execution_count": 33,
   "id": "d0bd271d",
   "metadata": {},
   "outputs": [
    {
     "data": {
      "text/html": [
       "<div>\n",
       "<style scoped>\n",
       "    .dataframe tbody tr th:only-of-type {\n",
       "        vertical-align: middle;\n",
       "    }\n",
       "\n",
       "    .dataframe tbody tr th {\n",
       "        vertical-align: top;\n",
       "    }\n",
       "\n",
       "    .dataframe thead th {\n",
       "        text-align: right;\n",
       "    }\n",
       "</style>\n",
       "<table border=\"1\" class=\"dataframe\">\n",
       "  <thead>\n",
       "    <tr style=\"text-align: right;\">\n",
       "      <th></th>\n",
       "      <th>name</th>\n",
       "      <th>platform</th>\n",
       "      <th>year_of_release</th>\n",
       "      <th>genre</th>\n",
       "      <th>na_sales</th>\n",
       "      <th>eu_sales</th>\n",
       "      <th>jp_sales</th>\n",
       "      <th>other_sales</th>\n",
       "      <th>critic_score</th>\n",
       "      <th>user_score</th>\n",
       "      <th>rating</th>\n",
       "      <th>total_sales</th>\n",
       "    </tr>\n",
       "  </thead>\n",
       "  <tbody>\n",
       "    <tr>\n",
       "      <th>47</th>\n",
       "      <td>pokemon omega ruby/pokemon alpha sapphire</td>\n",
       "      <td>3DS</td>\n",
       "      <td>2014</td>\n",
       "      <td>Role-Playing</td>\n",
       "      <td>4.35</td>\n",
       "      <td>3.49</td>\n",
       "      <td>3.10</td>\n",
       "      <td>0.74</td>\n",
       "      <td>NaN</td>\n",
       "      <td>NaN</td>\n",
       "      <td>unknown</td>\n",
       "      <td>11.68</td>\n",
       "    </tr>\n",
       "    <tr>\n",
       "      <th>96</th>\n",
       "      <td>super smash bros. for wii u and 3ds</td>\n",
       "      <td>3DS</td>\n",
       "      <td>2014</td>\n",
       "      <td>Fighting</td>\n",
       "      <td>3.27</td>\n",
       "      <td>1.37</td>\n",
       "      <td>2.43</td>\n",
       "      <td>0.48</td>\n",
       "      <td>NaN</td>\n",
       "      <td>NaN</td>\n",
       "      <td>unknown</td>\n",
       "      <td>7.55</td>\n",
       "    </tr>\n",
       "    <tr>\n",
       "      <th>99</th>\n",
       "      <td>call of duty: black ops 3</td>\n",
       "      <td>XOne</td>\n",
       "      <td>2015</td>\n",
       "      <td>Shooter</td>\n",
       "      <td>4.59</td>\n",
       "      <td>2.11</td>\n",
       "      <td>0.01</td>\n",
       "      <td>0.68</td>\n",
       "      <td>NaN</td>\n",
       "      <td>NaN</td>\n",
       "      <td>unknown</td>\n",
       "      <td>7.39</td>\n",
       "    </tr>\n",
       "    <tr>\n",
       "      <th>108</th>\n",
       "      <td>pokemon sun/moon</td>\n",
       "      <td>3DS</td>\n",
       "      <td>2016</td>\n",
       "      <td>Role-Playing</td>\n",
       "      <td>2.98</td>\n",
       "      <td>1.45</td>\n",
       "      <td>2.26</td>\n",
       "      <td>0.45</td>\n",
       "      <td>NaN</td>\n",
       "      <td>NaN</td>\n",
       "      <td>unknown</td>\n",
       "      <td>7.14</td>\n",
       "    </tr>\n",
       "    <tr>\n",
       "      <th>110</th>\n",
       "      <td>mario kart 8</td>\n",
       "      <td>WiiU</td>\n",
       "      <td>2014</td>\n",
       "      <td>Racing</td>\n",
       "      <td>3.15</td>\n",
       "      <td>2.15</td>\n",
       "      <td>1.28</td>\n",
       "      <td>0.51</td>\n",
       "      <td>88.0</td>\n",
       "      <td>9.1</td>\n",
       "      <td>E</td>\n",
       "      <td>7.09</td>\n",
       "    </tr>\n",
       "  </tbody>\n",
       "</table>\n",
       "</div>"
      ],
      "text/plain": [
       "                                          name platform  year_of_release  \\\n",
       "47   pokemon omega ruby/pokemon alpha sapphire      3DS             2014   \n",
       "96         super smash bros. for wii u and 3ds      3DS             2014   \n",
       "99                   call of duty: black ops 3     XOne             2015   \n",
       "108                           pokemon sun/moon      3DS             2016   \n",
       "110                               mario kart 8     WiiU             2014   \n",
       "\n",
       "            genre  na_sales  eu_sales  jp_sales  other_sales  critic_score  \\\n",
       "47   Role-Playing      4.35      3.49      3.10         0.74           NaN   \n",
       "96       Fighting      3.27      1.37      2.43         0.48           NaN   \n",
       "99        Shooter      4.59      2.11      0.01         0.68           NaN   \n",
       "108  Role-Playing      2.98      1.45      2.26         0.45           NaN   \n",
       "110        Racing      3.15      2.15      1.28         0.51          88.0   \n",
       "\n",
       "     user_score   rating  total_sales  \n",
       "47          NaN  unknown        11.68  \n",
       "96          NaN  unknown         7.55  \n",
       "99          NaN  unknown         7.39  \n",
       "108         NaN  unknown         7.14  \n",
       "110         9.1        E         7.09  "
      ]
     },
     "execution_count": 33,
     "metadata": {},
     "output_type": "execute_result"
    }
   ],
   "source": [
    "not_ps4_period = df_actual[(df_actual.platform != 'PS4')]\n",
    "not_ps4_period.head()"
   ]
  },
  {
   "cell_type": "markdown",
   "id": "e799d124",
   "metadata": {},
   "source": [
    "Next, we will build a scatterplot and calculate the correlation between scores and sales for all other platforms:"
   ]
  },
  {
   "cell_type": "code",
   "execution_count": 34,
   "id": "15603b19",
   "metadata": {
    "scrolled": false
   },
   "outputs": [
    {
     "data": {
      "image/png": "[encoded data removed]",
      "text/plain": [
       "<Figure size 1152x720 with 9 Axes>"
      ]
     },
     "metadata": {
      "needs_background": "light"
     },
     "output_type": "display_data"
    }
   ],
   "source": [
    "not_ps4_period_matrix = not_ps4_period[['total_sales', 'critic_score', 'user_score']]\n",
    "pd.plotting.scatter_matrix(not_ps4_period_matrix,figsize=(16,10));"
   ]
  },
  {
   "cell_type": "code",
   "execution_count": 35,
   "id": "ed97c19a",
   "metadata": {},
   "outputs": [
    {
     "name": "stdout",
     "output_type": "stream",
     "text": [
      "Pearson's coefficient - the correlation of sales from the parameter critic_score is equal to: 0.30947400260011515\n",
      "Pearson's coefficient - the correlation of sales from the parameter user_score is equal to: -0.023478187237975554\n",
      "Pearson's coefficient - the correlation of user_score from the parameter critic_score is equal to: 0.48578265548478705\n"
     ]
    }
   ],
   "source": [
    "for parameter in parameters:\n",
    "    print(f\"Pearson's coefficient - the correlation of sales from the parameter {parameter} is equal to:\", \n",
    "          not_ps4_period['total_sales'].corr(not_ps4_period[parameter]))\n",
    "print(\"Pearson's coefficient - the correlation of user_score from the parameter critic_score is equal to:\", \n",
    "      not_ps4_period['user_score'].corr(not_ps4_period['critic_score']))"
   ]
  },
  {
   "cell_type": "markdown",
   "id": "0a2bf8ab",
   "metadata": {},
   "source": [
    "Comparing the results obtained for the `PS4` platform and all other platforms for the actual period, we can conculde the following:\n",
    "- there is no correlation of user scores on sales of all platforms (including `PS4`).\n",
    "- there is a direct relationship between critics' scores and game sales for the actual period, but the relationship for all other platforms is weaker (weak) than for the `PS4` platform (moderate).\n",
    "- at the same time, there is a direct relationship of user scores and critic scores, but the relationship for all other platforms is slightly weaker (moderate) than for the `PS4` platform (noticeable).\n",
    "\n",
    "Thus, the conclusions made for the `PS4` platform are generally consistent with all other platforms, but the strength of the correlation for all other platforms is less."
   ]
  },
  {
   "cell_type": "markdown",
   "id": "15815aa4",
   "metadata": {},
   "source": [
    "We need to look at the most profitable genres.\n",
    "<br>Total sales is a poor metric for finding the most profitable genre, as high total sales can hide many small games with low sales and/or bad reviews. Therefore, it is better to find a genre where games consistently bring in high income - for this, it is worth considering the average or median sales.\n",
    "<br>Let's look at the overall distribution of games across genres using **median sales for each genre as a comparison:**"
   ]
  },
  {
   "cell_type": "code",
   "execution_count": 36,
   "id": "806c3a14",
   "metadata": {
    "scrolled": false
   },
   "outputs": [
    {
     "data": {
      "text/html": [
       "<div>\n",
       "<style scoped>\n",
       "    .dataframe tbody tr th:only-of-type {\n",
       "        vertical-align: middle;\n",
       "    }\n",
       "\n",
       "    .dataframe tbody tr th {\n",
       "        vertical-align: top;\n",
       "    }\n",
       "\n",
       "    .dataframe thead th {\n",
       "        text-align: right;\n",
       "    }\n",
       "</style>\n",
       "<table border=\"1\" class=\"dataframe\">\n",
       "  <thead>\n",
       "    <tr style=\"text-align: right;\">\n",
       "      <th></th>\n",
       "      <th>total_sales</th>\n",
       "    </tr>\n",
       "    <tr>\n",
       "      <th>genre</th>\n",
       "      <th></th>\n",
       "    </tr>\n",
       "  </thead>\n",
       "  <tbody>\n",
       "    <tr>\n",
       "      <th>Shooter</th>\n",
       "      <td>0.515</td>\n",
       "    </tr>\n",
       "    <tr>\n",
       "      <th>Sports</th>\n",
       "      <td>0.180</td>\n",
       "    </tr>\n",
       "    <tr>\n",
       "      <th>Platform</th>\n",
       "      <td>0.140</td>\n",
       "    </tr>\n",
       "    <tr>\n",
       "      <th>Fighting</th>\n",
       "      <td>0.125</td>\n",
       "    </tr>\n",
       "    <tr>\n",
       "      <th>Role-Playing</th>\n",
       "      <td>0.110</td>\n",
       "    </tr>\n",
       "    <tr>\n",
       "      <th>Simulation</th>\n",
       "      <td>0.100</td>\n",
       "    </tr>\n",
       "    <tr>\n",
       "      <th>Action</th>\n",
       "      <td>0.090</td>\n",
       "    </tr>\n",
       "    <tr>\n",
       "      <th>Misc</th>\n",
       "      <td>0.090</td>\n",
       "    </tr>\n",
       "    <tr>\n",
       "      <th>Racing</th>\n",
       "      <td>0.090</td>\n",
       "    </tr>\n",
       "    <tr>\n",
       "      <th>Strategy</th>\n",
       "      <td>0.060</td>\n",
       "    </tr>\n",
       "    <tr>\n",
       "      <th>Puzzle</th>\n",
       "      <td>0.045</td>\n",
       "    </tr>\n",
       "    <tr>\n",
       "      <th>Adventure</th>\n",
       "      <td>0.030</td>\n",
       "    </tr>\n",
       "  </tbody>\n",
       "</table>\n",
       "</div>"
      ],
      "text/plain": [
       "              total_sales\n",
       "genre                    \n",
       "Shooter             0.515\n",
       "Sports              0.180\n",
       "Platform            0.140\n",
       "Fighting            0.125\n",
       "Role-Playing        0.110\n",
       "Simulation          0.100\n",
       "Action              0.090\n",
       "Misc                0.090\n",
       "Racing              0.090\n",
       "Strategy            0.060\n",
       "Puzzle              0.045\n",
       "Adventure           0.030"
      ]
     },
     "execution_count": 36,
     "metadata": {},
     "output_type": "execute_result"
    }
   ],
   "source": [
    "genre_sales_period = df_actual.groupby('genre').agg({'total_sales':'median'}).sort_values(by='total_sales', ascending=False)\n",
    "genre_sales_period"
   ]
  },
  {
   "cell_type": "markdown",
   "id": "f1efc1cf",
   "metadata": {},
   "source": [
    "From this summary we can see that the most profitable game genre in terms of the median number of copies sold for the actual period is `Shooter`, and the median game sales in this genre exceed the next most popular genre `Sports` by almost 3 times.\n",
    "<br>The least profitable game genres for the actual period were `Puzzle` and `Adventure`, the median number of sold copies of games is 11 and 17 times less, respectively, than for games of the most popular genre `Shooter`."
   ]
  },
  {
   "cell_type": "markdown",
   "id": "22b116c7",
   "metadata": {},
   "source": [
    "### Conclusion"
   ]
  },
  {
   "cell_type": "markdown",
   "id": "43b193ce",
   "metadata": {},
   "source": [
    "The dynamics of sales for all platforms corresponds to the dynamics of the number of releases by year:\n",
    "- a small number of copies sold and games released before 2000 inclusive;\n",
    "- in this case, the period from 1980 to 1995 is especially distinguished, when the number of copies sold was less than 100 million pieces per year (for releases - the period from 1980 to 1993, when the number of releases was less than 100 games per year);\n",
    "- the largest number of sales and releases in the period occurred in 2008-2009.\n",
    "\n",
    "A typical **platform lifetime is on average 7 - 8 years**, for the top 10 platforms with the highest total sales - an average of **10 years**.\n",
    "\n",
    "We used the **3-year period from 2014 to 2016 inclusive as the actual period for analysis**.\n",
    "\n",
    "In terms of sales for the actual period, the `PS4` platform is leading, followed by `XOne` and `3DS`.\n",
    "<br>In our opinion, the **potentially profitable platforms are `PS4` and `XOne`**, where sales increased in 2015, and the data for 2016 is less, but it may not be complete.\n",
    "\n",
    "**User scores** on all platforms (including `PS4`) **have no correlation with sales**.\n",
    "<br>There is a **direct relationship between critic scores and game sales** over the actual period, but the relationship for all other platforms is weaker (weak) than for the `PS4` platform (moderate).\n",
    "<br>At the same time, there is a **direct correlation of critics' scores and users' scores**, but the relationship for all other platforms is weaker (moderate) than for the `PS4` platform (noticeable).\n",
    "\n",
    "**The most profitable game genre** in terms of median number of copies sold for the actual period **is `Shooter`**, and the median sales of games in this genre exceed the next genre `Sports` by almost 3 times.\n",
    "<br>**The least profitable** game genres for the actual period **were `Adventure` and `Puzzle`**, the median number of sold copies of games for them is 17 and 11 times less, respectively, than for games of the most popular genre `Shooter`."
   ]
  },
  {
   "cell_type": "markdown",
   "id": "0eb6704b",
   "metadata": {},
   "source": [
    "## Creating a user profile for each region"
   ]
  },
  {
   "cell_type": "markdown",
   "id": "aca82927",
   "metadata": {},
   "source": [
    "Let's determine for the user of each region (NA, EU, JP) the most popular platforms (top 5) for the actual period:"
   ]
  },
  {
   "cell_type": "code",
   "execution_count": 37,
   "id": "4a805c49",
   "metadata": {
    "scrolled": false
   },
   "outputs": [
    {
     "data": {
      "text/html": [
       "<div>\n",
       "<style scoped>\n",
       "    .dataframe tbody tr th:only-of-type {\n",
       "        vertical-align: middle;\n",
       "    }\n",
       "\n",
       "    .dataframe tbody tr th {\n",
       "        vertical-align: top;\n",
       "    }\n",
       "\n",
       "    .dataframe thead th {\n",
       "        text-align: right;\n",
       "    }\n",
       "</style>\n",
       "<table border=\"1\" class=\"dataframe\">\n",
       "  <thead>\n",
       "    <tr style=\"text-align: right;\">\n",
       "      <th></th>\n",
       "      <th>na_sales</th>\n",
       "      <th>share_in_region_sales</th>\n",
       "    </tr>\n",
       "    <tr>\n",
       "      <th>platform</th>\n",
       "      <th></th>\n",
       "      <th></th>\n",
       "    </tr>\n",
       "  </thead>\n",
       "  <tbody>\n",
       "    <tr>\n",
       "      <th>PS4</th>\n",
       "      <td>98.61</td>\n",
       "      <td>0.347145</td>\n",
       "    </tr>\n",
       "    <tr>\n",
       "      <th>XOne</th>\n",
       "      <td>81.27</td>\n",
       "      <td>0.286102</td>\n",
       "    </tr>\n",
       "    <tr>\n",
       "      <th>X360</th>\n",
       "      <td>28.30</td>\n",
       "      <td>0.099627</td>\n",
       "    </tr>\n",
       "    <tr>\n",
       "      <th>3DS</th>\n",
       "      <td>22.64</td>\n",
       "      <td>0.079701</td>\n",
       "    </tr>\n",
       "    <tr>\n",
       "      <th>PS3</th>\n",
       "      <td>22.05</td>\n",
       "      <td>0.077624</td>\n",
       "    </tr>\n",
       "  </tbody>\n",
       "</table>\n",
       "</div>"
      ],
      "text/plain": [
       "          na_sales  share_in_region_sales\n",
       "platform                                 \n",
       "PS4          98.61               0.347145\n",
       "XOne         81.27               0.286102\n",
       "X360         28.30               0.099627\n",
       "3DS          22.64               0.079701\n",
       "PS3          22.05               0.077624"
      ]
     },
     "metadata": {},
     "output_type": "display_data"
    },
    {
     "data": {
      "text/html": [
       "<div>\n",
       "<style scoped>\n",
       "    .dataframe tbody tr th:only-of-type {\n",
       "        vertical-align: middle;\n",
       "    }\n",
       "\n",
       "    .dataframe tbody tr th {\n",
       "        vertical-align: top;\n",
       "    }\n",
       "\n",
       "    .dataframe thead th {\n",
       "        text-align: right;\n",
       "    }\n",
       "</style>\n",
       "<table border=\"1\" class=\"dataframe\">\n",
       "  <thead>\n",
       "    <tr style=\"text-align: right;\">\n",
       "      <th></th>\n",
       "      <th>eu_sales</th>\n",
       "      <th>share_in_region_sales</th>\n",
       "    </tr>\n",
       "    <tr>\n",
       "      <th>platform</th>\n",
       "      <th></th>\n",
       "      <th></th>\n",
       "    </tr>\n",
       "  </thead>\n",
       "  <tbody>\n",
       "    <tr>\n",
       "      <th>PS4</th>\n",
       "      <td>130.04</td>\n",
       "      <td>0.480420</td>\n",
       "    </tr>\n",
       "    <tr>\n",
       "      <th>XOne</th>\n",
       "      <td>46.25</td>\n",
       "      <td>0.170866</td>\n",
       "    </tr>\n",
       "    <tr>\n",
       "      <th>PS3</th>\n",
       "      <td>25.54</td>\n",
       "      <td>0.094355</td>\n",
       "    </tr>\n",
       "    <tr>\n",
       "      <th>PC</th>\n",
       "      <td>17.97</td>\n",
       "      <td>0.066388</td>\n",
       "    </tr>\n",
       "    <tr>\n",
       "      <th>3DS</th>\n",
       "      <td>16.12</td>\n",
       "      <td>0.059554</td>\n",
       "    </tr>\n",
       "  </tbody>\n",
       "</table>\n",
       "</div>"
      ],
      "text/plain": [
       "          eu_sales  share_in_region_sales\n",
       "platform                                 \n",
       "PS4         130.04               0.480420\n",
       "XOne         46.25               0.170866\n",
       "PS3          25.54               0.094355\n",
       "PC           17.97               0.066388\n",
       "3DS          16.12               0.059554"
      ]
     },
     "metadata": {},
     "output_type": "display_data"
    },
    {
     "data": {
      "text/html": [
       "<div>\n",
       "<style scoped>\n",
       "    .dataframe tbody tr th:only-of-type {\n",
       "        vertical-align: middle;\n",
       "    }\n",
       "\n",
       "    .dataframe tbody tr th {\n",
       "        vertical-align: top;\n",
       "    }\n",
       "\n",
       "    .dataframe thead th {\n",
       "        text-align: right;\n",
       "    }\n",
       "</style>\n",
       "<table border=\"1\" class=\"dataframe\">\n",
       "  <thead>\n",
       "    <tr style=\"text-align: right;\">\n",
       "      <th></th>\n",
       "      <th>jp_sales</th>\n",
       "      <th>share_in_region_sales</th>\n",
       "    </tr>\n",
       "    <tr>\n",
       "      <th>platform</th>\n",
       "      <th></th>\n",
       "      <th></th>\n",
       "    </tr>\n",
       "  </thead>\n",
       "  <tbody>\n",
       "    <tr>\n",
       "      <th>3DS</th>\n",
       "      <td>44.24</td>\n",
       "      <td>0.475239</td>\n",
       "    </tr>\n",
       "    <tr>\n",
       "      <th>PS4</th>\n",
       "      <td>15.02</td>\n",
       "      <td>0.161349</td>\n",
       "    </tr>\n",
       "    <tr>\n",
       "      <th>PSV</th>\n",
       "      <td>14.54</td>\n",
       "      <td>0.156193</td>\n",
       "    </tr>\n",
       "    <tr>\n",
       "      <th>PS3</th>\n",
       "      <td>11.22</td>\n",
       "      <td>0.120529</td>\n",
       "    </tr>\n",
       "    <tr>\n",
       "      <th>WiiU</th>\n",
       "      <td>7.31</td>\n",
       "      <td>0.078526</td>\n",
       "    </tr>\n",
       "  </tbody>\n",
       "</table>\n",
       "</div>"
      ],
      "text/plain": [
       "          jp_sales  share_in_region_sales\n",
       "platform                                 \n",
       "3DS          44.24               0.475239\n",
       "PS4          15.02               0.161349\n",
       "PSV          14.54               0.156193\n",
       "PS3          11.22               0.120529\n",
       "WiiU          7.31               0.078526"
      ]
     },
     "metadata": {},
     "output_type": "display_data"
    }
   ],
   "source": [
    "regions = ['na_sales', 'eu_sales', 'jp_sales']\n",
    "for region in regions:\n",
    "    temp = df_actual.groupby('platform').agg({region:'sum'}).sort_values(by=region, ascending=False)\n",
    "    temp['share_in_region_sales'] = temp[region]/temp[region].sum()\n",
    "    display(temp.head())"
   ]
  },
  {
   "cell_type": "markdown",
   "id": "471e2b9c",
   "metadata": {},
   "source": [
    "From the summary tables above we can conclude the following:\n",
    "- sales **in North America** for the actual period:\n",
    "    - Approximately 35% and 29% of sales in North America account for platforms `PS4` and `XOne` respectively.\n",
    "    - 1/10 of sales related to the `X360` platform.\n",
    "    - Approximately 8% of all sales in the region related to the `3DS` and `PS3` platforms.\n",
    "    - all other platforms in this region account for a total of about 10% of all sales.\n",
    "- sales **in Europe** for the actual period:\n",
    "    - slightly less than half (48%) of sales in Europe account for the `PS4` platform.\n",
    "    - the second most popular platform in the region - `XOne` - accounts for approximately 17% of all sales in the region.\n",
    "    - The share of the `PS3` platform in this region was 9%.\n",
    "    - Approximately 7% and 6% of sales related to `PC` and `3DS` platforms, respectively.\n",
    "    - all other platforms in the region together account for about 13% of all sales.\n",
    "- sales **in Japan** for the actual period:\n",
    "    - a little less than half (48%) of sales in Japan account for the `3DS` platform.\n",
    "    - Approximately 16% of sales related to the `PS4` and `PSV` platforms.\n",
    "    - the share of the `PS3` platform in this region was 12%, and the `WiiU` platform - 8%.\n",
    "    - all other platforms in this region account for about 1% of all sales in total.\n",
    "\n",
    "Thus, only three platforms are in the top 5 in all regions - `PS4`, `3DS` and `PS3`.\n",
    "<br>Also across all regions, the top 5 platforms account for over 85% of all sales in each region."
   ]
  },
  {
   "cell_type": "markdown",
   "id": "4aeedc86",
   "metadata": {},
   "source": [
    "Let's determine for the user of each region (NA, EU, JP) the most popular genres (top 5) for the actual period:"
   ]
  },
  {
   "cell_type": "code",
   "execution_count": 38,
   "id": "13d1cf01",
   "metadata": {
    "scrolled": false
   },
   "outputs": [
    {
     "data": {
      "text/html": [
       "<div>\n",
       "<style scoped>\n",
       "    .dataframe tbody tr th:only-of-type {\n",
       "        vertical-align: middle;\n",
       "    }\n",
       "\n",
       "    .dataframe tbody tr th {\n",
       "        vertical-align: top;\n",
       "    }\n",
       "\n",
       "    .dataframe thead th {\n",
       "        text-align: right;\n",
       "    }\n",
       "</style>\n",
       "<table border=\"1\" class=\"dataframe\">\n",
       "  <thead>\n",
       "    <tr style=\"text-align: right;\">\n",
       "      <th></th>\n",
       "      <th>na_sales</th>\n",
       "      <th>share_in_region_sales</th>\n",
       "    </tr>\n",
       "    <tr>\n",
       "      <th>genre</th>\n",
       "      <th></th>\n",
       "      <th></th>\n",
       "    </tr>\n",
       "  </thead>\n",
       "  <tbody>\n",
       "    <tr>\n",
       "      <th>Shooter</th>\n",
       "      <td>79.02</td>\n",
       "      <td>0.278181</td>\n",
       "    </tr>\n",
       "    <tr>\n",
       "      <th>Action</th>\n",
       "      <td>72.53</td>\n",
       "      <td>0.255333</td>\n",
       "    </tr>\n",
       "    <tr>\n",
       "      <th>Sports</th>\n",
       "      <td>46.13</td>\n",
       "      <td>0.162395</td>\n",
       "    </tr>\n",
       "    <tr>\n",
       "      <th>Role-Playing</th>\n",
       "      <td>33.47</td>\n",
       "      <td>0.117827</td>\n",
       "    </tr>\n",
       "    <tr>\n",
       "      <th>Misc</th>\n",
       "      <td>15.05</td>\n",
       "      <td>0.052982</td>\n",
       "    </tr>\n",
       "  </tbody>\n",
       "</table>\n",
       "</div>"
      ],
      "text/plain": [
       "              na_sales  share_in_region_sales\n",
       "genre                                        \n",
       "Shooter          79.02               0.278181\n",
       "Action           72.53               0.255333\n",
       "Sports           46.13               0.162395\n",
       "Role-Playing     33.47               0.117827\n",
       "Misc             15.05               0.052982"
      ]
     },
     "metadata": {},
     "output_type": "display_data"
    },
    {
     "data": {
      "text/html": [
       "<div>\n",
       "<style scoped>\n",
       "    .dataframe tbody tr th:only-of-type {\n",
       "        vertical-align: middle;\n",
       "    }\n",
       "\n",
       "    .dataframe tbody tr th {\n",
       "        vertical-align: top;\n",
       "    }\n",
       "\n",
       "    .dataframe thead th {\n",
       "        text-align: right;\n",
       "    }\n",
       "</style>\n",
       "<table border=\"1\" class=\"dataframe\">\n",
       "  <thead>\n",
       "    <tr style=\"text-align: right;\">\n",
       "      <th></th>\n",
       "      <th>eu_sales</th>\n",
       "      <th>share_in_region_sales</th>\n",
       "    </tr>\n",
       "    <tr>\n",
       "      <th>genre</th>\n",
       "      <th></th>\n",
       "      <th></th>\n",
       "    </tr>\n",
       "  </thead>\n",
       "  <tbody>\n",
       "    <tr>\n",
       "      <th>Action</th>\n",
       "      <td>74.68</td>\n",
       "      <td>0.275898</td>\n",
       "    </tr>\n",
       "    <tr>\n",
       "      <th>Shooter</th>\n",
       "      <td>65.52</td>\n",
       "      <td>0.242057</td>\n",
       "    </tr>\n",
       "    <tr>\n",
       "      <th>Sports</th>\n",
       "      <td>45.73</td>\n",
       "      <td>0.168945</td>\n",
       "    </tr>\n",
       "    <tr>\n",
       "      <th>Role-Playing</th>\n",
       "      <td>28.17</td>\n",
       "      <td>0.104071</td>\n",
       "    </tr>\n",
       "    <tr>\n",
       "      <th>Racing</th>\n",
       "      <td>14.13</td>\n",
       "      <td>0.052202</td>\n",
       "    </tr>\n",
       "  </tbody>\n",
       "</table>\n",
       "</div>"
      ],
      "text/plain": [
       "              eu_sales  share_in_region_sales\n",
       "genre                                        \n",
       "Action           74.68               0.275898\n",
       "Shooter          65.52               0.242057\n",
       "Sports           45.73               0.168945\n",
       "Role-Playing     28.17               0.104071\n",
       "Racing           14.13               0.052202"
      ]
     },
     "metadata": {},
     "output_type": "display_data"
    },
    {
     "data": {
      "text/html": [
       "<div>\n",
       "<style scoped>\n",
       "    .dataframe tbody tr th:only-of-type {\n",
       "        vertical-align: middle;\n",
       "    }\n",
       "\n",
       "    .dataframe tbody tr th {\n",
       "        vertical-align: top;\n",
       "    }\n",
       "\n",
       "    .dataframe thead th {\n",
       "        text-align: right;\n",
       "    }\n",
       "</style>\n",
       "<table border=\"1\" class=\"dataframe\">\n",
       "  <thead>\n",
       "    <tr style=\"text-align: right;\">\n",
       "      <th></th>\n",
       "      <th>jp_sales</th>\n",
       "      <th>share_in_region_sales</th>\n",
       "    </tr>\n",
       "    <tr>\n",
       "      <th>genre</th>\n",
       "      <th></th>\n",
       "      <th></th>\n",
       "    </tr>\n",
       "  </thead>\n",
       "  <tbody>\n",
       "    <tr>\n",
       "      <th>Role-Playing</th>\n",
       "      <td>31.16</td>\n",
       "      <td>0.334730</td>\n",
       "    </tr>\n",
       "    <tr>\n",
       "      <th>Action</th>\n",
       "      <td>29.58</td>\n",
       "      <td>0.317757</td>\n",
       "    </tr>\n",
       "    <tr>\n",
       "      <th>Fighting</th>\n",
       "      <td>6.37</td>\n",
       "      <td>0.068428</td>\n",
       "    </tr>\n",
       "    <tr>\n",
       "      <th>Misc</th>\n",
       "      <td>5.61</td>\n",
       "      <td>0.060264</td>\n",
       "    </tr>\n",
       "    <tr>\n",
       "      <th>Shooter</th>\n",
       "      <td>4.87</td>\n",
       "      <td>0.052315</td>\n",
       "    </tr>\n",
       "  </tbody>\n",
       "</table>\n",
       "</div>"
      ],
      "text/plain": [
       "              jp_sales  share_in_region_sales\n",
       "genre                                        \n",
       "Role-Playing     31.16               0.334730\n",
       "Action           29.58               0.317757\n",
       "Fighting          6.37               0.068428\n",
       "Misc              5.61               0.060264\n",
       "Shooter           4.87               0.052315"
      ]
     },
     "metadata": {},
     "output_type": "display_data"
    }
   ],
   "source": [
    "for region in regions:\n",
    "    temp = df_actual.groupby('genre').agg({region:'sum'}).sort_values(by=region, ascending=False)\n",
    "    temp['share_in_region_sales'] = temp[region]/temp[region].sum()\n",
    "    display(temp.head())"
   ]
  },
  {
   "cell_type": "markdown",
   "id": "18748a84",
   "metadata": {},
   "source": [
    "From the summary tables above we can conclude the following:\n",
    "- sales **in North America** for the actual period:\n",
    "    - Approximately 28% and 26% of sales in North America come from the `Shooter` and `Action` genres, respectively.\n",
    "    - Approximately 16% and 12% of game sales account for the `Sports` and `Role-Playing` genres, respectively.\n",
    "    - The share of the `Misc` genre in this region was approximately 5%.\n",
    "    - all other genres in the region account for a total of about 13% of all sales.\n",
    "- sales **in Europe** for the actual period:\n",
    "    - Approximately 28% and 24% of sales in Europe come from the `Action` and `Shooter` genres, respectively.\n",
    "    - Approximately 17% and 10% of game sales account for the `Sports` and `Role-Playing` genres, respectively.\n",
    "    - The share of the `Racing` genre in this region was approximately 5%.\n",
    "    - all other genres in the region together account for about 16% of all sales.\n",
    "- sales **in Japan** for the actual period:\n",
    "    - Approximately 33% and 32% of game sales in Japan come from the `Role-Playing` and `Action` genres, respectively.\n",
    "    - Approximately 7% and 6% of sales account for the `Fighting` and `Misc` genres, respectively.\n",
    "    - The share of sales of `Shooter` games in this region was approximately 5%.\n",
    "    - all other genres in the region account for a total of about 17% of all sales.\n",
    "\n",
    "Thus, only three genres are in the top 5 in all regions - `Action`, `Shooter` and `Role-Playing`.\n",
    "<br>Also, in all regions, the top 5 genres account for more than 80% of all sales in each region."
   ]
  },
  {
   "cell_type": "markdown",
   "id": "55236062",
   "metadata": {},
   "source": [
    "Let's determine for the user of each region (NA, EU, JP) whether the ESRB rating affects sales in a particular region for the actual period.\n",
    "<br>Since the rating is a qualitative parameter, applying Pearson's correlation coefficient to it is incorrect, so let's analyze it by grouping it into categories and calculating average sales:"
   ]
  },
  {
   "cell_type": "code",
   "execution_count": 39,
   "id": "54f1cea1",
   "metadata": {
    "scrolled": false
   },
   "outputs": [
    {
     "data": {
      "text/html": [
       "<div>\n",
       "<style scoped>\n",
       "    .dataframe tbody tr th:only-of-type {\n",
       "        vertical-align: middle;\n",
       "    }\n",
       "\n",
       "    .dataframe tbody tr th {\n",
       "        vertical-align: top;\n",
       "    }\n",
       "\n",
       "    .dataframe thead th {\n",
       "        text-align: right;\n",
       "    }\n",
       "</style>\n",
       "<table border=\"1\" class=\"dataframe\">\n",
       "  <thead>\n",
       "    <tr style=\"text-align: right;\">\n",
       "      <th></th>\n",
       "      <th>na_sales</th>\n",
       "    </tr>\n",
       "    <tr>\n",
       "      <th>rating</th>\n",
       "      <th></th>\n",
       "    </tr>\n",
       "  </thead>\n",
       "  <tbody>\n",
       "    <tr>\n",
       "      <th>M</th>\n",
       "      <td>0.363849</td>\n",
       "    </tr>\n",
       "    <tr>\n",
       "      <th>E</th>\n",
       "      <td>0.231689</td>\n",
       "    </tr>\n",
       "    <tr>\n",
       "      <th>E10+</th>\n",
       "      <td>0.179622</td>\n",
       "    </tr>\n",
       "    <tr>\n",
       "      <th>T</th>\n",
       "      <td>0.143727</td>\n",
       "    </tr>\n",
       "    <tr>\n",
       "      <th>unknown</th>\n",
       "      <td>0.086409</td>\n",
       "    </tr>\n",
       "  </tbody>\n",
       "</table>\n",
       "</div>"
      ],
      "text/plain": [
       "         na_sales\n",
       "rating           \n",
       "M        0.363849\n",
       "E        0.231689\n",
       "E10+     0.179622\n",
       "T        0.143727\n",
       "unknown  0.086409"
      ]
     },
     "metadata": {},
     "output_type": "display_data"
    },
    {
     "data": {
      "text/html": [
       "<div>\n",
       "<style scoped>\n",
       "    .dataframe tbody tr th:only-of-type {\n",
       "        vertical-align: middle;\n",
       "    }\n",
       "\n",
       "    .dataframe tbody tr th {\n",
       "        vertical-align: top;\n",
       "    }\n",
       "\n",
       "    .dataframe thead th {\n",
       "        text-align: right;\n",
       "    }\n",
       "</style>\n",
       "<table border=\"1\" class=\"dataframe\">\n",
       "  <thead>\n",
       "    <tr style=\"text-align: right;\">\n",
       "      <th></th>\n",
       "      <th>eu_sales</th>\n",
       "    </tr>\n",
       "    <tr>\n",
       "      <th>rating</th>\n",
       "      <th></th>\n",
       "    </tr>\n",
       "  </thead>\n",
       "  <tbody>\n",
       "    <tr>\n",
       "      <th>M</th>\n",
       "      <td>0.352604</td>\n",
       "    </tr>\n",
       "    <tr>\n",
       "      <th>E</th>\n",
       "      <td>0.265114</td>\n",
       "    </tr>\n",
       "    <tr>\n",
       "      <th>E10+</th>\n",
       "      <td>0.141405</td>\n",
       "    </tr>\n",
       "    <tr>\n",
       "      <th>T</th>\n",
       "      <td>0.125720</td>\n",
       "    </tr>\n",
       "    <tr>\n",
       "      <th>unknown</th>\n",
       "      <td>0.078705</td>\n",
       "    </tr>\n",
       "  </tbody>\n",
       "</table>\n",
       "</div>"
      ],
      "text/plain": [
       "         eu_sales\n",
       "rating           \n",
       "M        0.352604\n",
       "E        0.265114\n",
       "E10+     0.141405\n",
       "T        0.125720\n",
       "unknown  0.078705"
      ]
     },
     "metadata": {},
     "output_type": "display_data"
    },
    {
     "data": {
      "text/html": [
       "<div>\n",
       "<style scoped>\n",
       "    .dataframe tbody tr th:only-of-type {\n",
       "        vertical-align: middle;\n",
       "    }\n",
       "\n",
       "    .dataframe tbody tr th {\n",
       "        vertical-align: top;\n",
       "    }\n",
       "\n",
       "    .dataframe thead th {\n",
       "        text-align: right;\n",
       "    }\n",
       "</style>\n",
       "<table border=\"1\" class=\"dataframe\">\n",
       "  <thead>\n",
       "    <tr style=\"text-align: right;\">\n",
       "      <th></th>\n",
       "      <th>jp_sales</th>\n",
       "    </tr>\n",
       "    <tr>\n",
       "      <th>rating</th>\n",
       "      <th></th>\n",
       "    </tr>\n",
       "  </thead>\n",
       "  <tbody>\n",
       "    <tr>\n",
       "      <th>unknown</th>\n",
       "      <td>0.075968</td>\n",
       "    </tr>\n",
       "    <tr>\n",
       "      <th>T</th>\n",
       "      <td>0.054539</td>\n",
       "    </tr>\n",
       "    <tr>\n",
       "      <th>E</th>\n",
       "      <td>0.040822</td>\n",
       "    </tr>\n",
       "    <tr>\n",
       "      <th>M</th>\n",
       "      <td>0.030226</td>\n",
       "    </tr>\n",
       "    <tr>\n",
       "      <th>E10+</th>\n",
       "      <td>0.024108</td>\n",
       "    </tr>\n",
       "  </tbody>\n",
       "</table>\n",
       "</div>"
      ],
      "text/plain": [
       "         jp_sales\n",
       "rating           \n",
       "unknown  0.075968\n",
       "T        0.054539\n",
       "E        0.040822\n",
       "M        0.030226\n",
       "E10+     0.024108"
      ]
     },
     "metadata": {},
     "output_type": "display_data"
    }
   ],
   "source": [
    "for region in regions:\n",
    "    display(df_actual.groupby('rating').agg({region:'mean'}).sort_values(by=region, ascending=False))"
   ]
  },
  {
   "cell_type": "markdown",
   "id": "9446c9a8",
   "metadata": {},
   "source": [
    "From the summary tables above we can conclude the following:\n",
    "- average sales **in North America** for the actual period:\n",
    "    - on average, about 364 thousand copies sold accounted for games rated `M`.\n",
    "    - 232 thousand with an `E` rating.\n",
    "    - 180 thousand with `E10+` rating.\n",
    "    - 144 thousand with a rating of `T`.\n",
    "    - 86 thousand without a rating, or their rating is not known.\n",
    "- sales **in Europe** for the actual period:\n",
    "    - on average, about 353 thousand copies sold accounted for games rated `M`.\n",
    "    - 265 thousand with an `E` rating.\n",
    "    - 141 thousand with `E10+` rating.\n",
    "    - 126 thousand with a rating of `T`.\n",
    "    - 79 thousand without a rating, or their rating is not known.\n",
    "- sales **in Japan** for the actual period:\n",
    "    - on average, about 76 thousand copies sold are unrated games or their rating is unknown.\n",
    "    - 55 thousand with a rating of `T`.\n",
    "    - 41 thousand with an `E` rating.\n",
    "    - 30 thousand with `M` rating.\n",
    "    - 24 thousand with `E10+` rating.\n",
    "\n",
    "Thus, the most popular games in all regions are with ratings `M`, `E`, `E10+` and `T`.\n",
    "<br>In all countries except Japan, the top ratings are the same.\n",
    "<br>But in Japan the most popular games are rated `T`."
   ]
  },
  {
   "cell_type": "markdown",
   "id": "f69f73f4",
   "metadata": {},
   "source": [
    "### Conclusion"
   ]
  },
  {
   "cell_type": "markdown",
   "id": "338ba9fb",
   "metadata": {},
   "source": [
    "For users in **North America**:\n",
    "- Most popular platforms: `PS4`, `XOne`, `X360`, `3DS`, `PS3`;\n",
    "- Most popular genres: `Shooter`, `Action`, `Sports`, `Role-Playing`, `Misc`;\n",
    "- Most popular known game ratings: `M`, `E`, `E10+`, `T`.\n",
    "\n",
    "For users from **Europe**:\n",
    "- Most popular platforms: `PS4`, `XOne`, `PS3`, `PC`, `3DS`;\n",
    "- The most popular genres: `Action`, `Shooter`, `Sports`, `Role-Playing`, `Racing`;\n",
    "- Most popular known game ratings: `M`, `E`, `E10+`, `T`.\n",
    "\n",
    "For **Japan** users:\n",
    "- Most popular platforms: `3DS`, `PS4`, `PSV`, `PS3`, `WiiU`;\n",
    "- The most popular genres: `Role-Playing`, `Action`, `Fighting`, `Misc`, `Shooter`;\n",
    "- Most popular known game ratings: `T`, `E`, `M`, `E10+`.\n",
    "\n",
    "Thus, the profile of a user from North America is largely the same as that of a user from Europe, but differs significantly from users from Japan. This may be due to the cultural differences of Asia, from similar European and American cultures.\n",
    "<br>In addition, the most popular platform in Japan in the actual period - `3DS` - was created by the Japanese company Nintendo, as well as the game console `WiiU`, which is included in the top 5 gaming platforms in Japan in the actual period, but did not get into the top -5 in Europe and North America.\n",
    "<br>Differences in the consoles used, in turn, affect the popular genres in these regions. So, Nintendo does not have a single game in the `Shooter` genre at all."
   ]
  },
  {
   "cell_type": "markdown",
   "id": "22b799c7",
   "metadata": {},
   "source": [
    "## Statistical hypothesis testing"
   ]
  },
  {
   "cell_type": "markdown",
   "id": "2b2b3822",
   "metadata": {},
   "source": [
    "### Comparison of the two platforms user scores"
   ]
  },
  {
   "cell_type": "markdown",
   "id": "4d4deee2",
   "metadata": {},
   "source": [
    "Our hypothesis is as follows: the average user score of the `Xbox One` and `PC` platforms are the same for the actual period.\n",
    "<br>Let's formulate **H₀**: The average user score of the `Xbox One` platform is **equal** to the average user score of the `PC` platform.\n",
    "<br>Then **two-sided alternative hypothesis H₁**: the average user score of the `Xbox One` platform is **not equal** to the average user score of the `PC` platform.\n",
    "<br>The null hypothesis is rejected if the obtained value of the statistic is less than the given significance level.\n",
    "<br>Let's set the critical level of statistical significance to 0.01.\n",
    "<br>Since the samples are of different sizes, we will specify the equal_var=False parameter, which means that the variances of the populations are different:"
   ]
  },
  {
   "cell_type": "code",
   "execution_count": 40,
   "id": "270b46b8",
   "metadata": {},
   "outputs": [
    {
     "name": "stdout",
     "output_type": "stream",
     "text": [
      "p-value: 0.11601398086668832\n",
      "do not reject H₀\n"
     ]
    }
   ],
   "source": [
    "# testing the hypothesis that the mean of two populations is equal\n",
    "alpha = .01\n",
    "results = st.ttest_ind(\n",
    "    df_actual[(df_actual.platform == 'XOne') & (df_actual.user_score.notna())]['user_score'], \n",
    "    df_actual[(df_actual.platform == 'PC') & (df_actual.user_score.notna())]['user_score'], \n",
    "    equal_var=False)\n",
    "print('p-value:', results.pvalue)\n",
    "if results.pvalue < alpha:\n",
    "    print(\"reject H₀\")\n",
    "else:\n",
    "    print(\"do not reject H₀\")"
   ]
  },
  {
   "cell_type": "markdown",
   "id": "a5e0603d",
   "metadata": {},
   "source": [
    "The resulting p-value indicates that the probability of getting this or more difference randomly is almost 12%. This is clearly too high probability to conclude that there is a significant difference between the average user ratings of the platforms.\n",
    "<br>Therefore, **we have no reason to believe that the average user ratings of the `Xbox One` and `PC` platforms are significantly different**.<br>Let's confirm this conclusion by data:"
   ]
  },
  {
   "cell_type": "code",
   "execution_count": 41,
   "id": "a0f7fdf0",
   "metadata": {},
   "outputs": [
    {
     "name": "stdout",
     "output_type": "stream",
     "text": [
      "The average user score of XOne platform is: 6.594545454545456\n",
      "The average user score of PC platform is: 6.298360655737705\n"
     ]
    }
   ],
   "source": [
    "platforms = ['XOne', 'PC']\n",
    "for platform in platforms:\n",
    "    print(f\"The average user score of {platform} platform is:\", \n",
    "      df_actual[(df_actual.platform == platform) & (df_actual.user_score.notna())]['user_score'].mean())"
   ]
  },
  {
   "cell_type": "markdown",
   "id": "e6ab1844",
   "metadata": {},
   "source": [
    "### Comparison of the two genres user scores"
   ]
  },
  {
   "cell_type": "markdown",
   "id": "5ce0cc58",
   "metadata": {},
   "source": [
    "Our hypothesis is as follows: the average user score of the `Action` and `Sports` genres are different for the actual period.\n",
    "<br>Let's formulate **H₀**: the average user score of the `Action` genre is **equal** to the average user score of the `Sports` genre.\n",
    "<br>Then **two-tailed alternative hypothesis H₁**: the average user score of the `Action` genre is **not equal** to the average user score of the `Sports` genre.\n",
    "<br>The null hypothesis is rejected if the obtained value of the statistic is less than the given significance level.\n",
    "<br>Let's set the critical level of statistical significance to 0.01.\n",
    "<br>Since the samples are of different sizes, we will specify the equal_var=False parameter, which means that the variances of the populations are different:"
   ]
  },
  {
   "cell_type": "code",
   "execution_count": 42,
   "id": "58e7bafb",
   "metadata": {},
   "outputs": [
    {
     "name": "stdout",
     "output_type": "stream",
     "text": [
      "p-value: 1.1825550382644557e-14\n",
      "reject H₀\n"
     ]
    }
   ],
   "source": [
    "# testing the hypothesis that the mean of two populations is equal\n",
    "alpha = .01\n",
    "results = st.ttest_ind(\n",
    "    df_actual[(df_actual.genre == 'Action') & (df_actual.user_score.notna())]['user_score'],\n",
    "    df_actual[(df_actual.genre == 'Sports') & (df_actual.user_score.notna())]['user_score'], \n",
    "    equal_var=False)\n",
    "print('p-value:', results.pvalue)\n",
    "if results.pvalue < alpha:\n",
    "    print(\"reject H₀\")\n",
    "else:\n",
    "    print(\"do not reject H₀\")"
   ]
  },
  {
   "cell_type": "markdown",
   "id": "575ca5f9",
   "metadata": {},
   "source": [
    "The resulting p-value indicates that the probability of getting this or more difference randomly is 0%.\n",
    "<br>We can conclude that **the average user rating of the `Action` genre is not equal to the average user rating of the `Sports` genre**. <br>Let's confirm this conclusion by data:"
   ]
  },
  {
   "cell_type": "code",
   "execution_count": 43,
   "id": "4dbb2359",
   "metadata": {},
   "outputs": [
    {
     "name": "stdout",
     "output_type": "stream",
     "text": [
      "The average user score of Action genre is: 6.760606060606061\n",
      "The average user score of Sports genre is: 5.2251968503937\n"
     ]
    }
   ],
   "source": [
    "genres = ['Action', 'Sports']\n",
    "for genre in genres:\n",
    "    print(f\"The average user score of {genre} genre is:\",\n",
    "          df_actual[(df_actual.genre == genre) & (df_actual.user_score.notna())]['user_score'].mean())"
   ]
  },
  {
   "cell_type": "markdown",
   "id": "9820cc94",
   "metadata": {},
   "source": [
    "### Conclusion"
   ]
  },
  {
   "cell_type": "markdown",
   "id": "d0497402",
   "metadata": {},
   "source": [
    "Testing the hypothesis about the equality of the average user score of the `Xbox One` and `PC` platforms, we came to the conclusion that we have no reason to assert that the average user score of the `Xbox One` and `PC` platforms differ significantly over the actual period.\n",
    "\n",
    "Testing the hypothesis about the equality of the average user score of the `Action` and `Sports` genres, we came to the conclusion that the average user score of the `Action` and `Sports` genres differ in the actual period."
   ]
  },
  {
   "cell_type": "markdown",
   "id": "937372f6",
   "metadata": {},
   "source": [
    "## Results and Conclusion"
   ]
  },
  {
   "cell_type": "markdown",
   "id": "7ee95bbc",
   "metadata": {},
   "source": [
    "In order to plan advertising campaigns online store \"Ice\" wants to know patterns that determine whether a game succeeds or not. We were provided with historical data on game sales (until 2016), user's and expert's reviews, genres and platforms.\n",
    "\n",
    "We loaded and examined the provided data, and then performed the following transformations:\n",
    "- checked the data for duplicates - no explicit and implicit duplicates were found in the table;\n",
    "- replaced 'tbd' values in the `user_score` column (about 14% of all data) with NaN;\n",
    "- identified a lot of missing values in several columns:\n",
    "    - We decided to delete the rows with missing data in the following columns: `name`, `year_of_release` and `genre`, because the missing values in these columns make up less than 5% of the total data. \n",
    "    - We decided to leave missing values in the `critic_score` and `user_score` columns unchanged (51% and 54% missing values respectively), because replacing these missing values with the mean or median can significantly distort the results of further analysis.\n",
    "    - We decided to replace missing valuese in the ESRB `rating` column (about 41% missing values) with the value `unknown`, since the values in this column are categorical, replacing such missing values with, for example, the most frequently occurring rating value for a particular genre can significantly distort the results of further analysis;\n",
    "- converted the data types of the `year_of_release` column into `int64`, as well as the `user_score` column into `float64`;\n",
    "- calculated the amount of total sales in all regions."
   ]
  },
  {
   "cell_type": "markdown",
   "id": "6949a03a",
   "metadata": {},
   "source": [
    "Next, we performed the following procedures:\n",
    "- explored the data and noticed the following:\n",
    "    - The dynamics of sales for all platforms corresponds to the dynamics of the number of releases by year:\n",
    "        - a small number of copies sold and games released before 2000 inclusive;\n",
    "        - in this case, the period from 1980 to 1995 is especially distinguished, when the number of copies sold was less than 100 million pieces per year (for releases - the period from 1980 to 1993, when the number of releases was less than 100 games per year);\n",
    "        - the largest number of sales and releases in the period occurred in 2008-2009.\n",
    "\n",
    "    - We decided to use the **3-year period from 2014 to 2016 inclusive as the actual period for analysis**.\n",
    "\n",
    "    - In terms of sales for the actual period, the `PS4` platform is leading, followed by `XOne` and `3DS`.\n",
    "<br>In our opinion, the **potentially profitable platforms are `PS4` and `XOne`**, where sales increased in 2015, and the data for 2016 is less, but it may not be complete.\n",
    "\n",
    "    - **User scores** on all platforms (including `PS4`) **have no correlation with sales**.\n",
    "<br>There is a **direct relationship between critic scores and game sales** over the actual period, but the relationship for all other platforms is weaker (weak) than for the `PS4` platform (moderate).\n",
    "<br>At the same time, there is a **direct correlation of critics' scores and users' scores**, but the relationship for all other platforms is weaker (moderate) than for the `PS4` platform (noticeable).\n",
    "\n",
    "    - **The most profitable game genre** in terms of median number of copies sold for the actual period **is `Shooter`**, and the median sales of games in this genre exceed the next genre `Sports` by almost 3 times.\n",
    "<br>**The least profitable** game genres for the actual period **were `Adventure` and `Puzzle`**, the median number of sold copies of games for them is 17 and 11 times less, respectively, than for games of the most popular genre `Shooter`."
   ]
  },
  {
   "cell_type": "markdown",
   "id": "cf763869",
   "metadata": {},
   "source": [
    "- analyzed the users' behavior for each region and noticed the following:\n",
    "    - For users in **North America**:\n",
    "        - Most popular platforms: `PS4`, `XOne`, `X360`, `3DS`, `PS3`;\n",
    "        - Most popular genres: `Shooter`, `Action`, `Sports`, `Role-Playing`, `Misc`;\n",
    "        - Most popular known game ratings: `M`, `E`, `E10+`, `T`.\n",
    "    \n",
    "    - For users from **Europe**:\n",
    "        - Most popular platforms: `PS4`, `XOne`, `PS3`, `PC`, `3DS`;\n",
    "        - The most popular genres: `Action`, `Shooter`, `Sports`, `Role-Playing`, `Racing`;\n",
    "        - Most popular known game ratings: `M`, `E`, `E10+`, `T`.\n",
    "    \n",
    "    - For **Japan** users:\n",
    "        - Most popular platforms: `3DS`, `PS4`, `PSV`, `PS3`, `WiiU`;\n",
    "        - The most popular genres: `Role-Playing`, `Action`, `Fighting`, `Misc`, `Shooter`;\n",
    "        - Most popular known game ratings: `T`, `E`, `M`, `E10+`.\n",
    "\n",
    "    Thus, the profile of a user from North America is largely the same as that of a user from Europe, but differs significantly from users from Japan. This may be due to the cultural differences of Asia, from similar European and American cultures.\n",
    "    <br>In addition, the most popular platform in Japan in the actual period - `3DS` - was created by the Japanese company Nintendo, as well as the game console `WiiU`, which is included in the top 5 gaming platforms in Japan in the actual period, but did not get into the top -5 in Europe and North America.\n",
    "    <br>Differences in the consoles used, in turn, affect the popular genres in these regions. So, Nintendo does not have a single game in the `Shooter` genre at all."
   ]
  },
  {
   "cell_type": "markdown",
   "id": "7c1ca96a",
   "metadata": {},
   "source": [
    "-  tested two hypotheses:\n",
    "    - about the equality of the average user score of the `Xbox One` and `PC` platforms, we came to the conclusion that we have no reason to assert that the average user score of the `Xbox One` and `PC` platforms differ significantly over the actual period.\n",
    "    - about the equality of the average user score of the `Action` and `Sports` genres, we came to the conclusion that the average user score of the `Action` and `Sports` genres differ in the actual period.\n",
    "    \n",
    "Therefore, potentially popular in 2017 will be games on `PS4` and `XOne` platforms.\n",
    "<br>The most popular game genres in all regions except Japan are `Action` and `Shooter`, in Japan - `Role-Playing`.\n",
    "<br>Most played games in all regions except Japan, rated `M` by ESRB, but `T` in Japan."
   ]
  }
 ],
 "metadata": {
  "ExecuteTimeLog": [
   {
    "duration": 384,
    "start_time": "2022-04-18T23:12:27.156Z"
   },
   {
    "duration": 36,
    "start_time": "2022-04-18T23:12:50.289Z"
   },
   {
    "duration": 18,
    "start_time": "2022-04-18T23:13:25.840Z"
   },
   {
    "duration": 14,
    "start_time": "2022-04-18T23:14:07.665Z"
   },
   {
    "duration": 4,
    "start_time": "2022-04-19T01:21:46.253Z"
   },
   {
    "duration": 57,
    "start_time": "2022-04-19T01:24:31.741Z"
   },
   {
    "duration": 7,
    "start_time": "2022-04-19T01:25:43.977Z"
   },
   {
    "duration": 3,
    "start_time": "2022-04-19T01:27:39.517Z"
   },
   {
    "duration": 4,
    "start_time": "2022-04-19T01:27:51.789Z"
   },
   {
    "duration": 14,
    "start_time": "2022-04-19T01:37:35.816Z"
   },
   {
    "duration": 13,
    "start_time": "2022-04-19T01:38:29.152Z"
   },
   {
    "duration": 17,
    "start_time": "2022-04-19T01:55:33.455Z"
   },
   {
    "duration": 6,
    "start_time": "2022-04-19T02:00:52.089Z"
   },
   {
    "duration": 12,
    "start_time": "2022-04-19T02:01:08.445Z"
   },
   {
    "duration": 11,
    "start_time": "2022-04-19T02:01:49.204Z"
   },
   {
    "duration": 8,
    "start_time": "2022-04-19T02:02:09.036Z"
   },
   {
    "duration": 17,
    "start_time": "2022-04-19T02:02:32.557Z"
   },
   {
    "duration": 22,
    "start_time": "2022-04-19T02:03:30.041Z"
   },
   {
    "duration": 17,
    "start_time": "2022-04-19T02:04:18.758Z"
   },
   {
    "duration": 18,
    "start_time": "2022-04-19T02:04:41.869Z"
   },
   {
    "duration": 12,
    "start_time": "2022-04-19T02:05:21.487Z"
   },
   {
    "duration": 14,
    "start_time": "2022-04-19T02:06:03.291Z"
   },
   {
    "duration": 7,
    "start_time": "2022-04-19T02:17:32.064Z"
   },
   {
    "duration": 23,
    "start_time": "2022-04-19T02:17:37.029Z"
   },
   {
    "duration": 14,
    "start_time": "2022-04-19T02:17:47.714Z"
   },
   {
    "duration": 10,
    "start_time": "2022-04-19T02:18:02.495Z"
   },
   {
    "duration": 9,
    "start_time": "2022-04-19T02:18:44.883Z"
   },
   {
    "duration": 5,
    "start_time": "2022-04-19T02:19:07.077Z"
   },
   {
    "duration": 17,
    "start_time": "2022-04-19T02:19:15.059Z"
   },
   {
    "duration": 12,
    "start_time": "2022-04-19T02:23:17.860Z"
   },
   {
    "duration": 13,
    "start_time": "2022-04-19T02:23:26.605Z"
   },
   {
    "duration": 21,
    "start_time": "2022-04-19T02:23:54.269Z"
   },
   {
    "duration": 19,
    "start_time": "2022-04-19T02:25:44.205Z"
   },
   {
    "duration": 19,
    "start_time": "2022-04-19T02:26:53.608Z"
   },
   {
    "duration": 3,
    "start_time": "2022-04-19T02:27:22.980Z"
   },
   {
    "duration": 35,
    "start_time": "2022-04-19T02:27:22.987Z"
   },
   {
    "duration": 13,
    "start_time": "2022-04-19T02:27:23.024Z"
   },
   {
    "duration": 13,
    "start_time": "2022-04-19T02:27:23.038Z"
   },
   {
    "duration": 4,
    "start_time": "2022-04-19T02:27:23.053Z"
   },
   {
    "duration": 5,
    "start_time": "2022-04-19T02:27:23.059Z"
   },
   {
    "duration": 16,
    "start_time": "2022-04-19T02:27:23.066Z"
   },
   {
    "duration": 18,
    "start_time": "2022-04-19T02:27:29.903Z"
   },
   {
    "duration": 8,
    "start_time": "2022-04-19T02:30:50.578Z"
   },
   {
    "duration": 10,
    "start_time": "2022-04-19T02:31:01.370Z"
   },
   {
    "duration": 10,
    "start_time": "2022-04-19T02:31:21.354Z"
   },
   {
    "duration": 16,
    "start_time": "2022-04-19T02:31:52.369Z"
   },
   {
    "duration": 115,
    "start_time": "2022-04-19T02:33:26.897Z"
   },
   {
    "duration": 129,
    "start_time": "2022-04-19T02:34:10.148Z"
   },
   {
    "duration": 107,
    "start_time": "2022-04-19T02:34:34.921Z"
   },
   {
    "duration": 103,
    "start_time": "2022-04-19T02:34:48.899Z"
   },
   {
    "duration": 102,
    "start_time": "2022-04-19T02:35:03.809Z"
   },
   {
    "duration": 5,
    "start_time": "2022-04-19T02:35:42.609Z"
   },
   {
    "duration": 111,
    "start_time": "2022-04-19T02:36:02.343Z"
   },
   {
    "duration": 17,
    "start_time": "2022-04-19T02:36:06.011Z"
   },
   {
    "duration": 35,
    "start_time": "2022-04-19T02:36:16.850Z"
   },
   {
    "duration": 27,
    "start_time": "2022-04-19T02:36:55.163Z"
   },
   {
    "duration": 32,
    "start_time": "2022-04-19T02:37:20.076Z"
   },
   {
    "duration": 16,
    "start_time": "2022-04-19T02:40:14.258Z"
   },
   {
    "duration": 6,
    "start_time": "2022-04-19T02:40:53.851Z"
   },
   {
    "duration": 23,
    "start_time": "2022-04-19T02:48:38.719Z"
   },
   {
    "duration": 13,
    "start_time": "2022-04-19T02:49:33.674Z"
   },
   {
    "duration": 6,
    "start_time": "2022-04-19T02:57:05.363Z"
   },
   {
    "duration": 23,
    "start_time": "2022-04-19T02:57:13.692Z"
   },
   {
    "duration": 21,
    "start_time": "2022-04-19T02:58:28.762Z"
   },
   {
    "duration": 5,
    "start_time": "2022-04-19T02:58:31.845Z"
   },
   {
    "duration": 23,
    "start_time": "2022-04-19T02:58:34.362Z"
   },
   {
    "duration": 8,
    "start_time": "2022-04-19T02:59:40.742Z"
   },
   {
    "duration": 26,
    "start_time": "2022-04-19T02:59:49.651Z"
   },
   {
    "duration": 18,
    "start_time": "2022-04-19T02:59:58.462Z"
   },
   {
    "duration": 20,
    "start_time": "2022-04-19T03:00:40.501Z"
   },
   {
    "duration": 480,
    "start_time": "2022-04-19T03:11:10.087Z"
   },
   {
    "duration": 9,
    "start_time": "2022-04-19T03:11:39.772Z"
   },
   {
    "duration": 12,
    "start_time": "2022-04-19T03:11:58.554Z"
   },
   {
    "duration": 24,
    "start_time": "2022-04-19T03:12:27.874Z"
   },
   {
    "duration": 22,
    "start_time": "2022-04-19T03:13:17.944Z"
   },
   {
    "duration": 22,
    "start_time": "2022-04-19T03:15:20.980Z"
   },
   {
    "duration": 3,
    "start_time": "2022-04-19T03:19:59.903Z"
   },
   {
    "duration": 41,
    "start_time": "2022-04-19T03:19:59.910Z"
   },
   {
    "duration": 12,
    "start_time": "2022-04-19T03:19:59.953Z"
   },
   {
    "duration": 16,
    "start_time": "2022-04-19T03:19:59.966Z"
   },
   {
    "duration": 3,
    "start_time": "2022-04-19T03:19:59.983Z"
   },
   {
    "duration": 7,
    "start_time": "2022-04-19T03:19:59.988Z"
   },
   {
    "duration": 20,
    "start_time": "2022-04-19T03:19:59.996Z"
   },
   {
    "duration": 42,
    "start_time": "2022-04-19T03:20:00.017Z"
   },
   {
    "duration": 17,
    "start_time": "2022-04-19T03:20:00.060Z"
   },
   {
    "duration": 18,
    "start_time": "2022-04-19T03:20:00.078Z"
   },
   {
    "duration": 12,
    "start_time": "2022-04-19T03:20:00.098Z"
   },
   {
    "duration": 48,
    "start_time": "2022-04-19T03:20:00.112Z"
   },
   {
    "duration": 25,
    "start_time": "2022-04-19T03:20:00.161Z"
   },
   {
    "duration": 18,
    "start_time": "2022-04-19T03:20:00.188Z"
   },
   {
    "duration": 13,
    "start_time": "2022-04-19T03:20:24.566Z"
   },
   {
    "duration": 8,
    "start_time": "2022-04-19T03:20:57.438Z"
   },
   {
    "duration": 14,
    "start_time": "2022-04-19T03:21:02.605Z"
   },
   {
    "duration": 15,
    "start_time": "2022-04-19T03:21:14.651Z"
   },
   {
    "duration": 4,
    "start_time": "2022-04-19T03:25:08.877Z"
   },
   {
    "duration": 5,
    "start_time": "2022-04-19T03:25:24.544Z"
   },
   {
    "duration": 8,
    "start_time": "2022-04-19T03:25:41.623Z"
   },
   {
    "duration": 6,
    "start_time": "2022-04-19T03:25:53.833Z"
   },
   {
    "duration": 486,
    "start_time": "2022-04-19T20:38:52.688Z"
   },
   {
    "duration": 48,
    "start_time": "2022-04-19T20:38:53.177Z"
   },
   {
    "duration": 33,
    "start_time": "2022-04-19T20:38:53.228Z"
   },
   {
    "duration": 21,
    "start_time": "2022-04-19T20:38:53.263Z"
   },
   {
    "duration": 5,
    "start_time": "2022-04-19T20:38:53.286Z"
   },
   {
    "duration": 6,
    "start_time": "2022-04-19T20:38:53.293Z"
   },
   {
    "duration": 55,
    "start_time": "2022-04-19T20:38:53.301Z"
   },
   {
    "duration": 25,
    "start_time": "2022-04-19T20:38:53.358Z"
   },
   {
    "duration": 18,
    "start_time": "2022-04-19T20:38:53.384Z"
   },
   {
    "duration": 14,
    "start_time": "2022-04-19T20:38:53.404Z"
   },
   {
    "duration": 13,
    "start_time": "2022-04-19T20:38:53.447Z"
   },
   {
    "duration": 23,
    "start_time": "2022-04-19T20:38:53.462Z"
   },
   {
    "duration": 27,
    "start_time": "2022-04-19T20:39:09.935Z"
   },
   {
    "duration": 6,
    "start_time": "2022-04-19T20:43:57.496Z"
   },
   {
    "duration": 4,
    "start_time": "2022-04-19T20:44:02.605Z"
   },
   {
    "duration": 21,
    "start_time": "2022-04-19T20:46:10.293Z"
   },
   {
    "duration": 62,
    "start_time": "2022-04-19T20:48:05.256Z"
   },
   {
    "duration": 17,
    "start_time": "2022-04-19T20:48:17.006Z"
   },
   {
    "duration": 9,
    "start_time": "2022-04-19T20:48:20.208Z"
   },
   {
    "duration": 9,
    "start_time": "2022-04-19T20:48:34.416Z"
   },
   {
    "duration": 21,
    "start_time": "2022-04-19T20:50:28.946Z"
   },
   {
    "duration": 40,
    "start_time": "2022-04-19T20:50:35.425Z"
   },
   {
    "duration": 9,
    "start_time": "2022-04-19T20:51:19.825Z"
   },
   {
    "duration": 10,
    "start_time": "2022-04-19T20:52:56.995Z"
   },
   {
    "duration": 34,
    "start_time": "2022-04-19T20:53:04.795Z"
   },
   {
    "duration": 1781,
    "start_time": "2022-04-19T20:53:32.101Z"
   },
   {
    "duration": 21,
    "start_time": "2022-04-19T21:52:05.280Z"
   },
   {
    "duration": 9,
    "start_time": "2022-04-19T21:52:11.855Z"
   },
   {
    "duration": 13,
    "start_time": "2022-04-19T21:52:36.363Z"
   },
   {
    "duration": 7,
    "start_time": "2022-04-19T21:53:08.891Z"
   },
   {
    "duration": 11,
    "start_time": "2022-04-19T21:55:23.105Z"
   },
   {
    "duration": 34,
    "start_time": "2022-04-19T21:55:53.725Z"
   },
   {
    "duration": 1862,
    "start_time": "2022-04-19T22:00:43.014Z"
   },
   {
    "duration": 23,
    "start_time": "2022-04-19T22:00:50.182Z"
   },
   {
    "duration": 31,
    "start_time": "2022-04-19T22:00:53.679Z"
   },
   {
    "duration": 21,
    "start_time": "2022-04-19T22:01:36.464Z"
   },
   {
    "duration": 11,
    "start_time": "2022-04-19T22:05:52.825Z"
   },
   {
    "duration": 3,
    "start_time": "2022-04-19T22:06:01.786Z"
   },
   {
    "duration": 52,
    "start_time": "2022-04-19T22:06:01.793Z"
   },
   {
    "duration": 17,
    "start_time": "2022-04-19T22:06:01.847Z"
   },
   {
    "duration": 23,
    "start_time": "2022-04-19T22:06:01.865Z"
   },
   {
    "duration": 4,
    "start_time": "2022-04-19T22:06:01.890Z"
   },
   {
    "duration": 7,
    "start_time": "2022-04-19T22:06:01.896Z"
   },
   {
    "duration": 51,
    "start_time": "2022-04-19T22:06:01.904Z"
   },
   {
    "duration": 37,
    "start_time": "2022-04-19T22:06:01.957Z"
   },
   {
    "duration": 17,
    "start_time": "2022-04-19T22:06:02.003Z"
   },
   {
    "duration": 33,
    "start_time": "2022-04-19T22:06:02.022Z"
   },
   {
    "duration": 15,
    "start_time": "2022-04-19T22:06:02.059Z"
   },
   {
    "duration": 23,
    "start_time": "2022-04-19T22:06:02.076Z"
   },
   {
    "duration": 25,
    "start_time": "2022-04-19T22:06:02.101Z"
   },
   {
    "duration": 22,
    "start_time": "2022-04-19T22:06:02.150Z"
   },
   {
    "duration": 26,
    "start_time": "2022-04-19T22:06:06.887Z"
   },
   {
    "duration": 17,
    "start_time": "2022-04-19T22:06:26.825Z"
   },
   {
    "duration": 29,
    "start_time": "2022-04-19T22:06:36.935Z"
   },
   {
    "duration": 12,
    "start_time": "2022-04-19T22:07:26.456Z"
   },
   {
    "duration": 13,
    "start_time": "2022-04-19T22:24:27.611Z"
   },
   {
    "duration": 13,
    "start_time": "2022-04-19T22:24:37.335Z"
   },
   {
    "duration": 22,
    "start_time": "2022-04-19T22:25:11.205Z"
   },
   {
    "duration": 25,
    "start_time": "2022-04-19T22:25:27.048Z"
   },
   {
    "duration": 34,
    "start_time": "2022-04-19T22:25:36.378Z"
   },
   {
    "duration": 14,
    "start_time": "2022-04-19T22:26:10.034Z"
   },
   {
    "duration": 15,
    "start_time": "2022-04-19T22:26:18.119Z"
   },
   {
    "duration": 13,
    "start_time": "2022-04-19T22:26:28.249Z"
   },
   {
    "duration": 13,
    "start_time": "2022-04-19T22:26:35.699Z"
   },
   {
    "duration": 18,
    "start_time": "2022-04-19T22:26:58.466Z"
   },
   {
    "duration": 22,
    "start_time": "2022-04-19T22:27:08.700Z"
   },
   {
    "duration": 19,
    "start_time": "2022-04-19T22:28:01.305Z"
   },
   {
    "duration": 30,
    "start_time": "2022-04-19T22:28:07.216Z"
   },
   {
    "duration": 24,
    "start_time": "2022-04-19T22:28:25.216Z"
   },
   {
    "duration": 16,
    "start_time": "2022-04-19T22:29:40.156Z"
   },
   {
    "duration": 14,
    "start_time": "2022-04-19T22:30:51.138Z"
   },
   {
    "duration": 10,
    "start_time": "2022-04-19T22:33:44.422Z"
   },
   {
    "duration": 23,
    "start_time": "2022-04-19T22:33:54.990Z"
   },
   {
    "duration": 25,
    "start_time": "2022-04-19T22:34:15.998Z"
   },
   {
    "duration": 3,
    "start_time": "2022-04-19T22:36:15.330Z"
   },
   {
    "duration": 52,
    "start_time": "2022-04-19T22:36:15.335Z"
   },
   {
    "duration": 19,
    "start_time": "2022-04-19T22:36:15.390Z"
   },
   {
    "duration": 37,
    "start_time": "2022-04-19T22:36:15.412Z"
   },
   {
    "duration": 7,
    "start_time": "2022-04-19T22:36:15.452Z"
   },
   {
    "duration": 4,
    "start_time": "2022-04-19T22:36:15.461Z"
   },
   {
    "duration": 20,
    "start_time": "2022-04-19T22:36:15.467Z"
   },
   {
    "duration": 26,
    "start_time": "2022-04-19T22:36:15.489Z"
   },
   {
    "duration": 22,
    "start_time": "2022-04-19T22:36:15.551Z"
   },
   {
    "duration": 16,
    "start_time": "2022-04-19T22:36:15.576Z"
   },
   {
    "duration": 16,
    "start_time": "2022-04-19T22:36:15.595Z"
   },
   {
    "duration": 60,
    "start_time": "2022-04-19T22:36:15.614Z"
   },
   {
    "duration": 30,
    "start_time": "2022-04-19T22:36:15.676Z"
   },
   {
    "duration": 46,
    "start_time": "2022-04-19T22:36:15.708Z"
   },
   {
    "duration": 29,
    "start_time": "2022-04-19T22:38:22.528Z"
   },
   {
    "duration": 20,
    "start_time": "2022-04-19T22:46:31.210Z"
   },
   {
    "duration": 22,
    "start_time": "2022-04-19T22:51:07.162Z"
   },
   {
    "duration": 6,
    "start_time": "2022-04-19T22:56:31.600Z"
   },
   {
    "duration": 17,
    "start_time": "2022-04-19T22:56:42.925Z"
   },
   {
    "duration": 13,
    "start_time": "2022-04-19T22:57:10.455Z"
   },
   {
    "duration": 27,
    "start_time": "2022-04-19T22:59:48.252Z"
   },
   {
    "duration": 15,
    "start_time": "2022-04-19T23:00:50.784Z"
   },
   {
    "duration": 10,
    "start_time": "2022-04-19T23:03:11.217Z"
   },
   {
    "duration": 10,
    "start_time": "2022-04-19T23:21:02.117Z"
   },
   {
    "duration": 9,
    "start_time": "2022-04-19T23:21:43.120Z"
   },
   {
    "duration": 9,
    "start_time": "2022-04-19T23:21:46.376Z"
   },
   {
    "duration": 13,
    "start_time": "2022-04-19T23:22:26.674Z"
   },
   {
    "duration": 14,
    "start_time": "2022-04-19T23:23:29.213Z"
   },
   {
    "duration": 14,
    "start_time": "2022-04-19T23:23:46.729Z"
   },
   {
    "duration": 8,
    "start_time": "2022-04-19T23:25:32.849Z"
   },
   {
    "duration": 11,
    "start_time": "2022-04-19T23:26:14.055Z"
   },
   {
    "duration": 8,
    "start_time": "2022-04-19T23:26:24.194Z"
   },
   {
    "duration": 20,
    "start_time": "2022-04-19T23:26:50.963Z"
   },
   {
    "duration": 9,
    "start_time": "2022-04-19T23:27:39.484Z"
   },
   {
    "duration": 21,
    "start_time": "2022-04-19T23:27:51.476Z"
   },
   {
    "duration": 27,
    "start_time": "2022-04-19T23:30:27.853Z"
   },
   {
    "duration": 22,
    "start_time": "2022-04-19T23:30:54.021Z"
   },
   {
    "duration": 21,
    "start_time": "2022-04-19T23:31:21.820Z"
   },
   {
    "duration": 33,
    "start_time": "2022-04-19T23:31:34.924Z"
   },
   {
    "duration": 24,
    "start_time": "2022-04-19T23:31:46.180Z"
   },
   {
    "duration": 20,
    "start_time": "2022-04-19T23:31:59.278Z"
   },
   {
    "duration": 21,
    "start_time": "2022-04-19T23:33:02.849Z"
   },
   {
    "duration": 30,
    "start_time": "2022-04-20T00:59:14.761Z"
   },
   {
    "duration": 18,
    "start_time": "2022-04-20T01:02:25.483Z"
   },
   {
    "duration": 20,
    "start_time": "2022-04-20T01:02:40.115Z"
   },
   {
    "duration": 20,
    "start_time": "2022-04-20T01:02:52.542Z"
   },
   {
    "duration": 21,
    "start_time": "2022-04-20T01:03:03.205Z"
   },
   {
    "duration": 22,
    "start_time": "2022-04-20T01:03:16.885Z"
   },
   {
    "duration": 14,
    "start_time": "2022-04-20T01:03:32.051Z"
   },
   {
    "duration": 9,
    "start_time": "2022-04-20T01:04:16.419Z"
   },
   {
    "duration": 12,
    "start_time": "2022-04-20T01:04:30.877Z"
   },
   {
    "duration": 71,
    "start_time": "2022-04-20T01:04:36.021Z"
   },
   {
    "duration": 13,
    "start_time": "2022-04-20T01:05:10.572Z"
   },
   {
    "duration": 16,
    "start_time": "2022-04-20T01:05:36.190Z"
   },
   {
    "duration": 15,
    "start_time": "2022-04-20T01:05:48.576Z"
   },
   {
    "duration": 21,
    "start_time": "2022-04-20T01:06:03.064Z"
   },
   {
    "duration": 7,
    "start_time": "2022-04-20T01:19:38.775Z"
   },
   {
    "duration": 8,
    "start_time": "2022-04-20T01:19:45.130Z"
   },
   {
    "duration": 9,
    "start_time": "2022-04-20T01:20:38.339Z"
   },
   {
    "duration": 1887,
    "start_time": "2022-04-20T01:26:01.924Z"
   },
   {
    "duration": 9,
    "start_time": "2022-04-20T01:26:07.880Z"
   },
   {
    "duration": 9,
    "start_time": "2022-04-20T01:27:37.086Z"
   },
   {
    "duration": 4,
    "start_time": "2022-04-20T01:27:47.519Z"
   },
   {
    "duration": 8,
    "start_time": "2022-04-20T01:28:47.088Z"
   },
   {
    "duration": 25,
    "start_time": "2022-04-20T01:29:22.296Z"
   },
   {
    "duration": 10,
    "start_time": "2022-04-20T01:35:35.916Z"
   },
   {
    "duration": 11,
    "start_time": "2022-04-20T01:36:31.683Z"
   },
   {
    "duration": 11,
    "start_time": "2022-04-20T01:37:28.922Z"
   },
   {
    "duration": 10,
    "start_time": "2022-04-20T01:37:51.799Z"
   },
   {
    "duration": 20,
    "start_time": "2022-04-20T01:45:45.972Z"
   },
   {
    "duration": 7,
    "start_time": "2022-04-20T01:50:11.883Z"
   },
   {
    "duration": 34,
    "start_time": "2022-04-20T01:56:42.712Z"
   },
   {
    "duration": 9,
    "start_time": "2022-04-20T01:57:13.656Z"
   },
   {
    "duration": 9,
    "start_time": "2022-04-20T02:00:22.110Z"
   },
   {
    "duration": 21,
    "start_time": "2022-04-20T02:00:42.753Z"
   },
   {
    "duration": 4,
    "start_time": "2022-04-20T02:00:50.220Z"
   },
   {
    "duration": 8,
    "start_time": "2022-04-20T02:00:52.535Z"
   },
   {
    "duration": 11,
    "start_time": "2022-04-20T02:03:07.664Z"
   },
   {
    "duration": 15,
    "start_time": "2022-04-20T02:04:48.826Z"
   },
   {
    "duration": 18,
    "start_time": "2022-04-20T02:05:27.617Z"
   },
   {
    "duration": 16,
    "start_time": "2022-04-20T02:05:51.952Z"
   },
   {
    "duration": 14,
    "start_time": "2022-04-20T02:06:56.315Z"
   },
   {
    "duration": 6,
    "start_time": "2022-04-20T02:07:40.332Z"
   },
   {
    "duration": 18,
    "start_time": "2022-04-20T02:07:44.614Z"
   },
   {
    "duration": 17,
    "start_time": "2022-04-20T02:07:48.619Z"
   },
   {
    "duration": 9,
    "start_time": "2022-04-20T02:09:53.685Z"
   },
   {
    "duration": 9,
    "start_time": "2022-04-20T02:10:05.041Z"
   },
   {
    "duration": 12,
    "start_time": "2022-04-20T02:10:32.429Z"
   },
   {
    "duration": 12,
    "start_time": "2022-04-20T02:10:37.733Z"
   },
   {
    "duration": 12,
    "start_time": "2022-04-20T04:22:05.235Z"
   },
   {
    "duration": 27,
    "start_time": "2022-04-20T04:35:51.608Z"
   },
   {
    "duration": 1721,
    "start_time": "2022-04-20T04:37:07.020Z"
   },
   {
    "duration": 17,
    "start_time": "2022-04-20T04:37:14.296Z"
   },
   {
    "duration": 2,
    "start_time": "2022-04-20T04:38:19.271Z"
   },
   {
    "duration": 37,
    "start_time": "2022-04-20T04:38:19.279Z"
   },
   {
    "duration": 12,
    "start_time": "2022-04-20T04:38:19.317Z"
   },
   {
    "duration": 15,
    "start_time": "2022-04-20T04:38:19.331Z"
   },
   {
    "duration": 4,
    "start_time": "2022-04-20T04:38:19.348Z"
   },
   {
    "duration": 6,
    "start_time": "2022-04-20T04:38:19.355Z"
   },
   {
    "duration": 19,
    "start_time": "2022-04-20T04:38:19.362Z"
   },
   {
    "duration": 20,
    "start_time": "2022-04-20T04:38:19.383Z"
   },
   {
    "duration": 45,
    "start_time": "2022-04-20T04:38:19.405Z"
   },
   {
    "duration": 13,
    "start_time": "2022-04-20T04:38:19.452Z"
   },
   {
    "duration": 13,
    "start_time": "2022-04-20T04:38:19.466Z"
   },
   {
    "duration": 22,
    "start_time": "2022-04-20T04:38:19.481Z"
   },
   {
    "duration": 59,
    "start_time": "2022-04-20T04:38:19.505Z"
   },
   {
    "duration": 6,
    "start_time": "2022-04-20T04:38:19.566Z"
   },
   {
    "duration": 22,
    "start_time": "2022-04-20T04:38:52.275Z"
   },
   {
    "duration": 12,
    "start_time": "2022-04-20T04:39:11.562Z"
   },
   {
    "duration": 16,
    "start_time": "2022-04-20T04:40:18.440Z"
   },
   {
    "duration": 17,
    "start_time": "2022-04-20T04:40:54.946Z"
   },
   {
    "duration": 15,
    "start_time": "2022-04-20T04:41:11.735Z"
   },
   {
    "duration": 16,
    "start_time": "2022-04-20T04:41:56.668Z"
   },
   {
    "duration": 17,
    "start_time": "2022-04-20T04:42:34.344Z"
   },
   {
    "duration": 15,
    "start_time": "2022-04-20T04:42:57.942Z"
   },
   {
    "duration": 17,
    "start_time": "2022-04-20T04:43:14.081Z"
   },
   {
    "duration": 16,
    "start_time": "2022-04-20T04:43:28.461Z"
   },
   {
    "duration": 17,
    "start_time": "2022-04-20T04:44:05.735Z"
   },
   {
    "duration": 13,
    "start_time": "2022-04-20T04:53:14.801Z"
   },
   {
    "duration": 15,
    "start_time": "2022-04-20T04:53:47.410Z"
   },
   {
    "duration": 8,
    "start_time": "2022-04-20T04:54:59.626Z"
   },
   {
    "duration": 9,
    "start_time": "2022-04-20T04:57:59.491Z"
   },
   {
    "duration": 5,
    "start_time": "2022-04-20T05:02:10.364Z"
   },
   {
    "duration": 5,
    "start_time": "2022-04-20T05:02:40.003Z"
   },
   {
    "duration": 9,
    "start_time": "2022-04-20T05:03:42.552Z"
   },
   {
    "duration": 7,
    "start_time": "2022-04-20T05:04:06.525Z"
   },
   {
    "duration": 8,
    "start_time": "2022-04-20T05:04:48.552Z"
   },
   {
    "duration": 12,
    "start_time": "2022-04-20T05:05:57.568Z"
   },
   {
    "duration": 10,
    "start_time": "2022-04-20T05:06:26.798Z"
   },
   {
    "duration": 13,
    "start_time": "2022-04-20T05:06:28.459Z"
   },
   {
    "duration": 16,
    "start_time": "2022-04-20T05:07:38.440Z"
   },
   {
    "duration": 14,
    "start_time": "2022-04-20T05:07:50.111Z"
   },
   {
    "duration": 3,
    "start_time": "2022-04-20T18:03:00.769Z"
   },
   {
    "duration": 3,
    "start_time": "2022-04-20T18:04:06.683Z"
   },
   {
    "duration": 38,
    "start_time": "2022-04-20T18:04:06.688Z"
   },
   {
    "duration": 12,
    "start_time": "2022-04-20T18:04:06.728Z"
   },
   {
    "duration": 17,
    "start_time": "2022-04-20T18:04:06.741Z"
   },
   {
    "duration": 4,
    "start_time": "2022-04-20T18:04:06.761Z"
   },
   {
    "duration": 5,
    "start_time": "2022-04-20T18:04:06.766Z"
   },
   {
    "duration": 16,
    "start_time": "2022-04-20T18:04:06.772Z"
   },
   {
    "duration": 21,
    "start_time": "2022-04-20T18:04:06.790Z"
   },
   {
    "duration": 50,
    "start_time": "2022-04-20T18:04:06.812Z"
   },
   {
    "duration": 15,
    "start_time": "2022-04-20T18:04:06.864Z"
   },
   {
    "duration": 13,
    "start_time": "2022-04-20T18:04:06.881Z"
   },
   {
    "duration": 22,
    "start_time": "2022-04-20T18:04:06.895Z"
   },
   {
    "duration": 28,
    "start_time": "2022-04-20T18:04:06.995Z"
   },
   {
    "duration": 22,
    "start_time": "2022-04-20T18:06:21.424Z"
   },
   {
    "duration": 8,
    "start_time": "2022-04-20T18:07:26.961Z"
   },
   {
    "duration": 9,
    "start_time": "2022-04-20T18:07:41.015Z"
   },
   {
    "duration": 9,
    "start_time": "2022-04-20T18:07:56.215Z"
   },
   {
    "duration": 8,
    "start_time": "2022-04-20T18:08:14.761Z"
   },
   {
    "duration": 12,
    "start_time": "2022-04-20T18:09:55.825Z"
   },
   {
    "duration": 10,
    "start_time": "2022-04-20T18:10:20.521Z"
   },
   {
    "duration": 13,
    "start_time": "2022-04-20T18:10:28.631Z"
   },
   {
    "duration": 10,
    "start_time": "2022-04-20T18:12:20.219Z"
   },
   {
    "duration": 12,
    "start_time": "2022-04-20T18:14:33.901Z"
   },
   {
    "duration": 17,
    "start_time": "2022-04-20T18:15:27.381Z"
   },
   {
    "duration": 9,
    "start_time": "2022-04-20T18:18:45.858Z"
   },
   {
    "duration": 7,
    "start_time": "2022-04-20T18:20:41.753Z"
   },
   {
    "duration": 7,
    "start_time": "2022-04-20T18:21:10.425Z"
   },
   {
    "duration": 3,
    "start_time": "2022-04-20T18:21:25.665Z"
   },
   {
    "duration": 39,
    "start_time": "2022-04-20T18:21:25.673Z"
   },
   {
    "duration": 12,
    "start_time": "2022-04-20T18:21:25.714Z"
   },
   {
    "duration": 14,
    "start_time": "2022-04-20T18:21:25.728Z"
   },
   {
    "duration": 9,
    "start_time": "2022-04-20T18:21:25.743Z"
   },
   {
    "duration": 15,
    "start_time": "2022-04-20T18:21:25.754Z"
   },
   {
    "duration": 18,
    "start_time": "2022-04-20T18:21:25.770Z"
   },
   {
    "duration": 21,
    "start_time": "2022-04-20T18:21:25.789Z"
   },
   {
    "duration": 17,
    "start_time": "2022-04-20T18:21:25.812Z"
   },
   {
    "duration": 37,
    "start_time": "2022-04-20T18:21:25.847Z"
   },
   {
    "duration": 15,
    "start_time": "2022-04-20T18:21:25.886Z"
   },
   {
    "duration": 22,
    "start_time": "2022-04-20T18:21:25.903Z"
   },
   {
    "duration": 43,
    "start_time": "2022-04-20T18:21:25.927Z"
   },
   {
    "duration": 18,
    "start_time": "2022-04-20T18:21:30.146Z"
   },
   {
    "duration": 12,
    "start_time": "2022-04-20T18:22:28.461Z"
   },
   {
    "duration": 14,
    "start_time": "2022-04-20T18:22:57.268Z"
   },
   {
    "duration": 16,
    "start_time": "2022-04-20T18:23:00.811Z"
   },
   {
    "duration": 10,
    "start_time": "2022-04-20T18:25:19.174Z"
   },
   {
    "duration": 23,
    "start_time": "2022-04-20T18:26:34.064Z"
   },
   {
    "duration": 13,
    "start_time": "2022-04-20T18:33:58.977Z"
   },
   {
    "duration": 12,
    "start_time": "2022-04-20T18:43:39.710Z"
   },
   {
    "duration": 4,
    "start_time": "2022-04-20T18:52:43.261Z"
   },
   {
    "duration": 11,
    "start_time": "2022-04-20T18:53:11.113Z"
   },
   {
    "duration": 11,
    "start_time": "2022-04-20T18:53:38.936Z"
   },
   {
    "duration": 15,
    "start_time": "2022-04-20T18:54:08.870Z"
   },
   {
    "duration": 12,
    "start_time": "2022-04-20T18:54:18.923Z"
   },
   {
    "duration": 15,
    "start_time": "2022-04-20T18:54:23.688Z"
   },
   {
    "duration": 16,
    "start_time": "2022-04-20T18:54:49.601Z"
   },
   {
    "duration": 16,
    "start_time": "2022-04-20T18:54:55.694Z"
   },
   {
    "duration": 13,
    "start_time": "2022-04-20T18:56:07.694Z"
   },
   {
    "duration": 22,
    "start_time": "2022-04-20T18:56:11.343Z"
   },
   {
    "duration": 23,
    "start_time": "2022-04-20T18:57:17.397Z"
   },
   {
    "duration": 1930,
    "start_time": "2022-04-20T18:57:36.062Z"
   },
   {
    "duration": 17,
    "start_time": "2022-04-20T18:58:22.073Z"
   },
   {
    "duration": 17,
    "start_time": "2022-04-20T18:58:33.865Z"
   },
   {
    "duration": 22,
    "start_time": "2022-04-20T18:59:46.263Z"
   },
   {
    "duration": 16,
    "start_time": "2022-04-20T18:59:50.383Z"
   },
   {
    "duration": 16,
    "start_time": "2022-04-20T18:59:58.209Z"
   },
   {
    "duration": 8,
    "start_time": "2022-04-20T19:00:58.010Z"
   },
   {
    "duration": 13,
    "start_time": "2022-04-20T19:01:16.201Z"
   },
   {
    "duration": 15,
    "start_time": "2022-04-20T19:01:24.297Z"
   },
   {
    "duration": 23,
    "start_time": "2022-04-20T19:02:08.969Z"
   },
   {
    "duration": 14,
    "start_time": "2022-04-20T19:02:27.059Z"
   },
   {
    "duration": 1895,
    "start_time": "2022-04-20T19:05:19.170Z"
   },
   {
    "duration": 5,
    "start_time": "2022-04-20T19:05:59.801Z"
   },
   {
    "duration": 18,
    "start_time": "2022-04-20T20:23:10.707Z"
   },
   {
    "duration": 12,
    "start_time": "2022-04-20T20:23:40.661Z"
   },
   {
    "duration": 16,
    "start_time": "2022-04-20T20:23:44.347Z"
   },
   {
    "duration": 20,
    "start_time": "2022-04-20T20:27:24.162Z"
   },
   {
    "duration": 4,
    "start_time": "2022-04-20T20:31:11.925Z"
   },
   {
    "duration": 20,
    "start_time": "2022-04-20T20:34:03.862Z"
   },
   {
    "duration": 24,
    "start_time": "2022-04-20T20:34:44.903Z"
   },
   {
    "duration": 38,
    "start_time": "2022-04-20T20:35:24.469Z"
   },
   {
    "duration": 52,
    "start_time": "2022-04-20T20:35:34.973Z"
   },
   {
    "duration": 87,
    "start_time": "2022-04-20T20:36:30.413Z"
   },
   {
    "duration": 72,
    "start_time": "2022-04-20T20:37:22.894Z"
   },
   {
    "duration": 65,
    "start_time": "2022-04-20T20:38:00.839Z"
   },
   {
    "duration": 3,
    "start_time": "2022-04-20T20:41:59.484Z"
   },
   {
    "duration": 37,
    "start_time": "2022-04-20T20:41:59.491Z"
   },
   {
    "duration": 12,
    "start_time": "2022-04-20T20:41:59.530Z"
   },
   {
    "duration": 21,
    "start_time": "2022-04-20T20:41:59.544Z"
   },
   {
    "duration": 14,
    "start_time": "2022-04-20T20:41:59.567Z"
   },
   {
    "duration": 5,
    "start_time": "2022-04-20T20:41:59.583Z"
   },
   {
    "duration": 16,
    "start_time": "2022-04-20T20:41:59.590Z"
   },
   {
    "duration": 19,
    "start_time": "2022-04-20T20:41:59.608Z"
   },
   {
    "duration": 47,
    "start_time": "2022-04-20T20:41:59.629Z"
   },
   {
    "duration": 13,
    "start_time": "2022-04-20T20:41:59.678Z"
   },
   {
    "duration": 12,
    "start_time": "2022-04-20T20:41:59.693Z"
   },
   {
    "duration": 50,
    "start_time": "2022-04-20T20:41:59.706Z"
   },
   {
    "duration": 36,
    "start_time": "2022-04-20T20:41:59.758Z"
   },
   {
    "duration": 9,
    "start_time": "2022-04-20T20:41:59.795Z"
   },
   {
    "duration": 9,
    "start_time": "2022-04-20T20:41:59.806Z"
   },
   {
    "duration": 39,
    "start_time": "2022-04-20T20:41:59.816Z"
   },
   {
    "duration": 19,
    "start_time": "2022-04-20T20:41:59.857Z"
   },
   {
    "duration": 10,
    "start_time": "2022-04-20T20:41:59.877Z"
   },
   {
    "duration": 16,
    "start_time": "2022-04-20T20:41:59.889Z"
   },
   {
    "duration": 67,
    "start_time": "2022-04-20T20:43:29.624Z"
   },
   {
    "duration": 58,
    "start_time": "2022-04-20T20:43:45.464Z"
   },
   {
    "duration": 2,
    "start_time": "2022-04-20T20:43:57.079Z"
   },
   {
    "duration": 36,
    "start_time": "2022-04-20T20:43:57.083Z"
   },
   {
    "duration": 12,
    "start_time": "2022-04-20T20:43:57.121Z"
   },
   {
    "duration": 18,
    "start_time": "2022-04-20T20:43:57.134Z"
   },
   {
    "duration": 7,
    "start_time": "2022-04-20T20:43:57.155Z"
   },
   {
    "duration": 19,
    "start_time": "2022-04-20T20:43:57.163Z"
   },
   {
    "duration": 16,
    "start_time": "2022-04-20T20:43:57.184Z"
   },
   {
    "duration": 20,
    "start_time": "2022-04-20T20:43:57.202Z"
   },
   {
    "duration": 32,
    "start_time": "2022-04-20T20:43:57.224Z"
   },
   {
    "duration": 18,
    "start_time": "2022-04-20T20:43:57.264Z"
   },
   {
    "duration": 13,
    "start_time": "2022-04-20T20:43:57.284Z"
   },
   {
    "duration": 24,
    "start_time": "2022-04-20T20:43:57.299Z"
   },
   {
    "duration": 55,
    "start_time": "2022-04-20T20:43:57.324Z"
   },
   {
    "duration": 9,
    "start_time": "2022-04-20T20:43:57.380Z"
   },
   {
    "duration": 9,
    "start_time": "2022-04-20T20:43:57.390Z"
   },
   {
    "duration": 11,
    "start_time": "2022-04-20T20:43:57.400Z"
   },
   {
    "duration": 54,
    "start_time": "2022-04-20T20:43:57.412Z"
   },
   {
    "duration": 13,
    "start_time": "2022-04-20T20:43:57.467Z"
   },
   {
    "duration": 16,
    "start_time": "2022-04-20T20:43:57.481Z"
   },
   {
    "duration": 20,
    "start_time": "2022-04-20T20:44:35.560Z"
   },
   {
    "duration": 15,
    "start_time": "2022-04-20T20:44:46.386Z"
   },
   {
    "duration": 19,
    "start_time": "2022-04-20T20:46:28.240Z"
   },
   {
    "duration": 58,
    "start_time": "2022-04-20T20:46:50.606Z"
   },
   {
    "duration": 3,
    "start_time": "2022-04-20T20:47:10.440Z"
   },
   {
    "duration": 46,
    "start_time": "2022-04-20T20:47:10.444Z"
   },
   {
    "duration": 12,
    "start_time": "2022-04-20T20:47:10.491Z"
   },
   {
    "duration": 13,
    "start_time": "2022-04-20T20:47:10.505Z"
   },
   {
    "duration": 4,
    "start_time": "2022-04-20T20:47:10.519Z"
   },
   {
    "duration": 5,
    "start_time": "2022-04-20T20:47:10.525Z"
   },
   {
    "duration": 33,
    "start_time": "2022-04-20T20:47:10.532Z"
   },
   {
    "duration": 20,
    "start_time": "2022-04-20T20:47:10.567Z"
   },
   {
    "duration": 17,
    "start_time": "2022-04-20T20:47:10.589Z"
   },
   {
    "duration": 12,
    "start_time": "2022-04-20T20:47:10.608Z"
   },
   {
    "duration": 44,
    "start_time": "2022-04-20T20:47:10.621Z"
   },
   {
    "duration": 23,
    "start_time": "2022-04-20T20:47:10.666Z"
   },
   {
    "duration": 270,
    "start_time": "2022-04-20T20:47:10.691Z"
   },
   {
    "duration": 8,
    "start_time": "2022-04-20T20:47:10.963Z"
   },
   {
    "duration": 9,
    "start_time": "2022-04-20T20:47:10.974Z"
   },
   {
    "duration": 11,
    "start_time": "2022-04-20T20:47:10.984Z"
   },
   {
    "duration": 15,
    "start_time": "2022-04-20T20:47:10.997Z"
   },
   {
    "duration": 46,
    "start_time": "2022-04-20T20:47:11.013Z"
   },
   {
    "duration": 19,
    "start_time": "2022-04-20T20:47:11.060Z"
   },
   {
    "duration": 12,
    "start_time": "2022-04-20T20:47:11.080Z"
   },
   {
    "duration": 56,
    "start_time": "2022-04-20T20:47:18.169Z"
   },
   {
    "duration": 2,
    "start_time": "2022-04-20T20:47:22.401Z"
   },
   {
    "duration": 33,
    "start_time": "2022-04-20T20:47:22.407Z"
   },
   {
    "duration": 17,
    "start_time": "2022-04-20T20:47:22.442Z"
   },
   {
    "duration": 17,
    "start_time": "2022-04-20T20:47:22.460Z"
   },
   {
    "duration": 4,
    "start_time": "2022-04-20T20:47:22.478Z"
   },
   {
    "duration": 5,
    "start_time": "2022-04-20T20:47:22.484Z"
   },
   {
    "duration": 17,
    "start_time": "2022-04-20T20:47:22.491Z"
   },
   {
    "duration": 50,
    "start_time": "2022-04-20T20:47:22.509Z"
   },
   {
    "duration": 18,
    "start_time": "2022-04-20T20:47:22.561Z"
   },
   {
    "duration": 13,
    "start_time": "2022-04-20T20:47:22.581Z"
   },
   {
    "duration": 13,
    "start_time": "2022-04-20T20:47:22.595Z"
   },
   {
    "duration": 54,
    "start_time": "2022-04-20T20:47:22.610Z"
   },
   {
    "duration": 26,
    "start_time": "2022-04-20T20:47:22.666Z"
   },
   {
    "duration": 8,
    "start_time": "2022-04-20T20:47:22.694Z"
   },
   {
    "duration": 10,
    "start_time": "2022-04-20T20:47:22.705Z"
   },
   {
    "duration": 39,
    "start_time": "2022-04-20T20:47:22.716Z"
   },
   {
    "duration": 15,
    "start_time": "2022-04-20T20:47:22.758Z"
   },
   {
    "duration": 9,
    "start_time": "2022-04-20T20:47:22.775Z"
   },
   {
    "duration": 16,
    "start_time": "2022-04-20T20:47:22.785Z"
   },
   {
    "duration": 12,
    "start_time": "2022-04-20T20:47:22.803Z"
   },
   {
    "duration": 56,
    "start_time": "2022-04-20T20:47:53.472Z"
   },
   {
    "duration": 3,
    "start_time": "2022-04-20T20:47:58.496Z"
   },
   {
    "duration": 37,
    "start_time": "2022-04-20T20:47:58.501Z"
   },
   {
    "duration": 19,
    "start_time": "2022-04-20T20:47:58.540Z"
   },
   {
    "duration": 19,
    "start_time": "2022-04-20T20:47:58.561Z"
   },
   {
    "duration": 4,
    "start_time": "2022-04-20T20:47:58.582Z"
   },
   {
    "duration": 8,
    "start_time": "2022-04-20T20:47:58.588Z"
   },
   {
    "duration": 17,
    "start_time": "2022-04-20T20:47:58.598Z"
   },
   {
    "duration": 46,
    "start_time": "2022-04-20T20:47:58.617Z"
   },
   {
    "duration": 18,
    "start_time": "2022-04-20T20:47:58.664Z"
   },
   {
    "duration": 13,
    "start_time": "2022-04-20T20:47:58.684Z"
   },
   {
    "duration": 13,
    "start_time": "2022-04-20T20:47:58.699Z"
   },
   {
    "duration": 57,
    "start_time": "2022-04-20T20:47:58.713Z"
   },
   {
    "duration": 27,
    "start_time": "2022-04-20T20:47:58.772Z"
   },
   {
    "duration": 9,
    "start_time": "2022-04-20T20:47:58.801Z"
   },
   {
    "duration": 9,
    "start_time": "2022-04-20T20:47:58.811Z"
   },
   {
    "duration": 41,
    "start_time": "2022-04-20T20:47:58.821Z"
   },
   {
    "duration": 15,
    "start_time": "2022-04-20T20:47:58.864Z"
   },
   {
    "duration": 8,
    "start_time": "2022-04-20T20:47:58.881Z"
   },
   {
    "duration": 15,
    "start_time": "2022-04-20T20:47:58.891Z"
   },
   {
    "duration": 46,
    "start_time": "2022-04-20T20:47:58.907Z"
   },
   {
    "duration": 4,
    "start_time": "2022-04-20T20:50:34.713Z"
   },
   {
    "duration": 60,
    "start_time": "2022-04-20T20:50:48.575Z"
   },
   {
    "duration": 3,
    "start_time": "2022-04-20T20:51:11.839Z"
   },
   {
    "duration": 59,
    "start_time": "2022-04-20T20:51:11.846Z"
   },
   {
    "duration": 12,
    "start_time": "2022-04-20T20:51:11.907Z"
   },
   {
    "duration": 15,
    "start_time": "2022-04-20T20:51:11.921Z"
   },
   {
    "duration": 3,
    "start_time": "2022-04-20T20:51:11.938Z"
   },
   {
    "duration": 13,
    "start_time": "2022-04-20T20:51:11.943Z"
   },
   {
    "duration": 38,
    "start_time": "2022-04-20T20:51:11.957Z"
   },
   {
    "duration": 20,
    "start_time": "2022-04-20T20:51:11.997Z"
   },
   {
    "duration": 15,
    "start_time": "2022-04-20T20:51:12.019Z"
   },
   {
    "duration": 16,
    "start_time": "2022-04-20T20:51:12.036Z"
   },
   {
    "duration": 29,
    "start_time": "2022-04-20T20:51:12.059Z"
   },
   {
    "duration": 22,
    "start_time": "2022-04-20T20:51:12.090Z"
   },
   {
    "duration": 26,
    "start_time": "2022-04-20T20:51:12.113Z"
   },
   {
    "duration": 18,
    "start_time": "2022-04-20T20:51:12.140Z"
   },
   {
    "duration": 27,
    "start_time": "2022-04-20T20:51:12.160Z"
   },
   {
    "duration": 13,
    "start_time": "2022-04-20T20:51:12.189Z"
   },
   {
    "duration": 14,
    "start_time": "2022-04-20T20:51:12.204Z"
   },
   {
    "duration": 8,
    "start_time": "2022-04-20T20:51:12.220Z"
   },
   {
    "duration": 33,
    "start_time": "2022-04-20T20:51:12.230Z"
   },
   {
    "duration": 20,
    "start_time": "2022-04-20T20:51:12.265Z"
   },
   {
    "duration": 24,
    "start_time": "2022-04-20T20:52:04.732Z"
   },
   {
    "duration": 22,
    "start_time": "2022-04-20T20:53:31.504Z"
   },
   {
    "duration": 77,
    "start_time": "2022-04-20T20:54:02.611Z"
   },
   {
    "duration": 7,
    "start_time": "2022-04-20T20:55:35.165Z"
   },
   {
    "duration": 43,
    "start_time": "2022-04-20T20:55:35.173Z"
   },
   {
    "duration": 13,
    "start_time": "2022-04-20T20:55:35.218Z"
   },
   {
    "duration": 17,
    "start_time": "2022-04-20T20:55:35.232Z"
   },
   {
    "duration": 5,
    "start_time": "2022-04-20T20:55:35.251Z"
   },
   {
    "duration": 26,
    "start_time": "2022-04-20T20:55:35.261Z"
   },
   {
    "duration": 15,
    "start_time": "2022-04-20T20:55:35.288Z"
   },
   {
    "duration": 20,
    "start_time": "2022-04-20T20:55:35.305Z"
   },
   {
    "duration": 25,
    "start_time": "2022-04-20T20:55:35.327Z"
   },
   {
    "duration": 25,
    "start_time": "2022-04-20T20:55:35.354Z"
   },
   {
    "duration": 14,
    "start_time": "2022-04-20T20:55:35.381Z"
   },
   {
    "duration": 21,
    "start_time": "2022-04-20T20:55:35.397Z"
   },
   {
    "duration": 53,
    "start_time": "2022-04-20T20:55:35.421Z"
   },
   {
    "duration": 8,
    "start_time": "2022-04-20T20:55:35.477Z"
   },
   {
    "duration": 10,
    "start_time": "2022-04-20T20:55:35.487Z"
   },
   {
    "duration": 12,
    "start_time": "2022-04-20T20:55:35.498Z"
   },
   {
    "duration": 43,
    "start_time": "2022-04-20T20:55:35.512Z"
   },
   {
    "duration": 15,
    "start_time": "2022-04-20T20:55:35.562Z"
   },
   {
    "duration": 21,
    "start_time": "2022-04-20T20:55:35.580Z"
   },
   {
    "duration": 12,
    "start_time": "2022-04-20T20:55:35.603Z"
   },
   {
    "duration": 43,
    "start_time": "2022-04-20T20:55:35.617Z"
   },
   {
    "duration": 37,
    "start_time": "2022-04-20T20:55:50.283Z"
   },
   {
    "duration": 48,
    "start_time": "2022-04-20T20:56:18.851Z"
   },
   {
    "duration": 42,
    "start_time": "2022-04-20T20:58:21.084Z"
   },
   {
    "duration": 85,
    "start_time": "2022-04-20T20:59:51.740Z"
   },
   {
    "duration": 63,
    "start_time": "2022-04-20T20:59:57.574Z"
   },
   {
    "duration": 117,
    "start_time": "2022-04-20T21:04:44.994Z"
   },
   {
    "duration": 116,
    "start_time": "2022-04-20T21:05:14.907Z"
   },
   {
    "duration": 79,
    "start_time": "2022-04-20T21:13:52.681Z"
   },
   {
    "duration": 76,
    "start_time": "2022-04-20T21:14:31.132Z"
   },
   {
    "duration": 55,
    "start_time": "2022-04-20T21:17:56.669Z"
   },
   {
    "duration": 2,
    "start_time": "2022-04-20T21:19:36.330Z"
   },
   {
    "duration": 56,
    "start_time": "2022-04-20T21:19:36.337Z"
   },
   {
    "duration": 18,
    "start_time": "2022-04-20T21:19:36.395Z"
   },
   {
    "duration": 14,
    "start_time": "2022-04-20T21:19:36.415Z"
   },
   {
    "duration": 4,
    "start_time": "2022-04-20T21:19:36.431Z"
   },
   {
    "duration": 5,
    "start_time": "2022-04-20T21:19:36.452Z"
   },
   {
    "duration": 38,
    "start_time": "2022-04-20T21:19:36.459Z"
   },
   {
    "duration": 21,
    "start_time": "2022-04-20T21:19:36.499Z"
   },
   {
    "duration": 18,
    "start_time": "2022-04-20T21:19:36.522Z"
   },
   {
    "duration": 20,
    "start_time": "2022-04-20T21:19:36.546Z"
   },
   {
    "duration": 23,
    "start_time": "2022-04-20T21:19:36.569Z"
   },
   {
    "duration": 23,
    "start_time": "2022-04-20T21:19:36.594Z"
   },
   {
    "duration": 50,
    "start_time": "2022-04-20T21:19:36.618Z"
   },
   {
    "duration": 9,
    "start_time": "2022-04-20T21:19:36.670Z"
   },
   {
    "duration": 12,
    "start_time": "2022-04-20T21:19:36.682Z"
   },
   {
    "duration": 13,
    "start_time": "2022-04-20T21:19:36.696Z"
   },
   {
    "duration": 40,
    "start_time": "2022-04-20T21:19:36.710Z"
   },
   {
    "duration": 20,
    "start_time": "2022-04-20T21:19:36.751Z"
   },
   {
    "duration": 21,
    "start_time": "2022-04-20T21:19:36.773Z"
   },
   {
    "duration": 12,
    "start_time": "2022-04-20T21:19:36.795Z"
   },
   {
    "duration": 21,
    "start_time": "2022-04-20T21:19:36.808Z"
   },
   {
    "duration": 88,
    "start_time": "2022-04-20T21:19:36.830Z"
   },
   {
    "duration": 50,
    "start_time": "2022-04-20T21:22:40.906Z"
   },
   {
    "duration": 56,
    "start_time": "2022-04-20T21:23:06.352Z"
   },
   {
    "duration": 48,
    "start_time": "2022-04-20T21:23:32.571Z"
   },
   {
    "duration": 2,
    "start_time": "2022-04-20T21:23:38.193Z"
   },
   {
    "duration": 36,
    "start_time": "2022-04-20T21:23:38.197Z"
   },
   {
    "duration": 12,
    "start_time": "2022-04-20T21:23:38.235Z"
   },
   {
    "duration": 14,
    "start_time": "2022-04-20T21:23:38.248Z"
   },
   {
    "duration": 3,
    "start_time": "2022-04-20T21:23:38.264Z"
   },
   {
    "duration": 5,
    "start_time": "2022-04-20T21:23:38.269Z"
   },
   {
    "duration": 16,
    "start_time": "2022-04-20T21:23:38.275Z"
   },
   {
    "duration": 20,
    "start_time": "2022-04-20T21:23:38.292Z"
   },
   {
    "duration": 45,
    "start_time": "2022-04-20T21:23:38.313Z"
   },
   {
    "duration": 12,
    "start_time": "2022-04-20T21:23:38.360Z"
   },
   {
    "duration": 12,
    "start_time": "2022-04-20T21:23:38.374Z"
   },
   {
    "duration": 22,
    "start_time": "2022-04-20T21:23:38.387Z"
   },
   {
    "duration": 54,
    "start_time": "2022-04-20T21:23:38.410Z"
   },
   {
    "duration": 8,
    "start_time": "2022-04-20T21:23:38.465Z"
   },
   {
    "duration": 9,
    "start_time": "2022-04-20T21:23:38.476Z"
   },
   {
    "duration": 11,
    "start_time": "2022-04-20T21:23:38.486Z"
   },
   {
    "duration": 15,
    "start_time": "2022-04-20T21:23:38.499Z"
   },
   {
    "duration": 9,
    "start_time": "2022-04-20T21:23:38.548Z"
   },
   {
    "duration": 17,
    "start_time": "2022-04-20T21:23:38.559Z"
   },
   {
    "duration": 12,
    "start_time": "2022-04-20T21:23:38.578Z"
   },
   {
    "duration": 98,
    "start_time": "2022-04-20T21:23:38.592Z"
   },
   {
    "duration": 66,
    "start_time": "2022-04-20T21:23:59.226Z"
   },
   {
    "duration": 36,
    "start_time": "2022-04-20T21:25:29.569Z"
   },
   {
    "duration": 47,
    "start_time": "2022-04-20T21:25:39.637Z"
   },
   {
    "duration": 4,
    "start_time": "2022-04-20T21:29:49.189Z"
   },
   {
    "duration": 60,
    "start_time": "2022-04-20T21:30:00.670Z"
   },
   {
    "duration": 1699,
    "start_time": "2022-04-20T21:33:40.624Z"
   },
   {
    "duration": 1783,
    "start_time": "2022-04-20T21:35:04.055Z"
   },
   {
    "duration": 4,
    "start_time": "2022-04-20T21:35:53.157Z"
   },
   {
    "duration": 1871,
    "start_time": "2022-04-20T21:36:06.017Z"
   },
   {
    "duration": 886,
    "start_time": "2022-04-20T21:36:28.210Z"
   },
   {
    "duration": 199,
    "start_time": "2022-04-20T21:37:02.737Z"
   },
   {
    "duration": 113,
    "start_time": "2022-04-20T21:37:24.257Z"
   },
   {
    "duration": 3,
    "start_time": "2022-04-20T21:37:37.157Z"
   },
   {
    "duration": 34,
    "start_time": "2022-04-20T21:37:37.162Z"
   },
   {
    "duration": 13,
    "start_time": "2022-04-20T21:37:37.198Z"
   },
   {
    "duration": 14,
    "start_time": "2022-04-20T21:37:37.212Z"
   },
   {
    "duration": 4,
    "start_time": "2022-04-20T21:37:37.228Z"
   },
   {
    "duration": 15,
    "start_time": "2022-04-20T21:37:37.234Z"
   },
   {
    "duration": 16,
    "start_time": "2022-04-20T21:37:37.251Z"
   },
   {
    "duration": 20,
    "start_time": "2022-04-20T21:37:37.269Z"
   },
   {
    "duration": 17,
    "start_time": "2022-04-20T21:37:37.290Z"
   },
   {
    "duration": 40,
    "start_time": "2022-04-20T21:37:37.308Z"
   },
   {
    "duration": 12,
    "start_time": "2022-04-20T21:37:37.351Z"
   },
   {
    "duration": 22,
    "start_time": "2022-04-20T21:37:37.365Z"
   },
   {
    "duration": 25,
    "start_time": "2022-04-20T21:37:37.389Z"
   },
   {
    "duration": 38,
    "start_time": "2022-04-20T21:37:37.416Z"
   },
   {
    "duration": 10,
    "start_time": "2022-04-20T21:37:37.456Z"
   },
   {
    "duration": 12,
    "start_time": "2022-04-20T21:37:37.467Z"
   },
   {
    "duration": 14,
    "start_time": "2022-04-20T21:37:37.480Z"
   },
   {
    "duration": 8,
    "start_time": "2022-04-20T21:37:37.496Z"
   },
   {
    "duration": 50,
    "start_time": "2022-04-20T21:37:37.505Z"
   },
   {
    "duration": 12,
    "start_time": "2022-04-20T21:37:37.556Z"
   },
   {
    "duration": 86,
    "start_time": "2022-04-20T21:37:37.570Z"
   },
   {
    "duration": 231,
    "start_time": "2022-04-20T21:37:54.961Z"
   },
   {
    "duration": 3,
    "start_time": "2022-04-20T21:38:01.874Z"
   },
   {
    "duration": 32,
    "start_time": "2022-04-20T21:38:01.881Z"
   },
   {
    "duration": 12,
    "start_time": "2022-04-20T21:38:01.915Z"
   },
   {
    "duration": 18,
    "start_time": "2022-04-20T21:38:01.928Z"
   },
   {
    "duration": 4,
    "start_time": "2022-04-20T21:38:01.948Z"
   },
   {
    "duration": 19,
    "start_time": "2022-04-20T21:38:01.954Z"
   },
   {
    "duration": 19,
    "start_time": "2022-04-20T21:38:01.974Z"
   },
   {
    "duration": 23,
    "start_time": "2022-04-20T21:38:01.995Z"
   },
   {
    "duration": 34,
    "start_time": "2022-04-20T21:38:02.020Z"
   },
   {
    "duration": 13,
    "start_time": "2022-04-20T21:38:02.055Z"
   },
   {
    "duration": 16,
    "start_time": "2022-04-20T21:38:02.069Z"
   },
   {
    "duration": 23,
    "start_time": "2022-04-20T21:38:02.087Z"
   },
   {
    "duration": 58,
    "start_time": "2022-04-20T21:38:02.112Z"
   },
   {
    "duration": 10,
    "start_time": "2022-04-20T21:38:02.172Z"
   },
   {
    "duration": 11,
    "start_time": "2022-04-20T21:38:02.185Z"
   },
   {
    "duration": 16,
    "start_time": "2022-04-20T21:38:02.197Z"
   },
   {
    "duration": 48,
    "start_time": "2022-04-20T21:38:02.214Z"
   },
   {
    "duration": 10,
    "start_time": "2022-04-20T21:38:02.264Z"
   },
   {
    "duration": 16,
    "start_time": "2022-04-20T21:38:02.276Z"
   },
   {
    "duration": 14,
    "start_time": "2022-04-20T21:38:02.294Z"
   },
   {
    "duration": 105,
    "start_time": "2022-04-20T21:38:02.309Z"
   },
   {
    "duration": 258,
    "start_time": "2022-04-20T21:38:02.416Z"
   },
   {
    "duration": 224,
    "start_time": "2022-04-20T21:38:52.286Z"
   },
   {
    "duration": 3,
    "start_time": "2022-04-20T21:39:39.668Z"
   },
   {
    "duration": 32,
    "start_time": "2022-04-20T21:39:39.675Z"
   },
   {
    "duration": 11,
    "start_time": "2022-04-20T21:39:39.709Z"
   },
   {
    "duration": 12,
    "start_time": "2022-04-20T21:39:39.722Z"
   },
   {
    "duration": 3,
    "start_time": "2022-04-20T21:39:39.736Z"
   },
   {
    "duration": 7,
    "start_time": "2022-04-20T21:39:39.741Z"
   },
   {
    "duration": 15,
    "start_time": "2022-04-20T21:39:39.749Z"
   },
   {
    "duration": 20,
    "start_time": "2022-04-20T21:39:39.765Z"
   },
   {
    "duration": 16,
    "start_time": "2022-04-20T21:39:39.786Z"
   },
   {
    "duration": 12,
    "start_time": "2022-04-20T21:39:39.803Z"
   },
   {
    "duration": 42,
    "start_time": "2022-04-20T21:39:39.816Z"
   },
   {
    "duration": 23,
    "start_time": "2022-04-20T21:39:39.859Z"
   },
   {
    "duration": 26,
    "start_time": "2022-04-20T21:39:39.883Z"
   },
   {
    "duration": 8,
    "start_time": "2022-04-20T21:39:39.910Z"
   },
   {
    "duration": 10,
    "start_time": "2022-04-20T21:39:39.949Z"
   },
   {
    "duration": 12,
    "start_time": "2022-04-20T21:39:39.960Z"
   },
   {
    "duration": 14,
    "start_time": "2022-04-20T21:39:39.973Z"
   },
   {
    "duration": 8,
    "start_time": "2022-04-20T21:39:39.988Z"
   },
   {
    "duration": 17,
    "start_time": "2022-04-20T21:39:39.998Z"
   },
   {
    "duration": 43,
    "start_time": "2022-04-20T21:39:40.016Z"
   },
   {
    "duration": 87,
    "start_time": "2022-04-20T21:39:40.061Z"
   },
   {
    "duration": 224,
    "start_time": "2022-04-20T21:40:08.586Z"
   },
   {
    "duration": 3,
    "start_time": "2022-04-20T21:40:52.356Z"
   },
   {
    "duration": 36,
    "start_time": "2022-04-20T21:40:52.361Z"
   },
   {
    "duration": 12,
    "start_time": "2022-04-20T21:40:52.399Z"
   },
   {
    "duration": 15,
    "start_time": "2022-04-20T21:40:52.413Z"
   },
   {
    "duration": 3,
    "start_time": "2022-04-20T21:40:52.430Z"
   },
   {
    "duration": 5,
    "start_time": "2022-04-20T21:40:52.448Z"
   },
   {
    "duration": 21,
    "start_time": "2022-04-20T21:40:52.455Z"
   },
   {
    "duration": 22,
    "start_time": "2022-04-20T21:40:52.477Z"
   },
   {
    "duration": 18,
    "start_time": "2022-04-20T21:40:52.500Z"
   },
   {
    "duration": 38,
    "start_time": "2022-04-20T21:40:52.519Z"
   },
   {
    "duration": 14,
    "start_time": "2022-04-20T21:40:52.559Z"
   },
   {
    "duration": 22,
    "start_time": "2022-04-20T21:40:52.574Z"
   },
   {
    "duration": 57,
    "start_time": "2022-04-20T21:40:52.598Z"
   },
   {
    "duration": 9,
    "start_time": "2022-04-20T21:40:52.657Z"
   },
   {
    "duration": 12,
    "start_time": "2022-04-20T21:40:52.668Z"
   },
   {
    "duration": 13,
    "start_time": "2022-04-20T21:40:52.681Z"
   },
   {
    "duration": 16,
    "start_time": "2022-04-20T21:40:52.696Z"
   },
   {
    "duration": 41,
    "start_time": "2022-04-20T21:40:52.713Z"
   },
   {
    "duration": 16,
    "start_time": "2022-04-20T21:40:52.756Z"
   },
   {
    "duration": 12,
    "start_time": "2022-04-20T21:40:52.774Z"
   },
   {
    "duration": 98,
    "start_time": "2022-04-20T21:40:52.788Z"
   },
   {
    "duration": 276,
    "start_time": "2022-04-20T21:40:59.105Z"
   },
   {
    "duration": 258,
    "start_time": "2022-04-20T21:41:47.855Z"
   },
   {
    "duration": 81,
    "start_time": "2022-04-20T21:42:16.602Z"
   },
   {
    "duration": 2,
    "start_time": "2022-04-20T21:42:21.304Z"
   },
   {
    "duration": 35,
    "start_time": "2022-04-20T21:42:21.309Z"
   },
   {
    "duration": 11,
    "start_time": "2022-04-20T21:42:21.346Z"
   },
   {
    "duration": 13,
    "start_time": "2022-04-20T21:42:21.359Z"
   },
   {
    "duration": 4,
    "start_time": "2022-04-20T21:42:21.374Z"
   },
   {
    "duration": 6,
    "start_time": "2022-04-20T21:42:21.379Z"
   },
   {
    "duration": 15,
    "start_time": "2022-04-20T21:42:21.386Z"
   },
   {
    "duration": 49,
    "start_time": "2022-04-20T21:42:21.403Z"
   },
   {
    "duration": 18,
    "start_time": "2022-04-20T21:42:21.454Z"
   },
   {
    "duration": 17,
    "start_time": "2022-04-20T21:42:21.474Z"
   },
   {
    "duration": 13,
    "start_time": "2022-04-20T21:42:21.493Z"
   },
   {
    "duration": 46,
    "start_time": "2022-04-20T21:42:21.507Z"
   },
   {
    "duration": 25,
    "start_time": "2022-04-20T21:42:21.555Z"
   },
   {
    "duration": 8,
    "start_time": "2022-04-20T21:42:21.582Z"
   },
   {
    "duration": 9,
    "start_time": "2022-04-20T21:42:21.593Z"
   },
   {
    "duration": 12,
    "start_time": "2022-04-20T21:42:21.603Z"
   },
   {
    "duration": 15,
    "start_time": "2022-04-20T21:42:21.648Z"
   },
   {
    "duration": 8,
    "start_time": "2022-04-20T21:42:21.665Z"
   },
   {
    "duration": 15,
    "start_time": "2022-04-20T21:42:21.675Z"
   },
   {
    "duration": 13,
    "start_time": "2022-04-20T21:42:21.691Z"
   },
   {
    "duration": 101,
    "start_time": "2022-04-20T21:42:21.705Z"
   },
   {
    "duration": 89,
    "start_time": "2022-04-20T21:42:21.808Z"
   },
   {
    "duration": 83,
    "start_time": "2022-04-20T21:42:27.585Z"
   },
   {
    "duration": 22,
    "start_time": "2022-04-20T21:52:33.331Z"
   },
   {
    "duration": 25,
    "start_time": "2022-04-20T21:53:59.211Z"
   },
   {
    "duration": 49,
    "start_time": "2022-04-20T21:54:47.141Z"
   },
   {
    "duration": 2,
    "start_time": "2022-04-20T21:57:03.476Z"
   },
   {
    "duration": 42,
    "start_time": "2022-04-20T21:57:03.480Z"
   },
   {
    "duration": 13,
    "start_time": "2022-04-20T21:57:03.524Z"
   },
   {
    "duration": 14,
    "start_time": "2022-04-20T21:57:03.539Z"
   },
   {
    "duration": 4,
    "start_time": "2022-04-20T21:57:03.555Z"
   },
   {
    "duration": 6,
    "start_time": "2022-04-20T21:57:03.560Z"
   },
   {
    "duration": 16,
    "start_time": "2022-04-20T21:57:03.567Z"
   },
   {
    "duration": 20,
    "start_time": "2022-04-20T21:57:03.584Z"
   },
   {
    "duration": 41,
    "start_time": "2022-04-20T21:57:03.607Z"
   },
   {
    "duration": 13,
    "start_time": "2022-04-20T21:57:03.650Z"
   },
   {
    "duration": 12,
    "start_time": "2022-04-20T21:57:03.664Z"
   },
   {
    "duration": 23,
    "start_time": "2022-04-20T21:57:03.678Z"
   },
   {
    "duration": 59,
    "start_time": "2022-04-20T21:57:03.702Z"
   },
   {
    "duration": 8,
    "start_time": "2022-04-20T21:57:03.763Z"
   },
   {
    "duration": 10,
    "start_time": "2022-04-20T21:57:03.773Z"
   },
   {
    "duration": 11,
    "start_time": "2022-04-20T21:57:03.785Z"
   },
   {
    "duration": 15,
    "start_time": "2022-04-20T21:57:03.797Z"
   },
   {
    "duration": 41,
    "start_time": "2022-04-20T21:57:03.813Z"
   },
   {
    "duration": 16,
    "start_time": "2022-04-20T21:57:03.856Z"
   },
   {
    "duration": 13,
    "start_time": "2022-04-20T21:57:03.873Z"
   },
   {
    "duration": 95,
    "start_time": "2022-04-20T21:57:03.887Z"
   },
   {
    "duration": 25,
    "start_time": "2022-04-20T21:58:39.221Z"
   },
   {
    "duration": 62,
    "start_time": "2022-04-20T22:02:00.744Z"
   },
   {
    "duration": 46,
    "start_time": "2022-04-20T22:03:29.569Z"
   },
   {
    "duration": 23,
    "start_time": "2022-04-20T22:03:56.562Z"
   },
   {
    "duration": 24,
    "start_time": "2022-04-20T22:05:17.680Z"
   },
   {
    "duration": 3,
    "start_time": "2022-04-20T22:05:27.142Z"
   },
   {
    "duration": 50,
    "start_time": "2022-04-20T22:05:27.154Z"
   },
   {
    "duration": 12,
    "start_time": "2022-04-20T22:05:27.206Z"
   },
   {
    "duration": 15,
    "start_time": "2022-04-20T22:05:27.220Z"
   },
   {
    "duration": 4,
    "start_time": "2022-04-20T22:05:27.236Z"
   },
   {
    "duration": 7,
    "start_time": "2022-04-20T22:05:27.242Z"
   },
   {
    "duration": 15,
    "start_time": "2022-04-20T22:05:27.251Z"
   },
   {
    "duration": 19,
    "start_time": "2022-04-20T22:05:27.268Z"
   },
   {
    "duration": 16,
    "start_time": "2022-04-20T22:05:27.289Z"
   },
   {
    "duration": 11,
    "start_time": "2022-04-20T22:05:27.307Z"
   },
   {
    "duration": 38,
    "start_time": "2022-04-20T22:05:27.320Z"
   },
   {
    "duration": 22,
    "start_time": "2022-04-20T22:05:27.359Z"
   },
   {
    "duration": 26,
    "start_time": "2022-04-20T22:05:27.382Z"
   },
   {
    "duration": 8,
    "start_time": "2022-04-20T22:05:27.409Z"
   },
   {
    "duration": 37,
    "start_time": "2022-04-20T22:05:27.419Z"
   },
   {
    "duration": 11,
    "start_time": "2022-04-20T22:05:27.457Z"
   },
   {
    "duration": 14,
    "start_time": "2022-04-20T22:05:27.469Z"
   },
   {
    "duration": 8,
    "start_time": "2022-04-20T22:05:27.485Z"
   },
   {
    "duration": 15,
    "start_time": "2022-04-20T22:05:27.495Z"
   },
   {
    "duration": 46,
    "start_time": "2022-04-20T22:05:27.512Z"
   },
   {
    "duration": 66,
    "start_time": "2022-04-20T22:05:27.560Z"
   },
   {
    "duration": 24,
    "start_time": "2022-04-20T22:05:36.796Z"
   },
   {
    "duration": 11,
    "start_time": "2022-04-20T22:05:51.781Z"
   },
   {
    "duration": 24,
    "start_time": "2022-04-20T22:06:00.161Z"
   },
   {
    "duration": 26,
    "start_time": "2022-04-20T22:06:16.610Z"
   },
   {
    "duration": 23,
    "start_time": "2022-04-20T22:07:45.908Z"
   },
   {
    "duration": 5,
    "start_time": "2022-04-20T22:07:54.908Z"
   },
   {
    "duration": 8,
    "start_time": "2022-04-20T22:08:10.522Z"
   },
   {
    "duration": 10,
    "start_time": "2022-04-20T22:08:16.468Z"
   },
   {
    "duration": 9,
    "start_time": "2022-04-20T22:08:26.688Z"
   },
   {
    "duration": 9,
    "start_time": "2022-04-20T22:08:45.210Z"
   },
   {
    "duration": 46,
    "start_time": "2022-04-20T22:10:33.453Z"
   },
   {
    "duration": 37,
    "start_time": "2022-04-20T22:11:54.070Z"
   },
   {
    "duration": 39,
    "start_time": "2022-04-20T22:12:16.977Z"
   },
   {
    "duration": 87,
    "start_time": "2022-04-20T22:12:27.809Z"
   },
   {
    "duration": 91,
    "start_time": "2022-04-20T22:22:37.419Z"
   },
   {
    "duration": 21,
    "start_time": "2022-04-20T23:18:08.099Z"
   },
   {
    "duration": 20,
    "start_time": "2022-04-20T23:18:15.122Z"
   },
   {
    "duration": 10,
    "start_time": "2022-04-20T23:20:54.485Z"
   },
   {
    "duration": 9,
    "start_time": "2022-04-20T23:21:18.660Z"
   },
   {
    "duration": 3,
    "start_time": "2022-04-20T23:21:28.043Z"
   },
   {
    "duration": 34,
    "start_time": "2022-04-20T23:21:28.049Z"
   },
   {
    "duration": 12,
    "start_time": "2022-04-20T23:21:28.085Z"
   },
   {
    "duration": 14,
    "start_time": "2022-04-20T23:21:28.099Z"
   },
   {
    "duration": 4,
    "start_time": "2022-04-20T23:21:28.116Z"
   },
   {
    "duration": 26,
    "start_time": "2022-04-20T23:21:28.122Z"
   },
   {
    "duration": 15,
    "start_time": "2022-04-20T23:21:28.150Z"
   },
   {
    "duration": 19,
    "start_time": "2022-04-20T23:21:28.166Z"
   },
   {
    "duration": 16,
    "start_time": "2022-04-20T23:21:28.186Z"
   },
   {
    "duration": 45,
    "start_time": "2022-04-20T23:21:28.203Z"
   },
   {
    "duration": 12,
    "start_time": "2022-04-20T23:21:28.250Z"
   },
   {
    "duration": 20,
    "start_time": "2022-04-20T23:21:28.264Z"
   },
   {
    "duration": 24,
    "start_time": "2022-04-20T23:21:28.286Z"
   },
   {
    "duration": 8,
    "start_time": "2022-04-20T23:21:28.312Z"
   },
   {
    "duration": 10,
    "start_time": "2022-04-20T23:21:28.347Z"
   },
   {
    "duration": 11,
    "start_time": "2022-04-20T23:21:28.358Z"
   },
   {
    "duration": 14,
    "start_time": "2022-04-20T23:21:28.371Z"
   },
   {
    "duration": 9,
    "start_time": "2022-04-20T23:21:28.386Z"
   },
   {
    "duration": 17,
    "start_time": "2022-04-20T23:21:36.646Z"
   },
   {
    "duration": 17,
    "start_time": "2022-04-20T23:21:46.805Z"
   },
   {
    "duration": 18,
    "start_time": "2022-04-20T23:22:05.723Z"
   },
   {
    "duration": 21,
    "start_time": "2022-04-20T23:22:42.549Z"
   },
   {
    "duration": 24,
    "start_time": "2022-04-20T23:25:40.268Z"
   },
   {
    "duration": 26,
    "start_time": "2022-04-20T23:26:26.849Z"
   },
   {
    "duration": 5,
    "start_time": "2022-04-20T23:27:17.590Z"
   },
   {
    "duration": 14,
    "start_time": "2022-04-20T23:27:24.303Z"
   },
   {
    "duration": 14,
    "start_time": "2022-04-20T23:27:53.788Z"
   },
   {
    "duration": 17,
    "start_time": "2022-04-20T23:29:05.239Z"
   },
   {
    "duration": 2,
    "start_time": "2022-04-20T23:36:05.520Z"
   },
   {
    "duration": 36,
    "start_time": "2022-04-20T23:36:05.524Z"
   },
   {
    "duration": 12,
    "start_time": "2022-04-20T23:36:05.561Z"
   },
   {
    "duration": 16,
    "start_time": "2022-04-20T23:36:05.575Z"
   },
   {
    "duration": 3,
    "start_time": "2022-04-20T23:36:05.593Z"
   },
   {
    "duration": 6,
    "start_time": "2022-04-20T23:36:05.597Z"
   },
   {
    "duration": 16,
    "start_time": "2022-04-20T23:36:05.605Z"
   },
   {
    "duration": 22,
    "start_time": "2022-04-20T23:36:05.647Z"
   },
   {
    "duration": 16,
    "start_time": "2022-04-20T23:36:05.671Z"
   },
   {
    "duration": 15,
    "start_time": "2022-04-20T23:36:05.689Z"
   },
   {
    "duration": 12,
    "start_time": "2022-04-20T23:36:05.707Z"
   },
   {
    "duration": 22,
    "start_time": "2022-04-20T23:36:05.748Z"
   },
   {
    "duration": 34,
    "start_time": "2022-04-20T23:36:05.771Z"
   },
   {
    "duration": 10,
    "start_time": "2022-04-20T23:36:05.807Z"
   },
   {
    "duration": 37,
    "start_time": "2022-04-20T23:36:05.818Z"
   },
   {
    "duration": 11,
    "start_time": "2022-04-20T23:36:05.857Z"
   },
   {
    "duration": 14,
    "start_time": "2022-04-20T23:36:05.870Z"
   },
   {
    "duration": 9,
    "start_time": "2022-04-20T23:36:05.885Z"
   },
   {
    "duration": 16,
    "start_time": "2022-04-20T23:36:05.895Z"
   },
   {
    "duration": 20,
    "start_time": "2022-04-20T23:36:05.948Z"
   },
   {
    "duration": 19,
    "start_time": "2022-04-20T23:36:11.848Z"
   },
   {
    "duration": 22,
    "start_time": "2022-04-20T23:37:00.083Z"
   },
   {
    "duration": 14,
    "start_time": "2022-04-20T23:40:50.682Z"
   },
   {
    "duration": 15,
    "start_time": "2022-04-20T23:43:39.190Z"
   },
   {
    "duration": 6,
    "start_time": "2022-04-21T00:00:43.180Z"
   },
   {
    "duration": 7,
    "start_time": "2022-04-21T00:05:07.572Z"
   },
   {
    "duration": 8,
    "start_time": "2022-04-21T00:05:23.141Z"
   },
   {
    "duration": 5,
    "start_time": "2022-04-21T00:05:31.166Z"
   },
   {
    "duration": 6,
    "start_time": "2022-04-21T00:05:36.623Z"
   },
   {
    "duration": 7,
    "start_time": "2022-04-21T00:05:42.901Z"
   },
   {
    "duration": 526,
    "start_time": "2022-04-21T00:06:04.878Z"
   },
   {
    "duration": 148,
    "start_time": "2022-04-21T00:07:34.847Z"
   },
   {
    "duration": 145,
    "start_time": "2022-04-21T00:07:44.158Z"
   },
   {
    "duration": 146,
    "start_time": "2022-04-21T00:07:48.790Z"
   },
   {
    "duration": 152,
    "start_time": "2022-04-21T00:08:28.606Z"
   },
   {
    "duration": 153,
    "start_time": "2022-04-21T00:09:06.689Z"
   },
   {
    "duration": 168,
    "start_time": "2022-04-21T00:09:20.504Z"
   },
   {
    "duration": 184,
    "start_time": "2022-04-21T00:10:05.398Z"
   },
   {
    "duration": 179,
    "start_time": "2022-04-21T00:10:42.997Z"
   },
   {
    "duration": 8,
    "start_time": "2022-04-21T00:13:37.042Z"
   },
   {
    "duration": 193,
    "start_time": "2022-04-21T00:13:43.958Z"
   },
   {
    "duration": 199,
    "start_time": "2022-04-21T00:14:47.145Z"
   },
   {
    "duration": 454,
    "start_time": "2022-04-21T00:15:13.963Z"
   },
   {
    "duration": 50,
    "start_time": "2022-04-21T03:07:15.803Z"
   },
   {
    "duration": 77,
    "start_time": "2022-04-21T03:17:00.712Z"
   },
   {
    "duration": 104,
    "start_time": "2022-04-21T03:21:38.931Z"
   },
   {
    "duration": 105,
    "start_time": "2022-04-21T03:25:48.261Z"
   },
   {
    "duration": 103,
    "start_time": "2022-04-21T03:26:19.890Z"
   },
   {
    "duration": 592,
    "start_time": "2022-04-21T03:27:39.338Z"
   },
   {
    "duration": 105,
    "start_time": "2022-04-21T03:28:51.395Z"
   },
   {
    "duration": 107,
    "start_time": "2022-04-21T03:29:45.930Z"
   },
   {
    "duration": 581,
    "start_time": "2022-04-21T03:29:57.623Z"
   },
   {
    "duration": 583,
    "start_time": "2022-04-21T03:30:40.545Z"
   },
   {
    "duration": 553,
    "start_time": "2022-04-21T03:31:02.373Z"
   },
   {
    "duration": 102,
    "start_time": "2022-04-21T03:31:30.539Z"
   },
   {
    "duration": 543,
    "start_time": "2022-04-21T03:32:02.531Z"
   },
   {
    "duration": 26,
    "start_time": "2022-04-21T03:32:43.015Z"
   },
   {
    "duration": 25,
    "start_time": "2022-04-21T03:33:00.911Z"
   },
   {
    "duration": 589,
    "start_time": "2022-04-21T03:33:10.119Z"
   },
   {
    "duration": 25,
    "start_time": "2022-04-21T03:36:03.009Z"
   },
   {
    "duration": 19,
    "start_time": "2022-04-21T03:36:18.207Z"
   },
   {
    "duration": 41,
    "start_time": "2022-04-21T03:36:27.664Z"
   },
   {
    "duration": 107,
    "start_time": "2022-04-21T03:37:07.352Z"
   },
   {
    "duration": 104,
    "start_time": "2022-04-21T03:37:22.444Z"
   },
   {
    "duration": 106,
    "start_time": "2022-04-21T03:37:50.990Z"
   },
   {
    "duration": 105,
    "start_time": "2022-04-21T03:38:56.870Z"
   },
   {
    "duration": 49,
    "start_time": "2022-04-21T03:57:56.458Z"
   },
   {
    "duration": 49,
    "start_time": "2022-04-21T03:58:01.585Z"
   },
   {
    "duration": 42,
    "start_time": "2022-04-21T03:58:12.011Z"
   },
   {
    "duration": 48,
    "start_time": "2022-04-21T03:58:28.475Z"
   },
   {
    "duration": 44,
    "start_time": "2022-04-21T03:58:38.758Z"
   },
   {
    "duration": 42,
    "start_time": "2022-04-21T03:58:46.379Z"
   },
   {
    "duration": 47,
    "start_time": "2022-04-21T03:58:54.652Z"
   },
   {
    "duration": 43,
    "start_time": "2022-04-21T03:59:49.885Z"
   },
   {
    "duration": 106,
    "start_time": "2022-04-21T04:00:02.918Z"
   },
   {
    "duration": 459,
    "start_time": "2022-04-21T04:08:43.000Z"
   },
   {
    "duration": 104,
    "start_time": "2022-04-21T04:09:05.682Z"
   },
   {
    "duration": 120,
    "start_time": "2022-04-21T04:09:15.620Z"
   },
   {
    "duration": 45,
    "start_time": "2022-04-21T04:14:43.525Z"
   },
   {
    "duration": 103,
    "start_time": "2022-04-21T04:15:12.872Z"
   },
   {
    "duration": 103,
    "start_time": "2022-04-21T04:16:28.306Z"
   },
   {
    "duration": 4,
    "start_time": "2022-04-21T04:52:17.753Z"
   },
   {
    "duration": 8,
    "start_time": "2022-04-21T04:52:31.304Z"
   },
   {
    "duration": 8,
    "start_time": "2022-04-21T04:58:15.264Z"
   },
   {
    "duration": 8,
    "start_time": "2022-04-21T04:59:04.707Z"
   },
   {
    "duration": 66,
    "start_time": "2022-04-21T04:59:16.791Z"
   },
   {
    "duration": 9,
    "start_time": "2022-04-21T04:59:51.597Z"
   },
   {
    "duration": 3,
    "start_time": "2022-04-21T17:00:49.868Z"
   },
   {
    "duration": 38,
    "start_time": "2022-04-21T17:00:49.873Z"
   },
   {
    "duration": 13,
    "start_time": "2022-04-21T17:00:49.913Z"
   },
   {
    "duration": 15,
    "start_time": "2022-04-21T17:00:49.927Z"
   },
   {
    "duration": 5,
    "start_time": "2022-04-21T17:00:49.944Z"
   },
   {
    "duration": 5,
    "start_time": "2022-04-21T17:00:49.951Z"
   },
   {
    "duration": 16,
    "start_time": "2022-04-21T17:00:49.958Z"
   },
   {
    "duration": 20,
    "start_time": "2022-04-21T17:00:49.976Z"
   },
   {
    "duration": 50,
    "start_time": "2022-04-21T17:00:49.998Z"
   },
   {
    "duration": 13,
    "start_time": "2022-04-21T17:00:50.050Z"
   },
   {
    "duration": 22,
    "start_time": "2022-04-21T17:00:50.065Z"
   },
   {
    "duration": 29,
    "start_time": "2022-04-21T17:00:50.089Z"
   },
   {
    "duration": 44,
    "start_time": "2022-04-21T17:00:50.120Z"
   },
   {
    "duration": 10,
    "start_time": "2022-04-21T17:00:50.166Z"
   },
   {
    "duration": 10,
    "start_time": "2022-04-21T17:00:50.178Z"
   },
   {
    "duration": 12,
    "start_time": "2022-04-21T17:00:50.190Z"
   },
   {
    "duration": 45,
    "start_time": "2022-04-21T17:00:50.204Z"
   },
   {
    "duration": 9,
    "start_time": "2022-04-21T17:00:50.251Z"
   },
   {
    "duration": 17,
    "start_time": "2022-04-21T17:00:50.262Z"
   },
   {
    "duration": 21,
    "start_time": "2022-04-21T17:00:50.281Z"
   },
   {
    "duration": 51,
    "start_time": "2022-04-21T17:00:50.304Z"
   },
   {
    "duration": 22,
    "start_time": "2022-04-21T17:00:50.357Z"
   },
   {
    "duration": 2,
    "start_time": "2022-04-21T17:00:50.381Z"
   },
   {
    "duration": 15,
    "start_time": "2022-04-21T17:00:50.385Z"
   },
   {
    "duration": 14,
    "start_time": "2022-04-21T17:00:50.402Z"
   },
   {
    "duration": 33,
    "start_time": "2022-04-21T17:00:50.418Z"
   },
   {
    "duration": 219,
    "start_time": "2022-04-21T17:00:50.452Z"
   },
   {
    "duration": 115,
    "start_time": "2022-04-21T17:00:50.673Z"
   },
   {
    "duration": 8,
    "start_time": "2022-04-21T17:00:50.791Z"
   },
   {
    "duration": 41,
    "start_time": "2022-04-21T17:20:51.369Z"
   },
   {
    "duration": 41,
    "start_time": "2022-04-21T17:23:55.178Z"
   },
   {
    "duration": 39,
    "start_time": "2022-04-21T17:28:17.439Z"
   },
   {
    "duration": 1662,
    "start_time": "2022-04-21T17:32:26.335Z"
   },
   {
    "duration": 1827,
    "start_time": "2022-04-21T17:32:33.209Z"
   },
   {
    "duration": 1278,
    "start_time": "2022-04-21T17:32:43.462Z"
   },
   {
    "duration": 31,
    "start_time": "2022-04-21T17:36:04.293Z"
   },
   {
    "duration": 34,
    "start_time": "2022-04-21T17:36:51.384Z"
   },
   {
    "duration": 648,
    "start_time": "2022-04-21T17:37:20.568Z"
   },
   {
    "duration": 3,
    "start_time": "2022-04-21T17:37:36.127Z"
   },
   {
    "duration": 32,
    "start_time": "2022-04-21T17:37:36.134Z"
   },
   {
    "duration": 12,
    "start_time": "2022-04-21T17:37:36.168Z"
   },
   {
    "duration": 14,
    "start_time": "2022-04-21T17:37:36.181Z"
   },
   {
    "duration": 3,
    "start_time": "2022-04-21T17:37:36.197Z"
   },
   {
    "duration": 8,
    "start_time": "2022-04-21T17:37:36.202Z"
   },
   {
    "duration": 38,
    "start_time": "2022-04-21T17:37:36.212Z"
   },
   {
    "duration": 21,
    "start_time": "2022-04-21T17:37:36.252Z"
   },
   {
    "duration": 18,
    "start_time": "2022-04-21T17:37:36.275Z"
   },
   {
    "duration": 13,
    "start_time": "2022-04-21T17:37:36.295Z"
   },
   {
    "duration": 42,
    "start_time": "2022-04-21T17:37:36.310Z"
   },
   {
    "duration": 25,
    "start_time": "2022-04-21T17:37:36.354Z"
   },
   {
    "duration": 28,
    "start_time": "2022-04-21T17:37:36.381Z"
   },
   {
    "duration": 8,
    "start_time": "2022-04-21T17:37:36.411Z"
   },
   {
    "duration": 10,
    "start_time": "2022-04-21T17:37:36.449Z"
   },
   {
    "duration": 12,
    "start_time": "2022-04-21T17:37:36.461Z"
   },
   {
    "duration": 14,
    "start_time": "2022-04-21T17:37:36.475Z"
   },
   {
    "duration": 8,
    "start_time": "2022-04-21T17:37:36.491Z"
   },
   {
    "duration": 52,
    "start_time": "2022-04-21T17:37:36.501Z"
   },
   {
    "duration": 20,
    "start_time": "2022-04-21T17:37:36.555Z"
   },
   {
    "duration": 17,
    "start_time": "2022-04-21T17:37:36.577Z"
   },
   {
    "duration": 22,
    "start_time": "2022-04-21T17:37:36.596Z"
   },
   {
    "duration": 2,
    "start_time": "2022-04-21T17:37:36.619Z"
   },
   {
    "duration": 14,
    "start_time": "2022-04-21T17:37:36.647Z"
   },
   {
    "duration": 14,
    "start_time": "2022-04-21T17:37:36.662Z"
   },
   {
    "duration": 12,
    "start_time": "2022-04-21T17:37:36.678Z"
   },
   {
    "duration": 221,
    "start_time": "2022-04-21T17:37:36.691Z"
   },
   {
    "duration": 117,
    "start_time": "2022-04-21T17:37:36.914Z"
   },
   {
    "duration": 7,
    "start_time": "2022-04-21T17:37:37.033Z"
   },
   {
    "duration": 30,
    "start_time": "2022-04-21T17:37:51.067Z"
   },
   {
    "duration": 14,
    "start_time": "2022-04-21T17:43:43.031Z"
   },
   {
    "duration": 31,
    "start_time": "2022-04-21T17:44:00.029Z"
   },
   {
    "duration": 564,
    "start_time": "2022-04-21T17:44:50.510Z"
   },
   {
    "duration": 123,
    "start_time": "2022-04-21T17:45:17.853Z"
   },
   {
    "duration": 1666,
    "start_time": "2022-04-21T17:45:25.186Z"
   },
   {
    "duration": 2091,
    "start_time": "2022-04-21T17:45:50.011Z"
   },
   {
    "duration": 1769,
    "start_time": "2022-04-21T17:47:06.495Z"
   },
   {
    "duration": 2,
    "start_time": "2022-04-21T18:07:53.389Z"
   },
   {
    "duration": 33,
    "start_time": "2022-04-21T18:07:53.396Z"
   },
   {
    "duration": 13,
    "start_time": "2022-04-21T18:07:53.431Z"
   },
   {
    "duration": 14,
    "start_time": "2022-04-21T18:07:53.446Z"
   },
   {
    "duration": 4,
    "start_time": "2022-04-21T18:07:53.462Z"
   },
   {
    "duration": 13,
    "start_time": "2022-04-21T18:07:53.469Z"
   },
   {
    "duration": 19,
    "start_time": "2022-04-21T18:07:53.484Z"
   },
   {
    "duration": 43,
    "start_time": "2022-04-21T18:07:53.505Z"
   },
   {
    "duration": 17,
    "start_time": "2022-04-21T18:07:53.550Z"
   },
   {
    "duration": 12,
    "start_time": "2022-04-21T18:07:53.569Z"
   },
   {
    "duration": 13,
    "start_time": "2022-04-21T18:07:53.582Z"
   },
   {
    "duration": 22,
    "start_time": "2022-04-21T18:07:53.596Z"
   },
   {
    "duration": 51,
    "start_time": "2022-04-21T18:07:53.620Z"
   },
   {
    "duration": 8,
    "start_time": "2022-04-21T18:07:53.673Z"
   },
   {
    "duration": 10,
    "start_time": "2022-04-21T18:07:53.684Z"
   },
   {
    "duration": 12,
    "start_time": "2022-04-21T18:07:53.696Z"
   },
   {
    "duration": 45,
    "start_time": "2022-04-21T18:07:53.709Z"
   },
   {
    "duration": 9,
    "start_time": "2022-04-21T18:07:53.756Z"
   },
   {
    "duration": 8,
    "start_time": "2022-04-21T18:17:21.451Z"
   },
   {
    "duration": 14,
    "start_time": "2022-04-21T18:17:46.811Z"
   },
   {
    "duration": 23,
    "start_time": "2022-04-21T18:18:39.154Z"
   },
   {
    "duration": 14,
    "start_time": "2022-04-21T18:19:01.807Z"
   },
   {
    "duration": 15,
    "start_time": "2022-04-21T18:19:10.268Z"
   },
   {
    "duration": 5,
    "start_time": "2022-04-21T18:19:25.206Z"
   },
   {
    "duration": 202,
    "start_time": "2022-04-21T18:19:31.703Z"
   },
   {
    "duration": 107,
    "start_time": "2022-04-21T18:20:19.290Z"
   },
   {
    "duration": 8,
    "start_time": "2022-04-21T18:20:40.001Z"
   },
   {
    "duration": 30,
    "start_time": "2022-04-21T18:22:02.584Z"
   },
   {
    "duration": 7,
    "start_time": "2022-04-21T18:22:50.373Z"
   },
   {
    "duration": 30,
    "start_time": "2022-04-21T18:23:12.205Z"
   },
   {
    "duration": 7,
    "start_time": "2022-04-21T18:23:16.309Z"
   },
   {
    "duration": 29,
    "start_time": "2022-04-21T18:23:43.551Z"
   },
   {
    "duration": 8,
    "start_time": "2022-04-21T19:57:06.301Z"
   },
   {
    "duration": 4,
    "start_time": "2022-04-21T19:57:11.938Z"
   },
   {
    "duration": 2216,
    "start_time": "2022-04-21T19:57:35.788Z"
   },
   {
    "duration": 588,
    "start_time": "2022-04-21T19:58:07.443Z"
   },
   {
    "duration": 12,
    "start_time": "2022-04-21T19:58:30.883Z"
   },
   {
    "duration": 323,
    "start_time": "2022-04-21T21:09:11.599Z"
   },
   {
    "duration": 323,
    "start_time": "2022-04-21T21:10:30.497Z"
   },
   {
    "duration": 1714,
    "start_time": "2022-04-21T21:12:39.178Z"
   },
   {
    "duration": 201,
    "start_time": "2022-04-21T21:14:27.946Z"
   },
   {
    "duration": 178,
    "start_time": "2022-04-21T21:15:47.816Z"
   },
   {
    "duration": 549,
    "start_time": "2022-04-21T21:16:26.548Z"
   },
   {
    "duration": 215,
    "start_time": "2022-04-21T21:19:47.021Z"
   },
   {
    "duration": 2,
    "start_time": "2022-04-21T21:22:17.280Z"
   },
   {
    "duration": 35,
    "start_time": "2022-04-21T21:22:17.284Z"
   },
   {
    "duration": 12,
    "start_time": "2022-04-21T21:22:17.320Z"
   },
   {
    "duration": 14,
    "start_time": "2022-04-21T21:22:17.334Z"
   },
   {
    "duration": 3,
    "start_time": "2022-04-21T21:22:17.351Z"
   },
   {
    "duration": 4,
    "start_time": "2022-04-21T21:22:17.356Z"
   },
   {
    "duration": 17,
    "start_time": "2022-04-21T21:22:17.361Z"
   },
   {
    "duration": 20,
    "start_time": "2022-04-21T21:22:17.380Z"
   },
   {
    "duration": 45,
    "start_time": "2022-04-21T21:22:17.402Z"
   },
   {
    "duration": 13,
    "start_time": "2022-04-21T21:22:17.449Z"
   },
   {
    "duration": 12,
    "start_time": "2022-04-21T21:22:17.465Z"
   },
   {
    "duration": 23,
    "start_time": "2022-04-21T21:22:17.479Z"
   },
   {
    "duration": 56,
    "start_time": "2022-04-21T21:22:17.503Z"
   },
   {
    "duration": 9,
    "start_time": "2022-04-21T21:22:17.560Z"
   },
   {
    "duration": 11,
    "start_time": "2022-04-21T21:22:17.570Z"
   },
   {
    "duration": 11,
    "start_time": "2022-04-21T21:22:17.582Z"
   },
   {
    "duration": 15,
    "start_time": "2022-04-21T21:22:17.595Z"
   },
   {
    "duration": 42,
    "start_time": "2022-04-21T21:22:17.612Z"
   },
   {
    "duration": 14,
    "start_time": "2022-04-21T21:22:17.656Z"
   },
   {
    "duration": 23,
    "start_time": "2022-04-21T21:22:17.672Z"
   },
   {
    "duration": 14,
    "start_time": "2022-04-21T21:22:17.696Z"
   },
   {
    "duration": 43,
    "start_time": "2022-04-21T21:22:17.711Z"
   },
   {
    "duration": 7,
    "start_time": "2022-04-21T21:22:17.756Z"
   },
   {
    "duration": 222,
    "start_time": "2022-04-21T21:22:17.764Z"
   },
   {
    "duration": 112,
    "start_time": "2022-04-21T21:22:17.988Z"
   },
   {
    "duration": 8,
    "start_time": "2022-04-21T21:22:18.101Z"
   },
   {
    "duration": 32,
    "start_time": "2022-04-21T21:22:22.020Z"
   },
   {
    "duration": 31,
    "start_time": "2022-04-21T21:22:30.422Z"
   },
   {
    "duration": 29,
    "start_time": "2022-04-21T21:22:58.813Z"
   },
   {
    "duration": 215,
    "start_time": "2022-04-21T21:23:02.703Z"
   },
   {
    "duration": 31,
    "start_time": "2022-04-21T21:27:21.376Z"
   },
   {
    "duration": 30,
    "start_time": "2022-04-21T21:27:34.134Z"
   },
   {
    "duration": 30,
    "start_time": "2022-04-21T21:33:44.958Z"
   },
   {
    "duration": 30,
    "start_time": "2022-04-21T21:33:54.075Z"
   },
   {
    "duration": 13,
    "start_time": "2022-04-21T22:06:06.964Z"
   },
   {
    "duration": 11,
    "start_time": "2022-04-21T22:12:18.201Z"
   },
   {
    "duration": 11,
    "start_time": "2022-04-21T22:12:52.428Z"
   },
   {
    "duration": 12,
    "start_time": "2022-04-21T22:13:03.024Z"
   },
   {
    "duration": 13,
    "start_time": "2022-04-21T22:13:25.947Z"
   },
   {
    "duration": 12,
    "start_time": "2022-04-21T22:13:43.913Z"
   },
   {
    "duration": 12,
    "start_time": "2022-04-21T22:14:12.651Z"
   },
   {
    "duration": 13,
    "start_time": "2022-04-21T22:14:39.031Z"
   },
   {
    "duration": 13,
    "start_time": "2022-04-21T22:15:34.474Z"
   },
   {
    "duration": 12,
    "start_time": "2022-04-21T22:15:46.141Z"
   },
   {
    "duration": 14,
    "start_time": "2022-04-21T22:16:01.844Z"
   },
   {
    "duration": 13,
    "start_time": "2022-04-21T22:17:15.198Z"
   },
   {
    "duration": 15,
    "start_time": "2022-04-21T22:17:39.790Z"
   },
   {
    "duration": 12,
    "start_time": "2022-04-21T22:17:58.736Z"
   },
   {
    "duration": 13,
    "start_time": "2022-04-21T22:18:07.164Z"
   },
   {
    "duration": 18,
    "start_time": "2022-04-21T22:19:05.066Z"
   },
   {
    "duration": 27,
    "start_time": "2022-04-21T22:20:20.430Z"
   },
   {
    "duration": 23,
    "start_time": "2022-04-21T22:20:30.573Z"
   },
   {
    "duration": 16,
    "start_time": "2022-04-21T22:22:04.334Z"
   },
   {
    "duration": 16,
    "start_time": "2022-04-21T22:22:26.881Z"
   },
   {
    "duration": 20,
    "start_time": "2022-04-21T22:22:53.671Z"
   },
   {
    "duration": 24,
    "start_time": "2022-04-21T22:23:32.200Z"
   },
   {
    "duration": 20,
    "start_time": "2022-04-21T22:24:17.445Z"
   },
   {
    "duration": 23,
    "start_time": "2022-04-21T22:29:52.538Z"
   },
   {
    "duration": 15,
    "start_time": "2022-04-21T22:30:25.774Z"
   },
   {
    "duration": 31,
    "start_time": "2022-04-21T22:32:01.134Z"
   },
   {
    "duration": 3,
    "start_time": "2022-04-21T22:58:29.176Z"
   },
   {
    "duration": 107,
    "start_time": "2022-04-21T23:00:47.266Z"
   },
   {
    "duration": 1773,
    "start_time": "2022-04-21T23:17:34.304Z"
   },
   {
    "duration": 122,
    "start_time": "2022-04-21T23:17:45.399Z"
   },
   {
    "duration": 1723,
    "start_time": "2022-04-21T23:20:52.331Z"
   },
   {
    "duration": 120,
    "start_time": "2022-04-21T23:22:21.013Z"
   },
   {
    "duration": 161,
    "start_time": "2022-04-21T23:24:21.061Z"
   },
   {
    "duration": 91,
    "start_time": "2022-04-21T23:24:42.511Z"
   },
   {
    "duration": 93,
    "start_time": "2022-04-21T23:25:04.843Z"
   },
   {
    "duration": 73,
    "start_time": "2022-04-21T23:25:26.910Z"
   },
   {
    "duration": 362,
    "start_time": "2022-04-21T23:26:22.540Z"
   },
   {
    "duration": 80,
    "start_time": "2022-04-21T23:28:44.511Z"
   },
   {
    "duration": 85,
    "start_time": "2022-04-21T23:31:58.335Z"
   },
   {
    "duration": 86,
    "start_time": "2022-04-21T23:34:57.718Z"
   },
   {
    "duration": 591,
    "start_time": "2022-04-21T23:36:17.251Z"
   },
   {
    "duration": 392,
    "start_time": "2022-04-21T23:39:01.374Z"
   },
   {
    "duration": 12,
    "start_time": "2022-04-21T23:47:53.152Z"
   },
   {
    "duration": 3,
    "start_time": "2022-04-21T23:48:23.073Z"
   },
   {
    "duration": 42,
    "start_time": "2022-04-21T23:48:23.079Z"
   },
   {
    "duration": 12,
    "start_time": "2022-04-21T23:48:23.123Z"
   },
   {
    "duration": 14,
    "start_time": "2022-04-21T23:48:23.136Z"
   },
   {
    "duration": 3,
    "start_time": "2022-04-21T23:48:23.152Z"
   },
   {
    "duration": 9,
    "start_time": "2022-04-21T23:48:23.157Z"
   },
   {
    "duration": 17,
    "start_time": "2022-04-21T23:48:23.167Z"
   },
   {
    "duration": 20,
    "start_time": "2022-04-21T23:48:23.185Z"
   },
   {
    "duration": 42,
    "start_time": "2022-04-21T23:48:23.207Z"
   },
   {
    "duration": 13,
    "start_time": "2022-04-21T23:48:23.250Z"
   },
   {
    "duration": 12,
    "start_time": "2022-04-21T23:48:23.264Z"
   },
   {
    "duration": 21,
    "start_time": "2022-04-21T23:48:23.278Z"
   },
   {
    "duration": 50,
    "start_time": "2022-04-21T23:48:23.300Z"
   },
   {
    "duration": 9,
    "start_time": "2022-04-21T23:48:23.351Z"
   },
   {
    "duration": 9,
    "start_time": "2022-04-21T23:48:23.363Z"
   },
   {
    "duration": 11,
    "start_time": "2022-04-21T23:48:23.373Z"
   },
   {
    "duration": 14,
    "start_time": "2022-04-21T23:48:23.386Z"
   },
   {
    "duration": 8,
    "start_time": "2022-04-21T23:48:23.401Z"
   },
   {
    "duration": 14,
    "start_time": "2022-04-21T23:48:23.447Z"
   },
   {
    "duration": 24,
    "start_time": "2022-04-21T23:48:23.462Z"
   },
   {
    "duration": 14,
    "start_time": "2022-04-21T23:48:23.487Z"
   },
   {
    "duration": 14,
    "start_time": "2022-04-21T23:48:23.502Z"
   },
   {
    "duration": 5,
    "start_time": "2022-04-21T23:48:23.517Z"
   },
   {
    "duration": 203,
    "start_time": "2022-04-21T23:48:23.548Z"
   },
   {
    "duration": 118,
    "start_time": "2022-04-21T23:48:23.752Z"
   },
   {
    "duration": 7,
    "start_time": "2022-04-21T23:48:23.871Z"
   },
   {
    "duration": 28,
    "start_time": "2022-04-21T23:48:23.880Z"
   },
   {
    "duration": 221,
    "start_time": "2022-04-21T23:48:23.910Z"
   },
   {
    "duration": 32,
    "start_time": "2022-04-21T23:48:24.133Z"
   },
   {
    "duration": 386,
    "start_time": "2022-04-21T23:48:28.345Z"
   },
   {
    "duration": 21,
    "start_time": "2022-04-21T23:51:38.890Z"
   },
   {
    "duration": 21,
    "start_time": "2022-04-21T23:53:44.274Z"
   },
   {
    "duration": 16,
    "start_time": "2022-04-21T23:57:19.553Z"
   },
   {
    "duration": 543,
    "start_time": "2022-04-22T00:56:10.288Z"
   },
   {
    "duration": 2,
    "start_time": "2022-04-22T03:44:12.054Z"
   },
   {
    "duration": 34,
    "start_time": "2022-04-22T03:44:12.060Z"
   },
   {
    "duration": 13,
    "start_time": "2022-04-22T03:44:15.955Z"
   },
   {
    "duration": 19,
    "start_time": "2022-04-22T03:44:37.133Z"
   },
   {
    "duration": 8,
    "start_time": "2022-04-22T03:46:03.682Z"
   },
   {
    "duration": 20,
    "start_time": "2022-04-22T03:47:18.559Z"
   },
   {
    "duration": 12,
    "start_time": "2022-04-22T03:48:50.949Z"
   },
   {
    "duration": 4,
    "start_time": "2022-04-22T03:48:56.125Z"
   },
   {
    "duration": 5,
    "start_time": "2022-04-22T03:48:57.403Z"
   },
   {
    "duration": 16,
    "start_time": "2022-04-22T03:49:00.044Z"
   },
   {
    "duration": 20,
    "start_time": "2022-04-22T03:49:02.805Z"
   },
   {
    "duration": 17,
    "start_time": "2022-04-22T03:49:05.045Z"
   },
   {
    "duration": 13,
    "start_time": "2022-04-22T03:49:08.635Z"
   },
   {
    "duration": 12,
    "start_time": "2022-04-22T03:49:09.926Z"
   },
   {
    "duration": 22,
    "start_time": "2022-04-22T03:49:13.429Z"
   },
   {
    "duration": 27,
    "start_time": "2022-04-22T03:49:14.894Z"
   },
   {
    "duration": 9,
    "start_time": "2022-04-22T03:49:19.113Z"
   },
   {
    "duration": 10,
    "start_time": "2022-04-22T03:49:20.315Z"
   },
   {
    "duration": 13,
    "start_time": "2022-04-22T03:49:26.749Z"
   },
   {
    "duration": 15,
    "start_time": "2022-04-22T03:49:31.750Z"
   },
   {
    "duration": 10,
    "start_time": "2022-04-22T03:51:13.823Z"
   },
   {
    "duration": 15,
    "start_time": "2022-04-22T03:51:17.791Z"
   },
   {
    "duration": 22,
    "start_time": "2022-04-22T03:51:23.767Z"
   },
   {
    "duration": 15,
    "start_time": "2022-04-22T03:51:31.181Z"
   },
   {
    "duration": 14,
    "start_time": "2022-04-22T03:51:36.854Z"
   },
   {
    "duration": 5,
    "start_time": "2022-04-22T03:51:42.933Z"
   },
   {
    "duration": 199,
    "start_time": "2022-04-22T03:51:44.944Z"
   },
   {
    "duration": 109,
    "start_time": "2022-04-22T03:51:54.762Z"
   },
   {
    "duration": 103,
    "start_time": "2022-04-22T03:52:15.179Z"
   },
   {
    "duration": 9,
    "start_time": "2022-04-22T03:52:19.159Z"
   },
   {
    "duration": 30,
    "start_time": "2022-04-22T03:52:28.173Z"
   },
   {
    "duration": 214,
    "start_time": "2022-04-22T03:52:31.911Z"
   },
   {
    "duration": 22,
    "start_time": "2022-04-22T03:52:50.988Z"
   },
   {
    "duration": 518,
    "start_time": "2022-04-22T03:53:00.334Z"
   },
   {
    "duration": 16,
    "start_time": "2022-04-22T03:54:27.993Z"
   },
   {
    "duration": 1038,
    "start_time": "2022-04-22T03:54:43.743Z"
   },
   {
    "duration": 591,
    "start_time": "2022-04-22T03:55:04.385Z"
   },
   {
    "duration": 6,
    "start_time": "2022-04-22T04:00:20.331Z"
   },
   {
    "duration": 6,
    "start_time": "2022-04-22T04:05:43.556Z"
   },
   {
    "duration": 6,
    "start_time": "2022-04-22T04:05:55.940Z"
   },
   {
    "duration": 16,
    "start_time": "2022-04-22T04:42:05.476Z"
   },
   {
    "duration": 710,
    "start_time": "2022-04-22T04:43:47.765Z"
   },
   {
    "duration": 7,
    "start_time": "2022-04-22T04:45:11.456Z"
   },
   {
    "duration": 12,
    "start_time": "2022-04-22T05:02:43.064Z"
   },
   {
    "duration": 12,
    "start_time": "2022-04-22T05:03:33.912Z"
   },
   {
    "duration": 12,
    "start_time": "2022-04-22T05:04:21.143Z"
   },
   {
    "duration": 13,
    "start_time": "2022-04-22T18:33:24.700Z"
   },
   {
    "duration": 14,
    "start_time": "2022-04-22T18:33:40.421Z"
   },
   {
    "duration": 21,
    "start_time": "2022-04-22T18:33:51.368Z"
   },
   {
    "duration": 28,
    "start_time": "2022-04-22T18:33:57.470Z"
   },
   {
    "duration": 32,
    "start_time": "2022-04-22T18:34:52.147Z"
   },
   {
    "duration": 32,
    "start_time": "2022-04-22T18:35:10.702Z"
   },
   {
    "duration": 23,
    "start_time": "2022-04-22T18:35:26.107Z"
   },
   {
    "duration": 34,
    "start_time": "2022-04-22T18:37:51.999Z"
   },
   {
    "duration": 33,
    "start_time": "2022-04-22T18:38:48.471Z"
   },
   {
    "duration": 114,
    "start_time": "2022-04-22T18:43:28.256Z"
   },
   {
    "duration": 5,
    "start_time": "2022-04-22T18:44:03.743Z"
   },
   {
    "duration": 20,
    "start_time": "2022-04-22T18:44:23.922Z"
   },
   {
    "duration": 19,
    "start_time": "2022-04-22T18:45:34.489Z"
   },
   {
    "duration": 14,
    "start_time": "2022-04-22T18:46:43.863Z"
   },
   {
    "duration": 16,
    "start_time": "2022-04-22T18:47:12.216Z"
   },
   {
    "duration": 28,
    "start_time": "2022-04-22T18:47:53.012Z"
   },
   {
    "duration": 37,
    "start_time": "2022-04-22T18:52:45.249Z"
   },
   {
    "duration": 55,
    "start_time": "2022-04-22T18:52:54.188Z"
   },
   {
    "duration": 42,
    "start_time": "2022-04-22T18:53:18.300Z"
   },
   {
    "duration": 41,
    "start_time": "2022-04-22T18:54:05.384Z"
   },
   {
    "duration": 5,
    "start_time": "2022-04-22T19:51:23.234Z"
   },
   {
    "duration": 4,
    "start_time": "2022-04-22T19:51:31.275Z"
   },
   {
    "duration": 4,
    "start_time": "2022-04-22T19:51:41.053Z"
   },
   {
    "duration": 4,
    "start_time": "2022-04-22T19:51:49.456Z"
   },
   {
    "duration": 7,
    "start_time": "2022-04-22T19:52:18.626Z"
   },
   {
    "duration": 3,
    "start_time": "2022-04-22T19:52:28.400Z"
   },
   {
    "duration": 3,
    "start_time": "2022-04-22T19:52:29.237Z"
   },
   {
    "duration": 3,
    "start_time": "2022-04-22T19:52:29.912Z"
   },
   {
    "duration": 4,
    "start_time": "2022-04-22T19:52:30.820Z"
   },
   {
    "duration": 5,
    "start_time": "2022-04-22T19:54:23.278Z"
   },
   {
    "duration": 5,
    "start_time": "2022-04-22T19:54:43.940Z"
   },
   {
    "duration": 4,
    "start_time": "2022-04-22T19:54:50.576Z"
   },
   {
    "duration": 32,
    "start_time": "2022-04-22T20:31:58.188Z"
   },
   {
    "duration": 4,
    "start_time": "2022-04-22T20:38:21.824Z"
   },
   {
    "duration": 7,
    "start_time": "2022-04-22T20:39:02.713Z"
   },
   {
    "duration": 4,
    "start_time": "2022-04-22T21:35:26.620Z"
   },
   {
    "duration": 3,
    "start_time": "2022-04-22T21:37:45.629Z"
   },
   {
    "duration": 4,
    "start_time": "2022-04-22T21:45:57.220Z"
   },
   {
    "duration": 4,
    "start_time": "2022-04-22T21:49:23.194Z"
   },
   {
    "duration": 4,
    "start_time": "2022-04-22T21:52:18.284Z"
   },
   {
    "duration": 110,
    "start_time": "2022-04-22T22:33:03.656Z"
   },
   {
    "duration": 16,
    "start_time": "2022-04-22T22:34:13.123Z"
   },
   {
    "duration": 14,
    "start_time": "2022-04-22T22:34:26.253Z"
   },
   {
    "duration": 14,
    "start_time": "2022-04-22T22:34:53.198Z"
   },
   {
    "duration": 13,
    "start_time": "2022-04-22T22:35:51.565Z"
   },
   {
    "duration": 12,
    "start_time": "2022-04-22T22:36:09.885Z"
   },
   {
    "duration": 10,
    "start_time": "2022-04-22T23:34:51.406Z"
   },
   {
    "duration": 20,
    "start_time": "2022-04-22T23:36:31.351Z"
   },
   {
    "duration": 121,
    "start_time": "2022-04-22T23:36:46.349Z"
   },
   {
    "duration": 27,
    "start_time": "2022-04-22T23:36:52.910Z"
   },
   {
    "duration": 6,
    "start_time": "2022-04-23T00:16:52.786Z"
   },
   {
    "duration": 5,
    "start_time": "2022-04-23T00:16:58.813Z"
   },
   {
    "duration": 6,
    "start_time": "2022-04-23T00:17:04.677Z"
   },
   {
    "duration": 6,
    "start_time": "2022-04-23T00:18:15.339Z"
   },
   {
    "duration": 6,
    "start_time": "2022-04-23T00:18:36.867Z"
   },
   {
    "duration": 7,
    "start_time": "2022-04-23T00:18:53.463Z"
   },
   {
    "duration": 7,
    "start_time": "2022-04-23T00:18:55.404Z"
   },
   {
    "duration": 8,
    "start_time": "2022-04-23T00:19:57.472Z"
   },
   {
    "duration": 430,
    "start_time": "2022-04-23T00:20:30.808Z"
   },
   {
    "duration": 9,
    "start_time": "2022-04-23T00:20:38.173Z"
   },
   {
    "duration": 8,
    "start_time": "2022-04-23T00:20:47.768Z"
   },
   {
    "duration": 8,
    "start_time": "2022-04-23T00:20:54.431Z"
   },
   {
    "duration": 9,
    "start_time": "2022-04-23T00:21:04.616Z"
   },
   {
    "duration": 9,
    "start_time": "2022-04-23T00:21:10.249Z"
   },
   {
    "duration": 7,
    "start_time": "2022-04-23T00:22:31.984Z"
   },
   {
    "duration": 7,
    "start_time": "2022-04-23T00:22:34.864Z"
   },
   {
    "duration": 8,
    "start_time": "2022-04-23T00:22:48.655Z"
   },
   {
    "duration": 8,
    "start_time": "2022-04-23T00:22:50.557Z"
   },
   {
    "duration": 7,
    "start_time": "2022-04-23T00:23:14.470Z"
   },
   {
    "duration": 7,
    "start_time": "2022-04-23T00:23:26.766Z"
   },
   {
    "duration": 9,
    "start_time": "2022-04-23T00:23:51.313Z"
   },
   {
    "duration": 10,
    "start_time": "2022-04-23T00:24:01.057Z"
   },
   {
    "duration": 9,
    "start_time": "2022-04-23T00:24:06.953Z"
   },
   {
    "duration": 1717,
    "start_time": "2022-04-24T17:57:54.128Z"
   },
   {
    "duration": 60,
    "start_time": "2022-04-24T17:57:55.848Z"
   },
   {
    "duration": 38,
    "start_time": "2022-04-24T17:57:55.910Z"
   },
   {
    "duration": 37,
    "start_time": "2022-04-24T17:57:55.950Z"
   },
   {
    "duration": 6,
    "start_time": "2022-04-24T17:57:55.991Z"
   },
   {
    "duration": 14,
    "start_time": "2022-04-24T17:57:55.999Z"
   },
   {
    "duration": 58,
    "start_time": "2022-04-24T17:57:56.016Z"
   },
   {
    "duration": 38,
    "start_time": "2022-04-24T17:57:56.077Z"
   },
   {
    "duration": 31,
    "start_time": "2022-04-24T17:57:56.117Z"
   },
   {
    "duration": 22,
    "start_time": "2022-04-24T17:57:56.175Z"
   },
   {
    "duration": 25,
    "start_time": "2022-04-24T17:57:56.199Z"
   },
   {
    "duration": 73,
    "start_time": "2022-04-24T17:57:56.226Z"
   },
   {
    "duration": 50,
    "start_time": "2022-04-24T17:57:56.301Z"
   },
   {
    "duration": 16,
    "start_time": "2022-04-24T17:57:56.373Z"
   },
   {
    "duration": 19,
    "start_time": "2022-04-24T17:57:56.392Z"
   },
   {
    "duration": 20,
    "start_time": "2022-04-24T17:57:56.414Z"
   },
   {
    "duration": 61,
    "start_time": "2022-04-24T17:57:56.436Z"
   },
   {
    "duration": 17,
    "start_time": "2022-04-24T17:57:56.499Z"
   },
   {
    "duration": 25,
    "start_time": "2022-04-24T17:57:56.518Z"
   },
   {
    "duration": 42,
    "start_time": "2022-04-24T17:57:56.574Z"
   },
   {
    "duration": 25,
    "start_time": "2022-04-24T17:57:56.619Z"
   },
   {
    "duration": 50,
    "start_time": "2022-04-24T17:57:56.647Z"
   },
   {
    "duration": 9,
    "start_time": "2022-04-24T17:57:56.700Z"
   },
   {
    "duration": 451,
    "start_time": "2022-04-24T17:57:56.711Z"
   },
   {
    "duration": 218,
    "start_time": "2022-04-24T17:57:57.165Z"
   },
   {
    "duration": 12,
    "start_time": "2022-04-24T17:57:57.385Z"
   },
   {
    "duration": 79,
    "start_time": "2022-04-24T17:57:57.399Z"
   },
   {
    "duration": 485,
    "start_time": "2022-04-24T17:57:57.481Z"
   },
   {
    "duration": 43,
    "start_time": "2022-04-24T17:57:57.969Z"
   },
   {
    "duration": 699,
    "start_time": "2022-04-24T17:57:58.014Z"
   },
   {
    "duration": 28,
    "start_time": "2022-04-24T17:57:58.715Z"
   },
   {
    "duration": 1270,
    "start_time": "2022-04-24T17:57:58.746Z"
   },
   {
    "duration": 11,
    "start_time": "2022-04-24T17:58:00.019Z"
   },
   {
    "duration": 56,
    "start_time": "2022-04-24T17:58:00.032Z"
   },
   {
    "duration": 1554,
    "start_time": "2022-04-24T17:58:00.090Z"
   },
   {
    "duration": 30,
    "start_time": "2022-04-24T17:58:01.647Z"
   },
   {
    "duration": 22,
    "start_time": "2022-04-24T17:58:01.680Z"
   },
   {
    "duration": 89,
    "start_time": "2022-04-24T17:58:01.705Z"
   },
   {
    "duration": 90,
    "start_time": "2022-04-24T17:58:01.797Z"
   },
   {
    "duration": 52,
    "start_time": "2022-04-24T17:58:01.890Z"
   },
   {
    "duration": 14,
    "start_time": "2022-04-24T17:58:01.977Z"
   },
   {
    "duration": 20,
    "start_time": "2022-04-24T17:58:01.993Z"
   },
   {
    "duration": 1482,
    "start_time": "2022-05-01T02:56:32.187Z"
   },
   {
    "duration": 42,
    "start_time": "2022-05-01T02:56:33.671Z"
   },
   {
    "duration": 23,
    "start_time": "2022-05-01T02:56:33.714Z"
   },
   {
    "duration": 15,
    "start_time": "2022-05-01T02:56:33.739Z"
   },
   {
    "duration": 4,
    "start_time": "2022-05-01T02:56:33.756Z"
   },
   {
    "duration": 5,
    "start_time": "2022-05-01T02:56:33.762Z"
   },
   {
    "duration": 55,
    "start_time": "2022-05-01T02:56:33.769Z"
   },
   {
    "duration": 34,
    "start_time": "2022-05-01T02:56:33.826Z"
   },
   {
    "duration": 18,
    "start_time": "2022-05-01T02:56:33.862Z"
   },
   {
    "duration": 14,
    "start_time": "2022-05-01T02:56:33.883Z"
   },
   {
    "duration": 14,
    "start_time": "2022-05-01T02:56:33.923Z"
   },
   {
    "duration": 23,
    "start_time": "2022-05-01T02:56:33.939Z"
   },
   {
    "duration": 28,
    "start_time": "2022-05-01T02:56:33.963Z"
   },
   {
    "duration": 35,
    "start_time": "2022-05-01T02:56:33.992Z"
   },
   {
    "duration": 11,
    "start_time": "2022-05-01T02:56:34.028Z"
   },
   {
    "duration": 12,
    "start_time": "2022-05-01T02:56:34.040Z"
   },
   {
    "duration": 16,
    "start_time": "2022-05-01T02:56:34.053Z"
   },
   {
    "duration": 9,
    "start_time": "2022-05-01T02:56:34.071Z"
   },
   {
    "duration": 47,
    "start_time": "2022-05-01T02:56:34.081Z"
   },
   {
    "duration": 24,
    "start_time": "2022-05-01T02:56:34.130Z"
   },
   {
    "duration": 15,
    "start_time": "2022-05-01T02:56:34.155Z"
   },
   {
    "duration": 17,
    "start_time": "2022-05-01T02:56:34.172Z"
   },
   {
    "duration": 35,
    "start_time": "2022-05-01T02:56:34.191Z"
   },
   {
    "duration": 252,
    "start_time": "2022-05-01T02:56:34.228Z"
   },
   {
    "duration": 124,
    "start_time": "2022-05-01T02:56:34.481Z"
   },
   {
    "duration": 16,
    "start_time": "2022-05-01T02:56:34.607Z"
   },
   {
    "duration": 32,
    "start_time": "2022-05-01T02:56:34.625Z"
   },
   {
    "duration": 279,
    "start_time": "2022-05-01T02:56:34.660Z"
   },
   {
    "duration": 23,
    "start_time": "2022-05-01T02:56:34.941Z"
   },
   {
    "duration": 411,
    "start_time": "2022-05-01T02:56:34.966Z"
   },
   {
    "duration": 17,
    "start_time": "2022-05-01T02:56:35.379Z"
   },
   {
    "duration": 724,
    "start_time": "2022-05-01T02:56:35.398Z"
   },
   {
    "duration": 6,
    "start_time": "2022-05-01T02:56:36.124Z"
   },
   {
    "duration": 20,
    "start_time": "2022-05-01T02:56:36.132Z"
   },
   {
    "duration": 819,
    "start_time": "2022-05-01T02:56:36.154Z"
   },
   {
    "duration": 8,
    "start_time": "2022-05-01T02:56:36.975Z"
   },
   {
    "duration": 13,
    "start_time": "2022-05-01T02:56:36.985Z"
   },
   {
    "duration": 37,
    "start_time": "2022-05-01T02:56:37.023Z"
   },
   {
    "duration": 64,
    "start_time": "2022-05-01T02:56:37.062Z"
   },
   {
    "duration": 30,
    "start_time": "2022-05-01T02:56:37.128Z"
   },
   {
    "duration": 8,
    "start_time": "2022-05-01T02:56:37.160Z"
   },
   {
    "duration": 11,
    "start_time": "2022-05-01T02:56:37.170Z"
   },
   {
    "duration": 186,
    "start_time": "2022-05-01T03:48:32.337Z"
   },
   {
    "duration": 193,
    "start_time": "2022-05-01T04:33:30.248Z"
   },
   {
    "duration": 677,
    "start_time": "2022-05-01T05:06:22.181Z"
   },
   {
    "duration": 749,
    "start_time": "2022-05-01T05:06:26.561Z"
   },
   {
    "duration": 666,
    "start_time": "2022-05-01T05:06:31.430Z"
   },
   {
    "duration": 2039,
    "start_time": "2022-05-01T19:37:55.932Z"
   },
   {
    "duration": 90,
    "start_time": "2022-05-01T19:37:57.974Z"
   },
   {
    "duration": 43,
    "start_time": "2022-05-01T19:37:58.068Z"
   },
   {
    "duration": 29,
    "start_time": "2022-05-01T19:37:58.115Z"
   },
   {
    "duration": 7,
    "start_time": "2022-05-01T19:37:58.147Z"
   },
   {
    "duration": 32,
    "start_time": "2022-05-01T19:37:58.157Z"
   },
   {
    "duration": 29,
    "start_time": "2022-05-01T19:37:58.192Z"
   },
   {
    "duration": 71,
    "start_time": "2022-05-01T19:37:58.224Z"
   },
   {
    "duration": 41,
    "start_time": "2022-05-01T19:37:58.297Z"
   },
   {
    "duration": 25,
    "start_time": "2022-05-01T19:37:58.344Z"
   },
   {
    "duration": 29,
    "start_time": "2022-05-01T19:37:58.391Z"
   },
   {
    "duration": 47,
    "start_time": "2022-05-01T19:37:58.422Z"
   },
   {
    "duration": 68,
    "start_time": "2022-05-01T19:37:58.485Z"
   },
   {
    "duration": 18,
    "start_time": "2022-05-01T19:37:58.555Z"
   },
   {
    "duration": 36,
    "start_time": "2022-05-01T19:37:58.575Z"
   },
   {
    "duration": 14,
    "start_time": "2022-05-01T19:37:58.613Z"
   },
   {
    "duration": 12,
    "start_time": "2022-05-01T19:37:58.630Z"
   },
   {
    "duration": 7,
    "start_time": "2022-05-01T19:37:58.646Z"
   },
   {
    "duration": 36,
    "start_time": "2022-05-01T19:50:00.343Z"
   },
   {
    "duration": 42,
    "start_time": "2022-05-01T19:50:05.195Z"
   },
   {
    "duration": 25,
    "start_time": "2022-05-01T19:51:06.615Z"
   },
   {
    "duration": 10,
    "start_time": "2022-05-01T19:58:53.626Z"
   },
   {
    "duration": 488,
    "start_time": "2022-05-01T20:30:01.748Z"
   },
   {
    "duration": 393,
    "start_time": "2022-05-01T20:30:41.956Z"
   },
   {
    "duration": 497,
    "start_time": "2022-05-01T20:32:43.302Z"
   },
   {
    "duration": 763,
    "start_time": "2022-05-01T20:41:18.097Z"
   },
   {
    "duration": 827,
    "start_time": "2022-05-01T20:41:31.225Z"
   },
   {
    "duration": 811,
    "start_time": "2022-05-01T20:41:46.772Z"
   },
   {
    "duration": 728,
    "start_time": "2022-05-01T20:42:20.718Z"
   },
   {
    "duration": 1468,
    "start_time": "2022-05-01T20:42:41.397Z"
   },
   {
    "duration": 123,
    "start_time": "2022-05-01T20:43:22.836Z"
   },
   {
    "duration": 202,
    "start_time": "2022-05-01T20:43:30.296Z"
   },
   {
    "duration": 1389,
    "start_time": "2022-05-01T20:43:45.635Z"
   },
   {
    "duration": 1675,
    "start_time": "2022-05-01T20:44:09.080Z"
   },
   {
    "duration": 41,
    "start_time": "2022-05-01T21:25:54.112Z"
   },
   {
    "duration": 12,
    "start_time": "2022-05-01T21:26:16.328Z"
   },
   {
    "duration": 241,
    "start_time": "2022-05-01T21:26:43.647Z"
   },
   {
    "duration": 288,
    "start_time": "2022-05-01T21:27:46.019Z"
   },
   {
    "duration": 166,
    "start_time": "2022-05-01T21:28:33.190Z"
   },
   {
    "duration": 306,
    "start_time": "2022-05-01T21:28:40.968Z"
   },
   {
    "duration": 237,
    "start_time": "2022-05-01T21:31:48.422Z"
   },
   {
    "duration": 569,
    "start_time": "2022-05-01T21:32:55.476Z"
   },
   {
    "duration": 571,
    "start_time": "2022-05-01T21:33:26.180Z"
   },
   {
    "duration": 563,
    "start_time": "2022-05-01T21:33:33.607Z"
   },
   {
    "duration": 671,
    "start_time": "2022-05-01T21:33:54.196Z"
   },
   {
    "duration": 294,
    "start_time": "2022-05-01T21:35:33.468Z"
   },
   {
    "duration": 303,
    "start_time": "2022-05-01T21:35:51.480Z"
   },
   {
    "duration": 846,
    "start_time": "2022-05-01T21:45:33.514Z"
   },
   {
    "duration": 565,
    "start_time": "2022-05-01T22:00:18.156Z"
   },
   {
    "duration": 20,
    "start_time": "2022-05-01T22:01:14.618Z"
   },
   {
    "duration": 5,
    "start_time": "2022-05-01T22:02:40.688Z"
   },
   {
    "duration": 77,
    "start_time": "2022-05-01T22:02:40.696Z"
   },
   {
    "duration": 30,
    "start_time": "2022-05-01T22:02:40.782Z"
   },
   {
    "duration": 24,
    "start_time": "2022-05-01T22:02:40.815Z"
   },
   {
    "duration": 6,
    "start_time": "2022-05-01T22:02:40.842Z"
   },
   {
    "duration": 8,
    "start_time": "2022-05-01T22:02:40.887Z"
   },
   {
    "duration": 30,
    "start_time": "2022-05-01T22:02:40.897Z"
   },
   {
    "duration": 30,
    "start_time": "2022-05-01T22:02:40.930Z"
   },
   {
    "duration": 29,
    "start_time": "2022-05-01T22:02:40.986Z"
   },
   {
    "duration": 18,
    "start_time": "2022-05-01T22:02:41.018Z"
   },
   {
    "duration": 19,
    "start_time": "2022-05-01T22:02:41.039Z"
   },
   {
    "duration": 42,
    "start_time": "2022-05-01T22:02:41.088Z"
   },
   {
    "duration": 70,
    "start_time": "2022-05-01T22:02:41.133Z"
   },
   {
    "duration": 17,
    "start_time": "2022-05-01T22:02:41.205Z"
   },
   {
    "duration": 19,
    "start_time": "2022-05-01T22:02:41.224Z"
   },
   {
    "duration": 9,
    "start_time": "2022-05-01T22:02:41.245Z"
   },
   {
    "duration": 29,
    "start_time": "2022-05-01T22:02:41.256Z"
   },
   {
    "duration": 13,
    "start_time": "2022-05-01T22:02:41.290Z"
   },
   {
    "duration": 28,
    "start_time": "2022-05-01T22:02:41.305Z"
   },
   {
    "duration": 51,
    "start_time": "2022-05-01T22:02:41.335Z"
   },
   {
    "duration": 24,
    "start_time": "2022-05-01T22:02:41.389Z"
   },
   {
    "duration": 25,
    "start_time": "2022-05-01T22:02:41.416Z"
   },
   {
    "duration": 8,
    "start_time": "2022-05-01T22:02:41.444Z"
   },
   {
    "duration": 481,
    "start_time": "2022-05-01T22:02:41.482Z"
   },
   {
    "duration": 451,
    "start_time": "2022-05-01T22:02:41.965Z"
   },
   {
    "duration": 877,
    "start_time": "2022-05-01T22:02:42.420Z"
   },
   {
    "duration": 499,
    "start_time": "2022-05-01T22:02:51.408Z"
   },
   {
    "duration": 12,
    "start_time": "2022-05-01T22:05:05.696Z"
   },
   {
    "duration": 517,
    "start_time": "2022-05-01T22:15:26.523Z"
   },
   {
    "duration": 510,
    "start_time": "2022-05-01T22:16:49.896Z"
   },
   {
    "duration": 11,
    "start_time": "2022-05-01T22:18:58.969Z"
   },
   {
    "duration": 72,
    "start_time": "2022-05-01T22:21:30.493Z"
   },
   {
    "duration": 106,
    "start_time": "2022-05-01T22:24:29.941Z"
   },
   {
    "duration": 434,
    "start_time": "2022-05-01T22:24:34.332Z"
   },
   {
    "duration": 75,
    "start_time": "2022-05-01T22:26:26.786Z"
   },
   {
    "duration": 72,
    "start_time": "2022-05-01T22:26:44.306Z"
   },
   {
    "duration": 1769,
    "start_time": "2022-05-01T22:32:11.313Z"
   },
   {
    "duration": 1536,
    "start_time": "2022-05-01T22:32:44.306Z"
   },
   {
    "duration": 1100,
    "start_time": "2022-05-01T22:33:03.859Z"
   },
   {
    "duration": 76,
    "start_time": "2022-05-01T22:38:24.175Z"
   },
   {
    "duration": 62,
    "start_time": "2022-05-01T23:02:43.280Z"
   },
   {
    "duration": 359,
    "start_time": "2022-05-01T23:02:48.522Z"
   },
   {
    "duration": 73,
    "start_time": "2022-05-01T23:03:27.597Z"
   },
   {
    "duration": 583,
    "start_time": "2022-05-01T23:03:31.230Z"
   },
   {
    "duration": 29,
    "start_time": "2022-05-01T23:07:59.823Z"
   },
   {
    "duration": 352,
    "start_time": "2022-05-02T03:38:08.818Z"
   },
   {
    "duration": 291,
    "start_time": "2022-05-02T03:38:19.133Z"
   },
   {
    "duration": 731,
    "start_time": "2022-05-02T03:38:29.943Z"
   },
   {
    "duration": 487,
    "start_time": "2022-05-02T03:38:42.811Z"
   },
   {
    "duration": 73,
    "start_time": "2022-05-02T03:39:41.723Z"
   },
   {
    "duration": 31,
    "start_time": "2022-05-02T03:42:56.595Z"
   },
   {
    "duration": 765,
    "start_time": "2022-05-02T03:59:47.666Z"
   },
   {
    "duration": 514,
    "start_time": "2022-05-02T04:01:01.052Z"
   },
   {
    "duration": 309,
    "start_time": "2022-05-02T04:06:05.940Z"
   },
   {
    "duration": 418,
    "start_time": "2022-05-02T04:06:38.829Z"
   },
   {
    "duration": 316,
    "start_time": "2022-05-02T04:07:51.013Z"
   },
   {
    "duration": 4,
    "start_time": "2022-05-02T04:12:04.035Z"
   },
   {
    "duration": 88,
    "start_time": "2022-05-02T04:13:49.011Z"
   },
   {
    "duration": 188,
    "start_time": "2022-05-02T04:18:51.757Z"
   },
   {
    "duration": 181,
    "start_time": "2022-05-02T04:19:11.070Z"
   },
   {
    "duration": 1472,
    "start_time": "2022-05-02T04:26:36.455Z"
   },
   {
    "duration": 1544,
    "start_time": "2022-05-02T04:26:47.409Z"
   },
   {
    "duration": 1432,
    "start_time": "2022-05-02T04:27:52.257Z"
   },
   {
    "duration": 13,
    "start_time": "2022-05-02T04:28:35.137Z"
   },
   {
    "duration": 10,
    "start_time": "2022-05-02T04:29:14.118Z"
   },
   {
    "duration": 161,
    "start_time": "2022-05-02T04:29:47.007Z"
   },
   {
    "duration": 16,
    "start_time": "2022-05-02T04:30:48.707Z"
   },
   {
    "duration": 18,
    "start_time": "2022-05-02T04:32:08.843Z"
   },
   {
    "duration": 11,
    "start_time": "2022-05-02T04:32:24.998Z"
   },
   {
    "duration": 6,
    "start_time": "2022-05-02T04:32:38.458Z"
   },
   {
    "duration": 13,
    "start_time": "2022-05-02T04:33:38.134Z"
   },
   {
    "duration": 314,
    "start_time": "2022-05-02T04:34:51.637Z"
   },
   {
    "duration": 548,
    "start_time": "2022-05-02T04:36:29.059Z"
   },
   {
    "duration": 301,
    "start_time": "2022-05-02T04:37:24.557Z"
   },
   {
    "duration": 32,
    "start_time": "2022-05-02T04:37:29.423Z"
   },
   {
    "duration": 16,
    "start_time": "2022-05-02T04:41:23.677Z"
   },
   {
    "duration": 14,
    "start_time": "2022-05-02T04:41:32.006Z"
   },
   {
    "duration": 194,
    "start_time": "2022-05-02T04:41:47.405Z"
   },
   {
    "duration": 26,
    "start_time": "2022-05-02T05:06:31.665Z"
   },
   {
    "duration": 1119,
    "start_time": "2022-05-02T05:07:46.458Z"
   },
   {
    "duration": 8,
    "start_time": "2022-05-02T05:09:24.024Z"
   },
   {
    "duration": 24,
    "start_time": "2022-05-02T05:16:23.356Z"
   },
   {
    "duration": 1039,
    "start_time": "2022-05-02T05:16:41.676Z"
   },
   {
    "duration": 9,
    "start_time": "2022-05-02T05:17:50.338Z"
   },
   {
    "duration": 52,
    "start_time": "2022-05-02T05:20:18.101Z"
   },
   {
    "duration": 17,
    "start_time": "2022-05-02T05:21:15.614Z"
   },
   {
    "duration": 16,
    "start_time": "2022-05-02T05:21:46.210Z"
   },
   {
    "duration": 16,
    "start_time": "2022-05-02T05:22:18.155Z"
   },
   {
    "duration": 1961,
    "start_time": "2022-05-02T17:09:13.719Z"
   },
   {
    "duration": 54,
    "start_time": "2022-05-02T17:09:15.683Z"
   },
   {
    "duration": 28,
    "start_time": "2022-05-02T17:09:15.739Z"
   },
   {
    "duration": 23,
    "start_time": "2022-05-02T17:09:15.770Z"
   },
   {
    "duration": 31,
    "start_time": "2022-05-02T17:09:15.795Z"
   },
   {
    "duration": 8,
    "start_time": "2022-05-02T17:09:15.828Z"
   },
   {
    "duration": 28,
    "start_time": "2022-05-02T17:09:15.838Z"
   },
   {
    "duration": 68,
    "start_time": "2022-05-02T17:09:15.869Z"
   },
   {
    "duration": 29,
    "start_time": "2022-05-02T17:09:15.940Z"
   },
   {
    "duration": 18,
    "start_time": "2022-05-02T17:09:15.973Z"
   },
   {
    "duration": 19,
    "start_time": "2022-05-02T17:09:16.024Z"
   },
   {
    "duration": 88,
    "start_time": "2022-05-02T17:09:16.045Z"
   },
   {
    "duration": 54,
    "start_time": "2022-05-02T17:09:16.136Z"
   },
   {
    "duration": 34,
    "start_time": "2022-05-02T17:09:16.193Z"
   },
   {
    "duration": 19,
    "start_time": "2022-05-02T17:09:16.230Z"
   },
   {
    "duration": 4,
    "start_time": "2022-05-02T17:09:16.253Z"
   },
   {
    "duration": 12,
    "start_time": "2022-05-02T17:09:16.261Z"
   },
   {
    "duration": 48,
    "start_time": "2022-05-02T17:09:16.277Z"
   },
   {
    "duration": 27,
    "start_time": "2022-05-02T17:09:16.328Z"
   },
   {
    "duration": 37,
    "start_time": "2022-05-02T17:09:16.357Z"
   },
   {
    "duration": 21,
    "start_time": "2022-05-02T17:09:16.425Z"
   },
   {
    "duration": 30,
    "start_time": "2022-05-02T17:09:16.449Z"
   },
   {
    "duration": 8,
    "start_time": "2022-05-02T17:09:16.482Z"
   },
   {
    "duration": 393,
    "start_time": "2022-05-02T17:09:16.524Z"
   },
   {
    "duration": 413,
    "start_time": "2022-05-02T17:09:16.919Z"
   },
   {
    "duration": 677,
    "start_time": "2022-05-02T17:09:17.335Z"
   },
   {
    "duration": 522,
    "start_time": "2022-05-02T17:09:18.015Z"
   },
   {
    "duration": 246,
    "start_time": "2022-05-02T17:09:18.545Z"
   },
   {
    "duration": 13,
    "start_time": "2022-05-02T17:09:18.794Z"
   },
   {
    "duration": 139,
    "start_time": "2022-05-02T17:09:18.826Z"
   },
   {
    "duration": 749,
    "start_time": "2022-05-02T17:09:18.968Z"
   },
   {
    "duration": 31,
    "start_time": "2022-05-02T17:09:19.721Z"
   },
   {
    "duration": 461,
    "start_time": "2022-05-02T17:09:19.755Z"
   },
   {
    "duration": 5,
    "start_time": "2022-05-02T17:09:20.223Z"
   },
   {
    "duration": 436,
    "start_time": "2022-05-02T17:09:20.232Z"
   },
   {
    "duration": 35,
    "start_time": "2022-05-02T17:09:20.672Z"
   },
   {
    "duration": 1321,
    "start_time": "2022-05-02T17:09:20.725Z"
   },
   {
    "duration": 9,
    "start_time": "2022-05-02T17:09:22.049Z"
   },
   {
    "duration": 72,
    "start_time": "2022-05-02T17:09:22.061Z"
   },
   {
    "duration": 1302,
    "start_time": "2022-05-02T17:09:22.136Z"
   },
   {
    "duration": 13,
    "start_time": "2022-05-02T17:09:23.441Z"
   },
   {
    "duration": 25,
    "start_time": "2022-05-02T17:09:23.456Z"
   },
   {
    "duration": 41,
    "start_time": "2022-05-02T17:25:36.708Z"
   },
   {
    "duration": 47,
    "start_time": "2022-05-02T17:53:14.998Z"
   },
   {
    "duration": 43,
    "start_time": "2022-05-02T18:10:07.622Z"
   },
   {
    "duration": 14,
    "start_time": "2022-05-02T19:08:10.644Z"
   },
   {
    "duration": 15,
    "start_time": "2022-05-02T19:09:53.882Z"
   },
   {
    "duration": 10,
    "start_time": "2022-05-02T19:10:13.093Z"
   },
   {
    "duration": 11,
    "start_time": "2022-05-02T19:10:28.857Z"
   },
   {
    "duration": 24,
    "start_time": "2022-05-02T19:10:36.521Z"
   },
   {
    "duration": 29,
    "start_time": "2022-05-02T19:10:51.023Z"
   },
   {
    "duration": 12,
    "start_time": "2022-05-02T19:15:29.512Z"
   },
   {
    "duration": 1312,
    "start_time": "2022-05-03T08:36:36.594Z"
   },
   {
    "duration": 35,
    "start_time": "2022-05-03T08:36:37.908Z"
   },
   {
    "duration": 17,
    "start_time": "2022-05-03T08:36:37.944Z"
   },
   {
    "duration": 14,
    "start_time": "2022-05-03T08:36:37.963Z"
   },
   {
    "duration": 6,
    "start_time": "2022-05-03T08:36:37.978Z"
   },
   {
    "duration": 6,
    "start_time": "2022-05-03T08:36:37.986Z"
   },
   {
    "duration": 45,
    "start_time": "2022-05-03T08:36:37.993Z"
   },
   {
    "duration": 20,
    "start_time": "2022-05-03T08:36:38.040Z"
   },
   {
    "duration": 16,
    "start_time": "2022-05-03T08:36:38.061Z"
   },
   {
    "duration": 12,
    "start_time": "2022-05-03T08:36:38.080Z"
   },
   {
    "duration": 35,
    "start_time": "2022-05-03T08:36:38.094Z"
   },
   {
    "duration": 22,
    "start_time": "2022-05-03T08:36:38.131Z"
   },
   {
    "duration": 26,
    "start_time": "2022-05-03T08:36:38.155Z"
   },
   {
    "duration": 9,
    "start_time": "2022-05-03T08:36:38.183Z"
   },
   {
    "duration": 13,
    "start_time": "2022-05-03T08:36:38.223Z"
   },
   {
    "duration": 3,
    "start_time": "2022-05-03T08:36:38.237Z"
   },
   {
    "duration": 6,
    "start_time": "2022-05-03T08:36:38.242Z"
   },
   {
    "duration": 10,
    "start_time": "2022-05-03T08:36:38.249Z"
   },
   {
    "duration": 20,
    "start_time": "2022-05-03T08:36:38.261Z"
   },
   {
    "duration": 23,
    "start_time": "2022-05-03T08:36:38.282Z"
   },
   {
    "duration": 13,
    "start_time": "2022-05-03T08:36:38.324Z"
   },
   {
    "duration": 15,
    "start_time": "2022-05-03T08:36:38.339Z"
   },
   {
    "duration": 5,
    "start_time": "2022-05-03T08:36:38.356Z"
   },
   {
    "duration": 232,
    "start_time": "2022-05-03T08:36:38.363Z"
   },
   {
    "duration": 165,
    "start_time": "2022-05-03T08:36:38.597Z"
   },
   {
    "duration": 315,
    "start_time": "2022-05-03T08:36:38.764Z"
   },
   {
    "duration": 289,
    "start_time": "2022-05-03T08:36:39.081Z"
   },
   {
    "duration": 127,
    "start_time": "2022-05-03T08:36:39.373Z"
   },
   {
    "duration": 9,
    "start_time": "2022-05-03T08:36:39.502Z"
   },
   {
    "duration": 47,
    "start_time": "2022-05-03T08:36:39.524Z"
   },
   {
    "duration": 278,
    "start_time": "2022-05-03T08:36:39.573Z"
   },
   {
    "duration": 18,
    "start_time": "2022-05-03T08:36:39.853Z"
   },
   {
    "duration": 183,
    "start_time": "2022-05-03T08:36:39.872Z"
   },
   {
    "duration": 3,
    "start_time": "2022-05-03T08:36:40.057Z"
   },
   {
    "duration": 183,
    "start_time": "2022-05-03T08:36:40.061Z"
   },
   {
    "duration": 22,
    "start_time": "2022-05-03T08:36:40.247Z"
   },
   {
    "duration": 639,
    "start_time": "2022-05-03T08:36:40.270Z"
   },
   {
    "duration": 15,
    "start_time": "2022-05-03T08:36:40.911Z"
   },
   {
    "duration": 22,
    "start_time": "2022-05-03T08:36:40.927Z"
   },
   {
    "duration": 608,
    "start_time": "2022-05-03T08:36:40.951Z"
   },
   {
    "duration": 7,
    "start_time": "2022-05-03T08:36:41.560Z"
   },
   {
    "duration": 16,
    "start_time": "2022-05-03T08:36:41.568Z"
   },
   {
    "duration": 51,
    "start_time": "2022-05-03T08:36:41.586Z"
   },
   {
    "duration": 25,
    "start_time": "2022-05-03T08:36:41.639Z"
   },
   {
    "duration": 21,
    "start_time": "2022-05-03T08:36:41.666Z"
   },
   {
    "duration": 8,
    "start_time": "2022-05-03T08:36:41.724Z"
   },
   {
    "duration": 7,
    "start_time": "2022-05-03T08:36:41.734Z"
   },
   {
    "duration": 201,
    "start_time": "2022-05-03T08:39:03.444Z"
   },
   {
    "duration": 1853,
    "start_time": "2022-05-03T15:40:51.775Z"
   },
   {
    "duration": 51,
    "start_time": "2022-05-03T15:40:53.631Z"
   },
   {
    "duration": 42,
    "start_time": "2022-05-03T15:40:53.685Z"
   },
   {
    "duration": 21,
    "start_time": "2022-05-03T15:40:53.730Z"
   },
   {
    "duration": 8,
    "start_time": "2022-05-03T15:40:53.753Z"
   },
   {
    "duration": 12,
    "start_time": "2022-05-03T15:40:53.762Z"
   },
   {
    "duration": 69,
    "start_time": "2022-05-03T15:40:53.776Z"
   },
   {
    "duration": 32,
    "start_time": "2022-05-03T15:40:53.847Z"
   },
   {
    "duration": 44,
    "start_time": "2022-05-03T15:40:53.881Z"
   },
   {
    "duration": 20,
    "start_time": "2022-05-03T15:40:53.929Z"
   },
   {
    "duration": 24,
    "start_time": "2022-05-03T15:40:53.951Z"
   },
   {
    "duration": 69,
    "start_time": "2022-05-03T15:40:53.978Z"
   },
   {
    "duration": 49,
    "start_time": "2022-05-03T15:40:54.049Z"
   },
   {
    "duration": 30,
    "start_time": "2022-05-03T15:40:54.100Z"
   },
   {
    "duration": 14,
    "start_time": "2022-05-03T15:40:54.132Z"
   },
   {
    "duration": 3,
    "start_time": "2022-05-03T15:40:54.149Z"
   },
   {
    "duration": 5,
    "start_time": "2022-05-03T15:40:54.154Z"
   },
   {
    "duration": 6,
    "start_time": "2022-05-03T15:40:54.162Z"
   },
   {
    "duration": 69,
    "start_time": "2022-05-03T15:40:54.170Z"
   },
   {
    "duration": 38,
    "start_time": "2022-05-03T15:40:54.241Z"
   },
   {
    "duration": 54,
    "start_time": "2022-05-03T15:40:54.281Z"
   },
   {
    "duration": 23,
    "start_time": "2022-05-03T15:40:54.337Z"
   },
   {
    "duration": 10,
    "start_time": "2022-05-03T15:40:54.362Z"
   },
   {
    "duration": 414,
    "start_time": "2022-05-03T15:40:54.374Z"
   },
   {
    "duration": 307,
    "start_time": "2022-05-03T15:40:54.790Z"
   },
   {
    "duration": 549,
    "start_time": "2022-05-03T15:40:55.099Z"
   },
   {
    "duration": 481,
    "start_time": "2022-05-03T15:41:46.189Z"
   },
   {
    "duration": 212,
    "start_time": "2022-05-03T15:42:53.388Z"
   },
   {
    "duration": 13,
    "start_time": "2022-05-03T15:50:05.924Z"
   },
   {
    "duration": 116,
    "start_time": "2022-05-03T15:50:14.343Z"
   },
   {
    "duration": 74,
    "start_time": "2022-05-03T15:51:13.805Z"
   },
   {
    "duration": 464,
    "start_time": "2022-05-03T15:51:41.589Z"
   },
   {
    "duration": 29,
    "start_time": "2022-05-03T16:09:21.306Z"
   },
   {
    "duration": 337,
    "start_time": "2022-05-03T16:09:54.008Z"
   },
   {
    "duration": 172,
    "start_time": "2022-05-03T16:22:02.913Z"
   },
   {
    "duration": 339,
    "start_time": "2022-05-03T16:25:42.186Z"
   },
   {
    "duration": 261,
    "start_time": "2022-05-03T16:31:29.146Z"
   },
   {
    "duration": 265,
    "start_time": "2022-05-03T16:32:00.190Z"
   },
   {
    "duration": 274,
    "start_time": "2022-05-03T16:32:41.160Z"
   },
   {
    "duration": 312,
    "start_time": "2022-05-03T16:34:34.838Z"
   },
   {
    "duration": 22,
    "start_time": "2022-05-03T16:37:34.289Z"
   },
   {
    "duration": 1280,
    "start_time": "2022-05-03T16:38:03.785Z"
   },
   {
    "duration": 9,
    "start_time": "2022-05-03T16:38:25.469Z"
   },
   {
    "duration": 26,
    "start_time": "2022-05-03T16:38:45.666Z"
   },
   {
    "duration": 1258,
    "start_time": "2022-05-03T16:38:49.512Z"
   },
   {
    "duration": 8,
    "start_time": "2022-05-03T16:38:57.576Z"
   },
   {
    "duration": 17,
    "start_time": "2022-05-03T16:39:43.490Z"
   },
   {
    "duration": 44,
    "start_time": "2022-05-03T16:40:17.979Z"
   },
   {
    "duration": 50,
    "start_time": "2022-05-03T16:40:44.040Z"
   },
   {
    "duration": 49,
    "start_time": "2022-05-03T16:41:13.139Z"
   },
   {
    "duration": 14,
    "start_time": "2022-05-03T16:41:55.539Z"
   },
   {
    "duration": 12,
    "start_time": "2022-05-03T16:45:38.040Z"
   },
   {
    "duration": 1333,
    "start_time": "2022-10-23T19:54:14.355Z"
   },
   {
    "duration": 205,
    "start_time": "2022-10-23T19:54:31.605Z"
   },
   {
    "duration": 17,
    "start_time": "2022-10-23T19:54:49.900Z"
   },
   {
    "duration": 26,
    "start_time": "2022-10-23T19:55:06.550Z"
   },
   {
    "duration": 12,
    "start_time": "2022-10-23T21:58:51.199Z"
   },
   {
    "duration": 4,
    "start_time": "2022-10-23T21:58:57.493Z"
   },
   {
    "duration": 4,
    "start_time": "2022-10-23T21:59:57.164Z"
   },
   {
    "duration": 17,
    "start_time": "2022-10-23T22:01:08.665Z"
   },
   {
    "duration": 20,
    "start_time": "2022-10-23T22:03:59.984Z"
   },
   {
    "duration": 16,
    "start_time": "2022-10-23T22:06:06.150Z"
   },
   {
    "duration": 14,
    "start_time": "2022-10-23T22:07:34.967Z"
   },
   {
    "duration": 13,
    "start_time": "2022-10-23T22:07:41.270Z"
   },
   {
    "duration": 22,
    "start_time": "2022-10-23T22:12:36.250Z"
   },
   {
    "duration": 1311,
    "start_time": "2022-10-24T17:52:27.196Z"
   },
   {
    "duration": 212,
    "start_time": "2022-10-24T17:52:28.509Z"
   },
   {
    "duration": 18,
    "start_time": "2022-10-24T17:52:28.723Z"
   },
   {
    "duration": 14,
    "start_time": "2022-10-24T17:52:28.744Z"
   },
   {
    "duration": 4,
    "start_time": "2022-10-24T17:52:28.760Z"
   },
   {
    "duration": 6,
    "start_time": "2022-10-24T17:52:28.765Z"
   },
   {
    "duration": 18,
    "start_time": "2022-10-24T17:52:28.772Z"
   },
   {
    "duration": 50,
    "start_time": "2022-10-24T17:52:28.791Z"
   },
   {
    "duration": 16,
    "start_time": "2022-10-24T17:52:28.842Z"
   },
   {
    "duration": 12,
    "start_time": "2022-10-24T17:52:28.860Z"
   },
   {
    "duration": 12,
    "start_time": "2022-10-24T17:52:28.874Z"
   },
   {
    "duration": 52,
    "start_time": "2022-10-24T17:52:28.887Z"
   },
   {
    "duration": 37,
    "start_time": "2022-10-24T17:52:35.075Z"
   },
   {
    "duration": 23,
    "start_time": "2022-10-24T18:09:02.170Z"
   },
   {
    "duration": 17,
    "start_time": "2022-10-24T18:09:44.909Z"
   },
   {
    "duration": 8,
    "start_time": "2022-10-24T18:11:08.896Z"
   },
   {
    "duration": 11,
    "start_time": "2022-10-24T18:11:57.089Z"
   },
   {
    "duration": 17,
    "start_time": "2022-10-24T18:37:12.806Z"
   },
   {
    "duration": 26,
    "start_time": "2022-10-24T18:37:20.355Z"
   },
   {
    "duration": 17,
    "start_time": "2022-10-24T18:43:10.851Z"
   },
   {
    "duration": 18,
    "start_time": "2022-10-24T18:46:28.394Z"
   },
   {
    "duration": 8,
    "start_time": "2022-10-24T19:31:46.851Z"
   },
   {
    "duration": 271,
    "start_time": "2022-10-24T19:32:07.768Z"
   },
   {
    "duration": 338,
    "start_time": "2022-10-24T19:33:48.849Z"
   },
   {
    "duration": 309,
    "start_time": "2022-10-24T21:04:13.138Z"
   },
   {
    "duration": 125,
    "start_time": "2022-10-24T21:08:37.304Z"
   },
   {
    "duration": 9,
    "start_time": "2022-10-24T21:12:04.240Z"
   },
   {
    "duration": 43,
    "start_time": "2022-10-24T21:16:33.880Z"
   },
   {
    "duration": 293,
    "start_time": "2022-10-24T21:16:54.838Z"
   },
   {
    "duration": 20,
    "start_time": "2022-10-24T21:25:36.478Z"
   },
   {
    "duration": 211,
    "start_time": "2022-10-24T21:31:57.139Z"
   },
   {
    "duration": 190,
    "start_time": "2022-10-24T21:33:40.973Z"
   },
   {
    "duration": 17,
    "start_time": "2022-10-24T21:35:17.489Z"
   },
   {
    "duration": 754,
    "start_time": "2022-10-24T21:36:09.275Z"
   },
   {
    "duration": 75,
    "start_time": "2022-10-24T21:39:11.486Z"
   },
   {
    "duration": 67,
    "start_time": "2022-10-24T21:39:32.991Z"
   },
   {
    "duration": 7,
    "start_time": "2022-10-24T21:40:19.107Z"
   },
   {
    "duration": 8,
    "start_time": "2022-10-24T21:41:13.870Z"
   },
   {
    "duration": 7,
    "start_time": "2022-10-24T21:46:21.392Z"
   },
   {
    "duration": 16,
    "start_time": "2022-10-24T21:55:34.872Z"
   },
   {
    "duration": 671,
    "start_time": "2022-10-24T21:56:30.629Z"
   },
   {
    "duration": 91,
    "start_time": "2022-10-24T21:58:48.067Z"
   },
   {
    "duration": 8,
    "start_time": "2022-10-24T21:59:05.076Z"
   },
   {
    "duration": 11,
    "start_time": "2022-10-24T22:08:21.160Z"
   },
   {
    "duration": 27,
    "start_time": "2022-10-24T22:20:03.305Z"
   },
   {
    "duration": 27,
    "start_time": "2022-10-24T22:26:46.949Z"
   },
   {
    "duration": 25,
    "start_time": "2022-10-24T22:54:55.102Z"
   },
   {
    "duration": 9,
    "start_time": "2022-10-24T23:18:54.469Z"
   },
   {
    "duration": 8,
    "start_time": "2022-10-24T23:25:51.530Z"
   },
   {
    "duration": 7,
    "start_time": "2022-10-24T23:28:15.833Z"
   },
   {
    "duration": 101,
    "start_time": "2022-10-24T23:28:25.832Z"
   },
   {
    "duration": 7,
    "start_time": "2022-10-24T23:28:37.219Z"
   },
   {
    "duration": 6,
    "start_time": "2022-10-24T23:28:53.484Z"
   },
   {
    "duration": 6,
    "start_time": "2022-10-24T23:29:26.512Z"
   },
   {
    "duration": 6,
    "start_time": "2022-10-24T23:29:41.859Z"
   },
   {
    "duration": 8,
    "start_time": "2022-10-24T23:32:04.161Z"
   },
   {
    "duration": 66,
    "start_time": "2022-10-24T23:33:39.439Z"
   },
   {
    "duration": 76,
    "start_time": "2022-10-24T23:33:48.525Z"
   },
   {
    "duration": 8,
    "start_time": "2022-10-24T23:33:53.401Z"
   },
   {
    "duration": 1159,
    "start_time": "2022-10-25T00:30:07.688Z"
   },
   {
    "duration": 66,
    "start_time": "2022-10-25T00:30:08.849Z"
   },
   {
    "duration": 17,
    "start_time": "2022-10-25T00:30:08.917Z"
   },
   {
    "duration": 14,
    "start_time": "2022-10-25T00:30:08.936Z"
   },
   {
    "duration": 4,
    "start_time": "2022-10-25T00:30:08.952Z"
   },
   {
    "duration": 8,
    "start_time": "2022-10-25T00:30:08.958Z"
   },
   {
    "duration": 17,
    "start_time": "2022-10-25T00:30:08.968Z"
   },
   {
    "duration": 49,
    "start_time": "2022-10-25T00:30:08.987Z"
   },
   {
    "duration": 18,
    "start_time": "2022-10-25T00:30:09.038Z"
   },
   {
    "duration": 14,
    "start_time": "2022-10-25T00:30:09.059Z"
   },
   {
    "duration": 16,
    "start_time": "2022-10-25T00:30:09.075Z"
   },
   {
    "duration": 56,
    "start_time": "2022-10-25T00:30:09.092Z"
   },
   {
    "duration": 30,
    "start_time": "2022-10-25T00:30:09.149Z"
   },
   {
    "duration": 9,
    "start_time": "2022-10-25T00:30:09.181Z"
   },
   {
    "duration": 38,
    "start_time": "2022-10-25T00:30:09.192Z"
   },
   {
    "duration": 31,
    "start_time": "2022-10-25T00:30:09.232Z"
   },
   {
    "duration": 37,
    "start_time": "2022-10-25T00:30:09.265Z"
   },
   {
    "duration": 20,
    "start_time": "2022-10-25T00:30:09.304Z"
   },
   {
    "duration": 23,
    "start_time": "2022-10-25T00:30:09.326Z"
   },
   {
    "duration": 12,
    "start_time": "2022-10-25T00:30:09.352Z"
   },
   {
    "duration": 367,
    "start_time": "2022-10-25T00:30:09.366Z"
   },
   {
    "duration": 300,
    "start_time": "2022-10-25T00:30:09.736Z"
   },
   {
    "duration": 135,
    "start_time": "2022-10-25T00:30:10.038Z"
   },
   {
    "duration": 9,
    "start_time": "2022-10-25T00:30:10.175Z"
   },
   {
    "duration": 61,
    "start_time": "2022-10-25T00:30:10.186Z"
   },
   {
    "duration": 298,
    "start_time": "2022-10-25T00:30:10.249Z"
   },
   {
    "duration": 19,
    "start_time": "2022-10-25T00:30:10.549Z"
   },
   {
    "duration": 190,
    "start_time": "2022-10-25T00:30:10.571Z"
   },
   {
    "duration": 190,
    "start_time": "2022-10-25T00:30:10.763Z"
   },
   {
    "duration": 16,
    "start_time": "2022-10-25T00:30:10.956Z"
   },
   {
    "duration": 751,
    "start_time": "2022-10-25T00:30:10.974Z"
   },
   {
    "duration": 6,
    "start_time": "2022-10-25T00:30:11.727Z"
   },
   {
    "duration": 30,
    "start_time": "2022-10-25T00:30:11.735Z"
   },
   {
    "duration": 672,
    "start_time": "2022-10-25T00:30:11.767Z"
   },
   {
    "duration": 8,
    "start_time": "2022-10-25T00:30:12.441Z"
   },
   {
    "duration": 11,
    "start_time": "2022-10-25T00:30:12.451Z"
   },
   {
    "duration": 60,
    "start_time": "2022-10-25T00:30:12.464Z"
   },
   {
    "duration": 31,
    "start_time": "2022-10-25T00:30:12.526Z"
   },
   {
    "duration": 22,
    "start_time": "2022-10-25T00:30:12.559Z"
   },
   {
    "duration": 8,
    "start_time": "2022-10-25T00:30:12.583Z"
   },
   {
    "duration": 38,
    "start_time": "2022-10-25T00:30:12.592Z"
   },
   {
    "duration": 11,
    "start_time": "2022-10-25T00:30:12.631Z"
   },
   {
    "duration": 8,
    "start_time": "2022-10-25T00:30:12.644Z"
   }
  ],
  "kernelspec": {
   "display_name": "Python 3 (ipykernel)",
   "language": "python",
   "name": "python3"
  },
  "language_info": {
   "codemirror_mode": {
    "name": "ipython",
    "version": 3
   },
   "file_extension": ".py",
   "mimetype": "text/x-python",
   "name": "python",
   "nbconvert_exporter": "python",
   "pygments_lexer": "ipython3",
   "version": "3.9.5"
  },
  "toc": {
   "base_numbering": 1,
   "nav_menu": {},
   "number_sections": true,
   "sideBar": true,
   "skip_h1_title": true,
   "title_cell": "Table of Contents",
   "title_sidebar": "Contents",
   "toc_cell": true,
   "toc_position": {
    "height": "calc(100% - 180px)",
    "left": "10px",
    "top": "150px",
    "width": "223px"
   },
   "toc_section_display": true,
   "toc_window_display": true
  }
 },
 "nbformat": 4,
 "nbformat_minor": 5
}
